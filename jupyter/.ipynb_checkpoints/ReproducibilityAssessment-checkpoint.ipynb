{
 "cells": [
  {
   "cell_type": "code",
   "execution_count": 1,
   "metadata": {},
   "outputs": [],
   "source": [
    "import numpy as np\n",
    "import pandas as pd\n",
    "from pyirr import intraclass_correlation\n",
    "pd.options.display.max_rows = 200\n",
    "import matplotlib.pyplot as plt\n",
    "import seaborn as sns\n",
    "import copy\n",
    "sns.set_style('whitegrid')"
   ]
  },
  {
   "cell_type": "code",
   "execution_count": 2,
   "metadata": {
    "scrolled": false
   },
   "outputs": [],
   "source": [
    "# load data\n",
    "# df = pd.read_csv('/Users/morton/Dicom Files/RADSARC_R/XNAT/extractions/extractions__20220910_1006_allRegions/radiomicFeatures/radiomicFeatures.csv')\n",
    "df = pd.read_csv('/Users/morton/Dicom Files/RADSARC_R/XNAT/extractions/extractions__20221109_2030_allRegions/radiomicFeatures/radiomicFeatures.csv')\n",
    "df.drop(list(df.filter(regex = 'source')), axis = 1, inplace = True)\n",
    "df.drop(list(df.filter(regex = 'diagnostic')), axis = 1, inplace = True)\n",
    "\n",
    "# dfRep = pd.read_csv('/Users/morton/Dicom Files/RADSARC_R/XNAT/extractions/extractions__20220914_1117_repro/radiomicFeatures/radiomicFeatures.csv')\n",
    "dfRep = pd.read_csv('/Users/morton/Dicom Files/RADSARC_R/XNAT/extractions/extractions__20221109_1137_repro/radiomicFeatures/radiomicFeatures.csv')\n",
    "dfRep.drop(list(dfRep.filter(regex = 'source')), axis = 1, inplace = True)\n",
    "dfRep.drop(list(dfRep.filter(regex = 'diagnostic')), axis = 1, inplace = True)\n",
    "\n",
    "subjectIDs = df.merge(dfRep, on='StudyPatientName').StudyPatientName\n",
    "\n",
    "# select rows and make sure they are both sorted on SubjectID\n",
    "df = df.loc[df['StudyPatientName'].isin(subjectIDs)]\n",
    "df.sort_values('StudyPatientName', axis=0, inplace=True)\n",
    "\n",
    "dfRep = dfRep.loc[dfRep['StudyPatientName'].isin(subjectIDs)]\n",
    "dfRep.sort_values('StudyPatientName', axis=0, inplace=True)\n",
    "\n",
    "# remove texture features\n",
    "# groups = 'shape|firstorder|sarcomaFeature|StudyPatientName'\n",
    "# df = df.filter(regex = groups)\n",
    "# dfRep = dfRep.filter(regex = groups)\n",
    "\n",
    "# remove high/mid/low_enhancing features\n",
    "df.drop(list(df.filter(regex = 'low_enhancing_original')), axis = 1, inplace = True)\n",
    "dfRep.drop(list(dfRep.filter(regex = 'low_enhancing_original')), axis = 1, inplace = True)\n",
    "df.drop(list(df.filter(regex = 'mid_enhancing_original')), axis = 1, inplace = True)\n",
    "dfRep.drop(list(dfRep.filter(regex = 'mid_enhancing_original')), axis = 1, inplace = True)\n",
    "df.drop(list(df.filter(regex = 'high_enhancing_original')), axis = 1, inplace = True)\n",
    "dfRep.drop(list(dfRep.filter(regex = 'high_enhancing_original')), axis = 1, inplace = True)\n",
    "\n",
    "# remove these features\n",
    "df.drop(list(df.filter(regex = 'calcificationDeleted')), axis = 1, inplace = True)\n",
    "dfRep.drop(list(dfRep.filter(regex = 'calcificationDeleted')), axis = 1, inplace = True)\n",
    "\n",
    "df.reset_index(inplace=True)\n",
    "dfRep.reset_index(inplace=True)\n",
    "\n",
    "df = df.rename(columns=lambda x:x.replace('lesion_original_',''))\n",
    "dfRep = dfRep.rename(columns=lambda x:x.replace('lesion_original_',''))"
   ]
  },
  {
   "cell_type": "code",
   "execution_count": 3,
   "metadata": {},
   "outputs": [],
   "source": [
    "# take logs of some features\n",
    "logFeatures = ['shape_MeshVolume', 'shape_SurfaceArea', 'shape_SurfaceVolumeRatio', 'shape_VoxelVolume', \n",
    "               'firstorder_Energy', 'firstorder_TotalEnergy', 'firstorder_Variance']\n",
    "for feat in df.columns:\n",
    "    if any([y in feat for y in logFeatures]):\n",
    "        df.loc[:,feat + '_log10'] = np.log10(df[feat])\n",
    "        dfRep.loc[:,feat + '_log10'] = np.log10(dfRep[feat])"
   ]
  },
  {
   "cell_type": "code",
   "execution_count": 4,
   "metadata": {},
   "outputs": [
    {
     "name": "stdout",
     "output_type": "stream",
     "text": [
      "Group = VolumeFraction: # features with ICC > 0.75 = 4/4\n"
     ]
    },
    {
     "data": {
      "text/html": [
       "<style  type=\"text/css\" >\n",
       "</style><table id=\"T_c3293046_60de_11ed_a6a5_784f437c194a\" ><thead>    <tr>        <th class=\"col_heading level0 col0\" >Feature</th>        <th class=\"col_heading level0 col1\" >ICC</th>    </tr></thead><tbody>\n",
       "                <tr>\n",
       "                                <td id=\"T_c3293046_60de_11ed_a6a5_784f437c194arow0_col0\" class=\"data row0 col0\" >lesion_sarcomaFeature_high enhancingVolumeFraction</td>\n",
       "                        <td id=\"T_c3293046_60de_11ed_a6a5_784f437c194arow0_col1\" class=\"data row0 col1\" >0.999634</td>\n",
       "            </tr>\n",
       "            <tr>\n",
       "                                <td id=\"T_c3293046_60de_11ed_a6a5_784f437c194arow1_col0\" class=\"data row1 col0\" >lesion_sarcomaFeature_calcificationVolumeFraction</td>\n",
       "                        <td id=\"T_c3293046_60de_11ed_a6a5_784f437c194arow1_col1\" class=\"data row1 col1\" >0.999527</td>\n",
       "            </tr>\n",
       "            <tr>\n",
       "                                <td id=\"T_c3293046_60de_11ed_a6a5_784f437c194arow2_col0\" class=\"data row2 col0\" >lesion_sarcomaFeature_low enhancingVolumeFraction</td>\n",
       "                        <td id=\"T_c3293046_60de_11ed_a6a5_784f437c194arow2_col1\" class=\"data row2 col1\" >0.999387</td>\n",
       "            </tr>\n",
       "            <tr>\n",
       "                                <td id=\"T_c3293046_60de_11ed_a6a5_784f437c194arow3_col0\" class=\"data row3 col0\" >lesion_sarcomaFeature_mid enhancingVolumeFraction</td>\n",
       "                        <td id=\"T_c3293046_60de_11ed_a6a5_784f437c194arow3_col1\" class=\"data row3 col1\" >0.998163</td>\n",
       "            </tr>\n",
       "    </tbody></table>"
      ],
      "text/plain": [
       "<pandas.io.formats.style.Styler at 0x7fac5b70b0b8>"
      ]
     },
     "metadata": {},
     "output_type": "display_data"
    },
    {
     "name": "stdout",
     "output_type": "stream",
     "text": [
      "\n",
      "\n",
      "\n",
      "\n",
      "Group = shape       : # features with ICC > 0.75 = 18/18\n"
     ]
    },
    {
     "data": {
      "text/html": [
       "<style  type=\"text/css\" >\n",
       "</style><table id=\"T_c32d2234_60de_11ed_9101_784f437c194a\" ><thead>    <tr>        <th class=\"col_heading level0 col0\" >Feature</th>        <th class=\"col_heading level0 col1\" >ICC</th>    </tr></thead><tbody>\n",
       "        </tbody></table>"
      ],
      "text/plain": [
       "<pandas.io.formats.style.Styler at 0x7fac5b5b3860>"
      ]
     },
     "metadata": {},
     "output_type": "display_data"
    },
    {
     "name": "stdout",
     "output_type": "stream",
     "text": [
      "\n",
      "\n",
      "\n",
      "\n",
      "Group = firstorder  : # features with ICC > 0.75 = 20/21\n"
     ]
    },
    {
     "data": {
      "text/html": [
       "<style  type=\"text/css\" >\n",
       "</style><table id=\"T_c32dfa40_60de_11ed_9641_784f437c194a\" ><thead>    <tr>        <th class=\"col_heading level0 col0\" >Feature</th>        <th class=\"col_heading level0 col1\" >ICC</th>    </tr></thead><tbody>\n",
       "                <tr>\n",
       "                                <td id=\"T_c32dfa40_60de_11ed_9641_784f437c194arow0_col0\" class=\"data row0 col0\" >firstorder_Minimum</td>\n",
       "                        <td id=\"T_c32dfa40_60de_11ed_9641_784f437c194arow0_col1\" class=\"data row0 col1\" >0.558630</td>\n",
       "            </tr>\n",
       "    </tbody></table>"
      ],
      "text/plain": [
       "<pandas.io.formats.style.Styler at 0x7fac544b7588>"
      ]
     },
     "metadata": {},
     "output_type": "display_data"
    },
    {
     "name": "stdout",
     "output_type": "stream",
     "text": [
      "\n",
      "\n",
      "\n",
      "\n",
      "Group = texture     : # features with ICC > 0.75 = 54/73\n"
     ]
    },
    {
     "data": {
      "text/html": [
       "<style  type=\"text/css\" >\n",
       "</style><table id=\"T_c32ff106_60de_11ed_9a0d_784f437c194a\" ><thead>    <tr>        <th class=\"col_heading level0 col0\" >Feature</th>        <th class=\"col_heading level0 col1\" >ICC</th>    </tr></thead><tbody>\n",
       "                <tr>\n",
       "                                <td id=\"T_c32ff106_60de_11ed_9a0d_784f437c194arow0_col0\" class=\"data row0 col0\" >glszm_SmallAreaLowGrayLevelEmphasis</td>\n",
       "                        <td id=\"T_c32ff106_60de_11ed_9a0d_784f437c194arow0_col1\" class=\"data row0 col1\" >0.709189</td>\n",
       "            </tr>\n",
       "            <tr>\n",
       "                                <td id=\"T_c32ff106_60de_11ed_9a0d_784f437c194arow1_col0\" class=\"data row1 col0\" >glrlm_ShortRunLowGrayLevelEmphasis</td>\n",
       "                        <td id=\"T_c32ff106_60de_11ed_9a0d_784f437c194arow1_col1\" class=\"data row1 col1\" >0.683499</td>\n",
       "            </tr>\n",
       "            <tr>\n",
       "                                <td id=\"T_c32ff106_60de_11ed_9a0d_784f437c194arow2_col0\" class=\"data row2 col0\" >gldm_LowGrayLevelEmphasis</td>\n",
       "                        <td id=\"T_c32ff106_60de_11ed_9a0d_784f437c194arow2_col1\" class=\"data row2 col1\" >0.625164</td>\n",
       "            </tr>\n",
       "            <tr>\n",
       "                                <td id=\"T_c32ff106_60de_11ed_9a0d_784f437c194arow3_col0\" class=\"data row3 col0\" >glrlm_LowGrayLevelRunEmphasis</td>\n",
       "                        <td id=\"T_c32ff106_60de_11ed_9a0d_784f437c194arow3_col1\" class=\"data row3 col1\" >0.610192</td>\n",
       "            </tr>\n",
       "            <tr>\n",
       "                                <td id=\"T_c32ff106_60de_11ed_9a0d_784f437c194arow4_col0\" class=\"data row4 col0\" >gldm_LargeDependenceLowGrayLevelEmphasis</td>\n",
       "                        <td id=\"T_c32ff106_60de_11ed_9a0d_784f437c194arow4_col1\" class=\"data row4 col1\" >0.572606</td>\n",
       "            </tr>\n",
       "            <tr>\n",
       "                                <td id=\"T_c32ff106_60de_11ed_9a0d_784f437c194arow5_col0\" class=\"data row5 col0\" >glszm_LowGrayLevelZoneEmphasis</td>\n",
       "                        <td id=\"T_c32ff106_60de_11ed_9a0d_784f437c194arow5_col1\" class=\"data row5 col1\" >0.540183</td>\n",
       "            </tr>\n",
       "            <tr>\n",
       "                                <td id=\"T_c32ff106_60de_11ed_9a0d_784f437c194arow6_col0\" class=\"data row6 col0\" >glrlm_LongRunHighGrayLevelEmphasis</td>\n",
       "                        <td id=\"T_c32ff106_60de_11ed_9a0d_784f437c194arow6_col1\" class=\"data row6 col1\" >0.527294</td>\n",
       "            </tr>\n",
       "            <tr>\n",
       "                                <td id=\"T_c32ff106_60de_11ed_9a0d_784f437c194arow7_col0\" class=\"data row7 col0\" >glrlm_LongRunLowGrayLevelEmphasis</td>\n",
       "                        <td id=\"T_c32ff106_60de_11ed_9a0d_784f437c194arow7_col1\" class=\"data row7 col1\" >0.434403</td>\n",
       "            </tr>\n",
       "            <tr>\n",
       "                                <td id=\"T_c32ff106_60de_11ed_9a0d_784f437c194arow8_col0\" class=\"data row8 col0\" >gldm_LargeDependenceHighGrayLevelEmphasis</td>\n",
       "                        <td id=\"T_c32ff106_60de_11ed_9a0d_784f437c194arow8_col1\" class=\"data row8 col1\" >0.418765</td>\n",
       "            </tr>\n",
       "            <tr>\n",
       "                                <td id=\"T_c32ff106_60de_11ed_9a0d_784f437c194arow9_col0\" class=\"data row9 col0\" >ngtdm_Busyness</td>\n",
       "                        <td id=\"T_c32ff106_60de_11ed_9a0d_784f437c194arow9_col1\" class=\"data row9 col1\" >0.414329</td>\n",
       "            </tr>\n",
       "            <tr>\n",
       "                                <td id=\"T_c32ff106_60de_11ed_9a0d_784f437c194arow10_col0\" class=\"data row10 col0\" >glcm_JointAverage</td>\n",
       "                        <td id=\"T_c32ff106_60de_11ed_9a0d_784f437c194arow10_col1\" class=\"data row10 col1\" >0.406001</td>\n",
       "            </tr>\n",
       "            <tr>\n",
       "                                <td id=\"T_c32ff106_60de_11ed_9a0d_784f437c194arow11_col0\" class=\"data row11 col0\" >glszm_HighGrayLevelZoneEmphasis</td>\n",
       "                        <td id=\"T_c32ff106_60de_11ed_9a0d_784f437c194arow11_col1\" class=\"data row11 col1\" >0.299947</td>\n",
       "            </tr>\n",
       "            <tr>\n",
       "                                <td id=\"T_c32ff106_60de_11ed_9a0d_784f437c194arow12_col0\" class=\"data row12 col0\" >glszm_SmallAreaHighGrayLevelEmphasis</td>\n",
       "                        <td id=\"T_c32ff106_60de_11ed_9a0d_784f437c194arow12_col1\" class=\"data row12 col1\" >0.297476</td>\n",
       "            </tr>\n",
       "            <tr>\n",
       "                                <td id=\"T_c32ff106_60de_11ed_9a0d_784f437c194arow13_col0\" class=\"data row13 col0\" >glcm_Autocorrelation</td>\n",
       "                        <td id=\"T_c32ff106_60de_11ed_9a0d_784f437c194arow13_col1\" class=\"data row13 col1\" >0.287483</td>\n",
       "            </tr>\n",
       "            <tr>\n",
       "                                <td id=\"T_c32ff106_60de_11ed_9a0d_784f437c194arow14_col0\" class=\"data row14 col0\" >gldm_HighGrayLevelEmphasis</td>\n",
       "                        <td id=\"T_c32ff106_60de_11ed_9a0d_784f437c194arow14_col1\" class=\"data row14 col1\" >0.287348</td>\n",
       "            </tr>\n",
       "            <tr>\n",
       "                                <td id=\"T_c32ff106_60de_11ed_9a0d_784f437c194arow15_col0\" class=\"data row15 col0\" >glrlm_HighGrayLevelRunEmphasis</td>\n",
       "                        <td id=\"T_c32ff106_60de_11ed_9a0d_784f437c194arow15_col1\" class=\"data row15 col1\" >0.286137</td>\n",
       "            </tr>\n",
       "            <tr>\n",
       "                                <td id=\"T_c32ff106_60de_11ed_9a0d_784f437c194arow16_col0\" class=\"data row16 col0\" >glszm_LargeAreaLowGrayLevelEmphasis</td>\n",
       "                        <td id=\"T_c32ff106_60de_11ed_9a0d_784f437c194arow16_col1\" class=\"data row16 col1\" >0.281089</td>\n",
       "            </tr>\n",
       "            <tr>\n",
       "                                <td id=\"T_c32ff106_60de_11ed_9a0d_784f437c194arow17_col0\" class=\"data row17 col0\" >gldm_SmallDependenceHighGrayLevelEmphasis</td>\n",
       "                        <td id=\"T_c32ff106_60de_11ed_9a0d_784f437c194arow17_col1\" class=\"data row17 col1\" >0.243473</td>\n",
       "            </tr>\n",
       "            <tr>\n",
       "                                <td id=\"T_c32ff106_60de_11ed_9a0d_784f437c194arow18_col0\" class=\"data row18 col0\" >glrlm_ShortRunHighGrayLevelEmphasis</td>\n",
       "                        <td id=\"T_c32ff106_60de_11ed_9a0d_784f437c194arow18_col1\" class=\"data row18 col1\" >0.234371</td>\n",
       "            </tr>\n",
       "    </tbody></table>"
      ],
      "text/plain": [
       "<pandas.io.formats.style.Styler at 0x7fac5b199550>"
      ]
     },
     "metadata": {},
     "output_type": "display_data"
    }
   ],
   "source": [
    "iccValues = []\n",
    "featNames = []\n",
    "for col in df.columns:\n",
    "    if col == 'StudyPatientName' or col=='index':\n",
    "        continue\n",
    "    data = np.stack((df[col], dfRep[col]), axis=1)\n",
    "    featNames.append(col)\n",
    "    iccValues.append(intraclass_correlation(data, \"twoway\", \"agreement\").value)\n",
    "iccDf = pd.DataFrame({'Feature':featNames, 'ICC':iccValues})\n",
    "\n",
    "# display for feature with ICC under some threshold\n",
    "\n",
    "iccThreshold = 0.75\n",
    "\n",
    "iccDfgroup = iccDf.loc[iccDf['Feature'].str.contains('VolumeFraction'),:]\n",
    "\n",
    "print('Group = ' + str('VolumeFraction').ljust(12) + ': # features with ICC > ' + str(iccThreshold) + ' = ' + str(np.sum(iccDfgroup.ICC>=iccThreshold)) + '/' + str(iccDfgroup.shape[0]))\n",
    "\n",
    "iccDfgroup = iccDfgroup.sort_values('ICC', ascending=False)\n",
    "display(iccDfgroup.style.hide_index())\n",
    "print('\\n\\n\\n')\n",
    "\n",
    "\n",
    "for group in ['shape', 'firstorder']:\n",
    "    iccDfgroup = iccDf[iccDf['Feature'].str.contains(group)]\n",
    "    \n",
    "    print('Group = ' + str(group).ljust(12) + ': # features with ICC > ' + str(iccThreshold) + ' = ' + str(np.sum(iccDfgroup.ICC>=iccThreshold)) + '/' + str(iccDfgroup.shape[0]))\n",
    "\n",
    "    iccDfgroup = iccDfgroup.loc[iccDfgroup.ICC < iccThreshold, :]\n",
    "    iccDfgroup.sort_values('ICC', ascending=False, inplace=True)\n",
    "    display(iccDfgroup.style.hide_index())\n",
    "    print('\\n\\n\\n')\n",
    "    \n",
    "# do the same for all features except any in the groups listed (i.e. texture features)\n",
    "iccDfgroup = copy.deepcopy(iccDf)\n",
    "for group in ['VolumeFraction', 'shape', 'firstorder', 'histogram']:\n",
    "    iccDfgroup = iccDfgroup.loc[~iccDfgroup.Feature.str.contains(group),:]\n",
    "    \n",
    "print('Group = ' + 'texture'.ljust(12) + ': # features with ICC > ' + str(iccThreshold) + ' = ' + str(np.sum(iccDfgroup.ICC>=iccThreshold)) + '/' + str(iccDfgroup.shape[0]))\n",
    "\n",
    "iccDfgroup = iccDfgroup.loc[iccDfgroup.ICC < iccThreshold, :]\n",
    "iccDfgroup.sort_values('ICC', ascending=False, inplace=True)\n",
    "display(iccDfgroup.style.hide_index())\n"
   ]
  }
 ],
 "metadata": {
  "kernelspec": {
   "display_name": "Python 3",
   "language": "python",
   "name": "python3"
  },
  "language_info": {
   "codemirror_mode": {
    "name": "ipython",
    "version": 3
   },
   "file_extension": ".py",
   "mimetype": "text/x-python",
   "name": "python",
   "nbconvert_exporter": "python",
   "pygments_lexer": "ipython3",
   "version": "3.6.8"
  }
 },
 "nbformat": 4,
 "nbformat_minor": 2
}
