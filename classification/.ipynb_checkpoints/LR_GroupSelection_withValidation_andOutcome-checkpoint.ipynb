{
 "cells": [
  {
   "cell_type": "markdown",
   "metadata": {},
   "source": [
    "# Retroperitoneal sarcoma radiomics study\n",
    "# Prediction of tumour type and grade\n",
    "# Logistic regression with group selection"
   ]
  },
  {
   "cell_type": "code",
   "execution_count": 1,
   "metadata": {
    "scrolled": false
   },
   "outputs": [],
   "source": [
    "import numpy as np\n",
    "import pandas as pd\n",
    "pd.set_option('display.max_columns', 500, 'display.max_rows', 500, 'display.precision', 3)\n",
    "from sklearn.model_selection import train_test_split\n",
    "from sklearn.linear_model import LogisticRegressionCV, LogisticRegression\n",
    "from sklearn.preprocessing import StandardScaler\n",
    "from sklearn.ensemble import RandomForestClassifier\n",
    "from sklearn.metrics import roc_auc_score, make_scorer\n",
    "from sklearn.pipeline import Pipeline\n",
    "from sklearn.model_selection import KFold, StratifiedKFold, RepeatedStratifiedKFold, GridSearchCV\n",
    "from sklearn.model_selection import cross_validate\n",
    "import os, warnings, copy, sys, shutil\n",
    "import matplotlib.pyplot as plt\n",
    "import pickle\n",
    "from time import strftime, localtime\n",
    "from pyirr import intraclass_correlation\n",
    "from scipy.stats import skew\n",
    "import seaborn as sns\n",
    "from scipy.stats import mannwhitneyu\n",
    "\n",
    "rootFolder = os.path.join(os.path.expanduser(\"~\"), 'Dicom Files/RADSARC_R')\n",
    "\n",
    "# this module should be in the same folder as this notebook\n",
    "from fit_LR_groupSelection_correlationThresholds import fit_LR_groupSelection_correlationThresholds, plotResultExperiments, displayOneExperiment\n",
    "\n",
    "n_splits = 10\n",
    "n_repeats = 1\n",
    "thresholds = np.round(np.arange(0.6,1.00001,0.1), 2)\n",
    "penalty = 'l1'\n",
    "\n",
    "displayAll = True"
   ]
  },
  {
   "cell_type": "markdown",
   "metadata": {},
   "source": [
    "## Create output and copy code"
   ]
  },
  {
   "cell_type": "code",
   "execution_count": 2,
   "metadata": {
    "scrolled": false
   },
   "outputs": [],
   "source": [
    "%%capture out_stream\n",
    "\n",
    "# set output folder to None if this is a fresh run\n",
    "# set output folder to an existing location to load pre-saved results from there\n",
    "outputFolder = None #'/Users/morton/Dicom Files/RADSARC_R/XNAT/experiments/LR_GroupSelection__20220924_0958'\n",
    "\n",
    "if outputFolder is None:\n",
    "    \n",
    "    saveOutputs = True\n",
    "    \n",
    "    outputFolder = os.path.join(rootFolder, 'XNAT/experiments/LR_GroupSelection__' + strftime(\"%Y%m%d_%H%M\", localtime()))\n",
    "    os.mkdir(outputFolder)\n",
    "    os.mkdir(os.path.join(outputFolder, 'code'))\n",
    "    os.mkdir(os.path.join(outputFolder, 'figures'))\n",
    "    \n",
    "    jupyterFile = os.path.join(os.path.abspath(\"\"), 'LR_GroupSelection_withValidation.ipynb')\n",
    "    shutil.copyfile(jupyterFile, os.path.join(outputFolder, 'code', 'LR_GroupSelection_withValidation.ipynb'))\n",
    "\n",
    "    file1 = os.path.join(os.path.abspath(\"\"), 'fit_LR_groupSelection_correlationThresholds.py')\n",
    "    shutil.copyfile(file1, os.path.join(outputFolder, 'code', 'fit_LR_groupSelection_correlationThresholds.py'))\n",
    "\n",
    "    user = os.path.expanduser(\"~\")\n",
    "    file2 = os.path.join(user, 'Documents/git/git_icrpythonradiomics/machineLearning/featureSelection.py')\n",
    "    shutil.copyfile(file2, os.path.join(outputFolder, 'code', 'featureSelection.py'))\n",
    "\n",
    "else:\n",
    "    \n",
    "    saveOutputs = False"
   ]
  },
  {
   "cell_type": "markdown",
   "metadata": {},
   "source": [
    "### Utility functions"
   ]
  },
  {
   "cell_type": "code",
   "execution_count": 3,
   "metadata": {
    "scrolled": false
   },
   "outputs": [],
   "source": [
    "def groupStrsDisp(strGroups):\n",
    "    \n",
    "    def tidyGroup(strGroup):\n",
    "        if strGroup == '':\n",
    "            strGroup = 'all'\n",
    "        strGroup = strGroup.replace('glcm|gldm|glszm|glrlm|ngtdm','texture')\n",
    "        strGroup = strGroup.replace('firstorder|histogram','firstorder')\n",
    "        return strGroup\n",
    "\n",
    "    if isinstance(strGroups, str):\n",
    "        return tidyGroup(strGroups)\n",
    "    \n",
    "    if isinstance(strGroups, list):\n",
    "        return [tidyGroup(x) for x in strGroups]"
   ]
  },
  {
   "cell_type": "markdown",
   "metadata": {},
   "source": [
    "## Load data"
   ]
  },
  {
   "cell_type": "code",
   "execution_count": 4,
   "metadata": {
    "scrolled": false
   },
   "outputs": [],
   "source": [
    "# open clinical spreadsheet\n",
    "clinicalSpreadsheet = os.path.join(rootFolder, 'ClinicalData', 'Clinical data for analysis.xlsx')\n",
    "dfClinical = pd.read_excel(clinicalSpreadsheet, sheet_name='220818_Completed segs', header = 2, skiprows=[3], nrows=170, engine='openpyxl')\n",
    "dfClinical.sort_values('Anon Code', inplace=True, ignore_index=True)\n",
    "\n",
    "# simplify grade\n",
    "dfClinical['Grade_1_234'] = dfClinical['Grade']==1\n",
    "dfClinical['Grade_12_34'] = dfClinical['Grade']<=2\n",
    "\n",
    "# binarised outcome data\n",
    "cutoffYears = 1.5\n",
    "cutoffDays = cutoffYears*365\n",
    "\n",
    "# There is an error in some of the rfs data in the spreadsheet, so re-compute it here.\n",
    "# rfs = recurrence-free survival.  rfs = 1 if either arfs=1 (local recurrence) or dmfs=1 (distant recurrence)\n",
    "# and t_rfs is the min of t_arfs and t_dmfs\n",
    "dfClinical.drop(['rfs', 't_rfs'], inplace=True, axis=1)\n",
    "dfClinical['rfs'] = np.logical_or(dfClinical['arfs']==1, dfClinical['dmfs']==1).astype(int)\n",
    "dfClinical['t_rfs'] = dfClinical[['t_arfs', 't_dmfs']].min(axis=1)\n",
    "\n",
    "def binarizeOutcome(df, new_val1, new_val2, old_val2, feat_time, feat_event, new_feat_name):\n",
    "\n",
    "    df[new_feat_name] = new_val1\n",
    "    df.loc[df[feat_time] >= cutoffDays, new_feat_name] = new_val2\n",
    "    df.loc[np.logical_and(df[feat_time] < cutoffDays, df[feat_event] == old_val2), new_feat_name] = 'Unknown'\n",
    "\n",
    "binarizeOutcome(dfClinical, 'Dead', 'Alive', 'Alive', 't_os', 'os', 'os_cutoff')\n",
    "binarizeOutcome(dfClinical, 'Yes', 'No', 0, 't_dmfs', 'dmfs', 'distant_cutoff')\n",
    "binarizeOutcome(dfClinical, 'Yes', 'No', 0, 't_arfs', 'arfs', 'local_cutoff')\n",
    "binarizeOutcome(dfClinical, 'Yes', 'No', 0, 't_rfs', 'rfs', 'recurrence_cutoff')\n",
    "\n",
    "dfClinical = dfClinical[['Anon Code', \n",
    "                         'Grade_1_234', \n",
    "                         'Grade_12_34', \n",
    "                         'subtype', \n",
    "                         'os_cutoff', \n",
    "                         'distant_cutoff',\n",
    "                         'local_cutoff',\n",
    "                         'recurrence_cutoff']]\n",
    "\n",
    "\n",
    "# TEST open clinical spreadsheet\n",
    "clinicalSpreadsheetTest = os.path.join(rootFolder, 'ClinicalData', 'EORTC_Radsarc_Clindata.xlsx')\n",
    "dfClinicalTest = pd.read_excel(clinicalSpreadsheetTest, sheet_name='Completed segs_for analysis', engine='openpyxl')\n",
    "dfClinicalTest['Anon Code'] = ['EORTCRSRC_' + str(int(x)).zfill(3) for x in dfClinicalTest['PATID']]\n",
    "\n",
    "# simplify grade\n",
    "dfClinicalTest['Grade_1_234'] = dfClinicalTest['grade']==1\n",
    "dfClinicalTest['Grade_12_34'] = dfClinicalTest['grade']<=2\n",
    "\n",
    "# make rfs data\n",
    "\n",
    "dfClinicalTest['rfs'] = np.logical_or(dfClinicalTest['arfs2']==1, dfClinicalTest['dmfs']==1).astype(int)\n",
    "dfClinicalTest['t_rfs'] = dfClinicalTest[['t_arfs2', 't_dmfs']].min(axis=1)\n",
    "\n",
    "# binarised outcome data\n",
    "binarizeOutcome(dfClinicalTest, 'Dead', 'Alive', 1, 't_ss', 'ss', 'os_cutoff')\n",
    "binarizeOutcome(dfClinicalTest, 'Yes', 'No', 1, 't_dmfs', 'dmfs', 'distant_cutoff')\n",
    "binarizeOutcome(dfClinicalTest, 'Yes', 'No', 1, 't_arfs2', 'arfs2', 'local_cutoff')\n",
    "binarizeOutcome(dfClinicalTest, 'Yes', 'No', 1, 't_rfs', 'rfs', 'recurrence_cutoff')\n",
    "\n",
    "dfClinicalTest = dfClinicalTest[['Anon Code', \n",
    "                                 'Grade_1_234', \n",
    "                                 'Grade_12_34', \n",
    "                                 'subtype',\n",
    "                                 'os_cutoff', \n",
    "                                 'distant_cutoff',\n",
    "                                 'local_cutoff',\n",
    "                                 'recurrence_cutoff']]\n"
   ]
  },
  {
   "cell_type": "code",
   "execution_count": 5,
   "metadata": {
    "scrolled": false
   },
   "outputs": [],
   "source": [
    "def readRadData(folder):\n",
    "    df = pd.read_csv(os.path.join(rootFolder, 'XNAT', 'extractions', folder, 'radiomicFeatures', 'radiomicFeatures.csv'))\n",
    "    df.drop(list(df.filter(regex = 'source')), axis = 1, inplace = True)\n",
    "    df.drop(list(df.filter(regex = 'diagnostic')), axis = 1, inplace = True)\n",
    "    df.drop(list(df.filter(regex = 'histogram')), axis = 1, inplace = True)\n",
    "    return df\n",
    "\n",
    "# training\n",
    "dfRad = readRadData('extractions__20221122_1628_allRegions_volFracApprox')\n",
    "\n",
    "# reproducibility\n",
    "dfRadRep = readRadData('extractions__20221122_2037_repro_volFracApprox')\n",
    "\n",
    "# open test data\n",
    "dfRadTest = readRadData('extractions__20221125_0939_eortcTestData')"
   ]
  },
  {
   "cell_type": "markdown",
   "metadata": {},
   "source": [
    "## Compute ICCs and remove unreproducible features"
   ]
  },
  {
   "cell_type": "code",
   "execution_count": 6,
   "metadata": {
    "scrolled": false
   },
   "outputs": [],
   "source": [
    "dfRadOri = dfRad.copy()\n",
    "\n",
    "subjectIDs = dfRadOri.merge(dfRadRep, on='StudyPatientName').StudyPatientName\n",
    "\n",
    "# select rows and make sure they are both sorted on SubjectID\n",
    "dfRadOri = dfRadOri.loc[dfRadOri['StudyPatientName'].isin(subjectIDs)]\n",
    "dfRadOri.sort_values('StudyPatientName', axis=0, inplace=True)\n",
    "\n",
    "dfRadRep = dfRadRep.loc[dfRadRep['StudyPatientName'].isin(subjectIDs)]\n",
    "dfRadRep.sort_values('StudyPatientName', axis=0, inplace=True)\n",
    "\n",
    "# remove high/mid/low_enhancing features\n",
    "dfRadOri.drop(list(dfRadOri.filter(regex = 'low_enhancing_original')), axis = 1, inplace = True)\n",
    "dfRadRep.drop(list(dfRadRep.filter(regex = 'low_enhancing_original')), axis = 1, inplace = True)\n",
    "dfRadOri.drop(list(dfRadOri.filter(regex = 'mid_enhancing_original')), axis = 1, inplace = True)\n",
    "dfRadRep.drop(list(dfRadRep.filter(regex = 'mid_enhancing_original')), axis = 1, inplace = True)\n",
    "dfRadOri.drop(list(dfRadOri.filter(regex = 'high_enhancing_original')), axis = 1, inplace = True)\n",
    "dfRadRep.drop(list(dfRadRep.filter(regex = 'high_enhancing_original')), axis = 1, inplace = True)\n",
    "\n",
    "# remove these features\n",
    "dfRadOri.drop(list(dfRadOri.filter(regex = 'calcificationDeleted')), axis = 1, inplace = True)\n",
    "dfRadRep.drop(list(dfRadRep.filter(regex = 'calcificationDeleted')), axis = 1, inplace = True)\n",
    "\n",
    "dfRadOri.reset_index(inplace=True)\n",
    "dfRadRep.reset_index(inplace=True)\n",
    "\n",
    "iccValues = []\n",
    "featNames = []\n",
    "for col in dfRadOri.columns:\n",
    "    if col == 'StudyPatientName' or col=='index':\n",
    "        continue\n",
    "    data = np.stack((dfRadOri[col], dfRadRep[col]), axis=1)\n",
    "    featNames.append(col)\n",
    "    iccValues.append(intraclass_correlation(data, \"twoway\", \"agreement\").value)\n",
    "iccDf = pd.DataFrame({'Feature':featNames, 'ICC':iccValues})\n",
    "\n",
    "iccThreshold = 0.75\n",
    "\n",
    "reproducibleFeatures = list(iccDf.Feature[iccDf.ICC>iccThreshold])\n",
    "reproducibleFeatures.append('StudyPatientName')\n",
    "\n",
    "dfRad = dfRad.filter(reproducibleFeatures)\n",
    "dfRadTest = dfRadTest.filter(reproducibleFeatures)"
   ]
  },
  {
   "cell_type": "markdown",
   "metadata": {},
   "source": [
    "## Log transform positive skewed parameters"
   ]
  },
  {
   "cell_type": "code",
   "execution_count": 7,
   "metadata": {
    "scrolled": false
   },
   "outputs": [],
   "source": [
    "def makeLog(df, feat, offset=0):\n",
    "    df[feat+'_log'] = np.log(df[feat]+offset)\n",
    "    df.drop(feat, axis=1, inplace=True)\n",
    "    return df\n",
    "\n",
    "for feat in dfRad.filter(regex='lesion_original', axis=1).columns:\n",
    "    if skew(dfRad[feat])>3 and np.all(dfRad[feat]>0):\n",
    "        dfRad = makeLog(dfRad, feat)\n",
    "        dfRadTest = makeLog(dfRadTest, feat)\n",
    "\n",
    "# this is heavily skewed, but has minimum value -87\n",
    "dfRad = makeLog(dfRad, 'lesion_original_glcm_ClusterShade', offset=90)\n",
    "dfRadTest = makeLog(dfRadTest, 'lesion_original_glcm_ClusterShade', offset=90)"
   ]
  },
  {
   "cell_type": "code",
   "execution_count": 8,
   "metadata": {
    "scrolled": true
   },
   "outputs": [],
   "source": [
    "def featureClassDensities(df_Train, df_Test, featureClass, spSize):\n",
    "    f,a = plt.subplots(spSize[0], spSize[1], figsize=(20,12))\n",
    "    a = a.ravel()\n",
    "    for n, feat in enumerate(df_Train.filter(regex = featureClass, axis = 1).columns):\n",
    "        df1 = pd.DataFrame(df_Train[feat].copy())\n",
    "        df1['Data'] = 'train'\n",
    "        df2 = pd.DataFrame(df_Test[feat].copy())\n",
    "        df2['Data'] = 'test'\n",
    "        dfPlot = pd.concat([df1, df2])\n",
    "        dfPlot.reset_index(drop=True, inplace=True)\n",
    "        featPlot = feat.replace('lesion_original_' + featureClass + '_','')\n",
    "        dfPlot.rename(columns={feat:featPlot}, inplace=True)\n",
    "        sns.kdeplot(data=dfPlot, x=featPlot, hue='Data', ax = a[n], common_grid=True, common_norm=False)\n",
    "\n",
    "if False:\n",
    "    featureClassDensities(dfRad.filter(regex='lesion_original'), dfRadTest.filter(regex='lesion_original'), 'shape', (3, 5))\n",
    "    featureClassDensities(dfRad.filter(regex='lesion_original'), dfRadTest.filter(regex='lesion_original'), 'firstorder', (3,6))\n",
    "    featureClassDensities(dfRad.filter(regex='lesion_original'), dfRadTest.filter(regex='lesion_original'), 'glcm', (4,6))\n",
    "    featureClassDensities(dfRad.filter(regex='lesion_original'), dfRadTest.filter(regex='lesion_original'), 'glrlm', (4,4))\n",
    "    featureClassDensities(dfRad.filter(regex='lesion_original'), dfRadTest.filter(regex='lesion_original'), 'glszm', (4,4))\n",
    "    featureClassDensities(dfRad.filter(regex='lesion_original'), dfRadTest.filter(regex='lesion_original'), 'gldm', (3,5))\n",
    "    featureClassDensities(dfRad.filter(regex='lesion_original'), dfRadTest.filter(regex='lesion_original'), 'ngtdm', (2,3))\n"
   ]
  },
  {
   "cell_type": "markdown",
   "metadata": {},
   "source": [
    "## Select targets"
   ]
  },
  {
   "cell_type": "code",
   "execution_count": 14,
   "metadata": {},
   "outputs": [],
   "source": [
    "# targets = ['subtype', 'Grade_1_234', 'Grade_12_34']\n",
    "# targets = ['os_cutoff', 'distant_cutoff', 'local_cutoff', 'recurrence_cutoff']\n",
    "targets = ['local_cutoff']"
   ]
  },
  {
   "cell_type": "markdown",
   "metadata": {},
   "source": [
    "## Run classifications"
   ]
  },
  {
   "cell_type": "code",
   "execution_count": 17,
   "metadata": {
    "scrolled": false
   },
   "outputs": [],
   "source": [
    "def prepData(dfC, dfR, target, featureSet, removeTargetUnknown=True):\n",
    "    df = dfC.merge(dfR, left_on='Anon Code', right_on='StudyPatientName')\n",
    "    df.drop('Anon Code', axis=1, inplace=True)\n",
    "    df.drop('StudyPatientName', axis=1, inplace=True)\n",
    "    df = df.filter(regex=featureSet + '|' + target)\n",
    "    if removeTargetUnknown:\n",
    "        df = df.loc[df[target] != 'Unknown',:]\n",
    "    return df\n",
    "\n",
    "def fitModelOrLoadSaved(df, target, settings, qlf):\n",
    "    \n",
    "    if os.path.exists(qlf):\n",
    "        with open(qlf, 'rb') as handle:\n",
    "            result = pickle.load(handle)\n",
    "    else:\n",
    "        result = fit_LR_groupSelection_correlationThresholds(df, target, settings)\n",
    "\n",
    "        if saveOutputs:\n",
    "            with open(qlf, 'wb') as handle:\n",
    "                pickle.dump(result, handle)\n",
    "\n",
    "    return copy.deepcopy(result)\n",
    "\n",
    "def showTrainTestResults(result):\n",
    "    \n",
    "    # find best model i.e. across all thresholds\n",
    "    AUROC_cv = np.array([np.mean(x['cv_result']['test_score']) for x in result['experiments']])\n",
    "    idx = np.argmax(AUROC_cv)\n",
    "    bestExperiment = result['experiments'][idx]\n",
    "\n",
    "    trainScore = bestExperiment['model'].predict_proba(df.drop(target, axis=1))\n",
    "    testScore = bestExperiment['model'].predict_proba(dfTest.drop(target, axis=1))\n",
    "    \n",
    "    AUROCtest = roc_auc_score(dfTest[target], testScore[:,1])\n",
    "    \n",
    "    # get p-value on test data\n",
    "    classLabels = list(set(dfTest[target]))\n",
    "    testScores0 = testScore[dfTest[target]==classLabels[0],1]\n",
    "    testScores1 = testScore[dfTest[target]==classLabels[1],1]\n",
    "    if AUROCtest>0.55:\n",
    "        _, pValue = mannwhitneyu(testScores0, testScores1, alternative='two-sided')\n",
    "        pValueStr = str(np.round(pValue,4))\n",
    "    else:\n",
    "        pValueStr = 'not computed'\n",
    "    \n",
    "    print('AUC')\n",
    "    print('train #      = ' + str(np.sum(df[target]==classLabels[0])) + ' : ' + str(np.sum(df[target]==classLabels[1])))\n",
    "    print('train resub  = ' + str(np.round(roc_auc_score(df[target], trainScore[:,1]),3)))\n",
    "    print('train CV     = ' + str(np.round(np.mean(bestExperiment['cv_result']['test_score']),3)))\n",
    "    print('\\n')\n",
    "    print('test #       = ' + str(np.sum(dfTest[target]==classLabels[0])) + ' : ' + str(np.sum(dfTest[target]==classLabels[1])))\n",
    "    print('test         = ' + str(np.round(AUROCtest,3)))\n",
    "    print('test p-value = ' + pValueStr)\n",
    "    print('\\n')\n",
    "    \n",
    "\n",
    "defaultSettings = {'n_splits':n_splits, \n",
    "                   'n_repeats':n_repeats,\n",
    "                   'thresholds':thresholds,\n",
    "                   'penalty':penalty\n",
    "                   }"
   ]
  },
  {
   "cell_type": "markdown",
   "metadata": {},
   "source": [
    "### Standard radiomics features"
   ]
  },
  {
   "cell_type": "code",
   "execution_count": 18,
   "metadata": {
    "scrolled": false
   },
   "outputs": [
    {
     "name": "stdout",
     "output_type": "stream",
     "text": [
      "local_cutoff_local_cutoff_local_cutoff_local_cutoff_local_cutoff_\n",
      "\n"
     ]
    },
    {
     "data": {
      "image/png": "[encoded data removed]",
      "text/plain": [
       "<Figure size 864x864 with 3 Axes>"
      ]
     },
     "metadata": {
      "needs_background": "light"
     },
     "output_type": "display_data"
    },
    {
     "name": "stdout",
     "output_type": "stream",
     "text": [
      "Threshold = 0.7\n",
      "AUROC (CV) = 0.51212\n",
      "\n",
      "Feature group = firstorder\n",
      "\n"
     ]
    },
    {
     "data": {
      "text/html": [
       "<style  type=\"text/css\" >\n",
       "</style><table id=\"T_81912ed8_70c4_11ed_a24c_784f437c194a\" ><thead>    <tr>        <th class=\"col_heading level0 col0\" >Feature</th>        <th class=\"col_heading level0 col1\" >Frequency</th>        <th class=\"col_heading level0 col2\" >Coef</th>    </tr></thead><tbody>\n",
       "        </tbody></table>"
      ],
      "text/plain": [
       "<pandas.io.formats.style.Styler at 0x7f8b0eef4048>"
      ]
     },
     "metadata": {},
     "output_type": "display_data"
    },
    {
     "name": "stdout",
     "output_type": "stream",
     "text": [
      "\n",
      "local_cutoff\n",
      "AUC\n",
      "train #      = 115 : 15\n",
      "train resub  = 0.5\n",
      "train CV     = 0.512\n",
      "\n",
      "\n",
      "test #       = 75 : 12\n",
      "test         = 0.5\n",
      "test p-value = not computed\n",
      "\n",
      "\n"
     ]
    }
   ],
   "source": [
    "if True:\n",
    "\n",
    "    resultStandard = {}\n",
    "    \n",
    "    for target in targets:\n",
    "        \n",
    "        print((target + '_')*5 + '\\n')\n",
    "        \n",
    "        featureSet = 'lesion_original'\n",
    "\n",
    "        df = prepData(dfClinical, dfRad, target, featureSet)\n",
    "        dfTest = prepData(dfClinicalTest, dfRadTest, target, featureSet)\n",
    "        \n",
    "        settings = defaultSettings.copy()\n",
    "        textureStr = 'glcm|gldm|glszm|glrlm|ngtdm'\n",
    "        settings['groupHierarchy'] = ['shape',\n",
    "                                      'firstorder',\n",
    "                                      textureStr,\n",
    "                                      'shape|firstorder',\n",
    "                                      'shape|' + textureStr,\n",
    "                                      'firstorder|' + textureStr,\n",
    "                                      '']\n",
    "\n",
    "        quickLoadFile = os.path.join(outputFolder, 'LR_GroupSelection_Standard_' + target + '.pickle')\n",
    "\n",
    "        resultStandard[target] = fitModelOrLoadSaved(df, target, settings, quickLoadFile)\n",
    "\n",
    "        if displayAll:\n",
    "            plotResultExperiments(resultStandard[target], \n",
    "                                  titleStr=target + ' standard radiomics features',\n",
    "                                  outputFile=os.path.join(outputFolder, 'figures', target + '_standard.pdf'))\n",
    "\n",
    "            bestCoef, pdFreq = displayOneExperiment(resultStandard[target])\n",
    "            pdFreq = pdFreq.loc[pdFreq.Coef!='',:] # trim off any coeff that aren't in the best model\n",
    "            display(pdFreq.style.hide_index())\n",
    "\n",
    "        print('\\n'+target)\n",
    "        showTrainTestResults(resultStandard[target])"
   ]
  },
  {
   "cell_type": "markdown",
   "metadata": {},
   "source": [
    "### Volume fraction and standard radiomics features"
   ]
  },
  {
   "cell_type": "code",
   "execution_count": null,
   "metadata": {
    "scrolled": false
   },
   "outputs": [
    {
     "name": "stdout",
     "output_type": "stream",
     "text": [
      "local_cutoff_local_cutoff_local_cutoff_local_cutoff_local_cutoff_local_cutoff_local_cutoff_local_cutoff_local_cutoff_local_cutoff_\n",
      "\n",
      "Threshold = 0.6\n",
      "VolumeFraction\n"
     ]
    }
   ],
   "source": [
    "if True:\n",
    "    \n",
    "    resultVolFrac = {}\n",
    "    \n",
    "    for target in targets:\n",
    "\n",
    "        print((target + '_')*5 + '\\n')\n",
    "        \n",
    "        featureSet = 'lesion_original|VolumeFraction'\n",
    "\n",
    "        df = prepData(dfClinical, dfRad, target, featureSet)\n",
    "        dfTest = prepData(dfClinicalTest, dfRadTest, target, featureSet)\n",
    "        \n",
    "        # remove one of the volume fraction features as it is co-linear with the others\n",
    "        df.drop('lesion_sarcomaFeature_mid enhancingVolumeFraction', axis=1, inplace=True)\n",
    "        dfTest.drop('lesion_sarcomaFeature_mid enhancingVolumeFraction', axis=1, inplace=True)\n",
    "\n",
    "        settings = defaultSettings.copy()\n",
    "        textureStr = 'glcm|gldm|glszm|glrlm|ngtdm'\n",
    "        settings['groupHierarchy'] = ['VolumeFraction',\n",
    "                                      'shape',\n",
    "                                      'firstorder',\n",
    "                                      textureStr,\n",
    "                                      'VolumeFraction|shape',\n",
    "                                      'VolumeFraction|firstorder',\n",
    "                                      'VolumeFraction|' + textureStr,\n",
    "                                      'shape|firstorder',\n",
    "                                      'shape|' + textureStr,\n",
    "                                      'firstorder|' + textureStr,\n",
    "                                      '']\n",
    "        settings['correlationHierarchy'] = ['VolumeFraction', 'shape', 'firstorder']\n",
    "\n",
    "        \n",
    "        quickLoadFile = os.path.join(outputFolder, 'LR_GroupSelection_VolumeFractions_' + target + '.pickle')\n",
    "\n",
    "        resultVolFrac[target] = fitModelOrLoadSaved(df, target, settings, quickLoadFile)\n",
    "\n",
    "        if displayAll:\n",
    "            plotResultExperiments(resultVolFrac[target], \n",
    "                                  titleStr = target + ' volume fraction + standard radiomics features',\n",
    "                                  outputFile=os.path.join(outputFolder, 'figures', target+'_standard_volFrac.pdf'))\n",
    "\n",
    "\n",
    "            bestCoef, pdFreq = displayOneExperiment(resultVolFrac[target])\n",
    "            pdFreq = pdFreq.loc[pdFreq.Coef!='',:] # trim off any coeff that aren't in the best model\n",
    "            display(pdFreq.style.hide_index())\n",
    "\n",
    "        print('\\n'+target)\n",
    "        showTrainTestResults(resultVolFrac[target])"
   ]
  },
  {
   "cell_type": "markdown",
   "metadata": {},
   "source": [
    "### Approx volume fraction and standard radiomics features"
   ]
  },
  {
   "cell_type": "code",
   "execution_count": null,
   "metadata": {
    "scrolled": false
   },
   "outputs": [],
   "source": [
    "if True:\n",
    "    \n",
    "    resultApproxVolFrac = {}\n",
    "    \n",
    "    for target in targets:\n",
    "\n",
    "        print((target + '_')*5 + '\\n')\n",
    "        \n",
    "        featureSet = 'lesion_original|ApproxVolFraction'\n",
    "\n",
    "        df = prepData(dfClinical, dfRad, target, featureSet)\n",
    "        dfTest = prepData(dfClinicalTest, dfRadTest, target, featureSet)\n",
    "\n",
    "        settings = defaultSettings.copy()\n",
    "        textureStr = 'glcm|gldm|glszm|glrlm|ngtdm'\n",
    "        settings['groupHierarchy'] = ['ApproxVolFraction',\n",
    "                                      'shape',\n",
    "                                      'firstorder',\n",
    "                                      textureStr,\n",
    "                                      'ApproxVolFraction|shape',\n",
    "                                      'ApproxVolFraction|firstorder',\n",
    "                                      'ApproxVolFraction|' + textureStr,\n",
    "                                      'shape|firstorder',\n",
    "                                      'shape|' + textureStr,\n",
    "                                      'firstorder|' + textureStr,\n",
    "                                      '']\n",
    "        settings['correlationHierarchy'] = ['ApproxVolFraction', 'shape', 'firstorder']\n",
    "        \n",
    "        quickLoadFile = os.path.join(outputFolder, 'LR_GroupSelection_ApproxVolFraction_' + target + '.pickle')\n",
    "\n",
    "        resultApproxVolFrac[target] = fitModelOrLoadSaved(df, target, settings, quickLoadFile)\n",
    "\n",
    "        if displayAll:\n",
    "            plotResultExperiments(resultApproxVolFrac[target], \n",
    "                                  titleStr = target + ' approx volume fraction + standard radiomics features',\n",
    "                                  outputFile=os.path.join(outputFolder, 'figures', target+'_approx_volFrac.pdf'))\n",
    "\n",
    "\n",
    "            bestCoef, pdFreq = displayOneExperiment(resultApproxVolFrac[target])\n",
    "            pdFreq = pdFreq.loc[pdFreq.Coef!='',:] # trim off any coeff that aren't in the best model\n",
    "            display(pdFreq.style.hide_index())\n",
    "\n",
    "        print('\\n'+target)\n",
    "        showTrainTestResults(resultApproxVolFrac[target])"
   ]
  },
  {
   "cell_type": "markdown",
   "metadata": {},
   "source": [
    "## Re-save the copy of this notebook once it is completed"
   ]
  },
  {
   "cell_type": "code",
   "execution_count": null,
   "metadata": {
    "scrolled": false
   },
   "outputs": [],
   "source": [
    "from IPython.display import display, Javascript\n",
    "import time\n",
    "\n",
    "# save current state of notebook and wait a bit as the actual save happens with a short delay\n",
    "display(Javascript('IPython.notebook.save_checkpoint();'))\n",
    "time.sleep(10)\n",
    "\n",
    "# copy notebook to output folder\n",
    "if saveOutputs:\n",
    "    jupyterFile = os.path.join(os.path.abspath(\"\"), 'LR_GroupSelection_withValidation.ipynb')\n",
    "    shutil.copyfile(jupyterFile, os.path.join(outputFolder, 'code', 'LR_GroupSelection_withValidation.ipynb'))"
   ]
  }
 ],
 "metadata": {
  "kernelspec": {
   "display_name": "Python 3",
   "language": "python",
   "name": "python3"
  },
  "language_info": {
   "codemirror_mode": {
    "name": "ipython",
    "version": 3
   },
   "file_extension": ".py",
   "mimetype": "text/x-python",
   "name": "python",
   "nbconvert_exporter": "python",
   "pygments_lexer": "ipython3",
   "version": "3.6.8"
  }
 },
 "nbformat": 4,
 "nbformat_minor": 2
}
