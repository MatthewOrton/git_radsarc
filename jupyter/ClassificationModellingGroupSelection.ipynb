{
 "cells": [
  {
   "cell_type": "code",
   "execution_count": 1,
   "metadata": {},
   "outputs": [],
   "source": [
    "import numpy as np\n",
    "import pandas as pd\n",
    "pd.set_option('display.max_columns', 500, 'display.max_rows', 500)\n",
    "from sklearn.model_selection import train_test_split\n",
    "from sklearn.linear_model import LogisticRegressionCV, LogisticRegression\n",
    "from sklearn.preprocessing import StandardScaler\n",
    "from sklearn.ensemble import RandomForestClassifier\n",
    "from xgboost import XGBClassifier\n",
    "from sklearn.metrics import roc_auc_score, make_scorer\n",
    "from sklearn.pipeline import Pipeline\n",
    "from sklearn.model_selection import KFold, StratifiedKFold, RepeatedStratifiedKFold, GridSearchCV\n",
    "from sklearn.model_selection import cross_validate\n",
    "import os, warnings, copy, sys\n",
    "import matplotlib.pyplot as plt\n",
    "import dill\n",
    "\n",
    "sys.path.append('/data/users/morton/git/icrpythonradiomics/machineLearning')\n",
    "from featureSelection import featureSelection_correlation, featureSelection_groupName\n"
   ]
  },
  {
   "cell_type": "code",
   "execution_count": 24,
   "metadata": {},
   "outputs": [],
   "source": [
    "# function to make group strings easier to read\n",
    "def groupStrsDisp(strGroups):\n",
    "    \n",
    "    def tidyGroup(strGroup):\n",
    "        if strGroup == '':\n",
    "            strGroup = 'all'\n",
    "        strGroup = strGroup.replace('glcm|gldm|glszm|glrlm|ngtdm','texture')\n",
    "        strGroup = strGroup.replace('firstorder|histogram','firstorder')\n",
    "        return strGroup\n",
    "\n",
    "    if isinstance(strGroups, str):\n",
    "        return tidyGroup(strGroups)\n",
    "    \n",
    "    if isinstance(strGroups, list):\n",
    "        return [tidyGroup(x) for x in strGroups]"
   ]
  },
  {
   "cell_type": "code",
   "execution_count": 2,
   "metadata": {},
   "outputs": [],
   "source": [
    "# open clinical spreadsheet\n",
    "clinicalSpreadsheet = '/Users/morton/Dicom Files/RADSARC_R/ClinicalData/Clinical data for analysis.xlsx'\n",
    "dfClinical = pd.read_excel(clinicalSpreadsheet, sheet_name='220818_Completed segs', engine='openpyxl')\n",
    "dfClinical = dfClinical[['Anon Code', 'Grade', 'subtype']]"
   ]
  },
  {
   "cell_type": "code",
   "execution_count": 3,
   "metadata": {},
   "outputs": [],
   "source": [
    "# open radiomics data\n",
    "dfRad = pd.read_csv('/Users/morton/Dicom Files/RADSARC_R/XNAT/extractions/extractions__20220910_1006_allRegions/radiomicFeatures/radiomicFeatures.csv')\n",
    "dfRad.drop(list(dfRad.filter(regex = 'source')), axis = 1, inplace = True)\n",
    "dfRad.drop(list(dfRad.filter(regex = 'diagnostic')), axis = 1, inplace = True)\n",
    "dfRad.drop(list(dfRad.filter(regex = 'histogram')), axis = 1, inplace = True)\n",
    "\n",
    "# select only the standard feature set from the whole lesion\n",
    "featureSet = 'lesion_original'\n",
    "#featureSet = 'lesion_calcificationDeleted_original'\n",
    "dfRad = dfRad.filter(regex=featureSet + '|StudyPatientName')\n",
    "dfRad.rename(lambda x:x.replace(featureSet+'_',''), axis=1, inplace=True)"
   ]
  },
  {
   "cell_type": "code",
   "execution_count": 4,
   "metadata": {},
   "outputs": [],
   "source": [
    "# merge clinical and radiomics data into single frame\n",
    "df = dfClinical.merge(dfRad, left_on='Anon Code', right_on='StudyPatientName')\n",
    "df.drop('Anon Code', axis=1, inplace=True)\n",
    "df.drop('StudyPatientName', axis=1, inplace=True)\n",
    "df.drop('Grade', axis=1, inplace=True)\n",
    "target = 'subtype'"
   ]
  },
  {
   "cell_type": "code",
   "execution_count": 27,
   "metadata": {},
   "outputs": [],
   "source": [
    "X = df.drop(target, axis=1)\n",
    "y = df[target]\n",
    "\n",
    "#correlationHierarchy = []\n",
    "correlationHierarchy = ['shape_MeshVolume', 'shape', 'firstorder']\n",
    "\n",
    "#groupHierarchy = ['']\n",
    "textureStr = 'glcm|gldm|glszm|glrlm|ngtdm'\n",
    "groupHierarchy = ['MeshVolume', 'shape', 'firstorder|histogram', textureStr, 'shape|firstorder|histogram', 'shape|'+textureStr, 'firstorder|histogram|'+textureStr, '']\n",
    "\n",
    "pipe = Pipeline([('correlationSelector', featureSelection_correlation(threshold=0.6, exact=False, featureGroupHierarchy=correlationHierarchy)),\n",
    "                 ('groupSelector', featureSelection_groupName()),\n",
    "                 ('scaler', StandardScaler()),\n",
    "                 ('lr', LogisticRegression(solver=\"liblinear\", max_iter=10000, penalty='l1'))])\n",
    "\n",
    "p_grid = {\"lr__C\": np.logspace(np.log10(0.2), np.log10(2), 5),\n",
    "          \"groupSelector__groupFilter\": groupHierarchy}"
   ]
  },
  {
   "cell_type": "code",
   "execution_count": 6,
   "metadata": {},
   "outputs": [
    {
     "name": "stdout",
     "output_type": "stream",
     "text": [
      "Threshold = 0.6, AUROC = 0.851 ± 0.0989\n",
      "Threshold = 0.62, AUROC = 0.868 ± 0.0877\n",
      "Threshold = 0.64, AUROC = 0.867 ± 0.0897\n",
      "Threshold = 0.66, AUROC = 0.866 ± 0.0906\n",
      "Threshold = 0.68, AUROC = 0.875 ± 0.0892\n",
      "Threshold = 0.7, AUROC = 0.874 ± 0.0891\n",
      "Threshold = 0.72, AUROC = 0.873 ± 0.0883\n",
      "Threshold = 0.74, AUROC = 0.871 ± 0.0913\n",
      "Threshold = 0.76, AUROC = 0.871 ± 0.0925\n",
      "Threshold = 0.78, AUROC = 0.871 ± 0.0923\n",
      "Threshold = 0.8, AUROC = 0.869 ± 0.0916\n",
      "Threshold = 0.82, AUROC = 0.869 ± 0.0862\n",
      "Threshold = 0.84, AUROC = 0.875 ± 0.0851\n",
      "Threshold = 0.86, AUROC = 0.875 ± 0.084\n",
      "Threshold = 0.88, AUROC = 0.872 ± 0.0834\n",
      "Threshold = 0.9, AUROC = 0.892 ± 0.0739\n",
      "Threshold = 0.92, AUROC = 0.897 ± 0.0727\n",
      "Threshold = 0.94, AUROC = 0.906 ± 0.0745\n",
      "Threshold = 0.96, AUROC = 0.905 ± 0.0709\n",
      "Threshold = 0.98, AUROC = 0.9 ± 0.0705\n",
      "Threshold = 1.0, AUROC = 0.902 ± 0.0688\n"
     ]
    },
    {
     "data": {
      "image/png": "[encoded data removed]",
      "text/plain": [
       "<Figure size 432x288 with 1 Axes>"
      ]
     },
     "metadata": {
      "needs_background": "light"
     },
     "output_type": "display_data"
    }
   ],
   "source": [
    "experiments = {}\n",
    "thresholds = np.arange(0.6,1.001,0.02) #02)\n",
    "cv_mean = []\n",
    "cv_std = []\n",
    "for threshold in thresholds:\n",
    "    \n",
    "    pipe.steps[0][1].threshold = threshold\n",
    "\n",
    "    random_state = 42\n",
    "    np.random.seed(random_state)\n",
    "\n",
    "    inner_cv = StratifiedKFold(n_splits=5)\n",
    "    model = GridSearchCV(estimator=pipe, param_grid=p_grid, cv=inner_cv, refit=True, verbose=0, scoring='neg_log_loss', n_jobs=-1)\n",
    "    model.fit(X, y)\n",
    "\n",
    "    # set to 1 ready for using n_jobs = -1 for cross validation\n",
    "    model.n_jobs = 1\n",
    "\n",
    "    n_splits = 10\n",
    "    n_repeats = 20\n",
    "    validation = RepeatedStratifiedKFold(n_splits=n_splits, n_repeats=n_repeats)\n",
    "\n",
    "    # supress warnings for cross_validate\n",
    "    warnings.simplefilter(\"ignore\")\n",
    "    os.environ[\"PYTHONWARNINGS\"] = \"ignore\"\n",
    "    #\n",
    "    cv_result = cross_validate(model, X, y, cv=validation, scoring='roc_auc', return_estimator=True, n_jobs=-1)\n",
    "    #\n",
    "    warnings.simplefilter('default')\n",
    "    os.environ[\"PYTHONWARNINGS\"] = 'default'\n",
    "\n",
    "    experiments[str(threshold)] = {'model':copy.deepcopy(model), 'cv_result':copy.deepcopy(cv_result)}\n",
    "    \n",
    "    cv_mean.append(np.round(np.mean(cv_result['test_score']),3))\n",
    "    cv_std.append(np.round(np.std(cv_result['test_score']),4))\n",
    "    \n",
    "    print('Threshold = ' + str(np.round(threshold,2)) + ', AUROC = ' + str(cv_mean[-1]) + ' \\u00B1 ' + str(cv_std[-1]))\n",
    "    \n",
    "plt.plot(thresholds, cv_mean)\n",
    "plt.plot(thresholds, np.array(cv_mean) + np.array(cv_std))\n",
    "plt.plot(thresholds, np.array(cv_mean) - np.array(cv_std))\n",
    "plt.ylim([0.6, 1.05])\n",
    "plt.show()"
   ]
  },
  {
   "cell_type": "code",
   "execution_count": 130,
   "metadata": {},
   "outputs": [],
   "source": [
    "thresholdStr = '0.8000000000000002'\n",
    "model = experiments[thresholdStr]['model']\n",
    "cv_result = experiments[thresholdStr]['cv_result']"
   ]
  },
  {
   "cell_type": "code",
   "execution_count": 131,
   "metadata": {},
   "outputs": [
    {
     "data": {
      "text/plain": [
       "'shape|firstorder'"
      ]
     },
     "execution_count": 131,
     "metadata": {},
     "output_type": "execute_result"
    }
   ],
   "source": [
    "groupStrsDisp(model.best_estimator_.steps[1][1].groupFilter)"
   ]
  },
  {
   "cell_type": "code",
   "execution_count": 132,
   "metadata": {},
   "outputs": [
    {
     "data": {
      "text/html": [
       "<style  type=\"text/css\" >\n",
       "</style><table id=\"T_0dc177ba_3349_11ed_acbc_784f437c194a\" ><thead>    <tr>        <th class=\"col_heading level0 col0\" >Feature</th>        <th class=\"col_heading level0 col1\" >Coef</th>    </tr></thead><tbody>\n",
       "                <tr>\n",
       "                                <td id=\"T_0dc177ba_3349_11ed_acbc_784f437c194arow0_col0\" class=\"data row0 col0\" >firstorder_90Percentile</td>\n",
       "                        <td id=\"T_0dc177ba_3349_11ed_acbc_784f437c194arow0_col1\" class=\"data row0 col1\" >-1.591571</td>\n",
       "            </tr>\n",
       "            <tr>\n",
       "                                <td id=\"T_0dc177ba_3349_11ed_acbc_784f437c194arow1_col0\" class=\"data row1 col0\" >firstorder_InterquartileRange</td>\n",
       "                        <td id=\"T_0dc177ba_3349_11ed_acbc_784f437c194arow1_col1\" class=\"data row1 col1\" >0.992390</td>\n",
       "            </tr>\n",
       "            <tr>\n",
       "                                <td id=\"T_0dc177ba_3349_11ed_acbc_784f437c194arow2_col0\" class=\"data row2 col0\" >firstorder_Maximum</td>\n",
       "                        <td id=\"T_0dc177ba_3349_11ed_acbc_784f437c194arow2_col1\" class=\"data row2 col1\" >0.935322</td>\n",
       "            </tr>\n",
       "            <tr>\n",
       "                                <td id=\"T_0dc177ba_3349_11ed_acbc_784f437c194arow3_col0\" class=\"data row3 col0\" >shape_MeshVolume</td>\n",
       "                        <td id=\"T_0dc177ba_3349_11ed_acbc_784f437c194arow3_col1\" class=\"data row3 col1\" >0.580460</td>\n",
       "            </tr>\n",
       "            <tr>\n",
       "                                <td id=\"T_0dc177ba_3349_11ed_acbc_784f437c194arow4_col0\" class=\"data row4 col0\" >firstorder_Kurtosis</td>\n",
       "                        <td id=\"T_0dc177ba_3349_11ed_acbc_784f437c194arow4_col1\" class=\"data row4 col1\" >-0.414955</td>\n",
       "            </tr>\n",
       "            <tr>\n",
       "                                <td id=\"T_0dc177ba_3349_11ed_acbc_784f437c194arow5_col0\" class=\"data row5 col0\" >shape_Elongation</td>\n",
       "                        <td id=\"T_0dc177ba_3349_11ed_acbc_784f437c194arow5_col1\" class=\"data row5 col1\" >-0.319122</td>\n",
       "            </tr>\n",
       "            <tr>\n",
       "                                <td id=\"T_0dc177ba_3349_11ed_acbc_784f437c194arow6_col0\" class=\"data row6 col0\" >shape_Sphericity</td>\n",
       "                        <td id=\"T_0dc177ba_3349_11ed_acbc_784f437c194arow6_col1\" class=\"data row6 col1\" >-0.303267</td>\n",
       "            </tr>\n",
       "            <tr>\n",
       "                                <td id=\"T_0dc177ba_3349_11ed_acbc_784f437c194arow7_col0\" class=\"data row7 col0\" >firstorder_RootMeanSquared</td>\n",
       "                        <td id=\"T_0dc177ba_3349_11ed_acbc_784f437c194arow7_col1\" class=\"data row7 col1\" >-0.252986</td>\n",
       "            </tr>\n",
       "            <tr>\n",
       "                                <td id=\"T_0dc177ba_3349_11ed_acbc_784f437c194arow8_col0\" class=\"data row8 col0\" >shape_Flatness</td>\n",
       "                        <td id=\"T_0dc177ba_3349_11ed_acbc_784f437c194arow8_col1\" class=\"data row8 col1\" >0.210838</td>\n",
       "            </tr>\n",
       "    </tbody></table>"
      ],
      "text/plain": [
       "<pandas.io.formats.style.Styler at 0x7fa13f0cbeb8>"
      ]
     },
     "execution_count": 132,
     "metadata": {},
     "output_type": "execute_result"
    }
   ],
   "source": [
    "colMask0 = copy.deepcopy(model.best_estimator_.steps[0][1].mask_)\n",
    "colMask1 = model.best_estimator_.steps[1][1].colMask_\n",
    "colMask0[colMask0] = colMask1\n",
    "bc = np.zeros((X.shape[1]))\n",
    "bc[colMask0] = copy.deepcopy(model.best_estimator_._final_estimator.coef_).ravel()\n",
    "coef = pd.DataFrame({'Feature':list(np.array(X.columns)[bc != 0]), 'Coef':list(bc[bc != 0])})\n",
    "coef = coef.sort_values(by='Coef', ascending=False, key=abs)\n",
    "coef = coef.loc[coef.Coef != 0,:]\n",
    "coef.style.hide_index()"
   ]
  },
  {
   "cell_type": "code",
   "execution_count": 133,
   "metadata": {},
   "outputs": [
    {
     "name": "stdout",
     "output_type": "stream",
     "text": [
      "AUROC (CV) = 0.8686\n"
     ]
    }
   ],
   "source": [
    "print('AUROC (CV) = ' + str(np.round(np.mean(cv_result['test_score']),5)))"
   ]
  },
  {
   "cell_type": "code",
   "execution_count": 134,
   "metadata": {},
   "outputs": [
    {
     "data": {
      "text/html": [
       "<style  type=\"text/css\" >\n",
       "</style><table id=\"T_191cc22e_3349_11ed_976f_784f437c194a\" ><thead>    <tr>        <th class=\"col_heading level0 col0\" >Group</th>        <th class=\"col_heading level0 col1\" >Frequency</th>    </tr></thead><tbody>\n",
       "                <tr>\n",
       "                                <td id=\"T_191cc22e_3349_11ed_976f_784f437c194arow0_col0\" class=\"data row0 col0\" >MeshVolume</td>\n",
       "                        <td id=\"T_191cc22e_3349_11ed_976f_784f437c194arow0_col1\" class=\"data row0 col1\" >0</td>\n",
       "            </tr>\n",
       "            <tr>\n",
       "                                <td id=\"T_191cc22e_3349_11ed_976f_784f437c194arow1_col0\" class=\"data row1 col0\" >shape</td>\n",
       "                        <td id=\"T_191cc22e_3349_11ed_976f_784f437c194arow1_col1\" class=\"data row1 col1\" >10</td>\n",
       "            </tr>\n",
       "            <tr>\n",
       "                                <td id=\"T_191cc22e_3349_11ed_976f_784f437c194arow2_col0\" class=\"data row2 col0\" >firstorder</td>\n",
       "                        <td id=\"T_191cc22e_3349_11ed_976f_784f437c194arow2_col1\" class=\"data row2 col1\" >27</td>\n",
       "            </tr>\n",
       "            <tr>\n",
       "                                <td id=\"T_191cc22e_3349_11ed_976f_784f437c194arow3_col0\" class=\"data row3 col0\" >texture</td>\n",
       "                        <td id=\"T_191cc22e_3349_11ed_976f_784f437c194arow3_col1\" class=\"data row3 col1\" >0</td>\n",
       "            </tr>\n",
       "            <tr>\n",
       "                                <td id=\"T_191cc22e_3349_11ed_976f_784f437c194arow4_col0\" class=\"data row4 col0\" >shape|firstorder</td>\n",
       "                        <td id=\"T_191cc22e_3349_11ed_976f_784f437c194arow4_col1\" class=\"data row4 col1\" >89</td>\n",
       "            </tr>\n",
       "            <tr>\n",
       "                                <td id=\"T_191cc22e_3349_11ed_976f_784f437c194arow5_col0\" class=\"data row5 col0\" >shape|texture</td>\n",
       "                        <td id=\"T_191cc22e_3349_11ed_976f_784f437c194arow5_col1\" class=\"data row5 col1\" >14</td>\n",
       "            </tr>\n",
       "            <tr>\n",
       "                                <td id=\"T_191cc22e_3349_11ed_976f_784f437c194arow6_col0\" class=\"data row6 col0\" >firstorder|texture</td>\n",
       "                        <td id=\"T_191cc22e_3349_11ed_976f_784f437c194arow6_col1\" class=\"data row6 col1\" >6</td>\n",
       "            </tr>\n",
       "            <tr>\n",
       "                                <td id=\"T_191cc22e_3349_11ed_976f_784f437c194arow7_col0\" class=\"data row7 col0\" >all</td>\n",
       "                        <td id=\"T_191cc22e_3349_11ed_976f_784f437c194arow7_col1\" class=\"data row7 col1\" >54</td>\n",
       "            </tr>\n",
       "    </tbody></table>"
      ],
      "text/plain": [
       "<pandas.io.formats.style.Styler at 0x7fa13f2d0f60>"
      ]
     },
     "execution_count": 134,
     "metadata": {},
     "output_type": "execute_result"
    }
   ],
   "source": [
    "group_cv_counts = {}\n",
    "group_cv = [groupStrsDisp(x.best_estimator_.steps[1][1].groupFilter) for x in cv_result['estimator']]\n",
    "for group in groupStrsDisp(groupHierarchy):\n",
    "    group_cv_counts[group] = len([x for x in group_cv if x==group])\n",
    "pd.DataFrame({'Group':group_cv_counts.keys(), 'Frequency':group_cv_counts.values()}).style.hide_index()"
   ]
  },
  {
   "cell_type": "code",
   "execution_count": 135,
   "metadata": {},
   "outputs": [
    {
     "name": "stdout",
     "output_type": "stream",
     "text": [
      "\n"
     ]
    },
    {
     "data": {
      "text/html": [
       "<style  type=\"text/css\" >\n",
       "</style><table id=\"T_19f54fe8_3349_11ed_93c5_784f437c194a\" ><thead>    <tr>        <th class=\"col_heading level0 col0\" >Feature</th>        <th class=\"col_heading level0 col1\" >Coef</th>    </tr></thead><tbody>\n",
       "                <tr>\n",
       "                                <td id=\"T_19f54fe8_3349_11ed_93c5_784f437c194arow0_col0\" class=\"data row0 col0\" >firstorder_90Percentile</td>\n",
       "                        <td id=\"T_19f54fe8_3349_11ed_93c5_784f437c194arow0_col1\" class=\"data row0 col1\" >-1.219464</td>\n",
       "            </tr>\n",
       "            <tr>\n",
       "                                <td id=\"T_19f54fe8_3349_11ed_93c5_784f437c194arow1_col0\" class=\"data row1 col0\" >firstorder_InterquartileRange</td>\n",
       "                        <td id=\"T_19f54fe8_3349_11ed_93c5_784f437c194arow1_col1\" class=\"data row1 col1\" >0.835193</td>\n",
       "            </tr>\n",
       "            <tr>\n",
       "                                <td id=\"T_19f54fe8_3349_11ed_93c5_784f437c194arow2_col0\" class=\"data row2 col0\" >firstorder_Maximum</td>\n",
       "                        <td id=\"T_19f54fe8_3349_11ed_93c5_784f437c194arow2_col1\" class=\"data row2 col1\" >0.566992</td>\n",
       "            </tr>\n",
       "            <tr>\n",
       "                                <td id=\"T_19f54fe8_3349_11ed_93c5_784f437c194arow3_col0\" class=\"data row3 col0\" >shape_Sphericity</td>\n",
       "                        <td id=\"T_19f54fe8_3349_11ed_93c5_784f437c194arow3_col1\" class=\"data row3 col1\" >-0.393896</td>\n",
       "            </tr>\n",
       "            <tr>\n",
       "                                <td id=\"T_19f54fe8_3349_11ed_93c5_784f437c194arow4_col0\" class=\"data row4 col0\" >glszm_SmallAreaEmphasis</td>\n",
       "                        <td id=\"T_19f54fe8_3349_11ed_93c5_784f437c194arow4_col1\" class=\"data row4 col1\" >0.326314</td>\n",
       "            </tr>\n",
       "            <tr>\n",
       "                                <td id=\"T_19f54fe8_3349_11ed_93c5_784f437c194arow5_col0\" class=\"data row5 col0\" >shape_MeshVolume</td>\n",
       "                        <td id=\"T_19f54fe8_3349_11ed_93c5_784f437c194arow5_col1\" class=\"data row5 col1\" >0.307482</td>\n",
       "            </tr>\n",
       "            <tr>\n",
       "                                <td id=\"T_19f54fe8_3349_11ed_93c5_784f437c194arow6_col0\" class=\"data row6 col0\" >ngtdm_Strength</td>\n",
       "                        <td id=\"T_19f54fe8_3349_11ed_93c5_784f437c194arow6_col1\" class=\"data row6 col1\" >-0.243468</td>\n",
       "            </tr>\n",
       "            <tr>\n",
       "                                <td id=\"T_19f54fe8_3349_11ed_93c5_784f437c194arow7_col0\" class=\"data row7 col0\" >firstorder_RootMeanSquared</td>\n",
       "                        <td id=\"T_19f54fe8_3349_11ed_93c5_784f437c194arow7_col1\" class=\"data row7 col1\" >-0.128958</td>\n",
       "            </tr>\n",
       "            <tr>\n",
       "                                <td id=\"T_19f54fe8_3349_11ed_93c5_784f437c194arow8_col0\" class=\"data row8 col0\" >shape_Elongation</td>\n",
       "                        <td id=\"T_19f54fe8_3349_11ed_93c5_784f437c194arow8_col1\" class=\"data row8 col1\" >-0.090453</td>\n",
       "            </tr>\n",
       "            <tr>\n",
       "                                <td id=\"T_19f54fe8_3349_11ed_93c5_784f437c194arow9_col0\" class=\"data row9 col0\" >gldm_DependenceNonUniformityNormalized</td>\n",
       "                        <td id=\"T_19f54fe8_3349_11ed_93c5_784f437c194arow9_col1\" class=\"data row9 col1\" >-0.070178</td>\n",
       "            </tr>\n",
       "            <tr>\n",
       "                                <td id=\"T_19f54fe8_3349_11ed_93c5_784f437c194arow10_col0\" class=\"data row10 col0\" >firstorder_Kurtosis</td>\n",
       "                        <td id=\"T_19f54fe8_3349_11ed_93c5_784f437c194arow10_col1\" class=\"data row10 col1\" >-0.036356</td>\n",
       "            </tr>\n",
       "    </tbody></table>"
      ],
      "text/plain": [
       "<pandas.io.formats.style.Styler at 0x7fa1406abe48>"
      ]
     },
     "metadata": {},
     "output_type": "display_data"
    },
    {
     "name": "stdout",
     "output_type": "stream",
     "text": [
      "\n",
      "\n",
      "firstorder|histogram|glcm|gldm|glszm|glrlm|ngtdm\n"
     ]
    },
    {
     "data": {
      "text/html": [
       "<style  type=\"text/css\" >\n",
       "</style><table id=\"T_19f67014_3349_11ed_bb53_784f437c194a\" ><thead>    <tr>        <th class=\"col_heading level0 col0\" >Feature</th>        <th class=\"col_heading level0 col1\" >Coef</th>    </tr></thead><tbody>\n",
       "                <tr>\n",
       "                                <td id=\"T_19f67014_3349_11ed_bb53_784f437c194arow0_col0\" class=\"data row0 col0\" >firstorder_Median</td>\n",
       "                        <td id=\"T_19f67014_3349_11ed_bb53_784f437c194arow0_col1\" class=\"data row0 col1\" >-2.142583</td>\n",
       "            </tr>\n",
       "            <tr>\n",
       "                                <td id=\"T_19f67014_3349_11ed_bb53_784f437c194arow1_col0\" class=\"data row1 col0\" >firstorder_Maximum</td>\n",
       "                        <td id=\"T_19f67014_3349_11ed_bb53_784f437c194arow1_col1\" class=\"data row1 col1\" >0.794319</td>\n",
       "            </tr>\n",
       "            <tr>\n",
       "                                <td id=\"T_19f67014_3349_11ed_bb53_784f437c194arow2_col0\" class=\"data row2 col0\" >firstorder_InterquartileRange</td>\n",
       "                        <td id=\"T_19f67014_3349_11ed_bb53_784f437c194arow2_col1\" class=\"data row2 col1\" >0.612002</td>\n",
       "            </tr>\n",
       "            <tr>\n",
       "                                <td id=\"T_19f67014_3349_11ed_bb53_784f437c194arow3_col0\" class=\"data row3 col0\" >ngtdm_Strength</td>\n",
       "                        <td id=\"T_19f67014_3349_11ed_bb53_784f437c194arow3_col1\" class=\"data row3 col1\" >-0.414108</td>\n",
       "            </tr>\n",
       "            <tr>\n",
       "                                <td id=\"T_19f67014_3349_11ed_bb53_784f437c194arow4_col0\" class=\"data row4 col0\" >gldm_LowGrayLevelEmphasis</td>\n",
       "                        <td id=\"T_19f67014_3349_11ed_bb53_784f437c194arow4_col1\" class=\"data row4 col1\" >-0.272971</td>\n",
       "            </tr>\n",
       "            <tr>\n",
       "                                <td id=\"T_19f67014_3349_11ed_bb53_784f437c194arow5_col0\" class=\"data row5 col0\" >glszm_SmallAreaEmphasis</td>\n",
       "                        <td id=\"T_19f67014_3349_11ed_bb53_784f437c194arow5_col1\" class=\"data row5 col1\" >0.208693</td>\n",
       "            </tr>\n",
       "            <tr>\n",
       "                                <td id=\"T_19f67014_3349_11ed_bb53_784f437c194arow6_col0\" class=\"data row6 col0\" >gldm_DependenceNonUniformityNormalized</td>\n",
       "                        <td id=\"T_19f67014_3349_11ed_bb53_784f437c194arow6_col1\" class=\"data row6 col1\" >-0.198883</td>\n",
       "            </tr>\n",
       "            <tr>\n",
       "                                <td id=\"T_19f67014_3349_11ed_bb53_784f437c194arow7_col0\" class=\"data row7 col0\" >firstorder_RootMeanSquared</td>\n",
       "                        <td id=\"T_19f67014_3349_11ed_bb53_784f437c194arow7_col1\" class=\"data row7 col1\" >-0.116153</td>\n",
       "            </tr>\n",
       "            <tr>\n",
       "                                <td id=\"T_19f67014_3349_11ed_bb53_784f437c194arow8_col0\" class=\"data row8 col0\" >firstorder_Kurtosis</td>\n",
       "                        <td id=\"T_19f67014_3349_11ed_bb53_784f437c194arow8_col1\" class=\"data row8 col1\" >-0.073310</td>\n",
       "            </tr>\n",
       "    </tbody></table>"
      ],
      "text/plain": [
       "<pandas.io.formats.style.Styler at 0x7fa13f82b828>"
      ]
     },
     "metadata": {},
     "output_type": "display_data"
    },
    {
     "name": "stdout",
     "output_type": "stream",
     "text": [
      "\n",
      "\n",
      "shape\n"
     ]
    },
    {
     "data": {
      "text/html": [
       "<style  type=\"text/css\" >\n",
       "</style><table id=\"T_19f7bf3a_3349_11ed_953c_784f437c194a\" ><thead>    <tr>        <th class=\"col_heading level0 col0\" >Feature</th>        <th class=\"col_heading level0 col1\" >Coef</th>    </tr></thead><tbody>\n",
       "                <tr>\n",
       "                                <td id=\"T_19f7bf3a_3349_11ed_953c_784f437c194arow0_col0\" class=\"data row0 col0\" >shape_MeshVolume</td>\n",
       "                        <td id=\"T_19f7bf3a_3349_11ed_953c_784f437c194arow0_col1\" class=\"data row0 col1\" >1.652525</td>\n",
       "            </tr>\n",
       "            <tr>\n",
       "                                <td id=\"T_19f7bf3a_3349_11ed_953c_784f437c194arow1_col0\" class=\"data row1 col0\" >shape_Sphericity</td>\n",
       "                        <td id=\"T_19f7bf3a_3349_11ed_953c_784f437c194arow1_col1\" class=\"data row1 col1\" >-0.989516</td>\n",
       "            </tr>\n",
       "            <tr>\n",
       "                                <td id=\"T_19f7bf3a_3349_11ed_953c_784f437c194arow2_col0\" class=\"data row2 col0\" >shape_Elongation</td>\n",
       "                        <td id=\"T_19f7bf3a_3349_11ed_953c_784f437c194arow2_col1\" class=\"data row2 col1\" >-0.364996</td>\n",
       "            </tr>\n",
       "    </tbody></table>"
      ],
      "text/plain": [
       "<pandas.io.formats.style.Styler at 0x7fa13f3c8dd8>"
      ]
     },
     "metadata": {},
     "output_type": "display_data"
    },
    {
     "name": "stdout",
     "output_type": "stream",
     "text": [
      "\n",
      "\n",
      "firstorder|histogram|glcm|gldm|glszm|glrlm|ngtdm\n"
     ]
    },
    {
     "data": {
      "text/html": [
       "<style  type=\"text/css\" >\n",
       "</style><table id=\"T_19f8bc66_3349_11ed_b974_784f437c194a\" ><thead>    <tr>        <th class=\"col_heading level0 col0\" >Feature</th>        <th class=\"col_heading level0 col1\" >Coef</th>    </tr></thead><tbody>\n",
       "                <tr>\n",
       "                                <td id=\"T_19f8bc66_3349_11ed_b974_784f437c194arow0_col0\" class=\"data row0 col0\" >firstorder_90Percentile</td>\n",
       "                        <td id=\"T_19f8bc66_3349_11ed_b974_784f437c194arow0_col1\" class=\"data row0 col1\" >-1.739860</td>\n",
       "            </tr>\n",
       "            <tr>\n",
       "                                <td id=\"T_19f8bc66_3349_11ed_b974_784f437c194arow1_col0\" class=\"data row1 col0\" >glszm_ZoneEntropy</td>\n",
       "                        <td id=\"T_19f8bc66_3349_11ed_b974_784f437c194arow1_col1\" class=\"data row1 col1\" >0.592058</td>\n",
       "            </tr>\n",
       "            <tr>\n",
       "                                <td id=\"T_19f8bc66_3349_11ed_b974_784f437c194arow2_col0\" class=\"data row2 col0\" >firstorder_Maximum</td>\n",
       "                        <td id=\"T_19f8bc66_3349_11ed_b974_784f437c194arow2_col1\" class=\"data row2 col1\" >0.455863</td>\n",
       "            </tr>\n",
       "            <tr>\n",
       "                                <td id=\"T_19f8bc66_3349_11ed_b974_784f437c194arow3_col0\" class=\"data row3 col0\" >firstorder_InterquartileRange</td>\n",
       "                        <td id=\"T_19f8bc66_3349_11ed_b974_784f437c194arow3_col1\" class=\"data row3 col1\" >0.440574</td>\n",
       "            </tr>\n",
       "            <tr>\n",
       "                                <td id=\"T_19f8bc66_3349_11ed_b974_784f437c194arow4_col0\" class=\"data row4 col0\" >glszm_SmallAreaEmphasis</td>\n",
       "                        <td id=\"T_19f8bc66_3349_11ed_b974_784f437c194arow4_col1\" class=\"data row4 col1\" >0.408956</td>\n",
       "            </tr>\n",
       "            <tr>\n",
       "                                <td id=\"T_19f8bc66_3349_11ed_b974_784f437c194arow5_col0\" class=\"data row5 col0\" >gldm_LowGrayLevelEmphasis</td>\n",
       "                        <td id=\"T_19f8bc66_3349_11ed_b974_784f437c194arow5_col1\" class=\"data row5 col1\" >-0.251935</td>\n",
       "            </tr>\n",
       "            <tr>\n",
       "                                <td id=\"T_19f8bc66_3349_11ed_b974_784f437c194arow6_col0\" class=\"data row6 col0\" >ngtdm_Strength</td>\n",
       "                        <td id=\"T_19f8bc66_3349_11ed_b974_784f437c194arow6_col1\" class=\"data row6 col1\" >-0.248366</td>\n",
       "            </tr>\n",
       "            <tr>\n",
       "                                <td id=\"T_19f8bc66_3349_11ed_b974_784f437c194arow7_col0\" class=\"data row7 col0\" >firstorder_RootMeanSquared</td>\n",
       "                        <td id=\"T_19f8bc66_3349_11ed_b974_784f437c194arow7_col1\" class=\"data row7 col1\" >-0.235713</td>\n",
       "            </tr>\n",
       "    </tbody></table>"
      ],
      "text/plain": [
       "<pandas.io.formats.style.Styler at 0x7fa13f32e5c0>"
      ]
     },
     "metadata": {},
     "output_type": "display_data"
    },
    {
     "name": "stdout",
     "output_type": "stream",
     "text": [
      "\n",
      "\n",
      "shape|firstorder|histogram\n"
     ]
    },
    {
     "data": {
      "text/html": [
       "<style  type=\"text/css\" >\n",
       "</style><table id=\"T_19f9c32c_3349_11ed_8222_784f437c194a\" ><thead>    <tr>        <th class=\"col_heading level0 col0\" >Feature</th>        <th class=\"col_heading level0 col1\" >Coef</th>    </tr></thead><tbody>\n",
       "                <tr>\n",
       "                                <td id=\"T_19f9c32c_3349_11ed_8222_784f437c194arow0_col0\" class=\"data row0 col0\" >firstorder_90Percentile</td>\n",
       "                        <td id=\"T_19f9c32c_3349_11ed_8222_784f437c194arow0_col1\" class=\"data row0 col1\" >-1.685490</td>\n",
       "            </tr>\n",
       "            <tr>\n",
       "                                <td id=\"T_19f9c32c_3349_11ed_8222_784f437c194arow1_col0\" class=\"data row1 col0\" >firstorder_Maximum</td>\n",
       "                        <td id=\"T_19f9c32c_3349_11ed_8222_784f437c194arow1_col1\" class=\"data row1 col1\" >1.013333</td>\n",
       "            </tr>\n",
       "            <tr>\n",
       "                                <td id=\"T_19f9c32c_3349_11ed_8222_784f437c194arow2_col0\" class=\"data row2 col0\" >firstorder_InterquartileRange</td>\n",
       "                        <td id=\"T_19f9c32c_3349_11ed_8222_784f437c194arow2_col1\" class=\"data row2 col1\" >0.923812</td>\n",
       "            </tr>\n",
       "            <tr>\n",
       "                                <td id=\"T_19f9c32c_3349_11ed_8222_784f437c194arow3_col0\" class=\"data row3 col0\" >shape_MeshVolume</td>\n",
       "                        <td id=\"T_19f9c32c_3349_11ed_8222_784f437c194arow3_col1\" class=\"data row3 col1\" >0.488157</td>\n",
       "            </tr>\n",
       "            <tr>\n",
       "                                <td id=\"T_19f9c32c_3349_11ed_8222_784f437c194arow4_col0\" class=\"data row4 col0\" >firstorder_Kurtosis</td>\n",
       "                        <td id=\"T_19f9c32c_3349_11ed_8222_784f437c194arow4_col1\" class=\"data row4 col1\" >-0.475159</td>\n",
       "            </tr>\n",
       "            <tr>\n",
       "                                <td id=\"T_19f9c32c_3349_11ed_8222_784f437c194arow5_col0\" class=\"data row5 col0\" >firstorder_RootMeanSquared</td>\n",
       "                        <td id=\"T_19f9c32c_3349_11ed_8222_784f437c194arow5_col1\" class=\"data row5 col1\" >-0.307702</td>\n",
       "            </tr>\n",
       "            <tr>\n",
       "                                <td id=\"T_19f9c32c_3349_11ed_8222_784f437c194arow6_col0\" class=\"data row6 col0\" >shape_Elongation</td>\n",
       "                        <td id=\"T_19f9c32c_3349_11ed_8222_784f437c194arow6_col1\" class=\"data row6 col1\" >-0.175460</td>\n",
       "            </tr>\n",
       "            <tr>\n",
       "                                <td id=\"T_19f9c32c_3349_11ed_8222_784f437c194arow7_col0\" class=\"data row7 col0\" >shape_Sphericity</td>\n",
       "                        <td id=\"T_19f9c32c_3349_11ed_8222_784f437c194arow7_col1\" class=\"data row7 col1\" >-0.034630</td>\n",
       "            </tr>\n",
       "            <tr>\n",
       "                                <td id=\"T_19f9c32c_3349_11ed_8222_784f437c194arow8_col0\" class=\"data row8 col0\" >shape_Flatness</td>\n",
       "                        <td id=\"T_19f9c32c_3349_11ed_8222_784f437c194arow8_col1\" class=\"data row8 col1\" >0.003314</td>\n",
       "            </tr>\n",
       "    </tbody></table>"
      ],
      "text/plain": [
       "<pandas.io.formats.style.Styler at 0x7fa13f514080>"
      ]
     },
     "metadata": {},
     "output_type": "display_data"
    },
    {
     "name": "stdout",
     "output_type": "stream",
     "text": [
      "\n",
      "\n",
      "firstorder|histogram\n"
     ]
    },
    {
     "data": {
      "text/html": [
       "<style  type=\"text/css\" >\n",
       "</style><table id=\"T_19fb823e_3349_11ed_a6a4_784f437c194a\" ><thead>    <tr>        <th class=\"col_heading level0 col0\" >Feature</th>        <th class=\"col_heading level0 col1\" >Coef</th>    </tr></thead><tbody>\n",
       "                <tr>\n",
       "                                <td id=\"T_19fb823e_3349_11ed_a6a4_784f437c194arow0_col0\" class=\"data row0 col0\" >firstorder_90Percentile</td>\n",
       "                        <td id=\"T_19fb823e_3349_11ed_a6a4_784f437c194arow0_col1\" class=\"data row0 col1\" >-2.097434</td>\n",
       "            </tr>\n",
       "            <tr>\n",
       "                                <td id=\"T_19fb823e_3349_11ed_a6a4_784f437c194arow1_col0\" class=\"data row1 col0\" >firstorder_Maximum</td>\n",
       "                        <td id=\"T_19fb823e_3349_11ed_a6a4_784f437c194arow1_col1\" class=\"data row1 col1\" >1.426753</td>\n",
       "            </tr>\n",
       "            <tr>\n",
       "                                <td id=\"T_19fb823e_3349_11ed_a6a4_784f437c194arow2_col0\" class=\"data row2 col0\" >firstorder_InterquartileRange</td>\n",
       "                        <td id=\"T_19fb823e_3349_11ed_a6a4_784f437c194arow2_col1\" class=\"data row2 col1\" >1.356348</td>\n",
       "            </tr>\n",
       "            <tr>\n",
       "                                <td id=\"T_19fb823e_3349_11ed_a6a4_784f437c194arow3_col0\" class=\"data row3 col0\" >firstorder_RootMeanSquared</td>\n",
       "                        <td id=\"T_19fb823e_3349_11ed_a6a4_784f437c194arow3_col1\" class=\"data row3 col1\" >-0.262477</td>\n",
       "            </tr>\n",
       "            <tr>\n",
       "                                <td id=\"T_19fb823e_3349_11ed_a6a4_784f437c194arow4_col0\" class=\"data row4 col0\" >firstorder_Skewness</td>\n",
       "                        <td id=\"T_19fb823e_3349_11ed_a6a4_784f437c194arow4_col1\" class=\"data row4 col1\" >0.007625</td>\n",
       "            </tr>\n",
       "            <tr>\n",
       "                                <td id=\"T_19fb823e_3349_11ed_a6a4_784f437c194arow5_col0\" class=\"data row5 col0\" >firstorder_Minimum</td>\n",
       "                        <td id=\"T_19fb823e_3349_11ed_a6a4_784f437c194arow5_col1\" class=\"data row5 col1\" >-0.007602</td>\n",
       "            </tr>\n",
       "    </tbody></table>"
      ],
      "text/plain": [
       "<pandas.io.formats.style.Styler at 0x7fa13f32a0b8>"
      ]
     },
     "metadata": {},
     "output_type": "display_data"
    },
    {
     "name": "stdout",
     "output_type": "stream",
     "text": [
      "\n",
      "\n",
      "shape|firstorder|histogram\n"
     ]
    },
    {
     "data": {
      "text/html": [
       "<style  type=\"text/css\" >\n",
       "</style><table id=\"T_19fced54_3349_11ed_b567_784f437c194a\" ><thead>    <tr>        <th class=\"col_heading level0 col0\" >Feature</th>        <th class=\"col_heading level0 col1\" >Coef</th>    </tr></thead><tbody>\n",
       "                <tr>\n",
       "                                <td id=\"T_19fced54_3349_11ed_b567_784f437c194arow0_col0\" class=\"data row0 col0\" >firstorder_90Percentile</td>\n",
       "                        <td id=\"T_19fced54_3349_11ed_b567_784f437c194arow0_col1\" class=\"data row0 col1\" >-1.256858</td>\n",
       "            </tr>\n",
       "            <tr>\n",
       "                                <td id=\"T_19fced54_3349_11ed_b567_784f437c194arow1_col0\" class=\"data row1 col0\" >firstorder_Uniformity</td>\n",
       "                        <td id=\"T_19fced54_3349_11ed_b567_784f437c194arow1_col1\" class=\"data row1 col1\" >-0.545394</td>\n",
       "            </tr>\n",
       "            <tr>\n",
       "                                <td id=\"T_19fced54_3349_11ed_b567_784f437c194arow2_col0\" class=\"data row2 col0\" >firstorder_Maximum</td>\n",
       "                        <td id=\"T_19fced54_3349_11ed_b567_784f437c194arow2_col1\" class=\"data row2 col1\" >0.537752</td>\n",
       "            </tr>\n",
       "            <tr>\n",
       "                                <td id=\"T_19fced54_3349_11ed_b567_784f437c194arow3_col0\" class=\"data row3 col0\" >shape_MeshVolume</td>\n",
       "                        <td id=\"T_19fced54_3349_11ed_b567_784f437c194arow3_col1\" class=\"data row3 col1\" >0.450061</td>\n",
       "            </tr>\n",
       "            <tr>\n",
       "                                <td id=\"T_19fced54_3349_11ed_b567_784f437c194arow4_col0\" class=\"data row4 col0\" >shape_Sphericity</td>\n",
       "                        <td id=\"T_19fced54_3349_11ed_b567_784f437c194arow4_col1\" class=\"data row4 col1\" >-0.274204</td>\n",
       "            </tr>\n",
       "            <tr>\n",
       "                                <td id=\"T_19fced54_3349_11ed_b567_784f437c194arow5_col0\" class=\"data row5 col0\" >firstorder_RootMeanSquared</td>\n",
       "                        <td id=\"T_19fced54_3349_11ed_b567_784f437c194arow5_col1\" class=\"data row5 col1\" >-0.268764</td>\n",
       "            </tr>\n",
       "            <tr>\n",
       "                                <td id=\"T_19fced54_3349_11ed_b567_784f437c194arow6_col0\" class=\"data row6 col0\" >firstorder_Kurtosis</td>\n",
       "                        <td id=\"T_19fced54_3349_11ed_b567_784f437c194arow6_col1\" class=\"data row6 col1\" >-0.250057</td>\n",
       "            </tr>\n",
       "            <tr>\n",
       "                                <td id=\"T_19fced54_3349_11ed_b567_784f437c194arow7_col0\" class=\"data row7 col0\" >shape_Elongation</td>\n",
       "                        <td id=\"T_19fced54_3349_11ed_b567_784f437c194arow7_col1\" class=\"data row7 col1\" >-0.148606</td>\n",
       "            </tr>\n",
       "            <tr>\n",
       "                                <td id=\"T_19fced54_3349_11ed_b567_784f437c194arow8_col0\" class=\"data row8 col0\" >firstorder_Skewness</td>\n",
       "                        <td id=\"T_19fced54_3349_11ed_b567_784f437c194arow8_col1\" class=\"data row8 col1\" >0.050795</td>\n",
       "            </tr>\n",
       "    </tbody></table>"
      ],
      "text/plain": [
       "<pandas.io.formats.style.Styler at 0x7fa13f3206a0>"
      ]
     },
     "metadata": {},
     "output_type": "display_data"
    },
    {
     "name": "stdout",
     "output_type": "stream",
     "text": [
      "\n",
      "\n",
      "shape|firstorder|histogram\n"
     ]
    },
    {
     "data": {
      "text/html": [
       "<style  type=\"text/css\" >\n",
       "</style><table id=\"T_19fef8f6_3349_11ed_8834_784f437c194a\" ><thead>    <tr>        <th class=\"col_heading level0 col0\" >Feature</th>        <th class=\"col_heading level0 col1\" >Coef</th>    </tr></thead><tbody>\n",
       "                <tr>\n",
       "                                <td id=\"T_19fef8f6_3349_11ed_8834_784f437c194arow0_col0\" class=\"data row0 col0\" >firstorder_90Percentile</td>\n",
       "                        <td id=\"T_19fef8f6_3349_11ed_8834_784f437c194arow0_col1\" class=\"data row0 col1\" >-1.609627</td>\n",
       "            </tr>\n",
       "            <tr>\n",
       "                                <td id=\"T_19fef8f6_3349_11ed_8834_784f437c194arow1_col0\" class=\"data row1 col0\" >firstorder_InterquartileRange</td>\n",
       "                        <td id=\"T_19fef8f6_3349_11ed_8834_784f437c194arow1_col1\" class=\"data row1 col1\" >1.158176</td>\n",
       "            </tr>\n",
       "            <tr>\n",
       "                                <td id=\"T_19fef8f6_3349_11ed_8834_784f437c194arow2_col0\" class=\"data row2 col0\" >shape_MeshVolume</td>\n",
       "                        <td id=\"T_19fef8f6_3349_11ed_8834_784f437c194arow2_col1\" class=\"data row2 col1\" >0.988651</td>\n",
       "            </tr>\n",
       "            <tr>\n",
       "                                <td id=\"T_19fef8f6_3349_11ed_8834_784f437c194arow3_col0\" class=\"data row3 col0\" >firstorder_Range</td>\n",
       "                        <td id=\"T_19fef8f6_3349_11ed_8834_784f437c194arow3_col1\" class=\"data row3 col1\" >0.623181</td>\n",
       "            </tr>\n",
       "            <tr>\n",
       "                                <td id=\"T_19fef8f6_3349_11ed_8834_784f437c194arow4_col0\" class=\"data row4 col0\" >shape_Flatness</td>\n",
       "                        <td id=\"T_19fef8f6_3349_11ed_8834_784f437c194arow4_col1\" class=\"data row4 col1\" >0.597546</td>\n",
       "            </tr>\n",
       "            <tr>\n",
       "                                <td id=\"T_19fef8f6_3349_11ed_8834_784f437c194arow5_col0\" class=\"data row5 col0\" >firstorder_Kurtosis</td>\n",
       "                        <td id=\"T_19fef8f6_3349_11ed_8834_784f437c194arow5_col1\" class=\"data row5 col1\" >-0.556821</td>\n",
       "            </tr>\n",
       "            <tr>\n",
       "                                <td id=\"T_19fef8f6_3349_11ed_8834_784f437c194arow6_col0\" class=\"data row6 col0\" >shape_Elongation</td>\n",
       "                        <td id=\"T_19fef8f6_3349_11ed_8834_784f437c194arow6_col1\" class=\"data row6 col1\" >-0.535343</td>\n",
       "            </tr>\n",
       "            <tr>\n",
       "                                <td id=\"T_19fef8f6_3349_11ed_8834_784f437c194arow7_col0\" class=\"data row7 col0\" >firstorder_Maximum</td>\n",
       "                        <td id=\"T_19fef8f6_3349_11ed_8834_784f437c194arow7_col1\" class=\"data row7 col1\" >0.517560</td>\n",
       "            </tr>\n",
       "            <tr>\n",
       "                                <td id=\"T_19fef8f6_3349_11ed_8834_784f437c194arow8_col0\" class=\"data row8 col0\" >shape_Sphericity</td>\n",
       "                        <td id=\"T_19fef8f6_3349_11ed_8834_784f437c194arow8_col1\" class=\"data row8 col1\" >-0.496160</td>\n",
       "            </tr>\n",
       "            <tr>\n",
       "                                <td id=\"T_19fef8f6_3349_11ed_8834_784f437c194arow9_col0\" class=\"data row9 col0\" >firstorder_RootMeanSquared</td>\n",
       "                        <td id=\"T_19fef8f6_3349_11ed_8834_784f437c194arow9_col1\" class=\"data row9 col1\" >-0.190984</td>\n",
       "            </tr>\n",
       "            <tr>\n",
       "                                <td id=\"T_19fef8f6_3349_11ed_8834_784f437c194arow10_col0\" class=\"data row10 col0\" >firstorder_Skewness</td>\n",
       "                        <td id=\"T_19fef8f6_3349_11ed_8834_784f437c194arow10_col1\" class=\"data row10 col1\" >0.108269</td>\n",
       "            </tr>\n",
       "    </tbody></table>"
      ],
      "text/plain": [
       "<pandas.io.formats.style.Styler at 0x7fa1406abe48>"
      ]
     },
     "metadata": {},
     "output_type": "display_data"
    },
    {
     "name": "stdout",
     "output_type": "stream",
     "text": [
      "\n",
      "\n",
      "shape|firstorder|histogram\n"
     ]
    },
    {
     "data": {
      "text/html": [
       "<style  type=\"text/css\" >\n",
       "</style><table id=\"T_1a00f066_3349_11ed_808c_784f437c194a\" ><thead>    <tr>        <th class=\"col_heading level0 col0\" >Feature</th>        <th class=\"col_heading level0 col1\" >Coef</th>    </tr></thead><tbody>\n",
       "                <tr>\n",
       "                                <td id=\"T_1a00f066_3349_11ed_808c_784f437c194arow0_col0\" class=\"data row0 col0\" >firstorder_90Percentile</td>\n",
       "                        <td id=\"T_1a00f066_3349_11ed_808c_784f437c194arow0_col1\" class=\"data row0 col1\" >-1.555744</td>\n",
       "            </tr>\n",
       "            <tr>\n",
       "                                <td id=\"T_1a00f066_3349_11ed_808c_784f437c194arow1_col0\" class=\"data row1 col0\" >shape_MeshVolume</td>\n",
       "                        <td id=\"T_1a00f066_3349_11ed_808c_784f437c194arow1_col1\" class=\"data row1 col1\" >0.909729</td>\n",
       "            </tr>\n",
       "            <tr>\n",
       "                                <td id=\"T_1a00f066_3349_11ed_808c_784f437c194arow2_col0\" class=\"data row2 col0\" >firstorder_Uniformity</td>\n",
       "                        <td id=\"T_1a00f066_3349_11ed_808c_784f437c194arow2_col1\" class=\"data row2 col1\" >-0.736988</td>\n",
       "            </tr>\n",
       "            <tr>\n",
       "                                <td id=\"T_1a00f066_3349_11ed_808c_784f437c194arow3_col0\" class=\"data row3 col0\" >firstorder_Maximum</td>\n",
       "                        <td id=\"T_1a00f066_3349_11ed_808c_784f437c194arow3_col1\" class=\"data row3 col1\" >0.557783</td>\n",
       "            </tr>\n",
       "            <tr>\n",
       "                                <td id=\"T_1a00f066_3349_11ed_808c_784f437c194arow4_col0\" class=\"data row4 col0\" >shape_Sphericity</td>\n",
       "                        <td id=\"T_1a00f066_3349_11ed_808c_784f437c194arow4_col1\" class=\"data row4 col1\" >-0.395584</td>\n",
       "            </tr>\n",
       "            <tr>\n",
       "                                <td id=\"T_1a00f066_3349_11ed_808c_784f437c194arow5_col0\" class=\"data row5 col0\" >firstorder_RootMeanSquared</td>\n",
       "                        <td id=\"T_1a00f066_3349_11ed_808c_784f437c194arow5_col1\" class=\"data row5 col1\" >-0.359090</td>\n",
       "            </tr>\n",
       "            <tr>\n",
       "                                <td id=\"T_1a00f066_3349_11ed_808c_784f437c194arow6_col0\" class=\"data row6 col0\" >firstorder_Kurtosis</td>\n",
       "                        <td id=\"T_1a00f066_3349_11ed_808c_784f437c194arow6_col1\" class=\"data row6 col1\" >-0.323724</td>\n",
       "            </tr>\n",
       "            <tr>\n",
       "                                <td id=\"T_1a00f066_3349_11ed_808c_784f437c194arow7_col0\" class=\"data row7 col0\" >shape_Elongation</td>\n",
       "                        <td id=\"T_1a00f066_3349_11ed_808c_784f437c194arow7_col1\" class=\"data row7 col1\" >-0.230676</td>\n",
       "            </tr>\n",
       "            <tr>\n",
       "                                <td id=\"T_1a00f066_3349_11ed_808c_784f437c194arow8_col0\" class=\"data row8 col0\" >shape_Flatness</td>\n",
       "                        <td id=\"T_1a00f066_3349_11ed_808c_784f437c194arow8_col1\" class=\"data row8 col1\" >0.124296</td>\n",
       "            </tr>\n",
       "            <tr>\n",
       "                                <td id=\"T_1a00f066_3349_11ed_808c_784f437c194arow9_col0\" class=\"data row9 col0\" >firstorder_Skewness</td>\n",
       "                        <td id=\"T_1a00f066_3349_11ed_808c_784f437c194arow9_col1\" class=\"data row9 col1\" >0.010502</td>\n",
       "            </tr>\n",
       "    </tbody></table>"
      ],
      "text/plain": [
       "<pandas.io.formats.style.Styler at 0x7fa13f514080>"
      ]
     },
     "metadata": {},
     "output_type": "display_data"
    },
    {
     "name": "stdout",
     "output_type": "stream",
     "text": [
      "\n",
      "\n",
      "shape|firstorder|histogram\n"
     ]
    },
    {
     "data": {
      "text/html": [
       "<style  type=\"text/css\" >\n",
       "</style><table id=\"T_1a02c974_3349_11ed_b84e_784f437c194a\" ><thead>    <tr>        <th class=\"col_heading level0 col0\" >Feature</th>        <th class=\"col_heading level0 col1\" >Coef</th>    </tr></thead><tbody>\n",
       "                <tr>\n",
       "                                <td id=\"T_1a02c974_3349_11ed_b84e_784f437c194arow0_col0\" class=\"data row0 col0\" >firstorder_90Percentile</td>\n",
       "                        <td id=\"T_1a02c974_3349_11ed_b84e_784f437c194arow0_col1\" class=\"data row0 col1\" >-1.517410</td>\n",
       "            </tr>\n",
       "            <tr>\n",
       "                                <td id=\"T_1a02c974_3349_11ed_b84e_784f437c194arow1_col0\" class=\"data row1 col0\" >firstorder_InterquartileRange</td>\n",
       "                        <td id=\"T_1a02c974_3349_11ed_b84e_784f437c194arow1_col1\" class=\"data row1 col1\" >0.944079</td>\n",
       "            </tr>\n",
       "            <tr>\n",
       "                                <td id=\"T_1a02c974_3349_11ed_b84e_784f437c194arow2_col0\" class=\"data row2 col0\" >firstorder_Maximum</td>\n",
       "                        <td id=\"T_1a02c974_3349_11ed_b84e_784f437c194arow2_col1\" class=\"data row2 col1\" >0.836575</td>\n",
       "            </tr>\n",
       "            <tr>\n",
       "                                <td id=\"T_1a02c974_3349_11ed_b84e_784f437c194arow3_col0\" class=\"data row3 col0\" >shape_MeshVolume</td>\n",
       "                        <td id=\"T_1a02c974_3349_11ed_b84e_784f437c194arow3_col1\" class=\"data row3 col1\" >0.568193</td>\n",
       "            </tr>\n",
       "            <tr>\n",
       "                                <td id=\"T_1a02c974_3349_11ed_b84e_784f437c194arow4_col0\" class=\"data row4 col0\" >firstorder_Kurtosis</td>\n",
       "                        <td id=\"T_1a02c974_3349_11ed_b84e_784f437c194arow4_col1\" class=\"data row4 col1\" >-0.374772</td>\n",
       "            </tr>\n",
       "            <tr>\n",
       "                                <td id=\"T_1a02c974_3349_11ed_b84e_784f437c194arow5_col0\" class=\"data row5 col0\" >shape_Elongation</td>\n",
       "                        <td id=\"T_1a02c974_3349_11ed_b84e_784f437c194arow5_col1\" class=\"data row5 col1\" >-0.341305</td>\n",
       "            </tr>\n",
       "            <tr>\n",
       "                                <td id=\"T_1a02c974_3349_11ed_b84e_784f437c194arow6_col0\" class=\"data row6 col0\" >shape_Sphericity</td>\n",
       "                        <td id=\"T_1a02c974_3349_11ed_b84e_784f437c194arow6_col1\" class=\"data row6 col1\" >-0.227314</td>\n",
       "            </tr>\n",
       "            <tr>\n",
       "                                <td id=\"T_1a02c974_3349_11ed_b84e_784f437c194arow7_col0\" class=\"data row7 col0\" >firstorder_RootMeanSquared</td>\n",
       "                        <td id=\"T_1a02c974_3349_11ed_b84e_784f437c194arow7_col1\" class=\"data row7 col1\" >-0.222458</td>\n",
       "            </tr>\n",
       "            <tr>\n",
       "                                <td id=\"T_1a02c974_3349_11ed_b84e_784f437c194arow8_col0\" class=\"data row8 col0\" >shape_Flatness</td>\n",
       "                        <td id=\"T_1a02c974_3349_11ed_b84e_784f437c194arow8_col1\" class=\"data row8 col1\" >0.151847</td>\n",
       "            </tr>\n",
       "    </tbody></table>"
      ],
      "text/plain": [
       "<pandas.io.formats.style.Styler at 0x7fa13f82b828>"
      ]
     },
     "metadata": {},
     "output_type": "display_data"
    },
    {
     "name": "stdout",
     "output_type": "stream",
     "text": [
      "\n",
      "\n",
      "shape|glcm|gldm|glszm|glrlm|ngtdm\n"
     ]
    },
    {
     "data": {
      "text/html": [
       "<style  type=\"text/css\" >\n",
       "</style><table id=\"T_1a046a86_3349_11ed_9bd3_784f437c194a\" ><thead>    <tr>        <th class=\"col_heading level0 col0\" >Feature</th>        <th class=\"col_heading level0 col1\" >Coef</th>    </tr></thead><tbody>\n",
       "                <tr>\n",
       "                                <td id=\"T_1a046a86_3349_11ed_9bd3_784f437c194arow0_col0\" class=\"data row0 col0\" >shape_MeshVolume</td>\n",
       "                        <td id=\"T_1a046a86_3349_11ed_9bd3_784f437c194arow0_col1\" class=\"data row0 col1\" >1.219848</td>\n",
       "            </tr>\n",
       "            <tr>\n",
       "                                <td id=\"T_1a046a86_3349_11ed_9bd3_784f437c194arow1_col0\" class=\"data row1 col0\" >glszm_ZoneEntropy</td>\n",
       "                        <td id=\"T_1a046a86_3349_11ed_9bd3_784f437c194arow1_col1\" class=\"data row1 col1\" >1.036836</td>\n",
       "            </tr>\n",
       "            <tr>\n",
       "                                <td id=\"T_1a046a86_3349_11ed_9bd3_784f437c194arow2_col0\" class=\"data row2 col0\" >shape_Sphericity</td>\n",
       "                        <td id=\"T_1a046a86_3349_11ed_9bd3_784f437c194arow2_col1\" class=\"data row2 col1\" >-0.738530</td>\n",
       "            </tr>\n",
       "            <tr>\n",
       "                                <td id=\"T_1a046a86_3349_11ed_9bd3_784f437c194arow3_col0\" class=\"data row3 col0\" >glszm_SmallAreaEmphasis</td>\n",
       "                        <td id=\"T_1a046a86_3349_11ed_9bd3_784f437c194arow3_col1\" class=\"data row3 col1\" >0.735459</td>\n",
       "            </tr>\n",
       "            <tr>\n",
       "                                <td id=\"T_1a046a86_3349_11ed_9bd3_784f437c194arow4_col0\" class=\"data row4 col0\" >glszm_LargeAreaLowGrayLevelEmphasis</td>\n",
       "                        <td id=\"T_1a046a86_3349_11ed_9bd3_784f437c194arow4_col1\" class=\"data row4 col1\" >0.256818</td>\n",
       "            </tr>\n",
       "            <tr>\n",
       "                                <td id=\"T_1a046a86_3349_11ed_9bd3_784f437c194arow5_col0\" class=\"data row5 col0\" >shape_Elongation</td>\n",
       "                        <td id=\"T_1a046a86_3349_11ed_9bd3_784f437c194arow5_col1\" class=\"data row5 col1\" >-0.232265</td>\n",
       "            </tr>\n",
       "            <tr>\n",
       "                                <td id=\"T_1a046a86_3349_11ed_9bd3_784f437c194arow6_col0\" class=\"data row6 col0\" >ngtdm_Strength</td>\n",
       "                        <td id=\"T_1a046a86_3349_11ed_9bd3_784f437c194arow6_col1\" class=\"data row6 col1\" >-0.141679</td>\n",
       "            </tr>\n",
       "            <tr>\n",
       "                                <td id=\"T_1a046a86_3349_11ed_9bd3_784f437c194arow7_col0\" class=\"data row7 col0\" >gldm_DependenceNonUniformityNormalized</td>\n",
       "                        <td id=\"T_1a046a86_3349_11ed_9bd3_784f437c194arow7_col1\" class=\"data row7 col1\" >-0.070439</td>\n",
       "            </tr>\n",
       "    </tbody></table>"
      ],
      "text/plain": [
       "<pandas.io.formats.style.Styler at 0x7fa13f32a320>"
      ]
     },
     "metadata": {},
     "output_type": "display_data"
    },
    {
     "name": "stdout",
     "output_type": "stream",
     "text": [
      "\n",
      "\n",
      "shape|firstorder|histogram\n"
     ]
    },
    {
     "data": {
      "text/html": [
       "<style  type=\"text/css\" >\n",
       "</style><table id=\"T_1a05c4a6_3349_11ed_8f02_784f437c194a\" ><thead>    <tr>        <th class=\"col_heading level0 col0\" >Feature</th>        <th class=\"col_heading level0 col1\" >Coef</th>    </tr></thead><tbody>\n",
       "                <tr>\n",
       "                                <td id=\"T_1a05c4a6_3349_11ed_8f02_784f437c194arow0_col0\" class=\"data row0 col0\" >firstorder_90Percentile</td>\n",
       "                        <td id=\"T_1a05c4a6_3349_11ed_8f02_784f437c194arow0_col1\" class=\"data row0 col1\" >-2.504399</td>\n",
       "            </tr>\n",
       "            <tr>\n",
       "                                <td id=\"T_1a05c4a6_3349_11ed_8f02_784f437c194arow1_col0\" class=\"data row1 col0\" >firstorder_Maximum</td>\n",
       "                        <td id=\"T_1a05c4a6_3349_11ed_8f02_784f437c194arow1_col1\" class=\"data row1 col1\" >2.045553</td>\n",
       "            </tr>\n",
       "            <tr>\n",
       "                                <td id=\"T_1a05c4a6_3349_11ed_8f02_784f437c194arow2_col0\" class=\"data row2 col0\" >firstorder_InterquartileRange</td>\n",
       "                        <td id=\"T_1a05c4a6_3349_11ed_8f02_784f437c194arow2_col1\" class=\"data row2 col1\" >1.359861</td>\n",
       "            </tr>\n",
       "            <tr>\n",
       "                                <td id=\"T_1a05c4a6_3349_11ed_8f02_784f437c194arow3_col0\" class=\"data row3 col0\" >shape_Elongation</td>\n",
       "                        <td id=\"T_1a05c4a6_3349_11ed_8f02_784f437c194arow3_col1\" class=\"data row3 col1\" >-0.886880</td>\n",
       "            </tr>\n",
       "            <tr>\n",
       "                                <td id=\"T_1a05c4a6_3349_11ed_8f02_784f437c194arow4_col0\" class=\"data row4 col0\" >firstorder_Kurtosis</td>\n",
       "                        <td id=\"T_1a05c4a6_3349_11ed_8f02_784f437c194arow4_col1\" class=\"data row4 col1\" >-0.862346</td>\n",
       "            </tr>\n",
       "            <tr>\n",
       "                                <td id=\"T_1a05c4a6_3349_11ed_8f02_784f437c194arow5_col0\" class=\"data row5 col0\" >shape_MeshVolume</td>\n",
       "                        <td id=\"T_1a05c4a6_3349_11ed_8f02_784f437c194arow5_col1\" class=\"data row5 col1\" >0.800146</td>\n",
       "            </tr>\n",
       "            <tr>\n",
       "                                <td id=\"T_1a05c4a6_3349_11ed_8f02_784f437c194arow6_col0\" class=\"data row6 col0\" >shape_Flatness</td>\n",
       "                        <td id=\"T_1a05c4a6_3349_11ed_8f02_784f437c194arow6_col1\" class=\"data row6 col1\" >0.766264</td>\n",
       "            </tr>\n",
       "            <tr>\n",
       "                                <td id=\"T_1a05c4a6_3349_11ed_8f02_784f437c194arow7_col0\" class=\"data row7 col0\" >shape_Sphericity</td>\n",
       "                        <td id=\"T_1a05c4a6_3349_11ed_8f02_784f437c194arow7_col1\" class=\"data row7 col1\" >-0.301097</td>\n",
       "            </tr>\n",
       "            <tr>\n",
       "                                <td id=\"T_1a05c4a6_3349_11ed_8f02_784f437c194arow8_col0\" class=\"data row8 col0\" >firstorder_RootMeanSquared</td>\n",
       "                        <td id=\"T_1a05c4a6_3349_11ed_8f02_784f437c194arow8_col1\" class=\"data row8 col1\" >-0.233465</td>\n",
       "            </tr>\n",
       "            <tr>\n",
       "                                <td id=\"T_1a05c4a6_3349_11ed_8f02_784f437c194arow9_col0\" class=\"data row9 col0\" >firstorder_Skewness</td>\n",
       "                        <td id=\"T_1a05c4a6_3349_11ed_8f02_784f437c194arow9_col1\" class=\"data row9 col1\" >-0.203695</td>\n",
       "            </tr>\n",
       "            <tr>\n",
       "                                <td id=\"T_1a05c4a6_3349_11ed_8f02_784f437c194arow10_col0\" class=\"data row10 col0\" >firstorder_Minimum</td>\n",
       "                        <td id=\"T_1a05c4a6_3349_11ed_8f02_784f437c194arow10_col1\" class=\"data row10 col1\" >0.202663</td>\n",
       "            </tr>\n",
       "    </tbody></table>"
      ],
      "text/plain": [
       "<pandas.io.formats.style.Styler at 0x7fa13f2b66a0>"
      ]
     },
     "metadata": {},
     "output_type": "display_data"
    },
    {
     "name": "stdout",
     "output_type": "stream",
     "text": [
      "\n",
      "\n",
      "shape|firstorder|histogram\n"
     ]
    },
    {
     "data": {
      "text/html": [
       "<style  type=\"text/css\" >\n",
       "</style><table id=\"T_1a078250_3349_11ed_8edd_784f437c194a\" ><thead>    <tr>        <th class=\"col_heading level0 col0\" >Feature</th>        <th class=\"col_heading level0 col1\" >Coef</th>    </tr></thead><tbody>\n",
       "                <tr>\n",
       "                                <td id=\"T_1a078250_3349_11ed_8edd_784f437c194arow0_col0\" class=\"data row0 col0\" >firstorder_90Percentile</td>\n",
       "                        <td id=\"T_1a078250_3349_11ed_8edd_784f437c194arow0_col1\" class=\"data row0 col1\" >-1.197808</td>\n",
       "            </tr>\n",
       "            <tr>\n",
       "                                <td id=\"T_1a078250_3349_11ed_8edd_784f437c194arow1_col0\" class=\"data row1 col0\" >shape_MeshVolume</td>\n",
       "                        <td id=\"T_1a078250_3349_11ed_8edd_784f437c194arow1_col1\" class=\"data row1 col1\" >0.526701</td>\n",
       "            </tr>\n",
       "            <tr>\n",
       "                                <td id=\"T_1a078250_3349_11ed_8edd_784f437c194arow2_col0\" class=\"data row2 col0\" >firstorder_InterquartileRange</td>\n",
       "                        <td id=\"T_1a078250_3349_11ed_8edd_784f437c194arow2_col1\" class=\"data row2 col1\" >0.520960</td>\n",
       "            </tr>\n",
       "            <tr>\n",
       "                                <td id=\"T_1a078250_3349_11ed_8edd_784f437c194arow3_col0\" class=\"data row3 col0\" >firstorder_Maximum</td>\n",
       "                        <td id=\"T_1a078250_3349_11ed_8edd_784f437c194arow3_col1\" class=\"data row3 col1\" >0.481143</td>\n",
       "            </tr>\n",
       "            <tr>\n",
       "                                <td id=\"T_1a078250_3349_11ed_8edd_784f437c194arow4_col0\" class=\"data row4 col0\" >shape_Sphericity</td>\n",
       "                        <td id=\"T_1a078250_3349_11ed_8edd_784f437c194arow4_col1\" class=\"data row4 col1\" >-0.354762</td>\n",
       "            </tr>\n",
       "            <tr>\n",
       "                                <td id=\"T_1a078250_3349_11ed_8edd_784f437c194arow5_col0\" class=\"data row5 col0\" >shape_Elongation</td>\n",
       "                        <td id=\"T_1a078250_3349_11ed_8edd_784f437c194arow5_col1\" class=\"data row5 col1\" >-0.198756</td>\n",
       "            </tr>\n",
       "            <tr>\n",
       "                                <td id=\"T_1a078250_3349_11ed_8edd_784f437c194arow6_col0\" class=\"data row6 col0\" >firstorder_Kurtosis</td>\n",
       "                        <td id=\"T_1a078250_3349_11ed_8edd_784f437c194arow6_col1\" class=\"data row6 col1\" >-0.160211</td>\n",
       "            </tr>\n",
       "            <tr>\n",
       "                                <td id=\"T_1a078250_3349_11ed_8edd_784f437c194arow7_col0\" class=\"data row7 col0\" >firstorder_RootMeanSquared</td>\n",
       "                        <td id=\"T_1a078250_3349_11ed_8edd_784f437c194arow7_col1\" class=\"data row7 col1\" >-0.128435</td>\n",
       "            </tr>\n",
       "            <tr>\n",
       "                                <td id=\"T_1a078250_3349_11ed_8edd_784f437c194arow8_col0\" class=\"data row8 col0\" >firstorder_Minimum</td>\n",
       "                        <td id=\"T_1a078250_3349_11ed_8edd_784f437c194arow8_col1\" class=\"data row8 col1\" >-0.004768</td>\n",
       "            </tr>\n",
       "    </tbody></table>"
      ],
      "text/plain": [
       "<pandas.io.formats.style.Styler at 0x7fa13f32e860>"
      ]
     },
     "metadata": {},
     "output_type": "display_data"
    },
    {
     "name": "stdout",
     "output_type": "stream",
     "text": [
      "\n",
      "\n",
      "shape|firstorder|histogram\n"
     ]
    },
    {
     "data": {
      "text/html": [
       "<style  type=\"text/css\" >\n",
       "</style><table id=\"T_1a08e410_3349_11ed_bbe7_784f437c194a\" ><thead>    <tr>        <th class=\"col_heading level0 col0\" >Feature</th>        <th class=\"col_heading level0 col1\" >Coef</th>    </tr></thead><tbody>\n",
       "                <tr>\n",
       "                                <td id=\"T_1a08e410_3349_11ed_bbe7_784f437c194arow0_col0\" class=\"data row0 col0\" >firstorder_90Percentile</td>\n",
       "                        <td id=\"T_1a08e410_3349_11ed_bbe7_784f437c194arow0_col1\" class=\"data row0 col1\" >-1.713625</td>\n",
       "            </tr>\n",
       "            <tr>\n",
       "                                <td id=\"T_1a08e410_3349_11ed_bbe7_784f437c194arow1_col0\" class=\"data row1 col0\" >firstorder_Maximum</td>\n",
       "                        <td id=\"T_1a08e410_3349_11ed_bbe7_784f437c194arow1_col1\" class=\"data row1 col1\" >0.917625</td>\n",
       "            </tr>\n",
       "            <tr>\n",
       "                                <td id=\"T_1a08e410_3349_11ed_bbe7_784f437c194arow2_col0\" class=\"data row2 col0\" >firstorder_Uniformity</td>\n",
       "                        <td id=\"T_1a08e410_3349_11ed_bbe7_784f437c194arow2_col1\" class=\"data row2 col1\" >-0.747189</td>\n",
       "            </tr>\n",
       "            <tr>\n",
       "                                <td id=\"T_1a08e410_3349_11ed_bbe7_784f437c194arow3_col0\" class=\"data row3 col0\" >shape_MeshVolume</td>\n",
       "                        <td id=\"T_1a08e410_3349_11ed_bbe7_784f437c194arow3_col1\" class=\"data row3 col1\" >0.605170</td>\n",
       "            </tr>\n",
       "            <tr>\n",
       "                                <td id=\"T_1a08e410_3349_11ed_bbe7_784f437c194arow4_col0\" class=\"data row4 col0\" >firstorder_Kurtosis</td>\n",
       "                        <td id=\"T_1a08e410_3349_11ed_bbe7_784f437c194arow4_col1\" class=\"data row4 col1\" >-0.497414</td>\n",
       "            </tr>\n",
       "            <tr>\n",
       "                                <td id=\"T_1a08e410_3349_11ed_bbe7_784f437c194arow5_col0\" class=\"data row5 col0\" >shape_Elongation</td>\n",
       "                        <td id=\"T_1a08e410_3349_11ed_bbe7_784f437c194arow5_col1\" class=\"data row5 col1\" >-0.301200</td>\n",
       "            </tr>\n",
       "            <tr>\n",
       "                                <td id=\"T_1a08e410_3349_11ed_bbe7_784f437c194arow6_col0\" class=\"data row6 col0\" >firstorder_RootMeanSquared</td>\n",
       "                        <td id=\"T_1a08e410_3349_11ed_bbe7_784f437c194arow6_col1\" class=\"data row6 col1\" >-0.263566</td>\n",
       "            </tr>\n",
       "            <tr>\n",
       "                                <td id=\"T_1a08e410_3349_11ed_bbe7_784f437c194arow7_col0\" class=\"data row7 col0\" >firstorder_Skewness</td>\n",
       "                        <td id=\"T_1a08e410_3349_11ed_bbe7_784f437c194arow7_col1\" class=\"data row7 col1\" >0.146281</td>\n",
       "            </tr>\n",
       "            <tr>\n",
       "                                <td id=\"T_1a08e410_3349_11ed_bbe7_784f437c194arow8_col0\" class=\"data row8 col0\" >shape_Sphericity</td>\n",
       "                        <td id=\"T_1a08e410_3349_11ed_bbe7_784f437c194arow8_col1\" class=\"data row8 col1\" >-0.021535</td>\n",
       "            </tr>\n",
       "    </tbody></table>"
      ],
      "text/plain": [
       "<pandas.io.formats.style.Styler at 0x7fa13f320748>"
      ]
     },
     "metadata": {},
     "output_type": "display_data"
    },
    {
     "name": "stdout",
     "output_type": "stream",
     "text": [
      "\n",
      "\n",
      "firstorder|histogram|glcm|gldm|glszm|glrlm|ngtdm\n"
     ]
    },
    {
     "data": {
      "text/html": [
       "<style  type=\"text/css\" >\n",
       "</style><table id=\"T_1a0ae058_3349_11ed_8048_784f437c194a\" ><thead>    <tr>        <th class=\"col_heading level0 col0\" >Feature</th>        <th class=\"col_heading level0 col1\" >Coef</th>    </tr></thead><tbody>\n",
       "                <tr>\n",
       "                                <td id=\"T_1a0ae058_3349_11ed_8048_784f437c194arow0_col0\" class=\"data row0 col0\" >firstorder_90Percentile</td>\n",
       "                        <td id=\"T_1a0ae058_3349_11ed_8048_784f437c194arow0_col1\" class=\"data row0 col1\" >-1.987797</td>\n",
       "            </tr>\n",
       "            <tr>\n",
       "                                <td id=\"T_1a0ae058_3349_11ed_8048_784f437c194arow1_col0\" class=\"data row1 col0\" >glszm_ZoneEntropy</td>\n",
       "                        <td id=\"T_1a0ae058_3349_11ed_8048_784f437c194arow1_col1\" class=\"data row1 col1\" >1.161805</td>\n",
       "            </tr>\n",
       "            <tr>\n",
       "                                <td id=\"T_1a0ae058_3349_11ed_8048_784f437c194arow2_col0\" class=\"data row2 col0\" >ngtdm_Strength</td>\n",
       "                        <td id=\"T_1a0ae058_3349_11ed_8048_784f437c194arow2_col1\" class=\"data row2 col1\" >-0.753980</td>\n",
       "            </tr>\n",
       "            <tr>\n",
       "                                <td id=\"T_1a0ae058_3349_11ed_8048_784f437c194arow3_col0\" class=\"data row3 col0\" >glszm_SizeZoneNonUniformityNormalized</td>\n",
       "                        <td id=\"T_1a0ae058_3349_11ed_8048_784f437c194arow3_col1\" class=\"data row3 col1\" >0.723685</td>\n",
       "            </tr>\n",
       "            <tr>\n",
       "                                <td id=\"T_1a0ae058_3349_11ed_8048_784f437c194arow4_col0\" class=\"data row4 col0\" >firstorder_InterquartileRange</td>\n",
       "                        <td id=\"T_1a0ae058_3349_11ed_8048_784f437c194arow4_col1\" class=\"data row4 col1\" >0.660878</td>\n",
       "            </tr>\n",
       "            <tr>\n",
       "                                <td id=\"T_1a0ae058_3349_11ed_8048_784f437c194arow5_col0\" class=\"data row5 col0\" >firstorder_RootMeanSquared</td>\n",
       "                        <td id=\"T_1a0ae058_3349_11ed_8048_784f437c194arow5_col1\" class=\"data row5 col1\" >-0.641876</td>\n",
       "            </tr>\n",
       "            <tr>\n",
       "                                <td id=\"T_1a0ae058_3349_11ed_8048_784f437c194arow6_col0\" class=\"data row6 col0\" >firstorder_Maximum</td>\n",
       "                        <td id=\"T_1a0ae058_3349_11ed_8048_784f437c194arow6_col1\" class=\"data row6 col1\" >0.562436</td>\n",
       "            </tr>\n",
       "            <tr>\n",
       "                                <td id=\"T_1a0ae058_3349_11ed_8048_784f437c194arow7_col0\" class=\"data row7 col0\" >firstorder_Skewness</td>\n",
       "                        <td id=\"T_1a0ae058_3349_11ed_8048_784f437c194arow7_col1\" class=\"data row7 col1\" >0.315583</td>\n",
       "            </tr>\n",
       "            <tr>\n",
       "                                <td id=\"T_1a0ae058_3349_11ed_8048_784f437c194arow8_col0\" class=\"data row8 col0\" >gldm_DependenceNonUniformityNormalized</td>\n",
       "                        <td id=\"T_1a0ae058_3349_11ed_8048_784f437c194arow8_col1\" class=\"data row8 col1\" >-0.238632</td>\n",
       "            </tr>\n",
       "            <tr>\n",
       "                                <td id=\"T_1a0ae058_3349_11ed_8048_784f437c194arow9_col0\" class=\"data row9 col0\" >glszm_LargeAreaLowGrayLevelEmphasis</td>\n",
       "                        <td id=\"T_1a0ae058_3349_11ed_8048_784f437c194arow9_col1\" class=\"data row9 col1\" >0.015132</td>\n",
       "            </tr>\n",
       "    </tbody></table>"
      ],
      "text/plain": [
       "<pandas.io.formats.style.Styler at 0x7fa1406abe48>"
      ]
     },
     "metadata": {},
     "output_type": "display_data"
    },
    {
     "name": "stdout",
     "output_type": "stream",
     "text": [
      "\n",
      "\n",
      "firstorder|histogram\n"
     ]
    },
    {
     "data": {
      "text/html": [
       "<style  type=\"text/css\" >\n",
       "</style><table id=\"T_1a0cc382_3349_11ed_adaa_784f437c194a\" ><thead>    <tr>        <th class=\"col_heading level0 col0\" >Feature</th>        <th class=\"col_heading level0 col1\" >Coef</th>    </tr></thead><tbody>\n",
       "                <tr>\n",
       "                                <td id=\"T_1a0cc382_3349_11ed_adaa_784f437c194arow0_col0\" class=\"data row0 col0\" >firstorder_90Percentile</td>\n",
       "                        <td id=\"T_1a0cc382_3349_11ed_adaa_784f437c194arow0_col1\" class=\"data row0 col1\" >-1.986859</td>\n",
       "            </tr>\n",
       "            <tr>\n",
       "                                <td id=\"T_1a0cc382_3349_11ed_adaa_784f437c194arow1_col0\" class=\"data row1 col0\" >firstorder_Maximum</td>\n",
       "                        <td id=\"T_1a0cc382_3349_11ed_adaa_784f437c194arow1_col1\" class=\"data row1 col1\" >1.488859</td>\n",
       "            </tr>\n",
       "            <tr>\n",
       "                                <td id=\"T_1a0cc382_3349_11ed_adaa_784f437c194arow2_col0\" class=\"data row2 col0\" >firstorder_InterquartileRange</td>\n",
       "                        <td id=\"T_1a0cc382_3349_11ed_adaa_784f437c194arow2_col1\" class=\"data row2 col1\" >1.262801</td>\n",
       "            </tr>\n",
       "            <tr>\n",
       "                                <td id=\"T_1a0cc382_3349_11ed_adaa_784f437c194arow3_col0\" class=\"data row3 col0\" >firstorder_RootMeanSquared</td>\n",
       "                        <td id=\"T_1a0cc382_3349_11ed_adaa_784f437c194arow3_col1\" class=\"data row3 col1\" >-0.349689</td>\n",
       "            </tr>\n",
       "            <tr>\n",
       "                                <td id=\"T_1a0cc382_3349_11ed_adaa_784f437c194arow4_col0\" class=\"data row4 col0\" >firstorder_Minimum</td>\n",
       "                        <td id=\"T_1a0cc382_3349_11ed_adaa_784f437c194arow4_col1\" class=\"data row4 col1\" >-0.219929</td>\n",
       "            </tr>\n",
       "    </tbody></table>"
      ],
      "text/plain": [
       "<pandas.io.formats.style.Styler at 0x7fa13f3a55f8>"
      ]
     },
     "metadata": {},
     "output_type": "display_data"
    },
    {
     "name": "stdout",
     "output_type": "stream",
     "text": [
      "\n",
      "\n",
      "\n"
     ]
    },
    {
     "data": {
      "text/html": [
       "<style  type=\"text/css\" >\n",
       "</style><table id=\"T_1a0de802_3349_11ed_992a_784f437c194a\" ><thead>    <tr>        <th class=\"col_heading level0 col0\" >Feature</th>        <th class=\"col_heading level0 col1\" >Coef</th>    </tr></thead><tbody>\n",
       "                <tr>\n",
       "                                <td id=\"T_1a0de802_3349_11ed_992a_784f437c194arow0_col0\" class=\"data row0 col0\" >firstorder_Median</td>\n",
       "                        <td id=\"T_1a0de802_3349_11ed_992a_784f437c194arow0_col1\" class=\"data row0 col1\" >-1.521296</td>\n",
       "            </tr>\n",
       "            <tr>\n",
       "                                <td id=\"T_1a0de802_3349_11ed_992a_784f437c194arow1_col0\" class=\"data row1 col0\" >firstorder_Maximum</td>\n",
       "                        <td id=\"T_1a0de802_3349_11ed_992a_784f437c194arow1_col1\" class=\"data row1 col1\" >0.395302</td>\n",
       "            </tr>\n",
       "            <tr>\n",
       "                                <td id=\"T_1a0de802_3349_11ed_992a_784f437c194arow2_col0\" class=\"data row2 col0\" >glszm_SmallAreaEmphasis</td>\n",
       "                        <td id=\"T_1a0de802_3349_11ed_992a_784f437c194arow2_col1\" class=\"data row2 col1\" >0.349498</td>\n",
       "            </tr>\n",
       "            <tr>\n",
       "                                <td id=\"T_1a0de802_3349_11ed_992a_784f437c194arow3_col0\" class=\"data row3 col0\" >glcm_Imc2</td>\n",
       "                        <td id=\"T_1a0de802_3349_11ed_992a_784f437c194arow3_col1\" class=\"data row3 col1\" >0.343163</td>\n",
       "            </tr>\n",
       "            <tr>\n",
       "                                <td id=\"T_1a0de802_3349_11ed_992a_784f437c194arow4_col0\" class=\"data row4 col0\" >firstorder_RootMeanSquared</td>\n",
       "                        <td id=\"T_1a0de802_3349_11ed_992a_784f437c194arow4_col1\" class=\"data row4 col1\" >-0.324773</td>\n",
       "            </tr>\n",
       "            <tr>\n",
       "                                <td id=\"T_1a0de802_3349_11ed_992a_784f437c194arow5_col0\" class=\"data row5 col0\" >ngtdm_Strength</td>\n",
       "                        <td id=\"T_1a0de802_3349_11ed_992a_784f437c194arow5_col1\" class=\"data row5 col1\" >-0.261964</td>\n",
       "            </tr>\n",
       "            <tr>\n",
       "                                <td id=\"T_1a0de802_3349_11ed_992a_784f437c194arow6_col0\" class=\"data row6 col0\" >firstorder_InterquartileRange</td>\n",
       "                        <td id=\"T_1a0de802_3349_11ed_992a_784f437c194arow6_col1\" class=\"data row6 col1\" >0.257989</td>\n",
       "            </tr>\n",
       "            <tr>\n",
       "                                <td id=\"T_1a0de802_3349_11ed_992a_784f437c194arow7_col0\" class=\"data row7 col0\" >shape_Sphericity</td>\n",
       "                        <td id=\"T_1a0de802_3349_11ed_992a_784f437c194arow7_col1\" class=\"data row7 col1\" >-0.239998</td>\n",
       "            </tr>\n",
       "            <tr>\n",
       "                                <td id=\"T_1a0de802_3349_11ed_992a_784f437c194arow8_col0\" class=\"data row8 col0\" >shape_Elongation</td>\n",
       "                        <td id=\"T_1a0de802_3349_11ed_992a_784f437c194arow8_col1\" class=\"data row8 col1\" >-0.209038</td>\n",
       "            </tr>\n",
       "            <tr>\n",
       "                                <td id=\"T_1a0de802_3349_11ed_992a_784f437c194arow9_col0\" class=\"data row9 col0\" >shape_MeshVolume</td>\n",
       "                        <td id=\"T_1a0de802_3349_11ed_992a_784f437c194arow9_col1\" class=\"data row9 col1\" >0.145974</td>\n",
       "            </tr>\n",
       "    </tbody></table>"
      ],
      "text/plain": [
       "<pandas.io.formats.style.Styler at 0x7fa13f32e358>"
      ]
     },
     "metadata": {},
     "output_type": "display_data"
    },
    {
     "name": "stdout",
     "output_type": "stream",
     "text": [
      "\n",
      "\n",
      "shape|firstorder|histogram\n"
     ]
    },
    {
     "data": {
      "text/html": [
       "<style  type=\"text/css\" >\n",
       "</style><table id=\"T_1a0f5610_3349_11ed_b5ed_784f437c194a\" ><thead>    <tr>        <th class=\"col_heading level0 col0\" >Feature</th>        <th class=\"col_heading level0 col1\" >Coef</th>    </tr></thead><tbody>\n",
       "                <tr>\n",
       "                                <td id=\"T_1a0f5610_3349_11ed_b5ed_784f437c194arow0_col0\" class=\"data row0 col0\" >firstorder_90Percentile</td>\n",
       "                        <td id=\"T_1a0f5610_3349_11ed_b5ed_784f437c194arow0_col1\" class=\"data row0 col1\" >-1.206648</td>\n",
       "            </tr>\n",
       "            <tr>\n",
       "                                <td id=\"T_1a0f5610_3349_11ed_b5ed_784f437c194arow1_col0\" class=\"data row1 col0\" >firstorder_InterquartileRange</td>\n",
       "                        <td id=\"T_1a0f5610_3349_11ed_b5ed_784f437c194arow1_col1\" class=\"data row1 col1\" >0.804549</td>\n",
       "            </tr>\n",
       "            <tr>\n",
       "                                <td id=\"T_1a0f5610_3349_11ed_b5ed_784f437c194arow2_col0\" class=\"data row2 col0\" >firstorder_Maximum</td>\n",
       "                        <td id=\"T_1a0f5610_3349_11ed_b5ed_784f437c194arow2_col1\" class=\"data row2 col1\" >0.544460</td>\n",
       "            </tr>\n",
       "            <tr>\n",
       "                                <td id=\"T_1a0f5610_3349_11ed_b5ed_784f437c194arow3_col0\" class=\"data row3 col0\" >shape_MeshVolume</td>\n",
       "                        <td id=\"T_1a0f5610_3349_11ed_b5ed_784f437c194arow3_col1\" class=\"data row3 col1\" >0.515568</td>\n",
       "            </tr>\n",
       "            <tr>\n",
       "                                <td id=\"T_1a0f5610_3349_11ed_b5ed_784f437c194arow4_col0\" class=\"data row4 col0\" >shape_Sphericity</td>\n",
       "                        <td id=\"T_1a0f5610_3349_11ed_b5ed_784f437c194arow4_col1\" class=\"data row4 col1\" >-0.293156</td>\n",
       "            </tr>\n",
       "            <tr>\n",
       "                                <td id=\"T_1a0f5610_3349_11ed_b5ed_784f437c194arow5_col0\" class=\"data row5 col0\" >firstorder_Kurtosis</td>\n",
       "                        <td id=\"T_1a0f5610_3349_11ed_b5ed_784f437c194arow5_col1\" class=\"data row5 col1\" >-0.211009</td>\n",
       "            </tr>\n",
       "            <tr>\n",
       "                                <td id=\"T_1a0f5610_3349_11ed_b5ed_784f437c194arow6_col0\" class=\"data row6 col0\" >shape_Elongation</td>\n",
       "                        <td id=\"T_1a0f5610_3349_11ed_b5ed_784f437c194arow6_col1\" class=\"data row6 col1\" >-0.200693</td>\n",
       "            </tr>\n",
       "            <tr>\n",
       "                                <td id=\"T_1a0f5610_3349_11ed_b5ed_784f437c194arow7_col0\" class=\"data row7 col0\" >firstorder_RootMeanSquared</td>\n",
       "                        <td id=\"T_1a0f5610_3349_11ed_b5ed_784f437c194arow7_col1\" class=\"data row7 col1\" >-0.130143</td>\n",
       "            </tr>\n",
       "    </tbody></table>"
      ],
      "text/plain": [
       "<pandas.io.formats.style.Styler at 0x7fa13f514080>"
      ]
     },
     "metadata": {},
     "output_type": "display_data"
    },
    {
     "name": "stdout",
     "output_type": "stream",
     "text": [
      "\n",
      "\n",
      "shape|firstorder|histogram\n"
     ]
    },
    {
     "data": {
      "text/html": [
       "<style  type=\"text/css\" >\n",
       "</style><table id=\"T_1a10bb18_3349_11ed_8473_784f437c194a\" ><thead>    <tr>        <th class=\"col_heading level0 col0\" >Feature</th>        <th class=\"col_heading level0 col1\" >Coef</th>    </tr></thead><tbody>\n",
       "                <tr>\n",
       "                                <td id=\"T_1a10bb18_3349_11ed_8473_784f437c194arow0_col0\" class=\"data row0 col0\" >firstorder_Median</td>\n",
       "                        <td id=\"T_1a10bb18_3349_11ed_8473_784f437c194arow0_col1\" class=\"data row0 col1\" >-1.698189</td>\n",
       "            </tr>\n",
       "            <tr>\n",
       "                                <td id=\"T_1a10bb18_3349_11ed_8473_784f437c194arow1_col0\" class=\"data row1 col0\" >shape_MeshVolume</td>\n",
       "                        <td id=\"T_1a10bb18_3349_11ed_8473_784f437c194arow1_col1\" class=\"data row1 col1\" >0.880629</td>\n",
       "            </tr>\n",
       "            <tr>\n",
       "                                <td id=\"T_1a10bb18_3349_11ed_8473_784f437c194arow2_col0\" class=\"data row2 col0\" >firstorder_Maximum</td>\n",
       "                        <td id=\"T_1a10bb18_3349_11ed_8473_784f437c194arow2_col1\" class=\"data row2 col1\" >0.746826</td>\n",
       "            </tr>\n",
       "            <tr>\n",
       "                                <td id=\"T_1a10bb18_3349_11ed_8473_784f437c194arow3_col0\" class=\"data row3 col0\" >firstorder_InterquartileRange</td>\n",
       "                        <td id=\"T_1a10bb18_3349_11ed_8473_784f437c194arow3_col1\" class=\"data row3 col1\" >0.412018</td>\n",
       "            </tr>\n",
       "            <tr>\n",
       "                                <td id=\"T_1a10bb18_3349_11ed_8473_784f437c194arow4_col0\" class=\"data row4 col0\" >shape_Sphericity</td>\n",
       "                        <td id=\"T_1a10bb18_3349_11ed_8473_784f437c194arow4_col1\" class=\"data row4 col1\" >-0.376742</td>\n",
       "            </tr>\n",
       "            <tr>\n",
       "                                <td id=\"T_1a10bb18_3349_11ed_8473_784f437c194arow5_col0\" class=\"data row5 col0\" >firstorder_Kurtosis</td>\n",
       "                        <td id=\"T_1a10bb18_3349_11ed_8473_784f437c194arow5_col1\" class=\"data row5 col1\" >-0.345006</td>\n",
       "            </tr>\n",
       "            <tr>\n",
       "                                <td id=\"T_1a10bb18_3349_11ed_8473_784f437c194arow6_col0\" class=\"data row6 col0\" >firstorder_RootMeanSquared</td>\n",
       "                        <td id=\"T_1a10bb18_3349_11ed_8473_784f437c194arow6_col1\" class=\"data row6 col1\" >-0.271617</td>\n",
       "            </tr>\n",
       "            <tr>\n",
       "                                <td id=\"T_1a10bb18_3349_11ed_8473_784f437c194arow7_col0\" class=\"data row7 col0\" >shape_Elongation</td>\n",
       "                        <td id=\"T_1a10bb18_3349_11ed_8473_784f437c194arow7_col1\" class=\"data row7 col1\" >-0.226875</td>\n",
       "            </tr>\n",
       "            <tr>\n",
       "                                <td id=\"T_1a10bb18_3349_11ed_8473_784f437c194arow8_col0\" class=\"data row8 col0\" >shape_Flatness</td>\n",
       "                        <td id=\"T_1a10bb18_3349_11ed_8473_784f437c194arow8_col1\" class=\"data row8 col1\" >0.190490</td>\n",
       "            </tr>\n",
       "    </tbody></table>"
      ],
      "text/plain": [
       "<pandas.io.formats.style.Styler at 0x7fa13f320550>"
      ]
     },
     "metadata": {},
     "output_type": "display_data"
    },
    {
     "name": "stdout",
     "output_type": "stream",
     "text": [
      "\n",
      "\n",
      "shape|firstorder|histogram\n"
     ]
    },
    {
     "data": {
      "text/html": [
       "<style  type=\"text/css\" >\n",
       "</style><table id=\"T_1a12389e_3349_11ed_8929_784f437c194a\" ><thead>    <tr>        <th class=\"col_heading level0 col0\" >Feature</th>        <th class=\"col_heading level0 col1\" >Coef</th>    </tr></thead><tbody>\n",
       "                <tr>\n",
       "                                <td id=\"T_1a12389e_3349_11ed_8929_784f437c194arow0_col0\" class=\"data row0 col0\" >firstorder_90Percentile</td>\n",
       "                        <td id=\"T_1a12389e_3349_11ed_8929_784f437c194arow0_col1\" class=\"data row0 col1\" >-1.251131</td>\n",
       "            </tr>\n",
       "            <tr>\n",
       "                                <td id=\"T_1a12389e_3349_11ed_8929_784f437c194arow1_col0\" class=\"data row1 col0\" >firstorder_InterquartileRange</td>\n",
       "                        <td id=\"T_1a12389e_3349_11ed_8929_784f437c194arow1_col1\" class=\"data row1 col1\" >0.741519</td>\n",
       "            </tr>\n",
       "            <tr>\n",
       "                                <td id=\"T_1a12389e_3349_11ed_8929_784f437c194arow2_col0\" class=\"data row2 col0\" >firstorder_Maximum</td>\n",
       "                        <td id=\"T_1a12389e_3349_11ed_8929_784f437c194arow2_col1\" class=\"data row2 col1\" >0.595647</td>\n",
       "            </tr>\n",
       "            <tr>\n",
       "                                <td id=\"T_1a12389e_3349_11ed_8929_784f437c194arow3_col0\" class=\"data row3 col0\" >shape_Sphericity</td>\n",
       "                        <td id=\"T_1a12389e_3349_11ed_8929_784f437c194arow3_col1\" class=\"data row3 col1\" >-0.346835</td>\n",
       "            </tr>\n",
       "            <tr>\n",
       "                                <td id=\"T_1a12389e_3349_11ed_8929_784f437c194arow4_col0\" class=\"data row4 col0\" >shape_MeshVolume</td>\n",
       "                        <td id=\"T_1a12389e_3349_11ed_8929_784f437c194arow4_col1\" class=\"data row4 col1\" >0.305787</td>\n",
       "            </tr>\n",
       "            <tr>\n",
       "                                <td id=\"T_1a12389e_3349_11ed_8929_784f437c194arow5_col0\" class=\"data row5 col0\" >firstorder_RootMeanSquared</td>\n",
       "                        <td id=\"T_1a12389e_3349_11ed_8929_784f437c194arow5_col1\" class=\"data row5 col1\" >-0.235776</td>\n",
       "            </tr>\n",
       "            <tr>\n",
       "                                <td id=\"T_1a12389e_3349_11ed_8929_784f437c194arow6_col0\" class=\"data row6 col0\" >firstorder_Kurtosis</td>\n",
       "                        <td id=\"T_1a12389e_3349_11ed_8929_784f437c194arow6_col1\" class=\"data row6 col1\" >-0.234819</td>\n",
       "            </tr>\n",
       "            <tr>\n",
       "                                <td id=\"T_1a12389e_3349_11ed_8929_784f437c194arow7_col0\" class=\"data row7 col0\" >shape_Elongation</td>\n",
       "                        <td id=\"T_1a12389e_3349_11ed_8929_784f437c194arow7_col1\" class=\"data row7 col1\" >-0.062508</td>\n",
       "            </tr>\n",
       "    </tbody></table>"
      ],
      "text/plain": [
       "<pandas.io.formats.style.Styler at 0x7fa13f320898>"
      ]
     },
     "metadata": {},
     "output_type": "display_data"
    },
    {
     "name": "stdout",
     "output_type": "stream",
     "text": [
      "\n",
      "\n",
      "shape|firstorder|histogram\n"
     ]
    },
    {
     "data": {
      "text/html": [
       "<style  type=\"text/css\" >\n",
       "</style><table id=\"T_1a13fb3e_3349_11ed_a2d3_784f437c194a\" ><thead>    <tr>        <th class=\"col_heading level0 col0\" >Feature</th>        <th class=\"col_heading level0 col1\" >Coef</th>    </tr></thead><tbody>\n",
       "                <tr>\n",
       "                                <td id=\"T_1a13fb3e_3349_11ed_a2d3_784f437c194arow0_col0\" class=\"data row0 col0\" >firstorder_90Percentile</td>\n",
       "                        <td id=\"T_1a13fb3e_3349_11ed_a2d3_784f437c194arow0_col1\" class=\"data row0 col1\" >-2.337704</td>\n",
       "            </tr>\n",
       "            <tr>\n",
       "                                <td id=\"T_1a13fb3e_3349_11ed_a2d3_784f437c194arow1_col0\" class=\"data row1 col0\" >firstorder_Maximum</td>\n",
       "                        <td id=\"T_1a13fb3e_3349_11ed_a2d3_784f437c194arow1_col1\" class=\"data row1 col1\" >2.096415</td>\n",
       "            </tr>\n",
       "            <tr>\n",
       "                                <td id=\"T_1a13fb3e_3349_11ed_a2d3_784f437c194arow2_col0\" class=\"data row2 col0\" >firstorder_InterquartileRange</td>\n",
       "                        <td id=\"T_1a13fb3e_3349_11ed_a2d3_784f437c194arow2_col1\" class=\"data row2 col1\" >1.154611</td>\n",
       "            </tr>\n",
       "            <tr>\n",
       "                                <td id=\"T_1a13fb3e_3349_11ed_a2d3_784f437c194arow3_col0\" class=\"data row3 col0\" >firstorder_Kurtosis</td>\n",
       "                        <td id=\"T_1a13fb3e_3349_11ed_a2d3_784f437c194arow3_col1\" class=\"data row3 col1\" >-0.966319</td>\n",
       "            </tr>\n",
       "            <tr>\n",
       "                                <td id=\"T_1a13fb3e_3349_11ed_a2d3_784f437c194arow4_col0\" class=\"data row4 col0\" >shape_Elongation</td>\n",
       "                        <td id=\"T_1a13fb3e_3349_11ed_a2d3_784f437c194arow4_col1\" class=\"data row4 col1\" >-0.911465</td>\n",
       "            </tr>\n",
       "            <tr>\n",
       "                                <td id=\"T_1a13fb3e_3349_11ed_a2d3_784f437c194arow5_col0\" class=\"data row5 col0\" >shape_MeshVolume</td>\n",
       "                        <td id=\"T_1a13fb3e_3349_11ed_a2d3_784f437c194arow5_col1\" class=\"data row5 col1\" >0.795557</td>\n",
       "            </tr>\n",
       "            <tr>\n",
       "                                <td id=\"T_1a13fb3e_3349_11ed_a2d3_784f437c194arow6_col0\" class=\"data row6 col0\" >shape_Flatness</td>\n",
       "                        <td id=\"T_1a13fb3e_3349_11ed_a2d3_784f437c194arow6_col1\" class=\"data row6 col1\" >0.776838</td>\n",
       "            </tr>\n",
       "            <tr>\n",
       "                                <td id=\"T_1a13fb3e_3349_11ed_a2d3_784f437c194arow7_col0\" class=\"data row7 col0\" >shape_Sphericity</td>\n",
       "                        <td id=\"T_1a13fb3e_3349_11ed_a2d3_784f437c194arow7_col1\" class=\"data row7 col1\" >-0.327240</td>\n",
       "            </tr>\n",
       "            <tr>\n",
       "                                <td id=\"T_1a13fb3e_3349_11ed_a2d3_784f437c194arow8_col0\" class=\"data row8 col0\" >firstorder_RootMeanSquared</td>\n",
       "                        <td id=\"T_1a13fb3e_3349_11ed_a2d3_784f437c194arow8_col1\" class=\"data row8 col1\" >-0.241616</td>\n",
       "            </tr>\n",
       "            <tr>\n",
       "                                <td id=\"T_1a13fb3e_3349_11ed_a2d3_784f437c194arow9_col0\" class=\"data row9 col0\" >firstorder_Minimum</td>\n",
       "                        <td id=\"T_1a13fb3e_3349_11ed_a2d3_784f437c194arow9_col1\" class=\"data row9 col1\" >0.043513</td>\n",
       "            </tr>\n",
       "    </tbody></table>"
      ],
      "text/plain": [
       "<pandas.io.formats.style.Styler at 0x7fa13f3c8dd8>"
      ]
     },
     "metadata": {},
     "output_type": "display_data"
    },
    {
     "name": "stdout",
     "output_type": "stream",
     "text": [
      "\n",
      "\n",
      "shape|firstorder|histogram\n"
     ]
    },
    {
     "data": {
      "text/html": [
       "<style  type=\"text/css\" >\n",
       "</style><table id=\"T_1a158918_3349_11ed_bd93_784f437c194a\" ><thead>    <tr>        <th class=\"col_heading level0 col0\" >Feature</th>        <th class=\"col_heading level0 col1\" >Coef</th>    </tr></thead><tbody>\n",
       "                <tr>\n",
       "                                <td id=\"T_1a158918_3349_11ed_bd93_784f437c194arow0_col0\" class=\"data row0 col0\" >firstorder_90Percentile</td>\n",
       "                        <td id=\"T_1a158918_3349_11ed_bd93_784f437c194arow0_col1\" class=\"data row0 col1\" >-1.471374</td>\n",
       "            </tr>\n",
       "            <tr>\n",
       "                                <td id=\"T_1a158918_3349_11ed_bd93_784f437c194arow1_col0\" class=\"data row1 col0\" >firstorder_InterquartileRange</td>\n",
       "                        <td id=\"T_1a158918_3349_11ed_bd93_784f437c194arow1_col1\" class=\"data row1 col1\" >0.837127</td>\n",
       "            </tr>\n",
       "            <tr>\n",
       "                                <td id=\"T_1a158918_3349_11ed_bd93_784f437c194arow2_col0\" class=\"data row2 col0\" >firstorder_Maximum</td>\n",
       "                        <td id=\"T_1a158918_3349_11ed_bd93_784f437c194arow2_col1\" class=\"data row2 col1\" >0.815306</td>\n",
       "            </tr>\n",
       "            <tr>\n",
       "                                <td id=\"T_1a158918_3349_11ed_bd93_784f437c194arow3_col0\" class=\"data row3 col0\" >shape_MeshVolume</td>\n",
       "                        <td id=\"T_1a158918_3349_11ed_bd93_784f437c194arow3_col1\" class=\"data row3 col1\" >0.454482</td>\n",
       "            </tr>\n",
       "            <tr>\n",
       "                                <td id=\"T_1a158918_3349_11ed_bd93_784f437c194arow4_col0\" class=\"data row4 col0\" >shape_Elongation</td>\n",
       "                        <td id=\"T_1a158918_3349_11ed_bd93_784f437c194arow4_col1\" class=\"data row4 col1\" >-0.377411</td>\n",
       "            </tr>\n",
       "            <tr>\n",
       "                                <td id=\"T_1a158918_3349_11ed_bd93_784f437c194arow5_col0\" class=\"data row5 col0\" >firstorder_Kurtosis</td>\n",
       "                        <td id=\"T_1a158918_3349_11ed_bd93_784f437c194arow5_col1\" class=\"data row5 col1\" >-0.349275</td>\n",
       "            </tr>\n",
       "            <tr>\n",
       "                                <td id=\"T_1a158918_3349_11ed_bd93_784f437c194arow6_col0\" class=\"data row6 col0\" >shape_Sphericity</td>\n",
       "                        <td id=\"T_1a158918_3349_11ed_bd93_784f437c194arow6_col1\" class=\"data row6 col1\" >-0.266715</td>\n",
       "            </tr>\n",
       "            <tr>\n",
       "                                <td id=\"T_1a158918_3349_11ed_bd93_784f437c194arow7_col0\" class=\"data row7 col0\" >firstorder_RootMeanSquared</td>\n",
       "                        <td id=\"T_1a158918_3349_11ed_bd93_784f437c194arow7_col1\" class=\"data row7 col1\" >-0.240451</td>\n",
       "            </tr>\n",
       "    </tbody></table>"
      ],
      "text/plain": [
       "<pandas.io.formats.style.Styler at 0x7fa13f3a55f8>"
      ]
     },
     "metadata": {},
     "output_type": "display_data"
    },
    {
     "name": "stdout",
     "output_type": "stream",
     "text": [
      "\n",
      "\n",
      "firstorder|histogram\n"
     ]
    },
    {
     "data": {
      "text/html": [
       "<style  type=\"text/css\" >\n",
       "</style><table id=\"T_1a1731fa_3349_11ed_aa4e_784f437c194a\" ><thead>    <tr>        <th class=\"col_heading level0 col0\" >Feature</th>        <th class=\"col_heading level0 col1\" >Coef</th>    </tr></thead><tbody>\n",
       "                <tr>\n",
       "                                <td id=\"T_1a1731fa_3349_11ed_aa4e_784f437c194arow0_col0\" class=\"data row0 col0\" >firstorder_90Percentile</td>\n",
       "                        <td id=\"T_1a1731fa_3349_11ed_aa4e_784f437c194arow0_col1\" class=\"data row0 col1\" >-1.750457</td>\n",
       "            </tr>\n",
       "            <tr>\n",
       "                                <td id=\"T_1a1731fa_3349_11ed_aa4e_784f437c194arow1_col0\" class=\"data row1 col0\" >firstorder_Maximum</td>\n",
       "                        <td id=\"T_1a1731fa_3349_11ed_aa4e_784f437c194arow1_col1\" class=\"data row1 col1\" >1.136235</td>\n",
       "            </tr>\n",
       "            <tr>\n",
       "                                <td id=\"T_1a1731fa_3349_11ed_aa4e_784f437c194arow2_col0\" class=\"data row2 col0\" >firstorder_InterquartileRange</td>\n",
       "                        <td id=\"T_1a1731fa_3349_11ed_aa4e_784f437c194arow2_col1\" class=\"data row2 col1\" >1.131435</td>\n",
       "            </tr>\n",
       "            <tr>\n",
       "                                <td id=\"T_1a1731fa_3349_11ed_aa4e_784f437c194arow3_col0\" class=\"data row3 col0\" >firstorder_Kurtosis</td>\n",
       "                        <td id=\"T_1a1731fa_3349_11ed_aa4e_784f437c194arow3_col1\" class=\"data row3 col1\" >-0.546990</td>\n",
       "            </tr>\n",
       "            <tr>\n",
       "                                <td id=\"T_1a1731fa_3349_11ed_aa4e_784f437c194arow4_col0\" class=\"data row4 col0\" >firstorder_RootMeanSquared</td>\n",
       "                        <td id=\"T_1a1731fa_3349_11ed_aa4e_784f437c194arow4_col1\" class=\"data row4 col1\" >-0.307154</td>\n",
       "            </tr>\n",
       "    </tbody></table>"
      ],
      "text/plain": [
       "<pandas.io.formats.style.Styler at 0x7fa13f82b828>"
      ]
     },
     "metadata": {},
     "output_type": "display_data"
    },
    {
     "name": "stdout",
     "output_type": "stream",
     "text": [
      "\n",
      "\n",
      "shape|firstorder|histogram\n"
     ]
    },
    {
     "data": {
      "text/html": [
       "<style  type=\"text/css\" >\n",
       "</style><table id=\"T_1a1c0718_3349_11ed_a9fb_784f437c194a\" ><thead>    <tr>        <th class=\"col_heading level0 col0\" >Feature</th>        <th class=\"col_heading level0 col1\" >Coef</th>    </tr></thead><tbody>\n",
       "                <tr>\n",
       "                                <td id=\"T_1a1c0718_3349_11ed_a9fb_784f437c194arow0_col0\" class=\"data row0 col0\" >firstorder_90Percentile</td>\n",
       "                        <td id=\"T_1a1c0718_3349_11ed_a9fb_784f437c194arow0_col1\" class=\"data row0 col1\" >-1.821367</td>\n",
       "            </tr>\n",
       "            <tr>\n",
       "                                <td id=\"T_1a1c0718_3349_11ed_a9fb_784f437c194arow1_col0\" class=\"data row1 col0\" >firstorder_InterquartileRange</td>\n",
       "                        <td id=\"T_1a1c0718_3349_11ed_a9fb_784f437c194arow1_col1\" class=\"data row1 col1\" >1.113686</td>\n",
       "            </tr>\n",
       "            <tr>\n",
       "                                <td id=\"T_1a1c0718_3349_11ed_a9fb_784f437c194arow2_col0\" class=\"data row2 col0\" >firstorder_Maximum</td>\n",
       "                        <td id=\"T_1a1c0718_3349_11ed_a9fb_784f437c194arow2_col1\" class=\"data row2 col1\" >1.102569</td>\n",
       "            </tr>\n",
       "            <tr>\n",
       "                                <td id=\"T_1a1c0718_3349_11ed_a9fb_784f437c194arow3_col0\" class=\"data row3 col0\" >shape_MeshVolume</td>\n",
       "                        <td id=\"T_1a1c0718_3349_11ed_a9fb_784f437c194arow3_col1\" class=\"data row3 col1\" >0.650495</td>\n",
       "            </tr>\n",
       "            <tr>\n",
       "                                <td id=\"T_1a1c0718_3349_11ed_a9fb_784f437c194arow4_col0\" class=\"data row4 col0\" >shape_Elongation</td>\n",
       "                        <td id=\"T_1a1c0718_3349_11ed_a9fb_784f437c194arow4_col1\" class=\"data row4 col1\" >-0.606424</td>\n",
       "            </tr>\n",
       "            <tr>\n",
       "                                <td id=\"T_1a1c0718_3349_11ed_a9fb_784f437c194arow5_col0\" class=\"data row5 col0\" >shape_Flatness</td>\n",
       "                        <td id=\"T_1a1c0718_3349_11ed_a9fb_784f437c194arow5_col1\" class=\"data row5 col1\" >0.582202</td>\n",
       "            </tr>\n",
       "            <tr>\n",
       "                                <td id=\"T_1a1c0718_3349_11ed_a9fb_784f437c194arow6_col0\" class=\"data row6 col0\" >firstorder_Kurtosis</td>\n",
       "                        <td id=\"T_1a1c0718_3349_11ed_a9fb_784f437c194arow6_col1\" class=\"data row6 col1\" >-0.552386</td>\n",
       "            </tr>\n",
       "            <tr>\n",
       "                                <td id=\"T_1a1c0718_3349_11ed_a9fb_784f437c194arow7_col0\" class=\"data row7 col0\" >shape_Sphericity</td>\n",
       "                        <td id=\"T_1a1c0718_3349_11ed_a9fb_784f437c194arow7_col1\" class=\"data row7 col1\" >-0.313428</td>\n",
       "            </tr>\n",
       "            <tr>\n",
       "                                <td id=\"T_1a1c0718_3349_11ed_a9fb_784f437c194arow8_col0\" class=\"data row8 col0\" >firstorder_RootMeanSquared</td>\n",
       "                        <td id=\"T_1a1c0718_3349_11ed_a9fb_784f437c194arow8_col1\" class=\"data row8 col1\" >-0.214904</td>\n",
       "            </tr>\n",
       "    </tbody></table>"
      ],
      "text/plain": [
       "<pandas.io.formats.style.Styler at 0x7fa13f514080>"
      ]
     },
     "metadata": {},
     "output_type": "display_data"
    },
    {
     "name": "stdout",
     "output_type": "stream",
     "text": [
      "\n",
      "\n",
      "shape|firstorder|histogram\n"
     ]
    },
    {
     "data": {
      "text/html": [
       "<style  type=\"text/css\" >\n",
       "</style><table id=\"T_1a1f0ce2_3349_11ed_a22c_784f437c194a\" ><thead>    <tr>        <th class=\"col_heading level0 col0\" >Feature</th>        <th class=\"col_heading level0 col1\" >Coef</th>    </tr></thead><tbody>\n",
       "                <tr>\n",
       "                                <td id=\"T_1a1f0ce2_3349_11ed_a22c_784f437c194arow0_col0\" class=\"data row0 col0\" >firstorder_90Percentile</td>\n",
       "                        <td id=\"T_1a1f0ce2_3349_11ed_a22c_784f437c194arow0_col1\" class=\"data row0 col1\" >-1.217600</td>\n",
       "            </tr>\n",
       "            <tr>\n",
       "                                <td id=\"T_1a1f0ce2_3349_11ed_a22c_784f437c194arow1_col0\" class=\"data row1 col0\" >firstorder_Uniformity</td>\n",
       "                        <td id=\"T_1a1f0ce2_3349_11ed_a22c_784f437c194arow1_col1\" class=\"data row1 col1\" >-0.548160</td>\n",
       "            </tr>\n",
       "            <tr>\n",
       "                                <td id=\"T_1a1f0ce2_3349_11ed_a22c_784f437c194arow2_col0\" class=\"data row2 col0\" >firstorder_Maximum</td>\n",
       "                        <td id=\"T_1a1f0ce2_3349_11ed_a22c_784f437c194arow2_col1\" class=\"data row2 col1\" >0.501807</td>\n",
       "            </tr>\n",
       "            <tr>\n",
       "                                <td id=\"T_1a1f0ce2_3349_11ed_a22c_784f437c194arow3_col0\" class=\"data row3 col0\" >shape_MeshVolume</td>\n",
       "                        <td id=\"T_1a1f0ce2_3349_11ed_a22c_784f437c194arow3_col1\" class=\"data row3 col1\" >0.486178</td>\n",
       "            </tr>\n",
       "            <tr>\n",
       "                                <td id=\"T_1a1f0ce2_3349_11ed_a22c_784f437c194arow4_col0\" class=\"data row4 col0\" >shape_Sphericity</td>\n",
       "                        <td id=\"T_1a1f0ce2_3349_11ed_a22c_784f437c194arow4_col1\" class=\"data row4 col1\" >-0.406635</td>\n",
       "            </tr>\n",
       "            <tr>\n",
       "                                <td id=\"T_1a1f0ce2_3349_11ed_a22c_784f437c194arow5_col0\" class=\"data row5 col0\" >firstorder_Kurtosis</td>\n",
       "                        <td id=\"T_1a1f0ce2_3349_11ed_a22c_784f437c194arow5_col1\" class=\"data row5 col1\" >-0.224920</td>\n",
       "            </tr>\n",
       "            <tr>\n",
       "                                <td id=\"T_1a1f0ce2_3349_11ed_a22c_784f437c194arow6_col0\" class=\"data row6 col0\" >firstorder_RootMeanSquared</td>\n",
       "                        <td id=\"T_1a1f0ce2_3349_11ed_a22c_784f437c194arow6_col1\" class=\"data row6 col1\" >-0.217823</td>\n",
       "            </tr>\n",
       "            <tr>\n",
       "                                <td id=\"T_1a1f0ce2_3349_11ed_a22c_784f437c194arow7_col0\" class=\"data row7 col0\" >shape_Elongation</td>\n",
       "                        <td id=\"T_1a1f0ce2_3349_11ed_a22c_784f437c194arow7_col1\" class=\"data row7 col1\" >-0.136717</td>\n",
       "            </tr>\n",
       "            <tr>\n",
       "                                <td id=\"T_1a1f0ce2_3349_11ed_a22c_784f437c194arow8_col0\" class=\"data row8 col0\" >firstorder_Minimum</td>\n",
       "                        <td id=\"T_1a1f0ce2_3349_11ed_a22c_784f437c194arow8_col1\" class=\"data row8 col1\" >-0.078125</td>\n",
       "            </tr>\n",
       "    </tbody></table>"
      ],
      "text/plain": [
       "<pandas.io.formats.style.Styler at 0x7fa13f320550>"
      ]
     },
     "metadata": {},
     "output_type": "display_data"
    },
    {
     "name": "stdout",
     "output_type": "stream",
     "text": [
      "\n",
      "\n",
      "firstorder|histogram\n"
     ]
    },
    {
     "data": {
      "text/html": [
       "<style  type=\"text/css\" >\n",
       "</style><table id=\"T_1a20c54c_3349_11ed_a414_784f437c194a\" ><thead>    <tr>        <th class=\"col_heading level0 col0\" >Feature</th>        <th class=\"col_heading level0 col1\" >Coef</th>    </tr></thead><tbody>\n",
       "                <tr>\n",
       "                                <td id=\"T_1a20c54c_3349_11ed_a414_784f437c194arow0_col0\" class=\"data row0 col0\" >firstorder_90Percentile</td>\n",
       "                        <td id=\"T_1a20c54c_3349_11ed_a414_784f437c194arow0_col1\" class=\"data row0 col1\" >-1.943932</td>\n",
       "            </tr>\n",
       "            <tr>\n",
       "                                <td id=\"T_1a20c54c_3349_11ed_a414_784f437c194arow1_col0\" class=\"data row1 col0\" >firstorder_Maximum</td>\n",
       "                        <td id=\"T_1a20c54c_3349_11ed_a414_784f437c194arow1_col1\" class=\"data row1 col1\" >1.034542</td>\n",
       "            </tr>\n",
       "            <tr>\n",
       "                                <td id=\"T_1a20c54c_3349_11ed_a414_784f437c194arow2_col0\" class=\"data row2 col0\" >firstorder_InterquartileRange</td>\n",
       "                        <td id=\"T_1a20c54c_3349_11ed_a414_784f437c194arow2_col1\" class=\"data row2 col1\" >0.996779</td>\n",
       "            </tr>\n",
       "            <tr>\n",
       "                                <td id=\"T_1a20c54c_3349_11ed_a414_784f437c194arow3_col0\" class=\"data row3 col0\" >firstorder_Kurtosis</td>\n",
       "                        <td id=\"T_1a20c54c_3349_11ed_a414_784f437c194arow3_col1\" class=\"data row3 col1\" >-0.486589</td>\n",
       "            </tr>\n",
       "            <tr>\n",
       "                                <td id=\"T_1a20c54c_3349_11ed_a414_784f437c194arow4_col0\" class=\"data row4 col0\" >firstorder_RootMeanSquared</td>\n",
       "                        <td id=\"T_1a20c54c_3349_11ed_a414_784f437c194arow4_col1\" class=\"data row4 col1\" >-0.233146</td>\n",
       "            </tr>\n",
       "            <tr>\n",
       "                                <td id=\"T_1a20c54c_3349_11ed_a414_784f437c194arow5_col0\" class=\"data row5 col0\" >firstorder_Minimum</td>\n",
       "                        <td id=\"T_1a20c54c_3349_11ed_a414_784f437c194arow5_col1\" class=\"data row5 col1\" >-0.125127</td>\n",
       "            </tr>\n",
       "    </tbody></table>"
      ],
      "text/plain": [
       "<pandas.io.formats.style.Styler at 0x7fa13f32a320>"
      ]
     },
     "metadata": {},
     "output_type": "display_data"
    },
    {
     "name": "stdout",
     "output_type": "stream",
     "text": [
      "\n",
      "\n",
      "shape|firstorder|histogram\n"
     ]
    },
    {
     "data": {
      "text/html": [
       "<style  type=\"text/css\" >\n",
       "</style><table id=\"T_1a223ce4_3349_11ed_bb4f_784f437c194a\" ><thead>    <tr>        <th class=\"col_heading level0 col0\" >Feature</th>        <th class=\"col_heading level0 col1\" >Coef</th>    </tr></thead><tbody>\n",
       "                <tr>\n",
       "                                <td id=\"T_1a223ce4_3349_11ed_bb4f_784f437c194arow0_col0\" class=\"data row0 col0\" >firstorder_90Percentile</td>\n",
       "                        <td id=\"T_1a223ce4_3349_11ed_bb4f_784f437c194arow0_col1\" class=\"data row0 col1\" >-1.803982</td>\n",
       "            </tr>\n",
       "            <tr>\n",
       "                                <td id=\"T_1a223ce4_3349_11ed_bb4f_784f437c194arow1_col0\" class=\"data row1 col0\" >firstorder_Uniformity</td>\n",
       "                        <td id=\"T_1a223ce4_3349_11ed_bb4f_784f437c194arow1_col1\" class=\"data row1 col1\" >-1.095131</td>\n",
       "            </tr>\n",
       "            <tr>\n",
       "                                <td id=\"T_1a223ce4_3349_11ed_bb4f_784f437c194arow2_col0\" class=\"data row2 col0\" >firstorder_Maximum</td>\n",
       "                        <td id=\"T_1a223ce4_3349_11ed_bb4f_784f437c194arow2_col1\" class=\"data row2 col1\" >0.986695</td>\n",
       "            </tr>\n",
       "            <tr>\n",
       "                                <td id=\"T_1a223ce4_3349_11ed_bb4f_784f437c194arow3_col0\" class=\"data row3 col0\" >shape_Elongation</td>\n",
       "                        <td id=\"T_1a223ce4_3349_11ed_bb4f_784f437c194arow3_col1\" class=\"data row3 col1\" >-0.668071</td>\n",
       "            </tr>\n",
       "            <tr>\n",
       "                                <td id=\"T_1a223ce4_3349_11ed_bb4f_784f437c194arow4_col0\" class=\"data row4 col0\" >shape_MeshVolume</td>\n",
       "                        <td id=\"T_1a223ce4_3349_11ed_bb4f_784f437c194arow4_col1\" class=\"data row4 col1\" >0.647048</td>\n",
       "            </tr>\n",
       "            <tr>\n",
       "                                <td id=\"T_1a223ce4_3349_11ed_bb4f_784f437c194arow5_col0\" class=\"data row5 col0\" >firstorder_RootMeanSquared</td>\n",
       "                        <td id=\"T_1a223ce4_3349_11ed_bb4f_784f437c194arow5_col1\" class=\"data row5 col1\" >-0.476996</td>\n",
       "            </tr>\n",
       "            <tr>\n",
       "                                <td id=\"T_1a223ce4_3349_11ed_bb4f_784f437c194arow6_col0\" class=\"data row6 col0\" >firstorder_Skewness</td>\n",
       "                        <td id=\"T_1a223ce4_3349_11ed_bb4f_784f437c194arow6_col1\" class=\"data row6 col1\" >0.459679</td>\n",
       "            </tr>\n",
       "            <tr>\n",
       "                                <td id=\"T_1a223ce4_3349_11ed_bb4f_784f437c194arow7_col0\" class=\"data row7 col0\" >shape_Flatness</td>\n",
       "                        <td id=\"T_1a223ce4_3349_11ed_bb4f_784f437c194arow7_col1\" class=\"data row7 col1\" >0.387912</td>\n",
       "            </tr>\n",
       "            <tr>\n",
       "                                <td id=\"T_1a223ce4_3349_11ed_bb4f_784f437c194arow8_col0\" class=\"data row8 col0\" >shape_Sphericity</td>\n",
       "                        <td id=\"T_1a223ce4_3349_11ed_bb4f_784f437c194arow8_col1\" class=\"data row8 col1\" >-0.269867</td>\n",
       "            </tr>\n",
       "    </tbody></table>"
      ],
      "text/plain": [
       "<pandas.io.formats.style.Styler at 0x7fa13e6f1198>"
      ]
     },
     "metadata": {},
     "output_type": "display_data"
    },
    {
     "name": "stdout",
     "output_type": "stream",
     "text": [
      "\n",
      "\n",
      "\n"
     ]
    },
    {
     "data": {
      "text/html": [
       "<style  type=\"text/css\" >\n",
       "</style><table id=\"T_1a236830_3349_11ed_8fb5_784f437c194a\" ><thead>    <tr>        <th class=\"col_heading level0 col0\" >Feature</th>        <th class=\"col_heading level0 col1\" >Coef</th>    </tr></thead><tbody>\n",
       "                <tr>\n",
       "                                <td id=\"T_1a236830_3349_11ed_8fb5_784f437c194arow0_col0\" class=\"data row0 col0\" >firstorder_90Percentile</td>\n",
       "                        <td id=\"T_1a236830_3349_11ed_8fb5_784f437c194arow0_col1\" class=\"data row0 col1\" >-1.193539</td>\n",
       "            </tr>\n",
       "            <tr>\n",
       "                                <td id=\"T_1a236830_3349_11ed_8fb5_784f437c194arow1_col0\" class=\"data row1 col0\" >glszm_ZoneEntropy</td>\n",
       "                        <td id=\"T_1a236830_3349_11ed_8fb5_784f437c194arow1_col1\" class=\"data row1 col1\" >0.850807</td>\n",
       "            </tr>\n",
       "            <tr>\n",
       "                                <td id=\"T_1a236830_3349_11ed_8fb5_784f437c194arow2_col0\" class=\"data row2 col0\" >shape_Sphericity</td>\n",
       "                        <td id=\"T_1a236830_3349_11ed_8fb5_784f437c194arow2_col1\" class=\"data row2 col1\" >-0.520181</td>\n",
       "            </tr>\n",
       "            <tr>\n",
       "                                <td id=\"T_1a236830_3349_11ed_8fb5_784f437c194arow3_col0\" class=\"data row3 col0\" >firstorder_RootMeanSquared</td>\n",
       "                        <td id=\"T_1a236830_3349_11ed_8fb5_784f437c194arow3_col1\" class=\"data row3 col1\" >-0.474104</td>\n",
       "            </tr>\n",
       "            <tr>\n",
       "                                <td id=\"T_1a236830_3349_11ed_8fb5_784f437c194arow4_col0\" class=\"data row4 col0\" >glszm_SmallAreaEmphasis</td>\n",
       "                        <td id=\"T_1a236830_3349_11ed_8fb5_784f437c194arow4_col1\" class=\"data row4 col1\" >0.391621</td>\n",
       "            </tr>\n",
       "            <tr>\n",
       "                                <td id=\"T_1a236830_3349_11ed_8fb5_784f437c194arow5_col0\" class=\"data row5 col0\" >shape_MeshVolume</td>\n",
       "                        <td id=\"T_1a236830_3349_11ed_8fb5_784f437c194arow5_col1\" class=\"data row5 col1\" >0.310837</td>\n",
       "            </tr>\n",
       "            <tr>\n",
       "                                <td id=\"T_1a236830_3349_11ed_8fb5_784f437c194arow6_col0\" class=\"data row6 col0\" >ngtdm_Strength</td>\n",
       "                        <td id=\"T_1a236830_3349_11ed_8fb5_784f437c194arow6_col1\" class=\"data row6 col1\" >-0.266130</td>\n",
       "            </tr>\n",
       "            <tr>\n",
       "                                <td id=\"T_1a236830_3349_11ed_8fb5_784f437c194arow7_col0\" class=\"data row7 col0\" >firstorder_Maximum</td>\n",
       "                        <td id=\"T_1a236830_3349_11ed_8fb5_784f437c194arow7_col1\" class=\"data row7 col1\" >0.215699</td>\n",
       "            </tr>\n",
       "            <tr>\n",
       "                                <td id=\"T_1a236830_3349_11ed_8fb5_784f437c194arow8_col0\" class=\"data row8 col0\" >shape_Elongation</td>\n",
       "                        <td id=\"T_1a236830_3349_11ed_8fb5_784f437c194arow8_col1\" class=\"data row8 col1\" >-0.130004</td>\n",
       "            </tr>\n",
       "            <tr>\n",
       "                                <td id=\"T_1a236830_3349_11ed_8fb5_784f437c194arow9_col0\" class=\"data row9 col0\" >firstorder_Skewness</td>\n",
       "                        <td id=\"T_1a236830_3349_11ed_8fb5_784f437c194arow9_col1\" class=\"data row9 col1\" >0.117727</td>\n",
       "            </tr>\n",
       "    </tbody></table>"
      ],
      "text/plain": [
       "<pandas.io.formats.style.Styler at 0x7fa13f614b38>"
      ]
     },
     "metadata": {},
     "output_type": "display_data"
    },
    {
     "name": "stdout",
     "output_type": "stream",
     "text": [
      "\n",
      "\n",
      "shape|firstorder|histogram\n"
     ]
    },
    {
     "data": {
      "text/html": [
       "<style  type=\"text/css\" >\n",
       "</style><table id=\"T_1a2509e2_3349_11ed_8f70_784f437c194a\" ><thead>    <tr>        <th class=\"col_heading level0 col0\" >Feature</th>        <th class=\"col_heading level0 col1\" >Coef</th>    </tr></thead><tbody>\n",
       "                <tr>\n",
       "                                <td id=\"T_1a2509e2_3349_11ed_8f70_784f437c194arow0_col0\" class=\"data row0 col0\" >firstorder_90Percentile</td>\n",
       "                        <td id=\"T_1a2509e2_3349_11ed_8f70_784f437c194arow0_col1\" class=\"data row0 col1\" >-1.470247</td>\n",
       "            </tr>\n",
       "            <tr>\n",
       "                                <td id=\"T_1a2509e2_3349_11ed_8f70_784f437c194arow1_col0\" class=\"data row1 col0\" >firstorder_InterquartileRange</td>\n",
       "                        <td id=\"T_1a2509e2_3349_11ed_8f70_784f437c194arow1_col1\" class=\"data row1 col1\" >0.878884</td>\n",
       "            </tr>\n",
       "            <tr>\n",
       "                                <td id=\"T_1a2509e2_3349_11ed_8f70_784f437c194arow2_col0\" class=\"data row2 col0\" >firstorder_Maximum</td>\n",
       "                        <td id=\"T_1a2509e2_3349_11ed_8f70_784f437c194arow2_col1\" class=\"data row2 col1\" >0.773600</td>\n",
       "            </tr>\n",
       "            <tr>\n",
       "                                <td id=\"T_1a2509e2_3349_11ed_8f70_784f437c194arow3_col0\" class=\"data row3 col0\" >shape_MeshVolume</td>\n",
       "                        <td id=\"T_1a2509e2_3349_11ed_8f70_784f437c194arow3_col1\" class=\"data row3 col1\" >0.749104</td>\n",
       "            </tr>\n",
       "            <tr>\n",
       "                                <td id=\"T_1a2509e2_3349_11ed_8f70_784f437c194arow4_col0\" class=\"data row4 col0\" >firstorder_Kurtosis</td>\n",
       "                        <td id=\"T_1a2509e2_3349_11ed_8f70_784f437c194arow4_col1\" class=\"data row4 col1\" >-0.417052</td>\n",
       "            </tr>\n",
       "            <tr>\n",
       "                                <td id=\"T_1a2509e2_3349_11ed_8f70_784f437c194arow5_col0\" class=\"data row5 col0\" >shape_Sphericity</td>\n",
       "                        <td id=\"T_1a2509e2_3349_11ed_8f70_784f437c194arow5_col1\" class=\"data row5 col1\" >-0.257295</td>\n",
       "            </tr>\n",
       "            <tr>\n",
       "                                <td id=\"T_1a2509e2_3349_11ed_8f70_784f437c194arow6_col0\" class=\"data row6 col0\" >firstorder_RootMeanSquared</td>\n",
       "                        <td id=\"T_1a2509e2_3349_11ed_8f70_784f437c194arow6_col1\" class=\"data row6 col1\" >-0.216478</td>\n",
       "            </tr>\n",
       "            <tr>\n",
       "                                <td id=\"T_1a2509e2_3349_11ed_8f70_784f437c194arow7_col0\" class=\"data row7 col0\" >shape_Elongation</td>\n",
       "                        <td id=\"T_1a2509e2_3349_11ed_8f70_784f437c194arow7_col1\" class=\"data row7 col1\" >-0.176680</td>\n",
       "            </tr>\n",
       "            <tr>\n",
       "                                <td id=\"T_1a2509e2_3349_11ed_8f70_784f437c194arow8_col0\" class=\"data row8 col0\" >shape_Flatness</td>\n",
       "                        <td id=\"T_1a2509e2_3349_11ed_8f70_784f437c194arow8_col1\" class=\"data row8 col1\" >0.096096</td>\n",
       "            </tr>\n",
       "            <tr>\n",
       "                                <td id=\"T_1a2509e2_3349_11ed_8f70_784f437c194arow9_col0\" class=\"data row9 col0\" >firstorder_Skewness</td>\n",
       "                        <td id=\"T_1a2509e2_3349_11ed_8f70_784f437c194arow9_col1\" class=\"data row9 col1\" >0.082155</td>\n",
       "            </tr>\n",
       "    </tbody></table>"
      ],
      "text/plain": [
       "<pandas.io.formats.style.Styler at 0x7fa13f320f98>"
      ]
     },
     "metadata": {},
     "output_type": "display_data"
    },
    {
     "name": "stdout",
     "output_type": "stream",
     "text": [
      "\n",
      "\n",
      "\n"
     ]
    },
    {
     "data": {
      "text/html": [
       "<style  type=\"text/css\" >\n",
       "</style><table id=\"T_1a26c4f8_3349_11ed_bde6_784f437c194a\" ><thead>    <tr>        <th class=\"col_heading level0 col0\" >Feature</th>        <th class=\"col_heading level0 col1\" >Coef</th>    </tr></thead><tbody>\n",
       "                <tr>\n",
       "                                <td id=\"T_1a26c4f8_3349_11ed_bde6_784f437c194arow0_col0\" class=\"data row0 col0\" >firstorder_90Percentile</td>\n",
       "                        <td id=\"T_1a26c4f8_3349_11ed_bde6_784f437c194arow0_col1\" class=\"data row0 col1\" >-1.467098</td>\n",
       "            </tr>\n",
       "            <tr>\n",
       "                                <td id=\"T_1a26c4f8_3349_11ed_bde6_784f437c194arow1_col0\" class=\"data row1 col0\" >glszm_ZoneEntropy</td>\n",
       "                        <td id=\"T_1a26c4f8_3349_11ed_bde6_784f437c194arow1_col1\" class=\"data row1 col1\" >1.422998</td>\n",
       "            </tr>\n",
       "            <tr>\n",
       "                                <td id=\"T_1a26c4f8_3349_11ed_bde6_784f437c194arow2_col0\" class=\"data row2 col0\" >glszm_SizeZoneNonUniformityNormalized</td>\n",
       "                        <td id=\"T_1a26c4f8_3349_11ed_bde6_784f437c194arow2_col1\" class=\"data row2 col1\" >0.850010</td>\n",
       "            </tr>\n",
       "            <tr>\n",
       "                                <td id=\"T_1a26c4f8_3349_11ed_bde6_784f437c194arow3_col0\" class=\"data row3 col0\" >firstorder_RootMeanSquared</td>\n",
       "                        <td id=\"T_1a26c4f8_3349_11ed_bde6_784f437c194arow3_col1\" class=\"data row3 col1\" >-0.496249</td>\n",
       "            </tr>\n",
       "            <tr>\n",
       "                                <td id=\"T_1a26c4f8_3349_11ed_bde6_784f437c194arow4_col0\" class=\"data row4 col0\" >shape_MeshVolume</td>\n",
       "                        <td id=\"T_1a26c4f8_3349_11ed_bde6_784f437c194arow4_col1\" class=\"data row4 col1\" >0.450851</td>\n",
       "            </tr>\n",
       "            <tr>\n",
       "                                <td id=\"T_1a26c4f8_3349_11ed_bde6_784f437c194arow5_col0\" class=\"data row5 col0\" >ngtdm_Strength</td>\n",
       "                        <td id=\"T_1a26c4f8_3349_11ed_bde6_784f437c194arow5_col1\" class=\"data row5 col1\" >-0.412688</td>\n",
       "            </tr>\n",
       "            <tr>\n",
       "                                <td id=\"T_1a26c4f8_3349_11ed_bde6_784f437c194arow6_col0\" class=\"data row6 col0\" >shape_Sphericity</td>\n",
       "                        <td id=\"T_1a26c4f8_3349_11ed_bde6_784f437c194arow6_col1\" class=\"data row6 col1\" >-0.328307</td>\n",
       "            </tr>\n",
       "            <tr>\n",
       "                                <td id=\"T_1a26c4f8_3349_11ed_bde6_784f437c194arow7_col0\" class=\"data row7 col0\" >shape_Elongation</td>\n",
       "                        <td id=\"T_1a26c4f8_3349_11ed_bde6_784f437c194arow7_col1\" class=\"data row7 col1\" >-0.278708</td>\n",
       "            </tr>\n",
       "            <tr>\n",
       "                                <td id=\"T_1a26c4f8_3349_11ed_bde6_784f437c194arow8_col0\" class=\"data row8 col0\" >firstorder_Skewness</td>\n",
       "                        <td id=\"T_1a26c4f8_3349_11ed_bde6_784f437c194arow8_col1\" class=\"data row8 col1\" >0.256610</td>\n",
       "            </tr>\n",
       "            <tr>\n",
       "                                <td id=\"T_1a26c4f8_3349_11ed_bde6_784f437c194arow9_col0\" class=\"data row9 col0\" >firstorder_InterquartileRange</td>\n",
       "                        <td id=\"T_1a26c4f8_3349_11ed_bde6_784f437c194arow9_col1\" class=\"data row9 col1\" >0.169710</td>\n",
       "            </tr>\n",
       "            <tr>\n",
       "                                <td id=\"T_1a26c4f8_3349_11ed_bde6_784f437c194arow10_col0\" class=\"data row10 col0\" >firstorder_Maximum</td>\n",
       "                        <td id=\"T_1a26c4f8_3349_11ed_bde6_784f437c194arow10_col1\" class=\"data row10 col1\" >0.162188</td>\n",
       "            </tr>\n",
       "            <tr>\n",
       "                                <td id=\"T_1a26c4f8_3349_11ed_bde6_784f437c194arow11_col0\" class=\"data row11 col0\" >gldm_DependenceNonUniformityNormalized</td>\n",
       "                        <td id=\"T_1a26c4f8_3349_11ed_bde6_784f437c194arow11_col1\" class=\"data row11 col1\" >-0.132825</td>\n",
       "            </tr>\n",
       "            <tr>\n",
       "                                <td id=\"T_1a26c4f8_3349_11ed_bde6_784f437c194arow12_col0\" class=\"data row12 col0\" >glszm_LargeAreaLowGrayLevelEmphasis</td>\n",
       "                        <td id=\"T_1a26c4f8_3349_11ed_bde6_784f437c194arow12_col1\" class=\"data row12 col1\" >0.055358</td>\n",
       "            </tr>\n",
       "            <tr>\n",
       "                                <td id=\"T_1a26c4f8_3349_11ed_bde6_784f437c194arow13_col0\" class=\"data row13 col0\" >ngtdm_Contrast</td>\n",
       "                        <td id=\"T_1a26c4f8_3349_11ed_bde6_784f437c194arow13_col1\" class=\"data row13 col1\" >0.049120</td>\n",
       "            </tr>\n",
       "    </tbody></table>"
      ],
      "text/plain": [
       "<pandas.io.formats.style.Styler at 0x7fa13f3c8940>"
      ]
     },
     "metadata": {},
     "output_type": "display_data"
    },
    {
     "name": "stdout",
     "output_type": "stream",
     "text": [
      "\n",
      "\n",
      "shape\n"
     ]
    },
    {
     "data": {
      "text/html": [
       "<style  type=\"text/css\" >\n",
       "</style><table id=\"T_1a284c62_3349_11ed_88a0_784f437c194a\" ><thead>    <tr>        <th class=\"col_heading level0 col0\" >Feature</th>        <th class=\"col_heading level0 col1\" >Coef</th>    </tr></thead><tbody>\n",
       "                <tr>\n",
       "                                <td id=\"T_1a284c62_3349_11ed_88a0_784f437c194arow0_col0\" class=\"data row0 col0\" >shape_MeshVolume</td>\n",
       "                        <td id=\"T_1a284c62_3349_11ed_88a0_784f437c194arow0_col1\" class=\"data row0 col1\" >2.228292</td>\n",
       "            </tr>\n",
       "            <tr>\n",
       "                                <td id=\"T_1a284c62_3349_11ed_88a0_784f437c194arow1_col0\" class=\"data row1 col0\" >shape_Sphericity</td>\n",
       "                        <td id=\"T_1a284c62_3349_11ed_88a0_784f437c194arow1_col1\" class=\"data row1 col1\" >-1.133133</td>\n",
       "            </tr>\n",
       "            <tr>\n",
       "                                <td id=\"T_1a284c62_3349_11ed_88a0_784f437c194arow2_col0\" class=\"data row2 col0\" >shape_Elongation</td>\n",
       "                        <td id=\"T_1a284c62_3349_11ed_88a0_784f437c194arow2_col1\" class=\"data row2 col1\" >-0.399305</td>\n",
       "            </tr>\n",
       "            <tr>\n",
       "                                <td id=\"T_1a284c62_3349_11ed_88a0_784f437c194arow3_col0\" class=\"data row3 col0\" >shape_Flatness</td>\n",
       "                        <td id=\"T_1a284c62_3349_11ed_88a0_784f437c194arow3_col1\" class=\"data row3 col1\" >0.081279</td>\n",
       "            </tr>\n",
       "    </tbody></table>"
      ],
      "text/plain": [
       "<pandas.io.formats.style.Styler at 0x7fa13f3a5320>"
      ]
     },
     "metadata": {},
     "output_type": "display_data"
    },
    {
     "name": "stdout",
     "output_type": "stream",
     "text": [
      "\n",
      "\n",
      "shape|firstorder|histogram\n"
     ]
    },
    {
     "data": {
      "text/html": [
       "<style  type=\"text/css\" >\n",
       "</style><table id=\"T_1a299430_3349_11ed_9fc6_784f437c194a\" ><thead>    <tr>        <th class=\"col_heading level0 col0\" >Feature</th>        <th class=\"col_heading level0 col1\" >Coef</th>    </tr></thead><tbody>\n",
       "                <tr>\n",
       "                                <td id=\"T_1a299430_3349_11ed_9fc6_784f437c194arow0_col0\" class=\"data row0 col0\" >firstorder_90Percentile</td>\n",
       "                        <td id=\"T_1a299430_3349_11ed_9fc6_784f437c194arow0_col1\" class=\"data row0 col1\" >-2.077276</td>\n",
       "            </tr>\n",
       "            <tr>\n",
       "                                <td id=\"T_1a299430_3349_11ed_9fc6_784f437c194arow1_col0\" class=\"data row1 col0\" >firstorder_Maximum</td>\n",
       "                        <td id=\"T_1a299430_3349_11ed_9fc6_784f437c194arow1_col1\" class=\"data row1 col1\" >1.948440</td>\n",
       "            </tr>\n",
       "            <tr>\n",
       "                                <td id=\"T_1a299430_3349_11ed_9fc6_784f437c194arow2_col0\" class=\"data row2 col0\" >firstorder_InterquartileRange</td>\n",
       "                        <td id=\"T_1a299430_3349_11ed_9fc6_784f437c194arow2_col1\" class=\"data row2 col1\" >1.401945</td>\n",
       "            </tr>\n",
       "            <tr>\n",
       "                                <td id=\"T_1a299430_3349_11ed_9fc6_784f437c194arow3_col0\" class=\"data row3 col0\" >firstorder_Kurtosis</td>\n",
       "                        <td id=\"T_1a299430_3349_11ed_9fc6_784f437c194arow3_col1\" class=\"data row3 col1\" >-0.894047</td>\n",
       "            </tr>\n",
       "            <tr>\n",
       "                                <td id=\"T_1a299430_3349_11ed_9fc6_784f437c194arow4_col0\" class=\"data row4 col0\" >shape_MeshVolume</td>\n",
       "                        <td id=\"T_1a299430_3349_11ed_9fc6_784f437c194arow4_col1\" class=\"data row4 col1\" >0.674053</td>\n",
       "            </tr>\n",
       "            <tr>\n",
       "                                <td id=\"T_1a299430_3349_11ed_9fc6_784f437c194arow5_col0\" class=\"data row5 col0\" >shape_Elongation</td>\n",
       "                        <td id=\"T_1a299430_3349_11ed_9fc6_784f437c194arow5_col1\" class=\"data row5 col1\" >-0.584833</td>\n",
       "            </tr>\n",
       "            <tr>\n",
       "                                <td id=\"T_1a299430_3349_11ed_9fc6_784f437c194arow6_col0\" class=\"data row6 col0\" >shape_Flatness</td>\n",
       "                        <td id=\"T_1a299430_3349_11ed_9fc6_784f437c194arow6_col1\" class=\"data row6 col1\" >0.474261</td>\n",
       "            </tr>\n",
       "            <tr>\n",
       "                                <td id=\"T_1a299430_3349_11ed_9fc6_784f437c194arow7_col0\" class=\"data row7 col0\" >firstorder_RootMeanSquared</td>\n",
       "                        <td id=\"T_1a299430_3349_11ed_9fc6_784f437c194arow7_col1\" class=\"data row7 col1\" >-0.386747</td>\n",
       "            </tr>\n",
       "            <tr>\n",
       "                                <td id=\"T_1a299430_3349_11ed_9fc6_784f437c194arow8_col0\" class=\"data row8 col0\" >shape_Sphericity</td>\n",
       "                        <td id=\"T_1a299430_3349_11ed_9fc6_784f437c194arow8_col1\" class=\"data row8 col1\" >-0.154029</td>\n",
       "            </tr>\n",
       "            <tr>\n",
       "                                <td id=\"T_1a299430_3349_11ed_9fc6_784f437c194arow9_col0\" class=\"data row9 col0\" >firstorder_Minimum</td>\n",
       "                        <td id=\"T_1a299430_3349_11ed_9fc6_784f437c194arow9_col1\" class=\"data row9 col1\" >0.014760</td>\n",
       "            </tr>\n",
       "    </tbody></table>"
      ],
      "text/plain": [
       "<pandas.io.formats.style.Styler at 0x7fa13f2d0630>"
      ]
     },
     "metadata": {},
     "output_type": "display_data"
    },
    {
     "name": "stdout",
     "output_type": "stream",
     "text": [
      "\n",
      "\n",
      "\n"
     ]
    },
    {
     "data": {
      "text/html": [
       "<style  type=\"text/css\" >\n",
       "</style><table id=\"T_1a2aff50_3349_11ed_8e12_784f437c194a\" ><thead>    <tr>        <th class=\"col_heading level0 col0\" >Feature</th>        <th class=\"col_heading level0 col1\" >Coef</th>    </tr></thead><tbody>\n",
       "                <tr>\n",
       "                                <td id=\"T_1a2aff50_3349_11ed_8e12_784f437c194arow0_col0\" class=\"data row0 col0\" >firstorder_90Percentile</td>\n",
       "                        <td id=\"T_1a2aff50_3349_11ed_8e12_784f437c194arow0_col1\" class=\"data row0 col1\" >-1.252978</td>\n",
       "            </tr>\n",
       "            <tr>\n",
       "                                <td id=\"T_1a2aff50_3349_11ed_8e12_784f437c194arow1_col0\" class=\"data row1 col0\" >glcm_Imc1</td>\n",
       "                        <td id=\"T_1a2aff50_3349_11ed_8e12_784f437c194arow1_col1\" class=\"data row1 col1\" >-0.542449</td>\n",
       "            </tr>\n",
       "            <tr>\n",
       "                                <td id=\"T_1a2aff50_3349_11ed_8e12_784f437c194arow2_col0\" class=\"data row2 col0\" >firstorder_Uniformity</td>\n",
       "                        <td id=\"T_1a2aff50_3349_11ed_8e12_784f437c194arow2_col1\" class=\"data row2 col1\" >-0.495155</td>\n",
       "            </tr>\n",
       "            <tr>\n",
       "                                <td id=\"T_1a2aff50_3349_11ed_8e12_784f437c194arow3_col0\" class=\"data row3 col0\" >firstorder_Maximum</td>\n",
       "                        <td id=\"T_1a2aff50_3349_11ed_8e12_784f437c194arow3_col1\" class=\"data row3 col1\" >0.446541</td>\n",
       "            </tr>\n",
       "            <tr>\n",
       "                                <td id=\"T_1a2aff50_3349_11ed_8e12_784f437c194arow4_col0\" class=\"data row4 col0\" >glszm_SmallAreaEmphasis</td>\n",
       "                        <td id=\"T_1a2aff50_3349_11ed_8e12_784f437c194arow4_col1\" class=\"data row4 col1\" >0.443249</td>\n",
       "            </tr>\n",
       "            <tr>\n",
       "                                <td id=\"T_1a2aff50_3349_11ed_8e12_784f437c194arow5_col0\" class=\"data row5 col0\" >shape_Sphericity</td>\n",
       "                        <td id=\"T_1a2aff50_3349_11ed_8e12_784f437c194arow5_col1\" class=\"data row5 col1\" >-0.298940</td>\n",
       "            </tr>\n",
       "            <tr>\n",
       "                                <td id=\"T_1a2aff50_3349_11ed_8e12_784f437c194arow6_col0\" class=\"data row6 col0\" >shape_MeshVolume</td>\n",
       "                        <td id=\"T_1a2aff50_3349_11ed_8e12_784f437c194arow6_col1\" class=\"data row6 col1\" >0.277142</td>\n",
       "            </tr>\n",
       "            <tr>\n",
       "                                <td id=\"T_1a2aff50_3349_11ed_8e12_784f437c194arow7_col0\" class=\"data row7 col0\" >firstorder_RootMeanSquared</td>\n",
       "                        <td id=\"T_1a2aff50_3349_11ed_8e12_784f437c194arow7_col1\" class=\"data row7 col1\" >-0.259686</td>\n",
       "            </tr>\n",
       "            <tr>\n",
       "                                <td id=\"T_1a2aff50_3349_11ed_8e12_784f437c194arow8_col0\" class=\"data row8 col0\" >ngtdm_Strength</td>\n",
       "                        <td id=\"T_1a2aff50_3349_11ed_8e12_784f437c194arow8_col1\" class=\"data row8 col1\" >-0.221628</td>\n",
       "            </tr>\n",
       "            <tr>\n",
       "                                <td id=\"T_1a2aff50_3349_11ed_8e12_784f437c194arow9_col0\" class=\"data row9 col0\" >shape_Elongation</td>\n",
       "                        <td id=\"T_1a2aff50_3349_11ed_8e12_784f437c194arow9_col1\" class=\"data row9 col1\" >-0.143634</td>\n",
       "            </tr>\n",
       "            <tr>\n",
       "                                <td id=\"T_1a2aff50_3349_11ed_8e12_784f437c194arow10_col0\" class=\"data row10 col0\" >firstorder_Kurtosis</td>\n",
       "                        <td id=\"T_1a2aff50_3349_11ed_8e12_784f437c194arow10_col1\" class=\"data row10 col1\" >-0.008503</td>\n",
       "            </tr>\n",
       "    </tbody></table>"
      ],
      "text/plain": [
       "<pandas.io.formats.style.Styler at 0x7fa1406abe48>"
      ]
     },
     "metadata": {},
     "output_type": "display_data"
    },
    {
     "name": "stdout",
     "output_type": "stream",
     "text": [
      "\n",
      "\n",
      "\n"
     ]
    },
    {
     "data": {
      "text/html": [
       "<style  type=\"text/css\" >\n",
       "</style><table id=\"T_1a2c5fda_3349_11ed_a599_784f437c194a\" ><thead>    <tr>        <th class=\"col_heading level0 col0\" >Feature</th>        <th class=\"col_heading level0 col1\" >Coef</th>    </tr></thead><tbody>\n",
       "                <tr>\n",
       "                                <td id=\"T_1a2c5fda_3349_11ed_a599_784f437c194arow0_col0\" class=\"data row0 col0\" >firstorder_90Percentile</td>\n",
       "                        <td id=\"T_1a2c5fda_3349_11ed_a599_784f437c194arow0_col1\" class=\"data row0 col1\" >-1.403116</td>\n",
       "            </tr>\n",
       "            <tr>\n",
       "                                <td id=\"T_1a2c5fda_3349_11ed_a599_784f437c194arow1_col0\" class=\"data row1 col0\" >firstorder_Uniformity</td>\n",
       "                        <td id=\"T_1a2c5fda_3349_11ed_a599_784f437c194arow1_col1\" class=\"data row1 col1\" >-0.707817</td>\n",
       "            </tr>\n",
       "            <tr>\n",
       "                                <td id=\"T_1a2c5fda_3349_11ed_a599_784f437c194arow2_col0\" class=\"data row2 col0\" >firstorder_Maximum</td>\n",
       "                        <td id=\"T_1a2c5fda_3349_11ed_a599_784f437c194arow2_col1\" class=\"data row2 col1\" >0.458474</td>\n",
       "            </tr>\n",
       "            <tr>\n",
       "                                <td id=\"T_1a2c5fda_3349_11ed_a599_784f437c194arow3_col0\" class=\"data row3 col0\" >shape_MeshVolume</td>\n",
       "                        <td id=\"T_1a2c5fda_3349_11ed_a599_784f437c194arow3_col1\" class=\"data row3 col1\" >0.312873</td>\n",
       "            </tr>\n",
       "            <tr>\n",
       "                                <td id=\"T_1a2c5fda_3349_11ed_a599_784f437c194arow4_col0\" class=\"data row4 col0\" >ngtdm_Strength</td>\n",
       "                        <td id=\"T_1a2c5fda_3349_11ed_a599_784f437c194arow4_col1\" class=\"data row4 col1\" >-0.298777</td>\n",
       "            </tr>\n",
       "            <tr>\n",
       "                                <td id=\"T_1a2c5fda_3349_11ed_a599_784f437c194arow5_col0\" class=\"data row5 col0\" >firstorder_RootMeanSquared</td>\n",
       "                        <td id=\"T_1a2c5fda_3349_11ed_a599_784f437c194arow5_col1\" class=\"data row5 col1\" >-0.287200</td>\n",
       "            </tr>\n",
       "            <tr>\n",
       "                                <td id=\"T_1a2c5fda_3349_11ed_a599_784f437c194arow6_col0\" class=\"data row6 col0\" >shape_Elongation</td>\n",
       "                        <td id=\"T_1a2c5fda_3349_11ed_a599_784f437c194arow6_col1\" class=\"data row6 col1\" >-0.231225</td>\n",
       "            </tr>\n",
       "            <tr>\n",
       "                                <td id=\"T_1a2c5fda_3349_11ed_a599_784f437c194arow7_col0\" class=\"data row7 col0\" >glszm_SmallAreaEmphasis</td>\n",
       "                        <td id=\"T_1a2c5fda_3349_11ed_a599_784f437c194arow7_col1\" class=\"data row7 col1\" >0.184469</td>\n",
       "            </tr>\n",
       "            <tr>\n",
       "                                <td id=\"T_1a2c5fda_3349_11ed_a599_784f437c194arow8_col0\" class=\"data row8 col0\" >shape_Sphericity</td>\n",
       "                        <td id=\"T_1a2c5fda_3349_11ed_a599_784f437c194arow8_col1\" class=\"data row8 col1\" >-0.132784</td>\n",
       "            </tr>\n",
       "            <tr>\n",
       "                                <td id=\"T_1a2c5fda_3349_11ed_a599_784f437c194arow9_col0\" class=\"data row9 col0\" >glszm_LargeAreaLowGrayLevelEmphasis</td>\n",
       "                        <td id=\"T_1a2c5fda_3349_11ed_a599_784f437c194arow9_col1\" class=\"data row9 col1\" >0.070740</td>\n",
       "            </tr>\n",
       "            <tr>\n",
       "                                <td id=\"T_1a2c5fda_3349_11ed_a599_784f437c194arow10_col0\" class=\"data row10 col0\" >gldm_DependenceNonUniformityNormalized</td>\n",
       "                        <td id=\"T_1a2c5fda_3349_11ed_a599_784f437c194arow10_col1\" class=\"data row10 col1\" >-0.020496</td>\n",
       "            </tr>\n",
       "    </tbody></table>"
      ],
      "text/plain": [
       "<pandas.io.formats.style.Styler at 0x7fa13f320c50>"
      ]
     },
     "metadata": {},
     "output_type": "display_data"
    },
    {
     "name": "stdout",
     "output_type": "stream",
     "text": [
      "\n",
      "\n",
      "firstorder|histogram\n"
     ]
    },
    {
     "data": {
      "text/html": [
       "<style  type=\"text/css\" >\n",
       "</style><table id=\"T_1a2df55c_3349_11ed_93a9_784f437c194a\" ><thead>    <tr>        <th class=\"col_heading level0 col0\" >Feature</th>        <th class=\"col_heading level0 col1\" >Coef</th>    </tr></thead><tbody>\n",
       "                <tr>\n",
       "                                <td id=\"T_1a2df55c_3349_11ed_93a9_784f437c194arow0_col0\" class=\"data row0 col0\" >firstorder_90Percentile</td>\n",
       "                        <td id=\"T_1a2df55c_3349_11ed_93a9_784f437c194arow0_col1\" class=\"data row0 col1\" >-1.542671</td>\n",
       "            </tr>\n",
       "            <tr>\n",
       "                                <td id=\"T_1a2df55c_3349_11ed_93a9_784f437c194arow1_col0\" class=\"data row1 col0\" >firstorder_InterquartileRange</td>\n",
       "                        <td id=\"T_1a2df55c_3349_11ed_93a9_784f437c194arow1_col1\" class=\"data row1 col1\" >0.803532</td>\n",
       "            </tr>\n",
       "            <tr>\n",
       "                                <td id=\"T_1a2df55c_3349_11ed_93a9_784f437c194arow2_col0\" class=\"data row2 col0\" >firstorder_Maximum</td>\n",
       "                        <td id=\"T_1a2df55c_3349_11ed_93a9_784f437c194arow2_col1\" class=\"data row2 col1\" >0.472736</td>\n",
       "            </tr>\n",
       "            <tr>\n",
       "                                <td id=\"T_1a2df55c_3349_11ed_93a9_784f437c194arow3_col0\" class=\"data row3 col0\" >firstorder_Range</td>\n",
       "                        <td id=\"T_1a2df55c_3349_11ed_93a9_784f437c194arow3_col1\" class=\"data row3 col1\" >0.278585</td>\n",
       "            </tr>\n",
       "            <tr>\n",
       "                                <td id=\"T_1a2df55c_3349_11ed_93a9_784f437c194arow4_col0\" class=\"data row4 col0\" >firstorder_Kurtosis</td>\n",
       "                        <td id=\"T_1a2df55c_3349_11ed_93a9_784f437c194arow4_col1\" class=\"data row4 col1\" >-0.275677</td>\n",
       "            </tr>\n",
       "            <tr>\n",
       "                                <td id=\"T_1a2df55c_3349_11ed_93a9_784f437c194arow5_col0\" class=\"data row5 col0\" >firstorder_RootMeanSquared</td>\n",
       "                        <td id=\"T_1a2df55c_3349_11ed_93a9_784f437c194arow5_col1\" class=\"data row5 col1\" >-0.100863</td>\n",
       "            </tr>\n",
       "    </tbody></table>"
      ],
      "text/plain": [
       "<pandas.io.formats.style.Styler at 0x7fa13f320a90>"
      ]
     },
     "metadata": {},
     "output_type": "display_data"
    },
    {
     "name": "stdout",
     "output_type": "stream",
     "text": [
      "\n",
      "\n",
      "shape|firstorder|histogram\n"
     ]
    },
    {
     "data": {
      "text/html": [
       "<style  type=\"text/css\" >\n",
       "</style><table id=\"T_1a2fe934_3349_11ed_9597_784f437c194a\" ><thead>    <tr>        <th class=\"col_heading level0 col0\" >Feature</th>        <th class=\"col_heading level0 col1\" >Coef</th>    </tr></thead><tbody>\n",
       "                <tr>\n",
       "                                <td id=\"T_1a2fe934_3349_11ed_9597_784f437c194arow0_col0\" class=\"data row0 col0\" >firstorder_90Percentile</td>\n",
       "                        <td id=\"T_1a2fe934_3349_11ed_9597_784f437c194arow0_col1\" class=\"data row0 col1\" >-1.575369</td>\n",
       "            </tr>\n",
       "            <tr>\n",
       "                                <td id=\"T_1a2fe934_3349_11ed_9597_784f437c194arow1_col0\" class=\"data row1 col0\" >shape_MeshVolume</td>\n",
       "                        <td id=\"T_1a2fe934_3349_11ed_9597_784f437c194arow1_col1\" class=\"data row1 col1\" >1.380370</td>\n",
       "            </tr>\n",
       "            <tr>\n",
       "                                <td id=\"T_1a2fe934_3349_11ed_9597_784f437c194arow2_col0\" class=\"data row2 col0\" >firstorder_Maximum</td>\n",
       "                        <td id=\"T_1a2fe934_3349_11ed_9597_784f437c194arow2_col1\" class=\"data row2 col1\" >0.878333</td>\n",
       "            </tr>\n",
       "            <tr>\n",
       "                                <td id=\"T_1a2fe934_3349_11ed_9597_784f437c194arow3_col0\" class=\"data row3 col0\" >firstorder_InterquartileRange</td>\n",
       "                        <td id=\"T_1a2fe934_3349_11ed_9597_784f437c194arow3_col1\" class=\"data row3 col1\" >0.848481</td>\n",
       "            </tr>\n",
       "            <tr>\n",
       "                                <td id=\"T_1a2fe934_3349_11ed_9597_784f437c194arow4_col0\" class=\"data row4 col0\" >firstorder_Kurtosis</td>\n",
       "                        <td id=\"T_1a2fe934_3349_11ed_9597_784f437c194arow4_col1\" class=\"data row4 col1\" >-0.647801</td>\n",
       "            </tr>\n",
       "            <tr>\n",
       "                                <td id=\"T_1a2fe934_3349_11ed_9597_784f437c194arow5_col0\" class=\"data row5 col0\" >shape_Flatness</td>\n",
       "                        <td id=\"T_1a2fe934_3349_11ed_9597_784f437c194arow5_col1\" class=\"data row5 col1\" >0.579253</td>\n",
       "            </tr>\n",
       "            <tr>\n",
       "                                <td id=\"T_1a2fe934_3349_11ed_9597_784f437c194arow6_col0\" class=\"data row6 col0\" >shape_Elongation</td>\n",
       "                        <td id=\"T_1a2fe934_3349_11ed_9597_784f437c194arow6_col1\" class=\"data row6 col1\" >-0.564553</td>\n",
       "            </tr>\n",
       "            <tr>\n",
       "                                <td id=\"T_1a2fe934_3349_11ed_9597_784f437c194arow7_col0\" class=\"data row7 col0\" >shape_Sphericity</td>\n",
       "                        <td id=\"T_1a2fe934_3349_11ed_9597_784f437c194arow7_col1\" class=\"data row7 col1\" >-0.408852</td>\n",
       "            </tr>\n",
       "            <tr>\n",
       "                                <td id=\"T_1a2fe934_3349_11ed_9597_784f437c194arow8_col0\" class=\"data row8 col0\" >firstorder_Skewness</td>\n",
       "                        <td id=\"T_1a2fe934_3349_11ed_9597_784f437c194arow8_col1\" class=\"data row8 col1\" >0.263933</td>\n",
       "            </tr>\n",
       "            <tr>\n",
       "                                <td id=\"T_1a2fe934_3349_11ed_9597_784f437c194arow9_col0\" class=\"data row9 col0\" >firstorder_RootMeanSquared</td>\n",
       "                        <td id=\"T_1a2fe934_3349_11ed_9597_784f437c194arow9_col1\" class=\"data row9 col1\" >-0.149216</td>\n",
       "            </tr>\n",
       "    </tbody></table>"
      ],
      "text/plain": [
       "<pandas.io.formats.style.Styler at 0x7fa13f320940>"
      ]
     },
     "metadata": {},
     "output_type": "display_data"
    },
    {
     "name": "stdout",
     "output_type": "stream",
     "text": [
      "\n",
      "\n",
      "\n"
     ]
    },
    {
     "data": {
      "text/html": [
       "<style  type=\"text/css\" >\n",
       "</style><table id=\"T_1a67848c_3349_11ed_953f_784f437c194a\" ><thead>    <tr>        <th class=\"col_heading level0 col0\" >Feature</th>        <th class=\"col_heading level0 col1\" >Coef</th>    </tr></thead><tbody>\n",
       "                <tr>\n",
       "                                <td id=\"T_1a67848c_3349_11ed_953f_784f437c194arow0_col0\" class=\"data row0 col0\" >firstorder_90Percentile</td>\n",
       "                        <td id=\"T_1a67848c_3349_11ed_953f_784f437c194arow0_col1\" class=\"data row0 col1\" >-1.440325</td>\n",
       "            </tr>\n",
       "            <tr>\n",
       "                                <td id=\"T_1a67848c_3349_11ed_953f_784f437c194arow1_col0\" class=\"data row1 col0\" >firstorder_Uniformity</td>\n",
       "                        <td id=\"T_1a67848c_3349_11ed_953f_784f437c194arow1_col1\" class=\"data row1 col1\" >-0.510261</td>\n",
       "            </tr>\n",
       "            <tr>\n",
       "                                <td id=\"T_1a67848c_3349_11ed_953f_784f437c194arow2_col0\" class=\"data row2 col0\" >firstorder_Maximum</td>\n",
       "                        <td id=\"T_1a67848c_3349_11ed_953f_784f437c194arow2_col1\" class=\"data row2 col1\" >0.489874</td>\n",
       "            </tr>\n",
       "            <tr>\n",
       "                                <td id=\"T_1a67848c_3349_11ed_953f_784f437c194arow3_col0\" class=\"data row3 col0\" >shape_MeshVolume</td>\n",
       "                        <td id=\"T_1a67848c_3349_11ed_953f_784f437c194arow3_col1\" class=\"data row3 col1\" >0.380761</td>\n",
       "            </tr>\n",
       "            <tr>\n",
       "                                <td id=\"T_1a67848c_3349_11ed_953f_784f437c194arow4_col0\" class=\"data row4 col0\" >shape_Sphericity</td>\n",
       "                        <td id=\"T_1a67848c_3349_11ed_953f_784f437c194arow4_col1\" class=\"data row4 col1\" >-0.370513</td>\n",
       "            </tr>\n",
       "            <tr>\n",
       "                                <td id=\"T_1a67848c_3349_11ed_953f_784f437c194arow5_col0\" class=\"data row5 col0\" >shape_Elongation</td>\n",
       "                        <td id=\"T_1a67848c_3349_11ed_953f_784f437c194arow5_col1\" class=\"data row5 col1\" >-0.276329</td>\n",
       "            </tr>\n",
       "            <tr>\n",
       "                                <td id=\"T_1a67848c_3349_11ed_953f_784f437c194arow6_col0\" class=\"data row6 col0\" >ngtdm_Strength</td>\n",
       "                        <td id=\"T_1a67848c_3349_11ed_953f_784f437c194arow6_col1\" class=\"data row6 col1\" >-0.242808</td>\n",
       "            </tr>\n",
       "            <tr>\n",
       "                                <td id=\"T_1a67848c_3349_11ed_953f_784f437c194arow7_col0\" class=\"data row7 col0\" >gldm_LowGrayLevelEmphasis</td>\n",
       "                        <td id=\"T_1a67848c_3349_11ed_953f_784f437c194arow7_col1\" class=\"data row7 col1\" >-0.237983</td>\n",
       "            </tr>\n",
       "            <tr>\n",
       "                                <td id=\"T_1a67848c_3349_11ed_953f_784f437c194arow8_col0\" class=\"data row8 col0\" >glszm_SmallAreaEmphasis</td>\n",
       "                        <td id=\"T_1a67848c_3349_11ed_953f_784f437c194arow8_col1\" class=\"data row8 col1\" >0.141938</td>\n",
       "            </tr>\n",
       "            <tr>\n",
       "                                <td id=\"T_1a67848c_3349_11ed_953f_784f437c194arow9_col0\" class=\"data row9 col0\" >firstorder_RootMeanSquared</td>\n",
       "                        <td id=\"T_1a67848c_3349_11ed_953f_784f437c194arow9_col1\" class=\"data row9 col1\" >-0.029667</td>\n",
       "            </tr>\n",
       "    </tbody></table>"
      ],
      "text/plain": [
       "<pandas.io.formats.style.Styler at 0x7fa13a659d68>"
      ]
     },
     "metadata": {},
     "output_type": "display_data"
    },
    {
     "name": "stdout",
     "output_type": "stream",
     "text": [
      "\n",
      "\n",
      "shape|glcm|gldm|glszm|glrlm|ngtdm\n"
     ]
    },
    {
     "data": {
      "text/html": [
       "<style  type=\"text/css\" >\n",
       "</style><table id=\"T_1a68ddc0_3349_11ed_ace8_784f437c194a\" ><thead>    <tr>        <th class=\"col_heading level0 col0\" >Feature</th>        <th class=\"col_heading level0 col1\" >Coef</th>    </tr></thead><tbody>\n",
       "                <tr>\n",
       "                                <td id=\"T_1a68ddc0_3349_11ed_ace8_784f437c194arow0_col0\" class=\"data row0 col0\" >shape_MeshVolume</td>\n",
       "                        <td id=\"T_1a68ddc0_3349_11ed_ace8_784f437c194arow0_col1\" class=\"data row0 col1\" >1.337615</td>\n",
       "            </tr>\n",
       "            <tr>\n",
       "                                <td id=\"T_1a68ddc0_3349_11ed_ace8_784f437c194arow1_col0\" class=\"data row1 col0\" >shape_Sphericity</td>\n",
       "                        <td id=\"T_1a68ddc0_3349_11ed_ace8_784f437c194arow1_col1\" class=\"data row1 col1\" >-0.816962</td>\n",
       "            </tr>\n",
       "            <tr>\n",
       "                                <td id=\"T_1a68ddc0_3349_11ed_ace8_784f437c194arow2_col0\" class=\"data row2 col0\" >glcm_Imc2</td>\n",
       "                        <td id=\"T_1a68ddc0_3349_11ed_ace8_784f437c194arow2_col1\" class=\"data row2 col1\" >0.702707</td>\n",
       "            </tr>\n",
       "            <tr>\n",
       "                                <td id=\"T_1a68ddc0_3349_11ed_ace8_784f437c194arow3_col0\" class=\"data row3 col0\" >glszm_SizeZoneNonUniformityNormalized</td>\n",
       "                        <td id=\"T_1a68ddc0_3349_11ed_ace8_784f437c194arow3_col1\" class=\"data row3 col1\" >0.670953</td>\n",
       "            </tr>\n",
       "            <tr>\n",
       "                                <td id=\"T_1a68ddc0_3349_11ed_ace8_784f437c194arow4_col0\" class=\"data row4 col0\" >shape_Elongation</td>\n",
       "                        <td id=\"T_1a68ddc0_3349_11ed_ace8_784f437c194arow4_col1\" class=\"data row4 col1\" >-0.178056</td>\n",
       "            </tr>\n",
       "            <tr>\n",
       "                                <td id=\"T_1a68ddc0_3349_11ed_ace8_784f437c194arow5_col0\" class=\"data row5 col0\" >ngtdm_Strength</td>\n",
       "                        <td id=\"T_1a68ddc0_3349_11ed_ace8_784f437c194arow5_col1\" class=\"data row5 col1\" >-0.119395</td>\n",
       "            </tr>\n",
       "            <tr>\n",
       "                                <td id=\"T_1a68ddc0_3349_11ed_ace8_784f437c194arow6_col0\" class=\"data row6 col0\" >gldm_DependenceNonUniformityNormalized</td>\n",
       "                        <td id=\"T_1a68ddc0_3349_11ed_ace8_784f437c194arow6_col1\" class=\"data row6 col1\" >-0.007755</td>\n",
       "            </tr>\n",
       "            <tr>\n",
       "                                <td id=\"T_1a68ddc0_3349_11ed_ace8_784f437c194arow7_col0\" class=\"data row7 col0\" >glszm_LargeAreaLowGrayLevelEmphasis</td>\n",
       "                        <td id=\"T_1a68ddc0_3349_11ed_ace8_784f437c194arow7_col1\" class=\"data row7 col1\" >0.000385</td>\n",
       "            </tr>\n",
       "    </tbody></table>"
      ],
      "text/plain": [
       "<pandas.io.formats.style.Styler at 0x7fa14e3835c0>"
      ]
     },
     "metadata": {},
     "output_type": "display_data"
    },
    {
     "name": "stdout",
     "output_type": "stream",
     "text": [
      "\n",
      "\n",
      "firstorder|histogram\n"
     ]
    },
    {
     "data": {
      "text/html": [
       "<style  type=\"text/css\" >\n",
       "</style><table id=\"T_1a6a3206_3349_11ed_9147_784f437c194a\" ><thead>    <tr>        <th class=\"col_heading level0 col0\" >Feature</th>        <th class=\"col_heading level0 col1\" >Coef</th>    </tr></thead><tbody>\n",
       "                <tr>\n",
       "                                <td id=\"T_1a6a3206_3349_11ed_9147_784f437c194arow0_col0\" class=\"data row0 col0\" >firstorder_90Percentile</td>\n",
       "                        <td id=\"T_1a6a3206_3349_11ed_9147_784f437c194arow0_col1\" class=\"data row0 col1\" >-2.147226</td>\n",
       "            </tr>\n",
       "            <tr>\n",
       "                                <td id=\"T_1a6a3206_3349_11ed_9147_784f437c194arow1_col0\" class=\"data row1 col0\" >firstorder_Maximum</td>\n",
       "                        <td id=\"T_1a6a3206_3349_11ed_9147_784f437c194arow1_col1\" class=\"data row1 col1\" >1.321579</td>\n",
       "            </tr>\n",
       "            <tr>\n",
       "                                <td id=\"T_1a6a3206_3349_11ed_9147_784f437c194arow2_col0\" class=\"data row2 col0\" >firstorder_InterquartileRange</td>\n",
       "                        <td id=\"T_1a6a3206_3349_11ed_9147_784f437c194arow2_col1\" class=\"data row2 col1\" >1.164913</td>\n",
       "            </tr>\n",
       "            <tr>\n",
       "                                <td id=\"T_1a6a3206_3349_11ed_9147_784f437c194arow3_col0\" class=\"data row3 col0\" >firstorder_RootMeanSquared</td>\n",
       "                        <td id=\"T_1a6a3206_3349_11ed_9147_784f437c194arow3_col1\" class=\"data row3 col1\" >-0.331201</td>\n",
       "            </tr>\n",
       "            <tr>\n",
       "                                <td id=\"T_1a6a3206_3349_11ed_9147_784f437c194arow4_col0\" class=\"data row4 col0\" >firstorder_Skewness</td>\n",
       "                        <td id=\"T_1a6a3206_3349_11ed_9147_784f437c194arow4_col1\" class=\"data row4 col1\" >0.056643</td>\n",
       "            </tr>\n",
       "    </tbody></table>"
      ],
      "text/plain": [
       "<pandas.io.formats.style.Styler at 0x7fa151c72dd8>"
      ]
     },
     "metadata": {},
     "output_type": "display_data"
    },
    {
     "name": "stdout",
     "output_type": "stream",
     "text": [
      "\n",
      "\n",
      "\n"
     ]
    },
    {
     "data": {
      "text/html": [
       "<style  type=\"text/css\" >\n",
       "</style><table id=\"T_1a6b7762_3349_11ed_9c2b_784f437c194a\" ><thead>    <tr>        <th class=\"col_heading level0 col0\" >Feature</th>        <th class=\"col_heading level0 col1\" >Coef</th>    </tr></thead><tbody>\n",
       "                <tr>\n",
       "                                <td id=\"T_1a6b7762_3349_11ed_9c2b_784f437c194arow0_col0\" class=\"data row0 col0\" >firstorder_90Percentile</td>\n",
       "                        <td id=\"T_1a6b7762_3349_11ed_9c2b_784f437c194arow0_col1\" class=\"data row0 col1\" >-1.302932</td>\n",
       "            </tr>\n",
       "            <tr>\n",
       "                                <td id=\"T_1a6b7762_3349_11ed_9c2b_784f437c194arow1_col0\" class=\"data row1 col0\" >firstorder_InterquartileRange</td>\n",
       "                        <td id=\"T_1a6b7762_3349_11ed_9c2b_784f437c194arow1_col1\" class=\"data row1 col1\" >0.760842</td>\n",
       "            </tr>\n",
       "            <tr>\n",
       "                                <td id=\"T_1a6b7762_3349_11ed_9c2b_784f437c194arow2_col0\" class=\"data row2 col0\" >shape_Sphericity</td>\n",
       "                        <td id=\"T_1a6b7762_3349_11ed_9c2b_784f437c194arow2_col1\" class=\"data row2 col1\" >-0.432322</td>\n",
       "            </tr>\n",
       "            <tr>\n",
       "                                <td id=\"T_1a6b7762_3349_11ed_9c2b_784f437c194arow3_col0\" class=\"data row3 col0\" >firstorder_Maximum</td>\n",
       "                        <td id=\"T_1a6b7762_3349_11ed_9c2b_784f437c194arow3_col1\" class=\"data row3 col1\" >0.411964</td>\n",
       "            </tr>\n",
       "            <tr>\n",
       "                                <td id=\"T_1a6b7762_3349_11ed_9c2b_784f437c194arow4_col0\" class=\"data row4 col0\" >firstorder_RootMeanSquared</td>\n",
       "                        <td id=\"T_1a6b7762_3349_11ed_9c2b_784f437c194arow4_col1\" class=\"data row4 col1\" >-0.329033</td>\n",
       "            </tr>\n",
       "            <tr>\n",
       "                                <td id=\"T_1a6b7762_3349_11ed_9c2b_784f437c194arow5_col0\" class=\"data row5 col0\" >shape_MeshVolume</td>\n",
       "                        <td id=\"T_1a6b7762_3349_11ed_9c2b_784f437c194arow5_col1\" class=\"data row5 col1\" >0.278248</td>\n",
       "            </tr>\n",
       "            <tr>\n",
       "                                <td id=\"T_1a6b7762_3349_11ed_9c2b_784f437c194arow6_col0\" class=\"data row6 col0\" >ngtdm_Strength</td>\n",
       "                        <td id=\"T_1a6b7762_3349_11ed_9c2b_784f437c194arow6_col1\" class=\"data row6 col1\" >-0.231222</td>\n",
       "            </tr>\n",
       "            <tr>\n",
       "                                <td id=\"T_1a6b7762_3349_11ed_9c2b_784f437c194arow7_col0\" class=\"data row7 col0\" >shape_Elongation</td>\n",
       "                        <td id=\"T_1a6b7762_3349_11ed_9c2b_784f437c194arow7_col1\" class=\"data row7 col1\" >-0.123555</td>\n",
       "            </tr>\n",
       "            <tr>\n",
       "                                <td id=\"T_1a6b7762_3349_11ed_9c2b_784f437c194arow8_col0\" class=\"data row8 col0\" >gldm_LowGrayLevelEmphasis</td>\n",
       "                        <td id=\"T_1a6b7762_3349_11ed_9c2b_784f437c194arow8_col1\" class=\"data row8 col1\" >-0.059948</td>\n",
       "            </tr>\n",
       "            <tr>\n",
       "                                <td id=\"T_1a6b7762_3349_11ed_9c2b_784f437c194arow9_col0\" class=\"data row9 col0\" >glszm_SizeZoneNonUniformityNormalized</td>\n",
       "                        <td id=\"T_1a6b7762_3349_11ed_9c2b_784f437c194arow9_col1\" class=\"data row9 col1\" >0.046380</td>\n",
       "            </tr>\n",
       "            <tr>\n",
       "                                <td id=\"T_1a6b7762_3349_11ed_9c2b_784f437c194arow10_col0\" class=\"data row10 col0\" >gldm_DependenceNonUniformityNormalized</td>\n",
       "                        <td id=\"T_1a6b7762_3349_11ed_9c2b_784f437c194arow10_col1\" class=\"data row10 col1\" >-0.038669</td>\n",
       "            </tr>\n",
       "            <tr>\n",
       "                                <td id=\"T_1a6b7762_3349_11ed_9c2b_784f437c194arow11_col0\" class=\"data row11 col0\" >firstorder_Minimum</td>\n",
       "                        <td id=\"T_1a6b7762_3349_11ed_9c2b_784f437c194arow11_col1\" class=\"data row11 col1\" >-0.021946</td>\n",
       "            </tr>\n",
       "    </tbody></table>"
      ],
      "text/plain": [
       "<pandas.io.formats.style.Styler at 0x7fa151c92e48>"
      ]
     },
     "metadata": {},
     "output_type": "display_data"
    },
    {
     "name": "stdout",
     "output_type": "stream",
     "text": [
      "\n",
      "\n",
      "shape|firstorder|histogram\n"
     ]
    },
    {
     "data": {
      "text/html": [
       "<style  type=\"text/css\" >\n",
       "</style><table id=\"T_1a6d3168_3349_11ed_a62d_784f437c194a\" ><thead>    <tr>        <th class=\"col_heading level0 col0\" >Feature</th>        <th class=\"col_heading level0 col1\" >Coef</th>    </tr></thead><tbody>\n",
       "                <tr>\n",
       "                                <td id=\"T_1a6d3168_3349_11ed_a62d_784f437c194arow0_col0\" class=\"data row0 col0\" >firstorder_90Percentile</td>\n",
       "                        <td id=\"T_1a6d3168_3349_11ed_a62d_784f437c194arow0_col1\" class=\"data row0 col1\" >-1.910570</td>\n",
       "            </tr>\n",
       "            <tr>\n",
       "                                <td id=\"T_1a6d3168_3349_11ed_a62d_784f437c194arow1_col0\" class=\"data row1 col0\" >firstorder_Maximum</td>\n",
       "                        <td id=\"T_1a6d3168_3349_11ed_a62d_784f437c194arow1_col1\" class=\"data row1 col1\" >1.661474</td>\n",
       "            </tr>\n",
       "            <tr>\n",
       "                                <td id=\"T_1a6d3168_3349_11ed_a62d_784f437c194arow2_col0\" class=\"data row2 col0\" >firstorder_InterquartileRange</td>\n",
       "                        <td id=\"T_1a6d3168_3349_11ed_a62d_784f437c194arow2_col1\" class=\"data row2 col1\" >1.217878</td>\n",
       "            </tr>\n",
       "            <tr>\n",
       "                                <td id=\"T_1a6d3168_3349_11ed_a62d_784f437c194arow3_col0\" class=\"data row3 col0\" >firstorder_Kurtosis</td>\n",
       "                        <td id=\"T_1a6d3168_3349_11ed_a62d_784f437c194arow3_col1\" class=\"data row3 col1\" >-0.777347</td>\n",
       "            </tr>\n",
       "            <tr>\n",
       "                                <td id=\"T_1a6d3168_3349_11ed_a62d_784f437c194arow4_col0\" class=\"data row4 col0\" >shape_MeshVolume</td>\n",
       "                        <td id=\"T_1a6d3168_3349_11ed_a62d_784f437c194arow4_col1\" class=\"data row4 col1\" >0.567218</td>\n",
       "            </tr>\n",
       "            <tr>\n",
       "                                <td id=\"T_1a6d3168_3349_11ed_a62d_784f437c194arow5_col0\" class=\"data row5 col0\" >shape_Elongation</td>\n",
       "                        <td id=\"T_1a6d3168_3349_11ed_a62d_784f437c194arow5_col1\" class=\"data row5 col1\" >-0.558274</td>\n",
       "            </tr>\n",
       "            <tr>\n",
       "                                <td id=\"T_1a6d3168_3349_11ed_a62d_784f437c194arow6_col0\" class=\"data row6 col0\" >shape_Flatness</td>\n",
       "                        <td id=\"T_1a6d3168_3349_11ed_a62d_784f437c194arow6_col1\" class=\"data row6 col1\" >0.544058</td>\n",
       "            </tr>\n",
       "            <tr>\n",
       "                                <td id=\"T_1a6d3168_3349_11ed_a62d_784f437c194arow7_col0\" class=\"data row7 col0\" >firstorder_RootMeanSquared</td>\n",
       "                        <td id=\"T_1a6d3168_3349_11ed_a62d_784f437c194arow7_col1\" class=\"data row7 col1\" >-0.337745</td>\n",
       "            </tr>\n",
       "            <tr>\n",
       "                                <td id=\"T_1a6d3168_3349_11ed_a62d_784f437c194arow8_col0\" class=\"data row8 col0\" >shape_Sphericity</td>\n",
       "                        <td id=\"T_1a6d3168_3349_11ed_a62d_784f437c194arow8_col1\" class=\"data row8 col1\" >-0.328728</td>\n",
       "            </tr>\n",
       "            <tr>\n",
       "                                <td id=\"T_1a6d3168_3349_11ed_a62d_784f437c194arow9_col0\" class=\"data row9 col0\" >firstorder_Minimum</td>\n",
       "                        <td id=\"T_1a6d3168_3349_11ed_a62d_784f437c194arow9_col1\" class=\"data row9 col1\" >0.000864</td>\n",
       "            </tr>\n",
       "    </tbody></table>"
      ],
      "text/plain": [
       "<pandas.io.formats.style.Styler at 0x7fa1446929e8>"
      ]
     },
     "metadata": {},
     "output_type": "display_data"
    },
    {
     "name": "stdout",
     "output_type": "stream",
     "text": [
      "\n",
      "\n",
      "\n"
     ]
    },
    {
     "data": {
      "text/html": [
       "<style  type=\"text/css\" >\n",
       "</style><table id=\"T_1a6ee012_3349_11ed_ad4f_784f437c194a\" ><thead>    <tr>        <th class=\"col_heading level0 col0\" >Feature</th>        <th class=\"col_heading level0 col1\" >Coef</th>    </tr></thead><tbody>\n",
       "                <tr>\n",
       "                                <td id=\"T_1a6ee012_3349_11ed_ad4f_784f437c194arow0_col0\" class=\"data row0 col0\" >firstorder_90Percentile</td>\n",
       "                        <td id=\"T_1a6ee012_3349_11ed_ad4f_784f437c194arow0_col1\" class=\"data row0 col1\" >-1.504193</td>\n",
       "            </tr>\n",
       "            <tr>\n",
       "                                <td id=\"T_1a6ee012_3349_11ed_ad4f_784f437c194arow1_col0\" class=\"data row1 col0\" >glszm_ZoneEntropy</td>\n",
       "                        <td id=\"T_1a6ee012_3349_11ed_ad4f_784f437c194arow1_col1\" class=\"data row1 col1\" >1.253520</td>\n",
       "            </tr>\n",
       "            <tr>\n",
       "                                <td id=\"T_1a6ee012_3349_11ed_ad4f_784f437c194arow2_col0\" class=\"data row2 col0\" >glszm_SmallAreaEmphasis</td>\n",
       "                        <td id=\"T_1a6ee012_3349_11ed_ad4f_784f437c194arow2_col1\" class=\"data row2 col1\" >0.736312</td>\n",
       "            </tr>\n",
       "            <tr>\n",
       "                                <td id=\"T_1a6ee012_3349_11ed_ad4f_784f437c194arow3_col0\" class=\"data row3 col0\" >shape_Sphericity</td>\n",
       "                        <td id=\"T_1a6ee012_3349_11ed_ad4f_784f437c194arow3_col1\" class=\"data row3 col1\" >-0.437938</td>\n",
       "            </tr>\n",
       "            <tr>\n",
       "                                <td id=\"T_1a6ee012_3349_11ed_ad4f_784f437c194arow4_col0\" class=\"data row4 col0\" >firstorder_Maximum</td>\n",
       "                        <td id=\"T_1a6ee012_3349_11ed_ad4f_784f437c194arow4_col1\" class=\"data row4 col1\" >0.401361</td>\n",
       "            </tr>\n",
       "            <tr>\n",
       "                                <td id=\"T_1a6ee012_3349_11ed_ad4f_784f437c194arow5_col0\" class=\"data row5 col0\" >ngtdm_Strength</td>\n",
       "                        <td id=\"T_1a6ee012_3349_11ed_ad4f_784f437c194arow5_col1\" class=\"data row5 col1\" >-0.385326</td>\n",
       "            </tr>\n",
       "            <tr>\n",
       "                                <td id=\"T_1a6ee012_3349_11ed_ad4f_784f437c194arow6_col0\" class=\"data row6 col0\" >shape_Elongation</td>\n",
       "                        <td id=\"T_1a6ee012_3349_11ed_ad4f_784f437c194arow6_col1\" class=\"data row6 col1\" >-0.324942</td>\n",
       "            </tr>\n",
       "            <tr>\n",
       "                                <td id=\"T_1a6ee012_3349_11ed_ad4f_784f437c194arow7_col0\" class=\"data row7 col0\" >shape_MeshVolume</td>\n",
       "                        <td id=\"T_1a6ee012_3349_11ed_ad4f_784f437c194arow7_col1\" class=\"data row7 col1\" >0.313013</td>\n",
       "            </tr>\n",
       "            <tr>\n",
       "                                <td id=\"T_1a6ee012_3349_11ed_ad4f_784f437c194arow8_col0\" class=\"data row8 col0\" >firstorder_RootMeanSquared</td>\n",
       "                        <td id=\"T_1a6ee012_3349_11ed_ad4f_784f437c194arow8_col1\" class=\"data row8 col1\" >-0.306292</td>\n",
       "            </tr>\n",
       "            <tr>\n",
       "                                <td id=\"T_1a6ee012_3349_11ed_ad4f_784f437c194arow9_col0\" class=\"data row9 col0\" >gldm_LowGrayLevelEmphasis</td>\n",
       "                        <td id=\"T_1a6ee012_3349_11ed_ad4f_784f437c194arow9_col1\" class=\"data row9 col1\" >-0.051694</td>\n",
       "            </tr>\n",
       "            <tr>\n",
       "                                <td id=\"T_1a6ee012_3349_11ed_ad4f_784f437c194arow10_col0\" class=\"data row10 col0\" >firstorder_Skewness</td>\n",
       "                        <td id=\"T_1a6ee012_3349_11ed_ad4f_784f437c194arow10_col1\" class=\"data row10 col1\" >0.047909</td>\n",
       "            </tr>\n",
       "    </tbody></table>"
      ],
      "text/plain": [
       "<pandas.io.formats.style.Styler at 0x7fa13c2b56d8>"
      ]
     },
     "metadata": {},
     "output_type": "display_data"
    },
    {
     "name": "stdout",
     "output_type": "stream",
     "text": [
      "\n",
      "\n",
      "shape|firstorder|histogram\n"
     ]
    },
    {
     "data": {
      "text/html": [
       "<style  type=\"text/css\" >\n",
       "</style><table id=\"T_1a706a06_3349_11ed_971e_784f437c194a\" ><thead>    <tr>        <th class=\"col_heading level0 col0\" >Feature</th>        <th class=\"col_heading level0 col1\" >Coef</th>    </tr></thead><tbody>\n",
       "                <tr>\n",
       "                                <td id=\"T_1a706a06_3349_11ed_971e_784f437c194arow0_col0\" class=\"data row0 col0\" >firstorder_90Percentile</td>\n",
       "                        <td id=\"T_1a706a06_3349_11ed_971e_784f437c194arow0_col1\" class=\"data row0 col1\" >-1.508172</td>\n",
       "            </tr>\n",
       "            <tr>\n",
       "                                <td id=\"T_1a706a06_3349_11ed_971e_784f437c194arow1_col0\" class=\"data row1 col0\" >firstorder_Maximum</td>\n",
       "                        <td id=\"T_1a706a06_3349_11ed_971e_784f437c194arow1_col1\" class=\"data row1 col1\" >0.852172</td>\n",
       "            </tr>\n",
       "            <tr>\n",
       "                                <td id=\"T_1a706a06_3349_11ed_971e_784f437c194arow2_col0\" class=\"data row2 col0\" >firstorder_Uniformity</td>\n",
       "                        <td id=\"T_1a706a06_3349_11ed_971e_784f437c194arow2_col1\" class=\"data row2 col1\" >-0.734903</td>\n",
       "            </tr>\n",
       "            <tr>\n",
       "                                <td id=\"T_1a706a06_3349_11ed_971e_784f437c194arow3_col0\" class=\"data row3 col0\" >shape_MeshVolume</td>\n",
       "                        <td id=\"T_1a706a06_3349_11ed_971e_784f437c194arow3_col1\" class=\"data row3 col1\" >0.626709</td>\n",
       "            </tr>\n",
       "            <tr>\n",
       "                                <td id=\"T_1a706a06_3349_11ed_971e_784f437c194arow4_col0\" class=\"data row4 col0\" >firstorder_Kurtosis</td>\n",
       "                        <td id=\"T_1a706a06_3349_11ed_971e_784f437c194arow4_col1\" class=\"data row4 col1\" >-0.551083</td>\n",
       "            </tr>\n",
       "            <tr>\n",
       "                                <td id=\"T_1a706a06_3349_11ed_971e_784f437c194arow5_col0\" class=\"data row5 col0\" >shape_Elongation</td>\n",
       "                        <td id=\"T_1a706a06_3349_11ed_971e_784f437c194arow5_col1\" class=\"data row5 col1\" >-0.425723</td>\n",
       "            </tr>\n",
       "            <tr>\n",
       "                                <td id=\"T_1a706a06_3349_11ed_971e_784f437c194arow6_col0\" class=\"data row6 col0\" >firstorder_RootMeanSquared</td>\n",
       "                        <td id=\"T_1a706a06_3349_11ed_971e_784f437c194arow6_col1\" class=\"data row6 col1\" >-0.380193</td>\n",
       "            </tr>\n",
       "            <tr>\n",
       "                                <td id=\"T_1a706a06_3349_11ed_971e_784f437c194arow7_col0\" class=\"data row7 col0\" >firstorder_Skewness</td>\n",
       "                        <td id=\"T_1a706a06_3349_11ed_971e_784f437c194arow7_col1\" class=\"data row7 col1\" >0.239104</td>\n",
       "            </tr>\n",
       "            <tr>\n",
       "                                <td id=\"T_1a706a06_3349_11ed_971e_784f437c194arow8_col0\" class=\"data row8 col0\" >shape_Sphericity</td>\n",
       "                        <td id=\"T_1a706a06_3349_11ed_971e_784f437c194arow8_col1\" class=\"data row8 col1\" >-0.184829</td>\n",
       "            </tr>\n",
       "    </tbody></table>"
      ],
      "text/plain": [
       "<pandas.io.formats.style.Styler at 0x7fa13c2b5f60>"
      ]
     },
     "metadata": {},
     "output_type": "display_data"
    },
    {
     "name": "stdout",
     "output_type": "stream",
     "text": [
      "\n",
      "\n",
      "firstorder|histogram\n"
     ]
    },
    {
     "data": {
      "text/html": [
       "<style  type=\"text/css\" >\n",
       "</style><table id=\"T_1a72056c_3349_11ed_a04e_784f437c194a\" ><thead>    <tr>        <th class=\"col_heading level0 col0\" >Feature</th>        <th class=\"col_heading level0 col1\" >Coef</th>    </tr></thead><tbody>\n",
       "                <tr>\n",
       "                                <td id=\"T_1a72056c_3349_11ed_a04e_784f437c194arow0_col0\" class=\"data row0 col0\" >firstorder_90Percentile</td>\n",
       "                        <td id=\"T_1a72056c_3349_11ed_a04e_784f437c194arow0_col1\" class=\"data row0 col1\" >-2.179270</td>\n",
       "            </tr>\n",
       "            <tr>\n",
       "                                <td id=\"T_1a72056c_3349_11ed_a04e_784f437c194arow1_col0\" class=\"data row1 col0\" >firstorder_Maximum</td>\n",
       "                        <td id=\"T_1a72056c_3349_11ed_a04e_784f437c194arow1_col1\" class=\"data row1 col1\" >1.362701</td>\n",
       "            </tr>\n",
       "            <tr>\n",
       "                                <td id=\"T_1a72056c_3349_11ed_a04e_784f437c194arow2_col0\" class=\"data row2 col0\" >firstorder_InterquartileRange</td>\n",
       "                        <td id=\"T_1a72056c_3349_11ed_a04e_784f437c194arow2_col1\" class=\"data row2 col1\" >1.234927</td>\n",
       "            </tr>\n",
       "            <tr>\n",
       "                                <td id=\"T_1a72056c_3349_11ed_a04e_784f437c194arow3_col0\" class=\"data row3 col0\" >firstorder_RootMeanSquared</td>\n",
       "                        <td id=\"T_1a72056c_3349_11ed_a04e_784f437c194arow3_col1\" class=\"data row3 col1\" >-0.336861</td>\n",
       "            </tr>\n",
       "            <tr>\n",
       "                                <td id=\"T_1a72056c_3349_11ed_a04e_784f437c194arow4_col0\" class=\"data row4 col0\" >firstorder_Minimum</td>\n",
       "                        <td id=\"T_1a72056c_3349_11ed_a04e_784f437c194arow4_col1\" class=\"data row4 col1\" >-0.028133</td>\n",
       "            </tr>\n",
       "            <tr>\n",
       "                                <td id=\"T_1a72056c_3349_11ed_a04e_784f437c194arow5_col0\" class=\"data row5 col0\" >firstorder_Skewness</td>\n",
       "                        <td id=\"T_1a72056c_3349_11ed_a04e_784f437c194arow5_col1\" class=\"data row5 col1\" >0.022009</td>\n",
       "            </tr>\n",
       "    </tbody></table>"
      ],
      "text/plain": [
       "<pandas.io.formats.style.Styler at 0x7fa151c92e48>"
      ]
     },
     "metadata": {},
     "output_type": "display_data"
    },
    {
     "name": "stdout",
     "output_type": "stream",
     "text": [
      "\n",
      "\n",
      "firstorder|histogram\n"
     ]
    },
    {
     "data": {
      "text/html": [
       "<style  type=\"text/css\" >\n",
       "</style><table id=\"T_1a733e00_3349_11ed_9661_784f437c194a\" ><thead>    <tr>        <th class=\"col_heading level0 col0\" >Feature</th>        <th class=\"col_heading level0 col1\" >Coef</th>    </tr></thead><tbody>\n",
       "                <tr>\n",
       "                                <td id=\"T_1a733e00_3349_11ed_9661_784f437c194arow0_col0\" class=\"data row0 col0\" >firstorder_90Percentile</td>\n",
       "                        <td id=\"T_1a733e00_3349_11ed_9661_784f437c194arow0_col1\" class=\"data row0 col1\" >-1.545553</td>\n",
       "            </tr>\n",
       "            <tr>\n",
       "                                <td id=\"T_1a733e00_3349_11ed_9661_784f437c194arow1_col0\" class=\"data row1 col0\" >firstorder_InterquartileRange</td>\n",
       "                        <td id=\"T_1a733e00_3349_11ed_9661_784f437c194arow1_col1\" class=\"data row1 col1\" >0.876358</td>\n",
       "            </tr>\n",
       "            <tr>\n",
       "                                <td id=\"T_1a733e00_3349_11ed_9661_784f437c194arow2_col0\" class=\"data row2 col0\" >firstorder_Maximum</td>\n",
       "                        <td id=\"T_1a733e00_3349_11ed_9661_784f437c194arow2_col1\" class=\"data row2 col1\" >0.644424</td>\n",
       "            </tr>\n",
       "            <tr>\n",
       "                                <td id=\"T_1a733e00_3349_11ed_9661_784f437c194arow3_col0\" class=\"data row3 col0\" >firstorder_RootMeanSquared</td>\n",
       "                        <td id=\"T_1a733e00_3349_11ed_9661_784f437c194arow3_col1\" class=\"data row3 col1\" >-0.349329</td>\n",
       "            </tr>\n",
       "            <tr>\n",
       "                                <td id=\"T_1a733e00_3349_11ed_9661_784f437c194arow4_col0\" class=\"data row4 col0\" >firstorder_Kurtosis</td>\n",
       "                        <td id=\"T_1a733e00_3349_11ed_9661_784f437c194arow4_col1\" class=\"data row4 col1\" >-0.267366</td>\n",
       "            </tr>\n",
       "            <tr>\n",
       "                                <td id=\"T_1a733e00_3349_11ed_9661_784f437c194arow5_col0\" class=\"data row5 col0\" >firstorder_Minimum</td>\n",
       "                        <td id=\"T_1a733e00_3349_11ed_9661_784f437c194arow5_col1\" class=\"data row5 col1\" >-0.000959</td>\n",
       "            </tr>\n",
       "    </tbody></table>"
      ],
      "text/plain": [
       "<pandas.io.formats.style.Styler at 0x7fa151c72dd8>"
      ]
     },
     "metadata": {},
     "output_type": "display_data"
    },
    {
     "name": "stdout",
     "output_type": "stream",
     "text": [
      "\n",
      "\n",
      "shape|firstorder|histogram\n"
     ]
    },
    {
     "data": {
      "text/html": [
       "<style  type=\"text/css\" >\n",
       "</style><table id=\"T_1a74aa4c_3349_11ed_bd3e_784f437c194a\" ><thead>    <tr>        <th class=\"col_heading level0 col0\" >Feature</th>        <th class=\"col_heading level0 col1\" >Coef</th>    </tr></thead><tbody>\n",
       "                <tr>\n",
       "                                <td id=\"T_1a74aa4c_3349_11ed_bd3e_784f437c194arow0_col0\" class=\"data row0 col0\" >firstorder_90Percentile</td>\n",
       "                        <td id=\"T_1a74aa4c_3349_11ed_bd3e_784f437c194arow0_col1\" class=\"data row0 col1\" >-1.234646</td>\n",
       "            </tr>\n",
       "            <tr>\n",
       "                                <td id=\"T_1a74aa4c_3349_11ed_bd3e_784f437c194arow1_col0\" class=\"data row1 col0\" >firstorder_InterquartileRange</td>\n",
       "                        <td id=\"T_1a74aa4c_3349_11ed_bd3e_784f437c194arow1_col1\" class=\"data row1 col1\" >0.715286</td>\n",
       "            </tr>\n",
       "            <tr>\n",
       "                                <td id=\"T_1a74aa4c_3349_11ed_bd3e_784f437c194arow2_col0\" class=\"data row2 col0\" >firstorder_Maximum</td>\n",
       "                        <td id=\"T_1a74aa4c_3349_11ed_bd3e_784f437c194arow2_col1\" class=\"data row2 col1\" >0.567856</td>\n",
       "            </tr>\n",
       "            <tr>\n",
       "                                <td id=\"T_1a74aa4c_3349_11ed_bd3e_784f437c194arow3_col0\" class=\"data row3 col0\" >shape_Sphericity</td>\n",
       "                        <td id=\"T_1a74aa4c_3349_11ed_bd3e_784f437c194arow3_col1\" class=\"data row3 col1\" >-0.335136</td>\n",
       "            </tr>\n",
       "            <tr>\n",
       "                                <td id=\"T_1a74aa4c_3349_11ed_bd3e_784f437c194arow4_col0\" class=\"data row4 col0\" >shape_MeshVolume</td>\n",
       "                        <td id=\"T_1a74aa4c_3349_11ed_bd3e_784f437c194arow4_col1\" class=\"data row4 col1\" >0.322849</td>\n",
       "            </tr>\n",
       "            <tr>\n",
       "                                <td id=\"T_1a74aa4c_3349_11ed_bd3e_784f437c194arow5_col0\" class=\"data row5 col0\" >firstorder_Kurtosis</td>\n",
       "                        <td id=\"T_1a74aa4c_3349_11ed_bd3e_784f437c194arow5_col1\" class=\"data row5 col1\" >-0.219245</td>\n",
       "            </tr>\n",
       "            <tr>\n",
       "                                <td id=\"T_1a74aa4c_3349_11ed_bd3e_784f437c194arow6_col0\" class=\"data row6 col0\" >firstorder_RootMeanSquared</td>\n",
       "                        <td id=\"T_1a74aa4c_3349_11ed_bd3e_784f437c194arow6_col1\" class=\"data row6 col1\" >-0.168311</td>\n",
       "            </tr>\n",
       "            <tr>\n",
       "                                <td id=\"T_1a74aa4c_3349_11ed_bd3e_784f437c194arow7_col0\" class=\"data row7 col0\" >shape_Elongation</td>\n",
       "                        <td id=\"T_1a74aa4c_3349_11ed_bd3e_784f437c194arow7_col1\" class=\"data row7 col1\" >-0.109148</td>\n",
       "            </tr>\n",
       "    </tbody></table>"
      ],
      "text/plain": [
       "<pandas.io.formats.style.Styler at 0x7fa13a659d68>"
      ]
     },
     "metadata": {},
     "output_type": "display_data"
    },
    {
     "name": "stdout",
     "output_type": "stream",
     "text": [
      "\n",
      "\n",
      "shape|firstorder|histogram\n"
     ]
    },
    {
     "data": {
      "text/html": [
       "<style  type=\"text/css\" >\n",
       "</style><table id=\"T_1a75c406_3349_11ed_9b5b_784f437c194a\" ><thead>    <tr>        <th class=\"col_heading level0 col0\" >Feature</th>        <th class=\"col_heading level0 col1\" >Coef</th>    </tr></thead><tbody>\n",
       "                <tr>\n",
       "                                <td id=\"T_1a75c406_3349_11ed_9b5b_784f437c194arow0_col0\" class=\"data row0 col0\" >firstorder_90Percentile</td>\n",
       "                        <td id=\"T_1a75c406_3349_11ed_9b5b_784f437c194arow0_col1\" class=\"data row0 col1\" >-1.258673</td>\n",
       "            </tr>\n",
       "            <tr>\n",
       "                                <td id=\"T_1a75c406_3349_11ed_9b5b_784f437c194arow1_col0\" class=\"data row1 col0\" >firstorder_Uniformity</td>\n",
       "                        <td id=\"T_1a75c406_3349_11ed_9b5b_784f437c194arow1_col1\" class=\"data row1 col1\" >-0.633013</td>\n",
       "            </tr>\n",
       "            <tr>\n",
       "                                <td id=\"T_1a75c406_3349_11ed_9b5b_784f437c194arow2_col0\" class=\"data row2 col0\" >shape_MeshVolume</td>\n",
       "                        <td id=\"T_1a75c406_3349_11ed_9b5b_784f437c194arow2_col1\" class=\"data row2 col1\" >0.408408</td>\n",
       "            </tr>\n",
       "            <tr>\n",
       "                                <td id=\"T_1a75c406_3349_11ed_9b5b_784f437c194arow3_col0\" class=\"data row3 col0\" >shape_Sphericity</td>\n",
       "                        <td id=\"T_1a75c406_3349_11ed_9b5b_784f437c194arow3_col1\" class=\"data row3 col1\" >-0.369277</td>\n",
       "            </tr>\n",
       "            <tr>\n",
       "                                <td id=\"T_1a75c406_3349_11ed_9b5b_784f437c194arow4_col0\" class=\"data row4 col0\" >firstorder_Maximum</td>\n",
       "                        <td id=\"T_1a75c406_3349_11ed_9b5b_784f437c194arow4_col1\" class=\"data row4 col1\" >0.367358</td>\n",
       "            </tr>\n",
       "            <tr>\n",
       "                                <td id=\"T_1a75c406_3349_11ed_9b5b_784f437c194arow5_col0\" class=\"data row5 col0\" >firstorder_RootMeanSquared</td>\n",
       "                        <td id=\"T_1a75c406_3349_11ed_9b5b_784f437c194arow5_col1\" class=\"data row5 col1\" >-0.355247</td>\n",
       "            </tr>\n",
       "            <tr>\n",
       "                                <td id=\"T_1a75c406_3349_11ed_9b5b_784f437c194arow6_col0\" class=\"data row6 col0\" >firstorder_Kurtosis</td>\n",
       "                        <td id=\"T_1a75c406_3349_11ed_9b5b_784f437c194arow6_col1\" class=\"data row6 col1\" >-0.199877</td>\n",
       "            </tr>\n",
       "            <tr>\n",
       "                                <td id=\"T_1a75c406_3349_11ed_9b5b_784f437c194arow7_col0\" class=\"data row7 col0\" >shape_Elongation</td>\n",
       "                        <td id=\"T_1a75c406_3349_11ed_9b5b_784f437c194arow7_col1\" class=\"data row7 col1\" >-0.149134</td>\n",
       "            </tr>\n",
       "            <tr>\n",
       "                                <td id=\"T_1a75c406_3349_11ed_9b5b_784f437c194arow8_col0\" class=\"data row8 col0\" >firstorder_Skewness</td>\n",
       "                        <td id=\"T_1a75c406_3349_11ed_9b5b_784f437c194arow8_col1\" class=\"data row8 col1\" >0.104458</td>\n",
       "            </tr>\n",
       "            <tr>\n",
       "                                <td id=\"T_1a75c406_3349_11ed_9b5b_784f437c194arow9_col0\" class=\"data row9 col0\" >firstorder_Minimum</td>\n",
       "                        <td id=\"T_1a75c406_3349_11ed_9b5b_784f437c194arow9_col1\" class=\"data row9 col1\" >-0.063235</td>\n",
       "            </tr>\n",
       "    </tbody></table>"
      ],
      "text/plain": [
       "<pandas.io.formats.style.Styler at 0x7fa14e3835c0>"
      ]
     },
     "metadata": {},
     "output_type": "display_data"
    },
    {
     "name": "stdout",
     "output_type": "stream",
     "text": [
      "\n",
      "\n",
      "\n"
     ]
    },
    {
     "data": {
      "text/html": [
       "<style  type=\"text/css\" >\n",
       "</style><table id=\"T_1a770e54_3349_11ed_b8a1_784f437c194a\" ><thead>    <tr>        <th class=\"col_heading level0 col0\" >Feature</th>        <th class=\"col_heading level0 col1\" >Coef</th>    </tr></thead><tbody>\n",
       "                <tr>\n",
       "                                <td id=\"T_1a770e54_3349_11ed_b8a1_784f437c194arow0_col0\" class=\"data row0 col0\" >firstorder_90Percentile</td>\n",
       "                        <td id=\"T_1a770e54_3349_11ed_b8a1_784f437c194arow0_col1\" class=\"data row0 col1\" >-1.264508</td>\n",
       "            </tr>\n",
       "            <tr>\n",
       "                                <td id=\"T_1a770e54_3349_11ed_b8a1_784f437c194arow1_col0\" class=\"data row1 col0\" >glszm_ZoneEntropy</td>\n",
       "                        <td id=\"T_1a770e54_3349_11ed_b8a1_784f437c194arow1_col1\" class=\"data row1 col1\" >0.843009</td>\n",
       "            </tr>\n",
       "            <tr>\n",
       "                                <td id=\"T_1a770e54_3349_11ed_b8a1_784f437c194arow2_col0\" class=\"data row2 col0\" >glszm_SizeZoneNonUniformityNormalized</td>\n",
       "                        <td id=\"T_1a770e54_3349_11ed_b8a1_784f437c194arow2_col1\" class=\"data row2 col1\" >0.561550</td>\n",
       "            </tr>\n",
       "            <tr>\n",
       "                                <td id=\"T_1a770e54_3349_11ed_b8a1_784f437c194arow3_col0\" class=\"data row3 col0\" >shape_MeshVolume</td>\n",
       "                        <td id=\"T_1a770e54_3349_11ed_b8a1_784f437c194arow3_col1\" class=\"data row3 col1\" >0.384485</td>\n",
       "            </tr>\n",
       "            <tr>\n",
       "                                <td id=\"T_1a770e54_3349_11ed_b8a1_784f437c194arow4_col0\" class=\"data row4 col0\" >firstorder_RootMeanSquared</td>\n",
       "                        <td id=\"T_1a770e54_3349_11ed_b8a1_784f437c194arow4_col1\" class=\"data row4 col1\" >-0.337444</td>\n",
       "            </tr>\n",
       "            <tr>\n",
       "                                <td id=\"T_1a770e54_3349_11ed_b8a1_784f437c194arow5_col0\" class=\"data row5 col0\" >shape_Elongation</td>\n",
       "                        <td id=\"T_1a770e54_3349_11ed_b8a1_784f437c194arow5_col1\" class=\"data row5 col1\" >-0.279854</td>\n",
       "            </tr>\n",
       "            <tr>\n",
       "                                <td id=\"T_1a770e54_3349_11ed_b8a1_784f437c194arow6_col0\" class=\"data row6 col0\" >shape_Sphericity</td>\n",
       "                        <td id=\"T_1a770e54_3349_11ed_b8a1_784f437c194arow6_col1\" class=\"data row6 col1\" >-0.254280</td>\n",
       "            </tr>\n",
       "            <tr>\n",
       "                                <td id=\"T_1a770e54_3349_11ed_b8a1_784f437c194arow7_col0\" class=\"data row7 col0\" >firstorder_InterquartileRange</td>\n",
       "                        <td id=\"T_1a770e54_3349_11ed_b8a1_784f437c194arow7_col1\" class=\"data row7 col1\" >0.214675</td>\n",
       "            </tr>\n",
       "            <tr>\n",
       "                                <td id=\"T_1a770e54_3349_11ed_b8a1_784f437c194arow8_col0\" class=\"data row8 col0\" >glszm_LargeAreaLowGrayLevelEmphasis</td>\n",
       "                        <td id=\"T_1a770e54_3349_11ed_b8a1_784f437c194arow8_col1\" class=\"data row8 col1\" >0.132010</td>\n",
       "            </tr>\n",
       "            <tr>\n",
       "                                <td id=\"T_1a770e54_3349_11ed_b8a1_784f437c194arow9_col0\" class=\"data row9 col0\" >firstorder_Maximum</td>\n",
       "                        <td id=\"T_1a770e54_3349_11ed_b8a1_784f437c194arow9_col1\" class=\"data row9 col1\" >0.119378</td>\n",
       "            </tr>\n",
       "            <tr>\n",
       "                                <td id=\"T_1a770e54_3349_11ed_b8a1_784f437c194arow10_col0\" class=\"data row10 col0\" >firstorder_Kurtosis</td>\n",
       "                        <td id=\"T_1a770e54_3349_11ed_b8a1_784f437c194arow10_col1\" class=\"data row10 col1\" >-0.004813</td>\n",
       "            </tr>\n",
       "    </tbody></table>"
      ],
      "text/plain": [
       "<pandas.io.formats.style.Styler at 0x7fa13f2cf438>"
      ]
     },
     "metadata": {},
     "output_type": "display_data"
    },
    {
     "name": "stdout",
     "output_type": "stream",
     "text": [
      "\n",
      "\n",
      "shape|firstorder|histogram\n"
     ]
    },
    {
     "data": {
      "text/html": [
       "<style  type=\"text/css\" >\n",
       "</style><table id=\"T_1a786ef4_3349_11ed_98e7_784f437c194a\" ><thead>    <tr>        <th class=\"col_heading level0 col0\" >Feature</th>        <th class=\"col_heading level0 col1\" >Coef</th>    </tr></thead><tbody>\n",
       "                <tr>\n",
       "                                <td id=\"T_1a786ef4_3349_11ed_98e7_784f437c194arow0_col0\" class=\"data row0 col0\" >firstorder_90Percentile</td>\n",
       "                        <td id=\"T_1a786ef4_3349_11ed_98e7_784f437c194arow0_col1\" class=\"data row0 col1\" >-1.311053</td>\n",
       "            </tr>\n",
       "            <tr>\n",
       "                                <td id=\"T_1a786ef4_3349_11ed_98e7_784f437c194arow1_col0\" class=\"data row1 col0\" >shape_MeshVolume</td>\n",
       "                        <td id=\"T_1a786ef4_3349_11ed_98e7_784f437c194arow1_col1\" class=\"data row1 col1\" >0.864237</td>\n",
       "            </tr>\n",
       "            <tr>\n",
       "                                <td id=\"T_1a786ef4_3349_11ed_98e7_784f437c194arow2_col0\" class=\"data row2 col0\" >firstorder_InterquartileRange</td>\n",
       "                        <td id=\"T_1a786ef4_3349_11ed_98e7_784f437c194arow2_col1\" class=\"data row2 col1\" >0.845703</td>\n",
       "            </tr>\n",
       "            <tr>\n",
       "                                <td id=\"T_1a786ef4_3349_11ed_98e7_784f437c194arow3_col0\" class=\"data row3 col0\" >firstorder_Maximum</td>\n",
       "                        <td id=\"T_1a786ef4_3349_11ed_98e7_784f437c194arow3_col1\" class=\"data row3 col1\" >0.802263</td>\n",
       "            </tr>\n",
       "            <tr>\n",
       "                                <td id=\"T_1a786ef4_3349_11ed_98e7_784f437c194arow4_col0\" class=\"data row4 col0\" >firstorder_Kurtosis</td>\n",
       "                        <td id=\"T_1a786ef4_3349_11ed_98e7_784f437c194arow4_col1\" class=\"data row4 col1\" >-0.380176</td>\n",
       "            </tr>\n",
       "            <tr>\n",
       "                                <td id=\"T_1a786ef4_3349_11ed_98e7_784f437c194arow5_col0\" class=\"data row5 col0\" >shape_Sphericity</td>\n",
       "                        <td id=\"T_1a786ef4_3349_11ed_98e7_784f437c194arow5_col1\" class=\"data row5 col1\" >-0.294611</td>\n",
       "            </tr>\n",
       "            <tr>\n",
       "                                <td id=\"T_1a786ef4_3349_11ed_98e7_784f437c194arow6_col0\" class=\"data row6 col0\" >firstorder_RootMeanSquared</td>\n",
       "                        <td id=\"T_1a786ef4_3349_11ed_98e7_784f437c194arow6_col1\" class=\"data row6 col1\" >-0.158312</td>\n",
       "            </tr>\n",
       "            <tr>\n",
       "                                <td id=\"T_1a786ef4_3349_11ed_98e7_784f437c194arow7_col0\" class=\"data row7 col0\" >firstorder_Minimum</td>\n",
       "                        <td id=\"T_1a786ef4_3349_11ed_98e7_784f437c194arow7_col1\" class=\"data row7 col1\" >-0.152217</td>\n",
       "            </tr>\n",
       "            <tr>\n",
       "                                <td id=\"T_1a786ef4_3349_11ed_98e7_784f437c194arow8_col0\" class=\"data row8 col0\" >shape_Elongation</td>\n",
       "                        <td id=\"T_1a786ef4_3349_11ed_98e7_784f437c194arow8_col1\" class=\"data row8 col1\" >-0.085377</td>\n",
       "            </tr>\n",
       "    </tbody></table>"
      ],
      "text/plain": [
       "<pandas.io.formats.style.Styler at 0x7fa13f2cf320>"
      ]
     },
     "metadata": {},
     "output_type": "display_data"
    },
    {
     "name": "stdout",
     "output_type": "stream",
     "text": [
      "\n",
      "\n",
      "shape|firstorder|histogram\n"
     ]
    },
    {
     "data": {
      "text/html": [
       "<style  type=\"text/css\" >\n",
       "</style><table id=\"T_1a79f1a8_3349_11ed_983c_784f437c194a\" ><thead>    <tr>        <th class=\"col_heading level0 col0\" >Feature</th>        <th class=\"col_heading level0 col1\" >Coef</th>    </tr></thead><tbody>\n",
       "                <tr>\n",
       "                                <td id=\"T_1a79f1a8_3349_11ed_983c_784f437c194arow0_col0\" class=\"data row0 col0\" >firstorder_90Percentile</td>\n",
       "                        <td id=\"T_1a79f1a8_3349_11ed_983c_784f437c194arow0_col1\" class=\"data row0 col1\" >-1.361329</td>\n",
       "            </tr>\n",
       "            <tr>\n",
       "                                <td id=\"T_1a79f1a8_3349_11ed_983c_784f437c194arow1_col0\" class=\"data row1 col0\" >shape_MeshVolume</td>\n",
       "                        <td id=\"T_1a79f1a8_3349_11ed_983c_784f437c194arow1_col1\" class=\"data row1 col1\" >0.911582</td>\n",
       "            </tr>\n",
       "            <tr>\n",
       "                                <td id=\"T_1a79f1a8_3349_11ed_983c_784f437c194arow2_col0\" class=\"data row2 col0\" >firstorder_Maximum</td>\n",
       "                        <td id=\"T_1a79f1a8_3349_11ed_983c_784f437c194arow2_col1\" class=\"data row2 col1\" >0.650543</td>\n",
       "            </tr>\n",
       "            <tr>\n",
       "                                <td id=\"T_1a79f1a8_3349_11ed_983c_784f437c194arow3_col0\" class=\"data row3 col0\" >firstorder_Uniformity</td>\n",
       "                        <td id=\"T_1a79f1a8_3349_11ed_983c_784f437c194arow3_col1\" class=\"data row3 col1\" >-0.573882</td>\n",
       "            </tr>\n",
       "            <tr>\n",
       "                                <td id=\"T_1a79f1a8_3349_11ed_983c_784f437c194arow4_col0\" class=\"data row4 col0\" >firstorder_Kurtosis</td>\n",
       "                        <td id=\"T_1a79f1a8_3349_11ed_983c_784f437c194arow4_col1\" class=\"data row4 col1\" >-0.555124</td>\n",
       "            </tr>\n",
       "            <tr>\n",
       "                                <td id=\"T_1a79f1a8_3349_11ed_983c_784f437c194arow5_col0\" class=\"data row5 col0\" >shape_Sphericity</td>\n",
       "                        <td id=\"T_1a79f1a8_3349_11ed_983c_784f437c194arow5_col1\" class=\"data row5 col1\" >-0.349791</td>\n",
       "            </tr>\n",
       "            <tr>\n",
       "                                <td id=\"T_1a79f1a8_3349_11ed_983c_784f437c194arow6_col0\" class=\"data row6 col0\" >firstorder_Skewness</td>\n",
       "                        <td id=\"T_1a79f1a8_3349_11ed_983c_784f437c194arow6_col1\" class=\"data row6 col1\" >0.304724</td>\n",
       "            </tr>\n",
       "            <tr>\n",
       "                                <td id=\"T_1a79f1a8_3349_11ed_983c_784f437c194arow7_col0\" class=\"data row7 col0\" >firstorder_RootMeanSquared</td>\n",
       "                        <td id=\"T_1a79f1a8_3349_11ed_983c_784f437c194arow7_col1\" class=\"data row7 col1\" >-0.302115</td>\n",
       "            </tr>\n",
       "            <tr>\n",
       "                                <td id=\"T_1a79f1a8_3349_11ed_983c_784f437c194arow8_col0\" class=\"data row8 col0\" >shape_Elongation</td>\n",
       "                        <td id=\"T_1a79f1a8_3349_11ed_983c_784f437c194arow8_col1\" class=\"data row8 col1\" >-0.239599</td>\n",
       "            </tr>\n",
       "            <tr>\n",
       "                                <td id=\"T_1a79f1a8_3349_11ed_983c_784f437c194arow9_col0\" class=\"data row9 col0\" >shape_Flatness</td>\n",
       "                        <td id=\"T_1a79f1a8_3349_11ed_983c_784f437c194arow9_col1\" class=\"data row9 col1\" >0.007080</td>\n",
       "            </tr>\n",
       "    </tbody></table>"
      ],
      "text/plain": [
       "<pandas.io.formats.style.Styler at 0x7fa151c72dd8>"
      ]
     },
     "metadata": {},
     "output_type": "display_data"
    },
    {
     "name": "stdout",
     "output_type": "stream",
     "text": [
      "\n",
      "\n",
      "shape|firstorder|histogram\n"
     ]
    },
    {
     "data": {
      "text/html": [
       "<style  type=\"text/css\" >\n",
       "</style><table id=\"T_1a7b049e_3349_11ed_a150_784f437c194a\" ><thead>    <tr>        <th class=\"col_heading level0 col0\" >Feature</th>        <th class=\"col_heading level0 col1\" >Coef</th>    </tr></thead><tbody>\n",
       "                <tr>\n",
       "                                <td id=\"T_1a7b049e_3349_11ed_a150_784f437c194arow0_col0\" class=\"data row0 col0\" >firstorder_90Percentile</td>\n",
       "                        <td id=\"T_1a7b049e_3349_11ed_a150_784f437c194arow0_col1\" class=\"data row0 col1\" >-2.312672</td>\n",
       "            </tr>\n",
       "            <tr>\n",
       "                                <td id=\"T_1a7b049e_3349_11ed_a150_784f437c194arow1_col0\" class=\"data row1 col0\" >firstorder_Maximum</td>\n",
       "                        <td id=\"T_1a7b049e_3349_11ed_a150_784f437c194arow1_col1\" class=\"data row1 col1\" >1.781824</td>\n",
       "            </tr>\n",
       "            <tr>\n",
       "                                <td id=\"T_1a7b049e_3349_11ed_a150_784f437c194arow2_col0\" class=\"data row2 col0\" >firstorder_InterquartileRange</td>\n",
       "                        <td id=\"T_1a7b049e_3349_11ed_a150_784f437c194arow2_col1\" class=\"data row2 col1\" >1.322851</td>\n",
       "            </tr>\n",
       "            <tr>\n",
       "                                <td id=\"T_1a7b049e_3349_11ed_a150_784f437c194arow3_col0\" class=\"data row3 col0\" >shape_MeshVolume</td>\n",
       "                        <td id=\"T_1a7b049e_3349_11ed_a150_784f437c194arow3_col1\" class=\"data row3 col1\" >1.252410</td>\n",
       "            </tr>\n",
       "            <tr>\n",
       "                                <td id=\"T_1a7b049e_3349_11ed_a150_784f437c194arow4_col0\" class=\"data row4 col0\" >shape_Elongation</td>\n",
       "                        <td id=\"T_1a7b049e_3349_11ed_a150_784f437c194arow4_col1\" class=\"data row4 col1\" >-0.826660</td>\n",
       "            </tr>\n",
       "            <tr>\n",
       "                                <td id=\"T_1a7b049e_3349_11ed_a150_784f437c194arow5_col0\" class=\"data row5 col0\" >shape_Flatness</td>\n",
       "                        <td id=\"T_1a7b049e_3349_11ed_a150_784f437c194arow5_col1\" class=\"data row5 col1\" >0.670790</td>\n",
       "            </tr>\n",
       "            <tr>\n",
       "                                <td id=\"T_1a7b049e_3349_11ed_a150_784f437c194arow6_col0\" class=\"data row6 col0\" >firstorder_RootMeanSquared</td>\n",
       "                        <td id=\"T_1a7b049e_3349_11ed_a150_784f437c194arow6_col1\" class=\"data row6 col1\" >-0.327067</td>\n",
       "            </tr>\n",
       "            <tr>\n",
       "                                <td id=\"T_1a7b049e_3349_11ed_a150_784f437c194arow7_col0\" class=\"data row7 col0\" >firstorder_Minimum</td>\n",
       "                        <td id=\"T_1a7b049e_3349_11ed_a150_784f437c194arow7_col1\" class=\"data row7 col1\" >0.323990</td>\n",
       "            </tr>\n",
       "            <tr>\n",
       "                                <td id=\"T_1a7b049e_3349_11ed_a150_784f437c194arow8_col0\" class=\"data row8 col0\" >shape_Sphericity</td>\n",
       "                        <td id=\"T_1a7b049e_3349_11ed_a150_784f437c194arow8_col1\" class=\"data row8 col1\" >-0.268074</td>\n",
       "            </tr>\n",
       "    </tbody></table>"
      ],
      "text/plain": [
       "<pandas.io.formats.style.Styler at 0x7fa14e3835c0>"
      ]
     },
     "metadata": {},
     "output_type": "display_data"
    },
    {
     "name": "stdout",
     "output_type": "stream",
     "text": [
      "\n",
      "\n",
      "\n"
     ]
    },
    {
     "data": {
      "text/html": [
       "<style  type=\"text/css\" >\n",
       "</style><table id=\"T_1a7c689a_3349_11ed_9d1d_784f437c194a\" ><thead>    <tr>        <th class=\"col_heading level0 col0\" >Feature</th>        <th class=\"col_heading level0 col1\" >Coef</th>    </tr></thead><tbody>\n",
       "                <tr>\n",
       "                                <td id=\"T_1a7c689a_3349_11ed_9d1d_784f437c194arow0_col0\" class=\"data row0 col0\" >firstorder_90Percentile</td>\n",
       "                        <td id=\"T_1a7c689a_3349_11ed_9d1d_784f437c194arow0_col1\" class=\"data row0 col1\" >-1.381897</td>\n",
       "            </tr>\n",
       "            <tr>\n",
       "                                <td id=\"T_1a7c689a_3349_11ed_9d1d_784f437c194arow1_col0\" class=\"data row1 col0\" >firstorder_Uniformity</td>\n",
       "                        <td id=\"T_1a7c689a_3349_11ed_9d1d_784f437c194arow1_col1\" class=\"data row1 col1\" >-0.791833</td>\n",
       "            </tr>\n",
       "            <tr>\n",
       "                                <td id=\"T_1a7c689a_3349_11ed_9d1d_784f437c194arow2_col0\" class=\"data row2 col0\" >firstorder_Maximum</td>\n",
       "                        <td id=\"T_1a7c689a_3349_11ed_9d1d_784f437c194arow2_col1\" class=\"data row2 col1\" >0.696980</td>\n",
       "            </tr>\n",
       "            <tr>\n",
       "                                <td id=\"T_1a7c689a_3349_11ed_9d1d_784f437c194arow3_col0\" class=\"data row3 col0\" >ngtdm_Strength</td>\n",
       "                        <td id=\"T_1a7c689a_3349_11ed_9d1d_784f437c194arow3_col1\" class=\"data row3 col1\" >-0.591136</td>\n",
       "            </tr>\n",
       "            <tr>\n",
       "                                <td id=\"T_1a7c689a_3349_11ed_9d1d_784f437c194arow4_col0\" class=\"data row4 col0\" >firstorder_Skewness</td>\n",
       "                        <td id=\"T_1a7c689a_3349_11ed_9d1d_784f437c194arow4_col1\" class=\"data row4 col1\" >0.423285</td>\n",
       "            </tr>\n",
       "            <tr>\n",
       "                                <td id=\"T_1a7c689a_3349_11ed_9d1d_784f437c194arow5_col0\" class=\"data row5 col0\" >gldm_DependenceNonUniformityNormalized</td>\n",
       "                        <td id=\"T_1a7c689a_3349_11ed_9d1d_784f437c194arow5_col1\" class=\"data row5 col1\" >-0.420582</td>\n",
       "            </tr>\n",
       "            <tr>\n",
       "                                <td id=\"T_1a7c689a_3349_11ed_9d1d_784f437c194arow6_col0\" class=\"data row6 col0\" >shape_MeshVolume</td>\n",
       "                        <td id=\"T_1a7c689a_3349_11ed_9d1d_784f437c194arow6_col1\" class=\"data row6 col1\" >0.410067</td>\n",
       "            </tr>\n",
       "            <tr>\n",
       "                                <td id=\"T_1a7c689a_3349_11ed_9d1d_784f437c194arow7_col0\" class=\"data row7 col0\" >shape_Sphericity</td>\n",
       "                        <td id=\"T_1a7c689a_3349_11ed_9d1d_784f437c194arow7_col1\" class=\"data row7 col1\" >-0.389470</td>\n",
       "            </tr>\n",
       "            <tr>\n",
       "                                <td id=\"T_1a7c689a_3349_11ed_9d1d_784f437c194arow8_col0\" class=\"data row8 col0\" >glszm_SmallAreaEmphasis</td>\n",
       "                        <td id=\"T_1a7c689a_3349_11ed_9d1d_784f437c194arow8_col1\" class=\"data row8 col1\" >0.340077</td>\n",
       "            </tr>\n",
       "            <tr>\n",
       "                                <td id=\"T_1a7c689a_3349_11ed_9d1d_784f437c194arow9_col0\" class=\"data row9 col0\" >firstorder_RootMeanSquared</td>\n",
       "                        <td id=\"T_1a7c689a_3349_11ed_9d1d_784f437c194arow9_col1\" class=\"data row9 col1\" >-0.318436</td>\n",
       "            </tr>\n",
       "            <tr>\n",
       "                                <td id=\"T_1a7c689a_3349_11ed_9d1d_784f437c194arow10_col0\" class=\"data row10 col0\" >shape_Elongation</td>\n",
       "                        <td id=\"T_1a7c689a_3349_11ed_9d1d_784f437c194arow10_col1\" class=\"data row10 col1\" >-0.308649</td>\n",
       "            </tr>\n",
       "            <tr>\n",
       "                                <td id=\"T_1a7c689a_3349_11ed_9d1d_784f437c194arow11_col0\" class=\"data row11 col0\" >firstorder_Kurtosis</td>\n",
       "                        <td id=\"T_1a7c689a_3349_11ed_9d1d_784f437c194arow11_col1\" class=\"data row11 col1\" >-0.102381</td>\n",
       "            </tr>\n",
       "            <tr>\n",
       "                                <td id=\"T_1a7c689a_3349_11ed_9d1d_784f437c194arow12_col0\" class=\"data row12 col0\" >ngtdm_Contrast</td>\n",
       "                        <td id=\"T_1a7c689a_3349_11ed_9d1d_784f437c194arow12_col1\" class=\"data row12 col1\" >0.078314</td>\n",
       "            </tr>\n",
       "            <tr>\n",
       "                                <td id=\"T_1a7c689a_3349_11ed_9d1d_784f437c194arow13_col0\" class=\"data row13 col0\" >firstorder_Minimum</td>\n",
       "                        <td id=\"T_1a7c689a_3349_11ed_9d1d_784f437c194arow13_col1\" class=\"data row13 col1\" >-0.021285</td>\n",
       "            </tr>\n",
       "    </tbody></table>"
      ],
      "text/plain": [
       "<pandas.io.formats.style.Styler at 0x7fa1446929e8>"
      ]
     },
     "metadata": {},
     "output_type": "display_data"
    },
    {
     "name": "stdout",
     "output_type": "stream",
     "text": [
      "\n",
      "\n",
      "shape|firstorder|histogram\n"
     ]
    },
    {
     "data": {
      "text/html": [
       "<style  type=\"text/css\" >\n",
       "</style><table id=\"T_1a7dca98_3349_11ed_b691_784f437c194a\" ><thead>    <tr>        <th class=\"col_heading level0 col0\" >Feature</th>        <th class=\"col_heading level0 col1\" >Coef</th>    </tr></thead><tbody>\n",
       "                <tr>\n",
       "                                <td id=\"T_1a7dca98_3349_11ed_b691_784f437c194arow0_col0\" class=\"data row0 col0\" >firstorder_90Percentile</td>\n",
       "                        <td id=\"T_1a7dca98_3349_11ed_b691_784f437c194arow0_col1\" class=\"data row0 col1\" >-1.131967</td>\n",
       "            </tr>\n",
       "            <tr>\n",
       "                                <td id=\"T_1a7dca98_3349_11ed_b691_784f437c194arow1_col0\" class=\"data row1 col0\" >shape_MeshVolume</td>\n",
       "                        <td id=\"T_1a7dca98_3349_11ed_b691_784f437c194arow1_col1\" class=\"data row1 col1\" >0.673517</td>\n",
       "            </tr>\n",
       "            <tr>\n",
       "                                <td id=\"T_1a7dca98_3349_11ed_b691_784f437c194arow2_col0\" class=\"data row2 col0\" >firstorder_Uniformity</td>\n",
       "                        <td id=\"T_1a7dca98_3349_11ed_b691_784f437c194arow2_col1\" class=\"data row2 col1\" >-0.551350</td>\n",
       "            </tr>\n",
       "            <tr>\n",
       "                                <td id=\"T_1a7dca98_3349_11ed_b691_784f437c194arow3_col0\" class=\"data row3 col0\" >firstorder_Maximum</td>\n",
       "                        <td id=\"T_1a7dca98_3349_11ed_b691_784f437c194arow3_col1\" class=\"data row3 col1\" >0.376462</td>\n",
       "            </tr>\n",
       "            <tr>\n",
       "                                <td id=\"T_1a7dca98_3349_11ed_b691_784f437c194arow4_col0\" class=\"data row4 col0\" >shape_Sphericity</td>\n",
       "                        <td id=\"T_1a7dca98_3349_11ed_b691_784f437c194arow4_col1\" class=\"data row4 col1\" >-0.301346</td>\n",
       "            </tr>\n",
       "            <tr>\n",
       "                                <td id=\"T_1a7dca98_3349_11ed_b691_784f437c194arow5_col0\" class=\"data row5 col0\" >shape_Elongation</td>\n",
       "                        <td id=\"T_1a7dca98_3349_11ed_b691_784f437c194arow5_col1\" class=\"data row5 col1\" >-0.272334</td>\n",
       "            </tr>\n",
       "            <tr>\n",
       "                                <td id=\"T_1a7dca98_3349_11ed_b691_784f437c194arow6_col0\" class=\"data row6 col0\" >firstorder_Kurtosis</td>\n",
       "                        <td id=\"T_1a7dca98_3349_11ed_b691_784f437c194arow6_col1\" class=\"data row6 col1\" >-0.122970</td>\n",
       "            </tr>\n",
       "            <tr>\n",
       "                                <td id=\"T_1a7dca98_3349_11ed_b691_784f437c194arow7_col0\" class=\"data row7 col0\" >firstorder_RootMeanSquared</td>\n",
       "                        <td id=\"T_1a7dca98_3349_11ed_b691_784f437c194arow7_col1\" class=\"data row7 col1\" >-0.105584</td>\n",
       "            </tr>\n",
       "    </tbody></table>"
      ],
      "text/plain": [
       "<pandas.io.formats.style.Styler at 0x7fa13d47deb8>"
      ]
     },
     "metadata": {},
     "output_type": "display_data"
    },
    {
     "name": "stdout",
     "output_type": "stream",
     "text": [
      "\n",
      "\n",
      "firstorder|histogram\n"
     ]
    },
    {
     "data": {
      "text/html": [
       "<style  type=\"text/css\" >\n",
       "</style><table id=\"T_1a7f1180_3349_11ed_ad9e_784f437c194a\" ><thead>    <tr>        <th class=\"col_heading level0 col0\" >Feature</th>        <th class=\"col_heading level0 col1\" >Coef</th>    </tr></thead><tbody>\n",
       "                <tr>\n",
       "                                <td id=\"T_1a7f1180_3349_11ed_ad9e_784f437c194arow0_col0\" class=\"data row0 col0\" >firstorder_90Percentile</td>\n",
       "                        <td id=\"T_1a7f1180_3349_11ed_ad9e_784f437c194arow0_col1\" class=\"data row0 col1\" >-1.832360</td>\n",
       "            </tr>\n",
       "            <tr>\n",
       "                                <td id=\"T_1a7f1180_3349_11ed_ad9e_784f437c194arow1_col0\" class=\"data row1 col0\" >firstorder_InterquartileRange</td>\n",
       "                        <td id=\"T_1a7f1180_3349_11ed_ad9e_784f437c194arow1_col1\" class=\"data row1 col1\" >1.050729</td>\n",
       "            </tr>\n",
       "            <tr>\n",
       "                                <td id=\"T_1a7f1180_3349_11ed_ad9e_784f437c194arow2_col0\" class=\"data row2 col0\" >firstorder_Maximum</td>\n",
       "                        <td id=\"T_1a7f1180_3349_11ed_ad9e_784f437c194arow2_col1\" class=\"data row2 col1\" >0.847054</td>\n",
       "            </tr>\n",
       "            <tr>\n",
       "                                <td id=\"T_1a7f1180_3349_11ed_ad9e_784f437c194arow3_col0\" class=\"data row3 col0\" >firstorder_Kurtosis</td>\n",
       "                        <td id=\"T_1a7f1180_3349_11ed_ad9e_784f437c194arow3_col1\" class=\"data row3 col1\" >-0.484651</td>\n",
       "            </tr>\n",
       "            <tr>\n",
       "                                <td id=\"T_1a7f1180_3349_11ed_ad9e_784f437c194arow4_col0\" class=\"data row4 col0\" >firstorder_RootMeanSquared</td>\n",
       "                        <td id=\"T_1a7f1180_3349_11ed_ad9e_784f437c194arow4_col1\" class=\"data row4 col1\" >-0.289609</td>\n",
       "            </tr>\n",
       "            <tr>\n",
       "                                <td id=\"T_1a7f1180_3349_11ed_ad9e_784f437c194arow5_col0\" class=\"data row5 col0\" >firstorder_Range</td>\n",
       "                        <td id=\"T_1a7f1180_3349_11ed_ad9e_784f437c194arow5_col1\" class=\"data row5 col1\" >0.272299</td>\n",
       "            </tr>\n",
       "    </tbody></table>"
      ],
      "text/plain": [
       "<pandas.io.formats.style.Styler at 0x7fa13f2cff98>"
      ]
     },
     "metadata": {},
     "output_type": "display_data"
    },
    {
     "name": "stdout",
     "output_type": "stream",
     "text": [
      "\n",
      "\n",
      "\n"
     ]
    },
    {
     "data": {
      "text/html": [
       "<style  type=\"text/css\" >\n",
       "</style><table id=\"T_1a800ca2_3349_11ed_b768_784f437c194a\" ><thead>    <tr>        <th class=\"col_heading level0 col0\" >Feature</th>        <th class=\"col_heading level0 col1\" >Coef</th>    </tr></thead><tbody>\n",
       "                <tr>\n",
       "                                <td id=\"T_1a800ca2_3349_11ed_b768_784f437c194arow0_col0\" class=\"data row0 col0\" >firstorder_Median</td>\n",
       "                        <td id=\"T_1a800ca2_3349_11ed_b768_784f437c194arow0_col1\" class=\"data row0 col1\" >-1.397153</td>\n",
       "            </tr>\n",
       "            <tr>\n",
       "                                <td id=\"T_1a800ca2_3349_11ed_b768_784f437c194arow1_col0\" class=\"data row1 col0\" >glszm_ZoneEntropy</td>\n",
       "                        <td id=\"T_1a800ca2_3349_11ed_b768_784f437c194arow1_col1\" class=\"data row1 col1\" >0.735823</td>\n",
       "            </tr>\n",
       "            <tr>\n",
       "                                <td id=\"T_1a800ca2_3349_11ed_b768_784f437c194arow2_col0\" class=\"data row2 col0\" >glszm_SizeZoneNonUniformityNormalized</td>\n",
       "                        <td id=\"T_1a800ca2_3349_11ed_b768_784f437c194arow2_col1\" class=\"data row2 col1\" >0.425042</td>\n",
       "            </tr>\n",
       "            <tr>\n",
       "                                <td id=\"T_1a800ca2_3349_11ed_b768_784f437c194arow3_col0\" class=\"data row3 col0\" >shape_Sphericity</td>\n",
       "                        <td id=\"T_1a800ca2_3349_11ed_b768_784f437c194arow3_col1\" class=\"data row3 col1\" >-0.327489</td>\n",
       "            </tr>\n",
       "            <tr>\n",
       "                                <td id=\"T_1a800ca2_3349_11ed_b768_784f437c194arow4_col0\" class=\"data row4 col0\" >shape_MeshVolume</td>\n",
       "                        <td id=\"T_1a800ca2_3349_11ed_b768_784f437c194arow4_col1\" class=\"data row4 col1\" >0.317066</td>\n",
       "            </tr>\n",
       "            <tr>\n",
       "                                <td id=\"T_1a800ca2_3349_11ed_b768_784f437c194arow5_col0\" class=\"data row5 col0\" >firstorder_RootMeanSquared</td>\n",
       "                        <td id=\"T_1a800ca2_3349_11ed_b768_784f437c194arow5_col1\" class=\"data row5 col1\" >-0.305490</td>\n",
       "            </tr>\n",
       "            <tr>\n",
       "                                <td id=\"T_1a800ca2_3349_11ed_b768_784f437c194arow6_col0\" class=\"data row6 col0\" >firstorder_Maximum</td>\n",
       "                        <td id=\"T_1a800ca2_3349_11ed_b768_784f437c194arow6_col1\" class=\"data row6 col1\" >0.236094</td>\n",
       "            </tr>\n",
       "            <tr>\n",
       "                                <td id=\"T_1a800ca2_3349_11ed_b768_784f437c194arow7_col0\" class=\"data row7 col0\" >ngtdm_Strength</td>\n",
       "                        <td id=\"T_1a800ca2_3349_11ed_b768_784f437c194arow7_col1\" class=\"data row7 col1\" >-0.186915</td>\n",
       "            </tr>\n",
       "            <tr>\n",
       "                                <td id=\"T_1a800ca2_3349_11ed_b768_784f437c194arow8_col0\" class=\"data row8 col0\" >shape_Elongation</td>\n",
       "                        <td id=\"T_1a800ca2_3349_11ed_b768_784f437c194arow8_col1\" class=\"data row8 col1\" >-0.132672</td>\n",
       "            </tr>\n",
       "            <tr>\n",
       "                                <td id=\"T_1a800ca2_3349_11ed_b768_784f437c194arow9_col0\" class=\"data row9 col0\" >gldm_DependenceNonUniformityNormalized</td>\n",
       "                        <td id=\"T_1a800ca2_3349_11ed_b768_784f437c194arow9_col1\" class=\"data row9 col1\" >-0.010575</td>\n",
       "            </tr>\n",
       "    </tbody></table>"
      ],
      "text/plain": [
       "<pandas.io.formats.style.Styler at 0x7fa13f2cf5c0>"
      ]
     },
     "metadata": {},
     "output_type": "display_data"
    },
    {
     "name": "stdout",
     "output_type": "stream",
     "text": [
      "\n",
      "\n",
      "firstorder|histogram\n"
     ]
    },
    {
     "data": {
      "text/html": [
       "<style  type=\"text/css\" >\n",
       "</style><table id=\"T_1a819662_3349_11ed_a262_784f437c194a\" ><thead>    <tr>        <th class=\"col_heading level0 col0\" >Feature</th>        <th class=\"col_heading level0 col1\" >Coef</th>    </tr></thead><tbody>\n",
       "                <tr>\n",
       "                                <td id=\"T_1a819662_3349_11ed_a262_784f437c194arow0_col0\" class=\"data row0 col0\" >firstorder_90Percentile</td>\n",
       "                        <td id=\"T_1a819662_3349_11ed_a262_784f437c194arow0_col1\" class=\"data row0 col1\" >-1.784173</td>\n",
       "            </tr>\n",
       "            <tr>\n",
       "                                <td id=\"T_1a819662_3349_11ed_a262_784f437c194arow1_col0\" class=\"data row1 col0\" >firstorder_InterquartileRange</td>\n",
       "                        <td id=\"T_1a819662_3349_11ed_a262_784f437c194arow1_col1\" class=\"data row1 col1\" >1.082996</td>\n",
       "            </tr>\n",
       "            <tr>\n",
       "                                <td id=\"T_1a819662_3349_11ed_a262_784f437c194arow2_col0\" class=\"data row2 col0\" >firstorder_Maximum</td>\n",
       "                        <td id=\"T_1a819662_3349_11ed_a262_784f437c194arow2_col1\" class=\"data row2 col1\" >0.899274</td>\n",
       "            </tr>\n",
       "            <tr>\n",
       "                                <td id=\"T_1a819662_3349_11ed_a262_784f437c194arow3_col0\" class=\"data row3 col0\" >firstorder_Kurtosis</td>\n",
       "                        <td id=\"T_1a819662_3349_11ed_a262_784f437c194arow3_col1\" class=\"data row3 col1\" >-0.611824</td>\n",
       "            </tr>\n",
       "            <tr>\n",
       "                                <td id=\"T_1a819662_3349_11ed_a262_784f437c194arow4_col0\" class=\"data row4 col0\" >firstorder_Range</td>\n",
       "                        <td id=\"T_1a819662_3349_11ed_a262_784f437c194arow4_col1\" class=\"data row4 col1\" >0.533806</td>\n",
       "            </tr>\n",
       "            <tr>\n",
       "                                <td id=\"T_1a819662_3349_11ed_a262_784f437c194arow5_col0\" class=\"data row5 col0\" >firstorder_RootMeanSquared</td>\n",
       "                        <td id=\"T_1a819662_3349_11ed_a262_784f437c194arow5_col1\" class=\"data row5 col1\" >-0.309980</td>\n",
       "            </tr>\n",
       "    </tbody></table>"
      ],
      "text/plain": [
       "<pandas.io.formats.style.Styler at 0x7fa13f2cf0f0>"
      ]
     },
     "metadata": {},
     "output_type": "display_data"
    },
    {
     "name": "stdout",
     "output_type": "stream",
     "text": [
      "\n",
      "\n",
      "shape|firstorder|histogram\n"
     ]
    },
    {
     "data": {
      "text/html": [
       "<style  type=\"text/css\" >\n",
       "</style><table id=\"T_1a82e3fa_3349_11ed_b7b2_784f437c194a\" ><thead>    <tr>        <th class=\"col_heading level0 col0\" >Feature</th>        <th class=\"col_heading level0 col1\" >Coef</th>    </tr></thead><tbody>\n",
       "                <tr>\n",
       "                                <td id=\"T_1a82e3fa_3349_11ed_b7b2_784f437c194arow0_col0\" class=\"data row0 col0\" >firstorder_90Percentile</td>\n",
       "                        <td id=\"T_1a82e3fa_3349_11ed_b7b2_784f437c194arow0_col1\" class=\"data row0 col1\" >-1.420634</td>\n",
       "            </tr>\n",
       "            <tr>\n",
       "                                <td id=\"T_1a82e3fa_3349_11ed_b7b2_784f437c194arow1_col0\" class=\"data row1 col0\" >firstorder_Maximum</td>\n",
       "                        <td id=\"T_1a82e3fa_3349_11ed_b7b2_784f437c194arow1_col1\" class=\"data row1 col1\" >0.726100</td>\n",
       "            </tr>\n",
       "            <tr>\n",
       "                                <td id=\"T_1a82e3fa_3349_11ed_b7b2_784f437c194arow2_col0\" class=\"data row2 col0\" >firstorder_Uniformity</td>\n",
       "                        <td id=\"T_1a82e3fa_3349_11ed_b7b2_784f437c194arow2_col1\" class=\"data row2 col1\" >-0.673999</td>\n",
       "            </tr>\n",
       "            <tr>\n",
       "                                <td id=\"T_1a82e3fa_3349_11ed_b7b2_784f437c194arow3_col0\" class=\"data row3 col0\" >firstorder_Kurtosis</td>\n",
       "                        <td id=\"T_1a82e3fa_3349_11ed_b7b2_784f437c194arow3_col1\" class=\"data row3 col1\" >-0.595231</td>\n",
       "            </tr>\n",
       "            <tr>\n",
       "                                <td id=\"T_1a82e3fa_3349_11ed_b7b2_784f437c194arow4_col0\" class=\"data row4 col0\" >shape_MeshVolume</td>\n",
       "                        <td id=\"T_1a82e3fa_3349_11ed_b7b2_784f437c194arow4_col1\" class=\"data row4 col1\" >0.568079</td>\n",
       "            </tr>\n",
       "            <tr>\n",
       "                                <td id=\"T_1a82e3fa_3349_11ed_b7b2_784f437c194arow5_col0\" class=\"data row5 col0\" >shape_Sphericity</td>\n",
       "                        <td id=\"T_1a82e3fa_3349_11ed_b7b2_784f437c194arow5_col1\" class=\"data row5 col1\" >-0.468539</td>\n",
       "            </tr>\n",
       "            <tr>\n",
       "                                <td id=\"T_1a82e3fa_3349_11ed_b7b2_784f437c194arow6_col0\" class=\"data row6 col0\" >firstorder_RootMeanSquared</td>\n",
       "                        <td id=\"T_1a82e3fa_3349_11ed_b7b2_784f437c194arow6_col1\" class=\"data row6 col1\" >-0.368796</td>\n",
       "            </tr>\n",
       "            <tr>\n",
       "                                <td id=\"T_1a82e3fa_3349_11ed_b7b2_784f437c194arow7_col0\" class=\"data row7 col0\" >shape_Elongation</td>\n",
       "                        <td id=\"T_1a82e3fa_3349_11ed_b7b2_784f437c194arow7_col1\" class=\"data row7 col1\" >-0.351868</td>\n",
       "            </tr>\n",
       "            <tr>\n",
       "                                <td id=\"T_1a82e3fa_3349_11ed_b7b2_784f437c194arow8_col0\" class=\"data row8 col0\" >firstorder_Skewness</td>\n",
       "                        <td id=\"T_1a82e3fa_3349_11ed_b7b2_784f437c194arow8_col1\" class=\"data row8 col1\" >0.325086</td>\n",
       "            </tr>\n",
       "            <tr>\n",
       "                                <td id=\"T_1a82e3fa_3349_11ed_b7b2_784f437c194arow9_col0\" class=\"data row9 col0\" >shape_Flatness</td>\n",
       "                        <td id=\"T_1a82e3fa_3349_11ed_b7b2_784f437c194arow9_col1\" class=\"data row9 col1\" >0.130736</td>\n",
       "            </tr>\n",
       "    </tbody></table>"
      ],
      "text/plain": [
       "<pandas.io.formats.style.Styler at 0x7fa13d47deb8>"
      ]
     },
     "metadata": {},
     "output_type": "display_data"
    },
    {
     "name": "stdout",
     "output_type": "stream",
     "text": [
      "\n",
      "\n",
      "\n"
     ]
    },
    {
     "data": {
      "text/html": [
       "<style  type=\"text/css\" >\n",
       "</style><table id=\"T_1a847bac_3349_11ed_8b60_784f437c194a\" ><thead>    <tr>        <th class=\"col_heading level0 col0\" >Feature</th>        <th class=\"col_heading level0 col1\" >Coef</th>    </tr></thead><tbody>\n",
       "                <tr>\n",
       "                                <td id=\"T_1a847bac_3349_11ed_8b60_784f437c194arow0_col0\" class=\"data row0 col0\" >firstorder_90Percentile</td>\n",
       "                        <td id=\"T_1a847bac_3349_11ed_8b60_784f437c194arow0_col1\" class=\"data row0 col1\" >-1.589070</td>\n",
       "            </tr>\n",
       "            <tr>\n",
       "                                <td id=\"T_1a847bac_3349_11ed_8b60_784f437c194arow1_col0\" class=\"data row1 col0\" >glszm_ZoneEntropy</td>\n",
       "                        <td id=\"T_1a847bac_3349_11ed_8b60_784f437c194arow1_col1\" class=\"data row1 col1\" >1.043596</td>\n",
       "            </tr>\n",
       "            <tr>\n",
       "                                <td id=\"T_1a847bac_3349_11ed_8b60_784f437c194arow2_col0\" class=\"data row2 col0\" >glszm_SizeZoneNonUniformityNormalized</td>\n",
       "                        <td id=\"T_1a847bac_3349_11ed_8b60_784f437c194arow2_col1\" class=\"data row2 col1\" >0.788101</td>\n",
       "            </tr>\n",
       "            <tr>\n",
       "                                <td id=\"T_1a847bac_3349_11ed_8b60_784f437c194arow3_col0\" class=\"data row3 col0\" >shape_MeshVolume</td>\n",
       "                        <td id=\"T_1a847bac_3349_11ed_8b60_784f437c194arow3_col1\" class=\"data row3 col1\" >0.499471</td>\n",
       "            </tr>\n",
       "            <tr>\n",
       "                                <td id=\"T_1a847bac_3349_11ed_8b60_784f437c194arow4_col0\" class=\"data row4 col0\" >firstorder_Maximum</td>\n",
       "                        <td id=\"T_1a847bac_3349_11ed_8b60_784f437c194arow4_col1\" class=\"data row4 col1\" >0.466420</td>\n",
       "            </tr>\n",
       "            <tr>\n",
       "                                <td id=\"T_1a847bac_3349_11ed_8b60_784f437c194arow5_col0\" class=\"data row5 col0\" >ngtdm_Strength</td>\n",
       "                        <td id=\"T_1a847bac_3349_11ed_8b60_784f437c194arow5_col1\" class=\"data row5 col1\" >-0.341604</td>\n",
       "            </tr>\n",
       "            <tr>\n",
       "                                <td id=\"T_1a847bac_3349_11ed_8b60_784f437c194arow6_col0\" class=\"data row6 col0\" >firstorder_RootMeanSquared</td>\n",
       "                        <td id=\"T_1a847bac_3349_11ed_8b60_784f437c194arow6_col1\" class=\"data row6 col1\" >-0.335382</td>\n",
       "            </tr>\n",
       "            <tr>\n",
       "                                <td id=\"T_1a847bac_3349_11ed_8b60_784f437c194arow7_col0\" class=\"data row7 col0\" >shape_Sphericity</td>\n",
       "                        <td id=\"T_1a847bac_3349_11ed_8b60_784f437c194arow7_col1\" class=\"data row7 col1\" >-0.280846</td>\n",
       "            </tr>\n",
       "            <tr>\n",
       "                                <td id=\"T_1a847bac_3349_11ed_8b60_784f437c194arow8_col0\" class=\"data row8 col0\" >shape_Elongation</td>\n",
       "                        <td id=\"T_1a847bac_3349_11ed_8b60_784f437c194arow8_col1\" class=\"data row8 col1\" >-0.258293</td>\n",
       "            </tr>\n",
       "            <tr>\n",
       "                                <td id=\"T_1a847bac_3349_11ed_8b60_784f437c194arow9_col0\" class=\"data row9 col0\" >firstorder_InterquartileRange</td>\n",
       "                        <td id=\"T_1a847bac_3349_11ed_8b60_784f437c194arow9_col1\" class=\"data row9 col1\" >0.187122</td>\n",
       "            </tr>\n",
       "            <tr>\n",
       "                                <td id=\"T_1a847bac_3349_11ed_8b60_784f437c194arow10_col0\" class=\"data row10 col0\" >ngtdm_Contrast</td>\n",
       "                        <td id=\"T_1a847bac_3349_11ed_8b60_784f437c194arow10_col1\" class=\"data row10 col1\" >-0.010837</td>\n",
       "            </tr>\n",
       "            <tr>\n",
       "                                <td id=\"T_1a847bac_3349_11ed_8b60_784f437c194arow11_col0\" class=\"data row11 col0\" >firstorder_Skewness</td>\n",
       "                        <td id=\"T_1a847bac_3349_11ed_8b60_784f437c194arow11_col1\" class=\"data row11 col1\" >0.001947</td>\n",
       "            </tr>\n",
       "    </tbody></table>"
      ],
      "text/plain": [
       "<pandas.io.formats.style.Styler at 0x7fa151c92e48>"
      ]
     },
     "metadata": {},
     "output_type": "display_data"
    },
    {
     "name": "stdout",
     "output_type": "stream",
     "text": [
      "\n",
      "\n",
      "\n"
     ]
    },
    {
     "data": {
      "text/html": [
       "<style  type=\"text/css\" >\n",
       "</style><table id=\"T_1a85d682_3349_11ed_8046_784f437c194a\" ><thead>    <tr>        <th class=\"col_heading level0 col0\" >Feature</th>        <th class=\"col_heading level0 col1\" >Coef</th>    </tr></thead><tbody>\n",
       "                <tr>\n",
       "                                <td id=\"T_1a85d682_3349_11ed_8046_784f437c194arow0_col0\" class=\"data row0 col0\" >firstorder_90Percentile</td>\n",
       "                        <td id=\"T_1a85d682_3349_11ed_8046_784f437c194arow0_col1\" class=\"data row0 col1\" >-1.287855</td>\n",
       "            </tr>\n",
       "            <tr>\n",
       "                                <td id=\"T_1a85d682_3349_11ed_8046_784f437c194arow1_col0\" class=\"data row1 col0\" >glszm_ZoneEntropy</td>\n",
       "                        <td id=\"T_1a85d682_3349_11ed_8046_784f437c194arow1_col1\" class=\"data row1 col1\" >0.813037</td>\n",
       "            </tr>\n",
       "            <tr>\n",
       "                                <td id=\"T_1a85d682_3349_11ed_8046_784f437c194arow2_col0\" class=\"data row2 col0\" >firstorder_RootMeanSquared</td>\n",
       "                        <td id=\"T_1a85d682_3349_11ed_8046_784f437c194arow2_col1\" class=\"data row2 col1\" >-0.498046</td>\n",
       "            </tr>\n",
       "            <tr>\n",
       "                                <td id=\"T_1a85d682_3349_11ed_8046_784f437c194arow3_col0\" class=\"data row3 col0\" >glszm_SmallAreaEmphasis</td>\n",
       "                        <td id=\"T_1a85d682_3349_11ed_8046_784f437c194arow3_col1\" class=\"data row3 col1\" >0.491865</td>\n",
       "            </tr>\n",
       "            <tr>\n",
       "                                <td id=\"T_1a85d682_3349_11ed_8046_784f437c194arow4_col0\" class=\"data row4 col0\" >shape_Sphericity</td>\n",
       "                        <td id=\"T_1a85d682_3349_11ed_8046_784f437c194arow4_col1\" class=\"data row4 col1\" >-0.336255</td>\n",
       "            </tr>\n",
       "            <tr>\n",
       "                                <td id=\"T_1a85d682_3349_11ed_8046_784f437c194arow5_col0\" class=\"data row5 col0\" >shape_MeshVolume</td>\n",
       "                        <td id=\"T_1a85d682_3349_11ed_8046_784f437c194arow5_col1\" class=\"data row5 col1\" >0.328143</td>\n",
       "            </tr>\n",
       "            <tr>\n",
       "                                <td id=\"T_1a85d682_3349_11ed_8046_784f437c194arow6_col0\" class=\"data row6 col0\" >shape_Elongation</td>\n",
       "                        <td id=\"T_1a85d682_3349_11ed_8046_784f437c194arow6_col1\" class=\"data row6 col1\" >-0.305442</td>\n",
       "            </tr>\n",
       "            <tr>\n",
       "                                <td id=\"T_1a85d682_3349_11ed_8046_784f437c194arow7_col0\" class=\"data row7 col0\" >firstorder_InterquartileRange</td>\n",
       "                        <td id=\"T_1a85d682_3349_11ed_8046_784f437c194arow7_col1\" class=\"data row7 col1\" >0.248225</td>\n",
       "            </tr>\n",
       "            <tr>\n",
       "                                <td id=\"T_1a85d682_3349_11ed_8046_784f437c194arow8_col0\" class=\"data row8 col0\" >firstorder_Maximum</td>\n",
       "                        <td id=\"T_1a85d682_3349_11ed_8046_784f437c194arow8_col1\" class=\"data row8 col1\" >0.055326</td>\n",
       "            </tr>\n",
       "    </tbody></table>"
      ],
      "text/plain": [
       "<pandas.io.formats.style.Styler at 0x7fa13a659d68>"
      ]
     },
     "metadata": {},
     "output_type": "display_data"
    },
    {
     "name": "stdout",
     "output_type": "stream",
     "text": [
      "\n",
      "\n",
      "shape|firstorder|histogram\n"
     ]
    },
    {
     "data": {
      "text/html": [
       "<style  type=\"text/css\" >\n",
       "</style><table id=\"T_1a87811c_3349_11ed_9261_784f437c194a\" ><thead>    <tr>        <th class=\"col_heading level0 col0\" >Feature</th>        <th class=\"col_heading level0 col1\" >Coef</th>    </tr></thead><tbody>\n",
       "                <tr>\n",
       "                                <td id=\"T_1a87811c_3349_11ed_9261_784f437c194arow0_col0\" class=\"data row0 col0\" >firstorder_90Percentile</td>\n",
       "                        <td id=\"T_1a87811c_3349_11ed_9261_784f437c194arow0_col1\" class=\"data row0 col1\" >-1.540556</td>\n",
       "            </tr>\n",
       "            <tr>\n",
       "                                <td id=\"T_1a87811c_3349_11ed_9261_784f437c194arow1_col0\" class=\"data row1 col0\" >firstorder_InterquartileRange</td>\n",
       "                        <td id=\"T_1a87811c_3349_11ed_9261_784f437c194arow1_col1\" class=\"data row1 col1\" >0.988548</td>\n",
       "            </tr>\n",
       "            <tr>\n",
       "                                <td id=\"T_1a87811c_3349_11ed_9261_784f437c194arow2_col0\" class=\"data row2 col0\" >firstorder_Maximum</td>\n",
       "                        <td id=\"T_1a87811c_3349_11ed_9261_784f437c194arow2_col1\" class=\"data row2 col1\" >0.941122</td>\n",
       "            </tr>\n",
       "            <tr>\n",
       "                                <td id=\"T_1a87811c_3349_11ed_9261_784f437c194arow3_col0\" class=\"data row3 col0\" >shape_MeshVolume</td>\n",
       "                        <td id=\"T_1a87811c_3349_11ed_9261_784f437c194arow3_col1\" class=\"data row3 col1\" >0.468882</td>\n",
       "            </tr>\n",
       "            <tr>\n",
       "                                <td id=\"T_1a87811c_3349_11ed_9261_784f437c194arow4_col0\" class=\"data row4 col0\" >firstorder_Kurtosis</td>\n",
       "                        <td id=\"T_1a87811c_3349_11ed_9261_784f437c194arow4_col1\" class=\"data row4 col1\" >-0.436682</td>\n",
       "            </tr>\n",
       "            <tr>\n",
       "                                <td id=\"T_1a87811c_3349_11ed_9261_784f437c194arow5_col0\" class=\"data row5 col0\" >shape_Elongation</td>\n",
       "                        <td id=\"T_1a87811c_3349_11ed_9261_784f437c194arow5_col1\" class=\"data row5 col1\" >-0.292924</td>\n",
       "            </tr>\n",
       "            <tr>\n",
       "                                <td id=\"T_1a87811c_3349_11ed_9261_784f437c194arow6_col0\" class=\"data row6 col0\" >shape_Flatness</td>\n",
       "                        <td id=\"T_1a87811c_3349_11ed_9261_784f437c194arow6_col1\" class=\"data row6 col1\" >0.221169</td>\n",
       "            </tr>\n",
       "            <tr>\n",
       "                                <td id=\"T_1a87811c_3349_11ed_9261_784f437c194arow7_col0\" class=\"data row7 col0\" >firstorder_RootMeanSquared</td>\n",
       "                        <td id=\"T_1a87811c_3349_11ed_9261_784f437c194arow7_col1\" class=\"data row7 col1\" >-0.218785</td>\n",
       "            </tr>\n",
       "            <tr>\n",
       "                                <td id=\"T_1a87811c_3349_11ed_9261_784f437c194arow8_col0\" class=\"data row8 col0\" >shape_Sphericity</td>\n",
       "                        <td id=\"T_1a87811c_3349_11ed_9261_784f437c194arow8_col1\" class=\"data row8 col1\" >-0.208539</td>\n",
       "            </tr>\n",
       "    </tbody></table>"
      ],
      "text/plain": [
       "<pandas.io.formats.style.Styler at 0x7fa14e3835c0>"
      ]
     },
     "metadata": {},
     "output_type": "display_data"
    },
    {
     "name": "stdout",
     "output_type": "stream",
     "text": [
      "\n",
      "\n",
      "firstorder|histogram|glcm|gldm|glszm|glrlm|ngtdm\n"
     ]
    },
    {
     "data": {
      "text/html": [
       "<style  type=\"text/css\" >\n",
       "</style><table id=\"T_1a88ff88_3349_11ed_9675_784f437c194a\" ><thead>    <tr>        <th class=\"col_heading level0 col0\" >Feature</th>        <th class=\"col_heading level0 col1\" >Coef</th>    </tr></thead><tbody>\n",
       "                <tr>\n",
       "                                <td id=\"T_1a88ff88_3349_11ed_9675_784f437c194arow0_col0\" class=\"data row0 col0\" >firstorder_90Percentile</td>\n",
       "                        <td id=\"T_1a88ff88_3349_11ed_9675_784f437c194arow0_col1\" class=\"data row0 col1\" >-1.456896</td>\n",
       "            </tr>\n",
       "            <tr>\n",
       "                                <td id=\"T_1a88ff88_3349_11ed_9675_784f437c194arow1_col0\" class=\"data row1 col0\" >glszm_ZoneEntropy</td>\n",
       "                        <td id=\"T_1a88ff88_3349_11ed_9675_784f437c194arow1_col1\" class=\"data row1 col1\" >0.723583</td>\n",
       "            </tr>\n",
       "            <tr>\n",
       "                                <td id=\"T_1a88ff88_3349_11ed_9675_784f437c194arow2_col0\" class=\"data row2 col0\" >firstorder_Range</td>\n",
       "                        <td id=\"T_1a88ff88_3349_11ed_9675_784f437c194arow2_col1\" class=\"data row2 col1\" >0.648070</td>\n",
       "            </tr>\n",
       "            <tr>\n",
       "                                <td id=\"T_1a88ff88_3349_11ed_9675_784f437c194arow3_col0\" class=\"data row3 col0\" >glszm_SmallAreaEmphasis</td>\n",
       "                        <td id=\"T_1a88ff88_3349_11ed_9675_784f437c194arow3_col1\" class=\"data row3 col1\" >0.480228</td>\n",
       "            </tr>\n",
       "            <tr>\n",
       "                                <td id=\"T_1a88ff88_3349_11ed_9675_784f437c194arow4_col0\" class=\"data row4 col0\" >ngtdm_Strength</td>\n",
       "                        <td id=\"T_1a88ff88_3349_11ed_9675_784f437c194arow4_col1\" class=\"data row4 col1\" >-0.333689</td>\n",
       "            </tr>\n",
       "            <tr>\n",
       "                                <td id=\"T_1a88ff88_3349_11ed_9675_784f437c194arow5_col0\" class=\"data row5 col0\" >firstorder_RootMeanSquared</td>\n",
       "                        <td id=\"T_1a88ff88_3349_11ed_9675_784f437c194arow5_col1\" class=\"data row5 col1\" >-0.313480</td>\n",
       "            </tr>\n",
       "            <tr>\n",
       "                                <td id=\"T_1a88ff88_3349_11ed_9675_784f437c194arow6_col0\" class=\"data row6 col0\" >firstorder_InterquartileRange</td>\n",
       "                        <td id=\"T_1a88ff88_3349_11ed_9675_784f437c194arow6_col1\" class=\"data row6 col1\" >0.202410</td>\n",
       "            </tr>\n",
       "            <tr>\n",
       "                                <td id=\"T_1a88ff88_3349_11ed_9675_784f437c194arow7_col0\" class=\"data row7 col0\" >gldm_DependenceNonUniformityNormalized</td>\n",
       "                        <td id=\"T_1a88ff88_3349_11ed_9675_784f437c194arow7_col1\" class=\"data row7 col1\" >-0.018336</td>\n",
       "            </tr>\n",
       "            <tr>\n",
       "                                <td id=\"T_1a88ff88_3349_11ed_9675_784f437c194arow8_col0\" class=\"data row8 col0\" >glszm_LargeAreaLowGrayLevelEmphasis</td>\n",
       "                        <td id=\"T_1a88ff88_3349_11ed_9675_784f437c194arow8_col1\" class=\"data row8 col1\" >0.011678</td>\n",
       "            </tr>\n",
       "    </tbody></table>"
      ],
      "text/plain": [
       "<pandas.io.formats.style.Styler at 0x7fa13bb0bbe0>"
      ]
     },
     "metadata": {},
     "output_type": "display_data"
    },
    {
     "name": "stdout",
     "output_type": "stream",
     "text": [
      "\n",
      "\n",
      "firstorder|histogram\n"
     ]
    },
    {
     "data": {
      "text/html": [
       "<style  type=\"text/css\" >\n",
       "</style><table id=\"T_1a8a57a2_3349_11ed_a9b1_784f437c194a\" ><thead>    <tr>        <th class=\"col_heading level0 col0\" >Feature</th>        <th class=\"col_heading level0 col1\" >Coef</th>    </tr></thead><tbody>\n",
       "                <tr>\n",
       "                                <td id=\"T_1a8a57a2_3349_11ed_a9b1_784f437c194arow0_col0\" class=\"data row0 col0\" >firstorder_90Percentile</td>\n",
       "                        <td id=\"T_1a8a57a2_3349_11ed_a9b1_784f437c194arow0_col1\" class=\"data row0 col1\" >-1.966571</td>\n",
       "            </tr>\n",
       "            <tr>\n",
       "                                <td id=\"T_1a8a57a2_3349_11ed_a9b1_784f437c194arow1_col0\" class=\"data row1 col0\" >firstorder_Maximum</td>\n",
       "                        <td id=\"T_1a8a57a2_3349_11ed_a9b1_784f437c194arow1_col1\" class=\"data row1 col1\" >1.228471</td>\n",
       "            </tr>\n",
       "            <tr>\n",
       "                                <td id=\"T_1a8a57a2_3349_11ed_a9b1_784f437c194arow2_col0\" class=\"data row2 col0\" >firstorder_InterquartileRange</td>\n",
       "                        <td id=\"T_1a8a57a2_3349_11ed_a9b1_784f437c194arow2_col1\" class=\"data row2 col1\" >0.981544</td>\n",
       "            </tr>\n",
       "            <tr>\n",
       "                                <td id=\"T_1a8a57a2_3349_11ed_a9b1_784f437c194arow3_col0\" class=\"data row3 col0\" >firstorder_RootMeanSquared</td>\n",
       "                        <td id=\"T_1a8a57a2_3349_11ed_a9b1_784f437c194arow3_col1\" class=\"data row3 col1\" >-0.286183</td>\n",
       "            </tr>\n",
       "    </tbody></table>"
      ],
      "text/plain": [
       "<pandas.io.formats.style.Styler at 0x7fa13f2cfe10>"
      ]
     },
     "metadata": {},
     "output_type": "display_data"
    },
    {
     "name": "stdout",
     "output_type": "stream",
     "text": [
      "\n",
      "\n",
      "shape\n"
     ]
    },
    {
     "data": {
      "text/html": [
       "<style  type=\"text/css\" >\n",
       "</style><table id=\"T_1a8bd1cc_3349_11ed_96a6_784f437c194a\" ><thead>    <tr>        <th class=\"col_heading level0 col0\" >Feature</th>        <th class=\"col_heading level0 col1\" >Coef</th>    </tr></thead><tbody>\n",
       "                <tr>\n",
       "                                <td id=\"T_1a8bd1cc_3349_11ed_96a6_784f437c194arow0_col0\" class=\"data row0 col0\" >shape_MeshVolume</td>\n",
       "                        <td id=\"T_1a8bd1cc_3349_11ed_96a6_784f437c194arow0_col1\" class=\"data row0 col1\" >2.022996</td>\n",
       "            </tr>\n",
       "            <tr>\n",
       "                                <td id=\"T_1a8bd1cc_3349_11ed_96a6_784f437c194arow1_col0\" class=\"data row1 col0\" >shape_Sphericity</td>\n",
       "                        <td id=\"T_1a8bd1cc_3349_11ed_96a6_784f437c194arow1_col1\" class=\"data row1 col1\" >-0.971971</td>\n",
       "            </tr>\n",
       "            <tr>\n",
       "                                <td id=\"T_1a8bd1cc_3349_11ed_96a6_784f437c194arow2_col0\" class=\"data row2 col0\" >shape_Elongation</td>\n",
       "                        <td id=\"T_1a8bd1cc_3349_11ed_96a6_784f437c194arow2_col1\" class=\"data row2 col1\" >-0.492445</td>\n",
       "            </tr>\n",
       "            <tr>\n",
       "                                <td id=\"T_1a8bd1cc_3349_11ed_96a6_784f437c194arow3_col0\" class=\"data row3 col0\" >shape_Flatness</td>\n",
       "                        <td id=\"T_1a8bd1cc_3349_11ed_96a6_784f437c194arow3_col1\" class=\"data row3 col1\" >0.274983</td>\n",
       "            </tr>\n",
       "    </tbody></table>"
      ],
      "text/plain": [
       "<pandas.io.formats.style.Styler at 0x7fa13f2cfe80>"
      ]
     },
     "metadata": {},
     "output_type": "display_data"
    },
    {
     "name": "stdout",
     "output_type": "stream",
     "text": [
      "\n",
      "\n",
      "\n"
     ]
    },
    {
     "data": {
      "text/html": [
       "<style  type=\"text/css\" >\n",
       "</style><table id=\"T_1a8cf9da_3349_11ed_a113_784f437c194a\" ><thead>    <tr>        <th class=\"col_heading level0 col0\" >Feature</th>        <th class=\"col_heading level0 col1\" >Coef</th>    </tr></thead><tbody>\n",
       "                <tr>\n",
       "                                <td id=\"T_1a8cf9da_3349_11ed_a113_784f437c194arow0_col0\" class=\"data row0 col0\" >firstorder_90Percentile</td>\n",
       "                        <td id=\"T_1a8cf9da_3349_11ed_a113_784f437c194arow0_col1\" class=\"data row0 col1\" >-1.239693</td>\n",
       "            </tr>\n",
       "            <tr>\n",
       "                                <td id=\"T_1a8cf9da_3349_11ed_a113_784f437c194arow1_col0\" class=\"data row1 col0\" >glszm_ZoneEntropy</td>\n",
       "                        <td id=\"T_1a8cf9da_3349_11ed_a113_784f437c194arow1_col1\" class=\"data row1 col1\" >0.730176</td>\n",
       "            </tr>\n",
       "            <tr>\n",
       "                                <td id=\"T_1a8cf9da_3349_11ed_a113_784f437c194arow2_col0\" class=\"data row2 col0\" >glszm_SmallAreaEmphasis</td>\n",
       "                        <td id=\"T_1a8cf9da_3349_11ed_a113_784f437c194arow2_col1\" class=\"data row2 col1\" >0.609219</td>\n",
       "            </tr>\n",
       "            <tr>\n",
       "                                <td id=\"T_1a8cf9da_3349_11ed_a113_784f437c194arow3_col0\" class=\"data row3 col0\" >shape_MeshVolume</td>\n",
       "                        <td id=\"T_1a8cf9da_3349_11ed_a113_784f437c194arow3_col1\" class=\"data row3 col1\" >0.380524</td>\n",
       "            </tr>\n",
       "            <tr>\n",
       "                                <td id=\"T_1a8cf9da_3349_11ed_a113_784f437c194arow4_col0\" class=\"data row4 col0\" >firstorder_Maximum</td>\n",
       "                        <td id=\"T_1a8cf9da_3349_11ed_a113_784f437c194arow4_col1\" class=\"data row4 col1\" >0.323601</td>\n",
       "            </tr>\n",
       "            <tr>\n",
       "                                <td id=\"T_1a8cf9da_3349_11ed_a113_784f437c194arow5_col0\" class=\"data row5 col0\" >shape_Sphericity</td>\n",
       "                        <td id=\"T_1a8cf9da_3349_11ed_a113_784f437c194arow5_col1\" class=\"data row5 col1\" >-0.314575</td>\n",
       "            </tr>\n",
       "            <tr>\n",
       "                                <td id=\"T_1a8cf9da_3349_11ed_a113_784f437c194arow6_col0\" class=\"data row6 col0\" >firstorder_InterquartileRange</td>\n",
       "                        <td id=\"T_1a8cf9da_3349_11ed_a113_784f437c194arow6_col1\" class=\"data row6 col1\" >0.303310</td>\n",
       "            </tr>\n",
       "            <tr>\n",
       "                                <td id=\"T_1a8cf9da_3349_11ed_a113_784f437c194arow7_col0\" class=\"data row7 col0\" >firstorder_RootMeanSquared</td>\n",
       "                        <td id=\"T_1a8cf9da_3349_11ed_a113_784f437c194arow7_col1\" class=\"data row7 col1\" >-0.261286</td>\n",
       "            </tr>\n",
       "            <tr>\n",
       "                                <td id=\"T_1a8cf9da_3349_11ed_a113_784f437c194arow8_col0\" class=\"data row8 col0\" >ngtdm_Strength</td>\n",
       "                        <td id=\"T_1a8cf9da_3349_11ed_a113_784f437c194arow8_col1\" class=\"data row8 col1\" >-0.217766</td>\n",
       "            </tr>\n",
       "            <tr>\n",
       "                                <td id=\"T_1a8cf9da_3349_11ed_a113_784f437c194arow9_col0\" class=\"data row9 col0\" >shape_Elongation</td>\n",
       "                        <td id=\"T_1a8cf9da_3349_11ed_a113_784f437c194arow9_col1\" class=\"data row9 col1\" >-0.187259</td>\n",
       "            </tr>\n",
       "    </tbody></table>"
      ],
      "text/plain": [
       "<pandas.io.formats.style.Styler at 0x7fa1446929e8>"
      ]
     },
     "metadata": {},
     "output_type": "display_data"
    },
    {
     "name": "stdout",
     "output_type": "stream",
     "text": [
      "\n",
      "\n",
      "shape|firstorder|histogram\n"
     ]
    },
    {
     "data": {
      "text/html": [
       "<style  type=\"text/css\" >\n",
       "</style><table id=\"T_1a8e65c2_3349_11ed_bd7e_784f437c194a\" ><thead>    <tr>        <th class=\"col_heading level0 col0\" >Feature</th>        <th class=\"col_heading level0 col1\" >Coef</th>    </tr></thead><tbody>\n",
       "                <tr>\n",
       "                                <td id=\"T_1a8e65c2_3349_11ed_bd7e_784f437c194arow0_col0\" class=\"data row0 col0\" >firstorder_90Percentile</td>\n",
       "                        <td id=\"T_1a8e65c2_3349_11ed_bd7e_784f437c194arow0_col1\" class=\"data row0 col1\" >-1.873097</td>\n",
       "            </tr>\n",
       "            <tr>\n",
       "                                <td id=\"T_1a8e65c2_3349_11ed_bd7e_784f437c194arow1_col0\" class=\"data row1 col0\" >firstorder_Maximum</td>\n",
       "                        <td id=\"T_1a8e65c2_3349_11ed_bd7e_784f437c194arow1_col1\" class=\"data row1 col1\" >1.653655</td>\n",
       "            </tr>\n",
       "            <tr>\n",
       "                                <td id=\"T_1a8e65c2_3349_11ed_bd7e_784f437c194arow2_col0\" class=\"data row2 col0\" >firstorder_Uniformity</td>\n",
       "                        <td id=\"T_1a8e65c2_3349_11ed_bd7e_784f437c194arow2_col1\" class=\"data row2 col1\" >-0.925102</td>\n",
       "            </tr>\n",
       "            <tr>\n",
       "                                <td id=\"T_1a8e65c2_3349_11ed_bd7e_784f437c194arow3_col0\" class=\"data row3 col0\" >firstorder_Kurtosis</td>\n",
       "                        <td id=\"T_1a8e65c2_3349_11ed_bd7e_784f437c194arow3_col1\" class=\"data row3 col1\" >-0.923818</td>\n",
       "            </tr>\n",
       "            <tr>\n",
       "                                <td id=\"T_1a8e65c2_3349_11ed_bd7e_784f437c194arow4_col0\" class=\"data row4 col0\" >shape_MeshVolume</td>\n",
       "                        <td id=\"T_1a8e65c2_3349_11ed_bd7e_784f437c194arow4_col1\" class=\"data row4 col1\" >0.738342</td>\n",
       "            </tr>\n",
       "            <tr>\n",
       "                                <td id=\"T_1a8e65c2_3349_11ed_bd7e_784f437c194arow5_col0\" class=\"data row5 col0\" >shape_Elongation</td>\n",
       "                        <td id=\"T_1a8e65c2_3349_11ed_bd7e_784f437c194arow5_col1\" class=\"data row5 col1\" >-0.625079</td>\n",
       "            </tr>\n",
       "            <tr>\n",
       "                                <td id=\"T_1a8e65c2_3349_11ed_bd7e_784f437c194arow6_col0\" class=\"data row6 col0\" >shape_Flatness</td>\n",
       "                        <td id=\"T_1a8e65c2_3349_11ed_bd7e_784f437c194arow6_col1\" class=\"data row6 col1\" >0.436096</td>\n",
       "            </tr>\n",
       "            <tr>\n",
       "                                <td id=\"T_1a8e65c2_3349_11ed_bd7e_784f437c194arow7_col0\" class=\"data row7 col0\" >firstorder_RootMeanSquared</td>\n",
       "                        <td id=\"T_1a8e65c2_3349_11ed_bd7e_784f437c194arow7_col1\" class=\"data row7 col1\" >-0.413017</td>\n",
       "            </tr>\n",
       "            <tr>\n",
       "                                <td id=\"T_1a8e65c2_3349_11ed_bd7e_784f437c194arow8_col0\" class=\"data row8 col0\" >shape_Sphericity</td>\n",
       "                        <td id=\"T_1a8e65c2_3349_11ed_bd7e_784f437c194arow8_col1\" class=\"data row8 col1\" >-0.324733</td>\n",
       "            </tr>\n",
       "            <tr>\n",
       "                                <td id=\"T_1a8e65c2_3349_11ed_bd7e_784f437c194arow9_col0\" class=\"data row9 col0\" >firstorder_Skewness</td>\n",
       "                        <td id=\"T_1a8e65c2_3349_11ed_bd7e_784f437c194arow9_col1\" class=\"data row9 col1\" >0.234188</td>\n",
       "            </tr>\n",
       "    </tbody></table>"
      ],
      "text/plain": [
       "<pandas.io.formats.style.Styler at 0x7fa151c92e48>"
      ]
     },
     "metadata": {},
     "output_type": "display_data"
    },
    {
     "name": "stdout",
     "output_type": "stream",
     "text": [
      "\n",
      "\n",
      "shape|firstorder|histogram\n"
     ]
    },
    {
     "data": {
      "text/html": [
       "<style  type=\"text/css\" >\n",
       "</style><table id=\"T_1a8fb648_3349_11ed_a935_784f437c194a\" ><thead>    <tr>        <th class=\"col_heading level0 col0\" >Feature</th>        <th class=\"col_heading level0 col1\" >Coef</th>    </tr></thead><tbody>\n",
       "                <tr>\n",
       "                                <td id=\"T_1a8fb648_3349_11ed_a935_784f437c194arow0_col0\" class=\"data row0 col0\" >firstorder_90Percentile</td>\n",
       "                        <td id=\"T_1a8fb648_3349_11ed_a935_784f437c194arow0_col1\" class=\"data row0 col1\" >-1.521639</td>\n",
       "            </tr>\n",
       "            <tr>\n",
       "                                <td id=\"T_1a8fb648_3349_11ed_a935_784f437c194arow1_col0\" class=\"data row1 col0\" >firstorder_InterquartileRange</td>\n",
       "                        <td id=\"T_1a8fb648_3349_11ed_a935_784f437c194arow1_col1\" class=\"data row1 col1\" >0.894523</td>\n",
       "            </tr>\n",
       "            <tr>\n",
       "                                <td id=\"T_1a8fb648_3349_11ed_a935_784f437c194arow2_col0\" class=\"data row2 col0\" >firstorder_Maximum</td>\n",
       "                        <td id=\"T_1a8fb648_3349_11ed_a935_784f437c194arow2_col1\" class=\"data row2 col1\" >0.833696</td>\n",
       "            </tr>\n",
       "            <tr>\n",
       "                                <td id=\"T_1a8fb648_3349_11ed_a935_784f437c194arow3_col0\" class=\"data row3 col0\" >shape_MeshVolume</td>\n",
       "                        <td id=\"T_1a8fb648_3349_11ed_a935_784f437c194arow3_col1\" class=\"data row3 col1\" >0.510817</td>\n",
       "            </tr>\n",
       "            <tr>\n",
       "                                <td id=\"T_1a8fb648_3349_11ed_a935_784f437c194arow4_col0\" class=\"data row4 col0\" >firstorder_Kurtosis</td>\n",
       "                        <td id=\"T_1a8fb648_3349_11ed_a935_784f437c194arow4_col1\" class=\"data row4 col1\" >-0.419263</td>\n",
       "            </tr>\n",
       "            <tr>\n",
       "                                <td id=\"T_1a8fb648_3349_11ed_a935_784f437c194arow5_col0\" class=\"data row5 col0\" >shape_Elongation</td>\n",
       "                        <td id=\"T_1a8fb648_3349_11ed_a935_784f437c194arow5_col1\" class=\"data row5 col1\" >-0.333005</td>\n",
       "            </tr>\n",
       "            <tr>\n",
       "                                <td id=\"T_1a8fb648_3349_11ed_a935_784f437c194arow6_col0\" class=\"data row6 col0\" >shape_Sphericity</td>\n",
       "                        <td id=\"T_1a8fb648_3349_11ed_a935_784f437c194arow6_col1\" class=\"data row6 col1\" >-0.225854</td>\n",
       "            </tr>\n",
       "            <tr>\n",
       "                                <td id=\"T_1a8fb648_3349_11ed_a935_784f437c194arow7_col0\" class=\"data row7 col0\" >firstorder_RootMeanSquared</td>\n",
       "                        <td id=\"T_1a8fb648_3349_11ed_a935_784f437c194arow7_col1\" class=\"data row7 col1\" >-0.195693</td>\n",
       "            </tr>\n",
       "            <tr>\n",
       "                                <td id=\"T_1a8fb648_3349_11ed_a935_784f437c194arow8_col0\" class=\"data row8 col0\" >shape_Flatness</td>\n",
       "                        <td id=\"T_1a8fb648_3349_11ed_a935_784f437c194arow8_col1\" class=\"data row8 col1\" >0.103996</td>\n",
       "            </tr>\n",
       "    </tbody></table>"
      ],
      "text/plain": [
       "<pandas.io.formats.style.Styler at 0x7fa13bb0b400>"
      ]
     },
     "metadata": {},
     "output_type": "display_data"
    },
    {
     "name": "stdout",
     "output_type": "stream",
     "text": [
      "\n",
      "\n",
      "shape|firstorder|histogram\n"
     ]
    },
    {
     "data": {
      "text/html": [
       "<style  type=\"text/css\" >\n",
       "</style><table id=\"T_1a912848_3349_11ed_b14c_784f437c194a\" ><thead>    <tr>        <th class=\"col_heading level0 col0\" >Feature</th>        <th class=\"col_heading level0 col1\" >Coef</th>    </tr></thead><tbody>\n",
       "                <tr>\n",
       "                                <td id=\"T_1a912848_3349_11ed_b14c_784f437c194arow0_col0\" class=\"data row0 col0\" >firstorder_90Percentile</td>\n",
       "                        <td id=\"T_1a912848_3349_11ed_b14c_784f437c194arow0_col1\" class=\"data row0 col1\" >-1.456891</td>\n",
       "            </tr>\n",
       "            <tr>\n",
       "                                <td id=\"T_1a912848_3349_11ed_b14c_784f437c194arow1_col0\" class=\"data row1 col0\" >firstorder_Maximum</td>\n",
       "                        <td id=\"T_1a912848_3349_11ed_b14c_784f437c194arow1_col1\" class=\"data row1 col1\" >0.755045</td>\n",
       "            </tr>\n",
       "            <tr>\n",
       "                                <td id=\"T_1a912848_3349_11ed_b14c_784f437c194arow2_col0\" class=\"data row2 col0\" >firstorder_Uniformity</td>\n",
       "                        <td id=\"T_1a912848_3349_11ed_b14c_784f437c194arow2_col1\" class=\"data row2 col1\" >-0.753316</td>\n",
       "            </tr>\n",
       "            <tr>\n",
       "                                <td id=\"T_1a912848_3349_11ed_b14c_784f437c194arow3_col0\" class=\"data row3 col0\" >shape_MeshVolume</td>\n",
       "                        <td id=\"T_1a912848_3349_11ed_b14c_784f437c194arow3_col1\" class=\"data row3 col1\" >0.587269</td>\n",
       "            </tr>\n",
       "            <tr>\n",
       "                                <td id=\"T_1a912848_3349_11ed_b14c_784f437c194arow4_col0\" class=\"data row4 col0\" >firstorder_Kurtosis</td>\n",
       "                        <td id=\"T_1a912848_3349_11ed_b14c_784f437c194arow4_col1\" class=\"data row4 col1\" >-0.523700</td>\n",
       "            </tr>\n",
       "            <tr>\n",
       "                                <td id=\"T_1a912848_3349_11ed_b14c_784f437c194arow5_col0\" class=\"data row5 col0\" >firstorder_RootMeanSquared</td>\n",
       "                        <td id=\"T_1a912848_3349_11ed_b14c_784f437c194arow5_col1\" class=\"data row5 col1\" >-0.301389</td>\n",
       "            </tr>\n",
       "            <tr>\n",
       "                                <td id=\"T_1a912848_3349_11ed_b14c_784f437c194arow6_col0\" class=\"data row6 col0\" >shape_Sphericity</td>\n",
       "                        <td id=\"T_1a912848_3349_11ed_b14c_784f437c194arow6_col1\" class=\"data row6 col1\" >-0.262186</td>\n",
       "            </tr>\n",
       "            <tr>\n",
       "                                <td id=\"T_1a912848_3349_11ed_b14c_784f437c194arow7_col0\" class=\"data row7 col0\" >shape_Elongation</td>\n",
       "                        <td id=\"T_1a912848_3349_11ed_b14c_784f437c194arow7_col1\" class=\"data row7 col1\" >-0.261157</td>\n",
       "            </tr>\n",
       "            <tr>\n",
       "                                <td id=\"T_1a912848_3349_11ed_b14c_784f437c194arow8_col0\" class=\"data row8 col0\" >firstorder_Skewness</td>\n",
       "                        <td id=\"T_1a912848_3349_11ed_b14c_784f437c194arow8_col1\" class=\"data row8 col1\" >0.257544</td>\n",
       "            </tr>\n",
       "    </tbody></table>"
      ],
      "text/plain": [
       "<pandas.io.formats.style.Styler at 0x7fa148aaee48>"
      ]
     },
     "metadata": {},
     "output_type": "display_data"
    },
    {
     "name": "stdout",
     "output_type": "stream",
     "text": [
      "\n",
      "\n",
      "shape|firstorder|histogram\n"
     ]
    },
    {
     "data": {
      "text/html": [
       "<style  type=\"text/css\" >\n",
       "</style><table id=\"T_1a92ad4c_3349_11ed_844a_784f437c194a\" ><thead>    <tr>        <th class=\"col_heading level0 col0\" >Feature</th>        <th class=\"col_heading level0 col1\" >Coef</th>    </tr></thead><tbody>\n",
       "                <tr>\n",
       "                                <td id=\"T_1a92ad4c_3349_11ed_844a_784f437c194arow0_col0\" class=\"data row0 col0\" >firstorder_90Percentile</td>\n",
       "                        <td id=\"T_1a92ad4c_3349_11ed_844a_784f437c194arow0_col1\" class=\"data row0 col1\" >-1.469692</td>\n",
       "            </tr>\n",
       "            <tr>\n",
       "                                <td id=\"T_1a92ad4c_3349_11ed_844a_784f437c194arow1_col0\" class=\"data row1 col0\" >firstorder_InterquartileRange</td>\n",
       "                        <td id=\"T_1a92ad4c_3349_11ed_844a_784f437c194arow1_col1\" class=\"data row1 col1\" >0.939292</td>\n",
       "            </tr>\n",
       "            <tr>\n",
       "                                <td id=\"T_1a92ad4c_3349_11ed_844a_784f437c194arow2_col0\" class=\"data row2 col0\" >shape_MeshVolume</td>\n",
       "                        <td id=\"T_1a92ad4c_3349_11ed_844a_784f437c194arow2_col1\" class=\"data row2 col1\" >0.696775</td>\n",
       "            </tr>\n",
       "            <tr>\n",
       "                                <td id=\"T_1a92ad4c_3349_11ed_844a_784f437c194arow3_col0\" class=\"data row3 col0\" >firstorder_Maximum</td>\n",
       "                        <td id=\"T_1a92ad4c_3349_11ed_844a_784f437c194arow3_col1\" class=\"data row3 col1\" >0.607060</td>\n",
       "            </tr>\n",
       "            <tr>\n",
       "                                <td id=\"T_1a92ad4c_3349_11ed_844a_784f437c194arow4_col0\" class=\"data row4 col0\" >firstorder_Kurtosis</td>\n",
       "                        <td id=\"T_1a92ad4c_3349_11ed_844a_784f437c194arow4_col1\" class=\"data row4 col1\" >-0.548272</td>\n",
       "            </tr>\n",
       "            <tr>\n",
       "                                <td id=\"T_1a92ad4c_3349_11ed_844a_784f437c194arow5_col0\" class=\"data row5 col0\" >shape_Sphericity</td>\n",
       "                        <td id=\"T_1a92ad4c_3349_11ed_844a_784f437c194arow5_col1\" class=\"data row5 col1\" >-0.394395</td>\n",
       "            </tr>\n",
       "            <tr>\n",
       "                                <td id=\"T_1a92ad4c_3349_11ed_844a_784f437c194arow6_col0\" class=\"data row6 col0\" >firstorder_RootMeanSquared</td>\n",
       "                        <td id=\"T_1a92ad4c_3349_11ed_844a_784f437c194arow6_col1\" class=\"data row6 col1\" >-0.392106</td>\n",
       "            </tr>\n",
       "            <tr>\n",
       "                                <td id=\"T_1a92ad4c_3349_11ed_844a_784f437c194arow7_col0\" class=\"data row7 col0\" >firstorder_Skewness</td>\n",
       "                        <td id=\"T_1a92ad4c_3349_11ed_844a_784f437c194arow7_col1\" class=\"data row7 col1\" >0.346759</td>\n",
       "            </tr>\n",
       "            <tr>\n",
       "                                <td id=\"T_1a92ad4c_3349_11ed_844a_784f437c194arow8_col0\" class=\"data row8 col0\" >shape_Elongation</td>\n",
       "                        <td id=\"T_1a92ad4c_3349_11ed_844a_784f437c194arow8_col1\" class=\"data row8 col1\" >-0.173642</td>\n",
       "            </tr>\n",
       "            <tr>\n",
       "                                <td id=\"T_1a92ad4c_3349_11ed_844a_784f437c194arow9_col0\" class=\"data row9 col0\" >shape_Flatness</td>\n",
       "                        <td id=\"T_1a92ad4c_3349_11ed_844a_784f437c194arow9_col1\" class=\"data row9 col1\" >0.087182</td>\n",
       "            </tr>\n",
       "    </tbody></table>"
      ],
      "text/plain": [
       "<pandas.io.formats.style.Styler at 0x7fa13f2cf9b0>"
      ]
     },
     "metadata": {},
     "output_type": "display_data"
    },
    {
     "name": "stdout",
     "output_type": "stream",
     "text": [
      "\n",
      "\n",
      "shape|firstorder|histogram\n"
     ]
    },
    {
     "data": {
      "text/html": [
       "<style  type=\"text/css\" >\n",
       "</style><table id=\"T_1a93e75e_3349_11ed_b33f_784f437c194a\" ><thead>    <tr>        <th class=\"col_heading level0 col0\" >Feature</th>        <th class=\"col_heading level0 col1\" >Coef</th>    </tr></thead><tbody>\n",
       "                <tr>\n",
       "                                <td id=\"T_1a93e75e_3349_11ed_b33f_784f437c194arow0_col0\" class=\"data row0 col0\" >firstorder_90Percentile</td>\n",
       "                        <td id=\"T_1a93e75e_3349_11ed_b33f_784f437c194arow0_col1\" class=\"data row0 col1\" >-1.353589</td>\n",
       "            </tr>\n",
       "            <tr>\n",
       "                                <td id=\"T_1a93e75e_3349_11ed_b33f_784f437c194arow1_col0\" class=\"data row1 col0\" >firstorder_InterquartileRange</td>\n",
       "                        <td id=\"T_1a93e75e_3349_11ed_b33f_784f437c194arow1_col1\" class=\"data row1 col1\" >0.815634</td>\n",
       "            </tr>\n",
       "            <tr>\n",
       "                                <td id=\"T_1a93e75e_3349_11ed_b33f_784f437c194arow2_col0\" class=\"data row2 col0\" >firstorder_Maximum</td>\n",
       "                        <td id=\"T_1a93e75e_3349_11ed_b33f_784f437c194arow2_col1\" class=\"data row2 col1\" >0.521265</td>\n",
       "            </tr>\n",
       "            <tr>\n",
       "                                <td id=\"T_1a93e75e_3349_11ed_b33f_784f437c194arow3_col0\" class=\"data row3 col0\" >shape_MeshVolume</td>\n",
       "                        <td id=\"T_1a93e75e_3349_11ed_b33f_784f437c194arow3_col1\" class=\"data row3 col1\" >0.470547</td>\n",
       "            </tr>\n",
       "            <tr>\n",
       "                                <td id=\"T_1a93e75e_3349_11ed_b33f_784f437c194arow4_col0\" class=\"data row4 col0\" >firstorder_Kurtosis</td>\n",
       "                        <td id=\"T_1a93e75e_3349_11ed_b33f_784f437c194arow4_col1\" class=\"data row4 col1\" >-0.213340</td>\n",
       "            </tr>\n",
       "            <tr>\n",
       "                                <td id=\"T_1a93e75e_3349_11ed_b33f_784f437c194arow5_col0\" class=\"data row5 col0\" >firstorder_RootMeanSquared</td>\n",
       "                        <td id=\"T_1a93e75e_3349_11ed_b33f_784f437c194arow5_col1\" class=\"data row5 col1\" >-0.149834</td>\n",
       "            </tr>\n",
       "            <tr>\n",
       "                                <td id=\"T_1a93e75e_3349_11ed_b33f_784f437c194arow6_col0\" class=\"data row6 col0\" >shape_Sphericity</td>\n",
       "                        <td id=\"T_1a93e75e_3349_11ed_b33f_784f437c194arow6_col1\" class=\"data row6 col1\" >-0.134521</td>\n",
       "            </tr>\n",
       "            <tr>\n",
       "                                <td id=\"T_1a93e75e_3349_11ed_b33f_784f437c194arow7_col0\" class=\"data row7 col0\" >shape_Elongation</td>\n",
       "                        <td id=\"T_1a93e75e_3349_11ed_b33f_784f437c194arow7_col1\" class=\"data row7 col1\" >-0.021903</td>\n",
       "            </tr>\n",
       "    </tbody></table>"
      ],
      "text/plain": [
       "<pandas.io.formats.style.Styler at 0x7fa13f2cf2e8>"
      ]
     },
     "metadata": {},
     "output_type": "display_data"
    },
    {
     "name": "stdout",
     "output_type": "stream",
     "text": [
      "\n",
      "\n",
      "\n"
     ]
    },
    {
     "data": {
      "text/html": [
       "<style  type=\"text/css\" >\n",
       "</style><table id=\"T_1a95769e_3349_11ed_b070_784f437c194a\" ><thead>    <tr>        <th class=\"col_heading level0 col0\" >Feature</th>        <th class=\"col_heading level0 col1\" >Coef</th>    </tr></thead><tbody>\n",
       "                <tr>\n",
       "                                <td id=\"T_1a95769e_3349_11ed_b070_784f437c194arow0_col0\" class=\"data row0 col0\" >firstorder_90Percentile</td>\n",
       "                        <td id=\"T_1a95769e_3349_11ed_b070_784f437c194arow0_col1\" class=\"data row0 col1\" >-1.474146</td>\n",
       "            </tr>\n",
       "            <tr>\n",
       "                                <td id=\"T_1a95769e_3349_11ed_b070_784f437c194arow1_col0\" class=\"data row1 col0\" >firstorder_InterquartileRange</td>\n",
       "                        <td id=\"T_1a95769e_3349_11ed_b070_784f437c194arow1_col1\" class=\"data row1 col1\" >0.635925</td>\n",
       "            </tr>\n",
       "            <tr>\n",
       "                                <td id=\"T_1a95769e_3349_11ed_b070_784f437c194arow2_col0\" class=\"data row2 col0\" >gldm_LowGrayLevelEmphasis</td>\n",
       "                        <td id=\"T_1a95769e_3349_11ed_b070_784f437c194arow2_col1\" class=\"data row2 col1\" >-0.459386</td>\n",
       "            </tr>\n",
       "            <tr>\n",
       "                                <td id=\"T_1a95769e_3349_11ed_b070_784f437c194arow3_col0\" class=\"data row3 col0\" >shape_Sphericity</td>\n",
       "                        <td id=\"T_1a95769e_3349_11ed_b070_784f437c194arow3_col1\" class=\"data row3 col1\" >-0.400391</td>\n",
       "            </tr>\n",
       "            <tr>\n",
       "                                <td id=\"T_1a95769e_3349_11ed_b070_784f437c194arow4_col0\" class=\"data row4 col0\" >shape_MeshVolume</td>\n",
       "                        <td id=\"T_1a95769e_3349_11ed_b070_784f437c194arow4_col1\" class=\"data row4 col1\" >0.259545</td>\n",
       "            </tr>\n",
       "            <tr>\n",
       "                                <td id=\"T_1a95769e_3349_11ed_b070_784f437c194arow5_col0\" class=\"data row5 col0\" >firstorder_Maximum</td>\n",
       "                        <td id=\"T_1a95769e_3349_11ed_b070_784f437c194arow5_col1\" class=\"data row5 col1\" >0.238068</td>\n",
       "            </tr>\n",
       "            <tr>\n",
       "                                <td id=\"T_1a95769e_3349_11ed_b070_784f437c194arow6_col0\" class=\"data row6 col0\" >shape_Elongation</td>\n",
       "                        <td id=\"T_1a95769e_3349_11ed_b070_784f437c194arow6_col1\" class=\"data row6 col1\" >-0.221955</td>\n",
       "            </tr>\n",
       "            <tr>\n",
       "                                <td id=\"T_1a95769e_3349_11ed_b070_784f437c194arow7_col0\" class=\"data row7 col0\" >glszm_SmallAreaEmphasis</td>\n",
       "                        <td id=\"T_1a95769e_3349_11ed_b070_784f437c194arow7_col1\" class=\"data row7 col1\" >0.197452</td>\n",
       "            </tr>\n",
       "            <tr>\n",
       "                                <td id=\"T_1a95769e_3349_11ed_b070_784f437c194arow8_col0\" class=\"data row8 col0\" >firstorder_Kurtosis</td>\n",
       "                        <td id=\"T_1a95769e_3349_11ed_b070_784f437c194arow8_col1\" class=\"data row8 col1\" >-0.077783</td>\n",
       "            </tr>\n",
       "            <tr>\n",
       "                                <td id=\"T_1a95769e_3349_11ed_b070_784f437c194arow9_col0\" class=\"data row9 col0\" >firstorder_RootMeanSquared</td>\n",
       "                        <td id=\"T_1a95769e_3349_11ed_b070_784f437c194arow9_col1\" class=\"data row9 col1\" >-0.020822</td>\n",
       "            </tr>\n",
       "    </tbody></table>"
      ],
      "text/plain": [
       "<pandas.io.formats.style.Styler at 0x7fa13f36f9b0>"
      ]
     },
     "metadata": {},
     "output_type": "display_data"
    },
    {
     "name": "stdout",
     "output_type": "stream",
     "text": [
      "\n",
      "\n",
      "shape|firstorder|histogram\n"
     ]
    },
    {
     "data": {
      "text/html": [
       "<style  type=\"text/css\" >\n",
       "</style><table id=\"T_1a96f53e_3349_11ed_bc06_784f437c194a\" ><thead>    <tr>        <th class=\"col_heading level0 col0\" >Feature</th>        <th class=\"col_heading level0 col1\" >Coef</th>    </tr></thead><tbody>\n",
       "                <tr>\n",
       "                                <td id=\"T_1a96f53e_3349_11ed_bc06_784f437c194arow0_col0\" class=\"data row0 col0\" >firstorder_90Percentile</td>\n",
       "                        <td id=\"T_1a96f53e_3349_11ed_bc06_784f437c194arow0_col1\" class=\"data row0 col1\" >-1.428460</td>\n",
       "            </tr>\n",
       "            <tr>\n",
       "                                <td id=\"T_1a96f53e_3349_11ed_bc06_784f437c194arow1_col0\" class=\"data row1 col0\" >firstorder_InterquartileRange</td>\n",
       "                        <td id=\"T_1a96f53e_3349_11ed_bc06_784f437c194arow1_col1\" class=\"data row1 col1\" >0.840999</td>\n",
       "            </tr>\n",
       "            <tr>\n",
       "                                <td id=\"T_1a96f53e_3349_11ed_bc06_784f437c194arow2_col0\" class=\"data row2 col0\" >shape_MeshVolume</td>\n",
       "                        <td id=\"T_1a96f53e_3349_11ed_bc06_784f437c194arow2_col1\" class=\"data row2 col1\" >0.800702</td>\n",
       "            </tr>\n",
       "            <tr>\n",
       "                                <td id=\"T_1a96f53e_3349_11ed_bc06_784f437c194arow3_col0\" class=\"data row3 col0\" >firstorder_Maximum</td>\n",
       "                        <td id=\"T_1a96f53e_3349_11ed_bc06_784f437c194arow3_col1\" class=\"data row3 col1\" >0.684038</td>\n",
       "            </tr>\n",
       "            <tr>\n",
       "                                <td id=\"T_1a96f53e_3349_11ed_bc06_784f437c194arow4_col0\" class=\"data row4 col0\" >shape_Sphericity</td>\n",
       "                        <td id=\"T_1a96f53e_3349_11ed_bc06_784f437c194arow4_col1\" class=\"data row4 col1\" >-0.386012</td>\n",
       "            </tr>\n",
       "            <tr>\n",
       "                                <td id=\"T_1a96f53e_3349_11ed_bc06_784f437c194arow5_col0\" class=\"data row5 col0\" >firstorder_Kurtosis</td>\n",
       "                        <td id=\"T_1a96f53e_3349_11ed_bc06_784f437c194arow5_col1\" class=\"data row5 col1\" >-0.312708</td>\n",
       "            </tr>\n",
       "            <tr>\n",
       "                                <td id=\"T_1a96f53e_3349_11ed_bc06_784f437c194arow6_col0\" class=\"data row6 col0\" >shape_Elongation</td>\n",
       "                        <td id=\"T_1a96f53e_3349_11ed_bc06_784f437c194arow6_col1\" class=\"data row6 col1\" >-0.225065</td>\n",
       "            </tr>\n",
       "            <tr>\n",
       "                                <td id=\"T_1a96f53e_3349_11ed_bc06_784f437c194arow7_col0\" class=\"data row7 col0\" >firstorder_RootMeanSquared</td>\n",
       "                        <td id=\"T_1a96f53e_3349_11ed_bc06_784f437c194arow7_col1\" class=\"data row7 col1\" >-0.166545</td>\n",
       "            </tr>\n",
       "            <tr>\n",
       "                                <td id=\"T_1a96f53e_3349_11ed_bc06_784f437c194arow8_col0\" class=\"data row8 col0\" >firstorder_Minimum</td>\n",
       "                        <td id=\"T_1a96f53e_3349_11ed_bc06_784f437c194arow8_col1\" class=\"data row8 col1\" >-0.001687</td>\n",
       "            </tr>\n",
       "    </tbody></table>"
      ],
      "text/plain": [
       "<pandas.io.formats.style.Styler at 0x7fa13f36f710>"
      ]
     },
     "metadata": {},
     "output_type": "display_data"
    },
    {
     "name": "stdout",
     "output_type": "stream",
     "text": [
      "\n",
      "\n",
      "firstorder|histogram|glcm|gldm|glszm|glrlm|ngtdm\n"
     ]
    },
    {
     "data": {
      "text/html": [
       "<style  type=\"text/css\" >\n",
       "</style><table id=\"T_1a9d5294_3349_11ed_af9a_784f437c194a\" ><thead>    <tr>        <th class=\"col_heading level0 col0\" >Feature</th>        <th class=\"col_heading level0 col1\" >Coef</th>    </tr></thead><tbody>\n",
       "                <tr>\n",
       "                                <td id=\"T_1a9d5294_3349_11ed_af9a_784f437c194arow0_col0\" class=\"data row0 col0\" >firstorder_90Percentile</td>\n",
       "                        <td id=\"T_1a9d5294_3349_11ed_af9a_784f437c194arow0_col1\" class=\"data row0 col1\" >-1.797099</td>\n",
       "            </tr>\n",
       "            <tr>\n",
       "                                <td id=\"T_1a9d5294_3349_11ed_af9a_784f437c194arow1_col0\" class=\"data row1 col0\" >glszm_ZoneEntropy</td>\n",
       "                        <td id=\"T_1a9d5294_3349_11ed_af9a_784f437c194arow1_col1\" class=\"data row1 col1\" >1.089305</td>\n",
       "            </tr>\n",
       "            <tr>\n",
       "                                <td id=\"T_1a9d5294_3349_11ed_af9a_784f437c194arow2_col0\" class=\"data row2 col0\" >firstorder_Maximum</td>\n",
       "                        <td id=\"T_1a9d5294_3349_11ed_af9a_784f437c194arow2_col1\" class=\"data row2 col1\" >0.672812</td>\n",
       "            </tr>\n",
       "            <tr>\n",
       "                                <td id=\"T_1a9d5294_3349_11ed_af9a_784f437c194arow3_col0\" class=\"data row3 col0\" >glszm_SmallAreaEmphasis</td>\n",
       "                        <td id=\"T_1a9d5294_3349_11ed_af9a_784f437c194arow3_col1\" class=\"data row3 col1\" >0.623456</td>\n",
       "            </tr>\n",
       "            <tr>\n",
       "                                <td id=\"T_1a9d5294_3349_11ed_af9a_784f437c194arow4_col0\" class=\"data row4 col0\" >firstorder_RootMeanSquared</td>\n",
       "                        <td id=\"T_1a9d5294_3349_11ed_af9a_784f437c194arow4_col1\" class=\"data row4 col1\" >-0.508349</td>\n",
       "            </tr>\n",
       "            <tr>\n",
       "                                <td id=\"T_1a9d5294_3349_11ed_af9a_784f437c194arow5_col0\" class=\"data row5 col0\" >ngtdm_Strength</td>\n",
       "                        <td id=\"T_1a9d5294_3349_11ed_af9a_784f437c194arow5_col1\" class=\"data row5 col1\" >-0.472589</td>\n",
       "            </tr>\n",
       "            <tr>\n",
       "                                <td id=\"T_1a9d5294_3349_11ed_af9a_784f437c194arow6_col0\" class=\"data row6 col0\" >firstorder_InterquartileRange</td>\n",
       "                        <td id=\"T_1a9d5294_3349_11ed_af9a_784f437c194arow6_col1\" class=\"data row6 col1\" >0.415921</td>\n",
       "            </tr>\n",
       "            <tr>\n",
       "                                <td id=\"T_1a9d5294_3349_11ed_af9a_784f437c194arow7_col0\" class=\"data row7 col0\" >gldm_DependenceNonUniformityNormalized</td>\n",
       "                        <td id=\"T_1a9d5294_3349_11ed_af9a_784f437c194arow7_col1\" class=\"data row7 col1\" >-0.149135</td>\n",
       "            </tr>\n",
       "            <tr>\n",
       "                                <td id=\"T_1a9d5294_3349_11ed_af9a_784f437c194arow8_col0\" class=\"data row8 col0\" >glszm_LargeAreaLowGrayLevelEmphasis</td>\n",
       "                        <td id=\"T_1a9d5294_3349_11ed_af9a_784f437c194arow8_col1\" class=\"data row8 col1\" >0.090037</td>\n",
       "            </tr>\n",
       "            <tr>\n",
       "                                <td id=\"T_1a9d5294_3349_11ed_af9a_784f437c194arow9_col0\" class=\"data row9 col0\" >firstorder_Skewness</td>\n",
       "                        <td id=\"T_1a9d5294_3349_11ed_af9a_784f437c194arow9_col1\" class=\"data row9 col1\" >0.013430</td>\n",
       "            </tr>\n",
       "    </tbody></table>"
      ],
      "text/plain": [
       "<pandas.io.formats.style.Styler at 0x7fa151c92e48>"
      ]
     },
     "metadata": {},
     "output_type": "display_data"
    },
    {
     "name": "stdout",
     "output_type": "stream",
     "text": [
      "\n",
      "\n",
      "shape|firstorder|histogram\n"
     ]
    },
    {
     "data": {
      "text/html": [
       "<style  type=\"text/css\" >\n",
       "</style><table id=\"T_1a9ead2e_3349_11ed_8be5_784f437c194a\" ><thead>    <tr>        <th class=\"col_heading level0 col0\" >Feature</th>        <th class=\"col_heading level0 col1\" >Coef</th>    </tr></thead><tbody>\n",
       "                <tr>\n",
       "                                <td id=\"T_1a9ead2e_3349_11ed_8be5_784f437c194arow0_col0\" class=\"data row0 col0\" >firstorder_90Percentile</td>\n",
       "                        <td id=\"T_1a9ead2e_3349_11ed_8be5_784f437c194arow0_col1\" class=\"data row0 col1\" >-2.065868</td>\n",
       "            </tr>\n",
       "            <tr>\n",
       "                                <td id=\"T_1a9ead2e_3349_11ed_8be5_784f437c194arow1_col0\" class=\"data row1 col0\" >firstorder_Maximum</td>\n",
       "                        <td id=\"T_1a9ead2e_3349_11ed_8be5_784f437c194arow1_col1\" class=\"data row1 col1\" >1.206988</td>\n",
       "            </tr>\n",
       "            <tr>\n",
       "                                <td id=\"T_1a9ead2e_3349_11ed_8be5_784f437c194arow2_col0\" class=\"data row2 col0\" >firstorder_Uniformity</td>\n",
       "                        <td id=\"T_1a9ead2e_3349_11ed_8be5_784f437c194arow2_col1\" class=\"data row2 col1\" >-1.138027</td>\n",
       "            </tr>\n",
       "            <tr>\n",
       "                                <td id=\"T_1a9ead2e_3349_11ed_8be5_784f437c194arow3_col0\" class=\"data row3 col0\" >shape_MeshVolume</td>\n",
       "                        <td id=\"T_1a9ead2e_3349_11ed_8be5_784f437c194arow3_col1\" class=\"data row3 col1\" >0.950708</td>\n",
       "            </tr>\n",
       "            <tr>\n",
       "                                <td id=\"T_1a9ead2e_3349_11ed_8be5_784f437c194arow4_col0\" class=\"data row4 col0\" >shape_Elongation</td>\n",
       "                        <td id=\"T_1a9ead2e_3349_11ed_8be5_784f437c194arow4_col1\" class=\"data row4 col1\" >-0.924666</td>\n",
       "            </tr>\n",
       "            <tr>\n",
       "                                <td id=\"T_1a9ead2e_3349_11ed_8be5_784f437c194arow5_col0\" class=\"data row5 col0\" >shape_Flatness</td>\n",
       "                        <td id=\"T_1a9ead2e_3349_11ed_8be5_784f437c194arow5_col1\" class=\"data row5 col1\" >0.775903</td>\n",
       "            </tr>\n",
       "            <tr>\n",
       "                                <td id=\"T_1a9ead2e_3349_11ed_8be5_784f437c194arow6_col0\" class=\"data row6 col0\" >shape_Sphericity</td>\n",
       "                        <td id=\"T_1a9ead2e_3349_11ed_8be5_784f437c194arow6_col1\" class=\"data row6 col1\" >-0.502862</td>\n",
       "            </tr>\n",
       "            <tr>\n",
       "                                <td id=\"T_1a9ead2e_3349_11ed_8be5_784f437c194arow7_col0\" class=\"data row7 col0\" >firstorder_Skewness</td>\n",
       "                        <td id=\"T_1a9ead2e_3349_11ed_8be5_784f437c194arow7_col1\" class=\"data row7 col1\" >0.384030</td>\n",
       "            </tr>\n",
       "            <tr>\n",
       "                                <td id=\"T_1a9ead2e_3349_11ed_8be5_784f437c194arow8_col0\" class=\"data row8 col0\" >firstorder_RootMeanSquared</td>\n",
       "                        <td id=\"T_1a9ead2e_3349_11ed_8be5_784f437c194arow8_col1\" class=\"data row8 col1\" >-0.356050</td>\n",
       "            </tr>\n",
       "            <tr>\n",
       "                                <td id=\"T_1a9ead2e_3349_11ed_8be5_784f437c194arow9_col0\" class=\"data row9 col0\" >firstorder_Kurtosis</td>\n",
       "                        <td id=\"T_1a9ead2e_3349_11ed_8be5_784f437c194arow9_col1\" class=\"data row9 col1\" >0.245206</td>\n",
       "            </tr>\n",
       "            <tr>\n",
       "                                <td id=\"T_1a9ead2e_3349_11ed_8be5_784f437c194arow10_col0\" class=\"data row10 col0\" >firstorder_Minimum</td>\n",
       "                        <td id=\"T_1a9ead2e_3349_11ed_8be5_784f437c194arow10_col1\" class=\"data row10 col1\" >0.046534</td>\n",
       "            </tr>\n",
       "    </tbody></table>"
      ],
      "text/plain": [
       "<pandas.io.formats.style.Styler at 0x7fa148aaee48>"
      ]
     },
     "metadata": {},
     "output_type": "display_data"
    },
    {
     "name": "stdout",
     "output_type": "stream",
     "text": [
      "\n",
      "\n",
      "shape|glcm|gldm|glszm|glrlm|ngtdm\n"
     ]
    },
    {
     "data": {
      "text/html": [
       "<style  type=\"text/css\" >\n",
       "</style><table id=\"T_1aa1593e_3349_11ed_b135_784f437c194a\" ><thead>    <tr>        <th class=\"col_heading level0 col0\" >Feature</th>        <th class=\"col_heading level0 col1\" >Coef</th>    </tr></thead><tbody>\n",
       "                <tr>\n",
       "                                <td id=\"T_1aa1593e_3349_11ed_b135_784f437c194arow0_col0\" class=\"data row0 col0\" >shape_MeshVolume</td>\n",
       "                        <td id=\"T_1aa1593e_3349_11ed_b135_784f437c194arow0_col1\" class=\"data row0 col1\" >1.258791</td>\n",
       "            </tr>\n",
       "            <tr>\n",
       "                                <td id=\"T_1aa1593e_3349_11ed_b135_784f437c194arow1_col0\" class=\"data row1 col0\" >glszm_ZoneEntropy</td>\n",
       "                        <td id=\"T_1aa1593e_3349_11ed_b135_784f437c194arow1_col1\" class=\"data row1 col1\" >1.056165</td>\n",
       "            </tr>\n",
       "            <tr>\n",
       "                                <td id=\"T_1aa1593e_3349_11ed_b135_784f437c194arow2_col0\" class=\"data row2 col0\" >shape_Sphericity</td>\n",
       "                        <td id=\"T_1aa1593e_3349_11ed_b135_784f437c194arow2_col1\" class=\"data row2 col1\" >-0.721340</td>\n",
       "            </tr>\n",
       "            <tr>\n",
       "                                <td id=\"T_1aa1593e_3349_11ed_b135_784f437c194arow3_col0\" class=\"data row3 col0\" >glszm_SmallAreaEmphasis</td>\n",
       "                        <td id=\"T_1aa1593e_3349_11ed_b135_784f437c194arow3_col1\" class=\"data row3 col1\" >0.681474</td>\n",
       "            </tr>\n",
       "            <tr>\n",
       "                                <td id=\"T_1aa1593e_3349_11ed_b135_784f437c194arow4_col0\" class=\"data row4 col0\" >glszm_LargeAreaLowGrayLevelEmphasis</td>\n",
       "                        <td id=\"T_1aa1593e_3349_11ed_b135_784f437c194arow4_col1\" class=\"data row4 col1\" >0.300399</td>\n",
       "            </tr>\n",
       "            <tr>\n",
       "                                <td id=\"T_1aa1593e_3349_11ed_b135_784f437c194arow5_col0\" class=\"data row5 col0\" >shape_Elongation</td>\n",
       "                        <td id=\"T_1aa1593e_3349_11ed_b135_784f437c194arow5_col1\" class=\"data row5 col1\" >-0.270349</td>\n",
       "            </tr>\n",
       "            <tr>\n",
       "                                <td id=\"T_1aa1593e_3349_11ed_b135_784f437c194arow6_col0\" class=\"data row6 col0\" >ngtdm_Strength</td>\n",
       "                        <td id=\"T_1aa1593e_3349_11ed_b135_784f437c194arow6_col1\" class=\"data row6 col1\" >-0.125684</td>\n",
       "            </tr>\n",
       "            <tr>\n",
       "                                <td id=\"T_1aa1593e_3349_11ed_b135_784f437c194arow7_col0\" class=\"data row7 col0\" >ngtdm_Contrast</td>\n",
       "                        <td id=\"T_1aa1593e_3349_11ed_b135_784f437c194arow7_col1\" class=\"data row7 col1\" >-0.093275</td>\n",
       "            </tr>\n",
       "            <tr>\n",
       "                                <td id=\"T_1aa1593e_3349_11ed_b135_784f437c194arow8_col0\" class=\"data row8 col0\" >gldm_DependenceNonUniformityNormalized</td>\n",
       "                        <td id=\"T_1aa1593e_3349_11ed_b135_784f437c194arow8_col1\" class=\"data row8 col1\" >-0.066685</td>\n",
       "            </tr>\n",
       "    </tbody></table>"
      ],
      "text/plain": [
       "<pandas.io.formats.style.Styler at 0x7fa14e3835c0>"
      ]
     },
     "metadata": {},
     "output_type": "display_data"
    },
    {
     "name": "stdout",
     "output_type": "stream",
     "text": [
      "\n",
      "\n",
      "\n"
     ]
    },
    {
     "data": {
      "text/html": [
       "<style  type=\"text/css\" >\n",
       "</style><table id=\"T_1aa2bffe_3349_11ed_88b5_784f437c194a\" ><thead>    <tr>        <th class=\"col_heading level0 col0\" >Feature</th>        <th class=\"col_heading level0 col1\" >Coef</th>    </tr></thead><tbody>\n",
       "                <tr>\n",
       "                                <td id=\"T_1aa2bffe_3349_11ed_88b5_784f437c194arow0_col0\" class=\"data row0 col0\" >firstorder_90Percentile</td>\n",
       "                        <td id=\"T_1aa2bffe_3349_11ed_88b5_784f437c194arow0_col1\" class=\"data row0 col1\" >-1.424856</td>\n",
       "            </tr>\n",
       "            <tr>\n",
       "                                <td id=\"T_1aa2bffe_3349_11ed_88b5_784f437c194arow1_col0\" class=\"data row1 col0\" >glcm_Imc2</td>\n",
       "                        <td id=\"T_1aa2bffe_3349_11ed_88b5_784f437c194arow1_col1\" class=\"data row1 col1\" >0.708604</td>\n",
       "            </tr>\n",
       "            <tr>\n",
       "                                <td id=\"T_1aa2bffe_3349_11ed_88b5_784f437c194arow2_col0\" class=\"data row2 col0\" >glszm_SizeZoneNonUniformityNormalized</td>\n",
       "                        <td id=\"T_1aa2bffe_3349_11ed_88b5_784f437c194arow2_col1\" class=\"data row2 col1\" >0.651445</td>\n",
       "            </tr>\n",
       "            <tr>\n",
       "                                <td id=\"T_1aa2bffe_3349_11ed_88b5_784f437c194arow3_col0\" class=\"data row3 col0\" >firstorder_Maximum</td>\n",
       "                        <td id=\"T_1aa2bffe_3349_11ed_88b5_784f437c194arow3_col1\" class=\"data row3 col1\" >0.386288</td>\n",
       "            </tr>\n",
       "            <tr>\n",
       "                                <td id=\"T_1aa2bffe_3349_11ed_88b5_784f437c194arow4_col0\" class=\"data row4 col0\" >firstorder_Uniformity</td>\n",
       "                        <td id=\"T_1aa2bffe_3349_11ed_88b5_784f437c194arow4_col1\" class=\"data row4 col1\" >-0.349811</td>\n",
       "            </tr>\n",
       "            <tr>\n",
       "                                <td id=\"T_1aa2bffe_3349_11ed_88b5_784f437c194arow5_col0\" class=\"data row5 col0\" >firstorder_RootMeanSquared</td>\n",
       "                        <td id=\"T_1aa2bffe_3349_11ed_88b5_784f437c194arow5_col1\" class=\"data row5 col1\" >-0.334757</td>\n",
       "            </tr>\n",
       "            <tr>\n",
       "                                <td id=\"T_1aa2bffe_3349_11ed_88b5_784f437c194arow6_col0\" class=\"data row6 col0\" >shape_Sphericity</td>\n",
       "                        <td id=\"T_1aa2bffe_3349_11ed_88b5_784f437c194arow6_col1\" class=\"data row6 col1\" >-0.238508</td>\n",
       "            </tr>\n",
       "            <tr>\n",
       "                                <td id=\"T_1aa2bffe_3349_11ed_88b5_784f437c194arow7_col0\" class=\"data row7 col0\" >ngtdm_Strength</td>\n",
       "                        <td id=\"T_1aa2bffe_3349_11ed_88b5_784f437c194arow7_col1\" class=\"data row7 col1\" >-0.224021</td>\n",
       "            </tr>\n",
       "            <tr>\n",
       "                                <td id=\"T_1aa2bffe_3349_11ed_88b5_784f437c194arow8_col0\" class=\"data row8 col0\" >shape_MeshVolume</td>\n",
       "                        <td id=\"T_1aa2bffe_3349_11ed_88b5_784f437c194arow8_col1\" class=\"data row8 col1\" >0.203998</td>\n",
       "            </tr>\n",
       "            <tr>\n",
       "                                <td id=\"T_1aa2bffe_3349_11ed_88b5_784f437c194arow9_col0\" class=\"data row9 col0\" >shape_Elongation</td>\n",
       "                        <td id=\"T_1aa2bffe_3349_11ed_88b5_784f437c194arow9_col1\" class=\"data row9 col1\" >-0.185010</td>\n",
       "            </tr>\n",
       "    </tbody></table>"
      ],
      "text/plain": [
       "<pandas.io.formats.style.Styler at 0x7fa13f2cf9b0>"
      ]
     },
     "metadata": {},
     "output_type": "display_data"
    },
    {
     "name": "stdout",
     "output_type": "stream",
     "text": [
      "\n",
      "\n",
      "shape|glcm|gldm|glszm|glrlm|ngtdm\n"
     ]
    },
    {
     "data": {
      "text/html": [
       "<style  type=\"text/css\" >\n",
       "</style><table id=\"T_1aa432c6_3349_11ed_892b_784f437c194a\" ><thead>    <tr>        <th class=\"col_heading level0 col0\" >Feature</th>        <th class=\"col_heading level0 col1\" >Coef</th>    </tr></thead><tbody>\n",
       "                <tr>\n",
       "                                <td id=\"T_1aa432c6_3349_11ed_892b_784f437c194arow0_col0\" class=\"data row0 col0\" >glszm_LargeAreaLowGrayLevelEmphasis</td>\n",
       "                        <td id=\"T_1aa432c6_3349_11ed_892b_784f437c194arow0_col1\" class=\"data row0 col1\" >1.454056</td>\n",
       "            </tr>\n",
       "            <tr>\n",
       "                                <td id=\"T_1aa432c6_3349_11ed_892b_784f437c194arow1_col0\" class=\"data row1 col0\" >shape_MeshVolume</td>\n",
       "                        <td id=\"T_1aa432c6_3349_11ed_892b_784f437c194arow1_col1\" class=\"data row1 col1\" >1.423768</td>\n",
       "            </tr>\n",
       "            <tr>\n",
       "                                <td id=\"T_1aa432c6_3349_11ed_892b_784f437c194arow2_col0\" class=\"data row2 col0\" >glszm_ZoneEntropy</td>\n",
       "                        <td id=\"T_1aa432c6_3349_11ed_892b_784f437c194arow2_col1\" class=\"data row2 col1\" >1.180772</td>\n",
       "            </tr>\n",
       "            <tr>\n",
       "                                <td id=\"T_1aa432c6_3349_11ed_892b_784f437c194arow3_col0\" class=\"data row3 col0\" >shape_Sphericity</td>\n",
       "                        <td id=\"T_1aa432c6_3349_11ed_892b_784f437c194arow3_col1\" class=\"data row3 col1\" >-0.881377</td>\n",
       "            </tr>\n",
       "            <tr>\n",
       "                                <td id=\"T_1aa432c6_3349_11ed_892b_784f437c194arow4_col0\" class=\"data row4 col0\" >glszm_SmallAreaEmphasis</td>\n",
       "                        <td id=\"T_1aa432c6_3349_11ed_892b_784f437c194arow4_col1\" class=\"data row4 col1\" >0.847040</td>\n",
       "            </tr>\n",
       "            <tr>\n",
       "                                <td id=\"T_1aa432c6_3349_11ed_892b_784f437c194arow5_col0\" class=\"data row5 col0\" >shape_Elongation</td>\n",
       "                        <td id=\"T_1aa432c6_3349_11ed_892b_784f437c194arow5_col1\" class=\"data row5 col1\" >-0.329442</td>\n",
       "            </tr>\n",
       "            <tr>\n",
       "                                <td id=\"T_1aa432c6_3349_11ed_892b_784f437c194arow6_col0\" class=\"data row6 col0\" >ngtdm_Strength</td>\n",
       "                        <td id=\"T_1aa432c6_3349_11ed_892b_784f437c194arow6_col1\" class=\"data row6 col1\" >-0.098974</td>\n",
       "            </tr>\n",
       "    </tbody></table>"
      ],
      "text/plain": [
       "<pandas.io.formats.style.Styler at 0x7fa13bb0bbe0>"
      ]
     },
     "metadata": {},
     "output_type": "display_data"
    },
    {
     "name": "stdout",
     "output_type": "stream",
     "text": [
      "\n",
      "\n",
      "firstorder|histogram\n"
     ]
    },
    {
     "data": {
      "text/html": [
       "<style  type=\"text/css\" >\n",
       "</style><table id=\"T_1aa5ca3a_3349_11ed_acfb_784f437c194a\" ><thead>    <tr>        <th class=\"col_heading level0 col0\" >Feature</th>        <th class=\"col_heading level0 col1\" >Coef</th>    </tr></thead><tbody>\n",
       "                <tr>\n",
       "                                <td id=\"T_1aa5ca3a_3349_11ed_acfb_784f437c194arow0_col0\" class=\"data row0 col0\" >firstorder_90Percentile</td>\n",
       "                        <td id=\"T_1aa5ca3a_3349_11ed_acfb_784f437c194arow0_col1\" class=\"data row0 col1\" >-1.675223</td>\n",
       "            </tr>\n",
       "            <tr>\n",
       "                                <td id=\"T_1aa5ca3a_3349_11ed_acfb_784f437c194arow1_col0\" class=\"data row1 col0\" >firstorder_InterquartileRange</td>\n",
       "                        <td id=\"T_1aa5ca3a_3349_11ed_acfb_784f437c194arow1_col1\" class=\"data row1 col1\" >1.070702</td>\n",
       "            </tr>\n",
       "            <tr>\n",
       "                                <td id=\"T_1aa5ca3a_3349_11ed_acfb_784f437c194arow2_col0\" class=\"data row2 col0\" >firstorder_Maximum</td>\n",
       "                        <td id=\"T_1aa5ca3a_3349_11ed_acfb_784f437c194arow2_col1\" class=\"data row2 col1\" >0.738790</td>\n",
       "            </tr>\n",
       "            <tr>\n",
       "                                <td id=\"T_1aa5ca3a_3349_11ed_acfb_784f437c194arow3_col0\" class=\"data row3 col0\" >firstorder_Kurtosis</td>\n",
       "                        <td id=\"T_1aa5ca3a_3349_11ed_acfb_784f437c194arow3_col1\" class=\"data row3 col1\" >-0.523046</td>\n",
       "            </tr>\n",
       "            <tr>\n",
       "                                <td id=\"T_1aa5ca3a_3349_11ed_acfb_784f437c194arow4_col0\" class=\"data row4 col0\" >firstorder_Range</td>\n",
       "                        <td id=\"T_1aa5ca3a_3349_11ed_acfb_784f437c194arow4_col1\" class=\"data row4 col1\" >0.500664</td>\n",
       "            </tr>\n",
       "            <tr>\n",
       "                                <td id=\"T_1aa5ca3a_3349_11ed_acfb_784f437c194arow5_col0\" class=\"data row5 col0\" >firstorder_RootMeanSquared</td>\n",
       "                        <td id=\"T_1aa5ca3a_3349_11ed_acfb_784f437c194arow5_col1\" class=\"data row5 col1\" >-0.257282</td>\n",
       "            </tr>\n",
       "    </tbody></table>"
      ],
      "text/plain": [
       "<pandas.io.formats.style.Styler at 0x7fa13f36fe48>"
      ]
     },
     "metadata": {},
     "output_type": "display_data"
    },
    {
     "name": "stdout",
     "output_type": "stream",
     "text": [
      "\n",
      "\n",
      "shape|firstorder|histogram\n"
     ]
    },
    {
     "data": {
      "text/html": [
       "<style  type=\"text/css\" >\n",
       "</style><table id=\"T_1aa72bd4_3349_11ed_b52c_784f437c194a\" ><thead>    <tr>        <th class=\"col_heading level0 col0\" >Feature</th>        <th class=\"col_heading level0 col1\" >Coef</th>    </tr></thead><tbody>\n",
       "                <tr>\n",
       "                                <td id=\"T_1aa72bd4_3349_11ed_b52c_784f437c194arow0_col0\" class=\"data row0 col0\" >firstorder_90Percentile</td>\n",
       "                        <td id=\"T_1aa72bd4_3349_11ed_b52c_784f437c194arow0_col1\" class=\"data row0 col1\" >-1.308537</td>\n",
       "            </tr>\n",
       "            <tr>\n",
       "                                <td id=\"T_1aa72bd4_3349_11ed_b52c_784f437c194arow1_col0\" class=\"data row1 col0\" >firstorder_Uniformity</td>\n",
       "                        <td id=\"T_1aa72bd4_3349_11ed_b52c_784f437c194arow1_col1\" class=\"data row1 col1\" >-0.786043</td>\n",
       "            </tr>\n",
       "            <tr>\n",
       "                                <td id=\"T_1aa72bd4_3349_11ed_b52c_784f437c194arow2_col0\" class=\"data row2 col0\" >shape_Sphericity</td>\n",
       "                        <td id=\"T_1aa72bd4_3349_11ed_b52c_784f437c194arow2_col1\" class=\"data row2 col1\" >-0.483505</td>\n",
       "            </tr>\n",
       "            <tr>\n",
       "                                <td id=\"T_1aa72bd4_3349_11ed_b52c_784f437c194arow3_col0\" class=\"data row3 col0\" >firstorder_RootMeanSquared</td>\n",
       "                        <td id=\"T_1aa72bd4_3349_11ed_b52c_784f437c194arow3_col1\" class=\"data row3 col1\" >-0.414354</td>\n",
       "            </tr>\n",
       "            <tr>\n",
       "                                <td id=\"T_1aa72bd4_3349_11ed_b52c_784f437c194arow4_col0\" class=\"data row4 col0\" >shape_MeshVolume</td>\n",
       "                        <td id=\"T_1aa72bd4_3349_11ed_b52c_784f437c194arow4_col1\" class=\"data row4 col1\" >0.404564</td>\n",
       "            </tr>\n",
       "            <tr>\n",
       "                                <td id=\"T_1aa72bd4_3349_11ed_b52c_784f437c194arow5_col0\" class=\"data row5 col0\" >shape_Elongation</td>\n",
       "                        <td id=\"T_1aa72bd4_3349_11ed_b52c_784f437c194arow5_col1\" class=\"data row5 col1\" >-0.253005</td>\n",
       "            </tr>\n",
       "            <tr>\n",
       "                                <td id=\"T_1aa72bd4_3349_11ed_b52c_784f437c194arow6_col0\" class=\"data row6 col0\" >firstorder_Maximum</td>\n",
       "                        <td id=\"T_1aa72bd4_3349_11ed_b52c_784f437c194arow6_col1\" class=\"data row6 col1\" >0.158372</td>\n",
       "            </tr>\n",
       "            <tr>\n",
       "                                <td id=\"T_1aa72bd4_3349_11ed_b52c_784f437c194arow7_col0\" class=\"data row7 col0\" >firstorder_Kurtosis</td>\n",
       "                        <td id=\"T_1aa72bd4_3349_11ed_b52c_784f437c194arow7_col1\" class=\"data row7 col1\" >-0.055254</td>\n",
       "            </tr>\n",
       "    </tbody></table>"
      ],
      "text/plain": [
       "<pandas.io.formats.style.Styler at 0x7fa13f36f4a8>"
      ]
     },
     "metadata": {},
     "output_type": "display_data"
    },
    {
     "name": "stdout",
     "output_type": "stream",
     "text": [
      "\n",
      "\n",
      "firstorder|histogram\n"
     ]
    },
    {
     "data": {
      "text/html": [
       "<style  type=\"text/css\" >\n",
       "</style><table id=\"T_1aa8983e_3349_11ed_94b6_784f437c194a\" ><thead>    <tr>        <th class=\"col_heading level0 col0\" >Feature</th>        <th class=\"col_heading level0 col1\" >Coef</th>    </tr></thead><tbody>\n",
       "                <tr>\n",
       "                                <td id=\"T_1aa8983e_3349_11ed_94b6_784f437c194arow0_col0\" class=\"data row0 col0\" >firstorder_Median</td>\n",
       "                        <td id=\"T_1aa8983e_3349_11ed_94b6_784f437c194arow0_col1\" class=\"data row0 col1\" >-2.028863</td>\n",
       "            </tr>\n",
       "            <tr>\n",
       "                                <td id=\"T_1aa8983e_3349_11ed_94b6_784f437c194arow1_col0\" class=\"data row1 col0\" >firstorder_Maximum</td>\n",
       "                        <td id=\"T_1aa8983e_3349_11ed_94b6_784f437c194arow1_col1\" class=\"data row1 col1\" >0.950394</td>\n",
       "            </tr>\n",
       "            <tr>\n",
       "                                <td id=\"T_1aa8983e_3349_11ed_94b6_784f437c194arow2_col0\" class=\"data row2 col0\" >firstorder_Kurtosis</td>\n",
       "                        <td id=\"T_1aa8983e_3349_11ed_94b6_784f437c194arow2_col1\" class=\"data row2 col1\" >-0.448005</td>\n",
       "            </tr>\n",
       "            <tr>\n",
       "                                <td id=\"T_1aa8983e_3349_11ed_94b6_784f437c194arow3_col0\" class=\"data row3 col0\" >firstorder_InterquartileRange</td>\n",
       "                        <td id=\"T_1aa8983e_3349_11ed_94b6_784f437c194arow3_col1\" class=\"data row3 col1\" >0.428633</td>\n",
       "            </tr>\n",
       "            <tr>\n",
       "                                <td id=\"T_1aa8983e_3349_11ed_94b6_784f437c194arow4_col0\" class=\"data row4 col0\" >firstorder_RootMeanSquared</td>\n",
       "                        <td id=\"T_1aa8983e_3349_11ed_94b6_784f437c194arow4_col1\" class=\"data row4 col1\" >-0.359653</td>\n",
       "            </tr>\n",
       "            <tr>\n",
       "                                <td id=\"T_1aa8983e_3349_11ed_94b6_784f437c194arow5_col0\" class=\"data row5 col0\" >firstorder_Minimum</td>\n",
       "                        <td id=\"T_1aa8983e_3349_11ed_94b6_784f437c194arow5_col1\" class=\"data row5 col1\" >-0.145443</td>\n",
       "            </tr>\n",
       "    </tbody></table>"
      ],
      "text/plain": [
       "<pandas.io.formats.style.Styler at 0x7fa14e3835c0>"
      ]
     },
     "metadata": {},
     "output_type": "display_data"
    },
    {
     "name": "stdout",
     "output_type": "stream",
     "text": [
      "\n",
      "\n",
      "shape|firstorder|histogram\n"
     ]
    },
    {
     "data": {
      "text/html": [
       "<style  type=\"text/css\" >\n",
       "</style><table id=\"T_1aaa39dc_3349_11ed_9f80_784f437c194a\" ><thead>    <tr>        <th class=\"col_heading level0 col0\" >Feature</th>        <th class=\"col_heading level0 col1\" >Coef</th>    </tr></thead><tbody>\n",
       "                <tr>\n",
       "                                <td id=\"T_1aaa39dc_3349_11ed_9f80_784f437c194arow0_col0\" class=\"data row0 col0\" >firstorder_90Percentile</td>\n",
       "                        <td id=\"T_1aaa39dc_3349_11ed_9f80_784f437c194arow0_col1\" class=\"data row0 col1\" >-2.010750</td>\n",
       "            </tr>\n",
       "            <tr>\n",
       "                                <td id=\"T_1aaa39dc_3349_11ed_9f80_784f437c194arow1_col0\" class=\"data row1 col0\" >firstorder_Maximum</td>\n",
       "                        <td id=\"T_1aaa39dc_3349_11ed_9f80_784f437c194arow1_col1\" class=\"data row1 col1\" >1.545127</td>\n",
       "            </tr>\n",
       "            <tr>\n",
       "                                <td id=\"T_1aaa39dc_3349_11ed_9f80_784f437c194arow2_col0\" class=\"data row2 col0\" >firstorder_InterquartileRange</td>\n",
       "                        <td id=\"T_1aaa39dc_3349_11ed_9f80_784f437c194arow2_col1\" class=\"data row2 col1\" >1.243771</td>\n",
       "            </tr>\n",
       "            <tr>\n",
       "                                <td id=\"T_1aaa39dc_3349_11ed_9f80_784f437c194arow3_col0\" class=\"data row3 col0\" >firstorder_Kurtosis</td>\n",
       "                        <td id=\"T_1aaa39dc_3349_11ed_9f80_784f437c194arow3_col1\" class=\"data row3 col1\" >-0.744601</td>\n",
       "            </tr>\n",
       "            <tr>\n",
       "                                <td id=\"T_1aaa39dc_3349_11ed_9f80_784f437c194arow4_col0\" class=\"data row4 col0\" >shape_Elongation</td>\n",
       "                        <td id=\"T_1aaa39dc_3349_11ed_9f80_784f437c194arow4_col1\" class=\"data row4 col1\" >-0.659462</td>\n",
       "            </tr>\n",
       "            <tr>\n",
       "                                <td id=\"T_1aaa39dc_3349_11ed_9f80_784f437c194arow5_col0\" class=\"data row5 col0\" >shape_MeshVolume</td>\n",
       "                        <td id=\"T_1aaa39dc_3349_11ed_9f80_784f437c194arow5_col1\" class=\"data row5 col1\" >0.592106</td>\n",
       "            </tr>\n",
       "            <tr>\n",
       "                                <td id=\"T_1aaa39dc_3349_11ed_9f80_784f437c194arow6_col0\" class=\"data row6 col0\" >shape_Flatness</td>\n",
       "                        <td id=\"T_1aaa39dc_3349_11ed_9f80_784f437c194arow6_col1\" class=\"data row6 col1\" >0.585756</td>\n",
       "            </tr>\n",
       "            <tr>\n",
       "                                <td id=\"T_1aaa39dc_3349_11ed_9f80_784f437c194arow7_col0\" class=\"data row7 col0\" >firstorder_RootMeanSquared</td>\n",
       "                        <td id=\"T_1aaa39dc_3349_11ed_9f80_784f437c194arow7_col1\" class=\"data row7 col1\" >-0.303452</td>\n",
       "            </tr>\n",
       "            <tr>\n",
       "                                <td id=\"T_1aaa39dc_3349_11ed_9f80_784f437c194arow8_col0\" class=\"data row8 col0\" >shape_Sphericity</td>\n",
       "                        <td id=\"T_1aaa39dc_3349_11ed_9f80_784f437c194arow8_col1\" class=\"data row8 col1\" >-0.202534</td>\n",
       "            </tr>\n",
       "    </tbody></table>"
      ],
      "text/plain": [
       "<pandas.io.formats.style.Styler at 0x7fa13bb0b080>"
      ]
     },
     "metadata": {},
     "output_type": "display_data"
    },
    {
     "name": "stdout",
     "output_type": "stream",
     "text": [
      "\n",
      "\n",
      "\n"
     ]
    },
    {
     "data": {
      "text/html": [
       "<style  type=\"text/css\" >\n",
       "</style><table id=\"T_1aab66ae_3349_11ed_9bce_784f437c194a\" ><thead>    <tr>        <th class=\"col_heading level0 col0\" >Feature</th>        <th class=\"col_heading level0 col1\" >Coef</th>    </tr></thead><tbody>\n",
       "                <tr>\n",
       "                                <td id=\"T_1aab66ae_3349_11ed_9bce_784f437c194arow0_col0\" class=\"data row0 col0\" >firstorder_90Percentile</td>\n",
       "                        <td id=\"T_1aab66ae_3349_11ed_9bce_784f437c194arow0_col1\" class=\"data row0 col1\" >-1.482086</td>\n",
       "            </tr>\n",
       "            <tr>\n",
       "                                <td id=\"T_1aab66ae_3349_11ed_9bce_784f437c194arow1_col0\" class=\"data row1 col0\" >firstorder_InterquartileRange</td>\n",
       "                        <td id=\"T_1aab66ae_3349_11ed_9bce_784f437c194arow1_col1\" class=\"data row1 col1\" >1.003620</td>\n",
       "            </tr>\n",
       "            <tr>\n",
       "                                <td id=\"T_1aab66ae_3349_11ed_9bce_784f437c194arow2_col0\" class=\"data row2 col0\" >firstorder_Maximum</td>\n",
       "                        <td id=\"T_1aab66ae_3349_11ed_9bce_784f437c194arow2_col1\" class=\"data row2 col1\" >0.497345</td>\n",
       "            </tr>\n",
       "            <tr>\n",
       "                                <td id=\"T_1aab66ae_3349_11ed_9bce_784f437c194arow3_col0\" class=\"data row3 col0\" >shape_Sphericity</td>\n",
       "                        <td id=\"T_1aab66ae_3349_11ed_9bce_784f437c194arow3_col1\" class=\"data row3 col1\" >-0.449021</td>\n",
       "            </tr>\n",
       "            <tr>\n",
       "                                <td id=\"T_1aab66ae_3349_11ed_9bce_784f437c194arow4_col0\" class=\"data row4 col0\" >ngtdm_Strength</td>\n",
       "                        <td id=\"T_1aab66ae_3349_11ed_9bce_784f437c194arow4_col1\" class=\"data row4 col1\" >-0.408399</td>\n",
       "            </tr>\n",
       "            <tr>\n",
       "                                <td id=\"T_1aab66ae_3349_11ed_9bce_784f437c194arow5_col0\" class=\"data row5 col0\" >shape_MeshVolume</td>\n",
       "                        <td id=\"T_1aab66ae_3349_11ed_9bce_784f437c194arow5_col1\" class=\"data row5 col1\" >0.349337</td>\n",
       "            </tr>\n",
       "            <tr>\n",
       "                                <td id=\"T_1aab66ae_3349_11ed_9bce_784f437c194arow6_col0\" class=\"data row6 col0\" >firstorder_RootMeanSquared</td>\n",
       "                        <td id=\"T_1aab66ae_3349_11ed_9bce_784f437c194arow6_col1\" class=\"data row6 col1\" >-0.342437</td>\n",
       "            </tr>\n",
       "            <tr>\n",
       "                                <td id=\"T_1aab66ae_3349_11ed_9bce_784f437c194arow7_col0\" class=\"data row7 col0\" >shape_Elongation</td>\n",
       "                        <td id=\"T_1aab66ae_3349_11ed_9bce_784f437c194arow7_col1\" class=\"data row7 col1\" >-0.288222</td>\n",
       "            </tr>\n",
       "            <tr>\n",
       "                                <td id=\"T_1aab66ae_3349_11ed_9bce_784f437c194arow8_col0\" class=\"data row8 col0\" >glszm_SmallAreaEmphasis</td>\n",
       "                        <td id=\"T_1aab66ae_3349_11ed_9bce_784f437c194arow8_col1\" class=\"data row8 col1\" >0.153608</td>\n",
       "            </tr>\n",
       "            <tr>\n",
       "                                <td id=\"T_1aab66ae_3349_11ed_9bce_784f437c194arow9_col0\" class=\"data row9 col0\" >ngtdm_Contrast</td>\n",
       "                        <td id=\"T_1aab66ae_3349_11ed_9bce_784f437c194arow9_col1\" class=\"data row9 col1\" >-0.136441</td>\n",
       "            </tr>\n",
       "    </tbody></table>"
      ],
      "text/plain": [
       "<pandas.io.formats.style.Styler at 0x7fa13f2cf9b0>"
      ]
     },
     "metadata": {},
     "output_type": "display_data"
    },
    {
     "name": "stdout",
     "output_type": "stream",
     "text": [
      "\n",
      "\n",
      "\n"
     ]
    },
    {
     "data": {
      "text/html": [
       "<style  type=\"text/css\" >\n",
       "</style><table id=\"T_1aad0626_3349_11ed_b724_784f437c194a\" ><thead>    <tr>        <th class=\"col_heading level0 col0\" >Feature</th>        <th class=\"col_heading level0 col1\" >Coef</th>    </tr></thead><tbody>\n",
       "                <tr>\n",
       "                                <td id=\"T_1aad0626_3349_11ed_b724_784f437c194arow0_col0\" class=\"data row0 col0\" >firstorder_90Percentile</td>\n",
       "                        <td id=\"T_1aad0626_3349_11ed_b724_784f437c194arow0_col1\" class=\"data row0 col1\" >-1.540671</td>\n",
       "            </tr>\n",
       "            <tr>\n",
       "                                <td id=\"T_1aad0626_3349_11ed_b724_784f437c194arow1_col0\" class=\"data row1 col0\" >firstorder_InterquartileRange</td>\n",
       "                        <td id=\"T_1aad0626_3349_11ed_b724_784f437c194arow1_col1\" class=\"data row1 col1\" >1.061276</td>\n",
       "            </tr>\n",
       "            <tr>\n",
       "                                <td id=\"T_1aad0626_3349_11ed_b724_784f437c194arow2_col0\" class=\"data row2 col0\" >firstorder_Maximum</td>\n",
       "                        <td id=\"T_1aad0626_3349_11ed_b724_784f437c194arow2_col1\" class=\"data row2 col1\" >0.834741</td>\n",
       "            </tr>\n",
       "            <tr>\n",
       "                                <td id=\"T_1aad0626_3349_11ed_b724_784f437c194arow3_col0\" class=\"data row3 col0\" >shape_MeshVolume</td>\n",
       "                        <td id=\"T_1aad0626_3349_11ed_b724_784f437c194arow3_col1\" class=\"data row3 col1\" >0.466567</td>\n",
       "            </tr>\n",
       "            <tr>\n",
       "                                <td id=\"T_1aad0626_3349_11ed_b724_784f437c194arow4_col0\" class=\"data row4 col0\" >ngtdm_Strength</td>\n",
       "                        <td id=\"T_1aad0626_3349_11ed_b724_784f437c194arow4_col1\" class=\"data row4 col1\" >-0.341414</td>\n",
       "            </tr>\n",
       "            <tr>\n",
       "                                <td id=\"T_1aad0626_3349_11ed_b724_784f437c194arow5_col0\" class=\"data row5 col0\" >shape_Sphericity</td>\n",
       "                        <td id=\"T_1aad0626_3349_11ed_b724_784f437c194arow5_col1\" class=\"data row5 col1\" >-0.199094</td>\n",
       "            </tr>\n",
       "            <tr>\n",
       "                                <td id=\"T_1aad0626_3349_11ed_b724_784f437c194arow6_col0\" class=\"data row6 col0\" >shape_Elongation</td>\n",
       "                        <td id=\"T_1aad0626_3349_11ed_b724_784f437c194arow6_col1\" class=\"data row6 col1\" >-0.188872</td>\n",
       "            </tr>\n",
       "            <tr>\n",
       "                                <td id=\"T_1aad0626_3349_11ed_b724_784f437c194arow7_col0\" class=\"data row7 col0\" >glszm_SmallAreaEmphasis</td>\n",
       "                        <td id=\"T_1aad0626_3349_11ed_b724_784f437c194arow7_col1\" class=\"data row7 col1\" >0.179560</td>\n",
       "            </tr>\n",
       "            <tr>\n",
       "                                <td id=\"T_1aad0626_3349_11ed_b724_784f437c194arow8_col0\" class=\"data row8 col0\" >firstorder_RootMeanSquared</td>\n",
       "                        <td id=\"T_1aad0626_3349_11ed_b724_784f437c194arow8_col1\" class=\"data row8 col1\" >-0.157340</td>\n",
       "            </tr>\n",
       "            <tr>\n",
       "                                <td id=\"T_1aad0626_3349_11ed_b724_784f437c194arow9_col0\" class=\"data row9 col0\" >firstorder_Kurtosis</td>\n",
       "                        <td id=\"T_1aad0626_3349_11ed_b724_784f437c194arow9_col1\" class=\"data row9 col1\" >-0.123132</td>\n",
       "            </tr>\n",
       "            <tr>\n",
       "                                <td id=\"T_1aad0626_3349_11ed_b724_784f437c194arow10_col0\" class=\"data row10 col0\" >gldm_LowGrayLevelEmphasis</td>\n",
       "                        <td id=\"T_1aad0626_3349_11ed_b724_784f437c194arow10_col1\" class=\"data row10 col1\" >-0.049952</td>\n",
       "            </tr>\n",
       "            <tr>\n",
       "                                <td id=\"T_1aad0626_3349_11ed_b724_784f437c194arow11_col0\" class=\"data row11 col0\" >ngtdm_Contrast</td>\n",
       "                        <td id=\"T_1aad0626_3349_11ed_b724_784f437c194arow11_col1\" class=\"data row11 col1\" >0.041571</td>\n",
       "            </tr>\n",
       "            <tr>\n",
       "                                <td id=\"T_1aad0626_3349_11ed_b724_784f437c194arow12_col0\" class=\"data row12 col0\" >gldm_DependenceNonUniformityNormalized</td>\n",
       "                        <td id=\"T_1aad0626_3349_11ed_b724_784f437c194arow12_col1\" class=\"data row12 col1\" >-0.039136</td>\n",
       "            </tr>\n",
       "            <tr>\n",
       "                                <td id=\"T_1aad0626_3349_11ed_b724_784f437c194arow13_col0\" class=\"data row13 col0\" >glszm_LargeAreaLowGrayLevelEmphasis</td>\n",
       "                        <td id=\"T_1aad0626_3349_11ed_b724_784f437c194arow13_col1\" class=\"data row13 col1\" >-0.032892</td>\n",
       "            </tr>\n",
       "    </tbody></table>"
      ],
      "text/plain": [
       "<pandas.io.formats.style.Styler at 0x7fa151c72dd8>"
      ]
     },
     "metadata": {},
     "output_type": "display_data"
    },
    {
     "name": "stdout",
     "output_type": "stream",
     "text": [
      "\n",
      "\n",
      "firstorder|histogram\n"
     ]
    },
    {
     "data": {
      "text/html": [
       "<style  type=\"text/css\" >\n",
       "</style><table id=\"T_1aaea288_3349_11ed_8090_784f437c194a\" ><thead>    <tr>        <th class=\"col_heading level0 col0\" >Feature</th>        <th class=\"col_heading level0 col1\" >Coef</th>    </tr></thead><tbody>\n",
       "                <tr>\n",
       "                                <td id=\"T_1aaea288_3349_11ed_8090_784f437c194arow0_col0\" class=\"data row0 col0\" >firstorder_90Percentile</td>\n",
       "                        <td id=\"T_1aaea288_3349_11ed_8090_784f437c194arow0_col1\" class=\"data row0 col1\" >-1.881834</td>\n",
       "            </tr>\n",
       "            <tr>\n",
       "                                <td id=\"T_1aaea288_3349_11ed_8090_784f437c194arow1_col0\" class=\"data row1 col0\" >firstorder_InterquartileRange</td>\n",
       "                        <td id=\"T_1aaea288_3349_11ed_8090_784f437c194arow1_col1\" class=\"data row1 col1\" >1.193638</td>\n",
       "            </tr>\n",
       "            <tr>\n",
       "                                <td id=\"T_1aaea288_3349_11ed_8090_784f437c194arow2_col0\" class=\"data row2 col0\" >firstorder_Maximum</td>\n",
       "                        <td id=\"T_1aaea288_3349_11ed_8090_784f437c194arow2_col1\" class=\"data row2 col1\" >0.972298</td>\n",
       "            </tr>\n",
       "            <tr>\n",
       "                                <td id=\"T_1aaea288_3349_11ed_8090_784f437c194arow3_col0\" class=\"data row3 col0\" >firstorder_Kurtosis</td>\n",
       "                        <td id=\"T_1aaea288_3349_11ed_8090_784f437c194arow3_col1\" class=\"data row3 col1\" >-0.458316</td>\n",
       "            </tr>\n",
       "            <tr>\n",
       "                                <td id=\"T_1aaea288_3349_11ed_8090_784f437c194arow4_col0\" class=\"data row4 col0\" >firstorder_RootMeanSquared</td>\n",
       "                        <td id=\"T_1aaea288_3349_11ed_8090_784f437c194arow4_col1\" class=\"data row4 col1\" >-0.357229</td>\n",
       "            </tr>\n",
       "    </tbody></table>"
      ],
      "text/plain": [
       "<pandas.io.formats.style.Styler at 0x7fa13f36f208>"
      ]
     },
     "metadata": {},
     "output_type": "display_data"
    },
    {
     "name": "stdout",
     "output_type": "stream",
     "text": [
      "\n",
      "\n",
      "shape|firstorder|histogram\n"
     ]
    },
    {
     "data": {
      "text/html": [
       "<style  type=\"text/css\" >\n",
       "</style><table id=\"T_1ab01690_3349_11ed_b31e_784f437c194a\" ><thead>    <tr>        <th class=\"col_heading level0 col0\" >Feature</th>        <th class=\"col_heading level0 col1\" >Coef</th>    </tr></thead><tbody>\n",
       "                <tr>\n",
       "                                <td id=\"T_1ab01690_3349_11ed_b31e_784f437c194arow0_col0\" class=\"data row0 col0\" >firstorder_90Percentile</td>\n",
       "                        <td id=\"T_1ab01690_3349_11ed_b31e_784f437c194arow0_col1\" class=\"data row0 col1\" >-1.980571</td>\n",
       "            </tr>\n",
       "            <tr>\n",
       "                                <td id=\"T_1ab01690_3349_11ed_b31e_784f437c194arow1_col0\" class=\"data row1 col0\" >firstorder_Maximum</td>\n",
       "                        <td id=\"T_1ab01690_3349_11ed_b31e_784f437c194arow1_col1\" class=\"data row1 col1\" >1.785984</td>\n",
       "            </tr>\n",
       "            <tr>\n",
       "                                <td id=\"T_1ab01690_3349_11ed_b31e_784f437c194arow2_col0\" class=\"data row2 col0\" >firstorder_InterquartileRange</td>\n",
       "                        <td id=\"T_1ab01690_3349_11ed_b31e_784f437c194arow2_col1\" class=\"data row2 col1\" >1.034620</td>\n",
       "            </tr>\n",
       "            <tr>\n",
       "                                <td id=\"T_1ab01690_3349_11ed_b31e_784f437c194arow3_col0\" class=\"data row3 col0\" >firstorder_Kurtosis</td>\n",
       "                        <td id=\"T_1ab01690_3349_11ed_b31e_784f437c194arow3_col1\" class=\"data row3 col1\" >-0.820582</td>\n",
       "            </tr>\n",
       "            <tr>\n",
       "                                <td id=\"T_1ab01690_3349_11ed_b31e_784f437c194arow4_col0\" class=\"data row4 col0\" >shape_Elongation</td>\n",
       "                        <td id=\"T_1ab01690_3349_11ed_b31e_784f437c194arow4_col1\" class=\"data row4 col1\" >-0.641935</td>\n",
       "            </tr>\n",
       "            <tr>\n",
       "                                <td id=\"T_1ab01690_3349_11ed_b31e_784f437c194arow5_col0\" class=\"data row5 col0\" >shape_Flatness</td>\n",
       "                        <td id=\"T_1ab01690_3349_11ed_b31e_784f437c194arow5_col1\" class=\"data row5 col1\" >0.523738</td>\n",
       "            </tr>\n",
       "            <tr>\n",
       "                                <td id=\"T_1ab01690_3349_11ed_b31e_784f437c194arow6_col0\" class=\"data row6 col0\" >shape_MeshVolume</td>\n",
       "                        <td id=\"T_1ab01690_3349_11ed_b31e_784f437c194arow6_col1\" class=\"data row6 col1\" >0.419907</td>\n",
       "            </tr>\n",
       "            <tr>\n",
       "                                <td id=\"T_1ab01690_3349_11ed_b31e_784f437c194arow7_col0\" class=\"data row7 col0\" >firstorder_RootMeanSquared</td>\n",
       "                        <td id=\"T_1ab01690_3349_11ed_b31e_784f437c194arow7_col1\" class=\"data row7 col1\" >-0.322057</td>\n",
       "            </tr>\n",
       "            <tr>\n",
       "                                <td id=\"T_1ab01690_3349_11ed_b31e_784f437c194arow8_col0\" class=\"data row8 col0\" >shape_Sphericity</td>\n",
       "                        <td id=\"T_1ab01690_3349_11ed_b31e_784f437c194arow8_col1\" class=\"data row8 col1\" >-0.293501</td>\n",
       "            </tr>\n",
       "    </tbody></table>"
      ],
      "text/plain": [
       "<pandas.io.formats.style.Styler at 0x7fa13f36f198>"
      ]
     },
     "metadata": {},
     "output_type": "display_data"
    },
    {
     "name": "stdout",
     "output_type": "stream",
     "text": [
      "\n",
      "\n",
      "\n"
     ]
    },
    {
     "data": {
      "text/html": [
       "<style  type=\"text/css\" >\n",
       "</style><table id=\"T_1ab19aa6_3349_11ed_ac8f_784f437c194a\" ><thead>    <tr>        <th class=\"col_heading level0 col0\" >Feature</th>        <th class=\"col_heading level0 col1\" >Coef</th>    </tr></thead><tbody>\n",
       "                <tr>\n",
       "                                <td id=\"T_1ab19aa6_3349_11ed_ac8f_784f437c194arow0_col0\" class=\"data row0 col0\" >firstorder_90Percentile</td>\n",
       "                        <td id=\"T_1ab19aa6_3349_11ed_ac8f_784f437c194arow0_col1\" class=\"data row0 col1\" >-1.337928</td>\n",
       "            </tr>\n",
       "            <tr>\n",
       "                                <td id=\"T_1ab19aa6_3349_11ed_ac8f_784f437c194arow1_col0\" class=\"data row1 col0\" >glcm_Imc2</td>\n",
       "                        <td id=\"T_1ab19aa6_3349_11ed_ac8f_784f437c194arow1_col1\" class=\"data row1 col1\" >0.534742</td>\n",
       "            </tr>\n",
       "            <tr>\n",
       "                                <td id=\"T_1ab19aa6_3349_11ed_ac8f_784f437c194arow2_col0\" class=\"data row2 col0\" >firstorder_Maximum</td>\n",
       "                        <td id=\"T_1ab19aa6_3349_11ed_ac8f_784f437c194arow2_col1\" class=\"data row2 col1\" >0.527086</td>\n",
       "            </tr>\n",
       "            <tr>\n",
       "                                <td id=\"T_1ab19aa6_3349_11ed_ac8f_784f437c194arow3_col0\" class=\"data row3 col0\" >firstorder_InterquartileRange</td>\n",
       "                        <td id=\"T_1ab19aa6_3349_11ed_ac8f_784f437c194arow3_col1\" class=\"data row3 col1\" >0.497245</td>\n",
       "            </tr>\n",
       "            <tr>\n",
       "                                <td id=\"T_1ab19aa6_3349_11ed_ac8f_784f437c194arow4_col0\" class=\"data row4 col0\" >glszm_SmallAreaEmphasis</td>\n",
       "                        <td id=\"T_1ab19aa6_3349_11ed_ac8f_784f437c194arow4_col1\" class=\"data row4 col1\" >0.444198</td>\n",
       "            </tr>\n",
       "            <tr>\n",
       "                                <td id=\"T_1ab19aa6_3349_11ed_ac8f_784f437c194arow5_col0\" class=\"data row5 col0\" >shape_MeshVolume</td>\n",
       "                        <td id=\"T_1ab19aa6_3349_11ed_ac8f_784f437c194arow5_col1\" class=\"data row5 col1\" >0.276547</td>\n",
       "            </tr>\n",
       "            <tr>\n",
       "                                <td id=\"T_1ab19aa6_3349_11ed_ac8f_784f437c194arow6_col0\" class=\"data row6 col0\" >ngtdm_Strength</td>\n",
       "                        <td id=\"T_1ab19aa6_3349_11ed_ac8f_784f437c194arow6_col1\" class=\"data row6 col1\" >-0.254032</td>\n",
       "            </tr>\n",
       "            <tr>\n",
       "                                <td id=\"T_1ab19aa6_3349_11ed_ac8f_784f437c194arow7_col0\" class=\"data row7 col0\" >firstorder_RootMeanSquared</td>\n",
       "                        <td id=\"T_1ab19aa6_3349_11ed_ac8f_784f437c194arow7_col1\" class=\"data row7 col1\" >-0.204248</td>\n",
       "            </tr>\n",
       "            <tr>\n",
       "                                <td id=\"T_1ab19aa6_3349_11ed_ac8f_784f437c194arow8_col0\" class=\"data row8 col0\" >shape_Sphericity</td>\n",
       "                        <td id=\"T_1ab19aa6_3349_11ed_ac8f_784f437c194arow8_col1\" class=\"data row8 col1\" >-0.168467</td>\n",
       "            </tr>\n",
       "            <tr>\n",
       "                                <td id=\"T_1ab19aa6_3349_11ed_ac8f_784f437c194arow9_col0\" class=\"data row9 col0\" >shape_Elongation</td>\n",
       "                        <td id=\"T_1ab19aa6_3349_11ed_ac8f_784f437c194arow9_col1\" class=\"data row9 col1\" >-0.086428</td>\n",
       "            </tr>\n",
       "    </tbody></table>"
      ],
      "text/plain": [
       "<pandas.io.formats.style.Styler at 0x7fa13f36fe48>"
      ]
     },
     "metadata": {},
     "output_type": "display_data"
    },
    {
     "name": "stdout",
     "output_type": "stream",
     "text": [
      "\n",
      "\n",
      "shape|firstorder|histogram\n"
     ]
    },
    {
     "data": {
      "text/html": [
       "<style  type=\"text/css\" >\n",
       "</style><table id=\"T_1ab327c2_3349_11ed_89d8_784f437c194a\" ><thead>    <tr>        <th class=\"col_heading level0 col0\" >Feature</th>        <th class=\"col_heading level0 col1\" >Coef</th>    </tr></thead><tbody>\n",
       "                <tr>\n",
       "                                <td id=\"T_1ab327c2_3349_11ed_89d8_784f437c194arow0_col0\" class=\"data row0 col0\" >firstorder_90Percentile</td>\n",
       "                        <td id=\"T_1ab327c2_3349_11ed_89d8_784f437c194arow0_col1\" class=\"data row0 col1\" >-1.606474</td>\n",
       "            </tr>\n",
       "            <tr>\n",
       "                                <td id=\"T_1ab327c2_3349_11ed_89d8_784f437c194arow1_col0\" class=\"data row1 col0\" >firstorder_Maximum</td>\n",
       "                        <td id=\"T_1ab327c2_3349_11ed_89d8_784f437c194arow1_col1\" class=\"data row1 col1\" >0.893261</td>\n",
       "            </tr>\n",
       "            <tr>\n",
       "                                <td id=\"T_1ab327c2_3349_11ed_89d8_784f437c194arow2_col0\" class=\"data row2 col0\" >firstorder_Uniformity</td>\n",
       "                        <td id=\"T_1ab327c2_3349_11ed_89d8_784f437c194arow2_col1\" class=\"data row2 col1\" >-0.823738</td>\n",
       "            </tr>\n",
       "            <tr>\n",
       "                                <td id=\"T_1ab327c2_3349_11ed_89d8_784f437c194arow3_col0\" class=\"data row3 col0\" >firstorder_Kurtosis</td>\n",
       "                        <td id=\"T_1ab327c2_3349_11ed_89d8_784f437c194arow3_col1\" class=\"data row3 col1\" >-0.479437</td>\n",
       "            </tr>\n",
       "            <tr>\n",
       "                                <td id=\"T_1ab327c2_3349_11ed_89d8_784f437c194arow4_col0\" class=\"data row4 col0\" >shape_MeshVolume</td>\n",
       "                        <td id=\"T_1ab327c2_3349_11ed_89d8_784f437c194arow4_col1\" class=\"data row4 col1\" >0.468089</td>\n",
       "            </tr>\n",
       "            <tr>\n",
       "                                <td id=\"T_1ab327c2_3349_11ed_89d8_784f437c194arow5_col0\" class=\"data row5 col0\" >shape_Elongation</td>\n",
       "                        <td id=\"T_1ab327c2_3349_11ed_89d8_784f437c194arow5_col1\" class=\"data row5 col1\" >-0.395012</td>\n",
       "            </tr>\n",
       "            <tr>\n",
       "                                <td id=\"T_1ab327c2_3349_11ed_89d8_784f437c194arow6_col0\" class=\"data row6 col0\" >firstorder_RootMeanSquared</td>\n",
       "                        <td id=\"T_1ab327c2_3349_11ed_89d8_784f437c194arow6_col1\" class=\"data row6 col1\" >-0.334731</td>\n",
       "            </tr>\n",
       "            <tr>\n",
       "                                <td id=\"T_1ab327c2_3349_11ed_89d8_784f437c194arow7_col0\" class=\"data row7 col0\" >shape_Sphericity</td>\n",
       "                        <td id=\"T_1ab327c2_3349_11ed_89d8_784f437c194arow7_col1\" class=\"data row7 col1\" >-0.179497</td>\n",
       "            </tr>\n",
       "            <tr>\n",
       "                                <td id=\"T_1ab327c2_3349_11ed_89d8_784f437c194arow8_col0\" class=\"data row8 col0\" >firstorder_Skewness</td>\n",
       "                        <td id=\"T_1ab327c2_3349_11ed_89d8_784f437c194arow8_col1\" class=\"data row8 col1\" >0.059413</td>\n",
       "            </tr>\n",
       "            <tr>\n",
       "                                <td id=\"T_1ab327c2_3349_11ed_89d8_784f437c194arow9_col0\" class=\"data row9 col0\" >shape_Flatness</td>\n",
       "                        <td id=\"T_1ab327c2_3349_11ed_89d8_784f437c194arow9_col1\" class=\"data row9 col1\" >0.052820</td>\n",
       "            </tr>\n",
       "    </tbody></table>"
      ],
      "text/plain": [
       "<pandas.io.formats.style.Styler at 0x7fa151c72dd8>"
      ]
     },
     "metadata": {},
     "output_type": "display_data"
    },
    {
     "name": "stdout",
     "output_type": "stream",
     "text": [
      "\n",
      "\n",
      "shape|firstorder|histogram\n"
     ]
    },
    {
     "data": {
      "text/html": [
       "<style  type=\"text/css\" >\n",
       "</style><table id=\"T_1ab4c09e_3349_11ed_81ad_784f437c194a\" ><thead>    <tr>        <th class=\"col_heading level0 col0\" >Feature</th>        <th class=\"col_heading level0 col1\" >Coef</th>    </tr></thead><tbody>\n",
       "                <tr>\n",
       "                                <td id=\"T_1ab4c09e_3349_11ed_81ad_784f437c194arow0_col0\" class=\"data row0 col0\" >firstorder_90Percentile</td>\n",
       "                        <td id=\"T_1ab4c09e_3349_11ed_81ad_784f437c194arow0_col1\" class=\"data row0 col1\" >-1.541368</td>\n",
       "            </tr>\n",
       "            <tr>\n",
       "                                <td id=\"T_1ab4c09e_3349_11ed_81ad_784f437c194arow1_col0\" class=\"data row1 col0\" >firstorder_Maximum</td>\n",
       "                        <td id=\"T_1ab4c09e_3349_11ed_81ad_784f437c194arow1_col1\" class=\"data row1 col1\" >0.742664</td>\n",
       "            </tr>\n",
       "            <tr>\n",
       "                                <td id=\"T_1ab4c09e_3349_11ed_81ad_784f437c194arow2_col0\" class=\"data row2 col0\" >shape_MeshVolume</td>\n",
       "                        <td id=\"T_1ab4c09e_3349_11ed_81ad_784f437c194arow2_col1\" class=\"data row2 col1\" >0.705610</td>\n",
       "            </tr>\n",
       "            <tr>\n",
       "                                <td id=\"T_1ab4c09e_3349_11ed_81ad_784f437c194arow3_col0\" class=\"data row3 col0\" >firstorder_Uniformity</td>\n",
       "                        <td id=\"T_1ab4c09e_3349_11ed_81ad_784f437c194arow3_col1\" class=\"data row3 col1\" >-0.589393</td>\n",
       "            </tr>\n",
       "            <tr>\n",
       "                                <td id=\"T_1ab4c09e_3349_11ed_81ad_784f437c194arow4_col0\" class=\"data row4 col0\" >shape_Sphericity</td>\n",
       "                        <td id=\"T_1ab4c09e_3349_11ed_81ad_784f437c194arow4_col1\" class=\"data row4 col1\" >-0.335434</td>\n",
       "            </tr>\n",
       "            <tr>\n",
       "                                <td id=\"T_1ab4c09e_3349_11ed_81ad_784f437c194arow5_col0\" class=\"data row5 col0\" >firstorder_RootMeanSquared</td>\n",
       "                        <td id=\"T_1ab4c09e_3349_11ed_81ad_784f437c194arow5_col1\" class=\"data row5 col1\" >-0.317898</td>\n",
       "            </tr>\n",
       "            <tr>\n",
       "                                <td id=\"T_1ab4c09e_3349_11ed_81ad_784f437c194arow6_col0\" class=\"data row6 col0\" >firstorder_Kurtosis</td>\n",
       "                        <td id=\"T_1ab4c09e_3349_11ed_81ad_784f437c194arow6_col1\" class=\"data row6 col1\" >-0.316534</td>\n",
       "            </tr>\n",
       "            <tr>\n",
       "                                <td id=\"T_1ab4c09e_3349_11ed_81ad_784f437c194arow7_col0\" class=\"data row7 col0\" >shape_Elongation</td>\n",
       "                        <td id=\"T_1ab4c09e_3349_11ed_81ad_784f437c194arow7_col1\" class=\"data row7 col1\" >-0.259669</td>\n",
       "            </tr>\n",
       "            <tr>\n",
       "                                <td id=\"T_1ab4c09e_3349_11ed_81ad_784f437c194arow8_col0\" class=\"data row8 col0\" >shape_Flatness</td>\n",
       "                        <td id=\"T_1ab4c09e_3349_11ed_81ad_784f437c194arow8_col1\" class=\"data row8 col1\" >0.075527</td>\n",
       "            </tr>\n",
       "    </tbody></table>"
      ],
      "text/plain": [
       "<pandas.io.formats.style.Styler at 0x7fa151c92e48>"
      ]
     },
     "metadata": {},
     "output_type": "display_data"
    },
    {
     "name": "stdout",
     "output_type": "stream",
     "text": [
      "\n",
      "\n",
      "shape|glcm|gldm|glszm|glrlm|ngtdm\n"
     ]
    },
    {
     "data": {
      "text/html": [
       "<style  type=\"text/css\" >\n",
       "</style><table id=\"T_1ab6ab40_3349_11ed_880d_784f437c194a\" ><thead>    <tr>        <th class=\"col_heading level0 col0\" >Feature</th>        <th class=\"col_heading level0 col1\" >Coef</th>    </tr></thead><tbody>\n",
       "                <tr>\n",
       "                                <td id=\"T_1ab6ab40_3349_11ed_880d_784f437c194arow0_col0\" class=\"data row0 col0\" >shape_MeshVolume</td>\n",
       "                        <td id=\"T_1ab6ab40_3349_11ed_880d_784f437c194arow0_col1\" class=\"data row0 col1\" >1.712005</td>\n",
       "            </tr>\n",
       "            <tr>\n",
       "                                <td id=\"T_1ab6ab40_3349_11ed_880d_784f437c194arow1_col0\" class=\"data row1 col0\" >glszm_ZoneEntropy</td>\n",
       "                        <td id=\"T_1ab6ab40_3349_11ed_880d_784f437c194arow1_col1\" class=\"data row1 col1\" >1.077868</td>\n",
       "            </tr>\n",
       "            <tr>\n",
       "                                <td id=\"T_1ab6ab40_3349_11ed_880d_784f437c194arow2_col0\" class=\"data row2 col0\" >shape_Sphericity</td>\n",
       "                        <td id=\"T_1ab6ab40_3349_11ed_880d_784f437c194arow2_col1\" class=\"data row2 col1\" >-0.825431</td>\n",
       "            </tr>\n",
       "            <tr>\n",
       "                                <td id=\"T_1ab6ab40_3349_11ed_880d_784f437c194arow3_col0\" class=\"data row3 col0\" >glszm_SmallAreaEmphasis</td>\n",
       "                        <td id=\"T_1ab6ab40_3349_11ed_880d_784f437c194arow3_col1\" class=\"data row3 col1\" >0.818410</td>\n",
       "            </tr>\n",
       "            <tr>\n",
       "                                <td id=\"T_1ab6ab40_3349_11ed_880d_784f437c194arow4_col0\" class=\"data row4 col0\" >glszm_LargeAreaLowGrayLevelEmphasis</td>\n",
       "                        <td id=\"T_1ab6ab40_3349_11ed_880d_784f437c194arow4_col1\" class=\"data row4 col1\" >0.181371</td>\n",
       "            </tr>\n",
       "            <tr>\n",
       "                                <td id=\"T_1ab6ab40_3349_11ed_880d_784f437c194arow5_col0\" class=\"data row5 col0\" >gldm_DependenceNonUniformityNormalized</td>\n",
       "                        <td id=\"T_1ab6ab40_3349_11ed_880d_784f437c194arow5_col1\" class=\"data row5 col1\" >-0.164113</td>\n",
       "            </tr>\n",
       "            <tr>\n",
       "                                <td id=\"T_1ab6ab40_3349_11ed_880d_784f437c194arow6_col0\" class=\"data row6 col0\" >ngtdm_Strength</td>\n",
       "                        <td id=\"T_1ab6ab40_3349_11ed_880d_784f437c194arow6_col1\" class=\"data row6 col1\" >-0.151809</td>\n",
       "            </tr>\n",
       "            <tr>\n",
       "                                <td id=\"T_1ab6ab40_3349_11ed_880d_784f437c194arow7_col0\" class=\"data row7 col0\" >shape_Elongation</td>\n",
       "                        <td id=\"T_1ab6ab40_3349_11ed_880d_784f437c194arow7_col1\" class=\"data row7 col1\" >-0.130441</td>\n",
       "            </tr>\n",
       "            <tr>\n",
       "                                <td id=\"T_1ab6ab40_3349_11ed_880d_784f437c194arow8_col0\" class=\"data row8 col0\" >gldm_LowGrayLevelEmphasis</td>\n",
       "                        <td id=\"T_1ab6ab40_3349_11ed_880d_784f437c194arow8_col1\" class=\"data row8 col1\" >0.130385</td>\n",
       "            </tr>\n",
       "            <tr>\n",
       "                                <td id=\"T_1ab6ab40_3349_11ed_880d_784f437c194arow9_col0\" class=\"data row9 col0\" >ngtdm_Contrast</td>\n",
       "                        <td id=\"T_1ab6ab40_3349_11ed_880d_784f437c194arow9_col1\" class=\"data row9 col1\" >-0.095409</td>\n",
       "            </tr>\n",
       "    </tbody></table>"
      ],
      "text/plain": [
       "<pandas.io.formats.style.Styler at 0x7fa14e3835c0>"
      ]
     },
     "metadata": {},
     "output_type": "display_data"
    },
    {
     "name": "stdout",
     "output_type": "stream",
     "text": [
      "\n",
      "\n",
      "shape\n"
     ]
    },
    {
     "data": {
      "text/html": [
       "<style  type=\"text/css\" >\n",
       "</style><table id=\"T_1ab83dd4_3349_11ed_83a6_784f437c194a\" ><thead>    <tr>        <th class=\"col_heading level0 col0\" >Feature</th>        <th class=\"col_heading level0 col1\" >Coef</th>    </tr></thead><tbody>\n",
       "                <tr>\n",
       "                                <td id=\"T_1ab83dd4_3349_11ed_83a6_784f437c194arow0_col0\" class=\"data row0 col0\" >shape_MeshVolume</td>\n",
       "                        <td id=\"T_1ab83dd4_3349_11ed_83a6_784f437c194arow0_col1\" class=\"data row0 col1\" >2.164630</td>\n",
       "            </tr>\n",
       "            <tr>\n",
       "                                <td id=\"T_1ab83dd4_3349_11ed_83a6_784f437c194arow1_col0\" class=\"data row1 col0\" >shape_Sphericity</td>\n",
       "                        <td id=\"T_1ab83dd4_3349_11ed_83a6_784f437c194arow1_col1\" class=\"data row1 col1\" >-1.017324</td>\n",
       "            </tr>\n",
       "            <tr>\n",
       "                                <td id=\"T_1ab83dd4_3349_11ed_83a6_784f437c194arow2_col0\" class=\"data row2 col0\" >shape_Elongation</td>\n",
       "                        <td id=\"T_1ab83dd4_3349_11ed_83a6_784f437c194arow2_col1\" class=\"data row2 col1\" >-0.408858</td>\n",
       "            </tr>\n",
       "            <tr>\n",
       "                                <td id=\"T_1ab83dd4_3349_11ed_83a6_784f437c194arow3_col0\" class=\"data row3 col0\" >shape_Flatness</td>\n",
       "                        <td id=\"T_1ab83dd4_3349_11ed_83a6_784f437c194arow3_col1\" class=\"data row3 col1\" >0.193334</td>\n",
       "            </tr>\n",
       "    </tbody></table>"
      ],
      "text/plain": [
       "<pandas.io.formats.style.Styler at 0x7fa13bb0bbe0>"
      ]
     },
     "metadata": {},
     "output_type": "display_data"
    },
    {
     "name": "stdout",
     "output_type": "stream",
     "text": [
      "\n",
      "\n",
      "shape|firstorder|histogram\n"
     ]
    },
    {
     "data": {
      "text/html": [
       "<style  type=\"text/css\" >\n",
       "</style><table id=\"T_1ab96182_3349_11ed_b0dd_784f437c194a\" ><thead>    <tr>        <th class=\"col_heading level0 col0\" >Feature</th>        <th class=\"col_heading level0 col1\" >Coef</th>    </tr></thead><tbody>\n",
       "                <tr>\n",
       "                                <td id=\"T_1ab96182_3349_11ed_b0dd_784f437c194arow0_col0\" class=\"data row0 col0\" >firstorder_90Percentile</td>\n",
       "                        <td id=\"T_1ab96182_3349_11ed_b0dd_784f437c194arow0_col1\" class=\"data row0 col1\" >-1.692745</td>\n",
       "            </tr>\n",
       "            <tr>\n",
       "                                <td id=\"T_1ab96182_3349_11ed_b0dd_784f437c194arow1_col0\" class=\"data row1 col0\" >firstorder_InterquartileRange</td>\n",
       "                        <td id=\"T_1ab96182_3349_11ed_b0dd_784f437c194arow1_col1\" class=\"data row1 col1\" >1.232832</td>\n",
       "            </tr>\n",
       "            <tr>\n",
       "                                <td id=\"T_1ab96182_3349_11ed_b0dd_784f437c194arow2_col0\" class=\"data row2 col0\" >firstorder_Maximum</td>\n",
       "                        <td id=\"T_1ab96182_3349_11ed_b0dd_784f437c194arow2_col1\" class=\"data row2 col1\" >1.094171</td>\n",
       "            </tr>\n",
       "            <tr>\n",
       "                                <td id=\"T_1ab96182_3349_11ed_b0dd_784f437c194arow3_col0\" class=\"data row3 col0\" >shape_MeshVolume</td>\n",
       "                        <td id=\"T_1ab96182_3349_11ed_b0dd_784f437c194arow3_col1\" class=\"data row3 col1\" >0.593271</td>\n",
       "            </tr>\n",
       "            <tr>\n",
       "                                <td id=\"T_1ab96182_3349_11ed_b0dd_784f437c194arow4_col0\" class=\"data row4 col0\" >shape_Elongation</td>\n",
       "                        <td id=\"T_1ab96182_3349_11ed_b0dd_784f437c194arow4_col1\" class=\"data row4 col1\" >-0.490057</td>\n",
       "            </tr>\n",
       "            <tr>\n",
       "                                <td id=\"T_1ab96182_3349_11ed_b0dd_784f437c194arow5_col0\" class=\"data row5 col0\" >shape_Sphericity</td>\n",
       "                        <td id=\"T_1ab96182_3349_11ed_b0dd_784f437c194arow5_col1\" class=\"data row5 col1\" >-0.404382</td>\n",
       "            </tr>\n",
       "            <tr>\n",
       "                                <td id=\"T_1ab96182_3349_11ed_b0dd_784f437c194arow6_col0\" class=\"data row6 col0\" >shape_Flatness</td>\n",
       "                        <td id=\"T_1ab96182_3349_11ed_b0dd_784f437c194arow6_col1\" class=\"data row6 col1\" >0.397047</td>\n",
       "            </tr>\n",
       "            <tr>\n",
       "                                <td id=\"T_1ab96182_3349_11ed_b0dd_784f437c194arow7_col0\" class=\"data row7 col0\" >firstorder_RootMeanSquared</td>\n",
       "                        <td id=\"T_1ab96182_3349_11ed_b0dd_784f437c194arow7_col1\" class=\"data row7 col1\" >-0.183731</td>\n",
       "            </tr>\n",
       "            <tr>\n",
       "                                <td id=\"T_1ab96182_3349_11ed_b0dd_784f437c194arow8_col0\" class=\"data row8 col0\" >firstorder_Skewness</td>\n",
       "                        <td id=\"T_1ab96182_3349_11ed_b0dd_784f437c194arow8_col1\" class=\"data row8 col1\" >0.036585</td>\n",
       "            </tr>\n",
       "    </tbody></table>"
      ],
      "text/plain": [
       "<pandas.io.formats.style.Styler at 0x7fa13f36f6d8>"
      ]
     },
     "metadata": {},
     "output_type": "display_data"
    },
    {
     "name": "stdout",
     "output_type": "stream",
     "text": [
      "\n",
      "\n",
      "shape|firstorder|histogram\n"
     ]
    },
    {
     "data": {
      "text/html": [
       "<style  type=\"text/css\" >\n",
       "</style><table id=\"T_1aba93d8_3349_11ed_9112_784f437c194a\" ><thead>    <tr>        <th class=\"col_heading level0 col0\" >Feature</th>        <th class=\"col_heading level0 col1\" >Coef</th>    </tr></thead><tbody>\n",
       "                <tr>\n",
       "                                <td id=\"T_1aba93d8_3349_11ed_9112_784f437c194arow0_col0\" class=\"data row0 col0\" >firstorder_90Percentile</td>\n",
       "                        <td id=\"T_1aba93d8_3349_11ed_9112_784f437c194arow0_col1\" class=\"data row0 col1\" >-1.949721</td>\n",
       "            </tr>\n",
       "            <tr>\n",
       "                                <td id=\"T_1aba93d8_3349_11ed_9112_784f437c194arow1_col0\" class=\"data row1 col0\" >firstorder_Maximum</td>\n",
       "                        <td id=\"T_1aba93d8_3349_11ed_9112_784f437c194arow1_col1\" class=\"data row1 col1\" >1.129689</td>\n",
       "            </tr>\n",
       "            <tr>\n",
       "                                <td id=\"T_1aba93d8_3349_11ed_9112_784f437c194arow2_col0\" class=\"data row2 col0\" >firstorder_InterquartileRange</td>\n",
       "                        <td id=\"T_1aba93d8_3349_11ed_9112_784f437c194arow2_col1\" class=\"data row2 col1\" >1.123101</td>\n",
       "            </tr>\n",
       "            <tr>\n",
       "                                <td id=\"T_1aba93d8_3349_11ed_9112_784f437c194arow3_col0\" class=\"data row3 col0\" >shape_MeshVolume</td>\n",
       "                        <td id=\"T_1aba93d8_3349_11ed_9112_784f437c194arow3_col1\" class=\"data row3 col1\" >0.685099</td>\n",
       "            </tr>\n",
       "            <tr>\n",
       "                                <td id=\"T_1aba93d8_3349_11ed_9112_784f437c194arow4_col0\" class=\"data row4 col0\" >shape_Elongation</td>\n",
       "                        <td id=\"T_1aba93d8_3349_11ed_9112_784f437c194arow4_col1\" class=\"data row4 col1\" >-0.650744</td>\n",
       "            </tr>\n",
       "            <tr>\n",
       "                                <td id=\"T_1aba93d8_3349_11ed_9112_784f437c194arow5_col0\" class=\"data row5 col0\" >firstorder_Kurtosis</td>\n",
       "                        <td id=\"T_1aba93d8_3349_11ed_9112_784f437c194arow5_col1\" class=\"data row5 col1\" >-0.566241</td>\n",
       "            </tr>\n",
       "            <tr>\n",
       "                                <td id=\"T_1aba93d8_3349_11ed_9112_784f437c194arow6_col0\" class=\"data row6 col0\" >shape_Flatness</td>\n",
       "                        <td id=\"T_1aba93d8_3349_11ed_9112_784f437c194arow6_col1\" class=\"data row6 col1\" >0.543699</td>\n",
       "            </tr>\n",
       "            <tr>\n",
       "                                <td id=\"T_1aba93d8_3349_11ed_9112_784f437c194arow7_col0\" class=\"data row7 col0\" >shape_Sphericity</td>\n",
       "                        <td id=\"T_1aba93d8_3349_11ed_9112_784f437c194arow7_col1\" class=\"data row7 col1\" >-0.302193</td>\n",
       "            </tr>\n",
       "            <tr>\n",
       "                                <td id=\"T_1aba93d8_3349_11ed_9112_784f437c194arow8_col0\" class=\"data row8 col0\" >firstorder_RootMeanSquared</td>\n",
       "                        <td id=\"T_1aba93d8_3349_11ed_9112_784f437c194arow8_col1\" class=\"data row8 col1\" >-0.268941</td>\n",
       "            </tr>\n",
       "    </tbody></table>"
      ],
      "text/plain": [
       "<pandas.io.formats.style.Styler at 0x7fa13f2cf2e8>"
      ]
     },
     "metadata": {},
     "output_type": "display_data"
    },
    {
     "name": "stdout",
     "output_type": "stream",
     "text": [
      "\n",
      "\n",
      "firstorder|histogram\n"
     ]
    },
    {
     "data": {
      "text/html": [
       "<style  type=\"text/css\" >\n",
       "</style><table id=\"T_1abc5c7a_3349_11ed_a2dd_784f437c194a\" ><thead>    <tr>        <th class=\"col_heading level0 col0\" >Feature</th>        <th class=\"col_heading level0 col1\" >Coef</th>    </tr></thead><tbody>\n",
       "                <tr>\n",
       "                                <td id=\"T_1abc5c7a_3349_11ed_a2dd_784f437c194arow0_col0\" class=\"data row0 col0\" >firstorder_90Percentile</td>\n",
       "                        <td id=\"T_1abc5c7a_3349_11ed_a2dd_784f437c194arow0_col1\" class=\"data row0 col1\" >-1.610941</td>\n",
       "            </tr>\n",
       "            <tr>\n",
       "                                <td id=\"T_1abc5c7a_3349_11ed_a2dd_784f437c194arow1_col0\" class=\"data row1 col0\" >firstorder_Maximum</td>\n",
       "                        <td id=\"T_1abc5c7a_3349_11ed_a2dd_784f437c194arow1_col1\" class=\"data row1 col1\" >0.715941</td>\n",
       "            </tr>\n",
       "            <tr>\n",
       "                                <td id=\"T_1abc5c7a_3349_11ed_a2dd_784f437c194arow2_col0\" class=\"data row2 col0\" >firstorder_Uniformity</td>\n",
       "                        <td id=\"T_1abc5c7a_3349_11ed_a2dd_784f437c194arow2_col1\" class=\"data row2 col1\" >-0.709990</td>\n",
       "            </tr>\n",
       "            <tr>\n",
       "                                <td id=\"T_1abc5c7a_3349_11ed_a2dd_784f437c194arow3_col0\" class=\"data row3 col0\" >firstorder_RootMeanSquared</td>\n",
       "                        <td id=\"T_1abc5c7a_3349_11ed_a2dd_784f437c194arow3_col1\" class=\"data row3 col1\" >-0.335999</td>\n",
       "            </tr>\n",
       "            <tr>\n",
       "                                <td id=\"T_1abc5c7a_3349_11ed_a2dd_784f437c194arow4_col0\" class=\"data row4 col0\" >firstorder_Kurtosis</td>\n",
       "                        <td id=\"T_1abc5c7a_3349_11ed_a2dd_784f437c194arow4_col1\" class=\"data row4 col1\" >-0.305039</td>\n",
       "            </tr>\n",
       "    </tbody></table>"
      ],
      "text/plain": [
       "<pandas.io.formats.style.Styler at 0x7fa13f2e7dd8>"
      ]
     },
     "metadata": {},
     "output_type": "display_data"
    },
    {
     "name": "stdout",
     "output_type": "stream",
     "text": [
      "\n",
      "\n",
      "shape|firstorder|histogram\n"
     ]
    },
    {
     "data": {
      "text/html": [
       "<style  type=\"text/css\" >\n",
       "</style><table id=\"T_1abd9d4c_3349_11ed_9d6f_784f437c194a\" ><thead>    <tr>        <th class=\"col_heading level0 col0\" >Feature</th>        <th class=\"col_heading level0 col1\" >Coef</th>    </tr></thead><tbody>\n",
       "                <tr>\n",
       "                                <td id=\"T_1abd9d4c_3349_11ed_9d6f_784f437c194arow0_col0\" class=\"data row0 col0\" >firstorder_90Percentile</td>\n",
       "                        <td id=\"T_1abd9d4c_3349_11ed_9d6f_784f437c194arow0_col1\" class=\"data row0 col1\" >-1.773075</td>\n",
       "            </tr>\n",
       "            <tr>\n",
       "                                <td id=\"T_1abd9d4c_3349_11ed_9d6f_784f437c194arow1_col0\" class=\"data row1 col0\" >firstorder_InterquartileRange</td>\n",
       "                        <td id=\"T_1abd9d4c_3349_11ed_9d6f_784f437c194arow1_col1\" class=\"data row1 col1\" >1.228535</td>\n",
       "            </tr>\n",
       "            <tr>\n",
       "                                <td id=\"T_1abd9d4c_3349_11ed_9d6f_784f437c194arow2_col0\" class=\"data row2 col0\" >shape_MeshVolume</td>\n",
       "                        <td id=\"T_1abd9d4c_3349_11ed_9d6f_784f437c194arow2_col1\" class=\"data row2 col1\" >1.069368</td>\n",
       "            </tr>\n",
       "            <tr>\n",
       "                                <td id=\"T_1abd9d4c_3349_11ed_9d6f_784f437c194arow3_col0\" class=\"data row3 col0\" >firstorder_Maximum</td>\n",
       "                        <td id=\"T_1abd9d4c_3349_11ed_9d6f_784f437c194arow3_col1\" class=\"data row3 col1\" >0.942384</td>\n",
       "            </tr>\n",
       "            <tr>\n",
       "                                <td id=\"T_1abd9d4c_3349_11ed_9d6f_784f437c194arow4_col0\" class=\"data row4 col0\" >shape_Elongation</td>\n",
       "                        <td id=\"T_1abd9d4c_3349_11ed_9d6f_784f437c194arow4_col1\" class=\"data row4 col1\" >-0.527592</td>\n",
       "            </tr>\n",
       "            <tr>\n",
       "                                <td id=\"T_1abd9d4c_3349_11ed_9d6f_784f437c194arow5_col0\" class=\"data row5 col0\" >shape_Flatness</td>\n",
       "                        <td id=\"T_1abd9d4c_3349_11ed_9d6f_784f437c194arow5_col1\" class=\"data row5 col1\" >0.453301</td>\n",
       "            </tr>\n",
       "            <tr>\n",
       "                                <td id=\"T_1abd9d4c_3349_11ed_9d6f_784f437c194arow6_col0\" class=\"data row6 col0\" >firstorder_Skewness</td>\n",
       "                        <td id=\"T_1abd9d4c_3349_11ed_9d6f_784f437c194arow6_col1\" class=\"data row6 col1\" >0.379601</td>\n",
       "            </tr>\n",
       "            <tr>\n",
       "                                <td id=\"T_1abd9d4c_3349_11ed_9d6f_784f437c194arow7_col0\" class=\"data row7 col0\" >firstorder_RootMeanSquared</td>\n",
       "                        <td id=\"T_1abd9d4c_3349_11ed_9d6f_784f437c194arow7_col1\" class=\"data row7 col1\" >-0.315118</td>\n",
       "            </tr>\n",
       "            <tr>\n",
       "                                <td id=\"T_1abd9d4c_3349_11ed_9d6f_784f437c194arow8_col0\" class=\"data row8 col0\" >shape_Sphericity</td>\n",
       "                        <td id=\"T_1abd9d4c_3349_11ed_9d6f_784f437c194arow8_col1\" class=\"data row8 col1\" >-0.201130</td>\n",
       "            </tr>\n",
       "    </tbody></table>"
      ],
      "text/plain": [
       "<pandas.io.formats.style.Styler at 0x7fa13f2e7940>"
      ]
     },
     "metadata": {},
     "output_type": "display_data"
    },
    {
     "name": "stdout",
     "output_type": "stream",
     "text": [
      "\n",
      "\n",
      "firstorder|histogram\n"
     ]
    },
    {
     "data": {
      "text/html": [
       "<style  type=\"text/css\" >\n",
       "</style><table id=\"T_1abf7266_3349_11ed_bc1b_784f437c194a\" ><thead>    <tr>        <th class=\"col_heading level0 col0\" >Feature</th>        <th class=\"col_heading level0 col1\" >Coef</th>    </tr></thead><tbody>\n",
       "                <tr>\n",
       "                                <td id=\"T_1abf7266_3349_11ed_bc1b_784f437c194arow0_col0\" class=\"data row0 col0\" >firstorder_90Percentile</td>\n",
       "                        <td id=\"T_1abf7266_3349_11ed_bc1b_784f437c194arow0_col1\" class=\"data row0 col1\" >-1.878183</td>\n",
       "            </tr>\n",
       "            <tr>\n",
       "                                <td id=\"T_1abf7266_3349_11ed_bc1b_784f437c194arow1_col0\" class=\"data row1 col0\" >firstorder_Maximum</td>\n",
       "                        <td id=\"T_1abf7266_3349_11ed_bc1b_784f437c194arow1_col1\" class=\"data row1 col1\" >1.466380</td>\n",
       "            </tr>\n",
       "            <tr>\n",
       "                                <td id=\"T_1abf7266_3349_11ed_bc1b_784f437c194arow2_col0\" class=\"data row2 col0\" >firstorder_InterquartileRange</td>\n",
       "                        <td id=\"T_1abf7266_3349_11ed_bc1b_784f437c194arow2_col1\" class=\"data row2 col1\" >1.007677</td>\n",
       "            </tr>\n",
       "            <tr>\n",
       "                                <td id=\"T_1abf7266_3349_11ed_bc1b_784f437c194arow3_col0\" class=\"data row3 col0\" >firstorder_Kurtosis</td>\n",
       "                        <td id=\"T_1abf7266_3349_11ed_bc1b_784f437c194arow3_col1\" class=\"data row3 col1\" >-0.720601</td>\n",
       "            </tr>\n",
       "            <tr>\n",
       "                                <td id=\"T_1abf7266_3349_11ed_bc1b_784f437c194arow4_col0\" class=\"data row4 col0\" >firstorder_RootMeanSquared</td>\n",
       "                        <td id=\"T_1abf7266_3349_11ed_bc1b_784f437c194arow4_col1\" class=\"data row4 col1\" >-0.354005</td>\n",
       "            </tr>\n",
       "            <tr>\n",
       "                                <td id=\"T_1abf7266_3349_11ed_bc1b_784f437c194arow5_col0\" class=\"data row5 col0\" >firstorder_Range</td>\n",
       "                        <td id=\"T_1abf7266_3349_11ed_bc1b_784f437c194arow5_col1\" class=\"data row5 col1\" >0.065557</td>\n",
       "            </tr>\n",
       "    </tbody></table>"
      ],
      "text/plain": [
       "<pandas.io.formats.style.Styler at 0x7fa148aaee48>"
      ]
     },
     "metadata": {},
     "output_type": "display_data"
    },
    {
     "name": "stdout",
     "output_type": "stream",
     "text": [
      "\n",
      "\n",
      "\n"
     ]
    },
    {
     "data": {
      "text/html": [
       "<style  type=\"text/css\" >\n",
       "</style><table id=\"T_1ac0be6e_3349_11ed_a4dd_784f437c194a\" ><thead>    <tr>        <th class=\"col_heading level0 col0\" >Feature</th>        <th class=\"col_heading level0 col1\" >Coef</th>    </tr></thead><tbody>\n",
       "                <tr>\n",
       "                                <td id=\"T_1ac0be6e_3349_11ed_a4dd_784f437c194arow0_col0\" class=\"data row0 col0\" >firstorder_90Percentile</td>\n",
       "                        <td id=\"T_1ac0be6e_3349_11ed_a4dd_784f437c194arow0_col1\" class=\"data row0 col1\" >-1.442994</td>\n",
       "            </tr>\n",
       "            <tr>\n",
       "                                <td id=\"T_1ac0be6e_3349_11ed_a4dd_784f437c194arow1_col0\" class=\"data row1 col0\" >glszm_ZoneEntropy</td>\n",
       "                        <td id=\"T_1ac0be6e_3349_11ed_a4dd_784f437c194arow1_col1\" class=\"data row1 col1\" >1.267071</td>\n",
       "            </tr>\n",
       "            <tr>\n",
       "                                <td id=\"T_1ac0be6e_3349_11ed_a4dd_784f437c194arow2_col0\" class=\"data row2 col0\" >glszm_SmallAreaEmphasis</td>\n",
       "                        <td id=\"T_1ac0be6e_3349_11ed_a4dd_784f437c194arow2_col1\" class=\"data row2 col1\" >0.766237</td>\n",
       "            </tr>\n",
       "            <tr>\n",
       "                                <td id=\"T_1ac0be6e_3349_11ed_a4dd_784f437c194arow3_col0\" class=\"data row3 col0\" >shape_Sphericity</td>\n",
       "                        <td id=\"T_1ac0be6e_3349_11ed_a4dd_784f437c194arow3_col1\" class=\"data row3 col1\" >-0.479133</td>\n",
       "            </tr>\n",
       "            <tr>\n",
       "                                <td id=\"T_1ac0be6e_3349_11ed_a4dd_784f437c194arow4_col0\" class=\"data row4 col0\" >shape_MeshVolume</td>\n",
       "                        <td id=\"T_1ac0be6e_3349_11ed_a4dd_784f437c194arow4_col1\" class=\"data row4 col1\" >0.468343</td>\n",
       "            </tr>\n",
       "            <tr>\n",
       "                                <td id=\"T_1ac0be6e_3349_11ed_a4dd_784f437c194arow5_col0\" class=\"data row5 col0\" >firstorder_RootMeanSquared</td>\n",
       "                        <td id=\"T_1ac0be6e_3349_11ed_a4dd_784f437c194arow5_col1\" class=\"data row5 col1\" >-0.406823</td>\n",
       "            </tr>\n",
       "            <tr>\n",
       "                                <td id=\"T_1ac0be6e_3349_11ed_a4dd_784f437c194arow6_col0\" class=\"data row6 col0\" >shape_Elongation</td>\n",
       "                        <td id=\"T_1ac0be6e_3349_11ed_a4dd_784f437c194arow6_col1\" class=\"data row6 col1\" >-0.366845</td>\n",
       "            </tr>\n",
       "            <tr>\n",
       "                                <td id=\"T_1ac0be6e_3349_11ed_a4dd_784f437c194arow7_col0\" class=\"data row7 col0\" >firstorder_Maximum</td>\n",
       "                        <td id=\"T_1ac0be6e_3349_11ed_a4dd_784f437c194arow7_col1\" class=\"data row7 col1\" >0.174302</td>\n",
       "            </tr>\n",
       "            <tr>\n",
       "                                <td id=\"T_1ac0be6e_3349_11ed_a4dd_784f437c194arow8_col0\" class=\"data row8 col0\" >firstorder_Kurtosis</td>\n",
       "                        <td id=\"T_1ac0be6e_3349_11ed_a4dd_784f437c194arow8_col1\" class=\"data row8 col1\" >-0.117979</td>\n",
       "            </tr>\n",
       "    </tbody></table>"
      ],
      "text/plain": [
       "<pandas.io.formats.style.Styler at 0x7fa13f2cf9b0>"
      ]
     },
     "metadata": {},
     "output_type": "display_data"
    },
    {
     "name": "stdout",
     "output_type": "stream",
     "text": [
      "\n",
      "\n",
      "\n"
     ]
    },
    {
     "data": {
      "text/html": [
       "<style  type=\"text/css\" >\n",
       "</style><table id=\"T_1ac2d8ca_3349_11ed_a124_784f437c194a\" ><thead>    <tr>        <th class=\"col_heading level0 col0\" >Feature</th>        <th class=\"col_heading level0 col1\" >Coef</th>    </tr></thead><tbody>\n",
       "                <tr>\n",
       "                                <td id=\"T_1ac2d8ca_3349_11ed_a124_784f437c194arow0_col0\" class=\"data row0 col0\" >firstorder_90Percentile</td>\n",
       "                        <td id=\"T_1ac2d8ca_3349_11ed_a124_784f437c194arow0_col1\" class=\"data row0 col1\" >-1.204890</td>\n",
       "            </tr>\n",
       "            <tr>\n",
       "                                <td id=\"T_1ac2d8ca_3349_11ed_a124_784f437c194arow1_col0\" class=\"data row1 col0\" >glszm_ZoneEntropy</td>\n",
       "                        <td id=\"T_1ac2d8ca_3349_11ed_a124_784f437c194arow1_col1\" class=\"data row1 col1\" >0.758957</td>\n",
       "            </tr>\n",
       "            <tr>\n",
       "                                <td id=\"T_1ac2d8ca_3349_11ed_a124_784f437c194arow2_col0\" class=\"data row2 col0\" >shape_Sphericity</td>\n",
       "                        <td id=\"T_1ac2d8ca_3349_11ed_a124_784f437c194arow2_col1\" class=\"data row2 col1\" >-0.514748</td>\n",
       "            </tr>\n",
       "            <tr>\n",
       "                                <td id=\"T_1ac2d8ca_3349_11ed_a124_784f437c194arow3_col0\" class=\"data row3 col0\" >glszm_SmallAreaEmphasis</td>\n",
       "                        <td id=\"T_1ac2d8ca_3349_11ed_a124_784f437c194arow3_col1\" class=\"data row3 col1\" >0.482893</td>\n",
       "            </tr>\n",
       "            <tr>\n",
       "                                <td id=\"T_1ac2d8ca_3349_11ed_a124_784f437c194arow4_col0\" class=\"data row4 col0\" >firstorder_RootMeanSquared</td>\n",
       "                        <td id=\"T_1ac2d8ca_3349_11ed_a124_784f437c194arow4_col1\" class=\"data row4 col1\" >-0.408670</td>\n",
       "            </tr>\n",
       "            <tr>\n",
       "                                <td id=\"T_1ac2d8ca_3349_11ed_a124_784f437c194arow5_col0\" class=\"data row5 col0\" >shape_MeshVolume</td>\n",
       "                        <td id=\"T_1ac2d8ca_3349_11ed_a124_784f437c194arow5_col1\" class=\"data row5 col1\" >0.290543</td>\n",
       "            </tr>\n",
       "            <tr>\n",
       "                                <td id=\"T_1ac2d8ca_3349_11ed_a124_784f437c194arow6_col0\" class=\"data row6 col0\" >ngtdm_Strength</td>\n",
       "                        <td id=\"T_1ac2d8ca_3349_11ed_a124_784f437c194arow6_col1\" class=\"data row6 col1\" >-0.220718</td>\n",
       "            </tr>\n",
       "            <tr>\n",
       "                                <td id=\"T_1ac2d8ca_3349_11ed_a124_784f437c194arow7_col0\" class=\"data row7 col0\" >firstorder_Maximum</td>\n",
       "                        <td id=\"T_1ac2d8ca_3349_11ed_a124_784f437c194arow7_col1\" class=\"data row7 col1\" >0.181797</td>\n",
       "            </tr>\n",
       "            <tr>\n",
       "                                <td id=\"T_1ac2d8ca_3349_11ed_a124_784f437c194arow8_col0\" class=\"data row8 col0\" >shape_Elongation</td>\n",
       "                        <td id=\"T_1ac2d8ca_3349_11ed_a124_784f437c194arow8_col1\" class=\"data row8 col1\" >-0.110627</td>\n",
       "            </tr>\n",
       "            <tr>\n",
       "                                <td id=\"T_1ac2d8ca_3349_11ed_a124_784f437c194arow9_col0\" class=\"data row9 col0\" >firstorder_Skewness</td>\n",
       "                        <td id=\"T_1ac2d8ca_3349_11ed_a124_784f437c194arow9_col1\" class=\"data row9 col1\" >0.066412</td>\n",
       "            </tr>\n",
       "            <tr>\n",
       "                                <td id=\"T_1ac2d8ca_3349_11ed_a124_784f437c194arow10_col0\" class=\"data row10 col0\" >firstorder_InterquartileRange</td>\n",
       "                        <td id=\"T_1ac2d8ca_3349_11ed_a124_784f437c194arow10_col1\" class=\"data row10 col1\" >0.056636</td>\n",
       "            </tr>\n",
       "    </tbody></table>"
      ],
      "text/plain": [
       "<pandas.io.formats.style.Styler at 0x7fa13bb0b080>"
      ]
     },
     "metadata": {},
     "output_type": "display_data"
    },
    {
     "name": "stdout",
     "output_type": "stream",
     "text": [
      "\n",
      "\n",
      "\n"
     ]
    },
    {
     "data": {
      "text/html": [
       "<style  type=\"text/css\" >\n",
       "</style><table id=\"T_1ac421e4_3349_11ed_a000_784f437c194a\" ><thead>    <tr>        <th class=\"col_heading level0 col0\" >Feature</th>        <th class=\"col_heading level0 col1\" >Coef</th>    </tr></thead><tbody>\n",
       "                <tr>\n",
       "                                <td id=\"T_1ac421e4_3349_11ed_a000_784f437c194arow0_col0\" class=\"data row0 col0\" >firstorder_90Percentile</td>\n",
       "                        <td id=\"T_1ac421e4_3349_11ed_a000_784f437c194arow0_col1\" class=\"data row0 col1\" >-1.232242</td>\n",
       "            </tr>\n",
       "            <tr>\n",
       "                                <td id=\"T_1ac421e4_3349_11ed_a000_784f437c194arow1_col0\" class=\"data row1 col0\" >glszm_ZoneEntropy</td>\n",
       "                        <td id=\"T_1ac421e4_3349_11ed_a000_784f437c194arow1_col1\" class=\"data row1 col1\" >1.001708</td>\n",
       "            </tr>\n",
       "            <tr>\n",
       "                                <td id=\"T_1ac421e4_3349_11ed_a000_784f437c194arow2_col0\" class=\"data row2 col0\" >glszm_SmallAreaEmphasis</td>\n",
       "                        <td id=\"T_1ac421e4_3349_11ed_a000_784f437c194arow2_col1\" class=\"data row2 col1\" >0.576111</td>\n",
       "            </tr>\n",
       "            <tr>\n",
       "                                <td id=\"T_1ac421e4_3349_11ed_a000_784f437c194arow3_col0\" class=\"data row3 col0\" >shape_MeshVolume</td>\n",
       "                        <td id=\"T_1ac421e4_3349_11ed_a000_784f437c194arow3_col1\" class=\"data row3 col1\" >0.505558</td>\n",
       "            </tr>\n",
       "            <tr>\n",
       "                                <td id=\"T_1ac421e4_3349_11ed_a000_784f437c194arow4_col0\" class=\"data row4 col0\" >firstorder_RootMeanSquared</td>\n",
       "                        <td id=\"T_1ac421e4_3349_11ed_a000_784f437c194arow4_col1\" class=\"data row4 col1\" >-0.279644</td>\n",
       "            </tr>\n",
       "            <tr>\n",
       "                                <td id=\"T_1ac421e4_3349_11ed_a000_784f437c194arow5_col0\" class=\"data row5 col0\" >shape_Sphericity</td>\n",
       "                        <td id=\"T_1ac421e4_3349_11ed_a000_784f437c194arow5_col1\" class=\"data row5 col1\" >-0.262477</td>\n",
       "            </tr>\n",
       "            <tr>\n",
       "                                <td id=\"T_1ac421e4_3349_11ed_a000_784f437c194arow6_col0\" class=\"data row6 col0\" >shape_Elongation</td>\n",
       "                        <td id=\"T_1ac421e4_3349_11ed_a000_784f437c194arow6_col1\" class=\"data row6 col1\" >-0.233143</td>\n",
       "            </tr>\n",
       "            <tr>\n",
       "                                <td id=\"T_1ac421e4_3349_11ed_a000_784f437c194arow7_col0\" class=\"data row7 col0\" >ngtdm_Strength</td>\n",
       "                        <td id=\"T_1ac421e4_3349_11ed_a000_784f437c194arow7_col1\" class=\"data row7 col1\" >-0.225182</td>\n",
       "            </tr>\n",
       "            <tr>\n",
       "                                <td id=\"T_1ac421e4_3349_11ed_a000_784f437c194arow8_col0\" class=\"data row8 col0\" >firstorder_Maximum</td>\n",
       "                        <td id=\"T_1ac421e4_3349_11ed_a000_784f437c194arow8_col1\" class=\"data row8 col1\" >0.120893</td>\n",
       "            </tr>\n",
       "            <tr>\n",
       "                                <td id=\"T_1ac421e4_3349_11ed_a000_784f437c194arow9_col0\" class=\"data row9 col0\" >firstorder_Skewness</td>\n",
       "                        <td id=\"T_1ac421e4_3349_11ed_a000_784f437c194arow9_col1\" class=\"data row9 col1\" >0.085705</td>\n",
       "            </tr>\n",
       "    </tbody></table>"
      ],
      "text/plain": [
       "<pandas.io.formats.style.Styler at 0x7fa144692cc0>"
      ]
     },
     "metadata": {},
     "output_type": "display_data"
    },
    {
     "name": "stdout",
     "output_type": "stream",
     "text": [
      "\n",
      "\n",
      "shape|glcm|gldm|glszm|glrlm|ngtdm\n"
     ]
    },
    {
     "data": {
      "text/html": [
       "<style  type=\"text/css\" >\n",
       "</style><table id=\"T_1ac55a78_3349_11ed_abc5_784f437c194a\" ><thead>    <tr>        <th class=\"col_heading level0 col0\" >Feature</th>        <th class=\"col_heading level0 col1\" >Coef</th>    </tr></thead><tbody>\n",
       "                <tr>\n",
       "                                <td id=\"T_1ac55a78_3349_11ed_abc5_784f437c194arow0_col0\" class=\"data row0 col0\" >shape_MeshVolume</td>\n",
       "                        <td id=\"T_1ac55a78_3349_11ed_abc5_784f437c194arow0_col1\" class=\"data row0 col1\" >1.980567</td>\n",
       "            </tr>\n",
       "            <tr>\n",
       "                                <td id=\"T_1ac55a78_3349_11ed_abc5_784f437c194arow1_col0\" class=\"data row1 col0\" >shape_Sphericity</td>\n",
       "                        <td id=\"T_1ac55a78_3349_11ed_abc5_784f437c194arow1_col1\" class=\"data row1 col1\" >-1.193571</td>\n",
       "            </tr>\n",
       "            <tr>\n",
       "                                <td id=\"T_1ac55a78_3349_11ed_abc5_784f437c194arow2_col0\" class=\"data row2 col0\" >glszm_SmallAreaEmphasis</td>\n",
       "                        <td id=\"T_1ac55a78_3349_11ed_abc5_784f437c194arow2_col1\" class=\"data row2 col1\" >0.381459</td>\n",
       "            </tr>\n",
       "            <tr>\n",
       "                                <td id=\"T_1ac55a78_3349_11ed_abc5_784f437c194arow3_col0\" class=\"data row3 col0\" >gldm_DependenceNonUniformityNormalized</td>\n",
       "                        <td id=\"T_1ac55a78_3349_11ed_abc5_784f437c194arow3_col1\" class=\"data row3 col1\" >-0.373177</td>\n",
       "            </tr>\n",
       "            <tr>\n",
       "                                <td id=\"T_1ac55a78_3349_11ed_abc5_784f437c194arow4_col0\" class=\"data row4 col0\" >ngtdm_Contrast</td>\n",
       "                        <td id=\"T_1ac55a78_3349_11ed_abc5_784f437c194arow4_col1\" class=\"data row4 col1\" >0.258610</td>\n",
       "            </tr>\n",
       "            <tr>\n",
       "                                <td id=\"T_1ac55a78_3349_11ed_abc5_784f437c194arow5_col0\" class=\"data row5 col0\" >shape_Elongation</td>\n",
       "                        <td id=\"T_1ac55a78_3349_11ed_abc5_784f437c194arow5_col1\" class=\"data row5 col1\" >-0.049085</td>\n",
       "            </tr>\n",
       "    </tbody></table>"
      ],
      "text/plain": [
       "<pandas.io.formats.style.Styler at 0x7fa13f36f3c8>"
      ]
     },
     "metadata": {},
     "output_type": "display_data"
    },
    {
     "name": "stdout",
     "output_type": "stream",
     "text": [
      "\n",
      "\n",
      "\n"
     ]
    },
    {
     "data": {
      "text/html": [
       "<style  type=\"text/css\" >\n",
       "</style><table id=\"T_1ac6eeec_3349_11ed_b8ef_784f437c194a\" ><thead>    <tr>        <th class=\"col_heading level0 col0\" >Feature</th>        <th class=\"col_heading level0 col1\" >Coef</th>    </tr></thead><tbody>\n",
       "                <tr>\n",
       "                                <td id=\"T_1ac6eeec_3349_11ed_b8ef_784f437c194arow0_col0\" class=\"data row0 col0\" >firstorder_Median</td>\n",
       "                        <td id=\"T_1ac6eeec_3349_11ed_b8ef_784f437c194arow0_col1\" class=\"data row0 col1\" >-1.515349</td>\n",
       "            </tr>\n",
       "            <tr>\n",
       "                                <td id=\"T_1ac6eeec_3349_11ed_b8ef_784f437c194arow1_col0\" class=\"data row1 col0\" >firstorder_Maximum</td>\n",
       "                        <td id=\"T_1ac6eeec_3349_11ed_b8ef_784f437c194arow1_col1\" class=\"data row1 col1\" >0.525574</td>\n",
       "            </tr>\n",
       "            <tr>\n",
       "                                <td id=\"T_1ac6eeec_3349_11ed_b8ef_784f437c194arow2_col0\" class=\"data row2 col0\" >firstorder_InterquartileRange</td>\n",
       "                        <td id=\"T_1ac6eeec_3349_11ed_b8ef_784f437c194arow2_col1\" class=\"data row2 col1\" >0.414860</td>\n",
       "            </tr>\n",
       "            <tr>\n",
       "                                <td id=\"T_1ac6eeec_3349_11ed_b8ef_784f437c194arow3_col0\" class=\"data row3 col0\" >shape_Sphericity</td>\n",
       "                        <td id=\"T_1ac6eeec_3349_11ed_b8ef_784f437c194arow3_col1\" class=\"data row3 col1\" >-0.379726</td>\n",
       "            </tr>\n",
       "            <tr>\n",
       "                                <td id=\"T_1ac6eeec_3349_11ed_b8ef_784f437c194arow4_col0\" class=\"data row4 col0\" >shape_MeshVolume</td>\n",
       "                        <td id=\"T_1ac6eeec_3349_11ed_b8ef_784f437c194arow4_col1\" class=\"data row4 col1\" >0.289168</td>\n",
       "            </tr>\n",
       "            <tr>\n",
       "                                <td id=\"T_1ac6eeec_3349_11ed_b8ef_784f437c194arow5_col0\" class=\"data row5 col0\" >ngtdm_Strength</td>\n",
       "                        <td id=\"T_1ac6eeec_3349_11ed_b8ef_784f437c194arow5_col1\" class=\"data row5 col1\" >-0.237986</td>\n",
       "            </tr>\n",
       "            <tr>\n",
       "                                <td id=\"T_1ac6eeec_3349_11ed_b8ef_784f437c194arow6_col0\" class=\"data row6 col0\" >firstorder_RootMeanSquared</td>\n",
       "                        <td id=\"T_1ac6eeec_3349_11ed_b8ef_784f437c194arow6_col1\" class=\"data row6 col1\" >-0.191299</td>\n",
       "            </tr>\n",
       "            <tr>\n",
       "                                <td id=\"T_1ac6eeec_3349_11ed_b8ef_784f437c194arow7_col0\" class=\"data row7 col0\" >glszm_SmallAreaEmphasis</td>\n",
       "                        <td id=\"T_1ac6eeec_3349_11ed_b8ef_784f437c194arow7_col1\" class=\"data row7 col1\" >0.138753</td>\n",
       "            </tr>\n",
       "            <tr>\n",
       "                                <td id=\"T_1ac6eeec_3349_11ed_b8ef_784f437c194arow8_col0\" class=\"data row8 col0\" >shape_Elongation</td>\n",
       "                        <td id=\"T_1ac6eeec_3349_11ed_b8ef_784f437c194arow8_col1\" class=\"data row8 col1\" >-0.130657</td>\n",
       "            </tr>\n",
       "            <tr>\n",
       "                                <td id=\"T_1ac6eeec_3349_11ed_b8ef_784f437c194arow9_col0\" class=\"data row9 col0\" >gldm_DependenceNonUniformityNormalized</td>\n",
       "                        <td id=\"T_1ac6eeec_3349_11ed_b8ef_784f437c194arow9_col1\" class=\"data row9 col1\" >-0.086702</td>\n",
       "            </tr>\n",
       "    </tbody></table>"
      ],
      "text/plain": [
       "<pandas.io.formats.style.Styler at 0x7fa13f36f198>"
      ]
     },
     "metadata": {},
     "output_type": "display_data"
    },
    {
     "name": "stdout",
     "output_type": "stream",
     "text": [
      "\n",
      "\n",
      "\n"
     ]
    },
    {
     "data": {
      "text/html": [
       "<style  type=\"text/css\" >\n",
       "</style><table id=\"T_1ac87082_3349_11ed_9af3_784f437c194a\" ><thead>    <tr>        <th class=\"col_heading level0 col0\" >Feature</th>        <th class=\"col_heading level0 col1\" >Coef</th>    </tr></thead><tbody>\n",
       "                <tr>\n",
       "                                <td id=\"T_1ac87082_3349_11ed_9af3_784f437c194arow0_col0\" class=\"data row0 col0\" >firstorder_90Percentile</td>\n",
       "                        <td id=\"T_1ac87082_3349_11ed_9af3_784f437c194arow0_col1\" class=\"data row0 col1\" >-1.200755</td>\n",
       "            </tr>\n",
       "            <tr>\n",
       "                                <td id=\"T_1ac87082_3349_11ed_9af3_784f437c194arow1_col0\" class=\"data row1 col0\" >glcm_Imc2</td>\n",
       "                        <td id=\"T_1ac87082_3349_11ed_9af3_784f437c194arow1_col1\" class=\"data row1 col1\" >0.526277</td>\n",
       "            </tr>\n",
       "            <tr>\n",
       "                                <td id=\"T_1ac87082_3349_11ed_9af3_784f437c194arow2_col0\" class=\"data row2 col0\" >firstorder_InterquartileRange</td>\n",
       "                        <td id=\"T_1ac87082_3349_11ed_9af3_784f437c194arow2_col1\" class=\"data row2 col1\" >0.488303</td>\n",
       "            </tr>\n",
       "            <tr>\n",
       "                                <td id=\"T_1ac87082_3349_11ed_9af3_784f437c194arow3_col0\" class=\"data row3 col0\" >firstorder_Maximum</td>\n",
       "                        <td id=\"T_1ac87082_3349_11ed_9af3_784f437c194arow3_col1\" class=\"data row3 col1\" >0.464273</td>\n",
       "            </tr>\n",
       "            <tr>\n",
       "                                <td id=\"T_1ac87082_3349_11ed_9af3_784f437c194arow4_col0\" class=\"data row4 col0\" >glszm_SmallAreaEmphasis</td>\n",
       "                        <td id=\"T_1ac87082_3349_11ed_9af3_784f437c194arow4_col1\" class=\"data row4 col1\" >0.382925</td>\n",
       "            </tr>\n",
       "            <tr>\n",
       "                                <td id=\"T_1ac87082_3349_11ed_9af3_784f437c194arow5_col0\" class=\"data row5 col0\" >shape_Sphericity</td>\n",
       "                        <td id=\"T_1ac87082_3349_11ed_9af3_784f437c194arow5_col1\" class=\"data row5 col1\" >-0.318869</td>\n",
       "            </tr>\n",
       "            <tr>\n",
       "                                <td id=\"T_1ac87082_3349_11ed_9af3_784f437c194arow6_col0\" class=\"data row6 col0\" >shape_MeshVolume</td>\n",
       "                        <td id=\"T_1ac87082_3349_11ed_9af3_784f437c194arow6_col1\" class=\"data row6 col1\" >0.315815</td>\n",
       "            </tr>\n",
       "            <tr>\n",
       "                                <td id=\"T_1ac87082_3349_11ed_9af3_784f437c194arow7_col0\" class=\"data row7 col0\" >firstorder_RootMeanSquared</td>\n",
       "                        <td id=\"T_1ac87082_3349_11ed_9af3_784f437c194arow7_col1\" class=\"data row7 col1\" >-0.246700</td>\n",
       "            </tr>\n",
       "            <tr>\n",
       "                                <td id=\"T_1ac87082_3349_11ed_9af3_784f437c194arow8_col0\" class=\"data row8 col0\" >ngtdm_Strength</td>\n",
       "                        <td id=\"T_1ac87082_3349_11ed_9af3_784f437c194arow8_col1\" class=\"data row8 col1\" >-0.224657</td>\n",
       "            </tr>\n",
       "            <tr>\n",
       "                                <td id=\"T_1ac87082_3349_11ed_9af3_784f437c194arow9_col0\" class=\"data row9 col0\" >shape_Elongation</td>\n",
       "                        <td id=\"T_1ac87082_3349_11ed_9af3_784f437c194arow9_col1\" class=\"data row9 col1\" >-0.052698</td>\n",
       "            </tr>\n",
       "    </tbody></table>"
      ],
      "text/plain": [
       "<pandas.io.formats.style.Styler at 0x7fa13f2e7e48>"
      ]
     },
     "metadata": {},
     "output_type": "display_data"
    },
    {
     "name": "stdout",
     "output_type": "stream",
     "text": [
      "\n",
      "\n",
      "shape|firstorder|histogram\n"
     ]
    },
    {
     "data": {
      "text/html": [
       "<style  type=\"text/css\" >\n",
       "</style><table id=\"T_1ac9e778_3349_11ed_afda_784f437c194a\" ><thead>    <tr>        <th class=\"col_heading level0 col0\" >Feature</th>        <th class=\"col_heading level0 col1\" >Coef</th>    </tr></thead><tbody>\n",
       "                <tr>\n",
       "                                <td id=\"T_1ac9e778_3349_11ed_afda_784f437c194arow0_col0\" class=\"data row0 col0\" >firstorder_90Percentile</td>\n",
       "                        <td id=\"T_1ac9e778_3349_11ed_afda_784f437c194arow0_col1\" class=\"data row0 col1\" >-1.204973</td>\n",
       "            </tr>\n",
       "            <tr>\n",
       "                                <td id=\"T_1ac9e778_3349_11ed_afda_784f437c194arow1_col0\" class=\"data row1 col0\" >firstorder_InterquartileRange</td>\n",
       "                        <td id=\"T_1ac9e778_3349_11ed_afda_784f437c194arow1_col1\" class=\"data row1 col1\" >0.720446</td>\n",
       "            </tr>\n",
       "            <tr>\n",
       "                                <td id=\"T_1ac9e778_3349_11ed_afda_784f437c194arow2_col0\" class=\"data row2 col0\" >firstorder_Maximum</td>\n",
       "                        <td id=\"T_1ac9e778_3349_11ed_afda_784f437c194arow2_col1\" class=\"data row2 col1\" >0.645986</td>\n",
       "            </tr>\n",
       "            <tr>\n",
       "                                <td id=\"T_1ac9e778_3349_11ed_afda_784f437c194arow3_col0\" class=\"data row3 col0\" >shape_MeshVolume</td>\n",
       "                        <td id=\"T_1ac9e778_3349_11ed_afda_784f437c194arow3_col1\" class=\"data row3 col1\" >0.442582</td>\n",
       "            </tr>\n",
       "            <tr>\n",
       "                                <td id=\"T_1ac9e778_3349_11ed_afda_784f437c194arow4_col0\" class=\"data row4 col0\" >shape_Elongation</td>\n",
       "                        <td id=\"T_1ac9e778_3349_11ed_afda_784f437c194arow4_col1\" class=\"data row4 col1\" >-0.272855</td>\n",
       "            </tr>\n",
       "            <tr>\n",
       "                                <td id=\"T_1ac9e778_3349_11ed_afda_784f437c194arow5_col0\" class=\"data row5 col0\" >firstorder_Kurtosis</td>\n",
       "                        <td id=\"T_1ac9e778_3349_11ed_afda_784f437c194arow5_col1\" class=\"data row5 col1\" >-0.245370</td>\n",
       "            </tr>\n",
       "            <tr>\n",
       "                                <td id=\"T_1ac9e778_3349_11ed_afda_784f437c194arow6_col0\" class=\"data row6 col0\" >shape_Sphericity</td>\n",
       "                        <td id=\"T_1ac9e778_3349_11ed_afda_784f437c194arow6_col1\" class=\"data row6 col1\" >-0.238016</td>\n",
       "            </tr>\n",
       "            <tr>\n",
       "                                <td id=\"T_1ac9e778_3349_11ed_afda_784f437c194arow7_col0\" class=\"data row7 col0\" >firstorder_RootMeanSquared</td>\n",
       "                        <td id=\"T_1ac9e778_3349_11ed_afda_784f437c194arow7_col1\" class=\"data row7 col1\" >-0.189706</td>\n",
       "            </tr>\n",
       "    </tbody></table>"
      ],
      "text/plain": [
       "<pandas.io.formats.style.Styler at 0x7fa13f36fe80>"
      ]
     },
     "metadata": {},
     "output_type": "display_data"
    },
    {
     "name": "stdout",
     "output_type": "stream",
     "text": [
      "\n",
      "\n",
      "\n"
     ]
    },
    {
     "data": {
      "text/html": [
       "<style  type=\"text/css\" >\n",
       "</style><table id=\"T_1acb6d46_3349_11ed_ac03_784f437c194a\" ><thead>    <tr>        <th class=\"col_heading level0 col0\" >Feature</th>        <th class=\"col_heading level0 col1\" >Coef</th>    </tr></thead><tbody>\n",
       "                <tr>\n",
       "                                <td id=\"T_1acb6d46_3349_11ed_ac03_784f437c194arow0_col0\" class=\"data row0 col0\" >firstorder_90Percentile</td>\n",
       "                        <td id=\"T_1acb6d46_3349_11ed_ac03_784f437c194arow0_col1\" class=\"data row0 col1\" >-1.441162</td>\n",
       "            </tr>\n",
       "            <tr>\n",
       "                                <td id=\"T_1acb6d46_3349_11ed_ac03_784f437c194arow1_col0\" class=\"data row1 col0\" >glszm_ZoneEntropy</td>\n",
       "                        <td id=\"T_1acb6d46_3349_11ed_ac03_784f437c194arow1_col1\" class=\"data row1 col1\" >1.277914</td>\n",
       "            </tr>\n",
       "            <tr>\n",
       "                                <td id=\"T_1acb6d46_3349_11ed_ac03_784f437c194arow2_col0\" class=\"data row2 col0\" >firstorder_Maximum</td>\n",
       "                        <td id=\"T_1acb6d46_3349_11ed_ac03_784f437c194arow2_col1\" class=\"data row2 col1\" >1.034361</td>\n",
       "            </tr>\n",
       "            <tr>\n",
       "                                <td id=\"T_1acb6d46_3349_11ed_ac03_784f437c194arow3_col0\" class=\"data row3 col0\" >shape_MeshVolume</td>\n",
       "                        <td id=\"T_1acb6d46_3349_11ed_ac03_784f437c194arow3_col1\" class=\"data row3 col1\" >0.625512</td>\n",
       "            </tr>\n",
       "            <tr>\n",
       "                                <td id=\"T_1acb6d46_3349_11ed_ac03_784f437c194arow4_col0\" class=\"data row4 col0\" >glszm_SmallAreaEmphasis</td>\n",
       "                        <td id=\"T_1acb6d46_3349_11ed_ac03_784f437c194arow4_col1\" class=\"data row4 col1\" >0.624814</td>\n",
       "            </tr>\n",
       "            <tr>\n",
       "                                <td id=\"T_1acb6d46_3349_11ed_ac03_784f437c194arow5_col0\" class=\"data row5 col0\" >ngtdm_Strength</td>\n",
       "                        <td id=\"T_1acb6d46_3349_11ed_ac03_784f437c194arow5_col1\" class=\"data row5 col1\" >-0.590304</td>\n",
       "            </tr>\n",
       "            <tr>\n",
       "                                <td id=\"T_1acb6d46_3349_11ed_ac03_784f437c194arow6_col0\" class=\"data row6 col0\" >firstorder_RootMeanSquared</td>\n",
       "                        <td id=\"T_1acb6d46_3349_11ed_ac03_784f437c194arow6_col1\" class=\"data row6 col1\" >-0.426650</td>\n",
       "            </tr>\n",
       "            <tr>\n",
       "                                <td id=\"T_1acb6d46_3349_11ed_ac03_784f437c194arow7_col0\" class=\"data row7 col0\" >shape_Elongation</td>\n",
       "                        <td id=\"T_1acb6d46_3349_11ed_ac03_784f437c194arow7_col1\" class=\"data row7 col1\" >-0.331804</td>\n",
       "            </tr>\n",
       "            <tr>\n",
       "                                <td id=\"T_1acb6d46_3349_11ed_ac03_784f437c194arow8_col0\" class=\"data row8 col0\" >shape_Sphericity</td>\n",
       "                        <td id=\"T_1acb6d46_3349_11ed_ac03_784f437c194arow8_col1\" class=\"data row8 col1\" >-0.154053</td>\n",
       "            </tr>\n",
       "            <tr>\n",
       "                                <td id=\"T_1acb6d46_3349_11ed_ac03_784f437c194arow9_col0\" class=\"data row9 col0\" >ngtdm_Contrast</td>\n",
       "                        <td id=\"T_1acb6d46_3349_11ed_ac03_784f437c194arow9_col1\" class=\"data row9 col1\" >0.147145</td>\n",
       "            </tr>\n",
       "            <tr>\n",
       "                                <td id=\"T_1acb6d46_3349_11ed_ac03_784f437c194arow10_col0\" class=\"data row10 col0\" >gldm_DependenceNonUniformityNormalized</td>\n",
       "                        <td id=\"T_1acb6d46_3349_11ed_ac03_784f437c194arow10_col1\" class=\"data row10 col1\" >-0.083627</td>\n",
       "            </tr>\n",
       "    </tbody></table>"
      ],
      "text/plain": [
       "<pandas.io.formats.style.Styler at 0x7fa144692cc0>"
      ]
     },
     "metadata": {},
     "output_type": "display_data"
    },
    {
     "name": "stdout",
     "output_type": "stream",
     "text": [
      "\n",
      "\n",
      "shape|firstorder|histogram\n"
     ]
    },
    {
     "data": {
      "text/html": [
       "<style  type=\"text/css\" >\n",
       "</style><table id=\"T_1accab48_3349_11ed_9ce1_784f437c194a\" ><thead>    <tr>        <th class=\"col_heading level0 col0\" >Feature</th>        <th class=\"col_heading level0 col1\" >Coef</th>    </tr></thead><tbody>\n",
       "                <tr>\n",
       "                                <td id=\"T_1accab48_3349_11ed_9ce1_784f437c194arow0_col0\" class=\"data row0 col0\" >firstorder_90Percentile</td>\n",
       "                        <td id=\"T_1accab48_3349_11ed_9ce1_784f437c194arow0_col1\" class=\"data row0 col1\" >-1.274688</td>\n",
       "            </tr>\n",
       "            <tr>\n",
       "                                <td id=\"T_1accab48_3349_11ed_9ce1_784f437c194arow1_col0\" class=\"data row1 col0\" >firstorder_InterquartileRange</td>\n",
       "                        <td id=\"T_1accab48_3349_11ed_9ce1_784f437c194arow1_col1\" class=\"data row1 col1\" >0.628046</td>\n",
       "            </tr>\n",
       "            <tr>\n",
       "                                <td id=\"T_1accab48_3349_11ed_9ce1_784f437c194arow2_col0\" class=\"data row2 col0\" >firstorder_Range</td>\n",
       "                        <td id=\"T_1accab48_3349_11ed_9ce1_784f437c194arow2_col1\" class=\"data row2 col1\" >0.430878</td>\n",
       "            </tr>\n",
       "            <tr>\n",
       "                                <td id=\"T_1accab48_3349_11ed_9ce1_784f437c194arow3_col0\" class=\"data row3 col0\" >shape_Sphericity</td>\n",
       "                        <td id=\"T_1accab48_3349_11ed_9ce1_784f437c194arow3_col1\" class=\"data row3 col1\" >-0.341313</td>\n",
       "            </tr>\n",
       "            <tr>\n",
       "                                <td id=\"T_1accab48_3349_11ed_9ce1_784f437c194arow4_col0\" class=\"data row4 col0\" >shape_MeshVolume</td>\n",
       "                        <td id=\"T_1accab48_3349_11ed_9ce1_784f437c194arow4_col1\" class=\"data row4 col1\" >0.275313</td>\n",
       "            </tr>\n",
       "            <tr>\n",
       "                                <td id=\"T_1accab48_3349_11ed_9ce1_784f437c194arow5_col0\" class=\"data row5 col0\" >firstorder_RootMeanSquared</td>\n",
       "                        <td id=\"T_1accab48_3349_11ed_9ce1_784f437c194arow5_col1\" class=\"data row5 col1\" >-0.262538</td>\n",
       "            </tr>\n",
       "            <tr>\n",
       "                                <td id=\"T_1accab48_3349_11ed_9ce1_784f437c194arow6_col0\" class=\"data row6 col0\" >firstorder_Maximum</td>\n",
       "                        <td id=\"T_1accab48_3349_11ed_9ce1_784f437c194arow6_col1\" class=\"data row6 col1\" >0.239148</td>\n",
       "            </tr>\n",
       "            <tr>\n",
       "                                <td id=\"T_1accab48_3349_11ed_9ce1_784f437c194arow7_col0\" class=\"data row7 col0\" >firstorder_Kurtosis</td>\n",
       "                        <td id=\"T_1accab48_3349_11ed_9ce1_784f437c194arow7_col1\" class=\"data row7 col1\" >-0.215951</td>\n",
       "            </tr>\n",
       "            <tr>\n",
       "                                <td id=\"T_1accab48_3349_11ed_9ce1_784f437c194arow8_col0\" class=\"data row8 col0\" >shape_Elongation</td>\n",
       "                        <td id=\"T_1accab48_3349_11ed_9ce1_784f437c194arow8_col1\" class=\"data row8 col1\" >-0.058627</td>\n",
       "            </tr>\n",
       "    </tbody></table>"
      ],
      "text/plain": [
       "<pandas.io.formats.style.Styler at 0x7fa13f2cff28>"
      ]
     },
     "metadata": {},
     "output_type": "display_data"
    },
    {
     "name": "stdout",
     "output_type": "stream",
     "text": [
      "\n",
      "\n",
      "firstorder|histogram\n"
     ]
    },
    {
     "data": {
      "text/html": [
       "<style  type=\"text/css\" >\n",
       "</style><table id=\"T_1acdd824_3349_11ed_9d14_784f437c194a\" ><thead>    <tr>        <th class=\"col_heading level0 col0\" >Feature</th>        <th class=\"col_heading level0 col1\" >Coef</th>    </tr></thead><tbody>\n",
       "                <tr>\n",
       "                                <td id=\"T_1acdd824_3349_11ed_9d14_784f437c194arow0_col0\" class=\"data row0 col0\" >firstorder_90Percentile</td>\n",
       "                        <td id=\"T_1acdd824_3349_11ed_9d14_784f437c194arow0_col1\" class=\"data row0 col1\" >-2.120372</td>\n",
       "            </tr>\n",
       "            <tr>\n",
       "                                <td id=\"T_1acdd824_3349_11ed_9d14_784f437c194arow1_col0\" class=\"data row1 col0\" >firstorder_Maximum</td>\n",
       "                        <td id=\"T_1acdd824_3349_11ed_9d14_784f437c194arow1_col1\" class=\"data row1 col1\" >1.454381</td>\n",
       "            </tr>\n",
       "            <tr>\n",
       "                                <td id=\"T_1acdd824_3349_11ed_9d14_784f437c194arow2_col0\" class=\"data row2 col0\" >firstorder_InterquartileRange</td>\n",
       "                        <td id=\"T_1acdd824_3349_11ed_9d14_784f437c194arow2_col1\" class=\"data row2 col1\" >1.236472</td>\n",
       "            </tr>\n",
       "            <tr>\n",
       "                                <td id=\"T_1acdd824_3349_11ed_9d14_784f437c194arow3_col0\" class=\"data row3 col0\" >firstorder_RootMeanSquared</td>\n",
       "                        <td id=\"T_1acdd824_3349_11ed_9d14_784f437c194arow3_col1\" class=\"data row3 col1\" >-0.292799</td>\n",
       "            </tr>\n",
       "            <tr>\n",
       "                                <td id=\"T_1acdd824_3349_11ed_9d14_784f437c194arow4_col0\" class=\"data row4 col0\" >firstorder_Skewness</td>\n",
       "                        <td id=\"T_1acdd824_3349_11ed_9d14_784f437c194arow4_col1\" class=\"data row4 col1\" >0.000052</td>\n",
       "            </tr>\n",
       "    </tbody></table>"
      ],
      "text/plain": [
       "<pandas.io.formats.style.Styler at 0x7fa13f36f3c8>"
      ]
     },
     "metadata": {},
     "output_type": "display_data"
    },
    {
     "name": "stdout",
     "output_type": "stream",
     "text": [
      "\n",
      "\n",
      "shape|firstorder|histogram\n"
     ]
    },
    {
     "data": {
      "text/html": [
       "<style  type=\"text/css\" >\n",
       "</style><table id=\"T_1acee4d0_3349_11ed_a927_784f437c194a\" ><thead>    <tr>        <th class=\"col_heading level0 col0\" >Feature</th>        <th class=\"col_heading level0 col1\" >Coef</th>    </tr></thead><tbody>\n",
       "                <tr>\n",
       "                                <td id=\"T_1acee4d0_3349_11ed_a927_784f437c194arow0_col0\" class=\"data row0 col0\" >firstorder_90Percentile</td>\n",
       "                        <td id=\"T_1acee4d0_3349_11ed_a927_784f437c194arow0_col1\" class=\"data row0 col1\" >-1.338057</td>\n",
       "            </tr>\n",
       "            <tr>\n",
       "                                <td id=\"T_1acee4d0_3349_11ed_a927_784f437c194arow1_col0\" class=\"data row1 col0\" >firstorder_InterquartileRange</td>\n",
       "                        <td id=\"T_1acee4d0_3349_11ed_a927_784f437c194arow1_col1\" class=\"data row1 col1\" >0.655240</td>\n",
       "            </tr>\n",
       "            <tr>\n",
       "                                <td id=\"T_1acee4d0_3349_11ed_a927_784f437c194arow2_col0\" class=\"data row2 col0\" >firstorder_Maximum</td>\n",
       "                        <td id=\"T_1acee4d0_3349_11ed_a927_784f437c194arow2_col1\" class=\"data row2 col1\" >0.582394</td>\n",
       "            </tr>\n",
       "            <tr>\n",
       "                                <td id=\"T_1acee4d0_3349_11ed_a927_784f437c194arow3_col0\" class=\"data row3 col0\" >shape_MeshVolume</td>\n",
       "                        <td id=\"T_1acee4d0_3349_11ed_a927_784f437c194arow3_col1\" class=\"data row3 col1\" >0.399243</td>\n",
       "            </tr>\n",
       "            <tr>\n",
       "                                <td id=\"T_1acee4d0_3349_11ed_a927_784f437c194arow4_col0\" class=\"data row4 col0\" >firstorder_Kurtosis</td>\n",
       "                        <td id=\"T_1acee4d0_3349_11ed_a927_784f437c194arow4_col1\" class=\"data row4 col1\" >-0.233469</td>\n",
       "            </tr>\n",
       "            <tr>\n",
       "                                <td id=\"T_1acee4d0_3349_11ed_a927_784f437c194arow5_col0\" class=\"data row5 col0\" >firstorder_RootMeanSquared</td>\n",
       "                        <td id=\"T_1acee4d0_3349_11ed_a927_784f437c194arow5_col1\" class=\"data row5 col1\" >-0.171501</td>\n",
       "            </tr>\n",
       "            <tr>\n",
       "                                <td id=\"T_1acee4d0_3349_11ed_a927_784f437c194arow6_col0\" class=\"data row6 col0\" >shape_Sphericity</td>\n",
       "                        <td id=\"T_1acee4d0_3349_11ed_a927_784f437c194arow6_col1\" class=\"data row6 col1\" >-0.168859</td>\n",
       "            </tr>\n",
       "            <tr>\n",
       "                                <td id=\"T_1acee4d0_3349_11ed_a927_784f437c194arow7_col0\" class=\"data row7 col0\" >shape_Elongation</td>\n",
       "                        <td id=\"T_1acee4d0_3349_11ed_a927_784f437c194arow7_col1\" class=\"data row7 col1\" >-0.160867</td>\n",
       "            </tr>\n",
       "    </tbody></table>"
      ],
      "text/plain": [
       "<pandas.io.formats.style.Styler at 0x7fa13f2e7438>"
      ]
     },
     "metadata": {},
     "output_type": "display_data"
    },
    {
     "name": "stdout",
     "output_type": "stream",
     "text": [
      "\n",
      "\n",
      "\n"
     ]
    },
    {
     "data": {
      "text/html": [
       "<style  type=\"text/css\" >\n",
       "</style><table id=\"T_1ad04c4c_3349_11ed_8957_784f437c194a\" ><thead>    <tr>        <th class=\"col_heading level0 col0\" >Feature</th>        <th class=\"col_heading level0 col1\" >Coef</th>    </tr></thead><tbody>\n",
       "                <tr>\n",
       "                                <td id=\"T_1ad04c4c_3349_11ed_8957_784f437c194arow0_col0\" class=\"data row0 col0\" >firstorder_90Percentile</td>\n",
       "                        <td id=\"T_1ad04c4c_3349_11ed_8957_784f437c194arow0_col1\" class=\"data row0 col1\" >-1.305097</td>\n",
       "            </tr>\n",
       "            <tr>\n",
       "                                <td id=\"T_1ad04c4c_3349_11ed_8957_784f437c194arow1_col0\" class=\"data row1 col0\" >firstorder_Uniformity</td>\n",
       "                        <td id=\"T_1ad04c4c_3349_11ed_8957_784f437c194arow1_col1\" class=\"data row1 col1\" >-0.699480</td>\n",
       "            </tr>\n",
       "            <tr>\n",
       "                                <td id=\"T_1ad04c4c_3349_11ed_8957_784f437c194arow2_col0\" class=\"data row2 col0\" >firstorder_Maximum</td>\n",
       "                        <td id=\"T_1ad04c4c_3349_11ed_8957_784f437c194arow2_col1\" class=\"data row2 col1\" >0.502144</td>\n",
       "            </tr>\n",
       "            <tr>\n",
       "                                <td id=\"T_1ad04c4c_3349_11ed_8957_784f437c194arow3_col0\" class=\"data row3 col0\" >shape_MeshVolume</td>\n",
       "                        <td id=\"T_1ad04c4c_3349_11ed_8957_784f437c194arow3_col1\" class=\"data row3 col1\" >0.429318</td>\n",
       "            </tr>\n",
       "            <tr>\n",
       "                                <td id=\"T_1ad04c4c_3349_11ed_8957_784f437c194arow4_col0\" class=\"data row4 col0\" >glszm_SmallAreaEmphasis</td>\n",
       "                        <td id=\"T_1ad04c4c_3349_11ed_8957_784f437c194arow4_col1\" class=\"data row4 col1\" >0.275338</td>\n",
       "            </tr>\n",
       "            <tr>\n",
       "                                <td id=\"T_1ad04c4c_3349_11ed_8957_784f437c194arow5_col0\" class=\"data row5 col0\" >shape_Elongation</td>\n",
       "                        <td id=\"T_1ad04c4c_3349_11ed_8957_784f437c194arow5_col1\" class=\"data row5 col1\" >-0.261077</td>\n",
       "            </tr>\n",
       "            <tr>\n",
       "                                <td id=\"T_1ad04c4c_3349_11ed_8957_784f437c194arow6_col0\" class=\"data row6 col0\" >ngtdm_Strength</td>\n",
       "                        <td id=\"T_1ad04c4c_3349_11ed_8957_784f437c194arow6_col1\" class=\"data row6 col1\" >-0.243115</td>\n",
       "            </tr>\n",
       "            <tr>\n",
       "                                <td id=\"T_1ad04c4c_3349_11ed_8957_784f437c194arow7_col0\" class=\"data row7 col0\" >shape_Sphericity</td>\n",
       "                        <td id=\"T_1ad04c4c_3349_11ed_8957_784f437c194arow7_col1\" class=\"data row7 col1\" >-0.167658</td>\n",
       "            </tr>\n",
       "            <tr>\n",
       "                                <td id=\"T_1ad04c4c_3349_11ed_8957_784f437c194arow8_col0\" class=\"data row8 col0\" >gldm_DependenceNonUniformityNormalized</td>\n",
       "                        <td id=\"T_1ad04c4c_3349_11ed_8957_784f437c194arow8_col1\" class=\"data row8 col1\" >-0.126130</td>\n",
       "            </tr>\n",
       "            <tr>\n",
       "                                <td id=\"T_1ad04c4c_3349_11ed_8957_784f437c194arow9_col0\" class=\"data row9 col0\" >firstorder_RootMeanSquared</td>\n",
       "                        <td id=\"T_1ad04c4c_3349_11ed_8957_784f437c194arow9_col1\" class=\"data row9 col1\" >-0.118019</td>\n",
       "            </tr>\n",
       "    </tbody></table>"
      ],
      "text/plain": [
       "<pandas.io.formats.style.Styler at 0x7fa13bb0b400>"
      ]
     },
     "metadata": {},
     "output_type": "display_data"
    },
    {
     "name": "stdout",
     "output_type": "stream",
     "text": [
      "\n",
      "\n",
      "\n"
     ]
    },
    {
     "data": {
      "text/html": [
       "<style  type=\"text/css\" >\n",
       "</style><table id=\"T_1ad19f40_3349_11ed_b162_784f437c194a\" ><thead>    <tr>        <th class=\"col_heading level0 col0\" >Feature</th>        <th class=\"col_heading level0 col1\" >Coef</th>    </tr></thead><tbody>\n",
       "                <tr>\n",
       "                                <td id=\"T_1ad19f40_3349_11ed_b162_784f437c194arow0_col0\" class=\"data row0 col0\" >firstorder_90Percentile</td>\n",
       "                        <td id=\"T_1ad19f40_3349_11ed_b162_784f437c194arow0_col1\" class=\"data row0 col1\" >-1.337335</td>\n",
       "            </tr>\n",
       "            <tr>\n",
       "                                <td id=\"T_1ad19f40_3349_11ed_b162_784f437c194arow1_col0\" class=\"data row1 col0\" >firstorder_InterquartileRange</td>\n",
       "                        <td id=\"T_1ad19f40_3349_11ed_b162_784f437c194arow1_col1\" class=\"data row1 col1\" >0.869365</td>\n",
       "            </tr>\n",
       "            <tr>\n",
       "                                <td id=\"T_1ad19f40_3349_11ed_b162_784f437c194arow2_col0\" class=\"data row2 col0\" >firstorder_Maximum</td>\n",
       "                        <td id=\"T_1ad19f40_3349_11ed_b162_784f437c194arow2_col1\" class=\"data row2 col1\" >0.394583</td>\n",
       "            </tr>\n",
       "            <tr>\n",
       "                                <td id=\"T_1ad19f40_3349_11ed_b162_784f437c194arow3_col0\" class=\"data row3 col0\" >shape_MeshVolume</td>\n",
       "                        <td id=\"T_1ad19f40_3349_11ed_b162_784f437c194arow3_col1\" class=\"data row3 col1\" >0.338196</td>\n",
       "            </tr>\n",
       "            <tr>\n",
       "                                <td id=\"T_1ad19f40_3349_11ed_b162_784f437c194arow4_col0\" class=\"data row4 col0\" >ngtdm_Strength</td>\n",
       "                        <td id=\"T_1ad19f40_3349_11ed_b162_784f437c194arow4_col1\" class=\"data row4 col1\" >-0.221908</td>\n",
       "            </tr>\n",
       "            <tr>\n",
       "                                <td id=\"T_1ad19f40_3349_11ed_b162_784f437c194arow5_col0\" class=\"data row5 col0\" >shape_Sphericity</td>\n",
       "                        <td id=\"T_1ad19f40_3349_11ed_b162_784f437c194arow5_col1\" class=\"data row5 col1\" >-0.201209</td>\n",
       "            </tr>\n",
       "            <tr>\n",
       "                                <td id=\"T_1ad19f40_3349_11ed_b162_784f437c194arow6_col0\" class=\"data row6 col0\" >glszm_SmallAreaEmphasis</td>\n",
       "                        <td id=\"T_1ad19f40_3349_11ed_b162_784f437c194arow6_col1\" class=\"data row6 col1\" >0.167031</td>\n",
       "            </tr>\n",
       "            <tr>\n",
       "                                <td id=\"T_1ad19f40_3349_11ed_b162_784f437c194arow7_col0\" class=\"data row7 col0\" >firstorder_RootMeanSquared</td>\n",
       "                        <td id=\"T_1ad19f40_3349_11ed_b162_784f437c194arow7_col1\" class=\"data row7 col1\" >-0.156562</td>\n",
       "            </tr>\n",
       "            <tr>\n",
       "                                <td id=\"T_1ad19f40_3349_11ed_b162_784f437c194arow8_col0\" class=\"data row8 col0\" >shape_Elongation</td>\n",
       "                        <td id=\"T_1ad19f40_3349_11ed_b162_784f437c194arow8_col1\" class=\"data row8 col1\" >-0.060412</td>\n",
       "            </tr>\n",
       "            <tr>\n",
       "                                <td id=\"T_1ad19f40_3349_11ed_b162_784f437c194arow9_col0\" class=\"data row9 col0\" >gldm_LowGrayLevelEmphasis</td>\n",
       "                        <td id=\"T_1ad19f40_3349_11ed_b162_784f437c194arow9_col1\" class=\"data row9 col1\" >-0.009308</td>\n",
       "            </tr>\n",
       "    </tbody></table>"
      ],
      "text/plain": [
       "<pandas.io.formats.style.Styler at 0x7fa13f2e7ba8>"
      ]
     },
     "metadata": {},
     "output_type": "display_data"
    },
    {
     "name": "stdout",
     "output_type": "stream",
     "text": [
      "\n",
      "\n",
      "shape|firstorder|histogram\n"
     ]
    },
    {
     "data": {
      "text/html": [
       "<style  type=\"text/css\" >\n",
       "</style><table id=\"T_1ad2e580_3349_11ed_aaa9_784f437c194a\" ><thead>    <tr>        <th class=\"col_heading level0 col0\" >Feature</th>        <th class=\"col_heading level0 col1\" >Coef</th>    </tr></thead><tbody>\n",
       "                <tr>\n",
       "                                <td id=\"T_1ad2e580_3349_11ed_aaa9_784f437c194arow0_col0\" class=\"data row0 col0\" >firstorder_90Percentile</td>\n",
       "                        <td id=\"T_1ad2e580_3349_11ed_aaa9_784f437c194arow0_col1\" class=\"data row0 col1\" >-1.533137</td>\n",
       "            </tr>\n",
       "            <tr>\n",
       "                                <td id=\"T_1ad2e580_3349_11ed_aaa9_784f437c194arow1_col0\" class=\"data row1 col0\" >firstorder_InterquartileRange</td>\n",
       "                        <td id=\"T_1ad2e580_3349_11ed_aaa9_784f437c194arow1_col1\" class=\"data row1 col1\" >0.818666</td>\n",
       "            </tr>\n",
       "            <tr>\n",
       "                                <td id=\"T_1ad2e580_3349_11ed_aaa9_784f437c194arow2_col0\" class=\"data row2 col0\" >firstorder_Maximum</td>\n",
       "                        <td id=\"T_1ad2e580_3349_11ed_aaa9_784f437c194arow2_col1\" class=\"data row2 col1\" >0.801900</td>\n",
       "            </tr>\n",
       "            <tr>\n",
       "                                <td id=\"T_1ad2e580_3349_11ed_aaa9_784f437c194arow3_col0\" class=\"data row3 col0\" >shape_MeshVolume</td>\n",
       "                        <td id=\"T_1ad2e580_3349_11ed_aaa9_784f437c194arow3_col1\" class=\"data row3 col1\" >0.683212</td>\n",
       "            </tr>\n",
       "            <tr>\n",
       "                                <td id=\"T_1ad2e580_3349_11ed_aaa9_784f437c194arow4_col0\" class=\"data row4 col0\" >firstorder_Kurtosis</td>\n",
       "                        <td id=\"T_1ad2e580_3349_11ed_aaa9_784f437c194arow4_col1\" class=\"data row4 col1\" >-0.388591</td>\n",
       "            </tr>\n",
       "            <tr>\n",
       "                                <td id=\"T_1ad2e580_3349_11ed_aaa9_784f437c194arow5_col0\" class=\"data row5 col0\" >firstorder_RootMeanSquared</td>\n",
       "                        <td id=\"T_1ad2e580_3349_11ed_aaa9_784f437c194arow5_col1\" class=\"data row5 col1\" >-0.253409</td>\n",
       "            </tr>\n",
       "            <tr>\n",
       "                                <td id=\"T_1ad2e580_3349_11ed_aaa9_784f437c194arow6_col0\" class=\"data row6 col0\" >shape_Sphericity</td>\n",
       "                        <td id=\"T_1ad2e580_3349_11ed_aaa9_784f437c194arow6_col1\" class=\"data row6 col1\" >-0.191358</td>\n",
       "            </tr>\n",
       "            <tr>\n",
       "                                <td id=\"T_1ad2e580_3349_11ed_aaa9_784f437c194arow7_col0\" class=\"data row7 col0\" >shape_Elongation</td>\n",
       "                        <td id=\"T_1ad2e580_3349_11ed_aaa9_784f437c194arow7_col1\" class=\"data row7 col1\" >-0.146277</td>\n",
       "            </tr>\n",
       "            <tr>\n",
       "                                <td id=\"T_1ad2e580_3349_11ed_aaa9_784f437c194arow8_col0\" class=\"data row8 col0\" >shape_Flatness</td>\n",
       "                        <td id=\"T_1ad2e580_3349_11ed_aaa9_784f437c194arow8_col1\" class=\"data row8 col1\" >0.086884</td>\n",
       "            </tr>\n",
       "    </tbody></table>"
      ],
      "text/plain": [
       "<pandas.io.formats.style.Styler at 0x7fa13f2e7518>"
      ]
     },
     "metadata": {},
     "output_type": "display_data"
    },
    {
     "name": "stdout",
     "output_type": "stream",
     "text": [
      "\n",
      "\n",
      "shape|firstorder|histogram\n"
     ]
    },
    {
     "data": {
      "text/html": [
       "<style  type=\"text/css\" >\n",
       "</style><table id=\"T_1ad417d4_3349_11ed_990e_784f437c194a\" ><thead>    <tr>        <th class=\"col_heading level0 col0\" >Feature</th>        <th class=\"col_heading level0 col1\" >Coef</th>    </tr></thead><tbody>\n",
       "                <tr>\n",
       "                                <td id=\"T_1ad417d4_3349_11ed_990e_784f437c194arow0_col0\" class=\"data row0 col0\" >firstorder_Median</td>\n",
       "                        <td id=\"T_1ad417d4_3349_11ed_990e_784f437c194arow0_col1\" class=\"data row0 col1\" >-1.436092</td>\n",
       "            </tr>\n",
       "            <tr>\n",
       "                                <td id=\"T_1ad417d4_3349_11ed_990e_784f437c194arow1_col0\" class=\"data row1 col0\" >firstorder_Maximum</td>\n",
       "                        <td id=\"T_1ad417d4_3349_11ed_990e_784f437c194arow1_col1\" class=\"data row1 col1\" >0.439014</td>\n",
       "            </tr>\n",
       "            <tr>\n",
       "                                <td id=\"T_1ad417d4_3349_11ed_990e_784f437c194arow2_col0\" class=\"data row2 col0\" >shape_Sphericity</td>\n",
       "                        <td id=\"T_1ad417d4_3349_11ed_990e_784f437c194arow2_col1\" class=\"data row2 col1\" >-0.425755</td>\n",
       "            </tr>\n",
       "            <tr>\n",
       "                                <td id=\"T_1ad417d4_3349_11ed_990e_784f437c194arow3_col0\" class=\"data row3 col0\" >shape_MeshVolume</td>\n",
       "                        <td id=\"T_1ad417d4_3349_11ed_990e_784f437c194arow3_col1\" class=\"data row3 col1\" >0.370886</td>\n",
       "            </tr>\n",
       "            <tr>\n",
       "                                <td id=\"T_1ad417d4_3349_11ed_990e_784f437c194arow4_col0\" class=\"data row4 col0\" >firstorder_InterquartileRange</td>\n",
       "                        <td id=\"T_1ad417d4_3349_11ed_990e_784f437c194arow4_col1\" class=\"data row4 col1\" >0.300641</td>\n",
       "            </tr>\n",
       "            <tr>\n",
       "                                <td id=\"T_1ad417d4_3349_11ed_990e_784f437c194arow5_col0\" class=\"data row5 col0\" >firstorder_RootMeanSquared</td>\n",
       "                        <td id=\"T_1ad417d4_3349_11ed_990e_784f437c194arow5_col1\" class=\"data row5 col1\" >-0.221889</td>\n",
       "            </tr>\n",
       "            <tr>\n",
       "                                <td id=\"T_1ad417d4_3349_11ed_990e_784f437c194arow6_col0\" class=\"data row6 col0\" >firstorder_Kurtosis</td>\n",
       "                        <td id=\"T_1ad417d4_3349_11ed_990e_784f437c194arow6_col1\" class=\"data row6 col1\" >-0.171408</td>\n",
       "            </tr>\n",
       "    </tbody></table>"
      ],
      "text/plain": [
       "<pandas.io.formats.style.Styler at 0x7fa13f2e79b0>"
      ]
     },
     "metadata": {},
     "output_type": "display_data"
    },
    {
     "name": "stdout",
     "output_type": "stream",
     "text": [
      "\n",
      "\n",
      "\n"
     ]
    },
    {
     "data": {
      "text/html": [
       "<style  type=\"text/css\" >\n",
       "</style><table id=\"T_1ad570fa_3349_11ed_9a5d_784f437c194a\" ><thead>    <tr>        <th class=\"col_heading level0 col0\" >Feature</th>        <th class=\"col_heading level0 col1\" >Coef</th>    </tr></thead><tbody>\n",
       "                <tr>\n",
       "                                <td id=\"T_1ad570fa_3349_11ed_9a5d_784f437c194arow0_col0\" class=\"data row0 col0\" >firstorder_90Percentile</td>\n",
       "                        <td id=\"T_1ad570fa_3349_11ed_9a5d_784f437c194arow0_col1\" class=\"data row0 col1\" >-1.179501</td>\n",
       "            </tr>\n",
       "            <tr>\n",
       "                                <td id=\"T_1ad570fa_3349_11ed_9a5d_784f437c194arow1_col0\" class=\"data row1 col0\" >firstorder_InterquartileRange</td>\n",
       "                        <td id=\"T_1ad570fa_3349_11ed_9a5d_784f437c194arow1_col1\" class=\"data row1 col1\" >0.914708</td>\n",
       "            </tr>\n",
       "            <tr>\n",
       "                                <td id=\"T_1ad570fa_3349_11ed_9a5d_784f437c194arow2_col0\" class=\"data row2 col0\" >firstorder_Maximum</td>\n",
       "                        <td id=\"T_1ad570fa_3349_11ed_9a5d_784f437c194arow2_col1\" class=\"data row2 col1\" >0.417091</td>\n",
       "            </tr>\n",
       "            <tr>\n",
       "                                <td id=\"T_1ad570fa_3349_11ed_9a5d_784f437c194arow3_col0\" class=\"data row3 col0\" >shape_MeshVolume</td>\n",
       "                        <td id=\"T_1ad570fa_3349_11ed_9a5d_784f437c194arow3_col1\" class=\"data row3 col1\" >0.401115</td>\n",
       "            </tr>\n",
       "            <tr>\n",
       "                                <td id=\"T_1ad570fa_3349_11ed_9a5d_784f437c194arow4_col0\" class=\"data row4 col0\" >shape_Sphericity</td>\n",
       "                        <td id=\"T_1ad570fa_3349_11ed_9a5d_784f437c194arow4_col1\" class=\"data row4 col1\" >-0.340805</td>\n",
       "            </tr>\n",
       "            <tr>\n",
       "                                <td id=\"T_1ad570fa_3349_11ed_9a5d_784f437c194arow5_col0\" class=\"data row5 col0\" >glszm_SmallAreaEmphasis</td>\n",
       "                        <td id=\"T_1ad570fa_3349_11ed_9a5d_784f437c194arow5_col1\" class=\"data row5 col1\" >0.270600</td>\n",
       "            </tr>\n",
       "            <tr>\n",
       "                                <td id=\"T_1ad570fa_3349_11ed_9a5d_784f437c194arow6_col0\" class=\"data row6 col0\" >firstorder_RootMeanSquared</td>\n",
       "                        <td id=\"T_1ad570fa_3349_11ed_9a5d_784f437c194arow6_col1\" class=\"data row6 col1\" >-0.191782</td>\n",
       "            </tr>\n",
       "            <tr>\n",
       "                                <td id=\"T_1ad570fa_3349_11ed_9a5d_784f437c194arow7_col0\" class=\"data row7 col0\" >firstorder_Kurtosis</td>\n",
       "                        <td id=\"T_1ad570fa_3349_11ed_9a5d_784f437c194arow7_col1\" class=\"data row7 col1\" >-0.160678</td>\n",
       "            </tr>\n",
       "            <tr>\n",
       "                                <td id=\"T_1ad570fa_3349_11ed_9a5d_784f437c194arow8_col0\" class=\"data row8 col0\" >shape_Elongation</td>\n",
       "                        <td id=\"T_1ad570fa_3349_11ed_9a5d_784f437c194arow8_col1\" class=\"data row8 col1\" >-0.151380</td>\n",
       "            </tr>\n",
       "            <tr>\n",
       "                                <td id=\"T_1ad570fa_3349_11ed_9a5d_784f437c194arow9_col0\" class=\"data row9 col0\" >gldm_LowGrayLevelEmphasis</td>\n",
       "                        <td id=\"T_1ad570fa_3349_11ed_9a5d_784f437c194arow9_col1\" class=\"data row9 col1\" >-0.081369</td>\n",
       "            </tr>\n",
       "            <tr>\n",
       "                                <td id=\"T_1ad570fa_3349_11ed_9a5d_784f437c194arow10_col0\" class=\"data row10 col0\" >gldm_DependenceNonUniformityNormalized</td>\n",
       "                        <td id=\"T_1ad570fa_3349_11ed_9a5d_784f437c194arow10_col1\" class=\"data row10 col1\" >-0.030746</td>\n",
       "            </tr>\n",
       "    </tbody></table>"
      ],
      "text/plain": [
       "<pandas.io.formats.style.Styler at 0x7fa13f2e77b8>"
      ]
     },
     "metadata": {},
     "output_type": "display_data"
    },
    {
     "name": "stdout",
     "output_type": "stream",
     "text": [
      "\n",
      "\n",
      "firstorder|histogram\n"
     ]
    },
    {
     "data": {
      "text/html": [
       "<style  type=\"text/css\" >\n",
       "</style><table id=\"T_1ad69b94_3349_11ed_a3e2_784f437c194a\" ><thead>    <tr>        <th class=\"col_heading level0 col0\" >Feature</th>        <th class=\"col_heading level0 col1\" >Coef</th>    </tr></thead><tbody>\n",
       "                <tr>\n",
       "                                <td id=\"T_1ad69b94_3349_11ed_a3e2_784f437c194arow0_col0\" class=\"data row0 col0\" >firstorder_90Percentile</td>\n",
       "                        <td id=\"T_1ad69b94_3349_11ed_a3e2_784f437c194arow0_col1\" class=\"data row0 col1\" >-1.905147</td>\n",
       "            </tr>\n",
       "            <tr>\n",
       "                                <td id=\"T_1ad69b94_3349_11ed_a3e2_784f437c194arow1_col0\" class=\"data row1 col0\" >firstorder_InterquartileRange</td>\n",
       "                        <td id=\"T_1ad69b94_3349_11ed_a3e2_784f437c194arow1_col1\" class=\"data row1 col1\" >1.019515</td>\n",
       "            </tr>\n",
       "            <tr>\n",
       "                                <td id=\"T_1ad69b94_3349_11ed_a3e2_784f437c194arow2_col0\" class=\"data row2 col0\" >firstorder_Maximum</td>\n",
       "                        <td id=\"T_1ad69b94_3349_11ed_a3e2_784f437c194arow2_col1\" class=\"data row2 col1\" >0.957299</td>\n",
       "            </tr>\n",
       "            <tr>\n",
       "                                <td id=\"T_1ad69b94_3349_11ed_a3e2_784f437c194arow3_col0\" class=\"data row3 col0\" >firstorder_Kurtosis</td>\n",
       "                        <td id=\"T_1ad69b94_3349_11ed_a3e2_784f437c194arow3_col1\" class=\"data row3 col1\" >-0.479313</td>\n",
       "            </tr>\n",
       "            <tr>\n",
       "                                <td id=\"T_1ad69b94_3349_11ed_a3e2_784f437c194arow4_col0\" class=\"data row4 col0\" >firstorder_RootMeanSquared</td>\n",
       "                        <td id=\"T_1ad69b94_3349_11ed_a3e2_784f437c194arow4_col1\" class=\"data row4 col1\" >-0.257128</td>\n",
       "            </tr>\n",
       "            <tr>\n",
       "                                <td id=\"T_1ad69b94_3349_11ed_a3e2_784f437c194arow5_col0\" class=\"data row5 col0\" >firstorder_Minimum</td>\n",
       "                        <td id=\"T_1ad69b94_3349_11ed_a3e2_784f437c194arow5_col1\" class=\"data row5 col1\" >-0.023906</td>\n",
       "            </tr>\n",
       "    </tbody></table>"
      ],
      "text/plain": [
       "<pandas.io.formats.style.Styler at 0x7fa13bb0b080>"
      ]
     },
     "metadata": {},
     "output_type": "display_data"
    },
    {
     "name": "stdout",
     "output_type": "stream",
     "text": [
      "\n",
      "\n",
      "shape|firstorder|histogram\n"
     ]
    },
    {
     "data": {
      "text/html": [
       "<style  type=\"text/css\" >\n",
       "</style><table id=\"T_1ad7e5d0_3349_11ed_99e1_784f437c194a\" ><thead>    <tr>        <th class=\"col_heading level0 col0\" >Feature</th>        <th class=\"col_heading level0 col1\" >Coef</th>    </tr></thead><tbody>\n",
       "                <tr>\n",
       "                                <td id=\"T_1ad7e5d0_3349_11ed_99e1_784f437c194arow0_col0\" class=\"data row0 col0\" >firstorder_Mean</td>\n",
       "                        <td id=\"T_1ad7e5d0_3349_11ed_99e1_784f437c194arow0_col1\" class=\"data row0 col1\" >-2.323165</td>\n",
       "            </tr>\n",
       "            <tr>\n",
       "                                <td id=\"T_1ad7e5d0_3349_11ed_99e1_784f437c194arow1_col0\" class=\"data row1 col0\" >firstorder_Maximum</td>\n",
       "                        <td id=\"T_1ad7e5d0_3349_11ed_99e1_784f437c194arow1_col1\" class=\"data row1 col1\" >1.485303</td>\n",
       "            </tr>\n",
       "            <tr>\n",
       "                                <td id=\"T_1ad7e5d0_3349_11ed_99e1_784f437c194arow2_col0\" class=\"data row2 col0\" >shape_MeshVolume</td>\n",
       "                        <td id=\"T_1ad7e5d0_3349_11ed_99e1_784f437c194arow2_col1\" class=\"data row2 col1\" >1.311433</td>\n",
       "            </tr>\n",
       "            <tr>\n",
       "                                <td id=\"T_1ad7e5d0_3349_11ed_99e1_784f437c194arow3_col0\" class=\"data row3 col0\" >firstorder_Kurtosis</td>\n",
       "                        <td id=\"T_1ad7e5d0_3349_11ed_99e1_784f437c194arow3_col1\" class=\"data row3 col1\" >-0.727268</td>\n",
       "            </tr>\n",
       "            <tr>\n",
       "                                <td id=\"T_1ad7e5d0_3349_11ed_99e1_784f437c194arow4_col0\" class=\"data row4 col0\" >shape_Elongation</td>\n",
       "                        <td id=\"T_1ad7e5d0_3349_11ed_99e1_784f437c194arow4_col1\" class=\"data row4 col1\" >-0.590886</td>\n",
       "            </tr>\n",
       "            <tr>\n",
       "                                <td id=\"T_1ad7e5d0_3349_11ed_99e1_784f437c194arow5_col0\" class=\"data row5 col0\" >shape_Flatness</td>\n",
       "                        <td id=\"T_1ad7e5d0_3349_11ed_99e1_784f437c194arow5_col1\" class=\"data row5 col1\" >0.540349</td>\n",
       "            </tr>\n",
       "            <tr>\n",
       "                                <td id=\"T_1ad7e5d0_3349_11ed_99e1_784f437c194arow6_col0\" class=\"data row6 col0\" >firstorder_InterquartileRange</td>\n",
       "                        <td id=\"T_1ad7e5d0_3349_11ed_99e1_784f437c194arow6_col1\" class=\"data row6 col1\" >0.335422</td>\n",
       "            </tr>\n",
       "            <tr>\n",
       "                                <td id=\"T_1ad7e5d0_3349_11ed_99e1_784f437c194arow7_col0\" class=\"data row7 col0\" >firstorder_RootMeanSquared</td>\n",
       "                        <td id=\"T_1ad7e5d0_3349_11ed_99e1_784f437c194arow7_col1\" class=\"data row7 col1\" >-0.184189</td>\n",
       "            </tr>\n",
       "            <tr>\n",
       "                                <td id=\"T_1ad7e5d0_3349_11ed_99e1_784f437c194arow8_col0\" class=\"data row8 col0\" >firstorder_Minimum</td>\n",
       "                        <td id=\"T_1ad7e5d0_3349_11ed_99e1_784f437c194arow8_col1\" class=\"data row8 col1\" >0.109175</td>\n",
       "            </tr>\n",
       "            <tr>\n",
       "                                <td id=\"T_1ad7e5d0_3349_11ed_99e1_784f437c194arow9_col0\" class=\"data row9 col0\" >shape_Sphericity</td>\n",
       "                        <td id=\"T_1ad7e5d0_3349_11ed_99e1_784f437c194arow9_col1\" class=\"data row9 col1\" >-0.085181</td>\n",
       "            </tr>\n",
       "    </tbody></table>"
      ],
      "text/plain": [
       "<pandas.io.formats.style.Styler at 0x7fa144692cc0>"
      ]
     },
     "metadata": {},
     "output_type": "display_data"
    },
    {
     "name": "stdout",
     "output_type": "stream",
     "text": [
      "\n",
      "\n",
      "firstorder|histogram\n"
     ]
    },
    {
     "data": {
      "text/html": [
       "<style  type=\"text/css\" >\n",
       "</style><table id=\"T_1ad93494_3349_11ed_a92b_784f437c194a\" ><thead>    <tr>        <th class=\"col_heading level0 col0\" >Feature</th>        <th class=\"col_heading level0 col1\" >Coef</th>    </tr></thead><tbody>\n",
       "                <tr>\n",
       "                                <td id=\"T_1ad93494_3349_11ed_a92b_784f437c194arow0_col0\" class=\"data row0 col0\" >firstorder_90Percentile</td>\n",
       "                        <td id=\"T_1ad93494_3349_11ed_a92b_784f437c194arow0_col1\" class=\"data row0 col1\" >-1.918370</td>\n",
       "            </tr>\n",
       "            <tr>\n",
       "                                <td id=\"T_1ad93494_3349_11ed_a92b_784f437c194arow1_col0\" class=\"data row1 col0\" >firstorder_Maximum</td>\n",
       "                        <td id=\"T_1ad93494_3349_11ed_a92b_784f437c194arow1_col1\" class=\"data row1 col1\" >0.781763</td>\n",
       "            </tr>\n",
       "            <tr>\n",
       "                                <td id=\"T_1ad93494_3349_11ed_a92b_784f437c194arow2_col0\" class=\"data row2 col0\" >firstorder_Uniformity</td>\n",
       "                        <td id=\"T_1ad93494_3349_11ed_a92b_784f437c194arow2_col1\" class=\"data row2 col1\" >-0.760256</td>\n",
       "            </tr>\n",
       "            <tr>\n",
       "                                <td id=\"T_1ad93494_3349_11ed_a92b_784f437c194arow3_col0\" class=\"data row3 col0\" >firstorder_RootMeanSquared</td>\n",
       "                        <td id=\"T_1ad93494_3349_11ed_a92b_784f437c194arow3_col1\" class=\"data row3 col1\" >-0.439311</td>\n",
       "            </tr>\n",
       "            <tr>\n",
       "                                <td id=\"T_1ad93494_3349_11ed_a92b_784f437c194arow4_col0\" class=\"data row4 col0\" >firstorder_Skewness</td>\n",
       "                        <td id=\"T_1ad93494_3349_11ed_a92b_784f437c194arow4_col1\" class=\"data row4 col1\" >0.277309</td>\n",
       "            </tr>\n",
       "            <tr>\n",
       "                                <td id=\"T_1ad93494_3349_11ed_a92b_784f437c194arow5_col0\" class=\"data row5 col0\" >firstorder_Minimum</td>\n",
       "                        <td id=\"T_1ad93494_3349_11ed_a92b_784f437c194arow5_col1\" class=\"data row5 col1\" >-0.147248</td>\n",
       "            </tr>\n",
       "    </tbody></table>"
      ],
      "text/plain": [
       "<pandas.io.formats.style.Styler at 0x7fa13f36f2b0>"
      ]
     },
     "metadata": {},
     "output_type": "display_data"
    },
    {
     "name": "stdout",
     "output_type": "stream",
     "text": [
      "\n",
      "\n",
      "\n"
     ]
    },
    {
     "data": {
      "text/html": [
       "<style  type=\"text/css\" >\n",
       "</style><table id=\"T_1adba97a_3349_11ed_b2c4_784f437c194a\" ><thead>    <tr>        <th class=\"col_heading level0 col0\" >Feature</th>        <th class=\"col_heading level0 col1\" >Coef</th>    </tr></thead><tbody>\n",
       "                <tr>\n",
       "                                <td id=\"T_1adba97a_3349_11ed_b2c4_784f437c194arow0_col0\" class=\"data row0 col0\" >firstorder_90Percentile</td>\n",
       "                        <td id=\"T_1adba97a_3349_11ed_b2c4_784f437c194arow0_col1\" class=\"data row0 col1\" >-1.516141</td>\n",
       "            </tr>\n",
       "            <tr>\n",
       "                                <td id=\"T_1adba97a_3349_11ed_b2c4_784f437c194arow1_col0\" class=\"data row1 col0\" >glszm_ZoneEntropy</td>\n",
       "                        <td id=\"T_1adba97a_3349_11ed_b2c4_784f437c194arow1_col1\" class=\"data row1 col1\" >1.219949</td>\n",
       "            </tr>\n",
       "            <tr>\n",
       "                                <td id=\"T_1adba97a_3349_11ed_b2c4_784f437c194arow2_col0\" class=\"data row2 col0\" >glszm_SizeZoneNonUniformityNormalized</td>\n",
       "                        <td id=\"T_1adba97a_3349_11ed_b2c4_784f437c194arow2_col1\" class=\"data row2 col1\" >0.725577</td>\n",
       "            </tr>\n",
       "            <tr>\n",
       "                                <td id=\"T_1adba97a_3349_11ed_b2c4_784f437c194arow3_col0\" class=\"data row3 col0\" >shape_Sphericity</td>\n",
       "                        <td id=\"T_1adba97a_3349_11ed_b2c4_784f437c194arow3_col1\" class=\"data row3 col1\" >-0.440652</td>\n",
       "            </tr>\n",
       "            <tr>\n",
       "                                <td id=\"T_1adba97a_3349_11ed_b2c4_784f437c194arow4_col0\" class=\"data row4 col0\" >firstorder_Maximum</td>\n",
       "                        <td id=\"T_1adba97a_3349_11ed_b2c4_784f437c194arow4_col1\" class=\"data row4 col1\" >0.373303</td>\n",
       "            </tr>\n",
       "            <tr>\n",
       "                                <td id=\"T_1adba97a_3349_11ed_b2c4_784f437c194arow5_col0\" class=\"data row5 col0\" >firstorder_RootMeanSquared</td>\n",
       "                        <td id=\"T_1adba97a_3349_11ed_b2c4_784f437c194arow5_col1\" class=\"data row5 col1\" >-0.372207</td>\n",
       "            </tr>\n",
       "            <tr>\n",
       "                                <td id=\"T_1adba97a_3349_11ed_b2c4_784f437c194arow6_col0\" class=\"data row6 col0\" >shape_MeshVolume</td>\n",
       "                        <td id=\"T_1adba97a_3349_11ed_b2c4_784f437c194arow6_col1\" class=\"data row6 col1\" >0.335815</td>\n",
       "            </tr>\n",
       "            <tr>\n",
       "                                <td id=\"T_1adba97a_3349_11ed_b2c4_784f437c194arow7_col0\" class=\"data row7 col0\" >ngtdm_Strength</td>\n",
       "                        <td id=\"T_1adba97a_3349_11ed_b2c4_784f437c194arow7_col1\" class=\"data row7 col1\" >-0.313066</td>\n",
       "            </tr>\n",
       "            <tr>\n",
       "                                <td id=\"T_1adba97a_3349_11ed_b2c4_784f437c194arow8_col0\" class=\"data row8 col0\" >shape_Elongation</td>\n",
       "                        <td id=\"T_1adba97a_3349_11ed_b2c4_784f437c194arow8_col1\" class=\"data row8 col1\" >-0.291501</td>\n",
       "            </tr>\n",
       "            <tr>\n",
       "                                <td id=\"T_1adba97a_3349_11ed_b2c4_784f437c194arow9_col0\" class=\"data row9 col0\" >firstorder_InterquartileRange</td>\n",
       "                        <td id=\"T_1adba97a_3349_11ed_b2c4_784f437c194arow9_col1\" class=\"data row9 col1\" >0.109490</td>\n",
       "            </tr>\n",
       "            <tr>\n",
       "                                <td id=\"T_1adba97a_3349_11ed_b2c4_784f437c194arow10_col0\" class=\"data row10 col0\" >gldm_DependenceNonUniformityNormalized</td>\n",
       "                        <td id=\"T_1adba97a_3349_11ed_b2c4_784f437c194arow10_col1\" class=\"data row10 col1\" >-0.098501</td>\n",
       "            </tr>\n",
       "    </tbody></table>"
      ],
      "text/plain": [
       "<pandas.io.formats.style.Styler at 0x7fa13f2e7f28>"
      ]
     },
     "metadata": {},
     "output_type": "display_data"
    },
    {
     "name": "stdout",
     "output_type": "stream",
     "text": [
      "\n",
      "\n",
      "\n"
     ]
    },
    {
     "data": {
      "text/html": [
       "<style  type=\"text/css\" >\n",
       "</style><table id=\"T_1adfd69e_3349_11ed_9d73_784f437c194a\" ><thead>    <tr>        <th class=\"col_heading level0 col0\" >Feature</th>        <th class=\"col_heading level0 col1\" >Coef</th>    </tr></thead><tbody>\n",
       "                <tr>\n",
       "                                <td id=\"T_1adfd69e_3349_11ed_9d73_784f437c194arow0_col0\" class=\"data row0 col0\" >firstorder_90Percentile</td>\n",
       "                        <td id=\"T_1adfd69e_3349_11ed_9d73_784f437c194arow0_col1\" class=\"data row0 col1\" >-1.244125</td>\n",
       "            </tr>\n",
       "            <tr>\n",
       "                                <td id=\"T_1adfd69e_3349_11ed_9d73_784f437c194arow1_col0\" class=\"data row1 col0\" >glcm_Imc2</td>\n",
       "                        <td id=\"T_1adfd69e_3349_11ed_9d73_784f437c194arow1_col1\" class=\"data row1 col1\" >0.725153</td>\n",
       "            </tr>\n",
       "            <tr>\n",
       "                                <td id=\"T_1adfd69e_3349_11ed_9d73_784f437c194arow2_col0\" class=\"data row2 col0\" >glszm_SmallAreaEmphasis</td>\n",
       "                        <td id=\"T_1adfd69e_3349_11ed_9d73_784f437c194arow2_col1\" class=\"data row2 col1\" >0.549865</td>\n",
       "            </tr>\n",
       "            <tr>\n",
       "                                <td id=\"T_1adfd69e_3349_11ed_9d73_784f437c194arow3_col0\" class=\"data row3 col0\" >firstorder_Maximum</td>\n",
       "                        <td id=\"T_1adfd69e_3349_11ed_9d73_784f437c194arow3_col1\" class=\"data row3 col1\" >0.422229</td>\n",
       "            </tr>\n",
       "            <tr>\n",
       "                                <td id=\"T_1adfd69e_3349_11ed_9d73_784f437c194arow4_col0\" class=\"data row4 col0\" >shape_Sphericity</td>\n",
       "                        <td id=\"T_1adfd69e_3349_11ed_9d73_784f437c194arow4_col1\" class=\"data row4 col1\" >-0.392229</td>\n",
       "            </tr>\n",
       "            <tr>\n",
       "                                <td id=\"T_1adfd69e_3349_11ed_9d73_784f437c194arow5_col0\" class=\"data row5 col0\" >firstorder_InterquartileRange</td>\n",
       "                        <td id=\"T_1adfd69e_3349_11ed_9d73_784f437c194arow5_col1\" class=\"data row5 col1\" >0.359337</td>\n",
       "            </tr>\n",
       "            <tr>\n",
       "                                <td id=\"T_1adfd69e_3349_11ed_9d73_784f437c194arow6_col0\" class=\"data row6 col0\" >firstorder_RootMeanSquared</td>\n",
       "                        <td id=\"T_1adfd69e_3349_11ed_9d73_784f437c194arow6_col1\" class=\"data row6 col1\" >-0.352178</td>\n",
       "            </tr>\n",
       "            <tr>\n",
       "                                <td id=\"T_1adfd69e_3349_11ed_9d73_784f437c194arow7_col0\" class=\"data row7 col0\" >shape_MeshVolume</td>\n",
       "                        <td id=\"T_1adfd69e_3349_11ed_9d73_784f437c194arow7_col1\" class=\"data row7 col1\" >0.264845</td>\n",
       "            </tr>\n",
       "            <tr>\n",
       "                                <td id=\"T_1adfd69e_3349_11ed_9d73_784f437c194arow8_col0\" class=\"data row8 col0\" >ngtdm_Strength</td>\n",
       "                        <td id=\"T_1adfd69e_3349_11ed_9d73_784f437c194arow8_col1\" class=\"data row8 col1\" >-0.198706</td>\n",
       "            </tr>\n",
       "            <tr>\n",
       "                                <td id=\"T_1adfd69e_3349_11ed_9d73_784f437c194arow9_col0\" class=\"data row9 col0\" >shape_Elongation</td>\n",
       "                        <td id=\"T_1adfd69e_3349_11ed_9d73_784f437c194arow9_col1\" class=\"data row9 col1\" >-0.032774</td>\n",
       "            </tr>\n",
       "    </tbody></table>"
      ],
      "text/plain": [
       "<pandas.io.formats.style.Styler at 0x7fa13f2e7c50>"
      ]
     },
     "metadata": {},
     "output_type": "display_data"
    },
    {
     "name": "stdout",
     "output_type": "stream",
     "text": [
      "\n",
      "\n",
      "shape|glcm|gldm|glszm|glrlm|ngtdm\n"
     ]
    },
    {
     "data": {
      "text/html": [
       "<style  type=\"text/css\" >\n",
       "</style><table id=\"T_1ae135b8_3349_11ed_9037_784f437c194a\" ><thead>    <tr>        <th class=\"col_heading level0 col0\" >Feature</th>        <th class=\"col_heading level0 col1\" >Coef</th>    </tr></thead><tbody>\n",
       "                <tr>\n",
       "                                <td id=\"T_1ae135b8_3349_11ed_9037_784f437c194arow0_col0\" class=\"data row0 col0\" >shape_MeshVolume</td>\n",
       "                        <td id=\"T_1ae135b8_3349_11ed_9037_784f437c194arow0_col1\" class=\"data row0 col1\" >1.422812</td>\n",
       "            </tr>\n",
       "            <tr>\n",
       "                                <td id=\"T_1ae135b8_3349_11ed_9037_784f437c194arow1_col0\" class=\"data row1 col0\" >shape_Sphericity</td>\n",
       "                        <td id=\"T_1ae135b8_3349_11ed_9037_784f437c194arow1_col1\" class=\"data row1 col1\" >-0.911843</td>\n",
       "            </tr>\n",
       "            <tr>\n",
       "                                <td id=\"T_1ae135b8_3349_11ed_9037_784f437c194arow2_col0\" class=\"data row2 col0\" >glcm_Imc2</td>\n",
       "                        <td id=\"T_1ae135b8_3349_11ed_9037_784f437c194arow2_col1\" class=\"data row2 col1\" >0.608366</td>\n",
       "            </tr>\n",
       "            <tr>\n",
       "                                <td id=\"T_1ae135b8_3349_11ed_9037_784f437c194arow3_col0\" class=\"data row3 col0\" >glszm_SmallAreaEmphasis</td>\n",
       "                        <td id=\"T_1ae135b8_3349_11ed_9037_784f437c194arow3_col1\" class=\"data row3 col1\" >0.504250</td>\n",
       "            </tr>\n",
       "            <tr>\n",
       "                                <td id=\"T_1ae135b8_3349_11ed_9037_784f437c194arow4_col0\" class=\"data row4 col0\" >shape_Elongation</td>\n",
       "                        <td id=\"T_1ae135b8_3349_11ed_9037_784f437c194arow4_col1\" class=\"data row4 col1\" >-0.194650</td>\n",
       "            </tr>\n",
       "            <tr>\n",
       "                                <td id=\"T_1ae135b8_3349_11ed_9037_784f437c194arow5_col0\" class=\"data row5 col0\" >ngtdm_Strength</td>\n",
       "                        <td id=\"T_1ae135b8_3349_11ed_9037_784f437c194arow5_col1\" class=\"data row5 col1\" >-0.126069</td>\n",
       "            </tr>\n",
       "    </tbody></table>"
      ],
      "text/plain": [
       "<pandas.io.formats.style.Styler at 0x7fa144692cc0>"
      ]
     },
     "metadata": {},
     "output_type": "display_data"
    },
    {
     "name": "stdout",
     "output_type": "stream",
     "text": [
      "\n",
      "\n",
      "shape\n"
     ]
    },
    {
     "data": {
      "text/html": [
       "<style  type=\"text/css\" >\n",
       "</style><table id=\"T_1ae39074_3349_11ed_84f2_784f437c194a\" ><thead>    <tr>        <th class=\"col_heading level0 col0\" >Feature</th>        <th class=\"col_heading level0 col1\" >Coef</th>    </tr></thead><tbody>\n",
       "                <tr>\n",
       "                                <td id=\"T_1ae39074_3349_11ed_84f2_784f437c194arow0_col0\" class=\"data row0 col0\" >shape_MeshVolume</td>\n",
       "                        <td id=\"T_1ae39074_3349_11ed_84f2_784f437c194arow0_col1\" class=\"data row0 col1\" >2.386081</td>\n",
       "            </tr>\n",
       "            <tr>\n",
       "                                <td id=\"T_1ae39074_3349_11ed_84f2_784f437c194arow1_col0\" class=\"data row1 col0\" >shape_Sphericity</td>\n",
       "                        <td id=\"T_1ae39074_3349_11ed_84f2_784f437c194arow1_col1\" class=\"data row1 col1\" >-1.248832</td>\n",
       "            </tr>\n",
       "            <tr>\n",
       "                                <td id=\"T_1ae39074_3349_11ed_84f2_784f437c194arow2_col0\" class=\"data row2 col0\" >shape_Elongation</td>\n",
       "                        <td id=\"T_1ae39074_3349_11ed_84f2_784f437c194arow2_col1\" class=\"data row2 col1\" >-0.762905</td>\n",
       "            </tr>\n",
       "            <tr>\n",
       "                                <td id=\"T_1ae39074_3349_11ed_84f2_784f437c194arow3_col0\" class=\"data row3 col0\" >shape_Flatness</td>\n",
       "                        <td id=\"T_1ae39074_3349_11ed_84f2_784f437c194arow3_col1\" class=\"data row3 col1\" >0.499848</td>\n",
       "            </tr>\n",
       "    </tbody></table>"
      ],
      "text/plain": [
       "<pandas.io.formats.style.Styler at 0x7fa13bb0bbe0>"
      ]
     },
     "metadata": {},
     "output_type": "display_data"
    },
    {
     "name": "stdout",
     "output_type": "stream",
     "text": [
      "\n",
      "\n",
      "shape|firstorder|histogram\n"
     ]
    },
    {
     "data": {
      "text/html": [
       "<style  type=\"text/css\" >\n",
       "</style><table id=\"T_1ae4d0d8_3349_11ed_8ff6_784f437c194a\" ><thead>    <tr>        <th class=\"col_heading level0 col0\" >Feature</th>        <th class=\"col_heading level0 col1\" >Coef</th>    </tr></thead><tbody>\n",
       "                <tr>\n",
       "                                <td id=\"T_1ae4d0d8_3349_11ed_8ff6_784f437c194arow0_col0\" class=\"data row0 col0\" >firstorder_90Percentile</td>\n",
       "                        <td id=\"T_1ae4d0d8_3349_11ed_8ff6_784f437c194arow0_col1\" class=\"data row0 col1\" >-1.450858</td>\n",
       "            </tr>\n",
       "            <tr>\n",
       "                                <td id=\"T_1ae4d0d8_3349_11ed_8ff6_784f437c194arow1_col0\" class=\"data row1 col0\" >firstorder_InterquartileRange</td>\n",
       "                        <td id=\"T_1ae4d0d8_3349_11ed_8ff6_784f437c194arow1_col1\" class=\"data row1 col1\" >1.023193</td>\n",
       "            </tr>\n",
       "            <tr>\n",
       "                                <td id=\"T_1ae4d0d8_3349_11ed_8ff6_784f437c194arow2_col0\" class=\"data row2 col0\" >shape_MeshVolume</td>\n",
       "                        <td id=\"T_1ae4d0d8_3349_11ed_8ff6_784f437c194arow2_col1\" class=\"data row2 col1\" >0.693336</td>\n",
       "            </tr>\n",
       "            <tr>\n",
       "                                <td id=\"T_1ae4d0d8_3349_11ed_8ff6_784f437c194arow3_col0\" class=\"data row3 col0\" >firstorder_Maximum</td>\n",
       "                        <td id=\"T_1ae4d0d8_3349_11ed_8ff6_784f437c194arow3_col1\" class=\"data row3 col1\" >0.643020</td>\n",
       "            </tr>\n",
       "            <tr>\n",
       "                                <td id=\"T_1ae4d0d8_3349_11ed_8ff6_784f437c194arow4_col0\" class=\"data row4 col0\" >shape_Sphericity</td>\n",
       "                        <td id=\"T_1ae4d0d8_3349_11ed_8ff6_784f437c194arow4_col1\" class=\"data row4 col1\" >-0.390660</td>\n",
       "            </tr>\n",
       "            <tr>\n",
       "                                <td id=\"T_1ae4d0d8_3349_11ed_8ff6_784f437c194arow5_col0\" class=\"data row5 col0\" >firstorder_Kurtosis</td>\n",
       "                        <td id=\"T_1ae4d0d8_3349_11ed_8ff6_784f437c194arow5_col1\" class=\"data row5 col1\" >-0.296337</td>\n",
       "            </tr>\n",
       "            <tr>\n",
       "                                <td id=\"T_1ae4d0d8_3349_11ed_8ff6_784f437c194arow6_col0\" class=\"data row6 col0\" >firstorder_RootMeanSquared</td>\n",
       "                        <td id=\"T_1ae4d0d8_3349_11ed_8ff6_784f437c194arow6_col1\" class=\"data row6 col1\" >-0.231451</td>\n",
       "            </tr>\n",
       "            <tr>\n",
       "                                <td id=\"T_1ae4d0d8_3349_11ed_8ff6_784f437c194arow7_col0\" class=\"data row7 col0\" >shape_Elongation</td>\n",
       "                        <td id=\"T_1ae4d0d8_3349_11ed_8ff6_784f437c194arow7_col1\" class=\"data row7 col1\" >-0.156304</td>\n",
       "            </tr>\n",
       "            <tr>\n",
       "                                <td id=\"T_1ae4d0d8_3349_11ed_8ff6_784f437c194arow8_col0\" class=\"data row8 col0\" >shape_Flatness</td>\n",
       "                        <td id=\"T_1ae4d0d8_3349_11ed_8ff6_784f437c194arow8_col1\" class=\"data row8 col1\" >0.111459</td>\n",
       "            </tr>\n",
       "    </tbody></table>"
      ],
      "text/plain": [
       "<pandas.io.formats.style.Styler at 0x7fa13f36f128>"
      ]
     },
     "metadata": {},
     "output_type": "display_data"
    },
    {
     "name": "stdout",
     "output_type": "stream",
     "text": [
      "\n",
      "\n",
      "\n"
     ]
    },
    {
     "data": {
      "text/html": [
       "<style  type=\"text/css\" >\n",
       "</style><table id=\"T_1ae60f7a_3349_11ed_b3f5_784f437c194a\" ><thead>    <tr>        <th class=\"col_heading level0 col0\" >Feature</th>        <th class=\"col_heading level0 col1\" >Coef</th>    </tr></thead><tbody>\n",
       "                <tr>\n",
       "                                <td id=\"T_1ae60f7a_3349_11ed_b3f5_784f437c194arow0_col0\" class=\"data row0 col0\" >firstorder_90Percentile</td>\n",
       "                        <td id=\"T_1ae60f7a_3349_11ed_b3f5_784f437c194arow0_col1\" class=\"data row0 col1\" >-1.247506</td>\n",
       "            </tr>\n",
       "            <tr>\n",
       "                                <td id=\"T_1ae60f7a_3349_11ed_b3f5_784f437c194arow1_col0\" class=\"data row1 col0\" >glszm_ZoneEntropy</td>\n",
       "                        <td id=\"T_1ae60f7a_3349_11ed_b3f5_784f437c194arow1_col1\" class=\"data row1 col1\" >0.741256</td>\n",
       "            </tr>\n",
       "            <tr>\n",
       "                                <td id=\"T_1ae60f7a_3349_11ed_b3f5_784f437c194arow2_col0\" class=\"data row2 col0\" >glszm_SmallAreaEmphasis</td>\n",
       "                        <td id=\"T_1ae60f7a_3349_11ed_b3f5_784f437c194arow2_col1\" class=\"data row2 col1\" >0.528275</td>\n",
       "            </tr>\n",
       "            <tr>\n",
       "                                <td id=\"T_1ae60f7a_3349_11ed_b3f5_784f437c194arow3_col0\" class=\"data row3 col0\" >firstorder_Maximum</td>\n",
       "                        <td id=\"T_1ae60f7a_3349_11ed_b3f5_784f437c194arow3_col1\" class=\"data row3 col1\" >0.385803</td>\n",
       "            </tr>\n",
       "            <tr>\n",
       "                                <td id=\"T_1ae60f7a_3349_11ed_b3f5_784f437c194arow4_col0\" class=\"data row4 col0\" >shape_MeshVolume</td>\n",
       "                        <td id=\"T_1ae60f7a_3349_11ed_b3f5_784f437c194arow4_col1\" class=\"data row4 col1\" >0.376557</td>\n",
       "            </tr>\n",
       "            <tr>\n",
       "                                <td id=\"T_1ae60f7a_3349_11ed_b3f5_784f437c194arow5_col0\" class=\"data row5 col0\" >firstorder_InterquartileRange</td>\n",
       "                        <td id=\"T_1ae60f7a_3349_11ed_b3f5_784f437c194arow5_col1\" class=\"data row5 col1\" >0.336790</td>\n",
       "            </tr>\n",
       "            <tr>\n",
       "                                <td id=\"T_1ae60f7a_3349_11ed_b3f5_784f437c194arow6_col0\" class=\"data row6 col0\" >shape_Sphericity</td>\n",
       "                        <td id=\"T_1ae60f7a_3349_11ed_b3f5_784f437c194arow6_col1\" class=\"data row6 col1\" >-0.250967</td>\n",
       "            </tr>\n",
       "            <tr>\n",
       "                                <td id=\"T_1ae60f7a_3349_11ed_b3f5_784f437c194arow7_col0\" class=\"data row7 col0\" >firstorder_RootMeanSquared</td>\n",
       "                        <td id=\"T_1ae60f7a_3349_11ed_b3f5_784f437c194arow7_col1\" class=\"data row7 col1\" >-0.245994</td>\n",
       "            </tr>\n",
       "            <tr>\n",
       "                                <td id=\"T_1ae60f7a_3349_11ed_b3f5_784f437c194arow8_col0\" class=\"data row8 col0\" >ngtdm_Strength</td>\n",
       "                        <td id=\"T_1ae60f7a_3349_11ed_b3f5_784f437c194arow8_col1\" class=\"data row8 col1\" >-0.215118</td>\n",
       "            </tr>\n",
       "            <tr>\n",
       "                                <td id=\"T_1ae60f7a_3349_11ed_b3f5_784f437c194arow9_col0\" class=\"data row9 col0\" >shape_Elongation</td>\n",
       "                        <td id=\"T_1ae60f7a_3349_11ed_b3f5_784f437c194arow9_col1\" class=\"data row9 col1\" >-0.174366</td>\n",
       "            </tr>\n",
       "    </tbody></table>"
      ],
      "text/plain": [
       "<pandas.io.formats.style.Styler at 0x7fa13f2e7400>"
      ]
     },
     "metadata": {},
     "output_type": "display_data"
    },
    {
     "name": "stdout",
     "output_type": "stream",
     "text": [
      "\n",
      "\n",
      "shape|firstorder|histogram\n"
     ]
    },
    {
     "data": {
      "text/html": [
       "<style  type=\"text/css\" >\n",
       "</style><table id=\"T_1ae73bac_3349_11ed_9262_784f437c194a\" ><thead>    <tr>        <th class=\"col_heading level0 col0\" >Feature</th>        <th class=\"col_heading level0 col1\" >Coef</th>    </tr></thead><tbody>\n",
       "                <tr>\n",
       "                                <td id=\"T_1ae73bac_3349_11ed_9262_784f437c194arow0_col0\" class=\"data row0 col0\" >firstorder_90Percentile</td>\n",
       "                        <td id=\"T_1ae73bac_3349_11ed_9262_784f437c194arow0_col1\" class=\"data row0 col1\" >-1.270250</td>\n",
       "            </tr>\n",
       "            <tr>\n",
       "                                <td id=\"T_1ae73bac_3349_11ed_9262_784f437c194arow1_col0\" class=\"data row1 col0\" >firstorder_InterquartileRange</td>\n",
       "                        <td id=\"T_1ae73bac_3349_11ed_9262_784f437c194arow1_col1\" class=\"data row1 col1\" >0.797942</td>\n",
       "            </tr>\n",
       "            <tr>\n",
       "                                <td id=\"T_1ae73bac_3349_11ed_9262_784f437c194arow2_col0\" class=\"data row2 col0\" >firstorder_Maximum</td>\n",
       "                        <td id=\"T_1ae73bac_3349_11ed_9262_784f437c194arow2_col1\" class=\"data row2 col1\" >0.553911</td>\n",
       "            </tr>\n",
       "            <tr>\n",
       "                                <td id=\"T_1ae73bac_3349_11ed_9262_784f437c194arow3_col0\" class=\"data row3 col0\" >shape_MeshVolume</td>\n",
       "                        <td id=\"T_1ae73bac_3349_11ed_9262_784f437c194arow3_col1\" class=\"data row3 col1\" >0.479257</td>\n",
       "            </tr>\n",
       "            <tr>\n",
       "                                <td id=\"T_1ae73bac_3349_11ed_9262_784f437c194arow4_col0\" class=\"data row4 col0\" >firstorder_Kurtosis</td>\n",
       "                        <td id=\"T_1ae73bac_3349_11ed_9262_784f437c194arow4_col1\" class=\"data row4 col1\" >-0.210794</td>\n",
       "            </tr>\n",
       "            <tr>\n",
       "                                <td id=\"T_1ae73bac_3349_11ed_9262_784f437c194arow5_col0\" class=\"data row5 col0\" >shape_Sphericity</td>\n",
       "                        <td id=\"T_1ae73bac_3349_11ed_9262_784f437c194arow5_col1\" class=\"data row5 col1\" >-0.156092</td>\n",
       "            </tr>\n",
       "            <tr>\n",
       "                                <td id=\"T_1ae73bac_3349_11ed_9262_784f437c194arow6_col0\" class=\"data row6 col0\" >firstorder_RootMeanSquared</td>\n",
       "                        <td id=\"T_1ae73bac_3349_11ed_9262_784f437c194arow6_col1\" class=\"data row6 col1\" >-0.142651</td>\n",
       "            </tr>\n",
       "            <tr>\n",
       "                                <td id=\"T_1ae73bac_3349_11ed_9262_784f437c194arow7_col0\" class=\"data row7 col0\" >shape_Elongation</td>\n",
       "                        <td id=\"T_1ae73bac_3349_11ed_9262_784f437c194arow7_col1\" class=\"data row7 col1\" >-0.139468</td>\n",
       "            </tr>\n",
       "    </tbody></table>"
      ],
      "text/plain": [
       "<pandas.io.formats.style.Styler at 0x7fa13f2e79b0>"
      ]
     },
     "metadata": {},
     "output_type": "display_data"
    },
    {
     "name": "stdout",
     "output_type": "stream",
     "text": [
      "\n",
      "\n",
      "shape|firstorder|histogram\n"
     ]
    },
    {
     "data": {
      "text/html": [
       "<style  type=\"text/css\" >\n",
       "</style><table id=\"T_1ae87bf4_3349_11ed_9ad2_784f437c194a\" ><thead>    <tr>        <th class=\"col_heading level0 col0\" >Feature</th>        <th class=\"col_heading level0 col1\" >Coef</th>    </tr></thead><tbody>\n",
       "                <tr>\n",
       "                                <td id=\"T_1ae87bf4_3349_11ed_9ad2_784f437c194arow0_col0\" class=\"data row0 col0\" >firstorder_90Percentile</td>\n",
       "                        <td id=\"T_1ae87bf4_3349_11ed_9ad2_784f437c194arow0_col1\" class=\"data row0 col1\" >-1.255425</td>\n",
       "            </tr>\n",
       "            <tr>\n",
       "                                <td id=\"T_1ae87bf4_3349_11ed_9ad2_784f437c194arow1_col0\" class=\"data row1 col0\" >firstorder_InterquartileRange</td>\n",
       "                        <td id=\"T_1ae87bf4_3349_11ed_9ad2_784f437c194arow1_col1\" class=\"data row1 col1\" >0.679070</td>\n",
       "            </tr>\n",
       "            <tr>\n",
       "                                <td id=\"T_1ae87bf4_3349_11ed_9ad2_784f437c194arow2_col0\" class=\"data row2 col0\" >firstorder_Maximum</td>\n",
       "                        <td id=\"T_1ae87bf4_3349_11ed_9ad2_784f437c194arow2_col1\" class=\"data row2 col1\" >0.546221</td>\n",
       "            </tr>\n",
       "            <tr>\n",
       "                                <td id=\"T_1ae87bf4_3349_11ed_9ad2_784f437c194arow3_col0\" class=\"data row3 col0\" >shape_MeshVolume</td>\n",
       "                        <td id=\"T_1ae87bf4_3349_11ed_9ad2_784f437c194arow3_col1\" class=\"data row3 col1\" >0.419169</td>\n",
       "            </tr>\n",
       "            <tr>\n",
       "                                <td id=\"T_1ae87bf4_3349_11ed_9ad2_784f437c194arow4_col0\" class=\"data row4 col0\" >shape_Sphericity</td>\n",
       "                        <td id=\"T_1ae87bf4_3349_11ed_9ad2_784f437c194arow4_col1\" class=\"data row4 col1\" >-0.252915</td>\n",
       "            </tr>\n",
       "            <tr>\n",
       "                                <td id=\"T_1ae87bf4_3349_11ed_9ad2_784f437c194arow5_col0\" class=\"data row5 col0\" >firstorder_Kurtosis</td>\n",
       "                        <td id=\"T_1ae87bf4_3349_11ed_9ad2_784f437c194arow5_col1\" class=\"data row5 col1\" >-0.219986</td>\n",
       "            </tr>\n",
       "            <tr>\n",
       "                                <td id=\"T_1ae87bf4_3349_11ed_9ad2_784f437c194arow6_col0\" class=\"data row6 col0\" >firstorder_RootMeanSquared</td>\n",
       "                        <td id=\"T_1ae87bf4_3349_11ed_9ad2_784f437c194arow6_col1\" class=\"data row6 col1\" >-0.174827</td>\n",
       "            </tr>\n",
       "            <tr>\n",
       "                                <td id=\"T_1ae87bf4_3349_11ed_9ad2_784f437c194arow7_col0\" class=\"data row7 col0\" >shape_Elongation</td>\n",
       "                        <td id=\"T_1ae87bf4_3349_11ed_9ad2_784f437c194arow7_col1\" class=\"data row7 col1\" >-0.090734</td>\n",
       "            </tr>\n",
       "    </tbody></table>"
      ],
      "text/plain": [
       "<pandas.io.formats.style.Styler at 0x7fa13f2dbe10>"
      ]
     },
     "metadata": {},
     "output_type": "display_data"
    },
    {
     "name": "stdout",
     "output_type": "stream",
     "text": [
      "\n",
      "\n",
      "\n"
     ]
    },
    {
     "data": {
      "text/html": [
       "<style  type=\"text/css\" >\n",
       "</style><table id=\"T_1ae9abd0_3349_11ed_9217_784f437c194a\" ><thead>    <tr>        <th class=\"col_heading level0 col0\" >Feature</th>        <th class=\"col_heading level0 col1\" >Coef</th>    </tr></thead><tbody>\n",
       "                <tr>\n",
       "                                <td id=\"T_1ae9abd0_3349_11ed_9217_784f437c194arow0_col0\" class=\"data row0 col0\" >glszm_ZoneEntropy</td>\n",
       "                        <td id=\"T_1ae9abd0_3349_11ed_9217_784f437c194arow0_col1\" class=\"data row0 col1\" >1.546960</td>\n",
       "            </tr>\n",
       "            <tr>\n",
       "                                <td id=\"T_1ae9abd0_3349_11ed_9217_784f437c194arow1_col0\" class=\"data row1 col0\" >firstorder_90Percentile</td>\n",
       "                        <td id=\"T_1ae9abd0_3349_11ed_9217_784f437c194arow1_col1\" class=\"data row1 col1\" >-1.480074</td>\n",
       "            </tr>\n",
       "            <tr>\n",
       "                                <td id=\"T_1ae9abd0_3349_11ed_9217_784f437c194arow2_col0\" class=\"data row2 col0\" >firstorder_RootMeanSquared</td>\n",
       "                        <td id=\"T_1ae9abd0_3349_11ed_9217_784f437c194arow2_col1\" class=\"data row2 col1\" >-0.983731</td>\n",
       "            </tr>\n",
       "            <tr>\n",
       "                                <td id=\"T_1ae9abd0_3349_11ed_9217_784f437c194arow3_col0\" class=\"data row3 col0\" >glszm_SmallAreaEmphasis</td>\n",
       "                        <td id=\"T_1ae9abd0_3349_11ed_9217_784f437c194arow3_col1\" class=\"data row3 col1\" >0.829896</td>\n",
       "            </tr>\n",
       "            <tr>\n",
       "                                <td id=\"T_1ae9abd0_3349_11ed_9217_784f437c194arow4_col0\" class=\"data row4 col0\" >ngtdm_Strength</td>\n",
       "                        <td id=\"T_1ae9abd0_3349_11ed_9217_784f437c194arow4_col1\" class=\"data row4 col1\" >-0.752307</td>\n",
       "            </tr>\n",
       "            <tr>\n",
       "                                <td id=\"T_1ae9abd0_3349_11ed_9217_784f437c194arow5_col0\" class=\"data row5 col0\" >shape_Sphericity</td>\n",
       "                        <td id=\"T_1ae9abd0_3349_11ed_9217_784f437c194arow5_col1\" class=\"data row5 col1\" >-0.686052</td>\n",
       "            </tr>\n",
       "            <tr>\n",
       "                                <td id=\"T_1ae9abd0_3349_11ed_9217_784f437c194arow6_col0\" class=\"data row6 col0\" >firstorder_Skewness</td>\n",
       "                        <td id=\"T_1ae9abd0_3349_11ed_9217_784f437c194arow6_col1\" class=\"data row6 col1\" >0.608026</td>\n",
       "            </tr>\n",
       "            <tr>\n",
       "                                <td id=\"T_1ae9abd0_3349_11ed_9217_784f437c194arow7_col0\" class=\"data row7 col0\" >shape_Elongation</td>\n",
       "                        <td id=\"T_1ae9abd0_3349_11ed_9217_784f437c194arow7_col1\" class=\"data row7 col1\" >-0.454265</td>\n",
       "            </tr>\n",
       "            <tr>\n",
       "                                <td id=\"T_1ae9abd0_3349_11ed_9217_784f437c194arow8_col0\" class=\"data row8 col0\" >shape_MeshVolume</td>\n",
       "                        <td id=\"T_1ae9abd0_3349_11ed_9217_784f437c194arow8_col1\" class=\"data row8 col1\" >0.377596</td>\n",
       "            </tr>\n",
       "            <tr>\n",
       "                                <td id=\"T_1ae9abd0_3349_11ed_9217_784f437c194arow9_col0\" class=\"data row9 col0\" >gldm_DependenceNonUniformityNormalized</td>\n",
       "                        <td id=\"T_1ae9abd0_3349_11ed_9217_784f437c194arow9_col1\" class=\"data row9 col1\" >-0.327137</td>\n",
       "            </tr>\n",
       "            <tr>\n",
       "                                <td id=\"T_1ae9abd0_3349_11ed_9217_784f437c194arow10_col0\" class=\"data row10 col0\" >firstorder_InterquartileRange</td>\n",
       "                        <td id=\"T_1ae9abd0_3349_11ed_9217_784f437c194arow10_col1\" class=\"data row10 col1\" >0.295704</td>\n",
       "            </tr>\n",
       "            <tr>\n",
       "                                <td id=\"T_1ae9abd0_3349_11ed_9217_784f437c194arow11_col0\" class=\"data row11 col0\" >ngtdm_Contrast</td>\n",
       "                        <td id=\"T_1ae9abd0_3349_11ed_9217_784f437c194arow11_col1\" class=\"data row11 col1\" >0.169989</td>\n",
       "            </tr>\n",
       "            <tr>\n",
       "                                <td id=\"T_1ae9abd0_3349_11ed_9217_784f437c194arow12_col0\" class=\"data row12 col0\" >firstorder_Maximum</td>\n",
       "                        <td id=\"T_1ae9abd0_3349_11ed_9217_784f437c194arow12_col1\" class=\"data row12 col1\" >0.061511</td>\n",
       "            </tr>\n",
       "    </tbody></table>"
      ],
      "text/plain": [
       "<pandas.io.formats.style.Styler at 0x7fa13f2cf2e8>"
      ]
     },
     "metadata": {},
     "output_type": "display_data"
    },
    {
     "name": "stdout",
     "output_type": "stream",
     "text": [
      "\n",
      "\n",
      "firstorder|histogram\n"
     ]
    },
    {
     "data": {
      "text/html": [
       "<style  type=\"text/css\" >\n",
       "</style><table id=\"T_1aeaf4cc_3349_11ed_9158_784f437c194a\" ><thead>    <tr>        <th class=\"col_heading level0 col0\" >Feature</th>        <th class=\"col_heading level0 col1\" >Coef</th>    </tr></thead><tbody>\n",
       "                <tr>\n",
       "                                <td id=\"T_1aeaf4cc_3349_11ed_9158_784f437c194arow0_col0\" class=\"data row0 col0\" >firstorder_90Percentile</td>\n",
       "                        <td id=\"T_1aeaf4cc_3349_11ed_9158_784f437c194arow0_col1\" class=\"data row0 col1\" >-1.770706</td>\n",
       "            </tr>\n",
       "            <tr>\n",
       "                                <td id=\"T_1aeaf4cc_3349_11ed_9158_784f437c194arow1_col0\" class=\"data row1 col0\" >firstorder_Maximum</td>\n",
       "                        <td id=\"T_1aeaf4cc_3349_11ed_9158_784f437c194arow1_col1\" class=\"data row1 col1\" >1.218496</td>\n",
       "            </tr>\n",
       "            <tr>\n",
       "                                <td id=\"T_1aeaf4cc_3349_11ed_9158_784f437c194arow2_col0\" class=\"data row2 col0\" >firstorder_InterquartileRange</td>\n",
       "                        <td id=\"T_1aeaf4cc_3349_11ed_9158_784f437c194arow2_col1\" class=\"data row2 col1\" >1.146709</td>\n",
       "            </tr>\n",
       "            <tr>\n",
       "                                <td id=\"T_1aeaf4cc_3349_11ed_9158_784f437c194arow3_col0\" class=\"data row3 col0\" >firstorder_RootMeanSquared</td>\n",
       "                        <td id=\"T_1aeaf4cc_3349_11ed_9158_784f437c194arow3_col1\" class=\"data row3 col1\" >-0.327694</td>\n",
       "            </tr>\n",
       "            <tr>\n",
       "                                <td id=\"T_1aeaf4cc_3349_11ed_9158_784f437c194arow4_col0\" class=\"data row4 col0\" >firstorder_Minimum</td>\n",
       "                        <td id=\"T_1aeaf4cc_3349_11ed_9158_784f437c194arow4_col1\" class=\"data row4 col1\" >-0.093075</td>\n",
       "            </tr>\n",
       "            <tr>\n",
       "                                <td id=\"T_1aeaf4cc_3349_11ed_9158_784f437c194arow5_col0\" class=\"data row5 col0\" >firstorder_Skewness</td>\n",
       "                        <td id=\"T_1aeaf4cc_3349_11ed_9158_784f437c194arow5_col1\" class=\"data row5 col1\" >0.025766</td>\n",
       "            </tr>\n",
       "    </tbody></table>"
      ],
      "text/plain": [
       "<pandas.io.formats.style.Styler at 0x7fa13f2dbf60>"
      ]
     },
     "metadata": {},
     "output_type": "display_data"
    },
    {
     "name": "stdout",
     "output_type": "stream",
     "text": [
      "\n",
      "\n",
      "shape|firstorder|histogram\n"
     ]
    },
    {
     "data": {
      "text/html": [
       "<style  type=\"text/css\" >\n",
       "</style><table id=\"T_1aec4d74_3349_11ed_a165_784f437c194a\" ><thead>    <tr>        <th class=\"col_heading level0 col0\" >Feature</th>        <th class=\"col_heading level0 col1\" >Coef</th>    </tr></thead><tbody>\n",
       "                <tr>\n",
       "                                <td id=\"T_1aec4d74_3349_11ed_a165_784f437c194arow0_col0\" class=\"data row0 col0\" >firstorder_90Percentile</td>\n",
       "                        <td id=\"T_1aec4d74_3349_11ed_a165_784f437c194arow0_col1\" class=\"data row0 col1\" >-1.966423</td>\n",
       "            </tr>\n",
       "            <tr>\n",
       "                                <td id=\"T_1aec4d74_3349_11ed_a165_784f437c194arow1_col0\" class=\"data row1 col0\" >firstorder_InterquartileRange</td>\n",
       "                        <td id=\"T_1aec4d74_3349_11ed_a165_784f437c194arow1_col1\" class=\"data row1 col1\" >1.095010</td>\n",
       "            </tr>\n",
       "            <tr>\n",
       "                                <td id=\"T_1aec4d74_3349_11ed_a165_784f437c194arow2_col0\" class=\"data row2 col0\" >shape_MeshVolume</td>\n",
       "                        <td id=\"T_1aec4d74_3349_11ed_a165_784f437c194arow2_col1\" class=\"data row2 col1\" >1.053310</td>\n",
       "            </tr>\n",
       "            <tr>\n",
       "                                <td id=\"T_1aec4d74_3349_11ed_a165_784f437c194arow3_col0\" class=\"data row3 col0\" >firstorder_Maximum</td>\n",
       "                        <td id=\"T_1aec4d74_3349_11ed_a165_784f437c194arow3_col1\" class=\"data row3 col1\" >0.981499</td>\n",
       "            </tr>\n",
       "            <tr>\n",
       "                                <td id=\"T_1aec4d74_3349_11ed_a165_784f437c194arow4_col0\" class=\"data row4 col0\" >shape_Flatness</td>\n",
       "                        <td id=\"T_1aec4d74_3349_11ed_a165_784f437c194arow4_col1\" class=\"data row4 col1\" >0.576797</td>\n",
       "            </tr>\n",
       "            <tr>\n",
       "                                <td id=\"T_1aec4d74_3349_11ed_a165_784f437c194arow5_col0\" class=\"data row5 col0\" >firstorder_Kurtosis</td>\n",
       "                        <td id=\"T_1aec4d74_3349_11ed_a165_784f437c194arow5_col1\" class=\"data row5 col1\" >-0.571539</td>\n",
       "            </tr>\n",
       "            <tr>\n",
       "                                <td id=\"T_1aec4d74_3349_11ed_a165_784f437c194arow6_col0\" class=\"data row6 col0\" >shape_Elongation</td>\n",
       "                        <td id=\"T_1aec4d74_3349_11ed_a165_784f437c194arow6_col1\" class=\"data row6 col1\" >-0.564138</td>\n",
       "            </tr>\n",
       "            <tr>\n",
       "                                <td id=\"T_1aec4d74_3349_11ed_a165_784f437c194arow7_col0\" class=\"data row7 col0\" >shape_Sphericity</td>\n",
       "                        <td id=\"T_1aec4d74_3349_11ed_a165_784f437c194arow7_col1\" class=\"data row7 col1\" >-0.359735</td>\n",
       "            </tr>\n",
       "            <tr>\n",
       "                                <td id=\"T_1aec4d74_3349_11ed_a165_784f437c194arow8_col0\" class=\"data row8 col0\" >firstorder_RootMeanSquared</td>\n",
       "                        <td id=\"T_1aec4d74_3349_11ed_a165_784f437c194arow8_col1\" class=\"data row8 col1\" >-0.257151</td>\n",
       "            </tr>\n",
       "            <tr>\n",
       "                                <td id=\"T_1aec4d74_3349_11ed_a165_784f437c194arow9_col0\" class=\"data row9 col0\" >firstorder_Skewness</td>\n",
       "                        <td id=\"T_1aec4d74_3349_11ed_a165_784f437c194arow9_col1\" class=\"data row9 col1\" >0.060304</td>\n",
       "            </tr>\n",
       "    </tbody></table>"
      ],
      "text/plain": [
       "<pandas.io.formats.style.Styler at 0x7fa13f2e7208>"
      ]
     },
     "metadata": {},
     "output_type": "display_data"
    },
    {
     "name": "stdout",
     "output_type": "stream",
     "text": [
      "\n",
      "\n",
      "\n"
     ]
    },
    {
     "data": {
      "text/html": [
       "<style  type=\"text/css\" >\n",
       "</style><table id=\"T_1aedf398_3349_11ed_beb5_784f437c194a\" ><thead>    <tr>        <th class=\"col_heading level0 col0\" >Feature</th>        <th class=\"col_heading level0 col1\" >Coef</th>    </tr></thead><tbody>\n",
       "                <tr>\n",
       "                                <td id=\"T_1aedf398_3349_11ed_beb5_784f437c194arow0_col0\" class=\"data row0 col0\" >firstorder_90Percentile</td>\n",
       "                        <td id=\"T_1aedf398_3349_11ed_beb5_784f437c194arow0_col1\" class=\"data row0 col1\" >-1.218331</td>\n",
       "            </tr>\n",
       "            <tr>\n",
       "                                <td id=\"T_1aedf398_3349_11ed_beb5_784f437c194arow1_col0\" class=\"data row1 col0\" >firstorder_InterquartileRange</td>\n",
       "                        <td id=\"T_1aedf398_3349_11ed_beb5_784f437c194arow1_col1\" class=\"data row1 col1\" >0.771239</td>\n",
       "            </tr>\n",
       "            <tr>\n",
       "                                <td id=\"T_1aedf398_3349_11ed_beb5_784f437c194arow2_col0\" class=\"data row2 col0\" >firstorder_Maximum</td>\n",
       "                        <td id=\"T_1aedf398_3349_11ed_beb5_784f437c194arow2_col1\" class=\"data row2 col1\" >0.397367</td>\n",
       "            </tr>\n",
       "            <tr>\n",
       "                                <td id=\"T_1aedf398_3349_11ed_beb5_784f437c194arow3_col0\" class=\"data row3 col0\" >shape_Sphericity</td>\n",
       "                        <td id=\"T_1aedf398_3349_11ed_beb5_784f437c194arow3_col1\" class=\"data row3 col1\" >-0.373183</td>\n",
       "            </tr>\n",
       "            <tr>\n",
       "                                <td id=\"T_1aedf398_3349_11ed_beb5_784f437c194arow4_col0\" class=\"data row4 col0\" >glszm_SmallAreaEmphasis</td>\n",
       "                        <td id=\"T_1aedf398_3349_11ed_beb5_784f437c194arow4_col1\" class=\"data row4 col1\" >0.333640</td>\n",
       "            </tr>\n",
       "            <tr>\n",
       "                                <td id=\"T_1aedf398_3349_11ed_beb5_784f437c194arow5_col0\" class=\"data row5 col0\" >shape_MeshVolume</td>\n",
       "                        <td id=\"T_1aedf398_3349_11ed_beb5_784f437c194arow5_col1\" class=\"data row5 col1\" >0.296643</td>\n",
       "            </tr>\n",
       "            <tr>\n",
       "                                <td id=\"T_1aedf398_3349_11ed_beb5_784f437c194arow6_col0\" class=\"data row6 col0\" >ngtdm_Strength</td>\n",
       "                        <td id=\"T_1aedf398_3349_11ed_beb5_784f437c194arow6_col1\" class=\"data row6 col1\" >-0.246217</td>\n",
       "            </tr>\n",
       "            <tr>\n",
       "                                <td id=\"T_1aedf398_3349_11ed_beb5_784f437c194arow7_col0\" class=\"data row7 col0\" >firstorder_Range</td>\n",
       "                        <td id=\"T_1aedf398_3349_11ed_beb5_784f437c194arow7_col1\" class=\"data row7 col1\" >0.094909</td>\n",
       "            </tr>\n",
       "            <tr>\n",
       "                                <td id=\"T_1aedf398_3349_11ed_beb5_784f437c194arow8_col0\" class=\"data row8 col0\" >gldm_DependenceNonUniformityNormalized</td>\n",
       "                        <td id=\"T_1aedf398_3349_11ed_beb5_784f437c194arow8_col1\" class=\"data row8 col1\" >-0.086531</td>\n",
       "            </tr>\n",
       "            <tr>\n",
       "                                <td id=\"T_1aedf398_3349_11ed_beb5_784f437c194arow9_col0\" class=\"data row9 col0\" >shape_Elongation</td>\n",
       "                        <td id=\"T_1aedf398_3349_11ed_beb5_784f437c194arow9_col1\" class=\"data row9 col1\" >-0.072979</td>\n",
       "            </tr>\n",
       "            <tr>\n",
       "                                <td id=\"T_1aedf398_3349_11ed_beb5_784f437c194arow10_col0\" class=\"data row10 col0\" >firstorder_RootMeanSquared</td>\n",
       "                        <td id=\"T_1aedf398_3349_11ed_beb5_784f437c194arow10_col1\" class=\"data row10 col1\" >-0.059297</td>\n",
       "            </tr>\n",
       "    </tbody></table>"
      ],
      "text/plain": [
       "<pandas.io.formats.style.Styler at 0x7fa13f2e75c0>"
      ]
     },
     "metadata": {},
     "output_type": "display_data"
    },
    {
     "name": "stdout",
     "output_type": "stream",
     "text": [
      "\n",
      "\n",
      "\n"
     ]
    },
    {
     "data": {
      "text/html": [
       "<style  type=\"text/css\" >\n",
       "</style><table id=\"T_1aef9374_3349_11ed_94a4_784f437c194a\" ><thead>    <tr>        <th class=\"col_heading level0 col0\" >Feature</th>        <th class=\"col_heading level0 col1\" >Coef</th>    </tr></thead><tbody>\n",
       "                <tr>\n",
       "                                <td id=\"T_1aef9374_3349_11ed_94a4_784f437c194arow0_col0\" class=\"data row0 col0\" >firstorder_90Percentile</td>\n",
       "                        <td id=\"T_1aef9374_3349_11ed_94a4_784f437c194arow0_col1\" class=\"data row0 col1\" >-1.256774</td>\n",
       "            </tr>\n",
       "            <tr>\n",
       "                                <td id=\"T_1aef9374_3349_11ed_94a4_784f437c194arow1_col0\" class=\"data row1 col0\" >glszm_ZoneEntropy</td>\n",
       "                        <td id=\"T_1aef9374_3349_11ed_94a4_784f437c194arow1_col1\" class=\"data row1 col1\" >0.826526</td>\n",
       "            </tr>\n",
       "            <tr>\n",
       "                                <td id=\"T_1aef9374_3349_11ed_94a4_784f437c194arow2_col0\" class=\"data row2 col0\" >glszm_SmallAreaEmphasis</td>\n",
       "                        <td id=\"T_1aef9374_3349_11ed_94a4_784f437c194arow2_col1\" class=\"data row2 col1\" >0.550639</td>\n",
       "            </tr>\n",
       "            <tr>\n",
       "                                <td id=\"T_1aef9374_3349_11ed_94a4_784f437c194arow3_col0\" class=\"data row3 col0\" >shape_MeshVolume</td>\n",
       "                        <td id=\"T_1aef9374_3349_11ed_94a4_784f437c194arow3_col1\" class=\"data row3 col1\" >0.497346</td>\n",
       "            </tr>\n",
       "            <tr>\n",
       "                                <td id=\"T_1aef9374_3349_11ed_94a4_784f437c194arow4_col0\" class=\"data row4 col0\" >shape_Sphericity</td>\n",
       "                        <td id=\"T_1aef9374_3349_11ed_94a4_784f437c194arow4_col1\" class=\"data row4 col1\" >-0.329509</td>\n",
       "            </tr>\n",
       "            <tr>\n",
       "                                <td id=\"T_1aef9374_3349_11ed_94a4_784f437c194arow5_col0\" class=\"data row5 col0\" >shape_Elongation</td>\n",
       "                        <td id=\"T_1aef9374_3349_11ed_94a4_784f437c194arow5_col1\" class=\"data row5 col1\" >-0.214480</td>\n",
       "            </tr>\n",
       "            <tr>\n",
       "                                <td id=\"T_1aef9374_3349_11ed_94a4_784f437c194arow6_col0\" class=\"data row6 col0\" >firstorder_RootMeanSquared</td>\n",
       "                        <td id=\"T_1aef9374_3349_11ed_94a4_784f437c194arow6_col1\" class=\"data row6 col1\" >-0.205549</td>\n",
       "            </tr>\n",
       "            <tr>\n",
       "                                <td id=\"T_1aef9374_3349_11ed_94a4_784f437c194arow7_col0\" class=\"data row7 col0\" >firstorder_Range</td>\n",
       "                        <td id=\"T_1aef9374_3349_11ed_94a4_784f437c194arow7_col1\" class=\"data row7 col1\" >0.172336</td>\n",
       "            </tr>\n",
       "            <tr>\n",
       "                                <td id=\"T_1aef9374_3349_11ed_94a4_784f437c194arow8_col0\" class=\"data row8 col0\" >ngtdm_Strength</td>\n",
       "                        <td id=\"T_1aef9374_3349_11ed_94a4_784f437c194arow8_col1\" class=\"data row8 col1\" >-0.162288</td>\n",
       "            </tr>\n",
       "            <tr>\n",
       "                                <td id=\"T_1aef9374_3349_11ed_94a4_784f437c194arow9_col0\" class=\"data row9 col0\" >firstorder_Maximum</td>\n",
       "                        <td id=\"T_1aef9374_3349_11ed_94a4_784f437c194arow9_col1\" class=\"data row9 col1\" >0.096553</td>\n",
       "            </tr>\n",
       "    </tbody></table>"
      ],
      "text/plain": [
       "<pandas.io.formats.style.Styler at 0x7fa13f2e7898>"
      ]
     },
     "metadata": {},
     "output_type": "display_data"
    },
    {
     "name": "stdout",
     "output_type": "stream",
     "text": [
      "\n",
      "\n",
      "shape|firstorder|histogram\n"
     ]
    },
    {
     "data": {
      "text/html": [
       "<style  type=\"text/css\" >\n",
       "</style><table id=\"T_1af0c69a_3349_11ed_8a12_784f437c194a\" ><thead>    <tr>        <th class=\"col_heading level0 col0\" >Feature</th>        <th class=\"col_heading level0 col1\" >Coef</th>    </tr></thead><tbody>\n",
       "                <tr>\n",
       "                                <td id=\"T_1af0c69a_3349_11ed_8a12_784f437c194arow0_col0\" class=\"data row0 col0\" >firstorder_90Percentile</td>\n",
       "                        <td id=\"T_1af0c69a_3349_11ed_8a12_784f437c194arow0_col1\" class=\"data row0 col1\" >-1.146904</td>\n",
       "            </tr>\n",
       "            <tr>\n",
       "                                <td id=\"T_1af0c69a_3349_11ed_8a12_784f437c194arow1_col0\" class=\"data row1 col0\" >firstorder_Uniformity</td>\n",
       "                        <td id=\"T_1af0c69a_3349_11ed_8a12_784f437c194arow1_col1\" class=\"data row1 col1\" >-0.544114</td>\n",
       "            </tr>\n",
       "            <tr>\n",
       "                                <td id=\"T_1af0c69a_3349_11ed_8a12_784f437c194arow2_col0\" class=\"data row2 col0\" >shape_MeshVolume</td>\n",
       "                        <td id=\"T_1af0c69a_3349_11ed_8a12_784f437c194arow2_col1\" class=\"data row2 col1\" >0.460436</td>\n",
       "            </tr>\n",
       "            <tr>\n",
       "                                <td id=\"T_1af0c69a_3349_11ed_8a12_784f437c194arow3_col0\" class=\"data row3 col0\" >shape_Elongation</td>\n",
       "                        <td id=\"T_1af0c69a_3349_11ed_8a12_784f437c194arow3_col1\" class=\"data row3 col1\" >-0.453773</td>\n",
       "            </tr>\n",
       "            <tr>\n",
       "                                <td id=\"T_1af0c69a_3349_11ed_8a12_784f437c194arow4_col0\" class=\"data row4 col0\" >firstorder_Maximum</td>\n",
       "                        <td id=\"T_1af0c69a_3349_11ed_8a12_784f437c194arow4_col1\" class=\"data row4 col1\" >0.432836</td>\n",
       "            </tr>\n",
       "            <tr>\n",
       "                                <td id=\"T_1af0c69a_3349_11ed_8a12_784f437c194arow5_col0\" class=\"data row5 col0\" >shape_Sphericity</td>\n",
       "                        <td id=\"T_1af0c69a_3349_11ed_8a12_784f437c194arow5_col1\" class=\"data row5 col1\" >-0.335521</td>\n",
       "            </tr>\n",
       "            <tr>\n",
       "                                <td id=\"T_1af0c69a_3349_11ed_8a12_784f437c194arow6_col0\" class=\"data row6 col0\" >firstorder_RootMeanSquared</td>\n",
       "                        <td id=\"T_1af0c69a_3349_11ed_8a12_784f437c194arow6_col1\" class=\"data row6 col1\" >-0.183435</td>\n",
       "            </tr>\n",
       "            <tr>\n",
       "                                <td id=\"T_1af0c69a_3349_11ed_8a12_784f437c194arow7_col0\" class=\"data row7 col0\" >firstorder_Kurtosis</td>\n",
       "                        <td id=\"T_1af0c69a_3349_11ed_8a12_784f437c194arow7_col1\" class=\"data row7 col1\" >-0.120438</td>\n",
       "            </tr>\n",
       "    </tbody></table>"
      ],
      "text/plain": [
       "<pandas.io.formats.style.Styler at 0x7fa144692cc0>"
      ]
     },
     "metadata": {},
     "output_type": "display_data"
    },
    {
     "name": "stdout",
     "output_type": "stream",
     "text": [
      "\n",
      "\n",
      "shape|glcm|gldm|glszm|glrlm|ngtdm\n"
     ]
    },
    {
     "data": {
      "text/html": [
       "<style  type=\"text/css\" >\n",
       "</style><table id=\"T_1af2562c_3349_11ed_bf15_784f437c194a\" ><thead>    <tr>        <th class=\"col_heading level0 col0\" >Feature</th>        <th class=\"col_heading level0 col1\" >Coef</th>    </tr></thead><tbody>\n",
       "                <tr>\n",
       "                                <td id=\"T_1af2562c_3349_11ed_bf15_784f437c194arow0_col0\" class=\"data row0 col0\" >shape_MeshVolume</td>\n",
       "                        <td id=\"T_1af2562c_3349_11ed_bf15_784f437c194arow0_col1\" class=\"data row0 col1\" >1.704526</td>\n",
       "            </tr>\n",
       "            <tr>\n",
       "                                <td id=\"T_1af2562c_3349_11ed_bf15_784f437c194arow1_col0\" class=\"data row1 col0\" >glszm_ZoneEntropy</td>\n",
       "                        <td id=\"T_1af2562c_3349_11ed_bf15_784f437c194arow1_col1\" class=\"data row1 col1\" >1.495086</td>\n",
       "            </tr>\n",
       "            <tr>\n",
       "                                <td id=\"T_1af2562c_3349_11ed_bf15_784f437c194arow2_col0\" class=\"data row2 col0\" >glszm_SmallAreaEmphasis</td>\n",
       "                        <td id=\"T_1af2562c_3349_11ed_bf15_784f437c194arow2_col1\" class=\"data row2 col1\" >1.048229</td>\n",
       "            </tr>\n",
       "            <tr>\n",
       "                                <td id=\"T_1af2562c_3349_11ed_bf15_784f437c194arow3_col0\" class=\"data row3 col0\" >shape_Sphericity</td>\n",
       "                        <td id=\"T_1af2562c_3349_11ed_bf15_784f437c194arow3_col1\" class=\"data row3 col1\" >-0.688259</td>\n",
       "            </tr>\n",
       "            <tr>\n",
       "                                <td id=\"T_1af2562c_3349_11ed_bf15_784f437c194arow4_col0\" class=\"data row4 col0\" >gldm_LowGrayLevelEmphasis</td>\n",
       "                        <td id=\"T_1af2562c_3349_11ed_bf15_784f437c194arow4_col1\" class=\"data row4 col1\" >0.403709</td>\n",
       "            </tr>\n",
       "            <tr>\n",
       "                                <td id=\"T_1af2562c_3349_11ed_bf15_784f437c194arow5_col0\" class=\"data row5 col0\" >shape_Elongation</td>\n",
       "                        <td id=\"T_1af2562c_3349_11ed_bf15_784f437c194arow5_col1\" class=\"data row5 col1\" >-0.355507</td>\n",
       "            </tr>\n",
       "            <tr>\n",
       "                                <td id=\"T_1af2562c_3349_11ed_bf15_784f437c194arow6_col0\" class=\"data row6 col0\" >glszm_LargeAreaLowGrayLevelEmphasis</td>\n",
       "                        <td id=\"T_1af2562c_3349_11ed_bf15_784f437c194arow6_col1\" class=\"data row6 col1\" >0.290970</td>\n",
       "            </tr>\n",
       "            <tr>\n",
       "                                <td id=\"T_1af2562c_3349_11ed_bf15_784f437c194arow7_col0\" class=\"data row7 col0\" >ngtdm_Strength</td>\n",
       "                        <td id=\"T_1af2562c_3349_11ed_bf15_784f437c194arow7_col1\" class=\"data row7 col1\" >-0.245998</td>\n",
       "            </tr>\n",
       "            <tr>\n",
       "                                <td id=\"T_1af2562c_3349_11ed_bf15_784f437c194arow8_col0\" class=\"data row8 col0\" >ngtdm_Contrast</td>\n",
       "                        <td id=\"T_1af2562c_3349_11ed_bf15_784f437c194arow8_col1\" class=\"data row8 col1\" >-0.182168</td>\n",
       "            </tr>\n",
       "            <tr>\n",
       "                                <td id=\"T_1af2562c_3349_11ed_bf15_784f437c194arow9_col0\" class=\"data row9 col0\" >gldm_DependenceNonUniformityNormalized</td>\n",
       "                        <td id=\"T_1af2562c_3349_11ed_bf15_784f437c194arow9_col1\" class=\"data row9 col1\" >-0.096702</td>\n",
       "            </tr>\n",
       "    </tbody></table>"
      ],
      "text/plain": [
       "<pandas.io.formats.style.Styler at 0x7fa13f2e7e48>"
      ]
     },
     "metadata": {},
     "output_type": "display_data"
    },
    {
     "name": "stdout",
     "output_type": "stream",
     "text": [
      "\n",
      "\n",
      "shape|firstorder|histogram\n"
     ]
    },
    {
     "data": {
      "text/html": [
       "<style  type=\"text/css\" >\n",
       "</style><table id=\"T_1af3d8ba_3349_11ed_9769_784f437c194a\" ><thead>    <tr>        <th class=\"col_heading level0 col0\" >Feature</th>        <th class=\"col_heading level0 col1\" >Coef</th>    </tr></thead><tbody>\n",
       "                <tr>\n",
       "                                <td id=\"T_1af3d8ba_3349_11ed_9769_784f437c194arow0_col0\" class=\"data row0 col0\" >firstorder_90Percentile</td>\n",
       "                        <td id=\"T_1af3d8ba_3349_11ed_9769_784f437c194arow0_col1\" class=\"data row0 col1\" >-1.513608</td>\n",
       "            </tr>\n",
       "            <tr>\n",
       "                                <td id=\"T_1af3d8ba_3349_11ed_9769_784f437c194arow1_col0\" class=\"data row1 col0\" >firstorder_InterquartileRange</td>\n",
       "                        <td id=\"T_1af3d8ba_3349_11ed_9769_784f437c194arow1_col1\" class=\"data row1 col1\" >0.988410</td>\n",
       "            </tr>\n",
       "            <tr>\n",
       "                                <td id=\"T_1af3d8ba_3349_11ed_9769_784f437c194arow2_col0\" class=\"data row2 col0\" >firstorder_Maximum</td>\n",
       "                        <td id=\"T_1af3d8ba_3349_11ed_9769_784f437c194arow2_col1\" class=\"data row2 col1\" >0.893279</td>\n",
       "            </tr>\n",
       "            <tr>\n",
       "                                <td id=\"T_1af3d8ba_3349_11ed_9769_784f437c194arow3_col0\" class=\"data row3 col0\" >shape_MeshVolume</td>\n",
       "                        <td id=\"T_1af3d8ba_3349_11ed_9769_784f437c194arow3_col1\" class=\"data row3 col1\" >0.498777</td>\n",
       "            </tr>\n",
       "            <tr>\n",
       "                                <td id=\"T_1af3d8ba_3349_11ed_9769_784f437c194arow4_col0\" class=\"data row4 col0\" >firstorder_Kurtosis</td>\n",
       "                        <td id=\"T_1af3d8ba_3349_11ed_9769_784f437c194arow4_col1\" class=\"data row4 col1\" >-0.412323</td>\n",
       "            </tr>\n",
       "            <tr>\n",
       "                                <td id=\"T_1af3d8ba_3349_11ed_9769_784f437c194arow5_col0\" class=\"data row5 col0\" >shape_Sphericity</td>\n",
       "                        <td id=\"T_1af3d8ba_3349_11ed_9769_784f437c194arow5_col1\" class=\"data row5 col1\" >-0.281846</td>\n",
       "            </tr>\n",
       "            <tr>\n",
       "                                <td id=\"T_1af3d8ba_3349_11ed_9769_784f437c194arow6_col0\" class=\"data row6 col0\" >firstorder_RootMeanSquared</td>\n",
       "                        <td id=\"T_1af3d8ba_3349_11ed_9769_784f437c194arow6_col1\" class=\"data row6 col1\" >-0.249185</td>\n",
       "            </tr>\n",
       "            <tr>\n",
       "                                <td id=\"T_1af3d8ba_3349_11ed_9769_784f437c194arow7_col0\" class=\"data row7 col0\" >shape_Elongation</td>\n",
       "                        <td id=\"T_1af3d8ba_3349_11ed_9769_784f437c194arow7_col1\" class=\"data row7 col1\" >-0.229411</td>\n",
       "            </tr>\n",
       "            <tr>\n",
       "                                <td id=\"T_1af3d8ba_3349_11ed_9769_784f437c194arow8_col0\" class=\"data row8 col0\" >shape_Flatness</td>\n",
       "                        <td id=\"T_1af3d8ba_3349_11ed_9769_784f437c194arow8_col1\" class=\"data row8 col1\" >0.135130</td>\n",
       "            </tr>\n",
       "            <tr>\n",
       "                                <td id=\"T_1af3d8ba_3349_11ed_9769_784f437c194arow9_col0\" class=\"data row9 col0\" >firstorder_Skewness</td>\n",
       "                        <td id=\"T_1af3d8ba_3349_11ed_9769_784f437c194arow9_col1\" class=\"data row9 col1\" >0.001654</td>\n",
       "            </tr>\n",
       "    </tbody></table>"
      ],
      "text/plain": [
       "<pandas.io.formats.style.Styler at 0x7fa13c2b56d8>"
      ]
     },
     "metadata": {},
     "output_type": "display_data"
    },
    {
     "name": "stdout",
     "output_type": "stream",
     "text": [
      "\n",
      "\n",
      "firstorder|histogram\n"
     ]
    },
    {
     "data": {
      "text/html": [
       "<style  type=\"text/css\" >\n",
       "</style><table id=\"T_1af5297e_3349_11ed_900c_784f437c194a\" ><thead>    <tr>        <th class=\"col_heading level0 col0\" >Feature</th>        <th class=\"col_heading level0 col1\" >Coef</th>    </tr></thead><tbody>\n",
       "                <tr>\n",
       "                                <td id=\"T_1af5297e_3349_11ed_900c_784f437c194arow0_col0\" class=\"data row0 col0\" >firstorder_90Percentile</td>\n",
       "                        <td id=\"T_1af5297e_3349_11ed_900c_784f437c194arow0_col1\" class=\"data row0 col1\" >-1.996560</td>\n",
       "            </tr>\n",
       "            <tr>\n",
       "                                <td id=\"T_1af5297e_3349_11ed_900c_784f437c194arow1_col0\" class=\"data row1 col0\" >firstorder_Maximum</td>\n",
       "                        <td id=\"T_1af5297e_3349_11ed_900c_784f437c194arow1_col1\" class=\"data row1 col1\" >1.628485</td>\n",
       "            </tr>\n",
       "            <tr>\n",
       "                                <td id=\"T_1af5297e_3349_11ed_900c_784f437c194arow2_col0\" class=\"data row2 col0\" >firstorder_InterquartileRange</td>\n",
       "                        <td id=\"T_1af5297e_3349_11ed_900c_784f437c194arow2_col1\" class=\"data row2 col1\" >1.069756</td>\n",
       "            </tr>\n",
       "            <tr>\n",
       "                                <td id=\"T_1af5297e_3349_11ed_900c_784f437c194arow3_col0\" class=\"data row3 col0\" >firstorder_Kurtosis</td>\n",
       "                        <td id=\"T_1af5297e_3349_11ed_900c_784f437c194arow3_col1\" class=\"data row3 col1\" >-0.760326</td>\n",
       "            </tr>\n",
       "            <tr>\n",
       "                                <td id=\"T_1af5297e_3349_11ed_900c_784f437c194arow4_col0\" class=\"data row4 col0\" >firstorder_RootMeanSquared</td>\n",
       "                        <td id=\"T_1af5297e_3349_11ed_900c_784f437c194arow4_col1\" class=\"data row4 col1\" >-0.390356</td>\n",
       "            </tr>\n",
       "    </tbody></table>"
      ],
      "text/plain": [
       "<pandas.io.formats.style.Styler at 0x7fa13bb0b080>"
      ]
     },
     "metadata": {},
     "output_type": "display_data"
    },
    {
     "name": "stdout",
     "output_type": "stream",
     "text": [
      "\n",
      "\n",
      "shape|firstorder|histogram\n"
     ]
    },
    {
     "data": {
      "text/html": [
       "<style  type=\"text/css\" >\n",
       "</style><table id=\"T_1af61974_3349_11ed_8fee_784f437c194a\" ><thead>    <tr>        <th class=\"col_heading level0 col0\" >Feature</th>        <th class=\"col_heading level0 col1\" >Coef</th>    </tr></thead><tbody>\n",
       "                <tr>\n",
       "                                <td id=\"T_1af61974_3349_11ed_8fee_784f437c194arow0_col0\" class=\"data row0 col0\" >firstorder_90Percentile</td>\n",
       "                        <td id=\"T_1af61974_3349_11ed_8fee_784f437c194arow0_col1\" class=\"data row0 col1\" >-1.854082</td>\n",
       "            </tr>\n",
       "            <tr>\n",
       "                                <td id=\"T_1af61974_3349_11ed_8fee_784f437c194arow1_col0\" class=\"data row1 col0\" >shape_MeshVolume</td>\n",
       "                        <td id=\"T_1af61974_3349_11ed_8fee_784f437c194arow1_col1\" class=\"data row1 col1\" >1.172794</td>\n",
       "            </tr>\n",
       "            <tr>\n",
       "                                <td id=\"T_1af61974_3349_11ed_8fee_784f437c194arow2_col0\" class=\"data row2 col0\" >firstorder_InterquartileRange</td>\n",
       "                        <td id=\"T_1af61974_3349_11ed_8fee_784f437c194arow2_col1\" class=\"data row2 col1\" >1.156598</td>\n",
       "            </tr>\n",
       "            <tr>\n",
       "                                <td id=\"T_1af61974_3349_11ed_8fee_784f437c194arow3_col0\" class=\"data row3 col0\" >firstorder_Maximum</td>\n",
       "                        <td id=\"T_1af61974_3349_11ed_8fee_784f437c194arow3_col1\" class=\"data row3 col1\" >1.003021</td>\n",
       "            </tr>\n",
       "            <tr>\n",
       "                                <td id=\"T_1af61974_3349_11ed_8fee_784f437c194arow4_col0\" class=\"data row4 col0\" >firstorder_Kurtosis</td>\n",
       "                        <td id=\"T_1af61974_3349_11ed_8fee_784f437c194arow4_col1\" class=\"data row4 col1\" >-0.596981</td>\n",
       "            </tr>\n",
       "            <tr>\n",
       "                                <td id=\"T_1af61974_3349_11ed_8fee_784f437c194arow5_col0\" class=\"data row5 col0\" >shape_Flatness</td>\n",
       "                        <td id=\"T_1af61974_3349_11ed_8fee_784f437c194arow5_col1\" class=\"data row5 col1\" >0.578302</td>\n",
       "            </tr>\n",
       "            <tr>\n",
       "                                <td id=\"T_1af61974_3349_11ed_8fee_784f437c194arow6_col0\" class=\"data row6 col0\" >shape_Elongation</td>\n",
       "                        <td id=\"T_1af61974_3349_11ed_8fee_784f437c194arow6_col1\" class=\"data row6 col1\" >-0.498440</td>\n",
       "            </tr>\n",
       "            <tr>\n",
       "                                <td id=\"T_1af61974_3349_11ed_8fee_784f437c194arow7_col0\" class=\"data row7 col0\" >shape_Sphericity</td>\n",
       "                        <td id=\"T_1af61974_3349_11ed_8fee_784f437c194arow7_col1\" class=\"data row7 col1\" >-0.266453</td>\n",
       "            </tr>\n",
       "            <tr>\n",
       "                                <td id=\"T_1af61974_3349_11ed_8fee_784f437c194arow8_col0\" class=\"data row8 col0\" >firstorder_Skewness</td>\n",
       "                        <td id=\"T_1af61974_3349_11ed_8fee_784f437c194arow8_col1\" class=\"data row8 col1\" >0.185464</td>\n",
       "            </tr>\n",
       "            <tr>\n",
       "                                <td id=\"T_1af61974_3349_11ed_8fee_784f437c194arow9_col0\" class=\"data row9 col0\" >firstorder_RootMeanSquared</td>\n",
       "                        <td id=\"T_1af61974_3349_11ed_8fee_784f437c194arow9_col1\" class=\"data row9 col1\" >-0.145737</td>\n",
       "            </tr>\n",
       "    </tbody></table>"
      ],
      "text/plain": [
       "<pandas.io.formats.style.Styler at 0x7fa13bb0b400>"
      ]
     },
     "metadata": {},
     "output_type": "display_data"
    },
    {
     "name": "stdout",
     "output_type": "stream",
     "text": [
      "\n",
      "\n",
      "shape|firstorder|histogram\n"
     ]
    },
    {
     "data": {
      "text/html": [
       "<style  type=\"text/css\" >\n",
       "</style><table id=\"T_1af7564a_3349_11ed_826c_784f437c194a\" ><thead>    <tr>        <th class=\"col_heading level0 col0\" >Feature</th>        <th class=\"col_heading level0 col1\" >Coef</th>    </tr></thead><tbody>\n",
       "                <tr>\n",
       "                                <td id=\"T_1af7564a_3349_11ed_826c_784f437c194arow0_col0\" class=\"data row0 col0\" >firstorder_90Percentile</td>\n",
       "                        <td id=\"T_1af7564a_3349_11ed_826c_784f437c194arow0_col1\" class=\"data row0 col1\" >-1.229757</td>\n",
       "            </tr>\n",
       "            <tr>\n",
       "                                <td id=\"T_1af7564a_3349_11ed_826c_784f437c194arow1_col0\" class=\"data row1 col0\" >firstorder_InterquartileRange</td>\n",
       "                        <td id=\"T_1af7564a_3349_11ed_826c_784f437c194arow1_col1\" class=\"data row1 col1\" >0.855675</td>\n",
       "            </tr>\n",
       "            <tr>\n",
       "                                <td id=\"T_1af7564a_3349_11ed_826c_784f437c194arow2_col0\" class=\"data row2 col0\" >firstorder_Maximum</td>\n",
       "                        <td id=\"T_1af7564a_3349_11ed_826c_784f437c194arow2_col1\" class=\"data row2 col1\" >0.596730</td>\n",
       "            </tr>\n",
       "            <tr>\n",
       "                                <td id=\"T_1af7564a_3349_11ed_826c_784f437c194arow3_col0\" class=\"data row3 col0\" >shape_MeshVolume</td>\n",
       "                        <td id=\"T_1af7564a_3349_11ed_826c_784f437c194arow3_col1\" class=\"data row3 col1\" >0.367485</td>\n",
       "            </tr>\n",
       "            <tr>\n",
       "                                <td id=\"T_1af7564a_3349_11ed_826c_784f437c194arow4_col0\" class=\"data row4 col0\" >shape_Sphericity</td>\n",
       "                        <td id=\"T_1af7564a_3349_11ed_826c_784f437c194arow4_col1\" class=\"data row4 col1\" >-0.335223</td>\n",
       "            </tr>\n",
       "            <tr>\n",
       "                                <td id=\"T_1af7564a_3349_11ed_826c_784f437c194arow5_col0\" class=\"data row5 col0\" >firstorder_Kurtosis</td>\n",
       "                        <td id=\"T_1af7564a_3349_11ed_826c_784f437c194arow5_col1\" class=\"data row5 col1\" >-0.255218</td>\n",
       "            </tr>\n",
       "            <tr>\n",
       "                                <td id=\"T_1af7564a_3349_11ed_826c_784f437c194arow6_col0\" class=\"data row6 col0\" >firstorder_RootMeanSquared</td>\n",
       "                        <td id=\"T_1af7564a_3349_11ed_826c_784f437c194arow6_col1\" class=\"data row6 col1\" >-0.222289</td>\n",
       "            </tr>\n",
       "            <tr>\n",
       "                                <td id=\"T_1af7564a_3349_11ed_826c_784f437c194arow7_col0\" class=\"data row7 col0\" >shape_Elongation</td>\n",
       "                        <td id=\"T_1af7564a_3349_11ed_826c_784f437c194arow7_col1\" class=\"data row7 col1\" >-0.074706</td>\n",
       "            </tr>\n",
       "    </tbody></table>"
      ],
      "text/plain": [
       "<pandas.io.formats.style.Styler at 0x7fa13bb0bef0>"
      ]
     },
     "metadata": {},
     "output_type": "display_data"
    },
    {
     "name": "stdout",
     "output_type": "stream",
     "text": [
      "\n",
      "\n",
      "\n"
     ]
    },
    {
     "data": {
      "text/html": [
       "<style  type=\"text/css\" >\n",
       "</style><table id=\"T_1af85ebe_3349_11ed_b131_784f437c194a\" ><thead>    <tr>        <th class=\"col_heading level0 col0\" >Feature</th>        <th class=\"col_heading level0 col1\" >Coef</th>    </tr></thead><tbody>\n",
       "                <tr>\n",
       "                                <td id=\"T_1af85ebe_3349_11ed_b131_784f437c194arow0_col0\" class=\"data row0 col0\" >firstorder_90Percentile</td>\n",
       "                        <td id=\"T_1af85ebe_3349_11ed_b131_784f437c194arow0_col1\" class=\"data row0 col1\" >-1.141083</td>\n",
       "            </tr>\n",
       "            <tr>\n",
       "                                <td id=\"T_1af85ebe_3349_11ed_b131_784f437c194arow1_col0\" class=\"data row1 col0\" >glszm_ZoneEntropy</td>\n",
       "                        <td id=\"T_1af85ebe_3349_11ed_b131_784f437c194arow1_col1\" class=\"data row1 col1\" >0.904854</td>\n",
       "            </tr>\n",
       "            <tr>\n",
       "                                <td id=\"T_1af85ebe_3349_11ed_b131_784f437c194arow2_col0\" class=\"data row2 col0\" >glszm_SmallAreaEmphasis</td>\n",
       "                        <td id=\"T_1af85ebe_3349_11ed_b131_784f437c194arow2_col1\" class=\"data row2 col1\" >0.549021</td>\n",
       "            </tr>\n",
       "            <tr>\n",
       "                                <td id=\"T_1af85ebe_3349_11ed_b131_784f437c194arow3_col0\" class=\"data row3 col0\" >shape_MeshVolume</td>\n",
       "                        <td id=\"T_1af85ebe_3349_11ed_b131_784f437c194arow3_col1\" class=\"data row3 col1\" >0.475896</td>\n",
       "            </tr>\n",
       "            <tr>\n",
       "                                <td id=\"T_1af85ebe_3349_11ed_b131_784f437c194arow4_col0\" class=\"data row4 col0\" >shape_Sphericity</td>\n",
       "                        <td id=\"T_1af85ebe_3349_11ed_b131_784f437c194arow4_col1\" class=\"data row4 col1\" >-0.417827</td>\n",
       "            </tr>\n",
       "            <tr>\n",
       "                                <td id=\"T_1af85ebe_3349_11ed_b131_784f437c194arow5_col0\" class=\"data row5 col0\" >firstorder_RootMeanSquared</td>\n",
       "                        <td id=\"T_1af85ebe_3349_11ed_b131_784f437c194arow5_col1\" class=\"data row5 col1\" >-0.356675</td>\n",
       "            </tr>\n",
       "            <tr>\n",
       "                                <td id=\"T_1af85ebe_3349_11ed_b131_784f437c194arow6_col0\" class=\"data row6 col0\" >shape_Elongation</td>\n",
       "                        <td id=\"T_1af85ebe_3349_11ed_b131_784f437c194arow6_col1\" class=\"data row6 col1\" >-0.222487</td>\n",
       "            </tr>\n",
       "            <tr>\n",
       "                                <td id=\"T_1af85ebe_3349_11ed_b131_784f437c194arow7_col0\" class=\"data row7 col0\" >firstorder_Maximum</td>\n",
       "                        <td id=\"T_1af85ebe_3349_11ed_b131_784f437c194arow7_col1\" class=\"data row7 col1\" >0.065875</td>\n",
       "            </tr>\n",
       "    </tbody></table>"
      ],
      "text/plain": [
       "<pandas.io.formats.style.Styler at 0x7fa13f36f278>"
      ]
     },
     "metadata": {},
     "output_type": "display_data"
    },
    {
     "name": "stdout",
     "output_type": "stream",
     "text": [
      "\n",
      "\n",
      "shape|glcm|gldm|glszm|glrlm|ngtdm\n"
     ]
    },
    {
     "data": {
      "text/html": [
       "<style  type=\"text/css\" >\n",
       "</style><table id=\"T_1af9bf18_3349_11ed_a155_784f437c194a\" ><thead>    <tr>        <th class=\"col_heading level0 col0\" >Feature</th>        <th class=\"col_heading level0 col1\" >Coef</th>    </tr></thead><tbody>\n",
       "                <tr>\n",
       "                                <td id=\"T_1af9bf18_3349_11ed_a155_784f437c194arow0_col0\" class=\"data row0 col0\" >shape_MeshVolume</td>\n",
       "                        <td id=\"T_1af9bf18_3349_11ed_a155_784f437c194arow0_col1\" class=\"data row0 col1\" >1.290301</td>\n",
       "            </tr>\n",
       "            <tr>\n",
       "                                <td id=\"T_1af9bf18_3349_11ed_a155_784f437c194arow1_col0\" class=\"data row1 col0\" >glszm_ZoneEntropy</td>\n",
       "                        <td id=\"T_1af9bf18_3349_11ed_a155_784f437c194arow1_col1\" class=\"data row1 col1\" >0.994457</td>\n",
       "            </tr>\n",
       "            <tr>\n",
       "                                <td id=\"T_1af9bf18_3349_11ed_a155_784f437c194arow2_col0\" class=\"data row2 col0\" >shape_Sphericity</td>\n",
       "                        <td id=\"T_1af9bf18_3349_11ed_a155_784f437c194arow2_col1\" class=\"data row2 col1\" >-0.748936</td>\n",
       "            </tr>\n",
       "            <tr>\n",
       "                                <td id=\"T_1af9bf18_3349_11ed_a155_784f437c194arow3_col0\" class=\"data row3 col0\" >glszm_SizeZoneNonUniformityNormalized</td>\n",
       "                        <td id=\"T_1af9bf18_3349_11ed_a155_784f437c194arow3_col1\" class=\"data row3 col1\" >0.702456</td>\n",
       "            </tr>\n",
       "            <tr>\n",
       "                                <td id=\"T_1af9bf18_3349_11ed_a155_784f437c194arow4_col0\" class=\"data row4 col0\" >shape_Elongation</td>\n",
       "                        <td id=\"T_1af9bf18_3349_11ed_a155_784f437c194arow4_col1\" class=\"data row4 col1\" >-0.365885</td>\n",
       "            </tr>\n",
       "            <tr>\n",
       "                                <td id=\"T_1af9bf18_3349_11ed_a155_784f437c194arow5_col0\" class=\"data row5 col0\" >glszm_LargeAreaLowGrayLevelEmphasis</td>\n",
       "                        <td id=\"T_1af9bf18_3349_11ed_a155_784f437c194arow5_col1\" class=\"data row5 col1\" >0.257670</td>\n",
       "            </tr>\n",
       "            <tr>\n",
       "                                <td id=\"T_1af9bf18_3349_11ed_a155_784f437c194arow6_col0\" class=\"data row6 col0\" >ngtdm_Strength</td>\n",
       "                        <td id=\"T_1af9bf18_3349_11ed_a155_784f437c194arow6_col1\" class=\"data row6 col1\" >-0.181589</td>\n",
       "            </tr>\n",
       "            <tr>\n",
       "                                <td id=\"T_1af9bf18_3349_11ed_a155_784f437c194arow7_col0\" class=\"data row7 col0\" >gldm_DependenceNonUniformityNormalized</td>\n",
       "                        <td id=\"T_1af9bf18_3349_11ed_a155_784f437c194arow7_col1\" class=\"data row7 col1\" >-0.132410</td>\n",
       "            </tr>\n",
       "    </tbody></table>"
      ],
      "text/plain": [
       "<pandas.io.formats.style.Styler at 0x7fa144692cc0>"
      ]
     },
     "metadata": {},
     "output_type": "display_data"
    },
    {
     "name": "stdout",
     "output_type": "stream",
     "text": [
      "\n",
      "\n",
      "shape|firstorder|histogram\n"
     ]
    },
    {
     "data": {
      "text/html": [
       "<style  type=\"text/css\" >\n",
       "</style><table id=\"T_1afac758_3349_11ed_b2ea_784f437c194a\" ><thead>    <tr>        <th class=\"col_heading level0 col0\" >Feature</th>        <th class=\"col_heading level0 col1\" >Coef</th>    </tr></thead><tbody>\n",
       "                <tr>\n",
       "                                <td id=\"T_1afac758_3349_11ed_b2ea_784f437c194arow0_col0\" class=\"data row0 col0\" >firstorder_90Percentile</td>\n",
       "                        <td id=\"T_1afac758_3349_11ed_b2ea_784f437c194arow0_col1\" class=\"data row0 col1\" >-1.624917</td>\n",
       "            </tr>\n",
       "            <tr>\n",
       "                                <td id=\"T_1afac758_3349_11ed_b2ea_784f437c194arow1_col0\" class=\"data row1 col0\" >firstorder_InterquartileRange</td>\n",
       "                        <td id=\"T_1afac758_3349_11ed_b2ea_784f437c194arow1_col1\" class=\"data row1 col1\" >0.991186</td>\n",
       "            </tr>\n",
       "            <tr>\n",
       "                                <td id=\"T_1afac758_3349_11ed_b2ea_784f437c194arow2_col0\" class=\"data row2 col0\" >firstorder_Maximum</td>\n",
       "                        <td id=\"T_1afac758_3349_11ed_b2ea_784f437c194arow2_col1\" class=\"data row2 col1\" >0.673994</td>\n",
       "            </tr>\n",
       "            <tr>\n",
       "                                <td id=\"T_1afac758_3349_11ed_b2ea_784f437c194arow3_col0\" class=\"data row3 col0\" >shape_MeshVolume</td>\n",
       "                        <td id=\"T_1afac758_3349_11ed_b2ea_784f437c194arow3_col1\" class=\"data row3 col1\" >0.566780</td>\n",
       "            </tr>\n",
       "            <tr>\n",
       "                                <td id=\"T_1afac758_3349_11ed_b2ea_784f437c194arow4_col0\" class=\"data row4 col0\" >firstorder_Kurtosis</td>\n",
       "                        <td id=\"T_1afac758_3349_11ed_b2ea_784f437c194arow4_col1\" class=\"data row4 col1\" >-0.309920</td>\n",
       "            </tr>\n",
       "            <tr>\n",
       "                                <td id=\"T_1afac758_3349_11ed_b2ea_784f437c194arow5_col0\" class=\"data row5 col0\" >firstorder_RootMeanSquared</td>\n",
       "                        <td id=\"T_1afac758_3349_11ed_b2ea_784f437c194arow5_col1\" class=\"data row5 col1\" >-0.243010</td>\n",
       "            </tr>\n",
       "            <tr>\n",
       "                                <td id=\"T_1afac758_3349_11ed_b2ea_784f437c194arow6_col0\" class=\"data row6 col0\" >shape_Elongation</td>\n",
       "                        <td id=\"T_1afac758_3349_11ed_b2ea_784f437c194arow6_col1\" class=\"data row6 col1\" >-0.200684</td>\n",
       "            </tr>\n",
       "            <tr>\n",
       "                                <td id=\"T_1afac758_3349_11ed_b2ea_784f437c194arow7_col0\" class=\"data row7 col0\" >shape_Sphericity</td>\n",
       "                        <td id=\"T_1afac758_3349_11ed_b2ea_784f437c194arow7_col1\" class=\"data row7 col1\" >-0.093249</td>\n",
       "            </tr>\n",
       "    </tbody></table>"
      ],
      "text/plain": [
       "<pandas.io.formats.style.Styler at 0x7fa13f2e7898>"
      ]
     },
     "metadata": {},
     "output_type": "display_data"
    },
    {
     "name": "stdout",
     "output_type": "stream",
     "text": [
      "\n",
      "\n",
      "firstorder|histogram\n"
     ]
    },
    {
     "data": {
      "text/html": [
       "<style  type=\"text/css\" >\n",
       "</style><table id=\"T_1afc35de_3349_11ed_9e57_784f437c194a\" ><thead>    <tr>        <th class=\"col_heading level0 col0\" >Feature</th>        <th class=\"col_heading level0 col1\" >Coef</th>    </tr></thead><tbody>\n",
       "                <tr>\n",
       "                                <td id=\"T_1afc35de_3349_11ed_9e57_784f437c194arow0_col0\" class=\"data row0 col0\" >firstorder_90Percentile</td>\n",
       "                        <td id=\"T_1afc35de_3349_11ed_9e57_784f437c194arow0_col1\" class=\"data row0 col1\" >-1.862994</td>\n",
       "            </tr>\n",
       "            <tr>\n",
       "                                <td id=\"T_1afc35de_3349_11ed_9e57_784f437c194arow1_col0\" class=\"data row1 col0\" >firstorder_Uniformity</td>\n",
       "                        <td id=\"T_1afc35de_3349_11ed_9e57_784f437c194arow1_col1\" class=\"data row1 col1\" >-0.915590</td>\n",
       "            </tr>\n",
       "            <tr>\n",
       "                                <td id=\"T_1afc35de_3349_11ed_9e57_784f437c194arow2_col0\" class=\"data row2 col0\" >firstorder_Maximum</td>\n",
       "                        <td id=\"T_1afc35de_3349_11ed_9e57_784f437c194arow2_col1\" class=\"data row2 col1\" >0.896107</td>\n",
       "            </tr>\n",
       "            <tr>\n",
       "                                <td id=\"T_1afc35de_3349_11ed_9e57_784f437c194arow3_col0\" class=\"data row3 col0\" >firstorder_RootMeanSquared</td>\n",
       "                        <td id=\"T_1afc35de_3349_11ed_9e57_784f437c194arow3_col1\" class=\"data row3 col1\" >-0.404524</td>\n",
       "            </tr>\n",
       "            <tr>\n",
       "                                <td id=\"T_1afc35de_3349_11ed_9e57_784f437c194arow4_col0\" class=\"data row4 col0\" >firstorder_Skewness</td>\n",
       "                        <td id=\"T_1afc35de_3349_11ed_9e57_784f437c194arow4_col1\" class=\"data row4 col1\" >0.336108</td>\n",
       "            </tr>\n",
       "            <tr>\n",
       "                                <td id=\"T_1afc35de_3349_11ed_9e57_784f437c194arow5_col0\" class=\"data row5 col0\" >firstorder_Minimum</td>\n",
       "                        <td id=\"T_1afc35de_3349_11ed_9e57_784f437c194arow5_col1\" class=\"data row5 col1\" >-0.047634</td>\n",
       "            </tr>\n",
       "    </tbody></table>"
      ],
      "text/plain": [
       "<pandas.io.formats.style.Styler at 0x7fa13f2e79b0>"
      ]
     },
     "metadata": {},
     "output_type": "display_data"
    },
    {
     "name": "stdout",
     "output_type": "stream",
     "text": [
      "\n",
      "\n",
      "shape|glcm|gldm|glszm|glrlm|ngtdm\n"
     ]
    },
    {
     "data": {
      "text/html": [
       "<style  type=\"text/css\" >\n",
       "</style><table id=\"T_1afd5bd0_3349_11ed_ab18_784f437c194a\" ><thead>    <tr>        <th class=\"col_heading level0 col0\" >Feature</th>        <th class=\"col_heading level0 col1\" >Coef</th>    </tr></thead><tbody>\n",
       "                <tr>\n",
       "                                <td id=\"T_1afd5bd0_3349_11ed_ab18_784f437c194arow0_col0\" class=\"data row0 col0\" >shape_MeshVolume</td>\n",
       "                        <td id=\"T_1afd5bd0_3349_11ed_ab18_784f437c194arow0_col1\" class=\"data row0 col1\" >2.496178</td>\n",
       "            </tr>\n",
       "            <tr>\n",
       "                                <td id=\"T_1afd5bd0_3349_11ed_ab18_784f437c194arow1_col0\" class=\"data row1 col0\" >shape_Sphericity</td>\n",
       "                        <td id=\"T_1afd5bd0_3349_11ed_ab18_784f437c194arow1_col1\" class=\"data row1 col1\" >-1.158545</td>\n",
       "            </tr>\n",
       "            <tr>\n",
       "                                <td id=\"T_1afd5bd0_3349_11ed_ab18_784f437c194arow2_col0\" class=\"data row2 col0\" >glszm_SizeZoneNonUniformityNormalized</td>\n",
       "                        <td id=\"T_1afd5bd0_3349_11ed_ab18_784f437c194arow2_col1\" class=\"data row2 col1\" >0.413417</td>\n",
       "            </tr>\n",
       "            <tr>\n",
       "                                <td id=\"T_1afd5bd0_3349_11ed_ab18_784f437c194arow3_col0\" class=\"data row3 col0\" >gldm_DependenceNonUniformityNormalized</td>\n",
       "                        <td id=\"T_1afd5bd0_3349_11ed_ab18_784f437c194arow3_col1\" class=\"data row3 col1\" >-0.370975</td>\n",
       "            </tr>\n",
       "            <tr>\n",
       "                                <td id=\"T_1afd5bd0_3349_11ed_ab18_784f437c194arow4_col0\" class=\"data row4 col0\" >ngtdm_Contrast</td>\n",
       "                        <td id=\"T_1afd5bd0_3349_11ed_ab18_784f437c194arow4_col1\" class=\"data row4 col1\" >0.289885</td>\n",
       "            </tr>\n",
       "            <tr>\n",
       "                                <td id=\"T_1afd5bd0_3349_11ed_ab18_784f437c194arow5_col0\" class=\"data row5 col0\" >glszm_LargeAreaLowGrayLevelEmphasis</td>\n",
       "                        <td id=\"T_1afd5bd0_3349_11ed_ab18_784f437c194arow5_col1\" class=\"data row5 col1\" >-0.044199</td>\n",
       "            </tr>\n",
       "            <tr>\n",
       "                                <td id=\"T_1afd5bd0_3349_11ed_ab18_784f437c194arow6_col0\" class=\"data row6 col0\" >shape_Elongation</td>\n",
       "                        <td id=\"T_1afd5bd0_3349_11ed_ab18_784f437c194arow6_col1\" class=\"data row6 col1\" >-0.035371</td>\n",
       "            </tr>\n",
       "            <tr>\n",
       "                                <td id=\"T_1afd5bd0_3349_11ed_ab18_784f437c194arow7_col0\" class=\"data row7 col0\" >ngtdm_Strength</td>\n",
       "                        <td id=\"T_1afd5bd0_3349_11ed_ab18_784f437c194arow7_col1\" class=\"data row7 col1\" >-0.029684</td>\n",
       "            </tr>\n",
       "    </tbody></table>"
      ],
      "text/plain": [
       "<pandas.io.formats.style.Styler at 0x7fa13f2e7208>"
      ]
     },
     "metadata": {},
     "output_type": "display_data"
    },
    {
     "name": "stdout",
     "output_type": "stream",
     "text": [
      "\n",
      "\n",
      "shape|firstorder|histogram\n"
     ]
    },
    {
     "data": {
      "text/html": [
       "<style  type=\"text/css\" >\n",
       "</style><table id=\"T_1afeacc6_3349_11ed_b444_784f437c194a\" ><thead>    <tr>        <th class=\"col_heading level0 col0\" >Feature</th>        <th class=\"col_heading level0 col1\" >Coef</th>    </tr></thead><tbody>\n",
       "                <tr>\n",
       "                                <td id=\"T_1afeacc6_3349_11ed_b444_784f437c194arow0_col0\" class=\"data row0 col0\" >firstorder_90Percentile</td>\n",
       "                        <td id=\"T_1afeacc6_3349_11ed_b444_784f437c194arow0_col1\" class=\"data row0 col1\" >-1.895639</td>\n",
       "            </tr>\n",
       "            <tr>\n",
       "                                <td id=\"T_1afeacc6_3349_11ed_b444_784f437c194arow1_col0\" class=\"data row1 col0\" >firstorder_Maximum</td>\n",
       "                        <td id=\"T_1afeacc6_3349_11ed_b444_784f437c194arow1_col1\" class=\"data row1 col1\" >1.700184</td>\n",
       "            </tr>\n",
       "            <tr>\n",
       "                                <td id=\"T_1afeacc6_3349_11ed_b444_784f437c194arow2_col0\" class=\"data row2 col0\" >firstorder_InterquartileRange</td>\n",
       "                        <td id=\"T_1afeacc6_3349_11ed_b444_784f437c194arow2_col1\" class=\"data row2 col1\" >1.007264</td>\n",
       "            </tr>\n",
       "            <tr>\n",
       "                                <td id=\"T_1afeacc6_3349_11ed_b444_784f437c194arow3_col0\" class=\"data row3 col0\" >firstorder_Kurtosis</td>\n",
       "                        <td id=\"T_1afeacc6_3349_11ed_b444_784f437c194arow3_col1\" class=\"data row3 col1\" >-0.836459</td>\n",
       "            </tr>\n",
       "            <tr>\n",
       "                                <td id=\"T_1afeacc6_3349_11ed_b444_784f437c194arow4_col0\" class=\"data row4 col0\" >shape_Elongation</td>\n",
       "                        <td id=\"T_1afeacc6_3349_11ed_b444_784f437c194arow4_col1\" class=\"data row4 col1\" >-0.567446</td>\n",
       "            </tr>\n",
       "            <tr>\n",
       "                                <td id=\"T_1afeacc6_3349_11ed_b444_784f437c194arow5_col0\" class=\"data row5 col0\" >shape_MeshVolume</td>\n",
       "                        <td id=\"T_1afeacc6_3349_11ed_b444_784f437c194arow5_col1\" class=\"data row5 col1\" >0.539087</td>\n",
       "            </tr>\n",
       "            <tr>\n",
       "                                <td id=\"T_1afeacc6_3349_11ed_b444_784f437c194arow6_col0\" class=\"data row6 col0\" >shape_Flatness</td>\n",
       "                        <td id=\"T_1afeacc6_3349_11ed_b444_784f437c194arow6_col1\" class=\"data row6 col1\" >0.400066</td>\n",
       "            </tr>\n",
       "            <tr>\n",
       "                                <td id=\"T_1afeacc6_3349_11ed_b444_784f437c194arow7_col0\" class=\"data row7 col0\" >firstorder_RootMeanSquared</td>\n",
       "                        <td id=\"T_1afeacc6_3349_11ed_b444_784f437c194arow7_col1\" class=\"data row7 col1\" >-0.334695</td>\n",
       "            </tr>\n",
       "            <tr>\n",
       "                                <td id=\"T_1afeacc6_3349_11ed_b444_784f437c194arow8_col0\" class=\"data row8 col0\" >shape_Sphericity</td>\n",
       "                        <td id=\"T_1afeacc6_3349_11ed_b444_784f437c194arow8_col1\" class=\"data row8 col1\" >-0.243600</td>\n",
       "            </tr>\n",
       "    </tbody></table>"
      ],
      "text/plain": [
       "<pandas.io.formats.style.Styler at 0x7fa13f2cf240>"
      ]
     },
     "metadata": {},
     "output_type": "display_data"
    },
    {
     "name": "stdout",
     "output_type": "stream",
     "text": [
      "\n",
      "\n",
      "shape|firstorder|histogram\n"
     ]
    },
    {
     "data": {
      "text/html": [
       "<style  type=\"text/css\" >\n",
       "</style><table id=\"T_1b000bd2_3349_11ed_80a0_784f437c194a\" ><thead>    <tr>        <th class=\"col_heading level0 col0\" >Feature</th>        <th class=\"col_heading level0 col1\" >Coef</th>    </tr></thead><tbody>\n",
       "                <tr>\n",
       "                                <td id=\"T_1b000bd2_3349_11ed_80a0_784f437c194arow0_col0\" class=\"data row0 col0\" >firstorder_90Percentile</td>\n",
       "                        <td id=\"T_1b000bd2_3349_11ed_80a0_784f437c194arow0_col1\" class=\"data row0 col1\" >-1.549429</td>\n",
       "            </tr>\n",
       "            <tr>\n",
       "                                <td id=\"T_1b000bd2_3349_11ed_80a0_784f437c194arow1_col0\" class=\"data row1 col0\" >firstorder_InterquartileRange</td>\n",
       "                        <td id=\"T_1b000bd2_3349_11ed_80a0_784f437c194arow1_col1\" class=\"data row1 col1\" >0.953006</td>\n",
       "            </tr>\n",
       "            <tr>\n",
       "                                <td id=\"T_1b000bd2_3349_11ed_80a0_784f437c194arow2_col0\" class=\"data row2 col0\" >firstorder_Maximum</td>\n",
       "                        <td id=\"T_1b000bd2_3349_11ed_80a0_784f437c194arow2_col1\" class=\"data row2 col1\" >0.818034</td>\n",
       "            </tr>\n",
       "            <tr>\n",
       "                                <td id=\"T_1b000bd2_3349_11ed_80a0_784f437c194arow3_col0\" class=\"data row3 col0\" >shape_MeshVolume</td>\n",
       "                        <td id=\"T_1b000bd2_3349_11ed_80a0_784f437c194arow3_col1\" class=\"data row3 col1\" >0.600554</td>\n",
       "            </tr>\n",
       "            <tr>\n",
       "                                <td id=\"T_1b000bd2_3349_11ed_80a0_784f437c194arow4_col0\" class=\"data row4 col0\" >shape_Elongation</td>\n",
       "                        <td id=\"T_1b000bd2_3349_11ed_80a0_784f437c194arow4_col1\" class=\"data row4 col1\" >-0.405523</td>\n",
       "            </tr>\n",
       "            <tr>\n",
       "                                <td id=\"T_1b000bd2_3349_11ed_80a0_784f437c194arow5_col0\" class=\"data row5 col0\" >firstorder_Kurtosis</td>\n",
       "                        <td id=\"T_1b000bd2_3349_11ed_80a0_784f437c194arow5_col1\" class=\"data row5 col1\" >-0.375610</td>\n",
       "            </tr>\n",
       "            <tr>\n",
       "                                <td id=\"T_1b000bd2_3349_11ed_80a0_784f437c194arow6_col0\" class=\"data row6 col0\" >shape_Sphericity</td>\n",
       "                        <td id=\"T_1b000bd2_3349_11ed_80a0_784f437c194arow6_col1\" class=\"data row6 col1\" >-0.293044</td>\n",
       "            </tr>\n",
       "            <tr>\n",
       "                                <td id=\"T_1b000bd2_3349_11ed_80a0_784f437c194arow7_col0\" class=\"data row7 col0\" >firstorder_RootMeanSquared</td>\n",
       "                        <td id=\"T_1b000bd2_3349_11ed_80a0_784f437c194arow7_col1\" class=\"data row7 col1\" >-0.239296</td>\n",
       "            </tr>\n",
       "            <tr>\n",
       "                                <td id=\"T_1b000bd2_3349_11ed_80a0_784f437c194arow8_col0\" class=\"data row8 col0\" >shape_Flatness</td>\n",
       "                        <td id=\"T_1b000bd2_3349_11ed_80a0_784f437c194arow8_col1\" class=\"data row8 col1\" >0.227561</td>\n",
       "            </tr>\n",
       "    </tbody></table>"
      ],
      "text/plain": [
       "<pandas.io.formats.style.Styler at 0x7fa144692cc0>"
      ]
     },
     "metadata": {},
     "output_type": "display_data"
    },
    {
     "name": "stdout",
     "output_type": "stream",
     "text": [
      "\n",
      "\n",
      "\n"
     ]
    },
    {
     "data": {
      "text/html": [
       "<style  type=\"text/css\" >\n",
       "</style><table id=\"T_1b015776_3349_11ed_a83a_784f437c194a\" ><thead>    <tr>        <th class=\"col_heading level0 col0\" >Feature</th>        <th class=\"col_heading level0 col1\" >Coef</th>    </tr></thead><tbody>\n",
       "                <tr>\n",
       "                                <td id=\"T_1b015776_3349_11ed_a83a_784f437c194arow0_col0\" class=\"data row0 col0\" >firstorder_90Percentile</td>\n",
       "                        <td id=\"T_1b015776_3349_11ed_a83a_784f437c194arow0_col1\" class=\"data row0 col1\" >-1.940745</td>\n",
       "            </tr>\n",
       "            <tr>\n",
       "                                <td id=\"T_1b015776_3349_11ed_a83a_784f437c194arow1_col0\" class=\"data row1 col0\" >firstorder_Maximum</td>\n",
       "                        <td id=\"T_1b015776_3349_11ed_a83a_784f437c194arow1_col1\" class=\"data row1 col1\" >0.778690</td>\n",
       "            </tr>\n",
       "            <tr>\n",
       "                                <td id=\"T_1b015776_3349_11ed_a83a_784f437c194arow2_col0\" class=\"data row2 col0\" >firstorder_InterquartileRange</td>\n",
       "                        <td id=\"T_1b015776_3349_11ed_a83a_784f437c194arow2_col1\" class=\"data row2 col1\" >0.645859</td>\n",
       "            </tr>\n",
       "            <tr>\n",
       "                                <td id=\"T_1b015776_3349_11ed_a83a_784f437c194arow3_col0\" class=\"data row3 col0\" >glszm_SmallAreaEmphasis</td>\n",
       "                        <td id=\"T_1b015776_3349_11ed_a83a_784f437c194arow3_col1\" class=\"data row3 col1\" >0.505418</td>\n",
       "            </tr>\n",
       "            <tr>\n",
       "                                <td id=\"T_1b015776_3349_11ed_a83a_784f437c194arow4_col0\" class=\"data row4 col0\" >glcm_Imc2</td>\n",
       "                        <td id=\"T_1b015776_3349_11ed_a83a_784f437c194arow4_col1\" class=\"data row4 col1\" >0.492836</td>\n",
       "            </tr>\n",
       "            <tr>\n",
       "                                <td id=\"T_1b015776_3349_11ed_a83a_784f437c194arow5_col0\" class=\"data row5 col0\" >gldm_LowGrayLevelEmphasis</td>\n",
       "                        <td id=\"T_1b015776_3349_11ed_a83a_784f437c194arow5_col1\" class=\"data row5 col1\" >-0.367156</td>\n",
       "            </tr>\n",
       "            <tr>\n",
       "                                <td id=\"T_1b015776_3349_11ed_a83a_784f437c194arow6_col0\" class=\"data row6 col0\" >firstorder_RootMeanSquared</td>\n",
       "                        <td id=\"T_1b015776_3349_11ed_a83a_784f437c194arow6_col1\" class=\"data row6 col1\" >-0.341163</td>\n",
       "            </tr>\n",
       "            <tr>\n",
       "                                <td id=\"T_1b015776_3349_11ed_a83a_784f437c194arow7_col0\" class=\"data row7 col0\" >ngtdm_Strength</td>\n",
       "                        <td id=\"T_1b015776_3349_11ed_a83a_784f437c194arow7_col1\" class=\"data row7 col1\" >-0.317478</td>\n",
       "            </tr>\n",
       "            <tr>\n",
       "                                <td id=\"T_1b015776_3349_11ed_a83a_784f437c194arow8_col0\" class=\"data row8 col0\" >shape_Sphericity</td>\n",
       "                        <td id=\"T_1b015776_3349_11ed_a83a_784f437c194arow8_col1\" class=\"data row8 col1\" >-0.277835</td>\n",
       "            </tr>\n",
       "            <tr>\n",
       "                                <td id=\"T_1b015776_3349_11ed_a83a_784f437c194arow9_col0\" class=\"data row9 col0\" >shape_Elongation</td>\n",
       "                        <td id=\"T_1b015776_3349_11ed_a83a_784f437c194arow9_col1\" class=\"data row9 col1\" >-0.227456</td>\n",
       "            </tr>\n",
       "            <tr>\n",
       "                                <td id=\"T_1b015776_3349_11ed_a83a_784f437c194arow10_col0\" class=\"data row10 col0\" >firstorder_Kurtosis</td>\n",
       "                        <td id=\"T_1b015776_3349_11ed_a83a_784f437c194arow10_col1\" class=\"data row10 col1\" >-0.140050</td>\n",
       "            </tr>\n",
       "            <tr>\n",
       "                                <td id=\"T_1b015776_3349_11ed_a83a_784f437c194arow11_col0\" class=\"data row11 col0\" >shape_MeshVolume</td>\n",
       "                        <td id=\"T_1b015776_3349_11ed_a83a_784f437c194arow11_col1\" class=\"data row11 col1\" >0.087407</td>\n",
       "            </tr>\n",
       "            <tr>\n",
       "                                <td id=\"T_1b015776_3349_11ed_a83a_784f437c194arow12_col0\" class=\"data row12 col0\" >firstorder_Skewness</td>\n",
       "                        <td id=\"T_1b015776_3349_11ed_a83a_784f437c194arow12_col1\" class=\"data row12 col1\" >0.074877</td>\n",
       "            </tr>\n",
       "    </tbody></table>"
      ],
      "text/plain": [
       "<pandas.io.formats.style.Styler at 0x7fa13f2cf0b8>"
      ]
     },
     "metadata": {},
     "output_type": "display_data"
    },
    {
     "name": "stdout",
     "output_type": "stream",
     "text": [
      "\n",
      "\n",
      "shape\n"
     ]
    },
    {
     "data": {
      "text/html": [
       "<style  type=\"text/css\" >\n",
       "</style><table id=\"T_1b02a554_3349_11ed_a0f1_784f437c194a\" ><thead>    <tr>        <th class=\"col_heading level0 col0\" >Feature</th>        <th class=\"col_heading level0 col1\" >Coef</th>    </tr></thead><tbody>\n",
       "                <tr>\n",
       "                                <td id=\"T_1b02a554_3349_11ed_a0f1_784f437c194arow0_col0\" class=\"data row0 col0\" >shape_MeshVolume</td>\n",
       "                        <td id=\"T_1b02a554_3349_11ed_a0f1_784f437c194arow0_col1\" class=\"data row0 col1\" >3.226718</td>\n",
       "            </tr>\n",
       "            <tr>\n",
       "                                <td id=\"T_1b02a554_3349_11ed_a0f1_784f437c194arow1_col0\" class=\"data row1 col0\" >shape_Sphericity</td>\n",
       "                        <td id=\"T_1b02a554_3349_11ed_a0f1_784f437c194arow1_col1\" class=\"data row1 col1\" >-1.076436</td>\n",
       "            </tr>\n",
       "            <tr>\n",
       "                                <td id=\"T_1b02a554_3349_11ed_a0f1_784f437c194arow2_col0\" class=\"data row2 col0\" >shape_Elongation</td>\n",
       "                        <td id=\"T_1b02a554_3349_11ed_a0f1_784f437c194arow2_col1\" class=\"data row2 col1\" >-0.153526</td>\n",
       "            </tr>\n",
       "    </tbody></table>"
      ],
      "text/plain": [
       "<pandas.io.formats.style.Styler at 0x7fa13f2e7080>"
      ]
     },
     "metadata": {},
     "output_type": "display_data"
    },
    {
     "name": "stdout",
     "output_type": "stream",
     "text": [
      "\n",
      "\n",
      "\n"
     ]
    },
    {
     "data": {
      "text/html": [
       "<style  type=\"text/css\" >\n",
       "</style><table id=\"T_1b040afa_3349_11ed_9210_784f437c194a\" ><thead>    <tr>        <th class=\"col_heading level0 col0\" >Feature</th>        <th class=\"col_heading level0 col1\" >Coef</th>    </tr></thead><tbody>\n",
       "                <tr>\n",
       "                                <td id=\"T_1b040afa_3349_11ed_9210_784f437c194arow0_col0\" class=\"data row0 col0\" >firstorder_90Percentile</td>\n",
       "                        <td id=\"T_1b040afa_3349_11ed_9210_784f437c194arow0_col1\" class=\"data row0 col1\" >-1.485455</td>\n",
       "            </tr>\n",
       "            <tr>\n",
       "                                <td id=\"T_1b040afa_3349_11ed_9210_784f437c194arow1_col0\" class=\"data row1 col0\" >glszm_ZoneEntropy</td>\n",
       "                        <td id=\"T_1b040afa_3349_11ed_9210_784f437c194arow1_col1\" class=\"data row1 col1\" >1.292905</td>\n",
       "            </tr>\n",
       "            <tr>\n",
       "                                <td id=\"T_1b040afa_3349_11ed_9210_784f437c194arow2_col0\" class=\"data row2 col0\" >glszm_SmallAreaEmphasis</td>\n",
       "                        <td id=\"T_1b040afa_3349_11ed_9210_784f437c194arow2_col1\" class=\"data row2 col1\" >0.916654</td>\n",
       "            </tr>\n",
       "            <tr>\n",
       "                                <td id=\"T_1b040afa_3349_11ed_9210_784f437c194arow3_col0\" class=\"data row3 col0\" >firstorder_RootMeanSquared</td>\n",
       "                        <td id=\"T_1b040afa_3349_11ed_9210_784f437c194arow3_col1\" class=\"data row3 col1\" >-0.692838</td>\n",
       "            </tr>\n",
       "            <tr>\n",
       "                                <td id=\"T_1b040afa_3349_11ed_9210_784f437c194arow4_col0\" class=\"data row4 col0\" >shape_Sphericity</td>\n",
       "                        <td id=\"T_1b040afa_3349_11ed_9210_784f437c194arow4_col1\" class=\"data row4 col1\" >-0.583483</td>\n",
       "            </tr>\n",
       "            <tr>\n",
       "                                <td id=\"T_1b040afa_3349_11ed_9210_784f437c194arow5_col0\" class=\"data row5 col0\" >ngtdm_Strength</td>\n",
       "                        <td id=\"T_1b040afa_3349_11ed_9210_784f437c194arow5_col1\" class=\"data row5 col1\" >-0.469233</td>\n",
       "            </tr>\n",
       "            <tr>\n",
       "                                <td id=\"T_1b040afa_3349_11ed_9210_784f437c194arow6_col0\" class=\"data row6 col0\" >firstorder_InterquartileRange</td>\n",
       "                        <td id=\"T_1b040afa_3349_11ed_9210_784f437c194arow6_col1\" class=\"data row6 col1\" >0.413329</td>\n",
       "            </tr>\n",
       "            <tr>\n",
       "                                <td id=\"T_1b040afa_3349_11ed_9210_784f437c194arow7_col0\" class=\"data row7 col0\" >shape_Elongation</td>\n",
       "                        <td id=\"T_1b040afa_3349_11ed_9210_784f437c194arow7_col1\" class=\"data row7 col1\" >-0.346863</td>\n",
       "            </tr>\n",
       "            <tr>\n",
       "                                <td id=\"T_1b040afa_3349_11ed_9210_784f437c194arow8_col0\" class=\"data row8 col0\" >shape_MeshVolume</td>\n",
       "                        <td id=\"T_1b040afa_3349_11ed_9210_784f437c194arow8_col1\" class=\"data row8 col1\" >0.307644</td>\n",
       "            </tr>\n",
       "            <tr>\n",
       "                                <td id=\"T_1b040afa_3349_11ed_9210_784f437c194arow9_col0\" class=\"data row9 col0\" >firstorder_Skewness</td>\n",
       "                        <td id=\"T_1b040afa_3349_11ed_9210_784f437c194arow9_col1\" class=\"data row9 col1\" >0.271654</td>\n",
       "            </tr>\n",
       "            <tr>\n",
       "                                <td id=\"T_1b040afa_3349_11ed_9210_784f437c194arow10_col0\" class=\"data row10 col0\" >firstorder_Maximum</td>\n",
       "                        <td id=\"T_1b040afa_3349_11ed_9210_784f437c194arow10_col1\" class=\"data row10 col1\" >0.246445</td>\n",
       "            </tr>\n",
       "            <tr>\n",
       "                                <td id=\"T_1b040afa_3349_11ed_9210_784f437c194arow11_col0\" class=\"data row11 col0\" >gldm_DependenceNonUniformityNormalized</td>\n",
       "                        <td id=\"T_1b040afa_3349_11ed_9210_784f437c194arow11_col1\" class=\"data row11 col1\" >-0.154280</td>\n",
       "            </tr>\n",
       "            <tr>\n",
       "                                <td id=\"T_1b040afa_3349_11ed_9210_784f437c194arow12_col0\" class=\"data row12 col0\" >shape_Flatness</td>\n",
       "                        <td id=\"T_1b040afa_3349_11ed_9210_784f437c194arow12_col1\" class=\"data row12 col1\" >0.101673</td>\n",
       "            </tr>\n",
       "    </tbody></table>"
      ],
      "text/plain": [
       "<pandas.io.formats.style.Styler at 0x7fa13f2cf0f0>"
      ]
     },
     "metadata": {},
     "output_type": "display_data"
    },
    {
     "name": "stdout",
     "output_type": "stream",
     "text": [
      "\n",
      "\n",
      "shape|firstorder|histogram\n"
     ]
    },
    {
     "data": {
      "text/html": [
       "<style  type=\"text/css\" >\n",
       "</style><table id=\"T_1b0520b8_3349_11ed_b281_784f437c194a\" ><thead>    <tr>        <th class=\"col_heading level0 col0\" >Feature</th>        <th class=\"col_heading level0 col1\" >Coef</th>    </tr></thead><tbody>\n",
       "                <tr>\n",
       "                                <td id=\"T_1b0520b8_3349_11ed_b281_784f437c194arow0_col0\" class=\"data row0 col0\" >firstorder_90Percentile</td>\n",
       "                        <td id=\"T_1b0520b8_3349_11ed_b281_784f437c194arow0_col1\" class=\"data row0 col1\" >-1.738002</td>\n",
       "            </tr>\n",
       "            <tr>\n",
       "                                <td id=\"T_1b0520b8_3349_11ed_b281_784f437c194arow1_col0\" class=\"data row1 col0\" >firstorder_InterquartileRange</td>\n",
       "                        <td id=\"T_1b0520b8_3349_11ed_b281_784f437c194arow1_col1\" class=\"data row1 col1\" >1.108799</td>\n",
       "            </tr>\n",
       "            <tr>\n",
       "                                <td id=\"T_1b0520b8_3349_11ed_b281_784f437c194arow2_col0\" class=\"data row2 col0\" >firstorder_Maximum</td>\n",
       "                        <td id=\"T_1b0520b8_3349_11ed_b281_784f437c194arow2_col1\" class=\"data row2 col1\" >1.052725</td>\n",
       "            </tr>\n",
       "            <tr>\n",
       "                                <td id=\"T_1b0520b8_3349_11ed_b281_784f437c194arow3_col0\" class=\"data row3 col0\" >shape_MeshVolume</td>\n",
       "                        <td id=\"T_1b0520b8_3349_11ed_b281_784f437c194arow3_col1\" class=\"data row3 col1\" >0.728661</td>\n",
       "            </tr>\n",
       "            <tr>\n",
       "                                <td id=\"T_1b0520b8_3349_11ed_b281_784f437c194arow4_col0\" class=\"data row4 col0\" >firstorder_Kurtosis</td>\n",
       "                        <td id=\"T_1b0520b8_3349_11ed_b281_784f437c194arow4_col1\" class=\"data row4 col1\" >-0.584846</td>\n",
       "            </tr>\n",
       "            <tr>\n",
       "                                <td id=\"T_1b0520b8_3349_11ed_b281_784f437c194arow5_col0\" class=\"data row5 col0\" >shape_Elongation</td>\n",
       "                        <td id=\"T_1b0520b8_3349_11ed_b281_784f437c194arow5_col1\" class=\"data row5 col1\" >-0.510642</td>\n",
       "            </tr>\n",
       "            <tr>\n",
       "                                <td id=\"T_1b0520b8_3349_11ed_b281_784f437c194arow6_col0\" class=\"data row6 col0\" >shape_Flatness</td>\n",
       "                        <td id=\"T_1b0520b8_3349_11ed_b281_784f437c194arow6_col1\" class=\"data row6 col1\" >0.497485</td>\n",
       "            </tr>\n",
       "            <tr>\n",
       "                                <td id=\"T_1b0520b8_3349_11ed_b281_784f437c194arow7_col0\" class=\"data row7 col0\" >shape_Sphericity</td>\n",
       "                        <td id=\"T_1b0520b8_3349_11ed_b281_784f437c194arow7_col1\" class=\"data row7 col1\" >-0.375242</td>\n",
       "            </tr>\n",
       "            <tr>\n",
       "                                <td id=\"T_1b0520b8_3349_11ed_b281_784f437c194arow8_col0\" class=\"data row8 col0\" >firstorder_RootMeanSquared</td>\n",
       "                        <td id=\"T_1b0520b8_3349_11ed_b281_784f437c194arow8_col1\" class=\"data row8 col1\" >-0.204029</td>\n",
       "            </tr>\n",
       "            <tr>\n",
       "                                <td id=\"T_1b0520b8_3349_11ed_b281_784f437c194arow9_col0\" class=\"data row9 col0\" >firstorder_Skewness</td>\n",
       "                        <td id=\"T_1b0520b8_3349_11ed_b281_784f437c194arow9_col1\" class=\"data row9 col1\" >0.086984</td>\n",
       "            </tr>\n",
       "    </tbody></table>"
      ],
      "text/plain": [
       "<pandas.io.formats.style.Styler at 0x7fa13f2e7da0>"
      ]
     },
     "metadata": {},
     "output_type": "display_data"
    },
    {
     "name": "stdout",
     "output_type": "stream",
     "text": [
      "\n",
      "\n",
      "shape\n"
     ]
    },
    {
     "data": {
      "text/html": [
       "<style  type=\"text/css\" >\n",
       "</style><table id=\"T_1b06745e_3349_11ed_8d02_784f437c194a\" ><thead>    <tr>        <th class=\"col_heading level0 col0\" >Feature</th>        <th class=\"col_heading level0 col1\" >Coef</th>    </tr></thead><tbody>\n",
       "                <tr>\n",
       "                                <td id=\"T_1b06745e_3349_11ed_8d02_784f437c194arow0_col0\" class=\"data row0 col0\" >shape_MeshVolume</td>\n",
       "                        <td id=\"T_1b06745e_3349_11ed_8d02_784f437c194arow0_col1\" class=\"data row0 col1\" >1.876953</td>\n",
       "            </tr>\n",
       "            <tr>\n",
       "                                <td id=\"T_1b06745e_3349_11ed_8d02_784f437c194arow1_col0\" class=\"data row1 col0\" >shape_Sphericity</td>\n",
       "                        <td id=\"T_1b06745e_3349_11ed_8d02_784f437c194arow1_col1\" class=\"data row1 col1\" >-1.104994</td>\n",
       "            </tr>\n",
       "            <tr>\n",
       "                                <td id=\"T_1b06745e_3349_11ed_8d02_784f437c194arow2_col0\" class=\"data row2 col0\" >shape_Elongation</td>\n",
       "                        <td id=\"T_1b06745e_3349_11ed_8d02_784f437c194arow2_col1\" class=\"data row2 col1\" >-0.478276</td>\n",
       "            </tr>\n",
       "            <tr>\n",
       "                                <td id=\"T_1b06745e_3349_11ed_8d02_784f437c194arow3_col0\" class=\"data row3 col0\" >shape_Flatness</td>\n",
       "                        <td id=\"T_1b06745e_3349_11ed_8d02_784f437c194arow3_col1\" class=\"data row3 col1\" >0.243947</td>\n",
       "            </tr>\n",
       "    </tbody></table>"
      ],
      "text/plain": [
       "<pandas.io.formats.style.Styler at 0x7fa13f36fe48>"
      ]
     },
     "metadata": {},
     "output_type": "display_data"
    },
    {
     "name": "stdout",
     "output_type": "stream",
     "text": [
      "\n",
      "\n",
      "firstorder|histogram\n"
     ]
    },
    {
     "data": {
      "text/html": [
       "<style  type=\"text/css\" >\n",
       "</style><table id=\"T_1b07865a_3349_11ed_b450_784f437c194a\" ><thead>    <tr>        <th class=\"col_heading level0 col0\" >Feature</th>        <th class=\"col_heading level0 col1\" >Coef</th>    </tr></thead><tbody>\n",
       "                <tr>\n",
       "                                <td id=\"T_1b07865a_3349_11ed_b450_784f437c194arow0_col0\" class=\"data row0 col0\" >firstorder_90Percentile</td>\n",
       "                        <td id=\"T_1b07865a_3349_11ed_b450_784f437c194arow0_col1\" class=\"data row0 col1\" >-1.878563</td>\n",
       "            </tr>\n",
       "            <tr>\n",
       "                                <td id=\"T_1b07865a_3349_11ed_b450_784f437c194arow1_col0\" class=\"data row1 col0\" >firstorder_Maximum</td>\n",
       "                        <td id=\"T_1b07865a_3349_11ed_b450_784f437c194arow1_col1\" class=\"data row1 col1\" >1.057657</td>\n",
       "            </tr>\n",
       "            <tr>\n",
       "                                <td id=\"T_1b07865a_3349_11ed_b450_784f437c194arow2_col0\" class=\"data row2 col0\" >firstorder_InterquartileRange</td>\n",
       "                        <td id=\"T_1b07865a_3349_11ed_b450_784f437c194arow2_col1\" class=\"data row2 col1\" >1.020419</td>\n",
       "            </tr>\n",
       "            <tr>\n",
       "                                <td id=\"T_1b07865a_3349_11ed_b450_784f437c194arow3_col0\" class=\"data row3 col0\" >firstorder_Kurtosis</td>\n",
       "                        <td id=\"T_1b07865a_3349_11ed_b450_784f437c194arow3_col1\" class=\"data row3 col1\" >-0.486929</td>\n",
       "            </tr>\n",
       "            <tr>\n",
       "                                <td id=\"T_1b07865a_3349_11ed_b450_784f437c194arow4_col0\" class=\"data row4 col0\" >firstorder_RootMeanSquared</td>\n",
       "                        <td id=\"T_1b07865a_3349_11ed_b450_784f437c194arow4_col1\" class=\"data row4 col1\" >-0.336425</td>\n",
       "            </tr>\n",
       "            <tr>\n",
       "                                <td id=\"T_1b07865a_3349_11ed_b450_784f437c194arow5_col0\" class=\"data row5 col0\" >firstorder_Minimum</td>\n",
       "                        <td id=\"T_1b07865a_3349_11ed_b450_784f437c194arow5_col1\" class=\"data row5 col1\" >-0.038038</td>\n",
       "            </tr>\n",
       "    </tbody></table>"
      ],
      "text/plain": [
       "<pandas.io.formats.style.Styler at 0x7fa13f36f7f0>"
      ]
     },
     "metadata": {},
     "output_type": "display_data"
    },
    {
     "name": "stdout",
     "output_type": "stream",
     "text": [
      "\n",
      "\n",
      "shape|firstorder|histogram\n"
     ]
    },
    {
     "data": {
      "text/html": [
       "<style  type=\"text/css\" >\n",
       "</style><table id=\"T_1b08e680_3349_11ed_9c08_784f437c194a\" ><thead>    <tr>        <th class=\"col_heading level0 col0\" >Feature</th>        <th class=\"col_heading level0 col1\" >Coef</th>    </tr></thead><tbody>\n",
       "                <tr>\n",
       "                                <td id=\"T_1b08e680_3349_11ed_9c08_784f437c194arow0_col0\" class=\"data row0 col0\" >firstorder_90Percentile</td>\n",
       "                        <td id=\"T_1b08e680_3349_11ed_9c08_784f437c194arow0_col1\" class=\"data row0 col1\" >-1.241780</td>\n",
       "            </tr>\n",
       "            <tr>\n",
       "                                <td id=\"T_1b08e680_3349_11ed_9c08_784f437c194arow1_col0\" class=\"data row1 col0\" >firstorder_InterquartileRange</td>\n",
       "                        <td id=\"T_1b08e680_3349_11ed_9c08_784f437c194arow1_col1\" class=\"data row1 col1\" >0.739338</td>\n",
       "            </tr>\n",
       "            <tr>\n",
       "                                <td id=\"T_1b08e680_3349_11ed_9c08_784f437c194arow2_col0\" class=\"data row2 col0\" >firstorder_Maximum</td>\n",
       "                        <td id=\"T_1b08e680_3349_11ed_9c08_784f437c194arow2_col1\" class=\"data row2 col1\" >0.470460</td>\n",
       "            </tr>\n",
       "            <tr>\n",
       "                                <td id=\"T_1b08e680_3349_11ed_9c08_784f437c194arow3_col0\" class=\"data row3 col0\" >shape_MeshVolume</td>\n",
       "                        <td id=\"T_1b08e680_3349_11ed_9c08_784f437c194arow3_col1\" class=\"data row3 col1\" >0.396473</td>\n",
       "            </tr>\n",
       "            <tr>\n",
       "                                <td id=\"T_1b08e680_3349_11ed_9c08_784f437c194arow4_col0\" class=\"data row4 col0\" >shape_Sphericity</td>\n",
       "                        <td id=\"T_1b08e680_3349_11ed_9c08_784f437c194arow4_col1\" class=\"data row4 col1\" >-0.190074</td>\n",
       "            </tr>\n",
       "            <tr>\n",
       "                                <td id=\"T_1b08e680_3349_11ed_9c08_784f437c194arow5_col0\" class=\"data row5 col0\" >firstorder_Kurtosis</td>\n",
       "                        <td id=\"T_1b08e680_3349_11ed_9c08_784f437c194arow5_col1\" class=\"data row5 col1\" >-0.173517</td>\n",
       "            </tr>\n",
       "            <tr>\n",
       "                                <td id=\"T_1b08e680_3349_11ed_9c08_784f437c194arow6_col0\" class=\"data row6 col0\" >firstorder_RootMeanSquared</td>\n",
       "                        <td id=\"T_1b08e680_3349_11ed_9c08_784f437c194arow6_col1\" class=\"data row6 col1\" >-0.139665</td>\n",
       "            </tr>\n",
       "            <tr>\n",
       "                                <td id=\"T_1b08e680_3349_11ed_9c08_784f437c194arow7_col0\" class=\"data row7 col0\" >shape_Elongation</td>\n",
       "                        <td id=\"T_1b08e680_3349_11ed_9c08_784f437c194arow7_col1\" class=\"data row7 col1\" >-0.136851</td>\n",
       "            </tr>\n",
       "            <tr>\n",
       "                                <td id=\"T_1b08e680_3349_11ed_9c08_784f437c194arow8_col0\" class=\"data row8 col0\" >firstorder_Minimum</td>\n",
       "                        <td id=\"T_1b08e680_3349_11ed_9c08_784f437c194arow8_col1\" class=\"data row8 col1\" >-0.038268</td>\n",
       "            </tr>\n",
       "    </tbody></table>"
      ],
      "text/plain": [
       "<pandas.io.formats.style.Styler at 0x7fa13f2db2e8>"
      ]
     },
     "metadata": {},
     "output_type": "display_data"
    },
    {
     "name": "stdout",
     "output_type": "stream",
     "text": [
      "\n",
      "\n",
      "shape|glcm|gldm|glszm|glrlm|ngtdm\n"
     ]
    },
    {
     "data": {
      "text/html": [
       "<style  type=\"text/css\" >\n",
       "</style><table id=\"T_1b09e13e_3349_11ed_94ba_784f437c194a\" ><thead>    <tr>        <th class=\"col_heading level0 col0\" >Feature</th>        <th class=\"col_heading level0 col1\" >Coef</th>    </tr></thead><tbody>\n",
       "                <tr>\n",
       "                                <td id=\"T_1b09e13e_3349_11ed_94ba_784f437c194arow0_col0\" class=\"data row0 col0\" >shape_MeshVolume</td>\n",
       "                        <td id=\"T_1b09e13e_3349_11ed_94ba_784f437c194arow0_col1\" class=\"data row0 col1\" >1.485946</td>\n",
       "            </tr>\n",
       "            <tr>\n",
       "                                <td id=\"T_1b09e13e_3349_11ed_94ba_784f437c194arow1_col0\" class=\"data row1 col0\" >shape_Sphericity</td>\n",
       "                        <td id=\"T_1b09e13e_3349_11ed_94ba_784f437c194arow1_col1\" class=\"data row1 col1\" >-1.023436</td>\n",
       "            </tr>\n",
       "            <tr>\n",
       "                                <td id=\"T_1b09e13e_3349_11ed_94ba_784f437c194arow2_col0\" class=\"data row2 col0\" >glszm_SmallAreaEmphasis</td>\n",
       "                        <td id=\"T_1b09e13e_3349_11ed_94ba_784f437c194arow2_col1\" class=\"data row2 col1\" >0.331828</td>\n",
       "            </tr>\n",
       "            <tr>\n",
       "                                <td id=\"T_1b09e13e_3349_11ed_94ba_784f437c194arow3_col0\" class=\"data row3 col0\" >shape_Elongation</td>\n",
       "                        <td id=\"T_1b09e13e_3349_11ed_94ba_784f437c194arow3_col1\" class=\"data row3 col1\" >-0.170305</td>\n",
       "            </tr>\n",
       "            <tr>\n",
       "                                <td id=\"T_1b09e13e_3349_11ed_94ba_784f437c194arow4_col0\" class=\"data row4 col0\" >ngtdm_Contrast</td>\n",
       "                        <td id=\"T_1b09e13e_3349_11ed_94ba_784f437c194arow4_col1\" class=\"data row4 col1\" >0.116038</td>\n",
       "            </tr>\n",
       "            <tr>\n",
       "                                <td id=\"T_1b09e13e_3349_11ed_94ba_784f437c194arow5_col0\" class=\"data row5 col0\" >gldm_DependenceNonUniformityNormalized</td>\n",
       "                        <td id=\"T_1b09e13e_3349_11ed_94ba_784f437c194arow5_col1\" class=\"data row5 col1\" >-0.068767</td>\n",
       "            </tr>\n",
       "            <tr>\n",
       "                                <td id=\"T_1b09e13e_3349_11ed_94ba_784f437c194arow6_col0\" class=\"data row6 col0\" >ngtdm_Strength</td>\n",
       "                        <td id=\"T_1b09e13e_3349_11ed_94ba_784f437c194arow6_col1\" class=\"data row6 col1\" >-0.056086</td>\n",
       "            </tr>\n",
       "    </tbody></table>"
      ],
      "text/plain": [
       "<pandas.io.formats.style.Styler at 0x7fa144692cc0>"
      ]
     },
     "metadata": {},
     "output_type": "display_data"
    },
    {
     "name": "stdout",
     "output_type": "stream",
     "text": [
      "\n",
      "\n",
      "\n"
     ]
    },
    {
     "data": {
      "text/html": [
       "<style  type=\"text/css\" >\n",
       "</style><table id=\"T_1b0b1fb8_3349_11ed_b9aa_784f437c194a\" ><thead>    <tr>        <th class=\"col_heading level0 col0\" >Feature</th>        <th class=\"col_heading level0 col1\" >Coef</th>    </tr></thead><tbody>\n",
       "                <tr>\n",
       "                                <td id=\"T_1b0b1fb8_3349_11ed_b9aa_784f437c194arow0_col0\" class=\"data row0 col0\" >firstorder_90Percentile</td>\n",
       "                        <td id=\"T_1b0b1fb8_3349_11ed_b9aa_784f437c194arow0_col1\" class=\"data row0 col1\" >-1.322917</td>\n",
       "            </tr>\n",
       "            <tr>\n",
       "                                <td id=\"T_1b0b1fb8_3349_11ed_b9aa_784f437c194arow1_col0\" class=\"data row1 col0\" >glszm_ZoneEntropy</td>\n",
       "                        <td id=\"T_1b0b1fb8_3349_11ed_b9aa_784f437c194arow1_col1\" class=\"data row1 col1\" >0.802801</td>\n",
       "            </tr>\n",
       "            <tr>\n",
       "                                <td id=\"T_1b0b1fb8_3349_11ed_b9aa_784f437c194arow2_col0\" class=\"data row2 col0\" >firstorder_Maximum</td>\n",
       "                        <td id=\"T_1b0b1fb8_3349_11ed_b9aa_784f437c194arow2_col1\" class=\"data row2 col1\" >0.438446</td>\n",
       "            </tr>\n",
       "            <tr>\n",
       "                                <td id=\"T_1b0b1fb8_3349_11ed_b9aa_784f437c194arow3_col0\" class=\"data row3 col0\" >firstorder_RootMeanSquared</td>\n",
       "                        <td id=\"T_1b0b1fb8_3349_11ed_b9aa_784f437c194arow3_col1\" class=\"data row3 col1\" >-0.401170</td>\n",
       "            </tr>\n",
       "            <tr>\n",
       "                                <td id=\"T_1b0b1fb8_3349_11ed_b9aa_784f437c194arow4_col0\" class=\"data row4 col0\" >shape_Sphericity</td>\n",
       "                        <td id=\"T_1b0b1fb8_3349_11ed_b9aa_784f437c194arow4_col1\" class=\"data row4 col1\" >-0.385319</td>\n",
       "            </tr>\n",
       "            <tr>\n",
       "                                <td id=\"T_1b0b1fb8_3349_11ed_b9aa_784f437c194arow5_col0\" class=\"data row5 col0\" >glszm_SmallAreaEmphasis</td>\n",
       "                        <td id=\"T_1b0b1fb8_3349_11ed_b9aa_784f437c194arow5_col1\" class=\"data row5 col1\" >0.375272</td>\n",
       "            </tr>\n",
       "            <tr>\n",
       "                                <td id=\"T_1b0b1fb8_3349_11ed_b9aa_784f437c194arow6_col0\" class=\"data row6 col0\" >shape_MeshVolume</td>\n",
       "                        <td id=\"T_1b0b1fb8_3349_11ed_b9aa_784f437c194arow6_col1\" class=\"data row6 col1\" >0.286106</td>\n",
       "            </tr>\n",
       "            <tr>\n",
       "                                <td id=\"T_1b0b1fb8_3349_11ed_b9aa_784f437c194arow7_col0\" class=\"data row7 col0\" >ngtdm_Strength</td>\n",
       "                        <td id=\"T_1b0b1fb8_3349_11ed_b9aa_784f437c194arow7_col1\" class=\"data row7 col1\" >-0.285348</td>\n",
       "            </tr>\n",
       "            <tr>\n",
       "                                <td id=\"T_1b0b1fb8_3349_11ed_b9aa_784f437c194arow8_col0\" class=\"data row8 col0\" >shape_Elongation</td>\n",
       "                        <td id=\"T_1b0b1fb8_3349_11ed_b9aa_784f437c194arow8_col1\" class=\"data row8 col1\" >-0.113616</td>\n",
       "            </tr>\n",
       "    </tbody></table>"
      ],
      "text/plain": [
       "<pandas.io.formats.style.Styler at 0x7fa13bb0bef0>"
      ]
     },
     "metadata": {},
     "output_type": "display_data"
    },
    {
     "name": "stdout",
     "output_type": "stream",
     "text": [
      "\n",
      "\n",
      "shape|firstorder|histogram\n"
     ]
    },
    {
     "data": {
      "text/html": [
       "<style  type=\"text/css\" >\n",
       "</style><table id=\"T_1b0c2822_3349_11ed_b170_784f437c194a\" ><thead>    <tr>        <th class=\"col_heading level0 col0\" >Feature</th>        <th class=\"col_heading level0 col1\" >Coef</th>    </tr></thead><tbody>\n",
       "                <tr>\n",
       "                                <td id=\"T_1b0c2822_3349_11ed_b170_784f437c194arow0_col0\" class=\"data row0 col0\" >firstorder_90Percentile</td>\n",
       "                        <td id=\"T_1b0c2822_3349_11ed_b170_784f437c194arow0_col1\" class=\"data row0 col1\" >-1.557925</td>\n",
       "            </tr>\n",
       "            <tr>\n",
       "                                <td id=\"T_1b0c2822_3349_11ed_b170_784f437c194arow1_col0\" class=\"data row1 col0\" >firstorder_InterquartileRange</td>\n",
       "                        <td id=\"T_1b0c2822_3349_11ed_b170_784f437c194arow1_col1\" class=\"data row1 col1\" >1.206513</td>\n",
       "            </tr>\n",
       "            <tr>\n",
       "                                <td id=\"T_1b0c2822_3349_11ed_b170_784f437c194arow2_col0\" class=\"data row2 col0\" >firstorder_Maximum</td>\n",
       "                        <td id=\"T_1b0c2822_3349_11ed_b170_784f437c194arow2_col1\" class=\"data row2 col1\" >0.858517</td>\n",
       "            </tr>\n",
       "            <tr>\n",
       "                                <td id=\"T_1b0c2822_3349_11ed_b170_784f437c194arow3_col0\" class=\"data row3 col0\" >shape_MeshVolume</td>\n",
       "                        <td id=\"T_1b0c2822_3349_11ed_b170_784f437c194arow3_col1\" class=\"data row3 col1\" >0.547732</td>\n",
       "            </tr>\n",
       "            <tr>\n",
       "                                <td id=\"T_1b0c2822_3349_11ed_b170_784f437c194arow4_col0\" class=\"data row4 col0\" >firstorder_Kurtosis</td>\n",
       "                        <td id=\"T_1b0c2822_3349_11ed_b170_784f437c194arow4_col1\" class=\"data row4 col1\" >-0.445536</td>\n",
       "            </tr>\n",
       "            <tr>\n",
       "                                <td id=\"T_1b0c2822_3349_11ed_b170_784f437c194arow5_col0\" class=\"data row5 col0\" >shape_Elongation</td>\n",
       "                        <td id=\"T_1b0c2822_3349_11ed_b170_784f437c194arow5_col1\" class=\"data row5 col1\" >-0.389605</td>\n",
       "            </tr>\n",
       "            <tr>\n",
       "                                <td id=\"T_1b0c2822_3349_11ed_b170_784f437c194arow6_col0\" class=\"data row6 col0\" >firstorder_RootMeanSquared</td>\n",
       "                        <td id=\"T_1b0c2822_3349_11ed_b170_784f437c194arow6_col1\" class=\"data row6 col1\" >-0.297589</td>\n",
       "            </tr>\n",
       "            <tr>\n",
       "                                <td id=\"T_1b0c2822_3349_11ed_b170_784f437c194arow7_col0\" class=\"data row7 col0\" >shape_Sphericity</td>\n",
       "                        <td id=\"T_1b0c2822_3349_11ed_b170_784f437c194arow7_col1\" class=\"data row7 col1\" >-0.163062</td>\n",
       "            </tr>\n",
       "            <tr>\n",
       "                                <td id=\"T_1b0c2822_3349_11ed_b170_784f437c194arow8_col0\" class=\"data row8 col0\" >shape_Flatness</td>\n",
       "                        <td id=\"T_1b0c2822_3349_11ed_b170_784f437c194arow8_col1\" class=\"data row8 col1\" >0.085175</td>\n",
       "            </tr>\n",
       "            <tr>\n",
       "                                <td id=\"T_1b0c2822_3349_11ed_b170_784f437c194arow9_col0\" class=\"data row9 col0\" >firstorder_Skewness</td>\n",
       "                        <td id=\"T_1b0c2822_3349_11ed_b170_784f437c194arow9_col1\" class=\"data row9 col1\" >0.063036</td>\n",
       "            </tr>\n",
       "    </tbody></table>"
      ],
      "text/plain": [
       "<pandas.io.formats.style.Styler at 0x7fa13f36f278>"
      ]
     },
     "metadata": {},
     "output_type": "display_data"
    },
    {
     "name": "stdout",
     "output_type": "stream",
     "text": [
      "\n",
      "\n",
      "firstorder|histogram\n"
     ]
    },
    {
     "data": {
      "text/html": [
       "<style  type=\"text/css\" >\n",
       "</style><table id=\"T_1b0d5882_3349_11ed_874a_784f437c194a\" ><thead>    <tr>        <th class=\"col_heading level0 col0\" >Feature</th>        <th class=\"col_heading level0 col1\" >Coef</th>    </tr></thead><tbody>\n",
       "                <tr>\n",
       "                                <td id=\"T_1b0d5882_3349_11ed_874a_784f437c194arow0_col0\" class=\"data row0 col0\" >firstorder_90Percentile</td>\n",
       "                        <td id=\"T_1b0d5882_3349_11ed_874a_784f437c194arow0_col1\" class=\"data row0 col1\" >-2.078925</td>\n",
       "            </tr>\n",
       "            <tr>\n",
       "                                <td id=\"T_1b0d5882_3349_11ed_874a_784f437c194arow1_col0\" class=\"data row1 col0\" >firstorder_Maximum</td>\n",
       "                        <td id=\"T_1b0d5882_3349_11ed_874a_784f437c194arow1_col1\" class=\"data row1 col1\" >1.232697</td>\n",
       "            </tr>\n",
       "            <tr>\n",
       "                                <td id=\"T_1b0d5882_3349_11ed_874a_784f437c194arow2_col0\" class=\"data row2 col0\" >firstorder_Uniformity</td>\n",
       "                        <td id=\"T_1b0d5882_3349_11ed_874a_784f437c194arow2_col1\" class=\"data row2 col1\" >-0.753638</td>\n",
       "            </tr>\n",
       "            <tr>\n",
       "                                <td id=\"T_1b0d5882_3349_11ed_874a_784f437c194arow3_col0\" class=\"data row3 col0\" >firstorder_RootMeanSquared</td>\n",
       "                        <td id=\"T_1b0d5882_3349_11ed_874a_784f437c194arow3_col1\" class=\"data row3 col1\" >-0.338228</td>\n",
       "            </tr>\n",
       "            <tr>\n",
       "                                <td id=\"T_1b0d5882_3349_11ed_874a_784f437c194arow4_col0\" class=\"data row4 col0\" >firstorder_Skewness</td>\n",
       "                        <td id=\"T_1b0d5882_3349_11ed_874a_784f437c194arow4_col1\" class=\"data row4 col1\" >0.120346</td>\n",
       "            </tr>\n",
       "            <tr>\n",
       "                                <td id=\"T_1b0d5882_3349_11ed_874a_784f437c194arow5_col0\" class=\"data row5 col0\" >firstorder_Minimum</td>\n",
       "                        <td id=\"T_1b0d5882_3349_11ed_874a_784f437c194arow5_col1\" class=\"data row5 col1\" >-0.026187</td>\n",
       "            </tr>\n",
       "    </tbody></table>"
      ],
      "text/plain": [
       "<pandas.io.formats.style.Styler at 0x7fa13f2e7208>"
      ]
     },
     "metadata": {},
     "output_type": "display_data"
    },
    {
     "name": "stdout",
     "output_type": "stream",
     "text": [
      "\n",
      "\n",
      "\n"
     ]
    },
    {
     "data": {
      "text/html": [
       "<style  type=\"text/css\" >\n",
       "</style><table id=\"T_1b0e9580_3349_11ed_a56d_784f437c194a\" ><thead>    <tr>        <th class=\"col_heading level0 col0\" >Feature</th>        <th class=\"col_heading level0 col1\" >Coef</th>    </tr></thead><tbody>\n",
       "                <tr>\n",
       "                                <td id=\"T_1b0e9580_3349_11ed_a56d_784f437c194arow0_col0\" class=\"data row0 col0\" >firstorder_90Percentile</td>\n",
       "                        <td id=\"T_1b0e9580_3349_11ed_a56d_784f437c194arow0_col1\" class=\"data row0 col1\" >-1.540481</td>\n",
       "            </tr>\n",
       "            <tr>\n",
       "                                <td id=\"T_1b0e9580_3349_11ed_a56d_784f437c194arow1_col0\" class=\"data row1 col0\" >firstorder_Maximum</td>\n",
       "                        <td id=\"T_1b0e9580_3349_11ed_a56d_784f437c194arow1_col1\" class=\"data row1 col1\" >1.408865</td>\n",
       "            </tr>\n",
       "            <tr>\n",
       "                                <td id=\"T_1b0e9580_3349_11ed_a56d_784f437c194arow2_col0\" class=\"data row2 col0\" >firstorder_InterquartileRange</td>\n",
       "                        <td id=\"T_1b0e9580_3349_11ed_a56d_784f437c194arow2_col1\" class=\"data row2 col1\" >1.130938</td>\n",
       "            </tr>\n",
       "            <tr>\n",
       "                                <td id=\"T_1b0e9580_3349_11ed_a56d_784f437c194arow3_col0\" class=\"data row3 col0\" >ngtdm_Strength</td>\n",
       "                        <td id=\"T_1b0e9580_3349_11ed_a56d_784f437c194arow3_col1\" class=\"data row3 col1\" >-0.450655</td>\n",
       "            </tr>\n",
       "            <tr>\n",
       "                                <td id=\"T_1b0e9580_3349_11ed_a56d_784f437c194arow4_col0\" class=\"data row4 col0\" >shape_Sphericity</td>\n",
       "                        <td id=\"T_1b0e9580_3349_11ed_a56d_784f437c194arow4_col1\" class=\"data row4 col1\" >-0.293914</td>\n",
       "            </tr>\n",
       "            <tr>\n",
       "                                <td id=\"T_1b0e9580_3349_11ed_a56d_784f437c194arow5_col0\" class=\"data row5 col0\" >firstorder_RootMeanSquared</td>\n",
       "                        <td id=\"T_1b0e9580_3349_11ed_a56d_784f437c194arow5_col1\" class=\"data row5 col1\" >-0.289119</td>\n",
       "            </tr>\n",
       "            <tr>\n",
       "                                <td id=\"T_1b0e9580_3349_11ed_a56d_784f437c194arow6_col0\" class=\"data row6 col0\" >shape_MeshVolume</td>\n",
       "                        <td id=\"T_1b0e9580_3349_11ed_a56d_784f437c194arow6_col1\" class=\"data row6 col1\" >0.275920</td>\n",
       "            </tr>\n",
       "            <tr>\n",
       "                                <td id=\"T_1b0e9580_3349_11ed_a56d_784f437c194arow7_col0\" class=\"data row7 col0\" >firstorder_Kurtosis</td>\n",
       "                        <td id=\"T_1b0e9580_3349_11ed_a56d_784f437c194arow7_col1\" class=\"data row7 col1\" >-0.252774</td>\n",
       "            </tr>\n",
       "            <tr>\n",
       "                                <td id=\"T_1b0e9580_3349_11ed_a56d_784f437c194arow8_col0\" class=\"data row8 col0\" >shape_Elongation</td>\n",
       "                        <td id=\"T_1b0e9580_3349_11ed_a56d_784f437c194arow8_col1\" class=\"data row8 col1\" >-0.240163</td>\n",
       "            </tr>\n",
       "            <tr>\n",
       "                                <td id=\"T_1b0e9580_3349_11ed_a56d_784f437c194arow9_col0\" class=\"data row9 col0\" >glszm_SizeZoneNonUniformityNormalized</td>\n",
       "                        <td id=\"T_1b0e9580_3349_11ed_a56d_784f437c194arow9_col1\" class=\"data row9 col1\" >0.175118</td>\n",
       "            </tr>\n",
       "            <tr>\n",
       "                                <td id=\"T_1b0e9580_3349_11ed_a56d_784f437c194arow10_col0\" class=\"data row10 col0\" >gldm_DependenceNonUniformityNormalized</td>\n",
       "                        <td id=\"T_1b0e9580_3349_11ed_a56d_784f437c194arow10_col1\" class=\"data row10 col1\" >-0.100977</td>\n",
       "            </tr>\n",
       "    </tbody></table>"
      ],
      "text/plain": [
       "<pandas.io.formats.style.Styler at 0x7fa13f2cf2e8>"
      ]
     },
     "metadata": {},
     "output_type": "display_data"
    },
    {
     "name": "stdout",
     "output_type": "stream",
     "text": [
      "\n",
      "\n",
      "shape|firstorder|histogram\n"
     ]
    },
    {
     "data": {
      "text/html": [
       "<style  type=\"text/css\" >\n",
       "</style><table id=\"T_1b0fac90_3349_11ed_a5f6_784f437c194a\" ><thead>    <tr>        <th class=\"col_heading level0 col0\" >Feature</th>        <th class=\"col_heading level0 col1\" >Coef</th>    </tr></thead><tbody>\n",
       "                <tr>\n",
       "                                <td id=\"T_1b0fac90_3349_11ed_a5f6_784f437c194arow0_col0\" class=\"data row0 col0\" >firstorder_90Percentile</td>\n",
       "                        <td id=\"T_1b0fac90_3349_11ed_a5f6_784f437c194arow0_col1\" class=\"data row0 col1\" >-1.825605</td>\n",
       "            </tr>\n",
       "            <tr>\n",
       "                                <td id=\"T_1b0fac90_3349_11ed_a5f6_784f437c194arow1_col0\" class=\"data row1 col0\" >shape_MeshVolume</td>\n",
       "                        <td id=\"T_1b0fac90_3349_11ed_a5f6_784f437c194arow1_col1\" class=\"data row1 col1\" >0.934142</td>\n",
       "            </tr>\n",
       "            <tr>\n",
       "                                <td id=\"T_1b0fac90_3349_11ed_a5f6_784f437c194arow2_col0\" class=\"data row2 col0\" >firstorder_Uniformity</td>\n",
       "                        <td id=\"T_1b0fac90_3349_11ed_a5f6_784f437c194arow2_col1\" class=\"data row2 col1\" >-0.766583</td>\n",
       "            </tr>\n",
       "            <tr>\n",
       "                                <td id=\"T_1b0fac90_3349_11ed_a5f6_784f437c194arow3_col0\" class=\"data row3 col0\" >firstorder_Maximum</td>\n",
       "                        <td id=\"T_1b0fac90_3349_11ed_a5f6_784f437c194arow3_col1\" class=\"data row3 col1\" >0.693843</td>\n",
       "            </tr>\n",
       "            <tr>\n",
       "                                <td id=\"T_1b0fac90_3349_11ed_a5f6_784f437c194arow4_col0\" class=\"data row4 col0\" >firstorder_Kurtosis</td>\n",
       "                        <td id=\"T_1b0fac90_3349_11ed_a5f6_784f437c194arow4_col1\" class=\"data row4 col1\" >-0.631801</td>\n",
       "            </tr>\n",
       "            <tr>\n",
       "                                <td id=\"T_1b0fac90_3349_11ed_a5f6_784f437c194arow5_col0\" class=\"data row5 col0\" >shape_Elongation</td>\n",
       "                        <td id=\"T_1b0fac90_3349_11ed_a5f6_784f437c194arow5_col1\" class=\"data row5 col1\" >-0.596591</td>\n",
       "            </tr>\n",
       "            <tr>\n",
       "                                <td id=\"T_1b0fac90_3349_11ed_a5f6_784f437c194arow6_col0\" class=\"data row6 col0\" >shape_Flatness</td>\n",
       "                        <td id=\"T_1b0fac90_3349_11ed_a5f6_784f437c194arow6_col1\" class=\"data row6 col1\" >0.418490</td>\n",
       "            </tr>\n",
       "            <tr>\n",
       "                                <td id=\"T_1b0fac90_3349_11ed_a5f6_784f437c194arow7_col0\" class=\"data row7 col0\" >firstorder_Skewness</td>\n",
       "                        <td id=\"T_1b0fac90_3349_11ed_a5f6_784f437c194arow7_col1\" class=\"data row7 col1\" >0.382899</td>\n",
       "            </tr>\n",
       "            <tr>\n",
       "                                <td id=\"T_1b0fac90_3349_11ed_a5f6_784f437c194arow8_col0\" class=\"data row8 col0\" >firstorder_RootMeanSquared</td>\n",
       "                        <td id=\"T_1b0fac90_3349_11ed_a5f6_784f437c194arow8_col1\" class=\"data row8 col1\" >-0.325890</td>\n",
       "            </tr>\n",
       "            <tr>\n",
       "                                <td id=\"T_1b0fac90_3349_11ed_a5f6_784f437c194arow9_col0\" class=\"data row9 col0\" >shape_Sphericity</td>\n",
       "                        <td id=\"T_1b0fac90_3349_11ed_a5f6_784f437c194arow9_col1\" class=\"data row9 col1\" >-0.277303</td>\n",
       "            </tr>\n",
       "    </tbody></table>"
      ],
      "text/plain": [
       "<pandas.io.formats.style.Styler at 0x7fa13f2e7c50>"
      ]
     },
     "metadata": {},
     "output_type": "display_data"
    },
    {
     "name": "stdout",
     "output_type": "stream",
     "text": [
      "\n",
      "\n",
      "shape|firstorder|histogram\n"
     ]
    },
    {
     "data": {
      "text/html": [
       "<style  type=\"text/css\" >\n",
       "</style><table id=\"T_1b111a4c_3349_11ed_b251_784f437c194a\" ><thead>    <tr>        <th class=\"col_heading level0 col0\" >Feature</th>        <th class=\"col_heading level0 col1\" >Coef</th>    </tr></thead><tbody>\n",
       "                <tr>\n",
       "                                <td id=\"T_1b111a4c_3349_11ed_b251_784f437c194arow0_col0\" class=\"data row0 col0\" >firstorder_90Percentile</td>\n",
       "                        <td id=\"T_1b111a4c_3349_11ed_b251_784f437c194arow0_col1\" class=\"data row0 col1\" >-1.270737</td>\n",
       "            </tr>\n",
       "            <tr>\n",
       "                                <td id=\"T_1b111a4c_3349_11ed_b251_784f437c194arow1_col0\" class=\"data row1 col0\" >firstorder_InterquartileRange</td>\n",
       "                        <td id=\"T_1b111a4c_3349_11ed_b251_784f437c194arow1_col1\" class=\"data row1 col1\" >0.701618</td>\n",
       "            </tr>\n",
       "            <tr>\n",
       "                                <td id=\"T_1b111a4c_3349_11ed_b251_784f437c194arow2_col0\" class=\"data row2 col0\" >firstorder_Maximum</td>\n",
       "                        <td id=\"T_1b111a4c_3349_11ed_b251_784f437c194arow2_col1\" class=\"data row2 col1\" >0.461654</td>\n",
       "            </tr>\n",
       "            <tr>\n",
       "                                <td id=\"T_1b111a4c_3349_11ed_b251_784f437c194arow3_col0\" class=\"data row3 col0\" >shape_MeshVolume</td>\n",
       "                        <td id=\"T_1b111a4c_3349_11ed_b251_784f437c194arow3_col1\" class=\"data row3 col1\" >0.418545</td>\n",
       "            </tr>\n",
       "            <tr>\n",
       "                                <td id=\"T_1b111a4c_3349_11ed_b251_784f437c194arow4_col0\" class=\"data row4 col0\" >shape_Elongation</td>\n",
       "                        <td id=\"T_1b111a4c_3349_11ed_b251_784f437c194arow4_col1\" class=\"data row4 col1\" >-0.199669</td>\n",
       "            </tr>\n",
       "            <tr>\n",
       "                                <td id=\"T_1b111a4c_3349_11ed_b251_784f437c194arow5_col0\" class=\"data row5 col0\" >firstorder_RootMeanSquared</td>\n",
       "                        <td id=\"T_1b111a4c_3349_11ed_b251_784f437c194arow5_col1\" class=\"data row5 col1\" >-0.197145</td>\n",
       "            </tr>\n",
       "            <tr>\n",
       "                                <td id=\"T_1b111a4c_3349_11ed_b251_784f437c194arow6_col0\" class=\"data row6 col0\" >shape_Sphericity</td>\n",
       "                        <td id=\"T_1b111a4c_3349_11ed_b251_784f437c194arow6_col1\" class=\"data row6 col1\" >-0.181771</td>\n",
       "            </tr>\n",
       "            <tr>\n",
       "                                <td id=\"T_1b111a4c_3349_11ed_b251_784f437c194arow7_col0\" class=\"data row7 col0\" >firstorder_Kurtosis</td>\n",
       "                        <td id=\"T_1b111a4c_3349_11ed_b251_784f437c194arow7_col1\" class=\"data row7 col1\" >-0.152776</td>\n",
       "            </tr>\n",
       "            <tr>\n",
       "                                <td id=\"T_1b111a4c_3349_11ed_b251_784f437c194arow8_col0\" class=\"data row8 col0\" >firstorder_Minimum</td>\n",
       "                        <td id=\"T_1b111a4c_3349_11ed_b251_784f437c194arow8_col1\" class=\"data row8 col1\" >-0.021905</td>\n",
       "            </tr>\n",
       "    </tbody></table>"
      ],
      "text/plain": [
       "<pandas.io.formats.style.Styler at 0x7fa13f2db6a0>"
      ]
     },
     "metadata": {},
     "output_type": "display_data"
    },
    {
     "name": "stdout",
     "output_type": "stream",
     "text": [
      "\n",
      "\n",
      "shape|firstorder|histogram\n"
     ]
    },
    {
     "data": {
      "text/html": [
       "<style  type=\"text/css\" >\n",
       "</style><table id=\"T_1b123afa_3349_11ed_b8ac_784f437c194a\" ><thead>    <tr>        <th class=\"col_heading level0 col0\" >Feature</th>        <th class=\"col_heading level0 col1\" >Coef</th>    </tr></thead><tbody>\n",
       "                <tr>\n",
       "                                <td id=\"T_1b123afa_3349_11ed_b8ac_784f437c194arow0_col0\" class=\"data row0 col0\" >firstorder_90Percentile</td>\n",
       "                        <td id=\"T_1b123afa_3349_11ed_b8ac_784f437c194arow0_col1\" class=\"data row0 col1\" >-1.634231</td>\n",
       "            </tr>\n",
       "            <tr>\n",
       "                                <td id=\"T_1b123afa_3349_11ed_b8ac_784f437c194arow1_col0\" class=\"data row1 col0\" >firstorder_Maximum</td>\n",
       "                        <td id=\"T_1b123afa_3349_11ed_b8ac_784f437c194arow1_col1\" class=\"data row1 col1\" >1.014414</td>\n",
       "            </tr>\n",
       "            <tr>\n",
       "                                <td id=\"T_1b123afa_3349_11ed_b8ac_784f437c194arow2_col0\" class=\"data row2 col0\" >firstorder_InterquartileRange</td>\n",
       "                        <td id=\"T_1b123afa_3349_11ed_b8ac_784f437c194arow2_col1\" class=\"data row2 col1\" >0.984021</td>\n",
       "            </tr>\n",
       "            <tr>\n",
       "                                <td id=\"T_1b123afa_3349_11ed_b8ac_784f437c194arow3_col0\" class=\"data row3 col0\" >firstorder_Kurtosis</td>\n",
       "                        <td id=\"T_1b123afa_3349_11ed_b8ac_784f437c194arow3_col1\" class=\"data row3 col1\" >-0.458575</td>\n",
       "            </tr>\n",
       "            <tr>\n",
       "                                <td id=\"T_1b123afa_3349_11ed_b8ac_784f437c194arow4_col0\" class=\"data row4 col0\" >shape_MeshVolume</td>\n",
       "                        <td id=\"T_1b123afa_3349_11ed_b8ac_784f437c194arow4_col1\" class=\"data row4 col1\" >0.431838</td>\n",
       "            </tr>\n",
       "            <tr>\n",
       "                                <td id=\"T_1b123afa_3349_11ed_b8ac_784f437c194arow5_col0\" class=\"data row5 col0\" >shape_Elongation</td>\n",
       "                        <td id=\"T_1b123afa_3349_11ed_b8ac_784f437c194arow5_col1\" class=\"data row5 col1\" >-0.262440</td>\n",
       "            </tr>\n",
       "            <tr>\n",
       "                                <td id=\"T_1b123afa_3349_11ed_b8ac_784f437c194arow6_col0\" class=\"data row6 col0\" >firstorder_RootMeanSquared</td>\n",
       "                        <td id=\"T_1b123afa_3349_11ed_b8ac_784f437c194arow6_col1\" class=\"data row6 col1\" >-0.219386</td>\n",
       "            </tr>\n",
       "            <tr>\n",
       "                                <td id=\"T_1b123afa_3349_11ed_b8ac_784f437c194arow7_col0\" class=\"data row7 col0\" >shape_Sphericity</td>\n",
       "                        <td id=\"T_1b123afa_3349_11ed_b8ac_784f437c194arow7_col1\" class=\"data row7 col1\" >-0.205497</td>\n",
       "            </tr>\n",
       "            <tr>\n",
       "                                <td id=\"T_1b123afa_3349_11ed_b8ac_784f437c194arow8_col0\" class=\"data row8 col0\" >shape_Flatness</td>\n",
       "                        <td id=\"T_1b123afa_3349_11ed_b8ac_784f437c194arow8_col1\" class=\"data row8 col1\" >0.129976</td>\n",
       "            </tr>\n",
       "    </tbody></table>"
      ],
      "text/plain": [
       "<pandas.io.formats.style.Styler at 0x7fa144692cc0>"
      ]
     },
     "metadata": {},
     "output_type": "display_data"
    },
    {
     "name": "stdout",
     "output_type": "stream",
     "text": [
      "\n",
      "\n",
      "shape|firstorder|histogram\n"
     ]
    },
    {
     "data": {
      "text/html": [
       "<style  type=\"text/css\" >\n",
       "</style><table id=\"T_1b137438_3349_11ed_9fcc_784f437c194a\" ><thead>    <tr>        <th class=\"col_heading level0 col0\" >Feature</th>        <th class=\"col_heading level0 col1\" >Coef</th>    </tr></thead><tbody>\n",
       "                <tr>\n",
       "                                <td id=\"T_1b137438_3349_11ed_9fcc_784f437c194arow0_col0\" class=\"data row0 col0\" >firstorder_90Percentile</td>\n",
       "                        <td id=\"T_1b137438_3349_11ed_9fcc_784f437c194arow0_col1\" class=\"data row0 col1\" >-2.109719</td>\n",
       "            </tr>\n",
       "            <tr>\n",
       "                                <td id=\"T_1b137438_3349_11ed_9fcc_784f437c194arow1_col0\" class=\"data row1 col0\" >firstorder_Uniformity</td>\n",
       "                        <td id=\"T_1b137438_3349_11ed_9fcc_784f437c194arow1_col1\" class=\"data row1 col1\" >-1.206387</td>\n",
       "            </tr>\n",
       "            <tr>\n",
       "                                <td id=\"T_1b137438_3349_11ed_9fcc_784f437c194arow2_col0\" class=\"data row2 col0\" >shape_MeshVolume</td>\n",
       "                        <td id=\"T_1b137438_3349_11ed_9fcc_784f437c194arow2_col1\" class=\"data row2 col1\" >0.968282</td>\n",
       "            </tr>\n",
       "            <tr>\n",
       "                                <td id=\"T_1b137438_3349_11ed_9fcc_784f437c194arow3_col0\" class=\"data row3 col0\" >shape_Elongation</td>\n",
       "                        <td id=\"T_1b137438_3349_11ed_9fcc_784f437c194arow3_col1\" class=\"data row3 col1\" >-0.924086</td>\n",
       "            </tr>\n",
       "            <tr>\n",
       "                                <td id=\"T_1b137438_3349_11ed_9fcc_784f437c194arow4_col0\" class=\"data row4 col0\" >firstorder_Maximum</td>\n",
       "                        <td id=\"T_1b137438_3349_11ed_9fcc_784f437c194arow4_col1\" class=\"data row4 col1\" >0.852757</td>\n",
       "            </tr>\n",
       "            <tr>\n",
       "                                <td id=\"T_1b137438_3349_11ed_9fcc_784f437c194arow5_col0\" class=\"data row5 col0\" >shape_Flatness</td>\n",
       "                        <td id=\"T_1b137438_3349_11ed_9fcc_784f437c194arow5_col1\" class=\"data row5 col1\" >0.750088</td>\n",
       "            </tr>\n",
       "            <tr>\n",
       "                                <td id=\"T_1b137438_3349_11ed_9fcc_784f437c194arow6_col0\" class=\"data row6 col0\" >shape_Sphericity</td>\n",
       "                        <td id=\"T_1b137438_3349_11ed_9fcc_784f437c194arow6_col1\" class=\"data row6 col1\" >-0.423101</td>\n",
       "            </tr>\n",
       "            <tr>\n",
       "                                <td id=\"T_1b137438_3349_11ed_9fcc_784f437c194arow7_col0\" class=\"data row7 col0\" >firstorder_RootMeanSquared</td>\n",
       "                        <td id=\"T_1b137438_3349_11ed_9fcc_784f437c194arow7_col1\" class=\"data row7 col1\" >-0.266018</td>\n",
       "            </tr>\n",
       "            <tr>\n",
       "                                <td id=\"T_1b137438_3349_11ed_9fcc_784f437c194arow8_col0\" class=\"data row8 col0\" >firstorder_Skewness</td>\n",
       "                        <td id=\"T_1b137438_3349_11ed_9fcc_784f437c194arow8_col1\" class=\"data row8 col1\" >0.217127</td>\n",
       "            </tr>\n",
       "    </tbody></table>"
      ],
      "text/plain": [
       "<pandas.io.formats.style.Styler at 0x7fa13f2cfdd8>"
      ]
     },
     "metadata": {},
     "output_type": "display_data"
    },
    {
     "name": "stdout",
     "output_type": "stream",
     "text": [
      "\n",
      "\n",
      "\n"
     ]
    },
    {
     "data": {
      "text/html": [
       "<style  type=\"text/css\" >\n",
       "</style><table id=\"T_1b14755e_3349_11ed_90da_784f437c194a\" ><thead>    <tr>        <th class=\"col_heading level0 col0\" >Feature</th>        <th class=\"col_heading level0 col1\" >Coef</th>    </tr></thead><tbody>\n",
       "                <tr>\n",
       "                                <td id=\"T_1b14755e_3349_11ed_90da_784f437c194arow0_col0\" class=\"data row0 col0\" >firstorder_90Percentile</td>\n",
       "                        <td id=\"T_1b14755e_3349_11ed_90da_784f437c194arow0_col1\" class=\"data row0 col1\" >-1.173087</td>\n",
       "            </tr>\n",
       "            <tr>\n",
       "                                <td id=\"T_1b14755e_3349_11ed_90da_784f437c194arow1_col0\" class=\"data row1 col0\" >glszm_ZoneEntropy</td>\n",
       "                        <td id=\"T_1b14755e_3349_11ed_90da_784f437c194arow1_col1\" class=\"data row1 col1\" >0.935688</td>\n",
       "            </tr>\n",
       "            <tr>\n",
       "                                <td id=\"T_1b14755e_3349_11ed_90da_784f437c194arow2_col0\" class=\"data row2 col0\" >glszm_SizeZoneNonUniformityNormalized</td>\n",
       "                        <td id=\"T_1b14755e_3349_11ed_90da_784f437c194arow2_col1\" class=\"data row2 col1\" >0.553950</td>\n",
       "            </tr>\n",
       "            <tr>\n",
       "                                <td id=\"T_1b14755e_3349_11ed_90da_784f437c194arow3_col0\" class=\"data row3 col0\" >shape_MeshVolume</td>\n",
       "                        <td id=\"T_1b14755e_3349_11ed_90da_784f437c194arow3_col1\" class=\"data row3 col1\" >0.342382</td>\n",
       "            </tr>\n",
       "            <tr>\n",
       "                                <td id=\"T_1b14755e_3349_11ed_90da_784f437c194arow4_col0\" class=\"data row4 col0\" >shape_Sphericity</td>\n",
       "                        <td id=\"T_1b14755e_3349_11ed_90da_784f437c194arow4_col1\" class=\"data row4 col1\" >-0.327958</td>\n",
       "            </tr>\n",
       "            <tr>\n",
       "                                <td id=\"T_1b14755e_3349_11ed_90da_784f437c194arow5_col0\" class=\"data row5 col0\" >firstorder_RootMeanSquared</td>\n",
       "                        <td id=\"T_1b14755e_3349_11ed_90da_784f437c194arow5_col1\" class=\"data row5 col1\" >-0.297777</td>\n",
       "            </tr>\n",
       "            <tr>\n",
       "                                <td id=\"T_1b14755e_3349_11ed_90da_784f437c194arow6_col0\" class=\"data row6 col0\" >firstorder_Maximum</td>\n",
       "                        <td id=\"T_1b14755e_3349_11ed_90da_784f437c194arow6_col1\" class=\"data row6 col1\" >0.220243</td>\n",
       "            </tr>\n",
       "            <tr>\n",
       "                                <td id=\"T_1b14755e_3349_11ed_90da_784f437c194arow7_col0\" class=\"data row7 col0\" >ngtdm_Strength</td>\n",
       "                        <td id=\"T_1b14755e_3349_11ed_90da_784f437c194arow7_col1\" class=\"data row7 col1\" >-0.196558</td>\n",
       "            </tr>\n",
       "            <tr>\n",
       "                                <td id=\"T_1b14755e_3349_11ed_90da_784f437c194arow8_col0\" class=\"data row8 col0\" >firstorder_InterquartileRange</td>\n",
       "                        <td id=\"T_1b14755e_3349_11ed_90da_784f437c194arow8_col1\" class=\"data row8 col1\" >0.165359</td>\n",
       "            </tr>\n",
       "            <tr>\n",
       "                                <td id=\"T_1b14755e_3349_11ed_90da_784f437c194arow9_col0\" class=\"data row9 col0\" >shape_Elongation</td>\n",
       "                        <td id=\"T_1b14755e_3349_11ed_90da_784f437c194arow9_col1\" class=\"data row9 col1\" >-0.091123</td>\n",
       "            </tr>\n",
       "            <tr>\n",
       "                                <td id=\"T_1b14755e_3349_11ed_90da_784f437c194arow10_col0\" class=\"data row10 col0\" >firstorder_Skewness</td>\n",
       "                        <td id=\"T_1b14755e_3349_11ed_90da_784f437c194arow10_col1\" class=\"data row10 col1\" >0.027176</td>\n",
       "            </tr>\n",
       "    </tbody></table>"
      ],
      "text/plain": [
       "<pandas.io.formats.style.Styler at 0x7fa13f36fa20>"
      ]
     },
     "metadata": {},
     "output_type": "display_data"
    },
    {
     "name": "stdout",
     "output_type": "stream",
     "text": [
      "\n",
      "\n",
      "shape|firstorder|histogram\n"
     ]
    },
    {
     "data": {
      "text/html": [
       "<style  type=\"text/css\" >\n",
       "</style><table id=\"T_1b15d5ac_3349_11ed_9ef2_784f437c194a\" ><thead>    <tr>        <th class=\"col_heading level0 col0\" >Feature</th>        <th class=\"col_heading level0 col1\" >Coef</th>    </tr></thead><tbody>\n",
       "                <tr>\n",
       "                                <td id=\"T_1b15d5ac_3349_11ed_9ef2_784f437c194arow0_col0\" class=\"data row0 col0\" >firstorder_90Percentile</td>\n",
       "                        <td id=\"T_1b15d5ac_3349_11ed_9ef2_784f437c194arow0_col1\" class=\"data row0 col1\" >-1.238439</td>\n",
       "            </tr>\n",
       "            <tr>\n",
       "                                <td id=\"T_1b15d5ac_3349_11ed_9ef2_784f437c194arow1_col0\" class=\"data row1 col0\" >firstorder_InterquartileRange</td>\n",
       "                        <td id=\"T_1b15d5ac_3349_11ed_9ef2_784f437c194arow1_col1\" class=\"data row1 col1\" >0.725704</td>\n",
       "            </tr>\n",
       "            <tr>\n",
       "                                <td id=\"T_1b15d5ac_3349_11ed_9ef2_784f437c194arow2_col0\" class=\"data row2 col0\" >shape_MeshVolume</td>\n",
       "                        <td id=\"T_1b15d5ac_3349_11ed_9ef2_784f437c194arow2_col1\" class=\"data row2 col1\" >0.514484</td>\n",
       "            </tr>\n",
       "            <tr>\n",
       "                                <td id=\"T_1b15d5ac_3349_11ed_9ef2_784f437c194arow3_col0\" class=\"data row3 col0\" >firstorder_Maximum</td>\n",
       "                        <td id=\"T_1b15d5ac_3349_11ed_9ef2_784f437c194arow3_col1\" class=\"data row3 col1\" >0.426425</td>\n",
       "            </tr>\n",
       "            <tr>\n",
       "                                <td id=\"T_1b15d5ac_3349_11ed_9ef2_784f437c194arow4_col0\" class=\"data row4 col0\" >shape_Sphericity</td>\n",
       "                        <td id=\"T_1b15d5ac_3349_11ed_9ef2_784f437c194arow4_col1\" class=\"data row4 col1\" >-0.218995</td>\n",
       "            </tr>\n",
       "            <tr>\n",
       "                                <td id=\"T_1b15d5ac_3349_11ed_9ef2_784f437c194arow5_col0\" class=\"data row5 col0\" >firstorder_Kurtosis</td>\n",
       "                        <td id=\"T_1b15d5ac_3349_11ed_9ef2_784f437c194arow5_col1\" class=\"data row5 col1\" >-0.174054</td>\n",
       "            </tr>\n",
       "            <tr>\n",
       "                                <td id=\"T_1b15d5ac_3349_11ed_9ef2_784f437c194arow6_col0\" class=\"data row6 col0\" >firstorder_RootMeanSquared</td>\n",
       "                        <td id=\"T_1b15d5ac_3349_11ed_9ef2_784f437c194arow6_col1\" class=\"data row6 col1\" >-0.077796</td>\n",
       "            </tr>\n",
       "            <tr>\n",
       "                                <td id=\"T_1b15d5ac_3349_11ed_9ef2_784f437c194arow7_col0\" class=\"data row7 col0\" >shape_Elongation</td>\n",
       "                        <td id=\"T_1b15d5ac_3349_11ed_9ef2_784f437c194arow7_col1\" class=\"data row7 col1\" >-0.064146</td>\n",
       "            </tr>\n",
       "    </tbody></table>"
      ],
      "text/plain": [
       "<pandas.io.formats.style.Styler at 0x7fa13f2db898>"
      ]
     },
     "metadata": {},
     "output_type": "display_data"
    },
    {
     "name": "stdout",
     "output_type": "stream",
     "text": [
      "\n",
      "\n",
      "shape|firstorder|histogram\n"
     ]
    },
    {
     "data": {
      "text/html": [
       "<style  type=\"text/css\" >\n",
       "</style><table id=\"T_1b16e492_3349_11ed_b08a_784f437c194a\" ><thead>    <tr>        <th class=\"col_heading level0 col0\" >Feature</th>        <th class=\"col_heading level0 col1\" >Coef</th>    </tr></thead><tbody>\n",
       "                <tr>\n",
       "                                <td id=\"T_1b16e492_3349_11ed_b08a_784f437c194arow0_col0\" class=\"data row0 col0\" >firstorder_90Percentile</td>\n",
       "                        <td id=\"T_1b16e492_3349_11ed_b08a_784f437c194arow0_col1\" class=\"data row0 col1\" >-1.265233</td>\n",
       "            </tr>\n",
       "            <tr>\n",
       "                                <td id=\"T_1b16e492_3349_11ed_b08a_784f437c194arow1_col0\" class=\"data row1 col0\" >firstorder_InterquartileRange</td>\n",
       "                        <td id=\"T_1b16e492_3349_11ed_b08a_784f437c194arow1_col1\" class=\"data row1 col1\" >0.734254</td>\n",
       "            </tr>\n",
       "            <tr>\n",
       "                                <td id=\"T_1b16e492_3349_11ed_b08a_784f437c194arow2_col0\" class=\"data row2 col0\" >firstorder_Maximum</td>\n",
       "                        <td id=\"T_1b16e492_3349_11ed_b08a_784f437c194arow2_col1\" class=\"data row2 col1\" >0.590807</td>\n",
       "            </tr>\n",
       "            <tr>\n",
       "                                <td id=\"T_1b16e492_3349_11ed_b08a_784f437c194arow3_col0\" class=\"data row3 col0\" >shape_MeshVolume</td>\n",
       "                        <td id=\"T_1b16e492_3349_11ed_b08a_784f437c194arow3_col1\" class=\"data row3 col1\" >0.363684</td>\n",
       "            </tr>\n",
       "            <tr>\n",
       "                                <td id=\"T_1b16e492_3349_11ed_b08a_784f437c194arow4_col0\" class=\"data row4 col0\" >shape_Sphericity</td>\n",
       "                        <td id=\"T_1b16e492_3349_11ed_b08a_784f437c194arow4_col1\" class=\"data row4 col1\" >-0.257631</td>\n",
       "            </tr>\n",
       "            <tr>\n",
       "                                <td id=\"T_1b16e492_3349_11ed_b08a_784f437c194arow5_col0\" class=\"data row5 col0\" >firstorder_Kurtosis</td>\n",
       "                        <td id=\"T_1b16e492_3349_11ed_b08a_784f437c194arow5_col1\" class=\"data row5 col1\" >-0.237056</td>\n",
       "            </tr>\n",
       "            <tr>\n",
       "                                <td id=\"T_1b16e492_3349_11ed_b08a_784f437c194arow6_col0\" class=\"data row6 col0\" >shape_Elongation</td>\n",
       "                        <td id=\"T_1b16e492_3349_11ed_b08a_784f437c194arow6_col1\" class=\"data row6 col1\" >-0.231818</td>\n",
       "            </tr>\n",
       "            <tr>\n",
       "                                <td id=\"T_1b16e492_3349_11ed_b08a_784f437c194arow7_col0\" class=\"data row7 col0\" >firstorder_RootMeanSquared</td>\n",
       "                        <td id=\"T_1b16e492_3349_11ed_b08a_784f437c194arow7_col1\" class=\"data row7 col1\" >-0.218277</td>\n",
       "            </tr>\n",
       "            <tr>\n",
       "                                <td id=\"T_1b16e492_3349_11ed_b08a_784f437c194arow8_col0\" class=\"data row8 col0\" >firstorder_Range</td>\n",
       "                        <td id=\"T_1b16e492_3349_11ed_b08a_784f437c194arow8_col1\" class=\"data row8 col1\" >0.031059</td>\n",
       "            </tr>\n",
       "    </tbody></table>"
      ],
      "text/plain": [
       "<pandas.io.formats.style.Styler at 0x7fa13f2e7c50>"
      ]
     },
     "metadata": {},
     "output_type": "display_data"
    },
    {
     "name": "stdout",
     "output_type": "stream",
     "text": [
      "\n",
      "\n",
      "\n"
     ]
    },
    {
     "data": {
      "text/html": [
       "<style  type=\"text/css\" >\n",
       "</style><table id=\"T_1b182c30_3349_11ed_a1c6_784f437c194a\" ><thead>    <tr>        <th class=\"col_heading level0 col0\" >Feature</th>        <th class=\"col_heading level0 col1\" >Coef</th>    </tr></thead><tbody>\n",
       "                <tr>\n",
       "                                <td id=\"T_1b182c30_3349_11ed_a1c6_784f437c194arow0_col0\" class=\"data row0 col0\" >firstorder_90Percentile</td>\n",
       "                        <td id=\"T_1b182c30_3349_11ed_a1c6_784f437c194arow0_col1\" class=\"data row0 col1\" >-1.288840</td>\n",
       "            </tr>\n",
       "            <tr>\n",
       "                                <td id=\"T_1b182c30_3349_11ed_a1c6_784f437c194arow1_col0\" class=\"data row1 col0\" >glszm_ZoneEntropy</td>\n",
       "                        <td id=\"T_1b182c30_3349_11ed_a1c6_784f437c194arow1_col1\" class=\"data row1 col1\" >0.667461</td>\n",
       "            </tr>\n",
       "            <tr>\n",
       "                                <td id=\"T_1b182c30_3349_11ed_a1c6_784f437c194arow2_col0\" class=\"data row2 col0\" >shape_Sphericity</td>\n",
       "                        <td id=\"T_1b182c30_3349_11ed_a1c6_784f437c194arow2_col1\" class=\"data row2 col1\" >-0.453514</td>\n",
       "            </tr>\n",
       "            <tr>\n",
       "                                <td id=\"T_1b182c30_3349_11ed_a1c6_784f437c194arow3_col0\" class=\"data row3 col0\" >firstorder_RootMeanSquared</td>\n",
       "                        <td id=\"T_1b182c30_3349_11ed_a1c6_784f437c194arow3_col1\" class=\"data row3 col1\" >-0.416825</td>\n",
       "            </tr>\n",
       "            <tr>\n",
       "                                <td id=\"T_1b182c30_3349_11ed_a1c6_784f437c194arow4_col0\" class=\"data row4 col0\" >glszm_SmallAreaEmphasis</td>\n",
       "                        <td id=\"T_1b182c30_3349_11ed_a1c6_784f437c194arow4_col1\" class=\"data row4 col1\" >0.415878</td>\n",
       "            </tr>\n",
       "            <tr>\n",
       "                                <td id=\"T_1b182c30_3349_11ed_a1c6_784f437c194arow5_col0\" class=\"data row5 col0\" >shape_MeshVolume</td>\n",
       "                        <td id=\"T_1b182c30_3349_11ed_a1c6_784f437c194arow5_col1\" class=\"data row5 col1\" >0.342502</td>\n",
       "            </tr>\n",
       "            <tr>\n",
       "                                <td id=\"T_1b182c30_3349_11ed_a1c6_784f437c194arow6_col0\" class=\"data row6 col0\" >shape_Elongation</td>\n",
       "                        <td id=\"T_1b182c30_3349_11ed_a1c6_784f437c194arow6_col1\" class=\"data row6 col1\" >-0.269039</td>\n",
       "            </tr>\n",
       "            <tr>\n",
       "                                <td id=\"T_1b182c30_3349_11ed_a1c6_784f437c194arow7_col0\" class=\"data row7 col0\" >firstorder_Maximum</td>\n",
       "                        <td id=\"T_1b182c30_3349_11ed_a1c6_784f437c194arow7_col1\" class=\"data row7 col1\" >0.267242</td>\n",
       "            </tr>\n",
       "            <tr>\n",
       "                                <td id=\"T_1b182c30_3349_11ed_a1c6_784f437c194arow8_col0\" class=\"data row8 col0\" >firstorder_InterquartileRange</td>\n",
       "                        <td id=\"T_1b182c30_3349_11ed_a1c6_784f437c194arow8_col1\" class=\"data row8 col1\" >0.211843</td>\n",
       "            </tr>\n",
       "            <tr>\n",
       "                                <td id=\"T_1b182c30_3349_11ed_a1c6_784f437c194arow9_col0\" class=\"data row9 col0\" >ngtdm_Strength</td>\n",
       "                        <td id=\"T_1b182c30_3349_11ed_a1c6_784f437c194arow9_col1\" class=\"data row9 col1\" >-0.206751</td>\n",
       "            </tr>\n",
       "    </tbody></table>"
      ],
      "text/plain": [
       "<pandas.io.formats.style.Styler at 0x7fa13f2e7208>"
      ]
     },
     "metadata": {},
     "output_type": "display_data"
    },
    {
     "name": "stdout",
     "output_type": "stream",
     "text": [
      "\n",
      "\n",
      "shape\n"
     ]
    },
    {
     "data": {
      "text/html": [
       "<style  type=\"text/css\" >\n",
       "</style><table id=\"T_1b191dde_3349_11ed_ada7_784f437c194a\" ><thead>    <tr>        <th class=\"col_heading level0 col0\" >Feature</th>        <th class=\"col_heading level0 col1\" >Coef</th>    </tr></thead><tbody>\n",
       "                <tr>\n",
       "                                <td id=\"T_1b191dde_3349_11ed_ada7_784f437c194arow0_col0\" class=\"data row0 col0\" >shape_MeshVolume</td>\n",
       "                        <td id=\"T_1b191dde_3349_11ed_ada7_784f437c194arow0_col1\" class=\"data row0 col1\" >3.733465</td>\n",
       "            </tr>\n",
       "            <tr>\n",
       "                                <td id=\"T_1b191dde_3349_11ed_ada7_784f437c194arow1_col0\" class=\"data row1 col0\" >shape_Sphericity</td>\n",
       "                        <td id=\"T_1b191dde_3349_11ed_ada7_784f437c194arow1_col1\" class=\"data row1 col1\" >-1.037683</td>\n",
       "            </tr>\n",
       "            <tr>\n",
       "                                <td id=\"T_1b191dde_3349_11ed_ada7_784f437c194arow2_col0\" class=\"data row2 col0\" >shape_Elongation</td>\n",
       "                        <td id=\"T_1b191dde_3349_11ed_ada7_784f437c194arow2_col1\" class=\"data row2 col1\" >-0.099780</td>\n",
       "            </tr>\n",
       "    </tbody></table>"
      ],
      "text/plain": [
       "<pandas.io.formats.style.Styler at 0x7fa13f2db828>"
      ]
     },
     "metadata": {},
     "output_type": "display_data"
    },
    {
     "name": "stdout",
     "output_type": "stream",
     "text": [
      "\n",
      "\n",
      "shape|firstorder|histogram\n"
     ]
    },
    {
     "data": {
      "text/html": [
       "<style  type=\"text/css\" >\n",
       "</style><table id=\"T_1b1a2990_3349_11ed_92d6_784f437c194a\" ><thead>    <tr>        <th class=\"col_heading level0 col0\" >Feature</th>        <th class=\"col_heading level0 col1\" >Coef</th>    </tr></thead><tbody>\n",
       "                <tr>\n",
       "                                <td id=\"T_1b1a2990_3349_11ed_92d6_784f437c194arow0_col0\" class=\"data row0 col0\" >firstorder_90Percentile</td>\n",
       "                        <td id=\"T_1b1a2990_3349_11ed_92d6_784f437c194arow0_col1\" class=\"data row0 col1\" >-1.553967</td>\n",
       "            </tr>\n",
       "            <tr>\n",
       "                                <td id=\"T_1b1a2990_3349_11ed_92d6_784f437c194arow1_col0\" class=\"data row1 col0\" >firstorder_Maximum</td>\n",
       "                        <td id=\"T_1b1a2990_3349_11ed_92d6_784f437c194arow1_col1\" class=\"data row1 col1\" >0.923869</td>\n",
       "            </tr>\n",
       "            <tr>\n",
       "                                <td id=\"T_1b1a2990_3349_11ed_92d6_784f437c194arow2_col0\" class=\"data row2 col0\" >firstorder_InterquartileRange</td>\n",
       "                        <td id=\"T_1b1a2990_3349_11ed_92d6_784f437c194arow2_col1\" class=\"data row2 col1\" >0.840065</td>\n",
       "            </tr>\n",
       "            <tr>\n",
       "                                <td id=\"T_1b1a2990_3349_11ed_92d6_784f437c194arow3_col0\" class=\"data row3 col0\" >firstorder_Kurtosis</td>\n",
       "                        <td id=\"T_1b1a2990_3349_11ed_92d6_784f437c194arow3_col1\" class=\"data row3 col1\" >-0.447493</td>\n",
       "            </tr>\n",
       "            <tr>\n",
       "                                <td id=\"T_1b1a2990_3349_11ed_92d6_784f437c194arow4_col0\" class=\"data row4 col0\" >shape_MeshVolume</td>\n",
       "                        <td id=\"T_1b1a2990_3349_11ed_92d6_784f437c194arow4_col1\" class=\"data row4 col1\" >0.381164</td>\n",
       "            </tr>\n",
       "            <tr>\n",
       "                                <td id=\"T_1b1a2990_3349_11ed_92d6_784f437c194arow5_col0\" class=\"data row5 col0\" >shape_Sphericity</td>\n",
       "                        <td id=\"T_1b1a2990_3349_11ed_92d6_784f437c194arow5_col1\" class=\"data row5 col1\" >-0.347814</td>\n",
       "            </tr>\n",
       "            <tr>\n",
       "                                <td id=\"T_1b1a2990_3349_11ed_92d6_784f437c194arow6_col0\" class=\"data row6 col0\" >firstorder_RootMeanSquared</td>\n",
       "                        <td id=\"T_1b1a2990_3349_11ed_92d6_784f437c194arow6_col1\" class=\"data row6 col1\" >-0.337028</td>\n",
       "            </tr>\n",
       "            <tr>\n",
       "                                <td id=\"T_1b1a2990_3349_11ed_92d6_784f437c194arow7_col0\" class=\"data row7 col0\" >shape_Elongation</td>\n",
       "                        <td id=\"T_1b1a2990_3349_11ed_92d6_784f437c194arow7_col1\" class=\"data row7 col1\" >-0.136118</td>\n",
       "            </tr>\n",
       "    </tbody></table>"
      ],
      "text/plain": [
       "<pandas.io.formats.style.Styler at 0x7fa13f2d0be0>"
      ]
     },
     "metadata": {},
     "output_type": "display_data"
    },
    {
     "name": "stdout",
     "output_type": "stream",
     "text": [
      "\n",
      "\n",
      "\n"
     ]
    },
    {
     "data": {
      "text/html": [
       "<style  type=\"text/css\" >\n",
       "</style><table id=\"T_1b1b7214_3349_11ed_b76d_784f437c194a\" ><thead>    <tr>        <th class=\"col_heading level0 col0\" >Feature</th>        <th class=\"col_heading level0 col1\" >Coef</th>    </tr></thead><tbody>\n",
       "                <tr>\n",
       "                                <td id=\"T_1b1b7214_3349_11ed_b76d_784f437c194arow0_col0\" class=\"data row0 col0\" >firstorder_90Percentile</td>\n",
       "                        <td id=\"T_1b1b7214_3349_11ed_b76d_784f437c194arow0_col1\" class=\"data row0 col1\" >-2.508502</td>\n",
       "            </tr>\n",
       "            <tr>\n",
       "                                <td id=\"T_1b1b7214_3349_11ed_b76d_784f437c194arow1_col0\" class=\"data row1 col0\" >firstorder_Maximum</td>\n",
       "                        <td id=\"T_1b1b7214_3349_11ed_b76d_784f437c194arow1_col1\" class=\"data row1 col1\" >1.366041</td>\n",
       "            </tr>\n",
       "            <tr>\n",
       "                                <td id=\"T_1b1b7214_3349_11ed_b76d_784f437c194arow2_col0\" class=\"data row2 col0\" >firstorder_Uniformity</td>\n",
       "                        <td id=\"T_1b1b7214_3349_11ed_b76d_784f437c194arow2_col1\" class=\"data row2 col1\" >-1.096142</td>\n",
       "            </tr>\n",
       "            <tr>\n",
       "                                <td id=\"T_1b1b7214_3349_11ed_b76d_784f437c194arow3_col0\" class=\"data row3 col0\" >shape_Elongation</td>\n",
       "                        <td id=\"T_1b1b7214_3349_11ed_b76d_784f437c194arow3_col1\" class=\"data row3 col1\" >-0.719962</td>\n",
       "            </tr>\n",
       "            <tr>\n",
       "                                <td id=\"T_1b1b7214_3349_11ed_b76d_784f437c194arow4_col0\" class=\"data row4 col0\" >ngtdm_Strength</td>\n",
       "                        <td id=\"T_1b1b7214_3349_11ed_b76d_784f437c194arow4_col1\" class=\"data row4 col1\" >-0.687338</td>\n",
       "            </tr>\n",
       "            <tr>\n",
       "                                <td id=\"T_1b1b7214_3349_11ed_b76d_784f437c194arow5_col0\" class=\"data row5 col0\" >gldm_LowGrayLevelEmphasis</td>\n",
       "                        <td id=\"T_1b1b7214_3349_11ed_b76d_784f437c194arow5_col1\" class=\"data row5 col1\" >-0.586190</td>\n",
       "            </tr>\n",
       "            <tr>\n",
       "                                <td id=\"T_1b1b7214_3349_11ed_b76d_784f437c194arow6_col0\" class=\"data row6 col0\" >gldm_DependenceNonUniformityNormalized</td>\n",
       "                        <td id=\"T_1b1b7214_3349_11ed_b76d_784f437c194arow6_col1\" class=\"data row6 col1\" >-0.399456</td>\n",
       "            </tr>\n",
       "            <tr>\n",
       "                                <td id=\"T_1b1b7214_3349_11ed_b76d_784f437c194arow7_col0\" class=\"data row7 col0\" >firstorder_RootMeanSquared</td>\n",
       "                        <td id=\"T_1b1b7214_3349_11ed_b76d_784f437c194arow7_col1\" class=\"data row7 col1\" >-0.366363</td>\n",
       "            </tr>\n",
       "            <tr>\n",
       "                                <td id=\"T_1b1b7214_3349_11ed_b76d_784f437c194arow8_col0\" class=\"data row8 col0\" >shape_Flatness</td>\n",
       "                        <td id=\"T_1b1b7214_3349_11ed_b76d_784f437c194arow8_col1\" class=\"data row8 col1\" >0.305301</td>\n",
       "            </tr>\n",
       "            <tr>\n",
       "                                <td id=\"T_1b1b7214_3349_11ed_b76d_784f437c194arow9_col0\" class=\"data row9 col0\" >shape_Sphericity</td>\n",
       "                        <td id=\"T_1b1b7214_3349_11ed_b76d_784f437c194arow9_col1\" class=\"data row9 col1\" >-0.273516</td>\n",
       "            </tr>\n",
       "            <tr>\n",
       "                                <td id=\"T_1b1b7214_3349_11ed_b76d_784f437c194arow10_col0\" class=\"data row10 col0\" >firstorder_Minimum</td>\n",
       "                        <td id=\"T_1b1b7214_3349_11ed_b76d_784f437c194arow10_col1\" class=\"data row10 col1\" >0.170449</td>\n",
       "            </tr>\n",
       "            <tr>\n",
       "                                <td id=\"T_1b1b7214_3349_11ed_b76d_784f437c194arow11_col0\" class=\"data row11 col0\" >shape_MeshVolume</td>\n",
       "                        <td id=\"T_1b1b7214_3349_11ed_b76d_784f437c194arow11_col1\" class=\"data row11 col1\" >0.091028</td>\n",
       "            </tr>\n",
       "            <tr>\n",
       "                                <td id=\"T_1b1b7214_3349_11ed_b76d_784f437c194arow12_col0\" class=\"data row12 col0\" >firstorder_Kurtosis</td>\n",
       "                        <td id=\"T_1b1b7214_3349_11ed_b76d_784f437c194arow12_col1\" class=\"data row12 col1\" >-0.073588</td>\n",
       "            </tr>\n",
       "            <tr>\n",
       "                                <td id=\"T_1b1b7214_3349_11ed_b76d_784f437c194arow13_col0\" class=\"data row13 col0\" >glszm_SmallAreaEmphasis</td>\n",
       "                        <td id=\"T_1b1b7214_3349_11ed_b76d_784f437c194arow13_col1\" class=\"data row13 col1\" >0.053362</td>\n",
       "            </tr>\n",
       "            <tr>\n",
       "                                <td id=\"T_1b1b7214_3349_11ed_b76d_784f437c194arow14_col0\" class=\"data row14 col0\" >ngtdm_Contrast</td>\n",
       "                        <td id=\"T_1b1b7214_3349_11ed_b76d_784f437c194arow14_col1\" class=\"data row14 col1\" >0.043801</td>\n",
       "            </tr>\n",
       "    </tbody></table>"
      ],
      "text/plain": [
       "<pandas.io.formats.style.Styler at 0x7fa13c2b56d8>"
      ]
     },
     "metadata": {},
     "output_type": "display_data"
    },
    {
     "name": "stdout",
     "output_type": "stream",
     "text": [
      "\n",
      "\n",
      "shape|firstorder|histogram\n"
     ]
    },
    {
     "data": {
      "text/html": [
       "<style  type=\"text/css\" >\n",
       "</style><table id=\"T_1b1cc428_3349_11ed_8607_784f437c194a\" ><thead>    <tr>        <th class=\"col_heading level0 col0\" >Feature</th>        <th class=\"col_heading level0 col1\" >Coef</th>    </tr></thead><tbody>\n",
       "                <tr>\n",
       "                                <td id=\"T_1b1cc428_3349_11ed_8607_784f437c194arow0_col0\" class=\"data row0 col0\" >firstorder_90Percentile</td>\n",
       "                        <td id=\"T_1b1cc428_3349_11ed_8607_784f437c194arow0_col1\" class=\"data row0 col1\" >-1.270403</td>\n",
       "            </tr>\n",
       "            <tr>\n",
       "                                <td id=\"T_1b1cc428_3349_11ed_8607_784f437c194arow1_col0\" class=\"data row1 col0\" >firstorder_InterquartileRange</td>\n",
       "                        <td id=\"T_1b1cc428_3349_11ed_8607_784f437c194arow1_col1\" class=\"data row1 col1\" >0.691885</td>\n",
       "            </tr>\n",
       "            <tr>\n",
       "                                <td id=\"T_1b1cc428_3349_11ed_8607_784f437c194arow2_col0\" class=\"data row2 col0\" >firstorder_Maximum</td>\n",
       "                        <td id=\"T_1b1cc428_3349_11ed_8607_784f437c194arow2_col1\" class=\"data row2 col1\" >0.557275</td>\n",
       "            </tr>\n",
       "            <tr>\n",
       "                                <td id=\"T_1b1cc428_3349_11ed_8607_784f437c194arow3_col0\" class=\"data row3 col0\" >shape_MeshVolume</td>\n",
       "                        <td id=\"T_1b1cc428_3349_11ed_8607_784f437c194arow3_col1\" class=\"data row3 col1\" >0.373812</td>\n",
       "            </tr>\n",
       "            <tr>\n",
       "                                <td id=\"T_1b1cc428_3349_11ed_8607_784f437c194arow4_col0\" class=\"data row4 col0\" >firstorder_Kurtosis</td>\n",
       "                        <td id=\"T_1b1cc428_3349_11ed_8607_784f437c194arow4_col1\" class=\"data row4 col1\" >-0.217254</td>\n",
       "            </tr>\n",
       "            <tr>\n",
       "                                <td id=\"T_1b1cc428_3349_11ed_8607_784f437c194arow5_col0\" class=\"data row5 col0\" >shape_Sphericity</td>\n",
       "                        <td id=\"T_1b1cc428_3349_11ed_8607_784f437c194arow5_col1\" class=\"data row5 col1\" >-0.206379</td>\n",
       "            </tr>\n",
       "            <tr>\n",
       "                                <td id=\"T_1b1cc428_3349_11ed_8607_784f437c194arow6_col0\" class=\"data row6 col0\" >firstorder_RootMeanSquared</td>\n",
       "                        <td id=\"T_1b1cc428_3349_11ed_8607_784f437c194arow6_col1\" class=\"data row6 col1\" >-0.185591</td>\n",
       "            </tr>\n",
       "            <tr>\n",
       "                                <td id=\"T_1b1cc428_3349_11ed_8607_784f437c194arow7_col0\" class=\"data row7 col0\" >shape_Elongation</td>\n",
       "                        <td id=\"T_1b1cc428_3349_11ed_8607_784f437c194arow7_col1\" class=\"data row7 col1\" >-0.075572</td>\n",
       "            </tr>\n",
       "    </tbody></table>"
      ],
      "text/plain": [
       "<pandas.io.formats.style.Styler at 0x7fa13f2e79b0>"
      ]
     },
     "metadata": {},
     "output_type": "display_data"
    },
    {
     "name": "stdout",
     "output_type": "stream",
     "text": [
      "\n",
      "\n",
      "shape|glcm|gldm|glszm|glrlm|ngtdm\n"
     ]
    },
    {
     "data": {
      "text/html": [
       "<style  type=\"text/css\" >\n",
       "</style><table id=\"T_1b1e1d1e_3349_11ed_b102_784f437c194a\" ><thead>    <tr>        <th class=\"col_heading level0 col0\" >Feature</th>        <th class=\"col_heading level0 col1\" >Coef</th>    </tr></thead><tbody>\n",
       "                <tr>\n",
       "                                <td id=\"T_1b1e1d1e_3349_11ed_b102_784f437c194arow0_col0\" class=\"data row0 col0\" >shape_MeshVolume</td>\n",
       "                        <td id=\"T_1b1e1d1e_3349_11ed_b102_784f437c194arow0_col1\" class=\"data row0 col1\" >1.579154</td>\n",
       "            </tr>\n",
       "            <tr>\n",
       "                                <td id=\"T_1b1e1d1e_3349_11ed_b102_784f437c194arow1_col0\" class=\"data row1 col0\" >shape_Sphericity</td>\n",
       "                        <td id=\"T_1b1e1d1e_3349_11ed_b102_784f437c194arow1_col1\" class=\"data row1 col1\" >-1.005924</td>\n",
       "            </tr>\n",
       "            <tr>\n",
       "                                <td id=\"T_1b1e1d1e_3349_11ed_b102_784f437c194arow2_col0\" class=\"data row2 col0\" >glszm_SmallAreaEmphasis</td>\n",
       "                        <td id=\"T_1b1e1d1e_3349_11ed_b102_784f437c194arow2_col1\" class=\"data row2 col1\" >0.316441</td>\n",
       "            </tr>\n",
       "            <tr>\n",
       "                                <td id=\"T_1b1e1d1e_3349_11ed_b102_784f437c194arow3_col0\" class=\"data row3 col0\" >gldm_DependenceNonUniformityNormalized</td>\n",
       "                        <td id=\"T_1b1e1d1e_3349_11ed_b102_784f437c194arow3_col1\" class=\"data row3 col1\" >-0.187775</td>\n",
       "            </tr>\n",
       "            <tr>\n",
       "                                <td id=\"T_1b1e1d1e_3349_11ed_b102_784f437c194arow4_col0\" class=\"data row4 col0\" >shape_Elongation</td>\n",
       "                        <td id=\"T_1b1e1d1e_3349_11ed_b102_784f437c194arow4_col1\" class=\"data row4 col1\" >-0.173228</td>\n",
       "            </tr>\n",
       "            <tr>\n",
       "                                <td id=\"T_1b1e1d1e_3349_11ed_b102_784f437c194arow5_col0\" class=\"data row5 col0\" >ngtdm_Contrast</td>\n",
       "                        <td id=\"T_1b1e1d1e_3349_11ed_b102_784f437c194arow5_col1\" class=\"data row5 col1\" >0.122986</td>\n",
       "            </tr>\n",
       "            <tr>\n",
       "                                <td id=\"T_1b1e1d1e_3349_11ed_b102_784f437c194arow6_col0\" class=\"data row6 col0\" >ngtdm_Strength</td>\n",
       "                        <td id=\"T_1b1e1d1e_3349_11ed_b102_784f437c194arow6_col1\" class=\"data row6 col1\" >-0.009143</td>\n",
       "            </tr>\n",
       "    </tbody></table>"
      ],
      "text/plain": [
       "<pandas.io.formats.style.Styler at 0x7fa13f2e7588>"
      ]
     },
     "metadata": {},
     "output_type": "display_data"
    },
    {
     "name": "stdout",
     "output_type": "stream",
     "text": [
      "\n",
      "\n",
      "shape\n"
     ]
    },
    {
     "data": {
      "text/html": [
       "<style  type=\"text/css\" >\n",
       "</style><table id=\"T_1b1f4c5e_3349_11ed_9497_784f437c194a\" ><thead>    <tr>        <th class=\"col_heading level0 col0\" >Feature</th>        <th class=\"col_heading level0 col1\" >Coef</th>    </tr></thead><tbody>\n",
       "                <tr>\n",
       "                                <td id=\"T_1b1f4c5e_3349_11ed_9497_784f437c194arow0_col0\" class=\"data row0 col0\" >shape_MeshVolume</td>\n",
       "                        <td id=\"T_1b1f4c5e_3349_11ed_9497_784f437c194arow0_col1\" class=\"data row0 col1\" >3.220185</td>\n",
       "            </tr>\n",
       "            <tr>\n",
       "                                <td id=\"T_1b1f4c5e_3349_11ed_9497_784f437c194arow1_col0\" class=\"data row1 col0\" >shape_Sphericity</td>\n",
       "                        <td id=\"T_1b1f4c5e_3349_11ed_9497_784f437c194arow1_col1\" class=\"data row1 col1\" >-1.085788</td>\n",
       "            </tr>\n",
       "            <tr>\n",
       "                                <td id=\"T_1b1f4c5e_3349_11ed_9497_784f437c194arow2_col0\" class=\"data row2 col0\" >shape_Elongation</td>\n",
       "                        <td id=\"T_1b1f4c5e_3349_11ed_9497_784f437c194arow2_col1\" class=\"data row2 col1\" >-0.358312</td>\n",
       "            </tr>\n",
       "            <tr>\n",
       "                                <td id=\"T_1b1f4c5e_3349_11ed_9497_784f437c194arow3_col0\" class=\"data row3 col0\" >shape_Flatness</td>\n",
       "                        <td id=\"T_1b1f4c5e_3349_11ed_9497_784f437c194arow3_col1\" class=\"data row3 col1\" >0.267349</td>\n",
       "            </tr>\n",
       "    </tbody></table>"
      ],
      "text/plain": [
       "<pandas.io.formats.style.Styler at 0x7fa13f2db828>"
      ]
     },
     "metadata": {},
     "output_type": "display_data"
    },
    {
     "name": "stdout",
     "output_type": "stream",
     "text": [
      "\n",
      "\n",
      "shape\n"
     ]
    },
    {
     "data": {
      "text/html": [
       "<style  type=\"text/css\" >\n",
       "</style><table id=\"T_1b206c74_3349_11ed_b596_784f437c194a\" ><thead>    <tr>        <th class=\"col_heading level0 col0\" >Feature</th>        <th class=\"col_heading level0 col1\" >Coef</th>    </tr></thead><tbody>\n",
       "                <tr>\n",
       "                                <td id=\"T_1b206c74_3349_11ed_b596_784f437c194arow0_col0\" class=\"data row0 col0\" >shape_MeshVolume</td>\n",
       "                        <td id=\"T_1b206c74_3349_11ed_b596_784f437c194arow0_col1\" class=\"data row0 col1\" >2.216414</td>\n",
       "            </tr>\n",
       "            <tr>\n",
       "                                <td id=\"T_1b206c74_3349_11ed_b596_784f437c194arow1_col0\" class=\"data row1 col0\" >shape_Sphericity</td>\n",
       "                        <td id=\"T_1b206c74_3349_11ed_b596_784f437c194arow1_col1\" class=\"data row1 col1\" >-0.993984</td>\n",
       "            </tr>\n",
       "            <tr>\n",
       "                                <td id=\"T_1b206c74_3349_11ed_b596_784f437c194arow2_col0\" class=\"data row2 col0\" >shape_Elongation</td>\n",
       "                        <td id=\"T_1b206c74_3349_11ed_b596_784f437c194arow2_col1\" class=\"data row2 col1\" >-0.221564</td>\n",
       "            </tr>\n",
       "    </tbody></table>"
      ],
      "text/plain": [
       "<pandas.io.formats.style.Styler at 0x7fa13f2cfdd8>"
      ]
     },
     "metadata": {},
     "output_type": "display_data"
    },
    {
     "name": "stdout",
     "output_type": "stream",
     "text": [
      "\n",
      "\n",
      "shape|firstorder|histogram\n"
     ]
    },
    {
     "data": {
      "text/html": [
       "<style  type=\"text/css\" >\n",
       "</style><table id=\"T_1b2137ee_3349_11ed_a29c_784f437c194a\" ><thead>    <tr>        <th class=\"col_heading level0 col0\" >Feature</th>        <th class=\"col_heading level0 col1\" >Coef</th>    </tr></thead><tbody>\n",
       "                <tr>\n",
       "                                <td id=\"T_1b2137ee_3349_11ed_a29c_784f437c194arow0_col0\" class=\"data row0 col0\" >firstorder_90Percentile</td>\n",
       "                        <td id=\"T_1b2137ee_3349_11ed_a29c_784f437c194arow0_col1\" class=\"data row0 col1\" >-2.007285</td>\n",
       "            </tr>\n",
       "            <tr>\n",
       "                                <td id=\"T_1b2137ee_3349_11ed_a29c_784f437c194arow1_col0\" class=\"data row1 col0\" >firstorder_InterquartileRange</td>\n",
       "                        <td id=\"T_1b2137ee_3349_11ed_a29c_784f437c194arow1_col1\" class=\"data row1 col1\" >1.559192</td>\n",
       "            </tr>\n",
       "            <tr>\n",
       "                                <td id=\"T_1b2137ee_3349_11ed_a29c_784f437c194arow2_col0\" class=\"data row2 col0\" >firstorder_Maximum</td>\n",
       "                        <td id=\"T_1b2137ee_3349_11ed_a29c_784f437c194arow2_col1\" class=\"data row2 col1\" >1.016880</td>\n",
       "            </tr>\n",
       "            <tr>\n",
       "                                <td id=\"T_1b2137ee_3349_11ed_a29c_784f437c194arow3_col0\" class=\"data row3 col0\" >shape_MeshVolume</td>\n",
       "                        <td id=\"T_1b2137ee_3349_11ed_a29c_784f437c194arow3_col1\" class=\"data row3 col1\" >0.983057</td>\n",
       "            </tr>\n",
       "            <tr>\n",
       "                                <td id=\"T_1b2137ee_3349_11ed_a29c_784f437c194arow4_col0\" class=\"data row4 col0\" >shape_Elongation</td>\n",
       "                        <td id=\"T_1b2137ee_3349_11ed_a29c_784f437c194arow4_col1\" class=\"data row4 col1\" >-0.843073</td>\n",
       "            </tr>\n",
       "            <tr>\n",
       "                                <td id=\"T_1b2137ee_3349_11ed_a29c_784f437c194arow5_col0\" class=\"data row5 col0\" >shape_Flatness</td>\n",
       "                        <td id=\"T_1b2137ee_3349_11ed_a29c_784f437c194arow5_col1\" class=\"data row5 col1\" >0.841887</td>\n",
       "            </tr>\n",
       "            <tr>\n",
       "                                <td id=\"T_1b2137ee_3349_11ed_a29c_784f437c194arow6_col0\" class=\"data row6 col0\" >shape_Sphericity</td>\n",
       "                        <td id=\"T_1b2137ee_3349_11ed_a29c_784f437c194arow6_col1\" class=\"data row6 col1\" >-0.525676</td>\n",
       "            </tr>\n",
       "            <tr>\n",
       "                                <td id=\"T_1b2137ee_3349_11ed_a29c_784f437c194arow7_col0\" class=\"data row7 col0\" >firstorder_Skewness</td>\n",
       "                        <td id=\"T_1b2137ee_3349_11ed_a29c_784f437c194arow7_col1\" class=\"data row7 col1\" >0.218013</td>\n",
       "            </tr>\n",
       "            <tr>\n",
       "                                <td id=\"T_1b2137ee_3349_11ed_a29c_784f437c194arow8_col0\" class=\"data row8 col0\" >firstorder_RootMeanSquared</td>\n",
       "                        <td id=\"T_1b2137ee_3349_11ed_a29c_784f437c194arow8_col1\" class=\"data row8 col1\" >-0.167163</td>\n",
       "            </tr>\n",
       "            <tr>\n",
       "                                <td id=\"T_1b2137ee_3349_11ed_a29c_784f437c194arow9_col0\" class=\"data row9 col0\" >firstorder_Minimum</td>\n",
       "                        <td id=\"T_1b2137ee_3349_11ed_a29c_784f437c194arow9_col1\" class=\"data row9 col1\" >0.002373</td>\n",
       "            </tr>\n",
       "    </tbody></table>"
      ],
      "text/plain": [
       "<pandas.io.formats.style.Styler at 0x7fa13f36ff98>"
      ]
     },
     "metadata": {},
     "output_type": "display_data"
    },
    {
     "name": "stdout",
     "output_type": "stream",
     "text": [
      "\n",
      "\n",
      "shape|firstorder|histogram\n"
     ]
    },
    {
     "data": {
      "text/html": [
       "<style  type=\"text/css\" >\n",
       "</style><table id=\"T_1b22aa18_3349_11ed_9278_784f437c194a\" ><thead>    <tr>        <th class=\"col_heading level0 col0\" >Feature</th>        <th class=\"col_heading level0 col1\" >Coef</th>    </tr></thead><tbody>\n",
       "                <tr>\n",
       "                                <td id=\"T_1b22aa18_3349_11ed_9278_784f437c194arow0_col0\" class=\"data row0 col0\" >firstorder_90Percentile</td>\n",
       "                        <td id=\"T_1b22aa18_3349_11ed_9278_784f437c194arow0_col1\" class=\"data row0 col1\" >-1.719159</td>\n",
       "            </tr>\n",
       "            <tr>\n",
       "                                <td id=\"T_1b22aa18_3349_11ed_9278_784f437c194arow1_col0\" class=\"data row1 col0\" >firstorder_InterquartileRange</td>\n",
       "                        <td id=\"T_1b22aa18_3349_11ed_9278_784f437c194arow1_col1\" class=\"data row1 col1\" >1.195406</td>\n",
       "            </tr>\n",
       "            <tr>\n",
       "                                <td id=\"T_1b22aa18_3349_11ed_9278_784f437c194arow2_col0\" class=\"data row2 col0\" >firstorder_Maximum</td>\n",
       "                        <td id=\"T_1b22aa18_3349_11ed_9278_784f437c194arow2_col1\" class=\"data row2 col1\" >0.833086</td>\n",
       "            </tr>\n",
       "            <tr>\n",
       "                                <td id=\"T_1b22aa18_3349_11ed_9278_784f437c194arow3_col0\" class=\"data row3 col0\" >firstorder_Kurtosis</td>\n",
       "                        <td id=\"T_1b22aa18_3349_11ed_9278_784f437c194arow3_col1\" class=\"data row3 col1\" >-0.656525</td>\n",
       "            </tr>\n",
       "            <tr>\n",
       "                                <td id=\"T_1b22aa18_3349_11ed_9278_784f437c194arow4_col0\" class=\"data row4 col0\" >shape_MeshVolume</td>\n",
       "                        <td id=\"T_1b22aa18_3349_11ed_9278_784f437c194arow4_col1\" class=\"data row4 col1\" >0.610917</td>\n",
       "            </tr>\n",
       "            <tr>\n",
       "                                <td id=\"T_1b22aa18_3349_11ed_9278_784f437c194arow5_col0\" class=\"data row5 col0\" >shape_Elongation</td>\n",
       "                        <td id=\"T_1b22aa18_3349_11ed_9278_784f437c194arow5_col1\" class=\"data row5 col1\" >-0.540796</td>\n",
       "            </tr>\n",
       "            <tr>\n",
       "                                <td id=\"T_1b22aa18_3349_11ed_9278_784f437c194arow6_col0\" class=\"data row6 col0\" >shape_Flatness</td>\n",
       "                        <td id=\"T_1b22aa18_3349_11ed_9278_784f437c194arow6_col1\" class=\"data row6 col1\" >0.416444</td>\n",
       "            </tr>\n",
       "            <tr>\n",
       "                                <td id=\"T_1b22aa18_3349_11ed_9278_784f437c194arow7_col0\" class=\"data row7 col0\" >shape_Sphericity</td>\n",
       "                        <td id=\"T_1b22aa18_3349_11ed_9278_784f437c194arow7_col1\" class=\"data row7 col1\" >-0.372182</td>\n",
       "            </tr>\n",
       "            <tr>\n",
       "                                <td id=\"T_1b22aa18_3349_11ed_9278_784f437c194arow8_col0\" class=\"data row8 col0\" >firstorder_RootMeanSquared</td>\n",
       "                        <td id=\"T_1b22aa18_3349_11ed_9278_784f437c194arow8_col1\" class=\"data row8 col1\" >-0.371634</td>\n",
       "            </tr>\n",
       "            <tr>\n",
       "                                <td id=\"T_1b22aa18_3349_11ed_9278_784f437c194arow9_col0\" class=\"data row9 col0\" >firstorder_Skewness</td>\n",
       "                        <td id=\"T_1b22aa18_3349_11ed_9278_784f437c194arow9_col1\" class=\"data row9 col1\" >0.306517</td>\n",
       "            </tr>\n",
       "    </tbody></table>"
      ],
      "text/plain": [
       "<pandas.io.formats.style.Styler at 0x7fa144692cc0>"
      ]
     },
     "metadata": {},
     "output_type": "display_data"
    },
    {
     "name": "stdout",
     "output_type": "stream",
     "text": [
      "\n",
      "\n",
      "\n"
     ]
    },
    {
     "data": {
      "text/html": [
       "<style  type=\"text/css\" >\n",
       "</style><table id=\"T_1b239f86_3349_11ed_8aaf_784f437c194a\" ><thead>    <tr>        <th class=\"col_heading level0 col0\" >Feature</th>        <th class=\"col_heading level0 col1\" >Coef</th>    </tr></thead><tbody>\n",
       "                <tr>\n",
       "                                <td id=\"T_1b239f86_3349_11ed_8aaf_784f437c194arow0_col0\" class=\"data row0 col0\" >firstorder_90Percentile</td>\n",
       "                        <td id=\"T_1b239f86_3349_11ed_8aaf_784f437c194arow0_col1\" class=\"data row0 col1\" >-1.576352</td>\n",
       "            </tr>\n",
       "            <tr>\n",
       "                                <td id=\"T_1b239f86_3349_11ed_8aaf_784f437c194arow1_col0\" class=\"data row1 col0\" >firstorder_InterquartileRange</td>\n",
       "                        <td id=\"T_1b239f86_3349_11ed_8aaf_784f437c194arow1_col1\" class=\"data row1 col1\" >0.981373</td>\n",
       "            </tr>\n",
       "            <tr>\n",
       "                                <td id=\"T_1b239f86_3349_11ed_8aaf_784f437c194arow2_col0\" class=\"data row2 col0\" >firstorder_Maximum</td>\n",
       "                        <td id=\"T_1b239f86_3349_11ed_8aaf_784f437c194arow2_col1\" class=\"data row2 col1\" >0.907833</td>\n",
       "            </tr>\n",
       "            <tr>\n",
       "                                <td id=\"T_1b239f86_3349_11ed_8aaf_784f437c194arow3_col0\" class=\"data row3 col0\" >shape_MeshVolume</td>\n",
       "                        <td id=\"T_1b239f86_3349_11ed_8aaf_784f437c194arow3_col1\" class=\"data row3 col1\" >0.409938</td>\n",
       "            </tr>\n",
       "            <tr>\n",
       "                                <td id=\"T_1b239f86_3349_11ed_8aaf_784f437c194arow4_col0\" class=\"data row4 col0\" >shape_Sphericity</td>\n",
       "                        <td id=\"T_1b239f86_3349_11ed_8aaf_784f437c194arow4_col1\" class=\"data row4 col1\" >-0.311326</td>\n",
       "            </tr>\n",
       "            <tr>\n",
       "                                <td id=\"T_1b239f86_3349_11ed_8aaf_784f437c194arow5_col0\" class=\"data row5 col0\" >ngtdm_Strength</td>\n",
       "                        <td id=\"T_1b239f86_3349_11ed_8aaf_784f437c194arow5_col1\" class=\"data row5 col1\" >-0.302563</td>\n",
       "            </tr>\n",
       "            <tr>\n",
       "                                <td id=\"T_1b239f86_3349_11ed_8aaf_784f437c194arow6_col0\" class=\"data row6 col0\" >glszm_SizeZoneNonUniformityNormalized</td>\n",
       "                        <td id=\"T_1b239f86_3349_11ed_8aaf_784f437c194arow6_col1\" class=\"data row6 col1\" >0.284723</td>\n",
       "            </tr>\n",
       "            <tr>\n",
       "                                <td id=\"T_1b239f86_3349_11ed_8aaf_784f437c194arow7_col0\" class=\"data row7 col0\" >firstorder_Kurtosis</td>\n",
       "                        <td id=\"T_1b239f86_3349_11ed_8aaf_784f437c194arow7_col1\" class=\"data row7 col1\" >-0.169626</td>\n",
       "            </tr>\n",
       "            <tr>\n",
       "                                <td id=\"T_1b239f86_3349_11ed_8aaf_784f437c194arow8_col0\" class=\"data row8 col0\" >gldm_DependenceNonUniformityNormalized</td>\n",
       "                        <td id=\"T_1b239f86_3349_11ed_8aaf_784f437c194arow8_col1\" class=\"data row8 col1\" >-0.143680</td>\n",
       "            </tr>\n",
       "            <tr>\n",
       "                                <td id=\"T_1b239f86_3349_11ed_8aaf_784f437c194arow9_col0\" class=\"data row9 col0\" >shape_Elongation</td>\n",
       "                        <td id=\"T_1b239f86_3349_11ed_8aaf_784f437c194arow9_col1\" class=\"data row9 col1\" >-0.142523</td>\n",
       "            </tr>\n",
       "            <tr>\n",
       "                                <td id=\"T_1b239f86_3349_11ed_8aaf_784f437c194arow10_col0\" class=\"data row10 col0\" >firstorder_RootMeanSquared</td>\n",
       "                        <td id=\"T_1b239f86_3349_11ed_8aaf_784f437c194arow10_col1\" class=\"data row10 col1\" >-0.130643</td>\n",
       "            </tr>\n",
       "    </tbody></table>"
      ],
      "text/plain": [
       "<pandas.io.formats.style.Styler at 0x7fa13f2d0080>"
      ]
     },
     "metadata": {},
     "output_type": "display_data"
    },
    {
     "name": "stdout",
     "output_type": "stream",
     "text": [
      "\n",
      "\n",
      "\n"
     ]
    },
    {
     "data": {
      "text/html": [
       "<style  type=\"text/css\" >\n",
       "</style><table id=\"T_1b250fd8_3349_11ed_820d_784f437c194a\" ><thead>    <tr>        <th class=\"col_heading level0 col0\" >Feature</th>        <th class=\"col_heading level0 col1\" >Coef</th>    </tr></thead><tbody>\n",
       "                <tr>\n",
       "                                <td id=\"T_1b250fd8_3349_11ed_820d_784f437c194arow0_col0\" class=\"data row0 col0\" >firstorder_90Percentile</td>\n",
       "                        <td id=\"T_1b250fd8_3349_11ed_820d_784f437c194arow0_col1\" class=\"data row0 col1\" >-1.105516</td>\n",
       "            </tr>\n",
       "            <tr>\n",
       "                                <td id=\"T_1b250fd8_3349_11ed_820d_784f437c194arow1_col0\" class=\"data row1 col0\" >glszm_ZoneEntropy</td>\n",
       "                        <td id=\"T_1b250fd8_3349_11ed_820d_784f437c194arow1_col1\" class=\"data row1 col1\" >0.893449</td>\n",
       "            </tr>\n",
       "            <tr>\n",
       "                                <td id=\"T_1b250fd8_3349_11ed_820d_784f437c194arow2_col0\" class=\"data row2 col0\" >shape_MeshVolume</td>\n",
       "                        <td id=\"T_1b250fd8_3349_11ed_820d_784f437c194arow2_col1\" class=\"data row2 col1\" >0.535224</td>\n",
       "            </tr>\n",
       "            <tr>\n",
       "                                <td id=\"T_1b250fd8_3349_11ed_820d_784f437c194arow3_col0\" class=\"data row3 col0\" >glszm_SizeZoneNonUniformityNormalized</td>\n",
       "                        <td id=\"T_1b250fd8_3349_11ed_820d_784f437c194arow3_col1\" class=\"data row3 col1\" >0.481645</td>\n",
       "            </tr>\n",
       "            <tr>\n",
       "                                <td id=\"T_1b250fd8_3349_11ed_820d_784f437c194arow4_col0\" class=\"data row4 col0\" >shape_Elongation</td>\n",
       "                        <td id=\"T_1b250fd8_3349_11ed_820d_784f437c194arow4_col1\" class=\"data row4 col1\" >-0.258008</td>\n",
       "            </tr>\n",
       "            <tr>\n",
       "                                <td id=\"T_1b250fd8_3349_11ed_820d_784f437c194arow5_col0\" class=\"data row5 col0\" >firstorder_Maximum</td>\n",
       "                        <td id=\"T_1b250fd8_3349_11ed_820d_784f437c194arow5_col1\" class=\"data row5 col1\" >0.252835</td>\n",
       "            </tr>\n",
       "            <tr>\n",
       "                                <td id=\"T_1b250fd8_3349_11ed_820d_784f437c194arow6_col0\" class=\"data row6 col0\" >firstorder_RootMeanSquared</td>\n",
       "                        <td id=\"T_1b250fd8_3349_11ed_820d_784f437c194arow6_col1\" class=\"data row6 col1\" >-0.252306</td>\n",
       "            </tr>\n",
       "            <tr>\n",
       "                                <td id=\"T_1b250fd8_3349_11ed_820d_784f437c194arow7_col0\" class=\"data row7 col0\" >shape_Sphericity</td>\n",
       "                        <td id=\"T_1b250fd8_3349_11ed_820d_784f437c194arow7_col1\" class=\"data row7 col1\" >-0.227022</td>\n",
       "            </tr>\n",
       "            <tr>\n",
       "                                <td id=\"T_1b250fd8_3349_11ed_820d_784f437c194arow8_col0\" class=\"data row8 col0\" >firstorder_InterquartileRange</td>\n",
       "                        <td id=\"T_1b250fd8_3349_11ed_820d_784f437c194arow8_col1\" class=\"data row8 col1\" >0.205995</td>\n",
       "            </tr>\n",
       "            <tr>\n",
       "                                <td id=\"T_1b250fd8_3349_11ed_820d_784f437c194arow9_col0\" class=\"data row9 col0\" >ngtdm_Strength</td>\n",
       "                        <td id=\"T_1b250fd8_3349_11ed_820d_784f437c194arow9_col1\" class=\"data row9 col1\" >-0.189582</td>\n",
       "            </tr>\n",
       "    </tbody></table>"
      ],
      "text/plain": [
       "<pandas.io.formats.style.Styler at 0x7fa13f36ff98>"
      ]
     },
     "metadata": {},
     "output_type": "display_data"
    },
    {
     "name": "stdout",
     "output_type": "stream",
     "text": [
      "\n",
      "\n",
      "firstorder|histogram\n"
     ]
    },
    {
     "data": {
      "text/html": [
       "<style  type=\"text/css\" >\n",
       "</style><table id=\"T_1b261b24_3349_11ed_9066_784f437c194a\" ><thead>    <tr>        <th class=\"col_heading level0 col0\" >Feature</th>        <th class=\"col_heading level0 col1\" >Coef</th>    </tr></thead><tbody>\n",
       "                <tr>\n",
       "                                <td id=\"T_1b261b24_3349_11ed_9066_784f437c194arow0_col0\" class=\"data row0 col0\" >firstorder_90Percentile</td>\n",
       "                        <td id=\"T_1b261b24_3349_11ed_9066_784f437c194arow0_col1\" class=\"data row0 col1\" >-2.373347</td>\n",
       "            </tr>\n",
       "            <tr>\n",
       "                                <td id=\"T_1b261b24_3349_11ed_9066_784f437c194arow1_col0\" class=\"data row1 col0\" >firstorder_Maximum</td>\n",
       "                        <td id=\"T_1b261b24_3349_11ed_9066_784f437c194arow1_col1\" class=\"data row1 col1\" >2.134715</td>\n",
       "            </tr>\n",
       "            <tr>\n",
       "                                <td id=\"T_1b261b24_3349_11ed_9066_784f437c194arow2_col0\" class=\"data row2 col0\" >firstorder_Uniformity</td>\n",
       "                        <td id=\"T_1b261b24_3349_11ed_9066_784f437c194arow2_col1\" class=\"data row2 col1\" >-0.855056</td>\n",
       "            </tr>\n",
       "            <tr>\n",
       "                                <td id=\"T_1b261b24_3349_11ed_9066_784f437c194arow3_col0\" class=\"data row3 col0\" >firstorder_RootMeanSquared</td>\n",
       "                        <td id=\"T_1b261b24_3349_11ed_9066_784f437c194arow3_col1\" class=\"data row3 col1\" >-0.443977</td>\n",
       "            </tr>\n",
       "            <tr>\n",
       "                                <td id=\"T_1b261b24_3349_11ed_9066_784f437c194arow4_col0\" class=\"data row4 col0\" >firstorder_Minimum</td>\n",
       "                        <td id=\"T_1b261b24_3349_11ed_9066_784f437c194arow4_col1\" class=\"data row4 col1\" >-0.270161</td>\n",
       "            </tr>\n",
       "    </tbody></table>"
      ],
      "text/plain": [
       "<pandas.io.formats.style.Styler at 0x7fa13c2b56d8>"
      ]
     },
     "metadata": {},
     "output_type": "display_data"
    },
    {
     "name": "stdout",
     "output_type": "stream",
     "text": [
      "\n",
      "\n",
      "shape|firstorder|histogram\n"
     ]
    },
    {
     "data": {
      "text/html": [
       "<style  type=\"text/css\" >\n",
       "</style><table id=\"T_1b2761e6_3349_11ed_902b_784f437c194a\" ><thead>    <tr>        <th class=\"col_heading level0 col0\" >Feature</th>        <th class=\"col_heading level0 col1\" >Coef</th>    </tr></thead><tbody>\n",
       "                <tr>\n",
       "                                <td id=\"T_1b2761e6_3349_11ed_902b_784f437c194arow0_col0\" class=\"data row0 col0\" >firstorder_90Percentile</td>\n",
       "                        <td id=\"T_1b2761e6_3349_11ed_902b_784f437c194arow0_col1\" class=\"data row0 col1\" >-2.150568</td>\n",
       "            </tr>\n",
       "            <tr>\n",
       "                                <td id=\"T_1b2761e6_3349_11ed_902b_784f437c194arow1_col0\" class=\"data row1 col0\" >firstorder_InterquartileRange</td>\n",
       "                        <td id=\"T_1b2761e6_3349_11ed_902b_784f437c194arow1_col1\" class=\"data row1 col1\" >1.394340</td>\n",
       "            </tr>\n",
       "            <tr>\n",
       "                                <td id=\"T_1b2761e6_3349_11ed_902b_784f437c194arow2_col0\" class=\"data row2 col0\" >firstorder_Maximum</td>\n",
       "                        <td id=\"T_1b2761e6_3349_11ed_902b_784f437c194arow2_col1\" class=\"data row2 col1\" >1.331364</td>\n",
       "            </tr>\n",
       "            <tr>\n",
       "                                <td id=\"T_1b2761e6_3349_11ed_902b_784f437c194arow3_col0\" class=\"data row3 col0\" >shape_MeshVolume</td>\n",
       "                        <td id=\"T_1b2761e6_3349_11ed_902b_784f437c194arow3_col1\" class=\"data row3 col1\" >0.842799</td>\n",
       "            </tr>\n",
       "            <tr>\n",
       "                                <td id=\"T_1b2761e6_3349_11ed_902b_784f437c194arow4_col0\" class=\"data row4 col0\" >firstorder_Kurtosis</td>\n",
       "                        <td id=\"T_1b2761e6_3349_11ed_902b_784f437c194arow4_col1\" class=\"data row4 col1\" >-0.718137</td>\n",
       "            </tr>\n",
       "            <tr>\n",
       "                                <td id=\"T_1b2761e6_3349_11ed_902b_784f437c194arow5_col0\" class=\"data row5 col0\" >shape_Elongation</td>\n",
       "                        <td id=\"T_1b2761e6_3349_11ed_902b_784f437c194arow5_col1\" class=\"data row5 col1\" >-0.550387</td>\n",
       "            </tr>\n",
       "            <tr>\n",
       "                                <td id=\"T_1b2761e6_3349_11ed_902b_784f437c194arow6_col0\" class=\"data row6 col0\" >shape_Flatness</td>\n",
       "                        <td id=\"T_1b2761e6_3349_11ed_902b_784f437c194arow6_col1\" class=\"data row6 col1\" >0.536192</td>\n",
       "            </tr>\n",
       "            <tr>\n",
       "                                <td id=\"T_1b2761e6_3349_11ed_902b_784f437c194arow7_col0\" class=\"data row7 col0\" >shape_Sphericity</td>\n",
       "                        <td id=\"T_1b2761e6_3349_11ed_902b_784f437c194arow7_col1\" class=\"data row7 col1\" >-0.298825</td>\n",
       "            </tr>\n",
       "            <tr>\n",
       "                                <td id=\"T_1b2761e6_3349_11ed_902b_784f437c194arow8_col0\" class=\"data row8 col0\" >firstorder_RootMeanSquared</td>\n",
       "                        <td id=\"T_1b2761e6_3349_11ed_902b_784f437c194arow8_col1\" class=\"data row8 col1\" >-0.271895</td>\n",
       "            </tr>\n",
       "    </tbody></table>"
      ],
      "text/plain": [
       "<pandas.io.formats.style.Styler at 0x7fa144692cc0>"
      ]
     },
     "metadata": {},
     "output_type": "display_data"
    },
    {
     "name": "stdout",
     "output_type": "stream",
     "text": [
      "\n",
      "\n",
      "shape|firstorder|histogram\n"
     ]
    },
    {
     "data": {
      "text/html": [
       "<style  type=\"text/css\" >\n",
       "</style><table id=\"T_1b286a14_3349_11ed_b5d2_784f437c194a\" ><thead>    <tr>        <th class=\"col_heading level0 col0\" >Feature</th>        <th class=\"col_heading level0 col1\" >Coef</th>    </tr></thead><tbody>\n",
       "                <tr>\n",
       "                                <td id=\"T_1b286a14_3349_11ed_b5d2_784f437c194arow0_col0\" class=\"data row0 col0\" >firstorder_90Percentile</td>\n",
       "                        <td id=\"T_1b286a14_3349_11ed_b5d2_784f437c194arow0_col1\" class=\"data row0 col1\" >-1.470542</td>\n",
       "            </tr>\n",
       "            <tr>\n",
       "                                <td id=\"T_1b286a14_3349_11ed_b5d2_784f437c194arow1_col0\" class=\"data row1 col0\" >firstorder_InterquartileRange</td>\n",
       "                        <td id=\"T_1b286a14_3349_11ed_b5d2_784f437c194arow1_col1\" class=\"data row1 col1\" >0.937923</td>\n",
       "            </tr>\n",
       "            <tr>\n",
       "                                <td id=\"T_1b286a14_3349_11ed_b5d2_784f437c194arow2_col0\" class=\"data row2 col0\" >firstorder_Maximum</td>\n",
       "                        <td id=\"T_1b286a14_3349_11ed_b5d2_784f437c194arow2_col1\" class=\"data row2 col1\" >0.826588</td>\n",
       "            </tr>\n",
       "            <tr>\n",
       "                                <td id=\"T_1b286a14_3349_11ed_b5d2_784f437c194arow3_col0\" class=\"data row3 col0\" >shape_MeshVolume</td>\n",
       "                        <td id=\"T_1b286a14_3349_11ed_b5d2_784f437c194arow3_col1\" class=\"data row3 col1\" >0.578037</td>\n",
       "            </tr>\n",
       "            <tr>\n",
       "                                <td id=\"T_1b286a14_3349_11ed_b5d2_784f437c194arow4_col0\" class=\"data row4 col0\" >firstorder_Kurtosis</td>\n",
       "                        <td id=\"T_1b286a14_3349_11ed_b5d2_784f437c194arow4_col1\" class=\"data row4 col1\" >-0.360732</td>\n",
       "            </tr>\n",
       "            <tr>\n",
       "                                <td id=\"T_1b286a14_3349_11ed_b5d2_784f437c194arow5_col0\" class=\"data row5 col0\" >shape_Elongation</td>\n",
       "                        <td id=\"T_1b286a14_3349_11ed_b5d2_784f437c194arow5_col1\" class=\"data row5 col1\" >-0.347937</td>\n",
       "            </tr>\n",
       "            <tr>\n",
       "                                <td id=\"T_1b286a14_3349_11ed_b5d2_784f437c194arow6_col0\" class=\"data row6 col0\" >shape_Sphericity</td>\n",
       "                        <td id=\"T_1b286a14_3349_11ed_b5d2_784f437c194arow6_col1\" class=\"data row6 col1\" >-0.310679</td>\n",
       "            </tr>\n",
       "            <tr>\n",
       "                                <td id=\"T_1b286a14_3349_11ed_b5d2_784f437c194arow7_col0\" class=\"data row7 col0\" >firstorder_RootMeanSquared</td>\n",
       "                        <td id=\"T_1b286a14_3349_11ed_b5d2_784f437c194arow7_col1\" class=\"data row7 col1\" >-0.173310</td>\n",
       "            </tr>\n",
       "            <tr>\n",
       "                                <td id=\"T_1b286a14_3349_11ed_b5d2_784f437c194arow8_col0\" class=\"data row8 col0\" >shape_Flatness</td>\n",
       "                        <td id=\"T_1b286a14_3349_11ed_b5d2_784f437c194arow8_col1\" class=\"data row8 col1\" >0.154743</td>\n",
       "            </tr>\n",
       "    </tbody></table>"
      ],
      "text/plain": [
       "<pandas.io.formats.style.Styler at 0x7fa13f2cf160>"
      ]
     },
     "metadata": {},
     "output_type": "display_data"
    },
    {
     "name": "stdout",
     "output_type": "stream",
     "text": [
      "\n",
      "\n",
      "\n"
     ]
    },
    {
     "data": {
      "text/html": [
       "<style  type=\"text/css\" >\n",
       "</style><table id=\"T_1b297d00_3349_11ed_a8a7_784f437c194a\" ><thead>    <tr>        <th class=\"col_heading level0 col0\" >Feature</th>        <th class=\"col_heading level0 col1\" >Coef</th>    </tr></thead><tbody>\n",
       "                <tr>\n",
       "                                <td id=\"T_1b297d00_3349_11ed_a8a7_784f437c194arow0_col0\" class=\"data row0 col0\" >firstorder_90Percentile</td>\n",
       "                        <td id=\"T_1b297d00_3349_11ed_a8a7_784f437c194arow0_col1\" class=\"data row0 col1\" >-1.310707</td>\n",
       "            </tr>\n",
       "            <tr>\n",
       "                                <td id=\"T_1b297d00_3349_11ed_a8a7_784f437c194arow1_col0\" class=\"data row1 col0\" >glszm_ZoneEntropy</td>\n",
       "                        <td id=\"T_1b297d00_3349_11ed_a8a7_784f437c194arow1_col1\" class=\"data row1 col1\" >0.628922</td>\n",
       "            </tr>\n",
       "            <tr>\n",
       "                                <td id=\"T_1b297d00_3349_11ed_a8a7_784f437c194arow2_col0\" class=\"data row2 col0\" >firstorder_InterquartileRange</td>\n",
       "                        <td id=\"T_1b297d00_3349_11ed_a8a7_784f437c194arow2_col1\" class=\"data row2 col1\" >0.384373</td>\n",
       "            </tr>\n",
       "            <tr>\n",
       "                                <td id=\"T_1b297d00_3349_11ed_a8a7_784f437c194arow3_col0\" class=\"data row3 col0\" >firstorder_RootMeanSquared</td>\n",
       "                        <td id=\"T_1b297d00_3349_11ed_a8a7_784f437c194arow3_col1\" class=\"data row3 col1\" >-0.374150</td>\n",
       "            </tr>\n",
       "            <tr>\n",
       "                                <td id=\"T_1b297d00_3349_11ed_a8a7_784f437c194arow4_col0\" class=\"data row4 col0\" >shape_MeshVolume</td>\n",
       "                        <td id=\"T_1b297d00_3349_11ed_a8a7_784f437c194arow4_col1\" class=\"data row4 col1\" >0.340685</td>\n",
       "            </tr>\n",
       "            <tr>\n",
       "                                <td id=\"T_1b297d00_3349_11ed_a8a7_784f437c194arow5_col0\" class=\"data row5 col0\" >glszm_SmallAreaEmphasis</td>\n",
       "                        <td id=\"T_1b297d00_3349_11ed_a8a7_784f437c194arow5_col1\" class=\"data row5 col1\" >0.339836</td>\n",
       "            </tr>\n",
       "            <tr>\n",
       "                                <td id=\"T_1b297d00_3349_11ed_a8a7_784f437c194arow6_col0\" class=\"data row6 col0\" >firstorder_Maximum</td>\n",
       "                        <td id=\"T_1b297d00_3349_11ed_a8a7_784f437c194arow6_col1\" class=\"data row6 col1\" >0.323286</td>\n",
       "            </tr>\n",
       "            <tr>\n",
       "                                <td id=\"T_1b297d00_3349_11ed_a8a7_784f437c194arow7_col0\" class=\"data row7 col0\" >ngtdm_Strength</td>\n",
       "                        <td id=\"T_1b297d00_3349_11ed_a8a7_784f437c194arow7_col1\" class=\"data row7 col1\" >-0.224001</td>\n",
       "            </tr>\n",
       "            <tr>\n",
       "                                <td id=\"T_1b297d00_3349_11ed_a8a7_784f437c194arow8_col0\" class=\"data row8 col0\" >shape_Sphericity</td>\n",
       "                        <td id=\"T_1b297d00_3349_11ed_a8a7_784f437c194arow8_col1\" class=\"data row8 col1\" >-0.213020</td>\n",
       "            </tr>\n",
       "            <tr>\n",
       "                                <td id=\"T_1b297d00_3349_11ed_a8a7_784f437c194arow9_col0\" class=\"data row9 col0\" >shape_Elongation</td>\n",
       "                        <td id=\"T_1b297d00_3349_11ed_a8a7_784f437c194arow9_col1\" class=\"data row9 col1\" >-0.195282</td>\n",
       "            </tr>\n",
       "    </tbody></table>"
      ],
      "text/plain": [
       "<pandas.io.formats.style.Styler at 0x7fa13f2db898>"
      ]
     },
     "metadata": {},
     "output_type": "display_data"
    },
    {
     "name": "stdout",
     "output_type": "stream",
     "text": [
      "\n",
      "\n",
      "\n"
     ]
    },
    {
     "data": {
      "text/html": [
       "<style  type=\"text/css\" >\n",
       "</style><table id=\"T_1b2ab576_3349_11ed_b1fc_784f437c194a\" ><thead>    <tr>        <th class=\"col_heading level0 col0\" >Feature</th>        <th class=\"col_heading level0 col1\" >Coef</th>    </tr></thead><tbody>\n",
       "                <tr>\n",
       "                                <td id=\"T_1b2ab576_3349_11ed_b1fc_784f437c194arow0_col0\" class=\"data row0 col0\" >firstorder_90Percentile</td>\n",
       "                        <td id=\"T_1b2ab576_3349_11ed_b1fc_784f437c194arow0_col1\" class=\"data row0 col1\" >-1.333206</td>\n",
       "            </tr>\n",
       "            <tr>\n",
       "                                <td id=\"T_1b2ab576_3349_11ed_b1fc_784f437c194arow1_col0\" class=\"data row1 col0\" >glszm_ZoneEntropy</td>\n",
       "                        <td id=\"T_1b2ab576_3349_11ed_b1fc_784f437c194arow1_col1\" class=\"data row1 col1\" >0.592390</td>\n",
       "            </tr>\n",
       "            <tr>\n",
       "                                <td id=\"T_1b2ab576_3349_11ed_b1fc_784f437c194arow2_col0\" class=\"data row2 col0\" >glszm_SmallAreaEmphasis</td>\n",
       "                        <td id=\"T_1b2ab576_3349_11ed_b1fc_784f437c194arow2_col1\" class=\"data row2 col1\" >0.526903</td>\n",
       "            </tr>\n",
       "            <tr>\n",
       "                                <td id=\"T_1b2ab576_3349_11ed_b1fc_784f437c194arow3_col0\" class=\"data row3 col0\" >firstorder_Maximum</td>\n",
       "                        <td id=\"T_1b2ab576_3349_11ed_b1fc_784f437c194arow3_col1\" class=\"data row3 col1\" >0.389537</td>\n",
       "            </tr>\n",
       "            <tr>\n",
       "                                <td id=\"T_1b2ab576_3349_11ed_b1fc_784f437c194arow4_col0\" class=\"data row4 col0\" >firstorder_RootMeanSquared</td>\n",
       "                        <td id=\"T_1b2ab576_3349_11ed_b1fc_784f437c194arow4_col1\" class=\"data row4 col1\" >-0.350899</td>\n",
       "            </tr>\n",
       "            <tr>\n",
       "                                <td id=\"T_1b2ab576_3349_11ed_b1fc_784f437c194arow5_col0\" class=\"data row5 col0\" >firstorder_InterquartileRange</td>\n",
       "                        <td id=\"T_1b2ab576_3349_11ed_b1fc_784f437c194arow5_col1\" class=\"data row5 col1\" >0.333377</td>\n",
       "            </tr>\n",
       "            <tr>\n",
       "                                <td id=\"T_1b2ab576_3349_11ed_b1fc_784f437c194arow6_col0\" class=\"data row6 col0\" >shape_Sphericity</td>\n",
       "                        <td id=\"T_1b2ab576_3349_11ed_b1fc_784f437c194arow6_col1\" class=\"data row6 col1\" >-0.264061</td>\n",
       "            </tr>\n",
       "            <tr>\n",
       "                                <td id=\"T_1b2ab576_3349_11ed_b1fc_784f437c194arow7_col0\" class=\"data row7 col0\" >shape_MeshVolume</td>\n",
       "                        <td id=\"T_1b2ab576_3349_11ed_b1fc_784f437c194arow7_col1\" class=\"data row7 col1\" >0.250278</td>\n",
       "            </tr>\n",
       "            <tr>\n",
       "                                <td id=\"T_1b2ab576_3349_11ed_b1fc_784f437c194arow8_col0\" class=\"data row8 col0\" >shape_Elongation</td>\n",
       "                        <td id=\"T_1b2ab576_3349_11ed_b1fc_784f437c194arow8_col1\" class=\"data row8 col1\" >-0.243090</td>\n",
       "            </tr>\n",
       "            <tr>\n",
       "                                <td id=\"T_1b2ab576_3349_11ed_b1fc_784f437c194arow9_col0\" class=\"data row9 col0\" >ngtdm_Strength</td>\n",
       "                        <td id=\"T_1b2ab576_3349_11ed_b1fc_784f437c194arow9_col1\" class=\"data row9 col1\" >-0.211065</td>\n",
       "            </tr>\n",
       "            <tr>\n",
       "                                <td id=\"T_1b2ab576_3349_11ed_b1fc_784f437c194arow10_col0\" class=\"data row10 col0\" >glszm_LargeAreaLowGrayLevelEmphasis</td>\n",
       "                        <td id=\"T_1b2ab576_3349_11ed_b1fc_784f437c194arow10_col1\" class=\"data row10 col1\" >0.033872</td>\n",
       "            </tr>\n",
       "    </tbody></table>"
      ],
      "text/plain": [
       "<pandas.io.formats.style.Styler at 0x7fa13f2db160>"
      ]
     },
     "metadata": {},
     "output_type": "display_data"
    },
    {
     "name": "stdout",
     "output_type": "stream",
     "text": [
      "\n",
      "\n",
      "\n"
     ]
    },
    {
     "data": {
      "text/html": [
       "<style  type=\"text/css\" >\n",
       "</style><table id=\"T_1b2bdf78_3349_11ed_9ba4_784f437c194a\" ><thead>    <tr>        <th class=\"col_heading level0 col0\" >Feature</th>        <th class=\"col_heading level0 col1\" >Coef</th>    </tr></thead><tbody>\n",
       "                <tr>\n",
       "                                <td id=\"T_1b2bdf78_3349_11ed_9ba4_784f437c194arow0_col0\" class=\"data row0 col0\" >firstorder_90Percentile</td>\n",
       "                        <td id=\"T_1b2bdf78_3349_11ed_9ba4_784f437c194arow0_col1\" class=\"data row0 col1\" >-1.114508</td>\n",
       "            </tr>\n",
       "            <tr>\n",
       "                                <td id=\"T_1b2bdf78_3349_11ed_9ba4_784f437c194arow1_col0\" class=\"data row1 col0\" >firstorder_InterquartileRange</td>\n",
       "                        <td id=\"T_1b2bdf78_3349_11ed_9ba4_784f437c194arow1_col1\" class=\"data row1 col1\" >0.657112</td>\n",
       "            </tr>\n",
       "            <tr>\n",
       "                                <td id=\"T_1b2bdf78_3349_11ed_9ba4_784f437c194arow2_col0\" class=\"data row2 col0\" >shape_MeshVolume</td>\n",
       "                        <td id=\"T_1b2bdf78_3349_11ed_9ba4_784f437c194arow2_col1\" class=\"data row2 col1\" >0.499499</td>\n",
       "            </tr>\n",
       "            <tr>\n",
       "                                <td id=\"T_1b2bdf78_3349_11ed_9ba4_784f437c194arow3_col0\" class=\"data row3 col0\" >firstorder_Maximum</td>\n",
       "                        <td id=\"T_1b2bdf78_3349_11ed_9ba4_784f437c194arow3_col1\" class=\"data row3 col1\" >0.386625</td>\n",
       "            </tr>\n",
       "            <tr>\n",
       "                                <td id=\"T_1b2bdf78_3349_11ed_9ba4_784f437c194arow4_col0\" class=\"data row4 col0\" >shape_Sphericity</td>\n",
       "                        <td id=\"T_1b2bdf78_3349_11ed_9ba4_784f437c194arow4_col1\" class=\"data row4 col1\" >-0.359315</td>\n",
       "            </tr>\n",
       "            <tr>\n",
       "                                <td id=\"T_1b2bdf78_3349_11ed_9ba4_784f437c194arow5_col0\" class=\"data row5 col0\" >glszm_SmallAreaEmphasis</td>\n",
       "                        <td id=\"T_1b2bdf78_3349_11ed_9ba4_784f437c194arow5_col1\" class=\"data row5 col1\" >0.296120</td>\n",
       "            </tr>\n",
       "            <tr>\n",
       "                                <td id=\"T_1b2bdf78_3349_11ed_9ba4_784f437c194arow6_col0\" class=\"data row6 col0\" >ngtdm_Strength</td>\n",
       "                        <td id=\"T_1b2bdf78_3349_11ed_9ba4_784f437c194arow6_col1\" class=\"data row6 col1\" >-0.217365</td>\n",
       "            </tr>\n",
       "            <tr>\n",
       "                                <td id=\"T_1b2bdf78_3349_11ed_9ba4_784f437c194arow7_col0\" class=\"data row7 col0\" >gldm_DependenceNonUniformityNormalized</td>\n",
       "                        <td id=\"T_1b2bdf78_3349_11ed_9ba4_784f437c194arow7_col1\" class=\"data row7 col1\" >-0.190230</td>\n",
       "            </tr>\n",
       "            <tr>\n",
       "                                <td id=\"T_1b2bdf78_3349_11ed_9ba4_784f437c194arow8_col0\" class=\"data row8 col0\" >shape_Elongation</td>\n",
       "                        <td id=\"T_1b2bdf78_3349_11ed_9ba4_784f437c194arow8_col1\" class=\"data row8 col1\" >-0.145212</td>\n",
       "            </tr>\n",
       "            <tr>\n",
       "                                <td id=\"T_1b2bdf78_3349_11ed_9ba4_784f437c194arow9_col0\" class=\"data row9 col0\" >firstorder_Range</td>\n",
       "                        <td id=\"T_1b2bdf78_3349_11ed_9ba4_784f437c194arow9_col1\" class=\"data row9 col1\" >0.081394</td>\n",
       "            </tr>\n",
       "    </tbody></table>"
      ],
      "text/plain": [
       "<pandas.io.formats.style.Styler at 0x7fa13f3b4e80>"
      ]
     },
     "metadata": {},
     "output_type": "display_data"
    },
    {
     "name": "stdout",
     "output_type": "stream",
     "text": [
      "\n",
      "\n",
      "shape|firstorder|histogram\n"
     ]
    },
    {
     "data": {
      "text/html": [
       "<style  type=\"text/css\" >\n",
       "</style><table id=\"T_1b2d3012_3349_11ed_8a4e_784f437c194a\" ><thead>    <tr>        <th class=\"col_heading level0 col0\" >Feature</th>        <th class=\"col_heading level0 col1\" >Coef</th>    </tr></thead><tbody>\n",
       "                <tr>\n",
       "                                <td id=\"T_1b2d3012_3349_11ed_8a4e_784f437c194arow0_col0\" class=\"data row0 col0\" >firstorder_90Percentile</td>\n",
       "                        <td id=\"T_1b2d3012_3349_11ed_8a4e_784f437c194arow0_col1\" class=\"data row0 col1\" >-1.516990</td>\n",
       "            </tr>\n",
       "            <tr>\n",
       "                                <td id=\"T_1b2d3012_3349_11ed_8a4e_784f437c194arow1_col0\" class=\"data row1 col0\" >firstorder_InterquartileRange</td>\n",
       "                        <td id=\"T_1b2d3012_3349_11ed_8a4e_784f437c194arow1_col1\" class=\"data row1 col1\" >1.025107</td>\n",
       "            </tr>\n",
       "            <tr>\n",
       "                                <td id=\"T_1b2d3012_3349_11ed_8a4e_784f437c194arow2_col0\" class=\"data row2 col0\" >firstorder_Maximum</td>\n",
       "                        <td id=\"T_1b2d3012_3349_11ed_8a4e_784f437c194arow2_col1\" class=\"data row2 col1\" >0.801935</td>\n",
       "            </tr>\n",
       "            <tr>\n",
       "                                <td id=\"T_1b2d3012_3349_11ed_8a4e_784f437c194arow3_col0\" class=\"data row3 col0\" >shape_MeshVolume</td>\n",
       "                        <td id=\"T_1b2d3012_3349_11ed_8a4e_784f437c194arow3_col1\" class=\"data row3 col1\" >0.546456</td>\n",
       "            </tr>\n",
       "            <tr>\n",
       "                                <td id=\"T_1b2d3012_3349_11ed_8a4e_784f437c194arow4_col0\" class=\"data row4 col0\" >firstorder_Kurtosis</td>\n",
       "                        <td id=\"T_1b2d3012_3349_11ed_8a4e_784f437c194arow4_col1\" class=\"data row4 col1\" >-0.386734</td>\n",
       "            </tr>\n",
       "            <tr>\n",
       "                                <td id=\"T_1b2d3012_3349_11ed_8a4e_784f437c194arow5_col0\" class=\"data row5 col0\" >firstorder_RootMeanSquared</td>\n",
       "                        <td id=\"T_1b2d3012_3349_11ed_8a4e_784f437c194arow5_col1\" class=\"data row5 col1\" >-0.211358</td>\n",
       "            </tr>\n",
       "            <tr>\n",
       "                                <td id=\"T_1b2d3012_3349_11ed_8a4e_784f437c194arow6_col0\" class=\"data row6 col0\" >shape_Elongation</td>\n",
       "                        <td id=\"T_1b2d3012_3349_11ed_8a4e_784f437c194arow6_col1\" class=\"data row6 col1\" >-0.160678</td>\n",
       "            </tr>\n",
       "            <tr>\n",
       "                                <td id=\"T_1b2d3012_3349_11ed_8a4e_784f437c194arow7_col0\" class=\"data row7 col0\" >shape_Sphericity</td>\n",
       "                        <td id=\"T_1b2d3012_3349_11ed_8a4e_784f437c194arow7_col1\" class=\"data row7 col1\" >-0.148437</td>\n",
       "            </tr>\n",
       "            <tr>\n",
       "                                <td id=\"T_1b2d3012_3349_11ed_8a4e_784f437c194arow8_col0\" class=\"data row8 col0\" >firstorder_Skewness</td>\n",
       "                        <td id=\"T_1b2d3012_3349_11ed_8a4e_784f437c194arow8_col1\" class=\"data row8 col1\" >0.002267</td>\n",
       "            </tr>\n",
       "            <tr>\n",
       "                                <td id=\"T_1b2d3012_3349_11ed_8a4e_784f437c194arow9_col0\" class=\"data row9 col0\" >shape_Flatness</td>\n",
       "                        <td id=\"T_1b2d3012_3349_11ed_8a4e_784f437c194arow9_col1\" class=\"data row9 col1\" >0.000485</td>\n",
       "            </tr>\n",
       "    </tbody></table>"
      ],
      "text/plain": [
       "<pandas.io.formats.style.Styler at 0x7fa13c2b56d8>"
      ]
     },
     "metadata": {},
     "output_type": "display_data"
    },
    {
     "name": "stdout",
     "output_type": "stream",
     "text": [
      "\n",
      "\n",
      "firstorder|histogram|glcm|gldm|glszm|glrlm|ngtdm\n"
     ]
    },
    {
     "data": {
      "text/html": [
       "<style  type=\"text/css\" >\n",
       "</style><table id=\"T_1b2e553a_3349_11ed_a7b5_784f437c194a\" ><thead>    <tr>        <th class=\"col_heading level0 col0\" >Feature</th>        <th class=\"col_heading level0 col1\" >Coef</th>    </tr></thead><tbody>\n",
       "                <tr>\n",
       "                                <td id=\"T_1b2e553a_3349_11ed_a7b5_784f437c194arow0_col0\" class=\"data row0 col0\" >firstorder_90Percentile</td>\n",
       "                        <td id=\"T_1b2e553a_3349_11ed_a7b5_784f437c194arow0_col1\" class=\"data row0 col1\" >-1.533489</td>\n",
       "            </tr>\n",
       "            <tr>\n",
       "                                <td id=\"T_1b2e553a_3349_11ed_a7b5_784f437c194arow1_col0\" class=\"data row1 col0\" >glszm_ZoneEntropy</td>\n",
       "                        <td id=\"T_1b2e553a_3349_11ed_a7b5_784f437c194arow1_col1\" class=\"data row1 col1\" >0.850149</td>\n",
       "            </tr>\n",
       "            <tr>\n",
       "                                <td id=\"T_1b2e553a_3349_11ed_a7b5_784f437c194arow2_col0\" class=\"data row2 col0\" >glszm_SizeZoneNonUniformityNormalized</td>\n",
       "                        <td id=\"T_1b2e553a_3349_11ed_a7b5_784f437c194arow2_col1\" class=\"data row2 col1\" >0.569747</td>\n",
       "            </tr>\n",
       "            <tr>\n",
       "                                <td id=\"T_1b2e553a_3349_11ed_a7b5_784f437c194arow3_col0\" class=\"data row3 col0\" >firstorder_InterquartileRange</td>\n",
       "                        <td id=\"T_1b2e553a_3349_11ed_a7b5_784f437c194arow3_col1\" class=\"data row3 col1\" >0.328639</td>\n",
       "            </tr>\n",
       "            <tr>\n",
       "                                <td id=\"T_1b2e553a_3349_11ed_a7b5_784f437c194arow4_col0\" class=\"data row4 col0\" >ngtdm_Strength</td>\n",
       "                        <td id=\"T_1b2e553a_3349_11ed_a7b5_784f437c194arow4_col1\" class=\"data row4 col1\" >-0.284470</td>\n",
       "            </tr>\n",
       "            <tr>\n",
       "                                <td id=\"T_1b2e553a_3349_11ed_a7b5_784f437c194arow5_col0\" class=\"data row5 col0\" >firstorder_Range</td>\n",
       "                        <td id=\"T_1b2e553a_3349_11ed_a7b5_784f437c194arow5_col1\" class=\"data row5 col1\" >0.269055</td>\n",
       "            </tr>\n",
       "            <tr>\n",
       "                                <td id=\"T_1b2e553a_3349_11ed_a7b5_784f437c194arow6_col0\" class=\"data row6 col0\" >firstorder_Maximum</td>\n",
       "                        <td id=\"T_1b2e553a_3349_11ed_a7b5_784f437c194arow6_col1\" class=\"data row6 col1\" >0.239411</td>\n",
       "            </tr>\n",
       "            <tr>\n",
       "                                <td id=\"T_1b2e553a_3349_11ed_a7b5_784f437c194arow7_col0\" class=\"data row7 col0\" >firstorder_RootMeanSquared</td>\n",
       "                        <td id=\"T_1b2e553a_3349_11ed_a7b5_784f437c194arow7_col1\" class=\"data row7 col1\" >-0.197715</td>\n",
       "            </tr>\n",
       "            <tr>\n",
       "                                <td id=\"T_1b2e553a_3349_11ed_a7b5_784f437c194arow8_col0\" class=\"data row8 col0\" >gldm_DependenceNonUniformityNormalized</td>\n",
       "                        <td id=\"T_1b2e553a_3349_11ed_a7b5_784f437c194arow8_col1\" class=\"data row8 col1\" >-0.007727</td>\n",
       "            </tr>\n",
       "    </tbody></table>"
      ],
      "text/plain": [
       "<pandas.io.formats.style.Styler at 0x7fa13f2e7588>"
      ]
     },
     "metadata": {},
     "output_type": "display_data"
    },
    {
     "name": "stdout",
     "output_type": "stream",
     "text": [
      "\n",
      "\n",
      "shape|firstorder|histogram\n"
     ]
    },
    {
     "data": {
      "text/html": [
       "<style  type=\"text/css\" >\n",
       "</style><table id=\"T_1b2fb346_3349_11ed_a23c_784f437c194a\" ><thead>    <tr>        <th class=\"col_heading level0 col0\" >Feature</th>        <th class=\"col_heading level0 col1\" >Coef</th>    </tr></thead><tbody>\n",
       "                <tr>\n",
       "                                <td id=\"T_1b2fb346_3349_11ed_a23c_784f437c194arow0_col0\" class=\"data row0 col0\" >firstorder_90Percentile</td>\n",
       "                        <td id=\"T_1b2fb346_3349_11ed_a23c_784f437c194arow0_col1\" class=\"data row0 col1\" >-1.210783</td>\n",
       "            </tr>\n",
       "            <tr>\n",
       "                                <td id=\"T_1b2fb346_3349_11ed_a23c_784f437c194arow1_col0\" class=\"data row1 col0\" >firstorder_InterquartileRange</td>\n",
       "                        <td id=\"T_1b2fb346_3349_11ed_a23c_784f437c194arow1_col1\" class=\"data row1 col1\" >0.823774</td>\n",
       "            </tr>\n",
       "            <tr>\n",
       "                                <td id=\"T_1b2fb346_3349_11ed_a23c_784f437c194arow2_col0\" class=\"data row2 col0\" >firstorder_Maximum</td>\n",
       "                        <td id=\"T_1b2fb346_3349_11ed_a23c_784f437c194arow2_col1\" class=\"data row2 col1\" >0.531620</td>\n",
       "            </tr>\n",
       "            <tr>\n",
       "                                <td id=\"T_1b2fb346_3349_11ed_a23c_784f437c194arow3_col0\" class=\"data row3 col0\" >shape_MeshVolume</td>\n",
       "                        <td id=\"T_1b2fb346_3349_11ed_a23c_784f437c194arow3_col1\" class=\"data row3 col1\" >0.422659</td>\n",
       "            </tr>\n",
       "            <tr>\n",
       "                                <td id=\"T_1b2fb346_3349_11ed_a23c_784f437c194arow4_col0\" class=\"data row4 col0\" >firstorder_RootMeanSquared</td>\n",
       "                        <td id=\"T_1b2fb346_3349_11ed_a23c_784f437c194arow4_col1\" class=\"data row4 col1\" >-0.348356</td>\n",
       "            </tr>\n",
       "            <tr>\n",
       "                                <td id=\"T_1b2fb346_3349_11ed_a23c_784f437c194arow5_col0\" class=\"data row5 col0\" >shape_Sphericity</td>\n",
       "                        <td id=\"T_1b2fb346_3349_11ed_a23c_784f437c194arow5_col1\" class=\"data row5 col1\" >-0.307502</td>\n",
       "            </tr>\n",
       "            <tr>\n",
       "                                <td id=\"T_1b2fb346_3349_11ed_a23c_784f437c194arow6_col0\" class=\"data row6 col0\" >firstorder_Kurtosis</td>\n",
       "                        <td id=\"T_1b2fb346_3349_11ed_a23c_784f437c194arow6_col1\" class=\"data row6 col1\" >-0.190808</td>\n",
       "            </tr>\n",
       "            <tr>\n",
       "                                <td id=\"T_1b2fb346_3349_11ed_a23c_784f437c194arow7_col0\" class=\"data row7 col0\" >shape_Elongation</td>\n",
       "                        <td id=\"T_1b2fb346_3349_11ed_a23c_784f437c194arow7_col1\" class=\"data row7 col1\" >-0.127724</td>\n",
       "            </tr>\n",
       "    </tbody></table>"
      ],
      "text/plain": [
       "<pandas.io.formats.style.Styler at 0x7fa13f2e79b0>"
      ]
     },
     "metadata": {},
     "output_type": "display_data"
    },
    {
     "name": "stdout",
     "output_type": "stream",
     "text": [
      "\n",
      "\n",
      "\n"
     ]
    },
    {
     "data": {
      "text/html": [
       "<style  type=\"text/css\" >\n",
       "</style><table id=\"T_1b30c646_3349_11ed_b4df_784f437c194a\" ><thead>    <tr>        <th class=\"col_heading level0 col0\" >Feature</th>        <th class=\"col_heading level0 col1\" >Coef</th>    </tr></thead><tbody>\n",
       "                <tr>\n",
       "                                <td id=\"T_1b30c646_3349_11ed_b4df_784f437c194arow0_col0\" class=\"data row0 col0\" >firstorder_90Percentile</td>\n",
       "                        <td id=\"T_1b30c646_3349_11ed_b4df_784f437c194arow0_col1\" class=\"data row0 col1\" >-1.106910</td>\n",
       "            </tr>\n",
       "            <tr>\n",
       "                                <td id=\"T_1b30c646_3349_11ed_b4df_784f437c194arow1_col0\" class=\"data row1 col0\" >glcm_Imc1</td>\n",
       "                        <td id=\"T_1b30c646_3349_11ed_b4df_784f437c194arow1_col1\" class=\"data row1 col1\" >-0.619435</td>\n",
       "            </tr>\n",
       "            <tr>\n",
       "                                <td id=\"T_1b30c646_3349_11ed_b4df_784f437c194arow2_col0\" class=\"data row2 col0\" >glszm_SmallAreaEmphasis</td>\n",
       "                        <td id=\"T_1b30c646_3349_11ed_b4df_784f437c194arow2_col1\" class=\"data row2 col1\" >0.484612</td>\n",
       "            </tr>\n",
       "            <tr>\n",
       "                                <td id=\"T_1b30c646_3349_11ed_b4df_784f437c194arow3_col0\" class=\"data row3 col0\" >firstorder_InterquartileRange</td>\n",
       "                        <td id=\"T_1b30c646_3349_11ed_b4df_784f437c194arow3_col1\" class=\"data row3 col1\" >0.452186</td>\n",
       "            </tr>\n",
       "            <tr>\n",
       "                                <td id=\"T_1b30c646_3349_11ed_b4df_784f437c194arow4_col0\" class=\"data row4 col0\" >firstorder_Maximum</td>\n",
       "                        <td id=\"T_1b30c646_3349_11ed_b4df_784f437c194arow4_col1\" class=\"data row4 col1\" >0.424951</td>\n",
       "            </tr>\n",
       "            <tr>\n",
       "                                <td id=\"T_1b30c646_3349_11ed_b4df_784f437c194arow5_col0\" class=\"data row5 col0\" >shape_Sphericity</td>\n",
       "                        <td id=\"T_1b30c646_3349_11ed_b4df_784f437c194arow5_col1\" class=\"data row5 col1\" >-0.420000</td>\n",
       "            </tr>\n",
       "            <tr>\n",
       "                                <td id=\"T_1b30c646_3349_11ed_b4df_784f437c194arow6_col0\" class=\"data row6 col0\" >shape_MeshVolume</td>\n",
       "                        <td id=\"T_1b30c646_3349_11ed_b4df_784f437c194arow6_col1\" class=\"data row6 col1\" >0.306347</td>\n",
       "            </tr>\n",
       "            <tr>\n",
       "                                <td id=\"T_1b30c646_3349_11ed_b4df_784f437c194arow7_col0\" class=\"data row7 col0\" >ngtdm_Strength</td>\n",
       "                        <td id=\"T_1b30c646_3349_11ed_b4df_784f437c194arow7_col1\" class=\"data row7 col1\" >-0.197029</td>\n",
       "            </tr>\n",
       "            <tr>\n",
       "                                <td id=\"T_1b30c646_3349_11ed_b4df_784f437c194arow8_col0\" class=\"data row8 col0\" >firstorder_RootMeanSquared</td>\n",
       "                        <td id=\"T_1b30c646_3349_11ed_b4df_784f437c194arow8_col1\" class=\"data row8 col1\" >-0.164787</td>\n",
       "            </tr>\n",
       "            <tr>\n",
       "                                <td id=\"T_1b30c646_3349_11ed_b4df_784f437c194arow9_col0\" class=\"data row9 col0\" >shape_Elongation</td>\n",
       "                        <td id=\"T_1b30c646_3349_11ed_b4df_784f437c194arow9_col1\" class=\"data row9 col1\" >-0.041672</td>\n",
       "            </tr>\n",
       "    </tbody></table>"
      ],
      "text/plain": [
       "<pandas.io.formats.style.Styler at 0x7fa13f36fa20>"
      ]
     },
     "metadata": {},
     "output_type": "display_data"
    },
    {
     "name": "stdout",
     "output_type": "stream",
     "text": [
      "\n",
      "\n",
      "shape|glcm|gldm|glszm|glrlm|ngtdm\n"
     ]
    },
    {
     "data": {
      "text/html": [
       "<style  type=\"text/css\" >\n",
       "</style><table id=\"T_1b3248a4_3349_11ed_9b44_784f437c194a\" ><thead>    <tr>        <th class=\"col_heading level0 col0\" >Feature</th>        <th class=\"col_heading level0 col1\" >Coef</th>    </tr></thead><tbody>\n",
       "                <tr>\n",
       "                                <td id=\"T_1b3248a4_3349_11ed_9b44_784f437c194arow0_col0\" class=\"data row0 col0\" >shape_MeshVolume</td>\n",
       "                        <td id=\"T_1b3248a4_3349_11ed_9b44_784f437c194arow0_col1\" class=\"data row0 col1\" >1.876171</td>\n",
       "            </tr>\n",
       "            <tr>\n",
       "                                <td id=\"T_1b3248a4_3349_11ed_9b44_784f437c194arow1_col0\" class=\"data row1 col0\" >glszm_ZoneEntropy</td>\n",
       "                        <td id=\"T_1b3248a4_3349_11ed_9b44_784f437c194arow1_col1\" class=\"data row1 col1\" >1.393346</td>\n",
       "            </tr>\n",
       "            <tr>\n",
       "                                <td id=\"T_1b3248a4_3349_11ed_9b44_784f437c194arow2_col0\" class=\"data row2 col0\" >glszm_SizeZoneNonUniformityNormalized</td>\n",
       "                        <td id=\"T_1b3248a4_3349_11ed_9b44_784f437c194arow2_col1\" class=\"data row2 col1\" >1.003135</td>\n",
       "            </tr>\n",
       "            <tr>\n",
       "                                <td id=\"T_1b3248a4_3349_11ed_9b44_784f437c194arow3_col0\" class=\"data row3 col0\" >shape_Sphericity</td>\n",
       "                        <td id=\"T_1b3248a4_3349_11ed_9b44_784f437c194arow3_col1\" class=\"data row3 col1\" >-0.763914</td>\n",
       "            </tr>\n",
       "            <tr>\n",
       "                                <td id=\"T_1b3248a4_3349_11ed_9b44_784f437c194arow4_col0\" class=\"data row4 col0\" >gldm_LowGrayLevelEmphasis</td>\n",
       "                        <td id=\"T_1b3248a4_3349_11ed_9b44_784f437c194arow4_col1\" class=\"data row4 col1\" >0.391282</td>\n",
       "            </tr>\n",
       "            <tr>\n",
       "                                <td id=\"T_1b3248a4_3349_11ed_9b44_784f437c194arow5_col0\" class=\"data row5 col0\" >shape_Elongation</td>\n",
       "                        <td id=\"T_1b3248a4_3349_11ed_9b44_784f437c194arow5_col1\" class=\"data row5 col1\" >-0.364312</td>\n",
       "            </tr>\n",
       "            <tr>\n",
       "                                <td id=\"T_1b3248a4_3349_11ed_9b44_784f437c194arow6_col0\" class=\"data row6 col0\" >glszm_LargeAreaLowGrayLevelEmphasis</td>\n",
       "                        <td id=\"T_1b3248a4_3349_11ed_9b44_784f437c194arow6_col1\" class=\"data row6 col1\" >0.192667</td>\n",
       "            </tr>\n",
       "            <tr>\n",
       "                                <td id=\"T_1b3248a4_3349_11ed_9b44_784f437c194arow7_col0\" class=\"data row7 col0\" >gldm_DependenceNonUniformityNormalized</td>\n",
       "                        <td id=\"T_1b3248a4_3349_11ed_9b44_784f437c194arow7_col1\" class=\"data row7 col1\" >-0.185115</td>\n",
       "            </tr>\n",
       "            <tr>\n",
       "                                <td id=\"T_1b3248a4_3349_11ed_9b44_784f437c194arow8_col0\" class=\"data row8 col0\" >ngtdm_Strength</td>\n",
       "                        <td id=\"T_1b3248a4_3349_11ed_9b44_784f437c194arow8_col1\" class=\"data row8 col1\" >-0.185013</td>\n",
       "            </tr>\n",
       "    </tbody></table>"
      ],
      "text/plain": [
       "<pandas.io.formats.style.Styler at 0x7fa13f2db160>"
      ]
     },
     "metadata": {},
     "output_type": "display_data"
    },
    {
     "name": "stdout",
     "output_type": "stream",
     "text": [
      "\n",
      "\n",
      "\n"
     ]
    },
    {
     "data": {
      "text/html": [
       "<style  type=\"text/css\" >\n",
       "</style><table id=\"T_1b335e9c_3349_11ed_8805_784f437c194a\" ><thead>    <tr>        <th class=\"col_heading level0 col0\" >Feature</th>        <th class=\"col_heading level0 col1\" >Coef</th>    </tr></thead><tbody>\n",
       "                <tr>\n",
       "                                <td id=\"T_1b335e9c_3349_11ed_8805_784f437c194arow0_col0\" class=\"data row0 col0\" >firstorder_90Percentile</td>\n",
       "                        <td id=\"T_1b335e9c_3349_11ed_8805_784f437c194arow0_col1\" class=\"data row0 col1\" >-1.556218</td>\n",
       "            </tr>\n",
       "            <tr>\n",
       "                                <td id=\"T_1b335e9c_3349_11ed_8805_784f437c194arow1_col0\" class=\"data row1 col0\" >firstorder_InterquartileRange</td>\n",
       "                        <td id=\"T_1b335e9c_3349_11ed_8805_784f437c194arow1_col1\" class=\"data row1 col1\" >0.956489</td>\n",
       "            </tr>\n",
       "            <tr>\n",
       "                                <td id=\"T_1b335e9c_3349_11ed_8805_784f437c194arow2_col0\" class=\"data row2 col0\" >firstorder_Maximum</td>\n",
       "                        <td id=\"T_1b335e9c_3349_11ed_8805_784f437c194arow2_col1\" class=\"data row2 col1\" >0.749583</td>\n",
       "            </tr>\n",
       "            <tr>\n",
       "                                <td id=\"T_1b335e9c_3349_11ed_8805_784f437c194arow3_col0\" class=\"data row3 col0\" >shape_MeshVolume</td>\n",
       "                        <td id=\"T_1b335e9c_3349_11ed_8805_784f437c194arow3_col1\" class=\"data row3 col1\" >0.645651</td>\n",
       "            </tr>\n",
       "            <tr>\n",
       "                                <td id=\"T_1b335e9c_3349_11ed_8805_784f437c194arow4_col0\" class=\"data row4 col0\" >ngtdm_Strength</td>\n",
       "                        <td id=\"T_1b335e9c_3349_11ed_8805_784f437c194arow4_col1\" class=\"data row4 col1\" >-0.416853</td>\n",
       "            </tr>\n",
       "            <tr>\n",
       "                                <td id=\"T_1b335e9c_3349_11ed_8805_784f437c194arow5_col0\" class=\"data row5 col0\" >glszm_SmallAreaEmphasis</td>\n",
       "                        <td id=\"T_1b335e9c_3349_11ed_8805_784f437c194arow5_col1\" class=\"data row5 col1\" >0.245243</td>\n",
       "            </tr>\n",
       "            <tr>\n",
       "                                <td id=\"T_1b335e9c_3349_11ed_8805_784f437c194arow6_col0\" class=\"data row6 col0\" >firstorder_Minimum</td>\n",
       "                        <td id=\"T_1b335e9c_3349_11ed_8805_784f437c194arow6_col1\" class=\"data row6 col1\" >-0.209221</td>\n",
       "            </tr>\n",
       "            <tr>\n",
       "                                <td id=\"T_1b335e9c_3349_11ed_8805_784f437c194arow7_col0\" class=\"data row7 col0\" >firstorder_RootMeanSquared</td>\n",
       "                        <td id=\"T_1b335e9c_3349_11ed_8805_784f437c194arow7_col1\" class=\"data row7 col1\" >-0.187893</td>\n",
       "            </tr>\n",
       "            <tr>\n",
       "                                <td id=\"T_1b335e9c_3349_11ed_8805_784f437c194arow8_col0\" class=\"data row8 col0\" >shape_Sphericity</td>\n",
       "                        <td id=\"T_1b335e9c_3349_11ed_8805_784f437c194arow8_col1\" class=\"data row8 col1\" >-0.161074</td>\n",
       "            </tr>\n",
       "            <tr>\n",
       "                                <td id=\"T_1b335e9c_3349_11ed_8805_784f437c194arow9_col0\" class=\"data row9 col0\" >gldm_DependenceNonUniformityNormalized</td>\n",
       "                        <td id=\"T_1b335e9c_3349_11ed_8805_784f437c194arow9_col1\" class=\"data row9 col1\" >-0.125044</td>\n",
       "            </tr>\n",
       "            <tr>\n",
       "                                <td id=\"T_1b335e9c_3349_11ed_8805_784f437c194arow10_col0\" class=\"data row10 col0\" >glszm_LargeAreaLowGrayLevelEmphasis</td>\n",
       "                        <td id=\"T_1b335e9c_3349_11ed_8805_784f437c194arow10_col1\" class=\"data row10 col1\" >-0.108044</td>\n",
       "            </tr>\n",
       "            <tr>\n",
       "                                <td id=\"T_1b335e9c_3349_11ed_8805_784f437c194arow11_col0\" class=\"data row11 col0\" >shape_Elongation</td>\n",
       "                        <td id=\"T_1b335e9c_3349_11ed_8805_784f437c194arow11_col1\" class=\"data row11 col1\" >-0.086209</td>\n",
       "            </tr>\n",
       "    </tbody></table>"
      ],
      "text/plain": [
       "<pandas.io.formats.style.Styler at 0x7fa13f3b4470>"
      ]
     },
     "metadata": {},
     "output_type": "display_data"
    },
    {
     "name": "stdout",
     "output_type": "stream",
     "text": [
      "\n",
      "\n",
      "shape|firstorder|histogram\n"
     ]
    },
    {
     "data": {
      "text/html": [
       "<style  type=\"text/css\" >\n",
       "</style><table id=\"T_1b34c610_3349_11ed_b9f9_784f437c194a\" ><thead>    <tr>        <th class=\"col_heading level0 col0\" >Feature</th>        <th class=\"col_heading level0 col1\" >Coef</th>    </tr></thead><tbody>\n",
       "                <tr>\n",
       "                                <td id=\"T_1b34c610_3349_11ed_b9f9_784f437c194arow0_col0\" class=\"data row0 col0\" >firstorder_90Percentile</td>\n",
       "                        <td id=\"T_1b34c610_3349_11ed_b9f9_784f437c194arow0_col1\" class=\"data row0 col1\" >-2.040172</td>\n",
       "            </tr>\n",
       "            <tr>\n",
       "                                <td id=\"T_1b34c610_3349_11ed_b9f9_784f437c194arow1_col0\" class=\"data row1 col0\" >firstorder_Maximum</td>\n",
       "                        <td id=\"T_1b34c610_3349_11ed_b9f9_784f437c194arow1_col1\" class=\"data row1 col1\" >1.606259</td>\n",
       "            </tr>\n",
       "            <tr>\n",
       "                                <td id=\"T_1b34c610_3349_11ed_b9f9_784f437c194arow2_col0\" class=\"data row2 col0\" >firstorder_InterquartileRange</td>\n",
       "                        <td id=\"T_1b34c610_3349_11ed_b9f9_784f437c194arow2_col1\" class=\"data row2 col1\" >1.060462</td>\n",
       "            </tr>\n",
       "            <tr>\n",
       "                                <td id=\"T_1b34c610_3349_11ed_b9f9_784f437c194arow3_col0\" class=\"data row3 col0\" >firstorder_Kurtosis</td>\n",
       "                        <td id=\"T_1b34c610_3349_11ed_b9f9_784f437c194arow3_col1\" class=\"data row3 col1\" >-0.755393</td>\n",
       "            </tr>\n",
       "            <tr>\n",
       "                                <td id=\"T_1b34c610_3349_11ed_b9f9_784f437c194arow4_col0\" class=\"data row4 col0\" >shape_Flatness</td>\n",
       "                        <td id=\"T_1b34c610_3349_11ed_b9f9_784f437c194arow4_col1\" class=\"data row4 col1\" >0.735328</td>\n",
       "            </tr>\n",
       "            <tr>\n",
       "                                <td id=\"T_1b34c610_3349_11ed_b9f9_784f437c194arow5_col0\" class=\"data row5 col0\" >shape_Elongation</td>\n",
       "                        <td id=\"T_1b34c610_3349_11ed_b9f9_784f437c194arow5_col1\" class=\"data row5 col1\" >-0.732504</td>\n",
       "            </tr>\n",
       "            <tr>\n",
       "                                <td id=\"T_1b34c610_3349_11ed_b9f9_784f437c194arow6_col0\" class=\"data row6 col0\" >shape_MeshVolume</td>\n",
       "                        <td id=\"T_1b34c610_3349_11ed_b9f9_784f437c194arow6_col1\" class=\"data row6 col1\" >0.502438</td>\n",
       "            </tr>\n",
       "            <tr>\n",
       "                                <td id=\"T_1b34c610_3349_11ed_b9f9_784f437c194arow7_col0\" class=\"data row7 col0\" >firstorder_RootMeanSquared</td>\n",
       "                        <td id=\"T_1b34c610_3349_11ed_b9f9_784f437c194arow7_col1\" class=\"data row7 col1\" >-0.319843</td>\n",
       "            </tr>\n",
       "            <tr>\n",
       "                                <td id=\"T_1b34c610_3349_11ed_b9f9_784f437c194arow8_col0\" class=\"data row8 col0\" >shape_Sphericity</td>\n",
       "                        <td id=\"T_1b34c610_3349_11ed_b9f9_784f437c194arow8_col1\" class=\"data row8 col1\" >-0.298299</td>\n",
       "            </tr>\n",
       "    </tbody></table>"
      ],
      "text/plain": [
       "<pandas.io.formats.style.Styler at 0x7fa13f3b47f0>"
      ]
     },
     "metadata": {},
     "output_type": "display_data"
    },
    {
     "name": "stdout",
     "output_type": "stream",
     "text": [
      "\n",
      "\n",
      "firstorder|histogram\n"
     ]
    },
    {
     "data": {
      "text/html": [
       "<style  type=\"text/css\" >\n",
       "</style><table id=\"T_1b36242e_3349_11ed_8d43_784f437c194a\" ><thead>    <tr>        <th class=\"col_heading level0 col0\" >Feature</th>        <th class=\"col_heading level0 col1\" >Coef</th>    </tr></thead><tbody>\n",
       "                <tr>\n",
       "                                <td id=\"T_1b36242e_3349_11ed_8d43_784f437c194arow0_col0\" class=\"data row0 col0\" >firstorder_90Percentile</td>\n",
       "                        <td id=\"T_1b36242e_3349_11ed_8d43_784f437c194arow0_col1\" class=\"data row0 col1\" >-1.974663</td>\n",
       "            </tr>\n",
       "            <tr>\n",
       "                                <td id=\"T_1b36242e_3349_11ed_8d43_784f437c194arow1_col0\" class=\"data row1 col0\" >firstorder_Maximum</td>\n",
       "                        <td id=\"T_1b36242e_3349_11ed_8d43_784f437c194arow1_col1\" class=\"data row1 col1\" >1.222418</td>\n",
       "            </tr>\n",
       "            <tr>\n",
       "                                <td id=\"T_1b36242e_3349_11ed_8d43_784f437c194arow2_col0\" class=\"data row2 col0\" >firstorder_InterquartileRange</td>\n",
       "                        <td id=\"T_1b36242e_3349_11ed_8d43_784f437c194arow2_col1\" class=\"data row2 col1\" >1.074653</td>\n",
       "            </tr>\n",
       "            <tr>\n",
       "                                <td id=\"T_1b36242e_3349_11ed_8d43_784f437c194arow3_col0\" class=\"data row3 col0\" >firstorder_Kurtosis</td>\n",
       "                        <td id=\"T_1b36242e_3349_11ed_8d43_784f437c194arow3_col1\" class=\"data row3 col1\" >-0.570707</td>\n",
       "            </tr>\n",
       "            <tr>\n",
       "                                <td id=\"T_1b36242e_3349_11ed_8d43_784f437c194arow4_col0\" class=\"data row4 col0\" >firstorder_RootMeanSquared</td>\n",
       "                        <td id=\"T_1b36242e_3349_11ed_8d43_784f437c194arow4_col1\" class=\"data row4 col1\" >-0.306159</td>\n",
       "            </tr>\n",
       "    </tbody></table>"
      ],
      "text/plain": [
       "<pandas.io.formats.style.Styler at 0x7fa13f2e7588>"
      ]
     },
     "metadata": {},
     "output_type": "display_data"
    },
    {
     "name": "stdout",
     "output_type": "stream",
     "text": [
      "\n",
      "\n",
      "\n"
     ]
    },
    {
     "data": {
      "text/html": [
       "<style  type=\"text/css\" >\n",
       "</style><table id=\"T_1b375cd8_3349_11ed_ae98_784f437c194a\" ><thead>    <tr>        <th class=\"col_heading level0 col0\" >Feature</th>        <th class=\"col_heading level0 col1\" >Coef</th>    </tr></thead><tbody>\n",
       "                <tr>\n",
       "                                <td id=\"T_1b375cd8_3349_11ed_ae98_784f437c194arow0_col0\" class=\"data row0 col0\" >firstorder_90Percentile</td>\n",
       "                        <td id=\"T_1b375cd8_3349_11ed_ae98_784f437c194arow0_col1\" class=\"data row0 col1\" >-1.232714</td>\n",
       "            </tr>\n",
       "            <tr>\n",
       "                                <td id=\"T_1b375cd8_3349_11ed_ae98_784f437c194arow1_col0\" class=\"data row1 col0\" >glszm_ZoneEntropy</td>\n",
       "                        <td id=\"T_1b375cd8_3349_11ed_ae98_784f437c194arow1_col1\" class=\"data row1 col1\" >1.070715</td>\n",
       "            </tr>\n",
       "            <tr>\n",
       "                                <td id=\"T_1b375cd8_3349_11ed_ae98_784f437c194arow2_col0\" class=\"data row2 col0\" >glszm_SizeZoneNonUniformityNormalized</td>\n",
       "                        <td id=\"T_1b375cd8_3349_11ed_ae98_784f437c194arow2_col1\" class=\"data row2 col1\" >0.557338</td>\n",
       "            </tr>\n",
       "            <tr>\n",
       "                                <td id=\"T_1b375cd8_3349_11ed_ae98_784f437c194arow3_col0\" class=\"data row3 col0\" >firstorder_RootMeanSquared</td>\n",
       "                        <td id=\"T_1b375cd8_3349_11ed_ae98_784f437c194arow3_col1\" class=\"data row3 col1\" >-0.409352</td>\n",
       "            </tr>\n",
       "            <tr>\n",
       "                                <td id=\"T_1b375cd8_3349_11ed_ae98_784f437c194arow4_col0\" class=\"data row4 col0\" >shape_MeshVolume</td>\n",
       "                        <td id=\"T_1b375cd8_3349_11ed_ae98_784f437c194arow4_col1\" class=\"data row4 col1\" >0.350961</td>\n",
       "            </tr>\n",
       "            <tr>\n",
       "                                <td id=\"T_1b375cd8_3349_11ed_ae98_784f437c194arow5_col0\" class=\"data row5 col0\" >shape_Sphericity</td>\n",
       "                        <td id=\"T_1b375cd8_3349_11ed_ae98_784f437c194arow5_col1\" class=\"data row5 col1\" >-0.336794</td>\n",
       "            </tr>\n",
       "            <tr>\n",
       "                                <td id=\"T_1b375cd8_3349_11ed_ae98_784f437c194arow6_col0\" class=\"data row6 col0\" >ngtdm_Strength</td>\n",
       "                        <td id=\"T_1b375cd8_3349_11ed_ae98_784f437c194arow6_col1\" class=\"data row6 col1\" >-0.241373</td>\n",
       "            </tr>\n",
       "            <tr>\n",
       "                                <td id=\"T_1b375cd8_3349_11ed_ae98_784f437c194arow7_col0\" class=\"data row7 col0\" >shape_Elongation</td>\n",
       "                        <td id=\"T_1b375cd8_3349_11ed_ae98_784f437c194arow7_col1\" class=\"data row7 col1\" >-0.156226</td>\n",
       "            </tr>\n",
       "            <tr>\n",
       "                                <td id=\"T_1b375cd8_3349_11ed_ae98_784f437c194arow8_col0\" class=\"data row8 col0\" >firstorder_Skewness</td>\n",
       "                        <td id=\"T_1b375cd8_3349_11ed_ae98_784f437c194arow8_col1\" class=\"data row8 col1\" >0.102961</td>\n",
       "            </tr>\n",
       "            <tr>\n",
       "                                <td id=\"T_1b375cd8_3349_11ed_ae98_784f437c194arow9_col0\" class=\"data row9 col0\" >firstorder_Maximum</td>\n",
       "                        <td id=\"T_1b375cd8_3349_11ed_ae98_784f437c194arow9_col1\" class=\"data row9 col1\" >0.099777</td>\n",
       "            </tr>\n",
       "    </tbody></table>"
      ],
      "text/plain": [
       "<pandas.io.formats.style.Styler at 0x7fa13f2db898>"
      ]
     },
     "metadata": {},
     "output_type": "display_data"
    },
    {
     "name": "stdout",
     "output_type": "stream",
     "text": [
      "\n",
      "\n",
      "shape|firstorder|histogram\n"
     ]
    },
    {
     "data": {
      "text/html": [
       "<style  type=\"text/css\" >\n",
       "</style><table id=\"T_1b3892d8_3349_11ed_a5ac_784f437c194a\" ><thead>    <tr>        <th class=\"col_heading level0 col0\" >Feature</th>        <th class=\"col_heading level0 col1\" >Coef</th>    </tr></thead><tbody>\n",
       "                <tr>\n",
       "                                <td id=\"T_1b3892d8_3349_11ed_a5ac_784f437c194arow0_col0\" class=\"data row0 col0\" >firstorder_90Percentile</td>\n",
       "                        <td id=\"T_1b3892d8_3349_11ed_a5ac_784f437c194arow0_col1\" class=\"data row0 col1\" >-1.260993</td>\n",
       "            </tr>\n",
       "            <tr>\n",
       "                                <td id=\"T_1b3892d8_3349_11ed_a5ac_784f437c194arow1_col0\" class=\"data row1 col0\" >firstorder_InterquartileRange</td>\n",
       "                        <td id=\"T_1b3892d8_3349_11ed_a5ac_784f437c194arow1_col1\" class=\"data row1 col1\" >0.792994</td>\n",
       "            </tr>\n",
       "            <tr>\n",
       "                                <td id=\"T_1b3892d8_3349_11ed_a5ac_784f437c194arow2_col0\" class=\"data row2 col0\" >firstorder_Maximum</td>\n",
       "                        <td id=\"T_1b3892d8_3349_11ed_a5ac_784f437c194arow2_col1\" class=\"data row2 col1\" >0.615614</td>\n",
       "            </tr>\n",
       "            <tr>\n",
       "                                <td id=\"T_1b3892d8_3349_11ed_a5ac_784f437c194arow3_col0\" class=\"data row3 col0\" >shape_MeshVolume</td>\n",
       "                        <td id=\"T_1b3892d8_3349_11ed_a5ac_784f437c194arow3_col1\" class=\"data row3 col1\" >0.435888</td>\n",
       "            </tr>\n",
       "            <tr>\n",
       "                                <td id=\"T_1b3892d8_3349_11ed_a5ac_784f437c194arow4_col0\" class=\"data row4 col0\" >shape_Sphericity</td>\n",
       "                        <td id=\"T_1b3892d8_3349_11ed_a5ac_784f437c194arow4_col1\" class=\"data row4 col1\" >-0.245434</td>\n",
       "            </tr>\n",
       "            <tr>\n",
       "                                <td id=\"T_1b3892d8_3349_11ed_a5ac_784f437c194arow5_col0\" class=\"data row5 col0\" >firstorder_Kurtosis</td>\n",
       "                        <td id=\"T_1b3892d8_3349_11ed_a5ac_784f437c194arow5_col1\" class=\"data row5 col1\" >-0.233368</td>\n",
       "            </tr>\n",
       "            <tr>\n",
       "                                <td id=\"T_1b3892d8_3349_11ed_a5ac_784f437c194arow6_col0\" class=\"data row6 col0\" >firstorder_RootMeanSquared</td>\n",
       "                        <td id=\"T_1b3892d8_3349_11ed_a5ac_784f437c194arow6_col1\" class=\"data row6 col1\" >-0.216494</td>\n",
       "            </tr>\n",
       "            <tr>\n",
       "                                <td id=\"T_1b3892d8_3349_11ed_a5ac_784f437c194arow7_col0\" class=\"data row7 col0\" >shape_Elongation</td>\n",
       "                        <td id=\"T_1b3892d8_3349_11ed_a5ac_784f437c194arow7_col1\" class=\"data row7 col1\" >-0.092942</td>\n",
       "            </tr>\n",
       "    </tbody></table>"
      ],
      "text/plain": [
       "<pandas.io.formats.style.Styler at 0x7fa144692cc0>"
      ]
     },
     "metadata": {},
     "output_type": "display_data"
    },
    {
     "name": "stdout",
     "output_type": "stream",
     "text": [
      "\n",
      "\n",
      "\n"
     ]
    },
    {
     "data": {
      "text/html": [
       "<style  type=\"text/css\" >\n",
       "</style><table id=\"T_1b39e834_3349_11ed_9337_784f437c194a\" ><thead>    <tr>        <th class=\"col_heading level0 col0\" >Feature</th>        <th class=\"col_heading level0 col1\" >Coef</th>    </tr></thead><tbody>\n",
       "                <tr>\n",
       "                                <td id=\"T_1b39e834_3349_11ed_9337_784f437c194arow0_col0\" class=\"data row0 col0\" >firstorder_90Percentile</td>\n",
       "                        <td id=\"T_1b39e834_3349_11ed_9337_784f437c194arow0_col1\" class=\"data row0 col1\" >-1.118438</td>\n",
       "            </tr>\n",
       "            <tr>\n",
       "                                <td id=\"T_1b39e834_3349_11ed_9337_784f437c194arow1_col0\" class=\"data row1 col0\" >firstorder_InterquartileRange</td>\n",
       "                        <td id=\"T_1b39e834_3349_11ed_9337_784f437c194arow1_col1\" class=\"data row1 col1\" >0.749135</td>\n",
       "            </tr>\n",
       "            <tr>\n",
       "                                <td id=\"T_1b39e834_3349_11ed_9337_784f437c194arow2_col0\" class=\"data row2 col0\" >shape_MeshVolume</td>\n",
       "                        <td id=\"T_1b39e834_3349_11ed_9337_784f437c194arow2_col1\" class=\"data row2 col1\" >0.525794</td>\n",
       "            </tr>\n",
       "            <tr>\n",
       "                                <td id=\"T_1b39e834_3349_11ed_9337_784f437c194arow3_col0\" class=\"data row3 col0\" >firstorder_Maximum</td>\n",
       "                        <td id=\"T_1b39e834_3349_11ed_9337_784f437c194arow3_col1\" class=\"data row3 col1\" >0.387094</td>\n",
       "            </tr>\n",
       "            <tr>\n",
       "                                <td id=\"T_1b39e834_3349_11ed_9337_784f437c194arow4_col0\" class=\"data row4 col0\" >shape_Sphericity</td>\n",
       "                        <td id=\"T_1b39e834_3349_11ed_9337_784f437c194arow4_col1\" class=\"data row4 col1\" >-0.346625</td>\n",
       "            </tr>\n",
       "            <tr>\n",
       "                                <td id=\"T_1b39e834_3349_11ed_9337_784f437c194arow5_col0\" class=\"data row5 col0\" >glszm_SmallAreaEmphasis</td>\n",
       "                        <td id=\"T_1b39e834_3349_11ed_9337_784f437c194arow5_col1\" class=\"data row5 col1\" >0.258033</td>\n",
       "            </tr>\n",
       "            <tr>\n",
       "                                <td id=\"T_1b39e834_3349_11ed_9337_784f437c194arow6_col0\" class=\"data row6 col0\" >shape_Elongation</td>\n",
       "                        <td id=\"T_1b39e834_3349_11ed_9337_784f437c194arow6_col1\" class=\"data row6 col1\" >-0.178687</td>\n",
       "            </tr>\n",
       "            <tr>\n",
       "                                <td id=\"T_1b39e834_3349_11ed_9337_784f437c194arow7_col0\" class=\"data row7 col0\" >firstorder_Kurtosis</td>\n",
       "                        <td id=\"T_1b39e834_3349_11ed_9337_784f437c194arow7_col1\" class=\"data row7 col1\" >-0.136581</td>\n",
       "            </tr>\n",
       "            <tr>\n",
       "                                <td id=\"T_1b39e834_3349_11ed_9337_784f437c194arow8_col0\" class=\"data row8 col0\" >firstorder_RootMeanSquared</td>\n",
       "                        <td id=\"T_1b39e834_3349_11ed_9337_784f437c194arow8_col1\" class=\"data row8 col1\" >-0.089013</td>\n",
       "            </tr>\n",
       "            <tr>\n",
       "                                <td id=\"T_1b39e834_3349_11ed_9337_784f437c194arow9_col0\" class=\"data row9 col0\" >gldm_DependenceNonUniformityNormalized</td>\n",
       "                        <td id=\"T_1b39e834_3349_11ed_9337_784f437c194arow9_col1\" class=\"data row9 col1\" >-0.082074</td>\n",
       "            </tr>\n",
       "            <tr>\n",
       "                                <td id=\"T_1b39e834_3349_11ed_9337_784f437c194arow10_col0\" class=\"data row10 col0\" >firstorder_Minimum</td>\n",
       "                        <td id=\"T_1b39e834_3349_11ed_9337_784f437c194arow10_col1\" class=\"data row10 col1\" >-0.008210</td>\n",
       "            </tr>\n",
       "    </tbody></table>"
      ],
      "text/plain": [
       "<pandas.io.formats.style.Styler at 0x7fa13f2db6d8>"
      ]
     },
     "metadata": {},
     "output_type": "display_data"
    },
    {
     "name": "stdout",
     "output_type": "stream",
     "text": [
      "\n",
      "\n",
      "shape|firstorder|histogram\n"
     ]
    },
    {
     "data": {
      "text/html": [
       "<style  type=\"text/css\" >\n",
       "</style><table id=\"T_1b3b0048_3349_11ed_a449_784f437c194a\" ><thead>    <tr>        <th class=\"col_heading level0 col0\" >Feature</th>        <th class=\"col_heading level0 col1\" >Coef</th>    </tr></thead><tbody>\n",
       "                <tr>\n",
       "                                <td id=\"T_1b3b0048_3349_11ed_a449_784f437c194arow0_col0\" class=\"data row0 col0\" >firstorder_90Percentile</td>\n",
       "                        <td id=\"T_1b3b0048_3349_11ed_a449_784f437c194arow0_col1\" class=\"data row0 col1\" >-1.495127</td>\n",
       "            </tr>\n",
       "            <tr>\n",
       "                                <td id=\"T_1b3b0048_3349_11ed_a449_784f437c194arow1_col0\" class=\"data row1 col0\" >firstorder_InterquartileRange</td>\n",
       "                        <td id=\"T_1b3b0048_3349_11ed_a449_784f437c194arow1_col1\" class=\"data row1 col1\" >0.895783</td>\n",
       "            </tr>\n",
       "            <tr>\n",
       "                                <td id=\"T_1b3b0048_3349_11ed_a449_784f437c194arow2_col0\" class=\"data row2 col0\" >firstorder_Maximum</td>\n",
       "                        <td id=\"T_1b3b0048_3349_11ed_a449_784f437c194arow2_col1\" class=\"data row2 col1\" >0.756399</td>\n",
       "            </tr>\n",
       "            <tr>\n",
       "                                <td id=\"T_1b3b0048_3349_11ed_a449_784f437c194arow3_col0\" class=\"data row3 col0\" >shape_MeshVolume</td>\n",
       "                        <td id=\"T_1b3b0048_3349_11ed_a449_784f437c194arow3_col1\" class=\"data row3 col1\" >0.516526</td>\n",
       "            </tr>\n",
       "            <tr>\n",
       "                                <td id=\"T_1b3b0048_3349_11ed_a449_784f437c194arow4_col0\" class=\"data row4 col0\" >firstorder_Kurtosis</td>\n",
       "                        <td id=\"T_1b3b0048_3349_11ed_a449_784f437c194arow4_col1\" class=\"data row4 col1\" >-0.404392</td>\n",
       "            </tr>\n",
       "            <tr>\n",
       "                                <td id=\"T_1b3b0048_3349_11ed_a449_784f437c194arow5_col0\" class=\"data row5 col0\" >shape_Sphericity</td>\n",
       "                        <td id=\"T_1b3b0048_3349_11ed_a449_784f437c194arow5_col1\" class=\"data row5 col1\" >-0.314506</td>\n",
       "            </tr>\n",
       "            <tr>\n",
       "                                <td id=\"T_1b3b0048_3349_11ed_a449_784f437c194arow6_col0\" class=\"data row6 col0\" >shape_Elongation</td>\n",
       "                        <td id=\"T_1b3b0048_3349_11ed_a449_784f437c194arow6_col1\" class=\"data row6 col1\" >-0.218907</td>\n",
       "            </tr>\n",
       "            <tr>\n",
       "                                <td id=\"T_1b3b0048_3349_11ed_a449_784f437c194arow7_col0\" class=\"data row7 col0\" >firstorder_RootMeanSquared</td>\n",
       "                        <td id=\"T_1b3b0048_3349_11ed_a449_784f437c194arow7_col1\" class=\"data row7 col1\" >-0.183535</td>\n",
       "            </tr>\n",
       "            <tr>\n",
       "                                <td id=\"T_1b3b0048_3349_11ed_a449_784f437c194arow8_col0\" class=\"data row8 col0\" >shape_Flatness</td>\n",
       "                        <td id=\"T_1b3b0048_3349_11ed_a449_784f437c194arow8_col1\" class=\"data row8 col1\" >0.043243</td>\n",
       "            </tr>\n",
       "    </tbody></table>"
      ],
      "text/plain": [
       "<pandas.io.formats.style.Styler at 0x7fa13f2e79b0>"
      ]
     },
     "metadata": {},
     "output_type": "display_data"
    },
    {
     "name": "stdout",
     "output_type": "stream",
     "text": [
      "\n",
      "\n",
      "shape|firstorder|histogram\n"
     ]
    },
    {
     "data": {
      "text/html": [
       "<style  type=\"text/css\" >\n",
       "</style><table id=\"T_1b3c2a86_3349_11ed_aa1e_784f437c194a\" ><thead>    <tr>        <th class=\"col_heading level0 col0\" >Feature</th>        <th class=\"col_heading level0 col1\" >Coef</th>    </tr></thead><tbody>\n",
       "                <tr>\n",
       "                                <td id=\"T_1b3c2a86_3349_11ed_aa1e_784f437c194arow0_col0\" class=\"data row0 col0\" >firstorder_90Percentile</td>\n",
       "                        <td id=\"T_1b3c2a86_3349_11ed_aa1e_784f437c194arow0_col1\" class=\"data row0 col1\" >-1.182736</td>\n",
       "            </tr>\n",
       "            <tr>\n",
       "                                <td id=\"T_1b3c2a86_3349_11ed_aa1e_784f437c194arow1_col0\" class=\"data row1 col0\" >firstorder_InterquartileRange</td>\n",
       "                        <td id=\"T_1b3c2a86_3349_11ed_aa1e_784f437c194arow1_col1\" class=\"data row1 col1\" >0.681321</td>\n",
       "            </tr>\n",
       "            <tr>\n",
       "                                <td id=\"T_1b3c2a86_3349_11ed_aa1e_784f437c194arow2_col0\" class=\"data row2 col0\" >firstorder_Maximum</td>\n",
       "                        <td id=\"T_1b3c2a86_3349_11ed_aa1e_784f437c194arow2_col1\" class=\"data row2 col1\" >0.352251</td>\n",
       "            </tr>\n",
       "            <tr>\n",
       "                                <td id=\"T_1b3c2a86_3349_11ed_aa1e_784f437c194arow3_col0\" class=\"data row3 col0\" >shape_Sphericity</td>\n",
       "                        <td id=\"T_1b3c2a86_3349_11ed_aa1e_784f437c194arow3_col1\" class=\"data row3 col1\" >-0.296223</td>\n",
       "            </tr>\n",
       "            <tr>\n",
       "                                <td id=\"T_1b3c2a86_3349_11ed_aa1e_784f437c194arow4_col0\" class=\"data row4 col0\" >firstorder_Range</td>\n",
       "                        <td id=\"T_1b3c2a86_3349_11ed_aa1e_784f437c194arow4_col1\" class=\"data row4 col1\" >0.282680</td>\n",
       "            </tr>\n",
       "            <tr>\n",
       "                                <td id=\"T_1b3c2a86_3349_11ed_aa1e_784f437c194arow5_col0\" class=\"data row5 col0\" >shape_MeshVolume</td>\n",
       "                        <td id=\"T_1b3c2a86_3349_11ed_aa1e_784f437c194arow5_col1\" class=\"data row5 col1\" >0.280131</td>\n",
       "            </tr>\n",
       "            <tr>\n",
       "                                <td id=\"T_1b3c2a86_3349_11ed_aa1e_784f437c194arow6_col0\" class=\"data row6 col0\" >firstorder_Kurtosis</td>\n",
       "                        <td id=\"T_1b3c2a86_3349_11ed_aa1e_784f437c194arow6_col1\" class=\"data row6 col1\" >-0.237147</td>\n",
       "            </tr>\n",
       "            <tr>\n",
       "                                <td id=\"T_1b3c2a86_3349_11ed_aa1e_784f437c194arow7_col0\" class=\"data row7 col0\" >firstorder_RootMeanSquared</td>\n",
       "                        <td id=\"T_1b3c2a86_3349_11ed_aa1e_784f437c194arow7_col1\" class=\"data row7 col1\" >-0.192379</td>\n",
       "            </tr>\n",
       "            <tr>\n",
       "                                <td id=\"T_1b3c2a86_3349_11ed_aa1e_784f437c194arow8_col0\" class=\"data row8 col0\" >shape_Elongation</td>\n",
       "                        <td id=\"T_1b3c2a86_3349_11ed_aa1e_784f437c194arow8_col1\" class=\"data row8 col1\" >-0.103160</td>\n",
       "            </tr>\n",
       "    </tbody></table>"
      ],
      "text/plain": [
       "<pandas.io.formats.style.Styler at 0x7fa13f3b4898>"
      ]
     },
     "metadata": {},
     "output_type": "display_data"
    },
    {
     "name": "stdout",
     "output_type": "stream",
     "text": [
      "\n",
      "\n",
      "shape|firstorder|histogram\n"
     ]
    },
    {
     "data": {
      "text/html": [
       "<style  type=\"text/css\" >\n",
       "</style><table id=\"T_1b3db518_3349_11ed_9ce0_784f437c194a\" ><thead>    <tr>        <th class=\"col_heading level0 col0\" >Feature</th>        <th class=\"col_heading level0 col1\" >Coef</th>    </tr></thead><tbody>\n",
       "                <tr>\n",
       "                                <td id=\"T_1b3db518_3349_11ed_9ce0_784f437c194arow0_col0\" class=\"data row0 col0\" >firstorder_90Percentile</td>\n",
       "                        <td id=\"T_1b3db518_3349_11ed_9ce0_784f437c194arow0_col1\" class=\"data row0 col1\" >-1.653943</td>\n",
       "            </tr>\n",
       "            <tr>\n",
       "                                <td id=\"T_1b3db518_3349_11ed_9ce0_784f437c194arow1_col0\" class=\"data row1 col0\" >firstorder_InterquartileRange</td>\n",
       "                        <td id=\"T_1b3db518_3349_11ed_9ce0_784f437c194arow1_col1\" class=\"data row1 col1\" >1.040685</td>\n",
       "            </tr>\n",
       "            <tr>\n",
       "                                <td id=\"T_1b3db518_3349_11ed_9ce0_784f437c194arow2_col0\" class=\"data row2 col0\" >firstorder_Maximum</td>\n",
       "                        <td id=\"T_1b3db518_3349_11ed_9ce0_784f437c194arow2_col1\" class=\"data row2 col1\" >0.987095</td>\n",
       "            </tr>\n",
       "            <tr>\n",
       "                                <td id=\"T_1b3db518_3349_11ed_9ce0_784f437c194arow3_col0\" class=\"data row3 col0\" >shape_MeshVolume</td>\n",
       "                        <td id=\"T_1b3db518_3349_11ed_9ce0_784f437c194arow3_col1\" class=\"data row3 col1\" >0.892430</td>\n",
       "            </tr>\n",
       "            <tr>\n",
       "                                <td id=\"T_1b3db518_3349_11ed_9ce0_784f437c194arow4_col0\" class=\"data row4 col0\" >shape_Elongation</td>\n",
       "                        <td id=\"T_1b3db518_3349_11ed_9ce0_784f437c194arow4_col1\" class=\"data row4 col1\" >-0.582681</td>\n",
       "            </tr>\n",
       "            <tr>\n",
       "                                <td id=\"T_1b3db518_3349_11ed_9ce0_784f437c194arow5_col0\" class=\"data row5 col0\" >shape_Sphericity</td>\n",
       "                        <td id=\"T_1b3db518_3349_11ed_9ce0_784f437c194arow5_col1\" class=\"data row5 col1\" >-0.522455</td>\n",
       "            </tr>\n",
       "            <tr>\n",
       "                                <td id=\"T_1b3db518_3349_11ed_9ce0_784f437c194arow6_col0\" class=\"data row6 col0\" >shape_Flatness</td>\n",
       "                        <td id=\"T_1b3db518_3349_11ed_9ce0_784f437c194arow6_col1\" class=\"data row6 col1\" >0.473971</td>\n",
       "            </tr>\n",
       "            <tr>\n",
       "                                <td id=\"T_1b3db518_3349_11ed_9ce0_784f437c194arow7_col0\" class=\"data row7 col0\" >firstorder_RootMeanSquared</td>\n",
       "                        <td id=\"T_1b3db518_3349_11ed_9ce0_784f437c194arow7_col1\" class=\"data row7 col1\" >-0.398362</td>\n",
       "            </tr>\n",
       "            <tr>\n",
       "                                <td id=\"T_1b3db518_3349_11ed_9ce0_784f437c194arow8_col0\" class=\"data row8 col0\" >firstorder_Skewness</td>\n",
       "                        <td id=\"T_1b3db518_3349_11ed_9ce0_784f437c194arow8_col1\" class=\"data row8 col1\" >0.333572</td>\n",
       "            </tr>\n",
       "    </tbody></table>"
      ],
      "text/plain": [
       "<pandas.io.formats.style.Styler at 0x7fa13f3b40f0>"
      ]
     },
     "metadata": {},
     "output_type": "display_data"
    },
    {
     "name": "stdout",
     "output_type": "stream",
     "text": [
      "\n",
      "\n",
      "shape|firstorder|histogram\n"
     ]
    },
    {
     "data": {
      "text/html": [
       "<style  type=\"text/css\" >\n",
       "</style><table id=\"T_1b3f8ed8_3349_11ed_b70b_784f437c194a\" ><thead>    <tr>        <th class=\"col_heading level0 col0\" >Feature</th>        <th class=\"col_heading level0 col1\" >Coef</th>    </tr></thead><tbody>\n",
       "                <tr>\n",
       "                                <td id=\"T_1b3f8ed8_3349_11ed_b70b_784f437c194arow0_col0\" class=\"data row0 col0\" >firstorder_90Percentile</td>\n",
       "                        <td id=\"T_1b3f8ed8_3349_11ed_b70b_784f437c194arow0_col1\" class=\"data row0 col1\" >-1.679230</td>\n",
       "            </tr>\n",
       "            <tr>\n",
       "                                <td id=\"T_1b3f8ed8_3349_11ed_b70b_784f437c194arow1_col0\" class=\"data row1 col0\" >firstorder_Maximum</td>\n",
       "                        <td id=\"T_1b3f8ed8_3349_11ed_b70b_784f437c194arow1_col1\" class=\"data row1 col1\" >1.128255</td>\n",
       "            </tr>\n",
       "            <tr>\n",
       "                                <td id=\"T_1b3f8ed8_3349_11ed_b70b_784f437c194arow2_col0\" class=\"data row2 col0\" >firstorder_Uniformity</td>\n",
       "                        <td id=\"T_1b3f8ed8_3349_11ed_b70b_784f437c194arow2_col1\" class=\"data row2 col1\" >-0.538292</td>\n",
       "            </tr>\n",
       "            <tr>\n",
       "                                <td id=\"T_1b3f8ed8_3349_11ed_b70b_784f437c194arow3_col0\" class=\"data row3 col0\" >firstorder_Kurtosis</td>\n",
       "                        <td id=\"T_1b3f8ed8_3349_11ed_b70b_784f437c194arow3_col1\" class=\"data row3 col1\" >-0.502524</td>\n",
       "            </tr>\n",
       "            <tr>\n",
       "                                <td id=\"T_1b3f8ed8_3349_11ed_b70b_784f437c194arow4_col0\" class=\"data row4 col0\" >shape_MeshVolume</td>\n",
       "                        <td id=\"T_1b3f8ed8_3349_11ed_b70b_784f437c194arow4_col1\" class=\"data row4 col1\" >0.487721</td>\n",
       "            </tr>\n",
       "            <tr>\n",
       "                                <td id=\"T_1b3f8ed8_3349_11ed_b70b_784f437c194arow5_col0\" class=\"data row5 col0\" >shape_Sphericity</td>\n",
       "                        <td id=\"T_1b3f8ed8_3349_11ed_b70b_784f437c194arow5_col1\" class=\"data row5 col1\" >-0.471584</td>\n",
       "            </tr>\n",
       "            <tr>\n",
       "                                <td id=\"T_1b3f8ed8_3349_11ed_b70b_784f437c194arow6_col0\" class=\"data row6 col0\" >shape_Elongation</td>\n",
       "                        <td id=\"T_1b3f8ed8_3349_11ed_b70b_784f437c194arow6_col1\" class=\"data row6 col1\" >-0.470882</td>\n",
       "            </tr>\n",
       "            <tr>\n",
       "                                <td id=\"T_1b3f8ed8_3349_11ed_b70b_784f437c194arow7_col0\" class=\"data row7 col0\" >firstorder_RootMeanSquared</td>\n",
       "                        <td id=\"T_1b3f8ed8_3349_11ed_b70b_784f437c194arow7_col1\" class=\"data row7 col1\" >-0.402709</td>\n",
       "            </tr>\n",
       "            <tr>\n",
       "                                <td id=\"T_1b3f8ed8_3349_11ed_b70b_784f437c194arow8_col0\" class=\"data row8 col0\" >shape_Flatness</td>\n",
       "                        <td id=\"T_1b3f8ed8_3349_11ed_b70b_784f437c194arow8_col1\" class=\"data row8 col1\" >0.234519</td>\n",
       "            </tr>\n",
       "    </tbody></table>"
      ],
      "text/plain": [
       "<pandas.io.formats.style.Styler at 0x7fa144692cc0>"
      ]
     },
     "metadata": {},
     "output_type": "display_data"
    },
    {
     "name": "stdout",
     "output_type": "stream",
     "text": [
      "\n",
      "\n",
      "shape|firstorder|histogram\n"
     ]
    },
    {
     "data": {
      "text/html": [
       "<style  type=\"text/css\" >\n",
       "</style><table id=\"T_1b40eeb8_3349_11ed_ac2b_784f437c194a\" ><thead>    <tr>        <th class=\"col_heading level0 col0\" >Feature</th>        <th class=\"col_heading level0 col1\" >Coef</th>    </tr></thead><tbody>\n",
       "                <tr>\n",
       "                                <td id=\"T_1b40eeb8_3349_11ed_ac2b_784f437c194arow0_col0\" class=\"data row0 col0\" >firstorder_90Percentile</td>\n",
       "                        <td id=\"T_1b40eeb8_3349_11ed_ac2b_784f437c194arow0_col1\" class=\"data row0 col1\" >-1.397104</td>\n",
       "            </tr>\n",
       "            <tr>\n",
       "                                <td id=\"T_1b40eeb8_3349_11ed_ac2b_784f437c194arow1_col0\" class=\"data row1 col0\" >firstorder_InterquartileRange</td>\n",
       "                        <td id=\"T_1b40eeb8_3349_11ed_ac2b_784f437c194arow1_col1\" class=\"data row1 col1\" >1.033628</td>\n",
       "            </tr>\n",
       "            <tr>\n",
       "                                <td id=\"T_1b40eeb8_3349_11ed_ac2b_784f437c194arow2_col0\" class=\"data row2 col0\" >firstorder_Maximum</td>\n",
       "                        <td id=\"T_1b40eeb8_3349_11ed_ac2b_784f437c194arow2_col1\" class=\"data row2 col1\" >0.970814</td>\n",
       "            </tr>\n",
       "            <tr>\n",
       "                                <td id=\"T_1b40eeb8_3349_11ed_ac2b_784f437c194arow3_col0\" class=\"data row3 col0\" >firstorder_Kurtosis</td>\n",
       "                        <td id=\"T_1b40eeb8_3349_11ed_ac2b_784f437c194arow3_col1\" class=\"data row3 col1\" >-0.484636</td>\n",
       "            </tr>\n",
       "            <tr>\n",
       "                                <td id=\"T_1b40eeb8_3349_11ed_ac2b_784f437c194arow4_col0\" class=\"data row4 col0\" >shape_MeshVolume</td>\n",
       "                        <td id=\"T_1b40eeb8_3349_11ed_ac2b_784f437c194arow4_col1\" class=\"data row4 col1\" >0.478381</td>\n",
       "            </tr>\n",
       "            <tr>\n",
       "                                <td id=\"T_1b40eeb8_3349_11ed_ac2b_784f437c194arow5_col0\" class=\"data row5 col0\" >shape_Sphericity</td>\n",
       "                        <td id=\"T_1b40eeb8_3349_11ed_ac2b_784f437c194arow5_col1\" class=\"data row5 col1\" >-0.442300</td>\n",
       "            </tr>\n",
       "            <tr>\n",
       "                                <td id=\"T_1b40eeb8_3349_11ed_ac2b_784f437c194arow6_col0\" class=\"data row6 col0\" >firstorder_RootMeanSquared</td>\n",
       "                        <td id=\"T_1b40eeb8_3349_11ed_ac2b_784f437c194arow6_col1\" class=\"data row6 col1\" >-0.358141</td>\n",
       "            </tr>\n",
       "            <tr>\n",
       "                                <td id=\"T_1b40eeb8_3349_11ed_ac2b_784f437c194arow7_col0\" class=\"data row7 col0\" >shape_Elongation</td>\n",
       "                        <td id=\"T_1b40eeb8_3349_11ed_ac2b_784f437c194arow7_col1\" class=\"data row7 col1\" >-0.126043</td>\n",
       "            </tr>\n",
       "    </tbody></table>"
      ],
      "text/plain": [
       "<pandas.io.formats.style.Styler at 0x7fa13f36fa20>"
      ]
     },
     "metadata": {},
     "output_type": "display_data"
    },
    {
     "name": "stdout",
     "output_type": "stream",
     "text": [
      "\n",
      "\n",
      "shape|glcm|gldm|glszm|glrlm|ngtdm\n"
     ]
    },
    {
     "data": {
      "text/html": [
       "<style  type=\"text/css\" >\n",
       "</style><table id=\"T_1b41f39e_3349_11ed_b400_784f437c194a\" ><thead>    <tr>        <th class=\"col_heading level0 col0\" >Feature</th>        <th class=\"col_heading level0 col1\" >Coef</th>    </tr></thead><tbody>\n",
       "                <tr>\n",
       "                                <td id=\"T_1b41f39e_3349_11ed_b400_784f437c194arow0_col0\" class=\"data row0 col0\" >shape_MeshVolume</td>\n",
       "                        <td id=\"T_1b41f39e_3349_11ed_b400_784f437c194arow0_col1\" class=\"data row0 col1\" >1.883168</td>\n",
       "            </tr>\n",
       "            <tr>\n",
       "                                <td id=\"T_1b41f39e_3349_11ed_b400_784f437c194arow1_col0\" class=\"data row1 col0\" >shape_Sphericity</td>\n",
       "                        <td id=\"T_1b41f39e_3349_11ed_b400_784f437c194arow1_col1\" class=\"data row1 col1\" >-1.146185</td>\n",
       "            </tr>\n",
       "            <tr>\n",
       "                                <td id=\"T_1b41f39e_3349_11ed_b400_784f437c194arow2_col0\" class=\"data row2 col0\" >glszm_SmallAreaEmphasis</td>\n",
       "                        <td id=\"T_1b41f39e_3349_11ed_b400_784f437c194arow2_col1\" class=\"data row2 col1\" >0.308192</td>\n",
       "            </tr>\n",
       "            <tr>\n",
       "                                <td id=\"T_1b41f39e_3349_11ed_b400_784f437c194arow3_col0\" class=\"data row3 col0\" >shape_Elongation</td>\n",
       "                        <td id=\"T_1b41f39e_3349_11ed_b400_784f437c194arow3_col1\" class=\"data row3 col1\" >-0.100295</td>\n",
       "            </tr>\n",
       "            <tr>\n",
       "                                <td id=\"T_1b41f39e_3349_11ed_b400_784f437c194arow4_col0\" class=\"data row4 col0\" >glszm_LargeAreaLowGrayLevelEmphasis</td>\n",
       "                        <td id=\"T_1b41f39e_3349_11ed_b400_784f437c194arow4_col1\" class=\"data row4 col1\" >0.045978</td>\n",
       "            </tr>\n",
       "            <tr>\n",
       "                                <td id=\"T_1b41f39e_3349_11ed_b400_784f437c194arow5_col0\" class=\"data row5 col0\" >ngtdm_Strength</td>\n",
       "                        <td id=\"T_1b41f39e_3349_11ed_b400_784f437c194arow5_col1\" class=\"data row5 col1\" >-0.040737</td>\n",
       "            </tr>\n",
       "            <tr>\n",
       "                                <td id=\"T_1b41f39e_3349_11ed_b400_784f437c194arow6_col0\" class=\"data row6 col0\" >gldm_DependenceNonUniformityNormalized</td>\n",
       "                        <td id=\"T_1b41f39e_3349_11ed_b400_784f437c194arow6_col1\" class=\"data row6 col1\" >-0.035509</td>\n",
       "            </tr>\n",
       "    </tbody></table>"
      ],
      "text/plain": [
       "<pandas.io.formats.style.Styler at 0x7fa13f2e79b0>"
      ]
     },
     "metadata": {},
     "output_type": "display_data"
    },
    {
     "name": "stdout",
     "output_type": "stream",
     "text": [
      "\n",
      "\n",
      "firstorder|histogram\n"
     ]
    },
    {
     "data": {
      "text/html": [
       "<style  type=\"text/css\" >\n",
       "</style><table id=\"T_1b431f4c_3349_11ed_bbe3_784f437c194a\" ><thead>    <tr>        <th class=\"col_heading level0 col0\" >Feature</th>        <th class=\"col_heading level0 col1\" >Coef</th>    </tr></thead><tbody>\n",
       "                <tr>\n",
       "                                <td id=\"T_1b431f4c_3349_11ed_bbe3_784f437c194arow0_col0\" class=\"data row0 col0\" >firstorder_90Percentile</td>\n",
       "                        <td id=\"T_1b431f4c_3349_11ed_bbe3_784f437c194arow0_col1\" class=\"data row0 col1\" >-1.886090</td>\n",
       "            </tr>\n",
       "            <tr>\n",
       "                                <td id=\"T_1b431f4c_3349_11ed_bbe3_784f437c194arow1_col0\" class=\"data row1 col0\" >firstorder_InterquartileRange</td>\n",
       "                        <td id=\"T_1b431f4c_3349_11ed_bbe3_784f437c194arow1_col1\" class=\"data row1 col1\" >1.119172</td>\n",
       "            </tr>\n",
       "            <tr>\n",
       "                                <td id=\"T_1b431f4c_3349_11ed_bbe3_784f437c194arow2_col0\" class=\"data row2 col0\" >firstorder_Maximum</td>\n",
       "                        <td id=\"T_1b431f4c_3349_11ed_bbe3_784f437c194arow2_col1\" class=\"data row2 col1\" >1.029367</td>\n",
       "            </tr>\n",
       "            <tr>\n",
       "                                <td id=\"T_1b431f4c_3349_11ed_bbe3_784f437c194arow3_col0\" class=\"data row3 col0\" >firstorder_Kurtosis</td>\n",
       "                        <td id=\"T_1b431f4c_3349_11ed_bbe3_784f437c194arow3_col1\" class=\"data row3 col1\" >-0.468890</td>\n",
       "            </tr>\n",
       "            <tr>\n",
       "                                <td id=\"T_1b431f4c_3349_11ed_bbe3_784f437c194arow4_col0\" class=\"data row4 col0\" >firstorder_RootMeanSquared</td>\n",
       "                        <td id=\"T_1b431f4c_3349_11ed_bbe3_784f437c194arow4_col1\" class=\"data row4 col1\" >-0.285666</td>\n",
       "            </tr>\n",
       "            <tr>\n",
       "                                <td id=\"T_1b431f4c_3349_11ed_bbe3_784f437c194arow5_col0\" class=\"data row5 col0\" >firstorder_Skewness</td>\n",
       "                        <td id=\"T_1b431f4c_3349_11ed_bbe3_784f437c194arow5_col1\" class=\"data row5 col1\" >0.019305</td>\n",
       "            </tr>\n",
       "    </tbody></table>"
      ],
      "text/plain": [
       "<pandas.io.formats.style.Styler at 0x7fa13f3b4a58>"
      ]
     },
     "metadata": {},
     "output_type": "display_data"
    },
    {
     "name": "stdout",
     "output_type": "stream",
     "text": [
      "\n",
      "\n",
      "shape|firstorder|histogram\n"
     ]
    },
    {
     "data": {
      "text/html": [
       "<style  type=\"text/css\" >\n",
       "</style><table id=\"T_1b443ad2_3349_11ed_a2c6_784f437c194a\" ><thead>    <tr>        <th class=\"col_heading level0 col0\" >Feature</th>        <th class=\"col_heading level0 col1\" >Coef</th>    </tr></thead><tbody>\n",
       "                <tr>\n",
       "                                <td id=\"T_1b443ad2_3349_11ed_a2c6_784f437c194arow0_col0\" class=\"data row0 col0\" >firstorder_90Percentile</td>\n",
       "                        <td id=\"T_1b443ad2_3349_11ed_a2c6_784f437c194arow0_col1\" class=\"data row0 col1\" >-1.690548</td>\n",
       "            </tr>\n",
       "            <tr>\n",
       "                                <td id=\"T_1b443ad2_3349_11ed_a2c6_784f437c194arow1_col0\" class=\"data row1 col0\" >firstorder_Uniformity</td>\n",
       "                        <td id=\"T_1b443ad2_3349_11ed_a2c6_784f437c194arow1_col1\" class=\"data row1 col1\" >-0.863377</td>\n",
       "            </tr>\n",
       "            <tr>\n",
       "                                <td id=\"T_1b443ad2_3349_11ed_a2c6_784f437c194arow2_col0\" class=\"data row2 col0\" >firstorder_Maximum</td>\n",
       "                        <td id=\"T_1b443ad2_3349_11ed_a2c6_784f437c194arow2_col1\" class=\"data row2 col1\" >0.768535</td>\n",
       "            </tr>\n",
       "            <tr>\n",
       "                                <td id=\"T_1b443ad2_3349_11ed_a2c6_784f437c194arow3_col0\" class=\"data row3 col0\" >shape_MeshVolume</td>\n",
       "                        <td id=\"T_1b443ad2_3349_11ed_a2c6_784f437c194arow3_col1\" class=\"data row3 col1\" >0.758636</td>\n",
       "            </tr>\n",
       "            <tr>\n",
       "                                <td id=\"T_1b443ad2_3349_11ed_a2c6_784f437c194arow4_col0\" class=\"data row4 col0\" >shape_Elongation</td>\n",
       "                        <td id=\"T_1b443ad2_3349_11ed_a2c6_784f437c194arow4_col1\" class=\"data row4 col1\" >-0.561089</td>\n",
       "            </tr>\n",
       "            <tr>\n",
       "                                <td id=\"T_1b443ad2_3349_11ed_a2c6_784f437c194arow5_col0\" class=\"data row5 col0\" >firstorder_Skewness</td>\n",
       "                        <td id=\"T_1b443ad2_3349_11ed_a2c6_784f437c194arow5_col1\" class=\"data row5 col1\" >0.546423</td>\n",
       "            </tr>\n",
       "            <tr>\n",
       "                                <td id=\"T_1b443ad2_3349_11ed_a2c6_784f437c194arow6_col0\" class=\"data row6 col0\" >shape_Flatness</td>\n",
       "                        <td id=\"T_1b443ad2_3349_11ed_a2c6_784f437c194arow6_col1\" class=\"data row6 col1\" >0.426431</td>\n",
       "            </tr>\n",
       "            <tr>\n",
       "                                <td id=\"T_1b443ad2_3349_11ed_a2c6_784f437c194arow7_col0\" class=\"data row7 col0\" >shape_Sphericity</td>\n",
       "                        <td id=\"T_1b443ad2_3349_11ed_a2c6_784f437c194arow7_col1\" class=\"data row7 col1\" >-0.414717</td>\n",
       "            </tr>\n",
       "            <tr>\n",
       "                                <td id=\"T_1b443ad2_3349_11ed_a2c6_784f437c194arow8_col0\" class=\"data row8 col0\" >firstorder_RootMeanSquared</td>\n",
       "                        <td id=\"T_1b443ad2_3349_11ed_a2c6_784f437c194arow8_col1\" class=\"data row8 col1\" >-0.361713</td>\n",
       "            </tr>\n",
       "    </tbody></table>"
      ],
      "text/plain": [
       "<pandas.io.formats.style.Styler at 0x7fa13f3b4908>"
      ]
     },
     "metadata": {},
     "output_type": "display_data"
    },
    {
     "name": "stdout",
     "output_type": "stream",
     "text": [
      "\n",
      "\n",
      "\n"
     ]
    },
    {
     "data": {
      "text/html": [
       "<style  type=\"text/css\" >\n",
       "</style><table id=\"T_1b4600ec_3349_11ed_a68d_784f437c194a\" ><thead>    <tr>        <th class=\"col_heading level0 col0\" >Feature</th>        <th class=\"col_heading level0 col1\" >Coef</th>    </tr></thead><tbody>\n",
       "                <tr>\n",
       "                                <td id=\"T_1b4600ec_3349_11ed_a68d_784f437c194arow0_col0\" class=\"data row0 col0\" >firstorder_90Percentile</td>\n",
       "                        <td id=\"T_1b4600ec_3349_11ed_a68d_784f437c194arow0_col1\" class=\"data row0 col1\" >-1.305927</td>\n",
       "            </tr>\n",
       "            <tr>\n",
       "                                <td id=\"T_1b4600ec_3349_11ed_a68d_784f437c194arow1_col0\" class=\"data row1 col0\" >glcm_Imc2</td>\n",
       "                        <td id=\"T_1b4600ec_3349_11ed_a68d_784f437c194arow1_col1\" class=\"data row1 col1\" >0.638548</td>\n",
       "            </tr>\n",
       "            <tr>\n",
       "                                <td id=\"T_1b4600ec_3349_11ed_a68d_784f437c194arow2_col0\" class=\"data row2 col0\" >firstorder_Maximum</td>\n",
       "                        <td id=\"T_1b4600ec_3349_11ed_a68d_784f437c194arow2_col1\" class=\"data row2 col1\" >0.566322</td>\n",
       "            </tr>\n",
       "            <tr>\n",
       "                                <td id=\"T_1b4600ec_3349_11ed_a68d_784f437c194arow3_col0\" class=\"data row3 col0\" >firstorder_InterquartileRange</td>\n",
       "                        <td id=\"T_1b4600ec_3349_11ed_a68d_784f437c194arow3_col1\" class=\"data row3 col1\" >0.520496</td>\n",
       "            </tr>\n",
       "            <tr>\n",
       "                                <td id=\"T_1b4600ec_3349_11ed_a68d_784f437c194arow4_col0\" class=\"data row4 col0\" >glszm_SmallAreaEmphasis</td>\n",
       "                        <td id=\"T_1b4600ec_3349_11ed_a68d_784f437c194arow4_col1\" class=\"data row4 col1\" >0.417105</td>\n",
       "            </tr>\n",
       "            <tr>\n",
       "                                <td id=\"T_1b4600ec_3349_11ed_a68d_784f437c194arow5_col0\" class=\"data row5 col0\" >ngtdm_Strength</td>\n",
       "                        <td id=\"T_1b4600ec_3349_11ed_a68d_784f437c194arow5_col1\" class=\"data row5 col1\" >-0.285398</td>\n",
       "            </tr>\n",
       "            <tr>\n",
       "                                <td id=\"T_1b4600ec_3349_11ed_a68d_784f437c194arow6_col0\" class=\"data row6 col0\" >firstorder_RootMeanSquared</td>\n",
       "                        <td id=\"T_1b4600ec_3349_11ed_a68d_784f437c194arow6_col1\" class=\"data row6 col1\" >-0.250015</td>\n",
       "            </tr>\n",
       "            <tr>\n",
       "                                <td id=\"T_1b4600ec_3349_11ed_a68d_784f437c194arow7_col0\" class=\"data row7 col0\" >shape_MeshVolume</td>\n",
       "                        <td id=\"T_1b4600ec_3349_11ed_a68d_784f437c194arow7_col1\" class=\"data row7 col1\" >0.239716</td>\n",
       "            </tr>\n",
       "            <tr>\n",
       "                                <td id=\"T_1b4600ec_3349_11ed_a68d_784f437c194arow8_col0\" class=\"data row8 col0\" >shape_Elongation</td>\n",
       "                        <td id=\"T_1b4600ec_3349_11ed_a68d_784f437c194arow8_col1\" class=\"data row8 col1\" >-0.170746</td>\n",
       "            </tr>\n",
       "            <tr>\n",
       "                                <td id=\"T_1b4600ec_3349_11ed_a68d_784f437c194arow9_col0\" class=\"data row9 col0\" >shape_Sphericity</td>\n",
       "                        <td id=\"T_1b4600ec_3349_11ed_a68d_784f437c194arow9_col1\" class=\"data row9 col1\" >-0.052473</td>\n",
       "            </tr>\n",
       "    </tbody></table>"
      ],
      "text/plain": [
       "<pandas.io.formats.style.Styler at 0x7fa13f3b4fd0>"
      ]
     },
     "metadata": {},
     "output_type": "display_data"
    },
    {
     "name": "stdout",
     "output_type": "stream",
     "text": [
      "\n",
      "\n",
      "\n"
     ]
    },
    {
     "data": {
      "text/html": [
       "<style  type=\"text/css\" >\n",
       "</style><table id=\"T_1b471c8c_3349_11ed_93ab_784f437c194a\" ><thead>    <tr>        <th class=\"col_heading level0 col0\" >Feature</th>        <th class=\"col_heading level0 col1\" >Coef</th>    </tr></thead><tbody>\n",
       "                <tr>\n",
       "                                <td id=\"T_1b471c8c_3349_11ed_93ab_784f437c194arow0_col0\" class=\"data row0 col0\" >firstorder_90Percentile</td>\n",
       "                        <td id=\"T_1b471c8c_3349_11ed_93ab_784f437c194arow0_col1\" class=\"data row0 col1\" >-1.241670</td>\n",
       "            </tr>\n",
       "            <tr>\n",
       "                                <td id=\"T_1b471c8c_3349_11ed_93ab_784f437c194arow1_col0\" class=\"data row1 col0\" >glszm_ZoneEntropy</td>\n",
       "                        <td id=\"T_1b471c8c_3349_11ed_93ab_784f437c194arow1_col1\" class=\"data row1 col1\" >0.926642</td>\n",
       "            </tr>\n",
       "            <tr>\n",
       "                                <td id=\"T_1b471c8c_3349_11ed_93ab_784f437c194arow2_col0\" class=\"data row2 col0\" >glszm_SizeZoneNonUniformityNormalized</td>\n",
       "                        <td id=\"T_1b471c8c_3349_11ed_93ab_784f437c194arow2_col1\" class=\"data row2 col1\" >0.644150</td>\n",
       "            </tr>\n",
       "            <tr>\n",
       "                                <td id=\"T_1b471c8c_3349_11ed_93ab_784f437c194arow3_col0\" class=\"data row3 col0\" >shape_MeshVolume</td>\n",
       "                        <td id=\"T_1b471c8c_3349_11ed_93ab_784f437c194arow3_col1\" class=\"data row3 col1\" >0.589014</td>\n",
       "            </tr>\n",
       "            <tr>\n",
       "                                <td id=\"T_1b471c8c_3349_11ed_93ab_784f437c194arow4_col0\" class=\"data row4 col0\" >shape_Elongation</td>\n",
       "                        <td id=\"T_1b471c8c_3349_11ed_93ab_784f437c194arow4_col1\" class=\"data row4 col1\" >-0.309919</td>\n",
       "            </tr>\n",
       "            <tr>\n",
       "                                <td id=\"T_1b471c8c_3349_11ed_93ab_784f437c194arow5_col0\" class=\"data row5 col0\" >firstorder_InterquartileRange</td>\n",
       "                        <td id=\"T_1b471c8c_3349_11ed_93ab_784f437c194arow5_col1\" class=\"data row5 col1\" >0.286877</td>\n",
       "            </tr>\n",
       "            <tr>\n",
       "                                <td id=\"T_1b471c8c_3349_11ed_93ab_784f437c194arow6_col0\" class=\"data row6 col0\" >firstorder_Maximum</td>\n",
       "                        <td id=\"T_1b471c8c_3349_11ed_93ab_784f437c194arow6_col1\" class=\"data row6 col1\" >0.192350</td>\n",
       "            </tr>\n",
       "            <tr>\n",
       "                                <td id=\"T_1b471c8c_3349_11ed_93ab_784f437c194arow7_col0\" class=\"data row7 col0\" >ngtdm_Strength</td>\n",
       "                        <td id=\"T_1b471c8c_3349_11ed_93ab_784f437c194arow7_col1\" class=\"data row7 col1\" >-0.151783</td>\n",
       "            </tr>\n",
       "            <tr>\n",
       "                                <td id=\"T_1b471c8c_3349_11ed_93ab_784f437c194arow8_col0\" class=\"data row8 col0\" >shape_Sphericity</td>\n",
       "                        <td id=\"T_1b471c8c_3349_11ed_93ab_784f437c194arow8_col1\" class=\"data row8 col1\" >-0.115014</td>\n",
       "            </tr>\n",
       "            <tr>\n",
       "                                <td id=\"T_1b471c8c_3349_11ed_93ab_784f437c194arow9_col0\" class=\"data row9 col0\" >firstorder_RootMeanSquared</td>\n",
       "                        <td id=\"T_1b471c8c_3349_11ed_93ab_784f437c194arow9_col1\" class=\"data row9 col1\" >-0.104979</td>\n",
       "            </tr>\n",
       "    </tbody></table>"
      ],
      "text/plain": [
       "<pandas.io.formats.style.Styler at 0x7fa13f3b46a0>"
      ]
     },
     "metadata": {},
     "output_type": "display_data"
    },
    {
     "name": "stdout",
     "output_type": "stream",
     "text": [
      "\n",
      "\n",
      "shape|firstorder|histogram\n"
     ]
    },
    {
     "data": {
      "text/html": [
       "<style  type=\"text/css\" >\n",
       "</style><table id=\"T_1b48d1fa_3349_11ed_a0f1_784f437c194a\" ><thead>    <tr>        <th class=\"col_heading level0 col0\" >Feature</th>        <th class=\"col_heading level0 col1\" >Coef</th>    </tr></thead><tbody>\n",
       "                <tr>\n",
       "                                <td id=\"T_1b48d1fa_3349_11ed_a0f1_784f437c194arow0_col0\" class=\"data row0 col0\" >firstorder_Median</td>\n",
       "                        <td id=\"T_1b48d1fa_3349_11ed_a0f1_784f437c194arow0_col1\" class=\"data row0 col1\" >-1.404576</td>\n",
       "            </tr>\n",
       "            <tr>\n",
       "                                <td id=\"T_1b48d1fa_3349_11ed_a0f1_784f437c194arow1_col0\" class=\"data row1 col0\" >shape_MeshVolume</td>\n",
       "                        <td id=\"T_1b48d1fa_3349_11ed_a0f1_784f437c194arow1_col1\" class=\"data row1 col1\" >0.311755</td>\n",
       "            </tr>\n",
       "            <tr>\n",
       "                                <td id=\"T_1b48d1fa_3349_11ed_a0f1_784f437c194arow2_col0\" class=\"data row2 col0\" >shape_Sphericity</td>\n",
       "                        <td id=\"T_1b48d1fa_3349_11ed_a0f1_784f437c194arow2_col1\" class=\"data row2 col1\" >-0.290808</td>\n",
       "            </tr>\n",
       "            <tr>\n",
       "                                <td id=\"T_1b48d1fa_3349_11ed_a0f1_784f437c194arow3_col0\" class=\"data row3 col0\" >firstorder_InterquartileRange</td>\n",
       "                        <td id=\"T_1b48d1fa_3349_11ed_a0f1_784f437c194arow3_col1\" class=\"data row3 col1\" >0.283302</td>\n",
       "            </tr>\n",
       "            <tr>\n",
       "                                <td id=\"T_1b48d1fa_3349_11ed_a0f1_784f437c194arow4_col0\" class=\"data row4 col0\" >firstorder_Maximum</td>\n",
       "                        <td id=\"T_1b48d1fa_3349_11ed_a0f1_784f437c194arow4_col1\" class=\"data row4 col1\" >0.258661</td>\n",
       "            </tr>\n",
       "            <tr>\n",
       "                                <td id=\"T_1b48d1fa_3349_11ed_a0f1_784f437c194arow5_col0\" class=\"data row5 col0\" >firstorder_Range</td>\n",
       "                        <td id=\"T_1b48d1fa_3349_11ed_a0f1_784f437c194arow5_col1\" class=\"data row5 col1\" >0.244307</td>\n",
       "            </tr>\n",
       "            <tr>\n",
       "                                <td id=\"T_1b48d1fa_3349_11ed_a0f1_784f437c194arow6_col0\" class=\"data row6 col0\" >firstorder_RootMeanSquared</td>\n",
       "                        <td id=\"T_1b48d1fa_3349_11ed_a0f1_784f437c194arow6_col1\" class=\"data row6 col1\" >-0.236815</td>\n",
       "            </tr>\n",
       "            <tr>\n",
       "                                <td id=\"T_1b48d1fa_3349_11ed_a0f1_784f437c194arow7_col0\" class=\"data row7 col0\" >shape_Elongation</td>\n",
       "                        <td id=\"T_1b48d1fa_3349_11ed_a0f1_784f437c194arow7_col1\" class=\"data row7 col1\" >-0.202536</td>\n",
       "            </tr>\n",
       "            <tr>\n",
       "                                <td id=\"T_1b48d1fa_3349_11ed_a0f1_784f437c194arow8_col0\" class=\"data row8 col0\" >firstorder_Kurtosis</td>\n",
       "                        <td id=\"T_1b48d1fa_3349_11ed_a0f1_784f437c194arow8_col1\" class=\"data row8 col1\" >-0.171617</td>\n",
       "            </tr>\n",
       "    </tbody></table>"
      ],
      "text/plain": [
       "<pandas.io.formats.style.Styler at 0x7fa13f3b48d0>"
      ]
     },
     "metadata": {},
     "output_type": "display_data"
    },
    {
     "name": "stdout",
     "output_type": "stream",
     "text": [
      "\n",
      "\n",
      "shape|firstorder|histogram\n"
     ]
    },
    {
     "data": {
      "text/html": [
       "<style  type=\"text/css\" >\n",
       "</style><table id=\"T_1b4a0926_3349_11ed_854a_784f437c194a\" ><thead>    <tr>        <th class=\"col_heading level0 col0\" >Feature</th>        <th class=\"col_heading level0 col1\" >Coef</th>    </tr></thead><tbody>\n",
       "                <tr>\n",
       "                                <td id=\"T_1b4a0926_3349_11ed_854a_784f437c194arow0_col0\" class=\"data row0 col0\" >firstorder_90Percentile</td>\n",
       "                        <td id=\"T_1b4a0926_3349_11ed_854a_784f437c194arow0_col1\" class=\"data row0 col1\" >-1.382107</td>\n",
       "            </tr>\n",
       "            <tr>\n",
       "                                <td id=\"T_1b4a0926_3349_11ed_854a_784f437c194arow1_col0\" class=\"data row1 col0\" >firstorder_InterquartileRange</td>\n",
       "                        <td id=\"T_1b4a0926_3349_11ed_854a_784f437c194arow1_col1\" class=\"data row1 col1\" >0.786896</td>\n",
       "            </tr>\n",
       "            <tr>\n",
       "                                <td id=\"T_1b4a0926_3349_11ed_854a_784f437c194arow2_col0\" class=\"data row2 col0\" >firstorder_Maximum</td>\n",
       "                        <td id=\"T_1b4a0926_3349_11ed_854a_784f437c194arow2_col1\" class=\"data row2 col1\" >0.435022</td>\n",
       "            </tr>\n",
       "            <tr>\n",
       "                                <td id=\"T_1b4a0926_3349_11ed_854a_784f437c194arow3_col0\" class=\"data row3 col0\" >shape_MeshVolume</td>\n",
       "                        <td id=\"T_1b4a0926_3349_11ed_854a_784f437c194arow3_col1\" class=\"data row3 col1\" >0.308816</td>\n",
       "            </tr>\n",
       "            <tr>\n",
       "                                <td id=\"T_1b4a0926_3349_11ed_854a_784f437c194arow4_col0\" class=\"data row4 col0\" >shape_Sphericity</td>\n",
       "                        <td id=\"T_1b4a0926_3349_11ed_854a_784f437c194arow4_col1\" class=\"data row4 col1\" >-0.302967</td>\n",
       "            </tr>\n",
       "            <tr>\n",
       "                                <td id=\"T_1b4a0926_3349_11ed_854a_784f437c194arow5_col0\" class=\"data row5 col0\" >firstorder_RootMeanSquared</td>\n",
       "                        <td id=\"T_1b4a0926_3349_11ed_854a_784f437c194arow5_col1\" class=\"data row5 col1\" >-0.254707</td>\n",
       "            </tr>\n",
       "            <tr>\n",
       "                                <td id=\"T_1b4a0926_3349_11ed_854a_784f437c194arow6_col0\" class=\"data row6 col0\" >firstorder_Kurtosis</td>\n",
       "                        <td id=\"T_1b4a0926_3349_11ed_854a_784f437c194arow6_col1\" class=\"data row6 col1\" >-0.155318</td>\n",
       "            </tr>\n",
       "            <tr>\n",
       "                                <td id=\"T_1b4a0926_3349_11ed_854a_784f437c194arow7_col0\" class=\"data row7 col0\" >shape_Elongation</td>\n",
       "                        <td id=\"T_1b4a0926_3349_11ed_854a_784f437c194arow7_col1\" class=\"data row7 col1\" >-0.107340</td>\n",
       "            </tr>\n",
       "    </tbody></table>"
      ],
      "text/plain": [
       "<pandas.io.formats.style.Styler at 0x7fa13f2d0860>"
      ]
     },
     "metadata": {},
     "output_type": "display_data"
    },
    {
     "name": "stdout",
     "output_type": "stream",
     "text": [
      "\n",
      "\n",
      "shape|firstorder|histogram\n"
     ]
    },
    {
     "data": {
      "text/html": [
       "<style  type=\"text/css\" >\n",
       "</style><table id=\"T_1b4bb8d4_3349_11ed_9c23_784f437c194a\" ><thead>    <tr>        <th class=\"col_heading level0 col0\" >Feature</th>        <th class=\"col_heading level0 col1\" >Coef</th>    </tr></thead><tbody>\n",
       "                <tr>\n",
       "                                <td id=\"T_1b4bb8d4_3349_11ed_9c23_784f437c194arow0_col0\" class=\"data row0 col0\" >firstorder_90Percentile</td>\n",
       "                        <td id=\"T_1b4bb8d4_3349_11ed_9c23_784f437c194arow0_col1\" class=\"data row0 col1\" >-1.170816</td>\n",
       "            </tr>\n",
       "            <tr>\n",
       "                                <td id=\"T_1b4bb8d4_3349_11ed_9c23_784f437c194arow1_col0\" class=\"data row1 col0\" >firstorder_Uniformity</td>\n",
       "                        <td id=\"T_1b4bb8d4_3349_11ed_9c23_784f437c194arow1_col1\" class=\"data row1 col1\" >-0.538928</td>\n",
       "            </tr>\n",
       "            <tr>\n",
       "                                <td id=\"T_1b4bb8d4_3349_11ed_9c23_784f437c194arow2_col0\" class=\"data row2 col0\" >shape_MeshVolume</td>\n",
       "                        <td id=\"T_1b4bb8d4_3349_11ed_9c23_784f437c194arow2_col1\" class=\"data row2 col1\" >0.532768</td>\n",
       "            </tr>\n",
       "            <tr>\n",
       "                                <td id=\"T_1b4bb8d4_3349_11ed_9c23_784f437c194arow3_col0\" class=\"data row3 col0\" >shape_Sphericity</td>\n",
       "                        <td id=\"T_1b4bb8d4_3349_11ed_9c23_784f437c194arow3_col1\" class=\"data row3 col1\" >-0.361735</td>\n",
       "            </tr>\n",
       "            <tr>\n",
       "                                <td id=\"T_1b4bb8d4_3349_11ed_9c23_784f437c194arow4_col0\" class=\"data row4 col0\" >firstorder_RootMeanSquared</td>\n",
       "                        <td id=\"T_1b4bb8d4_3349_11ed_9c23_784f437c194arow4_col1\" class=\"data row4 col1\" >-0.349098</td>\n",
       "            </tr>\n",
       "            <tr>\n",
       "                                <td id=\"T_1b4bb8d4_3349_11ed_9c23_784f437c194arow5_col0\" class=\"data row5 col0\" >firstorder_Maximum</td>\n",
       "                        <td id=\"T_1b4bb8d4_3349_11ed_9c23_784f437c194arow5_col1\" class=\"data row5 col1\" >0.279093</td>\n",
       "            </tr>\n",
       "            <tr>\n",
       "                                <td id=\"T_1b4bb8d4_3349_11ed_9c23_784f437c194arow6_col0\" class=\"data row6 col0\" >shape_Elongation</td>\n",
       "                        <td id=\"T_1b4bb8d4_3349_11ed_9c23_784f437c194arow6_col1\" class=\"data row6 col1\" >-0.161951</td>\n",
       "            </tr>\n",
       "            <tr>\n",
       "                                <td id=\"T_1b4bb8d4_3349_11ed_9c23_784f437c194arow7_col0\" class=\"data row7 col0\" >firstorder_Kurtosis</td>\n",
       "                        <td id=\"T_1b4bb8d4_3349_11ed_9c23_784f437c194arow7_col1\" class=\"data row7 col1\" >-0.086253</td>\n",
       "            </tr>\n",
       "    </tbody></table>"
      ],
      "text/plain": [
       "<pandas.io.formats.style.Styler at 0x7fa144692cc0>"
      ]
     },
     "metadata": {},
     "output_type": "display_data"
    },
    {
     "name": "stdout",
     "output_type": "stream",
     "text": [
      "\n",
      "\n"
     ]
    }
   ],
   "source": [
    "bc = np.zeros((len(cv_result['estimator']), X.shape[1]))\n",
    "for n, ecv in enumerate(cv_result['estimator']):\n",
    "    colMask0 = copy.deepcopy(ecv.best_estimator_.steps[0][1].mask_)\n",
    "    colMask1 = ecv.best_estimator_.steps[1][1].colMask_\n",
    "    colMask0[colMask0] = colMask1\n",
    "    bc[n, colMask0] = copy.deepcopy(ecv.best_estimator_._final_estimator.coef_)\n",
    "    coef = pd.DataFrame({'Feature':list(np.array(X.columns)[bc[n,:].ravel() != 0]), 'Coef':list(bc[n,bc[n,:] != 0])})\n",
    "    coef = coef.sort_values(by='Coef', ascending=False, key=abs)\n",
    "    coef = coef.loc[coef.Coef != 0,:]\n",
    "    print(ecv.best_estimator_.steps[1][1].groupFilter)\n",
    "    display(coef.style.hide_index())\n",
    "    print('\\n')"
   ]
  },
  {
   "cell_type": "code",
   "execution_count": 136,
   "metadata": {},
   "outputs": [
    {
     "data": {
      "text/html": [
       "<style  type=\"text/css\" >\n",
       "</style><table id=\"T_1b4ee1f8_3349_11ed_8e60_784f437c194a\" ><thead>    <tr>        <th class=\"col_heading level0 col0\" >Feature</th>        <th class=\"col_heading level0 col1\" >Frequency</th>    </tr></thead><tbody>\n",
       "                <tr>\n",
       "                                <td id=\"T_1b4ee1f8_3349_11ed_8e60_784f437c194arow0_col0\" class=\"data row0 col0\" >firstorder_RootMeanSquared</td>\n",
       "                        <td id=\"T_1b4ee1f8_3349_11ed_8e60_784f437c194arow0_col1\" class=\"data row0 col1\" >175</td>\n",
       "            </tr>\n",
       "            <tr>\n",
       "                                <td id=\"T_1b4ee1f8_3349_11ed_8e60_784f437c194arow1_col0\" class=\"data row1 col0\" >firstorder_Maximum</td>\n",
       "                        <td id=\"T_1b4ee1f8_3349_11ed_8e60_784f437c194arow1_col1\" class=\"data row1 col1\" >175</td>\n",
       "            </tr>\n",
       "            <tr>\n",
       "                                <td id=\"T_1b4ee1f8_3349_11ed_8e60_784f437c194arow2_col0\" class=\"data row2 col0\" >shape_MeshVolume</td>\n",
       "                        <td id=\"T_1b4ee1f8_3349_11ed_8e60_784f437c194arow2_col1\" class=\"data row2 col1\" >167</td>\n",
       "            </tr>\n",
       "            <tr>\n",
       "                                <td id=\"T_1b4ee1f8_3349_11ed_8e60_784f437c194arow3_col0\" class=\"data row3 col0\" >shape_Sphericity</td>\n",
       "                        <td id=\"T_1b4ee1f8_3349_11ed_8e60_784f437c194arow3_col1\" class=\"data row3 col1\" >167</td>\n",
       "            </tr>\n",
       "            <tr>\n",
       "                                <td id=\"T_1b4ee1f8_3349_11ed_8e60_784f437c194arow4_col0\" class=\"data row4 col0\" >firstorder_90Percentile</td>\n",
       "                        <td id=\"T_1b4ee1f8_3349_11ed_8e60_784f437c194arow4_col1\" class=\"data row4 col1\" >167</td>\n",
       "            </tr>\n",
       "            <tr>\n",
       "                                <td id=\"T_1b4ee1f8_3349_11ed_8e60_784f437c194arow5_col0\" class=\"data row5 col0\" >shape_Elongation</td>\n",
       "                        <td id=\"T_1b4ee1f8_3349_11ed_8e60_784f437c194arow5_col1\" class=\"data row5 col1\" >166</td>\n",
       "            </tr>\n",
       "            <tr>\n",
       "                                <td id=\"T_1b4ee1f8_3349_11ed_8e60_784f437c194arow6_col0\" class=\"data row6 col0\" >firstorder_InterquartileRange</td>\n",
       "                        <td id=\"T_1b4ee1f8_3349_11ed_8e60_784f437c194arow6_col1\" class=\"data row6 col1\" >132</td>\n",
       "            </tr>\n",
       "            <tr>\n",
       "                                <td id=\"T_1b4ee1f8_3349_11ed_8e60_784f437c194arow7_col0\" class=\"data row7 col0\" >firstorder_Kurtosis</td>\n",
       "                        <td id=\"T_1b4ee1f8_3349_11ed_8e60_784f437c194arow7_col1\" class=\"data row7 col1\" >111</td>\n",
       "            </tr>\n",
       "            <tr>\n",
       "                                <td id=\"T_1b4ee1f8_3349_11ed_8e60_784f437c194arow8_col0\" class=\"data row8 col0\" >ngtdm_Strength</td>\n",
       "                        <td id=\"T_1b4ee1f8_3349_11ed_8e60_784f437c194arow8_col1\" class=\"data row8 col1\" >66</td>\n",
       "            </tr>\n",
       "            <tr>\n",
       "                                <td id=\"T_1b4ee1f8_3349_11ed_8e60_784f437c194arow9_col0\" class=\"data row9 col0\" >shape_Flatness</td>\n",
       "                        <td id=\"T_1b4ee1f8_3349_11ed_8e60_784f437c194arow9_col1\" class=\"data row9 col1\" >59</td>\n",
       "            </tr>\n",
       "            <tr>\n",
       "                                <td id=\"T_1b4ee1f8_3349_11ed_8e60_784f437c194arow10_col0\" class=\"data row10 col0\" >glszm_SmallAreaEmphasis</td>\n",
       "                        <td id=\"T_1b4ee1f8_3349_11ed_8e60_784f437c194arow10_col1\" class=\"data row10 col1\" >55</td>\n",
       "            </tr>\n",
       "            <tr>\n",
       "                                <td id=\"T_1b4ee1f8_3349_11ed_8e60_784f437c194arow11_col0\" class=\"data row11 col0\" >firstorder_Skewness</td>\n",
       "                        <td id=\"T_1b4ee1f8_3349_11ed_8e60_784f437c194arow11_col1\" class=\"data row11 col1\" >54</td>\n",
       "            </tr>\n",
       "            <tr>\n",
       "                                <td id=\"T_1b4ee1f8_3349_11ed_8e60_784f437c194arow12_col0\" class=\"data row12 col0\" >glszm_ZoneEntropy</td>\n",
       "                        <td id=\"T_1b4ee1f8_3349_11ed_8e60_784f437c194arow12_col1\" class=\"data row12 col1\" >38</td>\n",
       "            </tr>\n",
       "            <tr>\n",
       "                                <td id=\"T_1b4ee1f8_3349_11ed_8e60_784f437c194arow13_col0\" class=\"data row13 col0\" >gldm_DependenceNonUniformityNormalized</td>\n",
       "                        <td id=\"T_1b4ee1f8_3349_11ed_8e60_784f437c194arow13_col1\" class=\"data row13 col1\" >38</td>\n",
       "            </tr>\n",
       "            <tr>\n",
       "                                <td id=\"T_1b4ee1f8_3349_11ed_8e60_784f437c194arow14_col0\" class=\"data row14 col0\" >firstorder_Uniformity</td>\n",
       "                        <td id=\"T_1b4ee1f8_3349_11ed_8e60_784f437c194arow14_col1\" class=\"data row14 col1\" >34</td>\n",
       "            </tr>\n",
       "            <tr>\n",
       "                                <td id=\"T_1b4ee1f8_3349_11ed_8e60_784f437c194arow15_col0\" class=\"data row15 col0\" >firstorder_Minimum</td>\n",
       "                        <td id=\"T_1b4ee1f8_3349_11ed_8e60_784f437c194arow15_col1\" class=\"data row15 col1\" >33</td>\n",
       "            </tr>\n",
       "            <tr>\n",
       "                                <td id=\"T_1b4ee1f8_3349_11ed_8e60_784f437c194arow16_col0\" class=\"data row16 col0\" >glszm_LargeAreaLowGrayLevelEmphasis</td>\n",
       "                        <td id=\"T_1b4ee1f8_3349_11ed_8e60_784f437c194arow16_col1\" class=\"data row16 col1\" >19</td>\n",
       "            </tr>\n",
       "            <tr>\n",
       "                                <td id=\"T_1b4ee1f8_3349_11ed_8e60_784f437c194arow17_col0\" class=\"data row17 col0\" >glszm_SizeZoneNonUniformityNormalized</td>\n",
       "                        <td id=\"T_1b4ee1f8_3349_11ed_8e60_784f437c194arow17_col1\" class=\"data row17 col1\" >19</td>\n",
       "            </tr>\n",
       "            <tr>\n",
       "                                <td id=\"T_1b4ee1f8_3349_11ed_8e60_784f437c194arow18_col0\" class=\"data row18 col0\" >firstorder_Range</td>\n",
       "                        <td id=\"T_1b4ee1f8_3349_11ed_8e60_784f437c194arow18_col1\" class=\"data row18 col1\" >15</td>\n",
       "            </tr>\n",
       "            <tr>\n",
       "                                <td id=\"T_1b4ee1f8_3349_11ed_8e60_784f437c194arow19_col0\" class=\"data row19 col0\" >ngtdm_Contrast</td>\n",
       "                        <td id=\"T_1b4ee1f8_3349_11ed_8e60_784f437c194arow19_col1\" class=\"data row19 col1\" >15</td>\n",
       "            </tr>\n",
       "            <tr>\n",
       "                                <td id=\"T_1b4ee1f8_3349_11ed_8e60_784f437c194arow20_col0\" class=\"data row20 col0\" >gldm_LowGrayLevelEmphasis</td>\n",
       "                        <td id=\"T_1b4ee1f8_3349_11ed_8e60_784f437c194arow20_col1\" class=\"data row20 col1\" >14</td>\n",
       "            </tr>\n",
       "            <tr>\n",
       "                                <td id=\"T_1b4ee1f8_3349_11ed_8e60_784f437c194arow21_col0\" class=\"data row21 col0\" >glcm_Imc2</td>\n",
       "                        <td id=\"T_1b4ee1f8_3349_11ed_8e60_784f437c194arow21_col1\" class=\"data row21 col1\" >9</td>\n",
       "            </tr>\n",
       "            <tr>\n",
       "                                <td id=\"T_1b4ee1f8_3349_11ed_8e60_784f437c194arow22_col0\" class=\"data row22 col0\" >firstorder_Median</td>\n",
       "                        <td id=\"T_1b4ee1f8_3349_11ed_8e60_784f437c194arow22_col1\" class=\"data row22 col1\" >8</td>\n",
       "            </tr>\n",
       "            <tr>\n",
       "                                <td id=\"T_1b4ee1f8_3349_11ed_8e60_784f437c194arow23_col0\" class=\"data row23 col0\" >glcm_Imc1</td>\n",
       "                        <td id=\"T_1b4ee1f8_3349_11ed_8e60_784f437c194arow23_col1\" class=\"data row23 col1\" >2</td>\n",
       "            </tr>\n",
       "            <tr>\n",
       "                                <td id=\"T_1b4ee1f8_3349_11ed_8e60_784f437c194arow24_col0\" class=\"data row24 col0\" >firstorder_Mean</td>\n",
       "                        <td id=\"T_1b4ee1f8_3349_11ed_8e60_784f437c194arow24_col1\" class=\"data row24 col1\" >1</td>\n",
       "            </tr>\n",
       "    </tbody></table>"
      ],
      "text/plain": [
       "<pandas.io.formats.style.Styler at 0x7fa13f0cba20>"
      ]
     },
     "execution_count": 136,
     "metadata": {},
     "output_type": "execute_result"
    }
   ],
   "source": [
    "pdFreq = pd.DataFrame({'Feature':X.columns, 'Frequency':np.sum(bc !=0, axis=0)})\n",
    "pdFreq = pdFreq.loc[pdFreq.Frequency>0,:].sort_values(by='Frequency', ascending=False, key=abs)\n",
    "pdFreq.style.hide_index()"
   ]
  },
  {
   "cell_type": "code",
   "execution_count": 137,
   "metadata": {},
   "outputs": [
    {
     "data": {
      "text/plain": [
       "array([0.356, 0.632, 0.632, 0.356, 0.632, 1.125, 0.356, 1.125, 0.632,\n",
       "       0.632, 0.632, 2.   , 0.356, 0.632, 1.125, 1.125, 0.356, 0.356,\n",
       "       0.632, 0.356, 2.   , 0.632, 0.632, 1.125, 0.356, 0.632, 1.125,\n",
       "       0.356, 0.632, 0.632, 1.125, 1.125, 0.356, 0.356, 0.356, 1.125,\n",
       "       0.356, 0.632, 1.125, 0.356, 1.125, 0.632, 0.632, 1.125, 0.356,\n",
       "       0.356, 0.356, 0.356, 0.632, 0.632, 2.   , 0.632, 0.356, 0.632,\n",
       "       0.356, 0.632, 0.632, 0.632, 0.356, 0.632, 0.356, 0.632, 1.125,\n",
       "       0.356, 1.125, 0.632, 0.632, 0.632, 0.356, 0.356, 0.632, 0.632,\n",
       "       2.   , 0.632, 0.356, 1.125, 0.632, 0.356, 0.632, 1.125, 0.632,\n",
       "       0.632, 0.632, 1.125, 0.356, 0.632, 0.632, 0.632, 1.125, 1.125,\n",
       "       1.125, 0.356, 1.125, 0.632, 0.632, 0.356, 0.356, 0.632, 0.356,\n",
       "       0.356, 0.356, 0.632, 0.356, 1.125, 0.356, 0.356, 0.356, 0.632,\n",
       "       0.356, 0.356, 0.632, 1.125, 0.632, 0.632, 0.356, 0.632, 2.   ,\n",
       "       0.632, 0.356, 0.356, 0.356, 1.125, 0.632, 1.125, 0.356, 0.356,\n",
       "       0.356, 1.125, 0.632, 0.632, 1.125, 0.356, 0.356, 0.632, 0.632,\n",
       "       0.632, 1.125, 1.125, 0.632, 0.632, 2.   , 0.632, 1.125, 1.125,\n",
       "       0.632, 0.356, 0.632, 0.356, 0.632, 0.632, 0.632, 1.125, 0.356,\n",
       "       0.632, 2.   , 0.356, 0.356, 0.356, 0.356, 2.   , 0.632, 1.125,\n",
       "       0.356, 0.632, 2.   , 1.125, 2.   , 1.125, 0.632, 0.356, 1.125,\n",
       "       2.   , 0.632, 0.356, 0.356, 0.356, 0.632, 0.356, 0.356, 0.356,\n",
       "       1.125, 0.632, 1.125, 0.632, 0.356, 0.356, 0.356, 0.632, 0.356,\n",
       "       1.125, 0.632, 0.632, 0.632, 0.632, 1.125, 0.356, 0.356, 0.356,\n",
       "       0.356, 0.356])"
      ]
     },
     "execution_count": 137,
     "metadata": {},
     "output_type": "execute_result"
    }
   ],
   "source": [
    "C = []\n",
    "for est in cv_result['estimator']:\n",
    "    C.append(copy.deepcopy(est.best_estimator_.steps[3][1].C))\n",
    "np.round(C,3)"
   ]
  },
  {
   "cell_type": "code",
   "execution_count": 168,
   "metadata": {},
   "outputs": [],
   "source": [
    "# uncomment whichever is needed\n",
    "\n",
    "#dill.dump_session('/Users/morton/Dicom Files/RADSARC_R/XNAT/experiments/GroupSelectionBasicFeatures_evaluateCorrelationThrehold/fittedModels.pkl')\n",
    "#dill.load_session('/Users/morton/Dicom Files/RADSARC_R/XNAT/experiments/GroupSelectionBasicFeatures_evaluateCorrelationThrehold/fittedModels.pkl')"
   ]
  },
  {
   "cell_type": "code",
   "execution_count": 169,
   "metadata": {},
   "outputs": [],
   "source": [
    "colNames = groupStrsDisp(groupHierarchy)\n",
    "colNames.insert(0, 'threshold')\n",
    "groupFrequencyDf = pd.DataFrame(columns=colNames)\n",
    "\n",
    "for threshStr, result in experiments.items():\n",
    "    cv_result = result['cv_result']\n",
    "    group_cv_counts = {}\n",
    "    group_cv = [groupStrsDisp(x.best_estimator_.steps[1][1].groupFilter) for x in cv_result['estimator']]\n",
    "    groupCounts = [0]*len(groupHierarchy)\n",
    "    for n, group in enumerate(groupStrsDisp(groupHierarchy)):\n",
    "        groupCounts[n] = len([x for x in group_cv if x==group])\n",
    "    groupCounts = [x/np.sum(groupCounts) for x in groupCounts]\n",
    "    groupCounts.insert(0, float(threshStr))\n",
    "    groupFrequencyDf = groupFrequencyDf.append(pd.DataFrame(data=[groupCounts], columns=colNames))\n",
    "groupFrequencyDf = groupFrequencyDf.reset_index(drop=True)"
   ]
  },
  {
   "cell_type": "code",
   "execution_count": 170,
   "metadata": {},
   "outputs": [
    {
     "data": {
      "image/png": "[encoded data removed]",
      "text/plain": [
       "<Figure size 864x864 with 2 Axes>"
      ]
     },
     "metadata": {
      "needs_background": "light"
     },
     "output_type": "display_data"
    }
   ],
   "source": [
    "plt.rcParams['font.size'] = '14'\n",
    "f,a = plt.subplots(2,1, figsize=(12,12))\n",
    "for group in groupStrsDisp(groupHierarchy):\n",
    "    a[0].plot(groupFrequencyDf['threshold'], 100*groupFrequencyDf[group], label=group, marker='.')\n",
    "a[0].legend(fontsize=10)\n",
    "a[0].set_xlabel('Correlation threshold')\n",
    "a[0].set_ylabel('Selection frequency / %')\n",
    "\n",
    "a[1].plot(thresholds, cv_mean, marker='.')\n",
    "a[1].plot(thresholds, np.array(cv_mean) + np.array(cv_std), linestyle='--', color='C0')\n",
    "a[1].plot(thresholds, np.array(cv_mean) - np.array(cv_std), linestyle='--', color='C0')\n",
    "a[1].set_ylim([0.6, 1.05])\n",
    "a[1].set_xlabel('Correlation threshold')\n",
    "a[1].set_ylabel('AUROC')\n",
    "\n",
    "plt.show()"
   ]
  },
  {
   "cell_type": "code",
   "execution_count": 211,
   "metadata": {},
   "outputs": [],
   "source": [
    "# experiments.keys()"
   ]
  },
  {
   "cell_type": "code",
   "execution_count": 214,
   "metadata": {},
   "outputs": [],
   "source": [
    "# get the experiment with threshold = 0.8\n",
    "\n",
    "thresholdStr = '0.7800000000000001'\n",
    "#thresholdStr = '0.9400000000000003'\n",
    "model = experiments[thresholdStr]['model']\n",
    "cv_result = experiments[thresholdStr]['cv_result']"
   ]
  },
  {
   "cell_type": "code",
   "execution_count": 215,
   "metadata": {},
   "outputs": [
    {
     "name": "stdout",
     "output_type": "stream",
     "text": [
      "AUROC (CV) = 0.87052\n"
     ]
    }
   ],
   "source": [
    "print('AUROC (CV) = ' + str(np.round(np.mean(cv_result['test_score']),5)))"
   ]
  },
  {
   "cell_type": "code",
   "execution_count": 216,
   "metadata": {},
   "outputs": [
    {
     "data": {
      "text/plain": [
       "'shape|firstorder'"
      ]
     },
     "execution_count": 216,
     "metadata": {},
     "output_type": "execute_result"
    }
   ],
   "source": [
    "# from fit to all data get the best feature group combination\n",
    "groupStrsDisp(model.best_estimator_.steps[1][1].groupFilter)"
   ]
  },
  {
   "cell_type": "code",
   "execution_count": 1,
   "metadata": {},
   "outputs": [
    {
     "ename": "NameError",
     "evalue": "name 'copy' is not defined",
     "output_type": "error",
     "traceback": [
      "\u001b[0;31m---------------------------------------------------------------------------\u001b[0m",
      "\u001b[0;31mNameError\u001b[0m                                 Traceback (most recent call last)",
      "\u001b[0;32m<ipython-input-1-074690daae7d>\u001b[0m in \u001b[0;36m<module>\u001b[0;34m\u001b[0m\n\u001b[1;32m      1\u001b[0m \u001b[0;31m# from fit to all data get the non-zero LR coefficients\u001b[0m\u001b[0;34m\u001b[0m\u001b[0;34m\u001b[0m\u001b[0;34m\u001b[0m\u001b[0m\n\u001b[0;32m----> 2\u001b[0;31m \u001b[0mcolMask0\u001b[0m \u001b[0;34m=\u001b[0m \u001b[0mcopy\u001b[0m\u001b[0;34m.\u001b[0m\u001b[0mdeepcopy\u001b[0m\u001b[0;34m(\u001b[0m\u001b[0mmodel\u001b[0m\u001b[0;34m.\u001b[0m\u001b[0mbest_estimator_\u001b[0m\u001b[0;34m.\u001b[0m\u001b[0msteps\u001b[0m\u001b[0;34m[\u001b[0m\u001b[0;36m0\u001b[0m\u001b[0;34m]\u001b[0m\u001b[0;34m[\u001b[0m\u001b[0;36m1\u001b[0m\u001b[0;34m]\u001b[0m\u001b[0;34m.\u001b[0m\u001b[0mmask_\u001b[0m\u001b[0;34m)\u001b[0m\u001b[0;34m\u001b[0m\u001b[0;34m\u001b[0m\u001b[0m\n\u001b[0m\u001b[1;32m      3\u001b[0m \u001b[0mcolMask1\u001b[0m \u001b[0;34m=\u001b[0m \u001b[0mmodel\u001b[0m\u001b[0;34m.\u001b[0m\u001b[0mbest_estimator_\u001b[0m\u001b[0;34m.\u001b[0m\u001b[0msteps\u001b[0m\u001b[0;34m[\u001b[0m\u001b[0;36m1\u001b[0m\u001b[0;34m]\u001b[0m\u001b[0;34m[\u001b[0m\u001b[0;36m1\u001b[0m\u001b[0;34m]\u001b[0m\u001b[0;34m.\u001b[0m\u001b[0mcolMask_\u001b[0m\u001b[0;34m\u001b[0m\u001b[0;34m\u001b[0m\u001b[0m\n\u001b[1;32m      4\u001b[0m \u001b[0mcolMask0\u001b[0m\u001b[0;34m[\u001b[0m\u001b[0mcolMask0\u001b[0m\u001b[0;34m]\u001b[0m \u001b[0;34m=\u001b[0m \u001b[0mcolMask1\u001b[0m\u001b[0;34m\u001b[0m\u001b[0;34m\u001b[0m\u001b[0m\n\u001b[1;32m      5\u001b[0m \u001b[0mbc\u001b[0m \u001b[0;34m=\u001b[0m \u001b[0mnp\u001b[0m\u001b[0;34m.\u001b[0m\u001b[0mzeros\u001b[0m\u001b[0;34m(\u001b[0m\u001b[0;34m(\u001b[0m\u001b[0mX\u001b[0m\u001b[0;34m.\u001b[0m\u001b[0mshape\u001b[0m\u001b[0;34m[\u001b[0m\u001b[0;36m1\u001b[0m\u001b[0;34m]\u001b[0m\u001b[0;34m)\u001b[0m\u001b[0;34m)\u001b[0m\u001b[0;34m\u001b[0m\u001b[0;34m\u001b[0m\u001b[0m\n",
      "\u001b[0;31mNameError\u001b[0m: name 'copy' is not defined"
     ]
    }
   ],
   "source": [
    "# from fit to all data get the non-zero LR coefficients\n",
    "colMask0 = copy.deepcopy(model.best_estimator_.steps[0][1].mask_)\n",
    "colMask1 = model.best_estimator_.steps[1][1].colMask_\n",
    "colMask0[colMask0] = colMask1\n",
    "bc = np.zeros((X.shape[1]))\n",
    "bc[colMask0] = copy.deepcopy(model.best_estimator_._final_estimator.coef_).ravel()\n",
    "bestCoef = pd.DataFrame({'Feature':list(np.array(X.columns)[bc != 0]), 'Coef':list(bc[bc != 0])})\n",
    "bestCoef = bestCoef.sort_values(by='Coef', ascending=False, key=abs)\n",
    "bestCoef = bestCoef.loc[bestCoef.Coef != 0,:]\n",
    "bestCoef.style.hide_index()"
   ]
  },
  {
   "cell_type": "code",
   "execution_count": 237,
   "metadata": {},
   "outputs": [
    {
     "data": {
      "text/html": [
       "<style  type=\"text/css\" >\n",
       "</style><table id=\"T_86fdf97e_334f_11ed_be6a_784f437c194a\" ><thead>    <tr>        <th class=\"col_heading level0 col0\" >Feature</th>        <th class=\"col_heading level0 col1\" >Frequency</th>        <th class=\"col_heading level0 col2\" >Coef</th>    </tr></thead><tbody>\n",
       "                <tr>\n",
       "                                <td id=\"T_86fdf97e_334f_11ed_be6a_784f437c194arow0_col0\" class=\"data row0 col0\" >firstorder_Maximum</td>\n",
       "                        <td id=\"T_86fdf97e_334f_11ed_be6a_784f437c194arow0_col1\" class=\"data row0 col1\" >94.50</td>\n",
       "                        <td id=\"T_86fdf97e_334f_11ed_be6a_784f437c194arow0_col2\" class=\"data row0 col2\" >0.94</td>\n",
       "            </tr>\n",
       "            <tr>\n",
       "                                <td id=\"T_86fdf97e_334f_11ed_be6a_784f437c194arow1_col0\" class=\"data row1 col0\" >firstorder_RootMeanSquared</td>\n",
       "                        <td id=\"T_86fdf97e_334f_11ed_be6a_784f437c194arow1_col1\" class=\"data row1 col1\" >94.00</td>\n",
       "                        <td id=\"T_86fdf97e_334f_11ed_be6a_784f437c194arow1_col2\" class=\"data row1 col2\" >-0.25</td>\n",
       "            </tr>\n",
       "            <tr>\n",
       "                                <td id=\"T_86fdf97e_334f_11ed_be6a_784f437c194arow2_col0\" class=\"data row2 col0\" >firstorder_90Percentile</td>\n",
       "                        <td id=\"T_86fdf97e_334f_11ed_be6a_784f437c194arow2_col1\" class=\"data row2 col1\" >90.00</td>\n",
       "                        <td id=\"T_86fdf97e_334f_11ed_be6a_784f437c194arow2_col2\" class=\"data row2 col2\" >-1.59</td>\n",
       "            </tr>\n",
       "            <tr>\n",
       "                                <td id=\"T_86fdf97e_334f_11ed_be6a_784f437c194arow3_col0\" class=\"data row3 col0\" >shape_MeshVolume</td>\n",
       "                        <td id=\"T_86fdf97e_334f_11ed_be6a_784f437c194arow3_col1\" class=\"data row3 col1\" >82.50</td>\n",
       "                        <td id=\"T_86fdf97e_334f_11ed_be6a_784f437c194arow3_col2\" class=\"data row3 col2\" >0.58</td>\n",
       "            </tr>\n",
       "            <tr>\n",
       "                                <td id=\"T_86fdf97e_334f_11ed_be6a_784f437c194arow4_col0\" class=\"data row4 col0\" >shape_Sphericity</td>\n",
       "                        <td id=\"T_86fdf97e_334f_11ed_be6a_784f437c194arow4_col1\" class=\"data row4 col1\" >82.50</td>\n",
       "                        <td id=\"T_86fdf97e_334f_11ed_be6a_784f437c194arow4_col2\" class=\"data row4 col2\" >-0.30</td>\n",
       "            </tr>\n",
       "            <tr>\n",
       "                                <td id=\"T_86fdf97e_334f_11ed_be6a_784f437c194arow5_col0\" class=\"data row5 col0\" >shape_Elongation</td>\n",
       "                        <td id=\"T_86fdf97e_334f_11ed_be6a_784f437c194arow5_col1\" class=\"data row5 col1\" >81.50</td>\n",
       "                        <td id=\"T_86fdf97e_334f_11ed_be6a_784f437c194arow5_col2\" class=\"data row5 col2\" >-0.32</td>\n",
       "            </tr>\n",
       "            <tr>\n",
       "                                <td id=\"T_86fdf97e_334f_11ed_be6a_784f437c194arow6_col0\" class=\"data row6 col0\" >firstorder_Kurtosis</td>\n",
       "                        <td id=\"T_86fdf97e_334f_11ed_be6a_784f437c194arow6_col1\" class=\"data row6 col1\" >79.50</td>\n",
       "                        <td id=\"T_86fdf97e_334f_11ed_be6a_784f437c194arow6_col2\" class=\"data row6 col2\" >-0.41</td>\n",
       "            </tr>\n",
       "            <tr>\n",
       "                                <td id=\"T_86fdf97e_334f_11ed_be6a_784f437c194arow7_col0\" class=\"data row7 col0\" >firstorder_InterquartileRange</td>\n",
       "                        <td id=\"T_86fdf97e_334f_11ed_be6a_784f437c194arow7_col1\" class=\"data row7 col1\" >71.50</td>\n",
       "                        <td id=\"T_86fdf97e_334f_11ed_be6a_784f437c194arow7_col2\" class=\"data row7 col2\" >0.99</td>\n",
       "            </tr>\n",
       "            <tr>\n",
       "                                <td id=\"T_86fdf97e_334f_11ed_be6a_784f437c194arow8_col0\" class=\"data row8 col0\" >shape_Flatness</td>\n",
       "                        <td id=\"T_86fdf97e_334f_11ed_be6a_784f437c194arow8_col1\" class=\"data row8 col1\" >41.50</td>\n",
       "                        <td id=\"T_86fdf97e_334f_11ed_be6a_784f437c194arow8_col2\" class=\"data row8 col2\" >0.21</td>\n",
       "            </tr>\n",
       "            <tr>\n",
       "                                <td id=\"T_86fdf97e_334f_11ed_be6a_784f437c194arow9_col0\" class=\"data row9 col0\" >firstorder_Skewness</td>\n",
       "                        <td id=\"T_86fdf97e_334f_11ed_be6a_784f437c194arow9_col1\" class=\"data row9 col1\" >24.50</td>\n",
       "                        <td id=\"T_86fdf97e_334f_11ed_be6a_784f437c194arow9_col2\" class=\"data row9 col2\" ></td>\n",
       "            </tr>\n",
       "            <tr>\n",
       "                                <td id=\"T_86fdf97e_334f_11ed_be6a_784f437c194arow10_col0\" class=\"data row10 col0\" >firstorder_Minimum</td>\n",
       "                        <td id=\"T_86fdf97e_334f_11ed_be6a_784f437c194arow10_col1\" class=\"data row10 col1\" >24.00</td>\n",
       "                        <td id=\"T_86fdf97e_334f_11ed_be6a_784f437c194arow10_col2\" class=\"data row10 col2\" ></td>\n",
       "            </tr>\n",
       "            <tr>\n",
       "                                <td id=\"T_86fdf97e_334f_11ed_be6a_784f437c194arow11_col0\" class=\"data row11 col0\" >firstorder_Uniformity</td>\n",
       "                        <td id=\"T_86fdf97e_334f_11ed_be6a_784f437c194arow11_col1\" class=\"data row11 col1\" >23.00</td>\n",
       "                        <td id=\"T_86fdf97e_334f_11ed_be6a_784f437c194arow11_col2\" class=\"data row11 col2\" ></td>\n",
       "            </tr>\n",
       "            <tr>\n",
       "                                <td id=\"T_86fdf97e_334f_11ed_be6a_784f437c194arow12_col0\" class=\"data row12 col0\" >gldm_DependenceNonUniformityNormalized</td>\n",
       "                        <td id=\"T_86fdf97e_334f_11ed_be6a_784f437c194arow12_col1\" class=\"data row12 col1\" >13.50</td>\n",
       "                        <td id=\"T_86fdf97e_334f_11ed_be6a_784f437c194arow12_col2\" class=\"data row12 col2\" ></td>\n",
       "            </tr>\n",
       "            <tr>\n",
       "                                <td id=\"T_86fdf97e_334f_11ed_be6a_784f437c194arow13_col0\" class=\"data row13 col0\" >ngtdm_Strength</td>\n",
       "                        <td id=\"T_86fdf97e_334f_11ed_be6a_784f437c194arow13_col1\" class=\"data row13 col1\" >13.50</td>\n",
       "                        <td id=\"T_86fdf97e_334f_11ed_be6a_784f437c194arow13_col2\" class=\"data row13 col2\" ></td>\n",
       "            </tr>\n",
       "            <tr>\n",
       "                                <td id=\"T_86fdf97e_334f_11ed_be6a_784f437c194arow14_col0\" class=\"data row14 col0\" >glszm_SmallAreaEmphasis</td>\n",
       "                        <td id=\"T_86fdf97e_334f_11ed_be6a_784f437c194arow14_col1\" class=\"data row14 col1\" >12.50</td>\n",
       "                        <td id=\"T_86fdf97e_334f_11ed_be6a_784f437c194arow14_col2\" class=\"data row14 col2\" ></td>\n",
       "            </tr>\n",
       "            <tr>\n",
       "                                <td id=\"T_86fdf97e_334f_11ed_be6a_784f437c194arow15_col0\" class=\"data row15 col0\" >glszm_LargeAreaLowGrayLevelEmphasis</td>\n",
       "                        <td id=\"T_86fdf97e_334f_11ed_be6a_784f437c194arow15_col1\" class=\"data row15 col1\" >5.00</td>\n",
       "                        <td id=\"T_86fdf97e_334f_11ed_be6a_784f437c194arow15_col2\" class=\"data row15 col2\" ></td>\n",
       "            </tr>\n",
       "            <tr>\n",
       "                                <td id=\"T_86fdf97e_334f_11ed_be6a_784f437c194arow16_col0\" class=\"data row16 col0\" >firstorder_Median</td>\n",
       "                        <td id=\"T_86fdf97e_334f_11ed_be6a_784f437c194arow16_col1\" class=\"data row16 col1\" >4.00</td>\n",
       "                        <td id=\"T_86fdf97e_334f_11ed_be6a_784f437c194arow16_col2\" class=\"data row16 col2\" ></td>\n",
       "            </tr>\n",
       "            <tr>\n",
       "                                <td id=\"T_86fdf97e_334f_11ed_be6a_784f437c194arow17_col0\" class=\"data row17 col0\" >glszm_SizeZoneNonUniformityNormalized</td>\n",
       "                        <td id=\"T_86fdf97e_334f_11ed_be6a_784f437c194arow17_col1\" class=\"data row17 col1\" >3.00</td>\n",
       "                        <td id=\"T_86fdf97e_334f_11ed_be6a_784f437c194arow17_col2\" class=\"data row17 col2\" ></td>\n",
       "            </tr>\n",
       "            <tr>\n",
       "                                <td id=\"T_86fdf97e_334f_11ed_be6a_784f437c194arow18_col0\" class=\"data row18 col0\" >ngtdm_Contrast</td>\n",
       "                        <td id=\"T_86fdf97e_334f_11ed_be6a_784f437c194arow18_col1\" class=\"data row18 col1\" >3.00</td>\n",
       "                        <td id=\"T_86fdf97e_334f_11ed_be6a_784f437c194arow18_col2\" class=\"data row18 col2\" ></td>\n",
       "            </tr>\n",
       "            <tr>\n",
       "                                <td id=\"T_86fdf97e_334f_11ed_be6a_784f437c194arow19_col0\" class=\"data row19 col0\" >gldm_LowGrayLevelEmphasis</td>\n",
       "                        <td id=\"T_86fdf97e_334f_11ed_be6a_784f437c194arow19_col1\" class=\"data row19 col1\" >1.00</td>\n",
       "                        <td id=\"T_86fdf97e_334f_11ed_be6a_784f437c194arow19_col2\" class=\"data row19 col2\" ></td>\n",
       "            </tr>\n",
       "            <tr>\n",
       "                                <td id=\"T_86fdf97e_334f_11ed_be6a_784f437c194arow20_col0\" class=\"data row20 col0\" >glcm_Imc1</td>\n",
       "                        <td id=\"T_86fdf97e_334f_11ed_be6a_784f437c194arow20_col1\" class=\"data row20 col1\" >1.00</td>\n",
       "                        <td id=\"T_86fdf97e_334f_11ed_be6a_784f437c194arow20_col2\" class=\"data row20 col2\" ></td>\n",
       "            </tr>\n",
       "            <tr>\n",
       "                                <td id=\"T_86fdf97e_334f_11ed_be6a_784f437c194arow21_col0\" class=\"data row21 col0\" >glszm_ZoneEntropy</td>\n",
       "                        <td id=\"T_86fdf97e_334f_11ed_be6a_784f437c194arow21_col1\" class=\"data row21 col1\" >0.50</td>\n",
       "                        <td id=\"T_86fdf97e_334f_11ed_be6a_784f437c194arow21_col2\" class=\"data row21 col2\" ></td>\n",
       "            </tr>\n",
       "            <tr>\n",
       "                                <td id=\"T_86fdf97e_334f_11ed_be6a_784f437c194arow22_col0\" class=\"data row22 col0\" >firstorder_Mean</td>\n",
       "                        <td id=\"T_86fdf97e_334f_11ed_be6a_784f437c194arow22_col1\" class=\"data row22 col1\" >0.50</td>\n",
       "                        <td id=\"T_86fdf97e_334f_11ed_be6a_784f437c194arow22_col2\" class=\"data row22 col2\" ></td>\n",
       "            </tr>\n",
       "    </tbody></table>"
      ],
      "text/plain": [
       "<pandas.io.formats.style.Styler at 0x7fa126be90f0>"
      ]
     },
     "execution_count": 237,
     "metadata": {},
     "output_type": "execute_result"
    }
   ],
   "source": [
    "# get frequency that each feature is selected\n",
    "\n",
    "bc = np.zeros((len(cv_result['estimator']), X.shape[1]))\n",
    "for n, ecv in enumerate(cv_result['estimator']):\n",
    "    colMask0 = copy.deepcopy(ecv.best_estimator_.steps[0][1].mask_)\n",
    "    colMask1 = ecv.best_estimator_.steps[1][1].colMask_\n",
    "    colMask0[colMask0] = colMask1\n",
    "    bc[n, colMask0] = copy.deepcopy(ecv.best_estimator_._final_estimator.coef_)\n",
    "    coef = pd.DataFrame({'Feature':list(np.array(X.columns)[bc[n,:].ravel() != 0]), 'Coef':list(bc[n,bc[n,:] != 0])})\n",
    "    coef = coef.sort_values(by='Coef', ascending=False, key=abs)\n",
    "    coef = coef.loc[coef.Coef != 0,:]\n",
    "\n",
    "pdFreq = pd.DataFrame({'Feature':X.columns, 'Frequency':np.sum(bc !=0, axis=0)/(n_splits*n_repeats)*100})\n",
    "\n",
    "# add coeff values for best fit\n",
    "pdFreq['Coef'] = ''\n",
    "for _, row in bestCoef.iterrows():\n",
    "    rowIndex = pdFreq.index[pdFreq.Feature == row.Feature].tolist()[0]\n",
    "    pdFreq.loc[rowIndex,'Coef'] = row.Coef\n",
    "\n",
    "pdFreq = pdFreq.loc[pdFreq.Frequency>0,:].sort_values(by='Frequency', ascending=False, key=abs)\n",
    "\n",
    "pd.set_option('display.precision', 2)\n",
    "pdFreq.style.hide_index()"
   ]
  },
  {
   "cell_type": "code",
   "execution_count": 243,
   "metadata": {},
   "outputs": [
    {
     "data": {
      "text/plain": [
       "<matplotlib.collections.PathCollection at 0x7fa126eb5668>"
      ]
     },
     "execution_count": 243,
     "metadata": {},
     "output_type": "execute_result"
    },
    {
     "data": {
      "image/png": "[encoded data removed]",
      "text/plain": [
       "<Figure size 432x288 with 1 Axes>"
      ]
     },
     "metadata": {
      "needs_background": "light"
     },
     "output_type": "display_data"
    }
   ],
   "source": [
    "plt.scatter(np.log10(df['shape_MeshVolume']), df['shape_Sphericity'])"
   ]
  },
  {
   "cell_type": "code",
   "execution_count": null,
   "metadata": {},
   "outputs": [],
   "source": []
  }
 ],
 "metadata": {
  "kernelspec": {
   "display_name": "Python 3",
   "language": "python",
   "name": "python3"
  },
  "language_info": {
   "codemirror_mode": {
    "name": "ipython",
    "version": 3
   },
   "file_extension": ".py",
   "mimetype": "text/x-python",
   "name": "python",
   "nbconvert_exporter": "python",
   "pygments_lexer": "ipython3",
   "version": "3.6.8"
  }
 },
 "nbformat": 4,
 "nbformat_minor": 2
}
