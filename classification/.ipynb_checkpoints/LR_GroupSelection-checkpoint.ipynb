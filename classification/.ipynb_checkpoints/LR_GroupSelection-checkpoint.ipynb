{
 "cells": [
  {
   "cell_type": "markdown",
   "metadata": {},
   "source": [
    "# Retroperitoneal sarcoma radiomics study\n",
    "# Prediction of tumour type and grade\n",
    "# Logistic regression with group selection"
   ]
  },
  {
   "cell_type": "code",
   "execution_count": 5,
   "metadata": {},
   "outputs": [
    {
     "name": "stdout",
     "output_type": "stream",
     "text": [
      "/Users/adminehann\n"
     ]
    },
    {
     "ename": "NameError",
     "evalue": "name 'user' is not defined",
     "output_type": "error",
     "traceback": [
      "\u001b[0;31m---------------------------------------------------------------------------\u001b[0m",
      "\u001b[0;31mNameError\u001b[0m                                 Traceback (most recent call last)",
      "\u001b[0;32m<ipython-input-5-154615cce7e7>\u001b[0m in \u001b[0;36m<module>\u001b[0;34m\u001b[0m\n\u001b[1;32m      1\u001b[0m \u001b[0;32mimport\u001b[0m \u001b[0mos\u001b[0m\u001b[0;34m\u001b[0m\u001b[0;34m\u001b[0m\u001b[0m\n\u001b[1;32m      2\u001b[0m \u001b[0mprint\u001b[0m\u001b[0;34m(\u001b[0m\u001b[0mos\u001b[0m\u001b[0;34m.\u001b[0m\u001b[0mpath\u001b[0m\u001b[0;34m.\u001b[0m\u001b[0mexpanduser\u001b[0m\u001b[0;34m(\u001b[0m\u001b[0;34m\"~\"\u001b[0m\u001b[0;34m)\u001b[0m\u001b[0;34m)\u001b[0m\u001b[0;34m\u001b[0m\u001b[0;34m\u001b[0m\u001b[0m\n\u001b[0;32m----> 3\u001b[0;31m \u001b[0muser\u001b[0m\u001b[0;34m\u001b[0m\u001b[0;34m\u001b[0m\u001b[0m\n\u001b[0m",
      "\u001b[0;31mNameError\u001b[0m: name 'user' is not defined"
     ]
    }
   ],
   "source": [
    "import os\n",
    "print(os.path.expanduser(\"~\"))\n",
    "user"
   ]
  },
  {
   "cell_type": "code",
   "execution_count": 3,
   "metadata": {},
   "outputs": [],
   "source": [
    "import numpy as np\n",
    "import pandas as pd\n",
    "pd.set_option('display.max_columns', 500, 'display.max_rows', 500, 'display.precision', 3)\n",
    "from sklearn.model_selection import train_test_split\n",
    "from sklearn.linear_model import LogisticRegressionCV, LogisticRegression\n",
    "from sklearn.preprocessing import StandardScaler\n",
    "from sklearn.ensemble import RandomForestClassifier\n",
    "from sklearn.metrics import roc_auc_score, make_scorer\n",
    "from sklearn.pipeline import Pipeline\n",
    "from sklearn.model_selection import KFold, StratifiedKFold, RepeatedStratifiedKFold, GridSearchCV\n",
    "from sklearn.model_selection import cross_validate\n",
    "import os, warnings, copy, sys\n",
    "import matplotlib.pyplot as plt\n",
    "import dill\n",
    "import pickle\n",
    "\n",
    "user = os.path.expanduser(\"~\")\n",
    "rootFolder = user + 'Documents/Matt/radsarc'\n",
    "\n",
    "sys.path.append(user + 'git/git_icrpythonradiomics/machineLearning')\n",
    "from featureSelection import featureSelection_correlation, featureSelection_groupName\n",
    "\n",
    "from fit_LR_groupSelection_correlationThresholds import fit_LR_groupSelection_correlationThresholds, displayResultExperiments, displayOneExperiment\n"
   ]
  },
  {
   "cell_type": "markdown",
   "metadata": {},
   "source": [
    "### Utility functions"
   ]
  },
  {
   "cell_type": "code",
   "execution_count": null,
   "metadata": {},
   "outputs": [],
   "source": [
    "def groupStrsDisp(strGroups):\n",
    "    \n",
    "    def tidyGroup(strGroup):\n",
    "        if strGroup == '':\n",
    "            strGroup = 'all'\n",
    "        strGroup = strGroup.replace('glcm|gldm|glszm|glrlm|ngtdm','texture')\n",
    "        strGroup = strGroup.replace('firstorder|histogram','firstorder')\n",
    "        return strGroup\n",
    "\n",
    "    if isinstance(strGroups, str):\n",
    "        return tidyGroup(strGroups)\n",
    "    \n",
    "    if isinstance(strGroups, list):\n",
    "        return [tidyGroup(x) for x in strGroups]"
   ]
  },
  {
   "cell_type": "markdown",
   "metadata": {},
   "source": [
    "## Load data"
   ]
  },
  {
   "cell_type": "code",
   "execution_count": null,
   "metadata": {},
   "outputs": [],
   "source": [
    "# open clinical spreadsheet\n",
    "clinicalSpreadsheet = os.path.join(rootFolder, 'Clinical data for analysis.xlsx')\n",
    "dfClinical = pd.read_excel(clinicalSpreadsheet, sheet_name='220818_Completed segs', engine='openpyxl')\n",
    "dfClinical = dfClinical[['Anon Code', 'Grade', 'subtype']]"
   ]
  },
  {
   "cell_type": "code",
   "execution_count": null,
   "metadata": {},
   "outputs": [],
   "source": [
    "# open radiomics data\n",
    "dfRad = pd.read_csv(os.path.join(rootFolder, 'extractions/extractions__20220910_1006_allRegions/radiomicFeatures/radiomicFeatures.csv'))\n",
    "dfRad.drop(list(dfRad.filter(regex = 'source')), axis = 1, inplace = True)\n",
    "dfRad.drop(list(dfRad.filter(regex = 'diagnostic')), axis = 1, inplace = True)\n",
    "dfRad.drop(list(dfRad.filter(regex = 'histogram')), axis = 1, inplace = True)"
   ]
  },
  {
   "cell_type": "markdown",
   "metadata": {},
   "source": [
    "## Run classifications"
   ]
  },
  {
   "cell_type": "code",
   "execution_count": null,
   "metadata": {},
   "outputs": [],
   "source": [
    "quickLoadFolder = os.path.join(rootFolder, 'experiments/LR_GroupSelection')"
   ]
  },
  {
   "cell_type": "markdown",
   "metadata": {},
   "source": [
    "### Tumour type: LMS v.s LPS\n",
    "### Standard radiomics features"
   ]
  },
  {
   "cell_type": "code",
   "execution_count": null,
   "metadata": {},
   "outputs": [],
   "source": [
    "# merge clinical and radiomics data into single frame\n",
    "df = dfClinical.merge(dfRad, left_on='Anon Code', right_on='StudyPatientName')\n",
    "df.drop('Anon Code', axis=1, inplace=True)\n",
    "df.drop('StudyPatientName', axis=1, inplace=True)\n",
    "\n",
    "target = 'subtype'\n",
    "featureSet = 'lesion_original'\n",
    "\n",
    "df = df.filter(regex=featureSet + '|' + target)"
   ]
  },
  {
   "cell_type": "code",
   "execution_count": null,
   "metadata": {},
   "outputs": [],
   "source": [
    "settings = {'n_splits':10, \n",
    "            'n_repeats':20,\n",
    "            'thresholds':np.round(np.arange(0.6,1.00001,0.01), 2)}\n",
    "\n",
    "textureStr = 'glcm|gldm|glszm|glrlm|ngtdm'\n",
    "settings['groupHierarchy'] = ['shape',\n",
    "                              'firstorder',\n",
    "                              textureStr,\n",
    "                              'shape|firstorder',\n",
    "                              'shape|' + textureStr,\n",
    "                              'firstorder|' + textureStr,\n",
    "                              '']\n",
    "\n",
    "quickLoadFile = os.path.join(quickLoadFolder, 'LR_GroupSelection_Standard_TumourType.pickle')\n",
    "\n",
    "if os.path.exists(quickLoadFile):\n",
    "    with open(quickLoadFile, 'rb') as handle:\n",
    "        result = pickle.load(handle)\n",
    "else:\n",
    "    result = fit_LR_groupSelection_correlationThresholds(df, target, settings)\n",
    "\n",
    "#     with open(quickLoadFile, 'wb') as handle:\n",
    "#         pickle.dump(result, handle)\n",
    "    \n",
    "resultStandardType = copy.deepcopy(result)\n",
    "\n",
    "del result\n",
    "    "
   ]
  },
  {
   "cell_type": "code",
   "execution_count": null,
   "metadata": {},
   "outputs": [],
   "source": [
    "displayResultExperiments(resultStandardType, titleStr=target + ': LMS vs. LPS, standard radiomics features')\n",
    "bestCoef, pdFreq = displayOneExperiment(resultStandardType, threshold=0.8)\n",
    "# bestCoef.style.hide_index()\n",
    "pdFreq.style.hide_index()"
   ]
  },
  {
   "cell_type": "markdown",
   "metadata": {},
   "source": [
    "### Tumour type: LMS v.s LPS\n",
    "### Volume fraction and standard radiomics features"
   ]
  },
  {
   "cell_type": "code",
   "execution_count": null,
   "metadata": {},
   "outputs": [],
   "source": [
    "# merge clinical and radiomics data into single frame\n",
    "df = dfClinical.merge(dfRad, left_on='Anon Code', right_on='StudyPatientName')\n",
    "df.drop('Anon Code', axis=1, inplace=True)\n",
    "df.drop('StudyPatientName', axis=1, inplace=True)\n",
    "\n",
    "target = 'subtype'\n",
    "featureSet = 'lesion_original|sarcomaFeature'\n",
    "\n",
    "df = df.filter(regex=featureSet + '|' + target)"
   ]
  },
  {
   "cell_type": "code",
   "execution_count": null,
   "metadata": {},
   "outputs": [],
   "source": [
    "settings = {'n_splits':10, \n",
    "            'n_repeats':20,\n",
    "            'thresholds':np.round(np.arange(0.6,1.00001,0.01), 2)}\n",
    "\n",
    "quickLoadFile = os.path.join(quickLoadFolder, 'LR_GroupSelection_VolumeFractions_TumourType.pickle')\n",
    "\n",
    "if os.path.exists(quickLoadFile):\n",
    "    with open(quickLoadFile, 'rb') as handle:\n",
    "        result = pickle.load(handle)\n",
    "else:\n",
    "    result = fit_LR_groupSelection_correlationThresholds(df, target, settings)\n",
    "\n",
    "#     with open(quickLoadFile, 'wb') as handle:\n",
    "#         pickle.dump(result, handle)\n",
    "\n",
    "resultVolFracType = copy.deepcopy(result)\n",
    "\n",
    "del result\n",
    "    "
   ]
  },
  {
   "cell_type": "code",
   "execution_count": null,
   "metadata": {},
   "outputs": [],
   "source": [
    "displayResultExperiments(resultVolFracType, titleStr = target + ': LMS vs. LPS, volume fraction + standard radiomics features')\n",
    "\n",
    "bestCoef, pdFreq = displayOneExperiment(resultVolFracType, threshold=0.8)\n",
    "# bestCoef.style.hide_index()\n",
    "pdFreq.style.hide_index()"
   ]
  },
  {
   "cell_type": "markdown",
   "metadata": {},
   "source": [
    "### Tumour grade: 1 v.s 2 or 3\n",
    "### Standard radiomics features"
   ]
  },
  {
   "cell_type": "code",
   "execution_count": null,
   "metadata": {},
   "outputs": [],
   "source": [
    "# merge clinical and radiomics data into single frame\n",
    "df = dfClinical.merge(dfRad, left_on='Anon Code', right_on='StudyPatientName')\n",
    "df.drop('Anon Code', axis=1, inplace=True)\n",
    "df.drop('StudyPatientName', axis=1, inplace=True)\n",
    "\n",
    "target = 'Grade1vs23'\n",
    "featureSet = 'lesion_original'\n",
    "\n",
    "df['Grade1vs23'] = df['Grade'] == 1\n",
    "\n",
    "df = df.filter(regex=featureSet + '|' + target)"
   ]
  },
  {
   "cell_type": "code",
   "execution_count": null,
   "metadata": {},
   "outputs": [],
   "source": [
    "settings = {'n_splits':10, \n",
    "            'n_repeats':20,\n",
    "            'thresholds':np.round(np.arange(0.6,1.00001,0.01), 2)}\n",
    "\n",
    "textureStr = 'glcm|gldm|glszm|glrlm|ngtdm'\n",
    "settings['groupHierarchy'] = ['shape',\n",
    "                              'firstorder',\n",
    "                              textureStr,\n",
    "                              'shape|firstorder',\n",
    "                              'shape|' + textureStr,\n",
    "                              'firstorder|' + textureStr,\n",
    "                              '']\n",
    "\n",
    "quickLoadFile = os.path.join(quickLoadFolder, 'LR_GroupSelection_Standard_Grade1vs23.pickle')\n",
    "\n",
    "if os.path.exists(quickLoadFile):\n",
    "    with open(quickLoadFile, 'rb') as handle:\n",
    "        result = pickle.load(handle)\n",
    "else:\n",
    "    result = fit_LR_groupSelection_correlationThresholds(df, target, settings)\n",
    "\n",
    "#     with open(quickLoadFile, 'wb') as handle:\n",
    "#         pickle.dump(result, handle)\n",
    "\n",
    "resultStandardGrade_1vs23 = copy.deepcopy(result)\n",
    "\n",
    "del result\n",
    "    "
   ]
  },
  {
   "cell_type": "code",
   "execution_count": null,
   "metadata": {},
   "outputs": [],
   "source": [
    "displayResultExperiments(resultStandardGrade_1vs23, titleStr = 'grade 1 vs. 2 or 3 standard radiomics features')\n",
    "\n",
    "bestCoef, pdFreq = displayOneExperiment(resultStandardGrade_1vs23, threshold=0.8)\n",
    "# bestCoef.style.hide_index()\n",
    "pdFreq.style.hide_index()"
   ]
  },
  {
   "cell_type": "markdown",
   "metadata": {},
   "source": [
    "### Tumour grade: 1 or 2 v.s 3\n",
    "### Standard radiomics features"
   ]
  },
  {
   "cell_type": "code",
   "execution_count": null,
   "metadata": {},
   "outputs": [],
   "source": [
    "# merge clinical and radiomics data into single frame\n",
    "df = dfClinical.merge(dfRad, left_on='Anon Code', right_on='StudyPatientName')\n",
    "df.drop('Anon Code', axis=1, inplace=True)\n",
    "df.drop('StudyPatientName', axis=1, inplace=True)\n",
    "\n",
    "target = 'Grade12vs3'\n",
    "featureSet = 'lesion_original'\n",
    "\n",
    "df[target] = df['Grade'] != 3\n",
    "\n",
    "df = df.filter(regex=featureSet + '|' + target)"
   ]
  },
  {
   "cell_type": "code",
   "execution_count": null,
   "metadata": {},
   "outputs": [],
   "source": [
    "settings = {'n_splits':10, \n",
    "            'n_repeats':20,\n",
    "            'thresholds':np.round(np.arange(0.6,1.00001,0.01), 2)}\n",
    "\n",
    "textureStr = 'glcm|gldm|glszm|glrlm|ngtdm'\n",
    "settings['groupHierarchy'] = ['shape',\n",
    "                              'firstorder',\n",
    "                              textureStr,\n",
    "                              'shape|firstorder',\n",
    "                              'shape|' + textureStr,\n",
    "                              'firstorder|' + textureStr,\n",
    "                              '']\n",
    "\n",
    "quickLoadFile = os.path.join(quickLoadFolder, 'LR_GroupSelection_Standard_Grade12vs3.pickle')\n",
    "\n",
    "if os.path.exists(quickLoadFile):\n",
    "    with open(quickLoadFile, 'rb') as handle:\n",
    "        result = pickle.load(handle)\n",
    "else:\n",
    "    result = fit_LR_groupSelection_correlationThresholds(df, target, settings)\n",
    "\n",
    "#     with open(quickLoadFile, 'wb') as handle:\n",
    "#         pickle.dump(result, handle)\n",
    "\n",
    "resultStandardGrade_12vs3 = copy.deepcopy(result)\n",
    "\n",
    "del result\n",
    "    "
   ]
  },
  {
   "cell_type": "code",
   "execution_count": null,
   "metadata": {},
   "outputs": [],
   "source": [
    "displayResultExperiments(resultStandardGrade_12vs3, titleStr = 'grade 1 or 2 vs. 3 standard radiomics features')\n",
    "\n",
    "bestCoef, pdFreq = displayOneExperiment(resultStandardGrade_12vs3, threshold=0.8)\n",
    "# bestCoef.style.hide_index()\n",
    "pdFreq.style.hide_index()"
   ]
  },
  {
   "cell_type": "markdown",
   "metadata": {},
   "source": [
    "### Tumour grade: 1 v.s 2 or 3\n",
    "### Volume fractions and standard radiomics features"
   ]
  },
  {
   "cell_type": "code",
   "execution_count": null,
   "metadata": {},
   "outputs": [],
   "source": [
    "# merge clinical and radiomics data into single frame\n",
    "df = dfClinical.merge(dfRad, left_on='Anon Code', right_on='StudyPatientName')\n",
    "df.drop('Anon Code', axis=1, inplace=True)\n",
    "df.drop('StudyPatientName', axis=1, inplace=True)\n",
    "\n",
    "target = 'Grade1vs23'\n",
    "featureSet = 'lesion_original|sarcomaFeature'\n",
    "\n",
    "df['Grade1vs23'] = df['Grade'] == 1\n",
    "\n",
    "df = df.filter(regex=featureSet + '|' + target)"
   ]
  },
  {
   "cell_type": "code",
   "execution_count": null,
   "metadata": {},
   "outputs": [],
   "source": [
    "settings = {'n_splits':10, \n",
    "            'n_repeats':20,\n",
    "            'thresholds':np.round(np.arange(0.6,1.00001,0.01), 2)}\n",
    "\n",
    "quickLoadFile = os.path.join(quickLoadFolder, 'LR_GroupSelection_VolumeFractions_Grade1vs23.pickle')\n",
    "\n",
    "if os.path.exists(quickLoadFile):\n",
    "    with open(quickLoadFile, 'rb') as handle:\n",
    "        result = pickle.load(handle)\n",
    "else:\n",
    "    result = fit_LR_groupSelection_correlationThresholds(df, target, settings)\n",
    "\n",
    "    with open(quickLoadFile, 'wb') as handle:\n",
    "        pickle.dump(result, handle)\n",
    "\n",
    "resultVolumeFractionGrade_1vs23 = copy.deepcopy(result)\n",
    "\n",
    "del result\n",
    "    "
   ]
  },
  {
   "cell_type": "code",
   "execution_count": null,
   "metadata": {},
   "outputs": [],
   "source": [
    "displayResultExperiments(resultVolumeFractionGrade_1vs23, titleStr = 'grade 1 vs. 2 or 3 volume fractions + standard radiomics features')\n",
    "\n",
    "bestCoef, pdFreq = displayOneExperiment(resultVolumeFractionGrade_1vs23, threshold=0.8)\n",
    "# bestCoef.style.hide_index()\n",
    "pdFreq.style.hide_index()"
   ]
  },
  {
   "cell_type": "markdown",
   "metadata": {},
   "source": [
    "### Tumour grade: 1 or 2 v.s 3\n",
    "### Volume fractions + standard radiomics features "
   ]
  },
  {
   "cell_type": "code",
   "execution_count": null,
   "metadata": {},
   "outputs": [],
   "source": [
    "# merge clinical and radiomics data into single frame\n",
    "df = dfClinical.merge(dfRad, left_on='Anon Code', right_on='StudyPatientName')\n",
    "df.drop('Anon Code', axis=1, inplace=True)\n",
    "df.drop('StudyPatientName', axis=1, inplace=True)\n",
    "\n",
    "target = 'Grade12vs3'\n",
    "featureSet = 'lesion_original|sarcomaFeature'\n",
    "\n",
    "df[target] = df['Grade'] != 3\n",
    "\n",
    "df = df.filter(regex=featureSet + '|' + target)"
   ]
  },
  {
   "cell_type": "code",
   "execution_count": null,
   "metadata": {},
   "outputs": [],
   "source": [
    "settings = {'n_splits':10, \n",
    "            'n_repeats':20,\n",
    "            'thresholds':np.round(np.arange(0.6,1.00001,0.01), 2)}\n",
    "\n",
    "quickLoadFile = os.path.join(quickLoadFolder, 'LR_GroupSelection_VolumeFractions_Grade12vs3.pickle')\n",
    "\n",
    "if os.path.exists(quickLoadFile):\n",
    "    with open(quickLoadFile, 'rb') as handle:\n",
    "        result = pickle.load(handle)\n",
    "else:\n",
    "    result = fit_LR_groupSelection_correlationThresholds(df, target, settings)\n",
    "\n",
    "    with open(quickLoadFile, 'wb') as handle:\n",
    "        pickle.dump(result, handle)\n",
    "\n",
    "resultVolumeFractionGrade_12vs3 = copy.deepcopy(result)\n",
    "\n",
    "del result\n",
    "    "
   ]
  },
  {
   "cell_type": "code",
   "execution_count": null,
   "metadata": {},
   "outputs": [],
   "source": [
    "displayResultExperiments(resultVolumeFractionGrade_12vs3, titleStr = 'grade 1 or 2 vs. 3 volume fraction + standard radiomics features'))\n",
    "\n",
    "bestCoef, pdFreq = displayOneExperiment(resultVolumeFractionGrade_12vs3, threshold=0.8)\n",
    "# bestCoef.style.hide_index()\n",
    "pdFreq.style.hide_index()"
   ]
  }
 ],
 "metadata": {
  "kernelspec": {
   "display_name": "Python 3",
   "language": "python",
   "name": "python3"
  },
  "language_info": {
   "codemirror_mode": {
    "name": "ipython",
    "version": 3
   },
   "file_extension": ".py",
   "mimetype": "text/x-python",
   "name": "python",
   "nbconvert_exporter": "python",
   "pygments_lexer": "ipython3",
   "version": "3.6.13"
  }
 },
 "nbformat": 4,
 "nbformat_minor": 2
}
