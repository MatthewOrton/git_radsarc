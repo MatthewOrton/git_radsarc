{
 "cells": [
  {
   "cell_type": "markdown",
   "metadata": {},
   "source": [
    "# Retroperitoneal sarcoma radiomics study\n",
    "# Prediction of tumour type and grade\n",
    "# Logistic regression with group selection"
   ]
  },
  {
   "cell_type": "code",
   "execution_count": 1,
   "metadata": {},
   "outputs": [],
   "source": [
    "import numpy as np\n",
    "import pandas as pd\n",
    "pd.set_option('display.max_columns', 500, 'display.max_rows', 500, 'display.precision', 3)\n",
    "from sklearn.model_selection import train_test_split\n",
    "from sklearn.linear_model import LogisticRegressionCV, LogisticRegression\n",
    "from sklearn.preprocessing import StandardScaler\n",
    "from sklearn.ensemble import RandomForestClassifier\n",
    "from sklearn.metrics import roc_auc_score, make_scorer\n",
    "from sklearn.pipeline import Pipeline\n",
    "from sklearn.model_selection import KFold, StratifiedKFold, RepeatedStratifiedKFold, GridSearchCV\n",
    "from sklearn.model_selection import cross_validate\n",
    "import os, warnings, copy, sys, shutil\n",
    "import matplotlib.pyplot as plt\n",
    "import dill\n",
    "import pickle\n",
    "from time import strftime, localtime\n",
    "from pyirr import intraclass_correlation\n",
    "\n",
    "rootFolder = os.path.join(os.path.expanduser(\"~\"), 'Dicom Files/RADSARC_R')\n",
    "\n",
    "# this module should be in the same folder as this notebook\n",
    "from fit_LR_groupSelection_correlationThresholds import fit_LR_groupSelection_correlationThresholds, plotResultExperiments, displayOneExperiment\n",
    "\n",
    "n_splits = 10\n",
    "n_repeats = 2 # 20\n",
    "thresholds = np.round(np.arange(0.6,1.00001,0.1), 2) #np.round(np.arange(0.6,1.00001,0.01), 2)"
   ]
  },
  {
   "cell_type": "markdown",
   "metadata": {},
   "source": [
    "### Utility functions"
   ]
  },
  {
   "cell_type": "code",
   "execution_count": 2,
   "metadata": {},
   "outputs": [],
   "source": [
    "def groupStrsDisp(strGroups):\n",
    "    \n",
    "    def tidyGroup(strGroup):\n",
    "        if strGroup == '':\n",
    "            strGroup = 'all'\n",
    "        strGroup = strGroup.replace('glcm|gldm|glszm|glrlm|ngtdm','texture')\n",
    "        strGroup = strGroup.replace('firstorder|histogram','firstorder')\n",
    "        return strGroup\n",
    "\n",
    "    if isinstance(strGroups, str):\n",
    "        return tidyGroup(strGroups)\n",
    "    \n",
    "    if isinstance(strGroups, list):\n",
    "        return [tidyGroup(x) for x in strGroups]"
   ]
  },
  {
   "cell_type": "markdown",
   "metadata": {},
   "source": [
    "## Load data"
   ]
  },
  {
   "cell_type": "code",
   "execution_count": 3,
   "metadata": {},
   "outputs": [],
   "source": [
    "# open clinical spreadsheet\n",
    "clinicalSpreadsheet = os.path.join(rootFolder, 'ClinicalData', 'Clinical data for analysis.xlsx')\n",
    "dfClinical = pd.read_excel(clinicalSpreadsheet, sheet_name='220818_Completed segs', engine='openpyxl')\n",
    "dfClinical = dfClinical[['Anon Code', 'Grade', 'subtype']]"
   ]
  },
  {
   "cell_type": "code",
   "execution_count": 4,
   "metadata": {},
   "outputs": [],
   "source": [
    "# open radiomics data\n",
    "dfRad = pd.read_csv(os.path.join(rootFolder, 'XNAT/extractions/extractions__20221109_2030_allRegions/radiomicFeatures/radiomicFeatures.csv'))\n",
    "dfRad.drop(list(dfRad.filter(regex = 'source')), axis = 1, inplace = True)\n",
    "dfRad.drop(list(dfRad.filter(regex = 'diagnostic')), axis = 1, inplace = True)\n",
    "dfRad.drop(list(dfRad.filter(regex = 'histogram')), axis = 1, inplace = True)\n",
    "\n",
    "# open reproducibility data\n",
    "dfRadRep = pd.read_csv('/Users/morton/Dicom Files/RADSARC_R/XNAT/extractions/extractions__20221109_1137_repro/radiomicFeatures/radiomicFeatures.csv')\n",
    "dfRadRep.drop(list(dfRadRep.filter(regex = 'source')), axis = 1, inplace = True)\n",
    "dfRadRep.drop(list(dfRadRep.filter(regex = 'diagnostic')), axis = 1, inplace = True)\n",
    "dfRadRep.drop(list(dfRadRep.filter(regex = 'histogram')), axis = 1, inplace = True)"
   ]
  },
  {
   "cell_type": "markdown",
   "metadata": {},
   "source": [
    "## Compute ICCs and remove unreproducible features"
   ]
  },
  {
   "cell_type": "code",
   "execution_count": 5,
   "metadata": {},
   "outputs": [
    {
     "data": {
      "text/plain": [
       "(170, 90)"
      ]
     },
     "execution_count": 5,
     "metadata": {},
     "output_type": "execute_result"
    }
   ],
   "source": [
    "dfRadOri = dfRad.copy()\n",
    "\n",
    "subjectIDs = dfRadOri.merge(dfRadRep, on='StudyPatientName').StudyPatientName\n",
    "\n",
    "# select rows and make sure they are both sorted on SubjectID\n",
    "dfRadOri = dfRadOri.loc[dfRadOri['StudyPatientName'].isin(subjectIDs)]\n",
    "dfRadOri.sort_values('StudyPatientName', axis=0, inplace=True)\n",
    "\n",
    "dfRadRep = dfRadRep.loc[dfRadRep['StudyPatientName'].isin(subjectIDs)]\n",
    "dfRadRep.sort_values('StudyPatientName', axis=0, inplace=True)\n",
    "\n",
    "# remove high/mid/low_enhancing features\n",
    "dfRadOri.drop(list(dfRadOri.filter(regex = 'low_enhancing_original')), axis = 1, inplace = True)\n",
    "dfRadRep.drop(list(dfRadRep.filter(regex = 'low_enhancing_original')), axis = 1, inplace = True)\n",
    "dfRadOri.drop(list(dfRadOri.filter(regex = 'mid_enhancing_original')), axis = 1, inplace = True)\n",
    "dfRadRep.drop(list(dfRadRep.filter(regex = 'mid_enhancing_original')), axis = 1, inplace = True)\n",
    "dfRadOri.drop(list(dfRadOri.filter(regex = 'high_enhancing_original')), axis = 1, inplace = True)\n",
    "dfRadRep.drop(list(dfRadRep.filter(regex = 'high_enhancing_original')), axis = 1, inplace = True)\n",
    "\n",
    "# remove these features\n",
    "dfRadOri.drop(list(dfRadOri.filter(regex = 'calcificationDeleted')), axis = 1, inplace = True)\n",
    "dfRadRep.drop(list(dfRadRep.filter(regex = 'calcificationDeleted')), axis = 1, inplace = True)\n",
    "\n",
    "dfRadOri.reset_index(inplace=True)\n",
    "dfRadRep.reset_index(inplace=True)\n",
    "\n",
    "iccValues = []\n",
    "featNames = []\n",
    "for col in dfRadOri.columns:\n",
    "    if col == 'StudyPatientName' or col=='index':\n",
    "        continue\n",
    "    data = np.stack((dfRadOri[col], dfRadRep[col]), axis=1)\n",
    "    featNames.append(col)\n",
    "    iccValues.append(intraclass_correlation(data, \"twoway\", \"agreement\").value)\n",
    "iccDf = pd.DataFrame({'Feature':featNames, 'ICC':iccValues})\n",
    "\n",
    "iccThreshold = 0.75\n",
    "\n",
    "reproducibleFeatures = list(iccDf.Feature[iccDf.ICC>iccThreshold])\n",
    "reproducibleFeatures.append('StudyPatientName')\n",
    "\n",
    "dfRad = dfRad.filter(reproducibleFeatures)\n",
    "\n",
    "dfRad.shape"
   ]
  },
  {
   "cell_type": "markdown",
   "metadata": {},
   "source": [
    "## Create output and copy code"
   ]
  },
  {
   "cell_type": "code",
   "execution_count": 6,
   "metadata": {},
   "outputs": [],
   "source": [
    "%%capture out_stream\n",
    "\n",
    "# set output folder to None if this is a fresh run\n",
    "# set output folder to an existing location to load pre-saved results from there\n",
    "outputFolder = None #'/Users/morton/Dicom Files/RADSARC_R/XNAT/experiments/LR_GroupSelection__20220924_0958'\n",
    "\n",
    "if outputFolder is None:\n",
    "    \n",
    "    saveOutputs = True\n",
    "    \n",
    "    outputFolder = os.path.join(rootFolder, 'XNAT/experiments/LR_GroupSelection__' + strftime(\"%Y%m%d_%H%M\", localtime()))\n",
    "    os.mkdir(outputFolder)\n",
    "    os.mkdir(os.path.join(outputFolder, 'code'))\n",
    "\n",
    "    jupyterFile = os.path.join(os.path.abspath(\"\"), 'LR_GroupSelection.ipynb')\n",
    "    shutil.copyfile(jupyterFile, os.path.join(outputFolder, 'code', 'LR_GroupSelection.ipynb'))\n",
    "\n",
    "    file = os.path.join(os.path.abspath(\"\"), 'fit_LR_groupSelection_correlationThresholds.py')\n",
    "    shutil.copyfile(jupyterFile, os.path.join(outputFolder, 'code', 'fit_LR_groupSelection_correlationThresholds.py'))\n",
    "\n",
    "    user = os.path.expanduser(\"~\")\n",
    "    file = os.path.join(user, 'Documents/git/git_icrpythonradiomics/machineLearning/featureSelection.py')\n",
    "    shutil.copyfile(file, os.path.join(outputFolder, 'code', 'featureSelection.py'))\n",
    "\n",
    "else:\n",
    "    \n",
    "    saveOutputs = False"
   ]
  },
  {
   "cell_type": "markdown",
   "metadata": {},
   "source": [
    "## Run classifications"
   ]
  },
  {
   "cell_type": "markdown",
   "metadata": {},
   "source": [
    "### Tumour type: LMS v.s LPS\n",
    "### Standard radiomics features"
   ]
  },
  {
   "cell_type": "code",
   "execution_count": 7,
   "metadata": {},
   "outputs": [],
   "source": [
    "# merge clinical and radiomics data into single frame\n",
    "df = dfClinical.merge(dfRad, left_on='Anon Code', right_on='StudyPatientName')\n",
    "df.drop('Anon Code', axis=1, inplace=True)\n",
    "df.drop('StudyPatientName', axis=1, inplace=True)\n",
    "\n",
    "target = 'subtype'\n",
    "featureSet = 'lesion_original'\n",
    "\n",
    "df = df.filter(regex=featureSet + '|' + target)"
   ]
  },
  {
   "cell_type": "code",
   "execution_count": 8,
   "metadata": {},
   "outputs": [],
   "source": [
    "# with open('/Users/morton/Documents/git/git_radsarc/classification/debugVariables.pickle', 'wb') as handle:\n",
    "#     pickle.dump({'df':df, 'target':target, 'settings':settings}, handle)"
   ]
  },
  {
   "cell_type": "code",
   "execution_count": 9,
   "metadata": {},
   "outputs": [
    {
     "name": "stdout",
     "output_type": "stream",
     "text": [
      "Threshold = 0.6\n",
      "shape|firstorder\n",
      "AUROC = 0.885 ± 0.0765\n",
      "\n",
      "Threshold = 0.7\n",
      "shape|firstorder\n",
      "AUROC = 0.898 ± 0.0926\n",
      "\n",
      "Threshold = 0.8\n",
      "shape|firstorder\n",
      "AUROC = 0.903 ± 0.09\n",
      "\n",
      "Threshold = 0.9\n",
      "shape|firstorder\n",
      "AUROC = 0.904 ± 0.0909\n",
      "\n",
      "Threshold = 1.0\n",
      "firstorder|texture\n",
      "AUROC = 0.911 ± 0.0876\n",
      "\n"
     ]
    }
   ],
   "source": [
    "settings = {'n_splits':n_splits, \n",
    "            'n_repeats':n_repeats,\n",
    "            'thresholds':thresholds\n",
    "           }\n",
    "\n",
    "textureStr = 'glcm|gldm|glszm|glrlm|ngtdm'\n",
    "settings['groupHierarchy'] = ['shape',\n",
    "                              'firstorder',\n",
    "                              textureStr,\n",
    "                              'shape|firstorder',\n",
    "                              'shape|' + textureStr,\n",
    "                              'firstorder|' + textureStr,\n",
    "                              '']\n",
    "\n",
    "quickLoadFile = os.path.join(outputFolder, 'LR_GroupSelection_Standard_TumourType.pickle')\n",
    "\n",
    "if os.path.exists(quickLoadFile):\n",
    "    with open(quickLoadFile, 'rb') as handle:\n",
    "        result = pickle.load(handle)\n",
    "else:\n",
    "    result = fit_LR_groupSelection_correlationThresholds(df, target, settings)\n",
    "\n",
    "    if saveOutputs:\n",
    "        with open(quickLoadFile, 'wb') as handle:\n",
    "            pickle.dump(result, handle)\n",
    "    \n",
    "resultStandardType = copy.deepcopy(result)\n",
    "\n",
    "del result\n",
    "    "
   ]
  },
  {
   "cell_type": "code",
   "execution_count": 11,
   "metadata": {
    "scrolled": false
   },
   "outputs": [
    {
     "data": {
      "image/png": "[encoded data removed]",
      "text/plain": [
       "<Figure size 864x864 with 3 Axes>"
      ]
     },
     "metadata": {
      "needs_background": "light"
     },
     "output_type": "display_data"
    }
   ],
   "source": [
    "plotResultExperiments(resultStandardType, titleStr=target + ': LMS vs. LPS, standard radiomics features')\n",
    "\n",
    "if False:\n",
    "    bestCoef, pdFreq = displayOneExperiment(resultStandardType, threshold=0.8)\n",
    "    # bestCoef.style.hide_index()\n",
    "    pdFreq.style.hide_index()"
   ]
  },
  {
   "cell_type": "markdown",
   "metadata": {},
   "source": [
    "### Tumour type: LMS v.s LPS\n",
    "### Volume fraction and standard radiomics features"
   ]
  },
  {
   "cell_type": "code",
   "execution_count": null,
   "metadata": {},
   "outputs": [],
   "source": [
    "# merge clinical and radiomics data into single frame\n",
    "df = dfClinical.merge(dfRad, left_on='Anon Code', right_on='StudyPatientName')\n",
    "df.drop('Anon Code', axis=1, inplace=True)\n",
    "df.drop('StudyPatientName', axis=1, inplace=True)\n",
    "\n",
    "target = 'subtype'\n",
    "featureSet = 'lesion_original|sarcomaFeature'\n",
    "\n",
    "df = df.filter(regex=featureSet + '|' + target)"
   ]
  },
  {
   "cell_type": "code",
   "execution_count": null,
   "metadata": {},
   "outputs": [],
   "source": [
    "settings = {'n_splits':n_splits, \n",
    "            'n_repeats':n_repeats,\n",
    "            'thresholds':thresholds\n",
    "           }\n",
    "\n",
    "quickLoadFile = os.path.join(outputFolder, 'LR_GroupSelection_VolumeFractions_TumourType.pickle')\n",
    "\n",
    "if os.path.exists(quickLoadFile):\n",
    "    with open(quickLoadFile, 'rb') as handle:\n",
    "        result = pickle.load(handle)\n",
    "else:\n",
    "    result = fit_LR_groupSelection_correlationThresholds(df, target, settings)\n",
    "\n",
    "    if saveOutputs:\n",
    "        with open(quickLoadFile, 'wb') as handle:\n",
    "            pickle.dump(result, handle)\n",
    "\n",
    "resultVolFracType = copy.deepcopy(result)\n",
    "\n",
    "del result\n",
    "    "
   ]
  },
  {
   "cell_type": "code",
   "execution_count": null,
   "metadata": {},
   "outputs": [],
   "source": [
    "plotResultExperiments(resultVolFracType, titleStr = target + ': LMS vs. LPS, volume fraction + standard radiomics features')\n",
    "\n",
    "if False:\n",
    "    bestCoef, pdFreq = displayOneExperiment(resultVolFracType, threshold=0.8)\n",
    "    # bestCoef.style.hide_index()\n",
    "    pdFreq.style.hide_index()"
   ]
  },
  {
   "cell_type": "markdown",
   "metadata": {},
   "source": [
    "### Tumour grade: 1 v.s 2 or 3\n",
    "### Standard radiomics features"
   ]
  },
  {
   "cell_type": "code",
   "execution_count": null,
   "metadata": {},
   "outputs": [],
   "source": [
    "# merge clinical and radiomics data into single frame\n",
    "df = dfClinical.merge(dfRad, left_on='Anon Code', right_on='StudyPatientName')\n",
    "df.drop('Anon Code', axis=1, inplace=True)\n",
    "df.drop('StudyPatientName', axis=1, inplace=True)\n",
    "\n",
    "target = 'Grade1vs23'\n",
    "featureSet = 'lesion_original'\n",
    "\n",
    "df['Grade1vs23'] = df['Grade'] == 1\n",
    "\n",
    "df = df.filter(regex=featureSet + '|' + target)"
   ]
  },
  {
   "cell_type": "code",
   "execution_count": null,
   "metadata": {},
   "outputs": [],
   "source": [
    "settings = {'n_splits':n_splits, \n",
    "            'n_repeats':n_repeats,\n",
    "            'thresholds':thresholds\n",
    "           }\n",
    "\n",
    "textureStr = 'glcm|gldm|glszm|glrlm|ngtdm'\n",
    "settings['groupHierarchy'] = ['shape',\n",
    "                              'firstorder',\n",
    "                              textureStr,\n",
    "                              'shape|firstorder',\n",
    "                              'shape|' + textureStr,\n",
    "                              'firstorder|' + textureStr,\n",
    "                              '']\n",
    "\n",
    "quickLoadFile = os.path.join(outputFolder, 'LR_GroupSelection_Standard_Grade1vs23.pickle')\n",
    "\n",
    "if os.path.exists(quickLoadFile):\n",
    "    with open(quickLoadFile, 'rb') as handle:\n",
    "        result = pickle.load(handle)\n",
    "else:\n",
    "    result = fit_LR_groupSelection_correlationThresholds(df, target, settings)\n",
    "\n",
    "    if saveOutputs:\n",
    "        with open(quickLoadFile, 'wb') as handle:\n",
    "            pickle.dump(result, handle)\n",
    "\n",
    "resultStandardGrade_1vs23 = copy.deepcopy(result)\n",
    "\n",
    "del result\n",
    "    "
   ]
  },
  {
   "cell_type": "code",
   "execution_count": null,
   "metadata": {},
   "outputs": [],
   "source": [
    "displayResultExperiments(resultStandardGrade_1vs23, titleStr = 'grade 1 vs. 2 or 3 standard radiomics features')\n",
    "\n",
    "bestCoef, pdFreq = displayOneExperiment(resultStandardGrade_1vs23, threshold=0.8)\n",
    "# bestCoef.style.hide_index()\n",
    "pdFreq.style.hide_index()"
   ]
  },
  {
   "cell_type": "markdown",
   "metadata": {},
   "source": [
    "### Tumour grade: 1 or 2 v.s 3\n",
    "### Standard radiomics features"
   ]
  },
  {
   "cell_type": "code",
   "execution_count": null,
   "metadata": {},
   "outputs": [],
   "source": [
    "# merge clinical and radiomics data into single frame\n",
    "df = dfClinical.merge(dfRad, left_on='Anon Code', right_on='StudyPatientName')\n",
    "df.drop('Anon Code', axis=1, inplace=True)\n",
    "df.drop('StudyPatientName', axis=1, inplace=True)\n",
    "\n",
    "target = 'Grade12vs3'\n",
    "featureSet = 'lesion_original'\n",
    "\n",
    "df[target] = df['Grade'] != 3\n",
    "\n",
    "df = df.filter(regex=featureSet + '|' + target)"
   ]
  },
  {
   "cell_type": "code",
   "execution_count": null,
   "metadata": {},
   "outputs": [],
   "source": [
    "settings = {'n_splits':n_splits, \n",
    "            'n_repeats':n_repeats,\n",
    "            'thresholds':thresholds\n",
    "           }\n",
    "\n",
    "textureStr = 'glcm|gldm|glszm|glrlm|ngtdm'\n",
    "settings['groupHierarchy'] = ['shape',\n",
    "                              'firstorder',\n",
    "                              textureStr,\n",
    "                              'shape|firstorder',\n",
    "                              'shape|' + textureStr,\n",
    "                              'firstorder|' + textureStr,\n",
    "                              '']\n",
    "\n",
    "quickLoadFile = os.path.join(outputFolder, 'LR_GroupSelection_Standard_Grade12vs3.pickle')\n",
    "\n",
    "if os.path.exists(quickLoadFile):\n",
    "    with open(quickLoadFile, 'rb') as handle:\n",
    "        result = pickle.load(handle)\n",
    "else:\n",
    "    result = fit_LR_groupSelection_correlationThresholds(df, target, settings)\n",
    "\n",
    "    if saveOutputs:\n",
    "        with open(quickLoadFile, 'wb') as handle:\n",
    "            pickle.dump(result, handle)\n",
    "\n",
    "resultStandardGrade_12vs3 = copy.deepcopy(result)\n",
    "\n",
    "del result\n",
    "    "
   ]
  },
  {
   "cell_type": "code",
   "execution_count": null,
   "metadata": {},
   "outputs": [],
   "source": [
    "displayResultExperiments(resultStandardGrade_12vs3, titleStr = 'grade 1 or 2 vs. 3 standard radiomics features')\n",
    "\n",
    "bestCoef, pdFreq = displayOneExperiment(resultStandardGrade_12vs3, threshold=0.8)\n",
    "# bestCoef.style.hide_index()\n",
    "pdFreq.style.hide_index()"
   ]
  },
  {
   "cell_type": "markdown",
   "metadata": {},
   "source": [
    "### Tumour grade: 1 v.s 2 or 3\n",
    "### Volume fractions and standard radiomics features"
   ]
  },
  {
   "cell_type": "code",
   "execution_count": null,
   "metadata": {},
   "outputs": [],
   "source": [
    "# merge clinical and radiomics data into single frame\n",
    "df = dfClinical.merge(dfRad, left_on='Anon Code', right_on='StudyPatientName')\n",
    "df.drop('Anon Code', axis=1, inplace=True)\n",
    "df.drop('StudyPatientName', axis=1, inplace=True)\n",
    "\n",
    "target = 'Grade1vs23'\n",
    "featureSet = 'lesion_original|sarcomaFeature'\n",
    "\n",
    "df['Grade1vs23'] = df['Grade'] == 1\n",
    "\n",
    "df = df.filter(regex=featureSet + '|' + target)"
   ]
  },
  {
   "cell_type": "code",
   "execution_count": null,
   "metadata": {},
   "outputs": [],
   "source": [
    "settings = {'n_splits':n_splits, \n",
    "            'n_repeats':n_repeats,\n",
    "            'thresholds':thresholds\n",
    "           }\n",
    "\n",
    "quickLoadFile = os.path.join(outputFolder, 'LR_GroupSelection_VolumeFractions_Grade1vs23.pickle')\n",
    "\n",
    "if os.path.exists(quickLoadFile):\n",
    "    with open(quickLoadFile, 'rb') as handle:\n",
    "        result = pickle.load(handle)\n",
    "else:\n",
    "    result = fit_LR_groupSelection_correlationThresholds(df, target, settings)\n",
    "\n",
    "    if saveOutputs:\n",
    "        with open(quickLoadFile, 'wb') as handle:\n",
    "            pickle.dump(result, handle)\n",
    "\n",
    "resultVolumeFractionGrade_1vs23 = copy.deepcopy(result)\n",
    "\n",
    "del result\n",
    "    "
   ]
  },
  {
   "cell_type": "code",
   "execution_count": null,
   "metadata": {},
   "outputs": [],
   "source": [
    "displayResultExperiments(resultVolumeFractionGrade_1vs23, titleStr = 'grade 1 vs. 2 or 3 volume fractions + standard radiomics features')\n",
    "\n",
    "bestCoef, pdFreq = displayOneExperiment(resultVolumeFractionGrade_1vs23, threshold=0.8)\n",
    "# bestCoef.style.hide_index()\n",
    "pdFreq.style.hide_index()"
   ]
  },
  {
   "cell_type": "markdown",
   "metadata": {},
   "source": [
    "### Tumour grade: 1 or 2 v.s 3\n",
    "### Volume fractions + standard radiomics features "
   ]
  },
  {
   "cell_type": "code",
   "execution_count": null,
   "metadata": {},
   "outputs": [],
   "source": [
    "# merge clinical and radiomics data into single frame\n",
    "df = dfClinical.merge(dfRad, left_on='Anon Code', right_on='StudyPatientName')\n",
    "df.drop('Anon Code', axis=1, inplace=True)\n",
    "df.drop('StudyPatientName', axis=1, inplace=True)\n",
    "\n",
    "target = 'Grade12vs3'\n",
    "featureSet = 'lesion_original|sarcomaFeature'\n",
    "\n",
    "df[target] = df['Grade'] != 3\n",
    "\n",
    "df = df.filter(regex=featureSet + '|' + target)"
   ]
  },
  {
   "cell_type": "code",
   "execution_count": null,
   "metadata": {},
   "outputs": [],
   "source": [
    "settings = {'n_splits':n_splits, \n",
    "            'n_repeats':n_repeats,\n",
    "            'thresholds':thresholds\n",
    "           }\n",
    "\n",
    "quickLoadFile = os.path.join(outputFolder, 'LR_GroupSelection_VolumeFractions_Grade12vs3.pickle')\n",
    "\n",
    "if os.path.exists(quickLoadFile):\n",
    "    with open(quickLoadFile, 'rb') as handle:\n",
    "        result = pickle.load(handle)\n",
    "else:\n",
    "    result = fit_LR_groupSelection_correlationThresholds(df, target, settings)\n",
    "\n",
    "    if saveOutputs:\n",
    "        with open(quickLoadFile, 'wb') as handle:\n",
    "            pickle.dump(result, handle)\n",
    "\n",
    "resultVolumeFractionGrade_12vs3 = copy.deepcopy(result)\n",
    "\n",
    "del result\n",
    "    "
   ]
  },
  {
   "cell_type": "code",
   "execution_count": null,
   "metadata": {},
   "outputs": [],
   "source": [
    "displayResultExperiments(resultVolumeFractionGrade_12vs3, titleStr = 'grade 1 or 2 vs. 3 volume fraction + standard radiomics features')\n",
    "\n",
    "bestCoef, pdFreq = displayOneExperiment(resultVolumeFractionGrade_12vs3, threshold=0.8)\n",
    "# bestCoef.style.hide_index()\n",
    "pdFreq.style.hide_index()"
   ]
  }
 ],
 "metadata": {
  "kernelspec": {
   "display_name": "Python 3",
   "language": "python",
   "name": "python3"
  },
  "language_info": {
   "codemirror_mode": {
    "name": "ipython",
    "version": 3
   },
   "file_extension": ".py",
   "mimetype": "text/x-python",
   "name": "python",
   "nbconvert_exporter": "python",
   "pygments_lexer": "ipython3",
   "version": "3.6.8"
  }
 },
 "nbformat": 4,
 "nbformat_minor": 2
}
