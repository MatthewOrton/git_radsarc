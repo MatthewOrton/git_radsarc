{
 "cells": [
  {
   "cell_type": "markdown",
   "metadata": {},
   "source": [
    "# Retroperitoneal sarcoma radiomics study\n",
    "# Prediction of tumour type and grade\n",
    "# Logistic regression with group selection"
   ]
  },
  {
   "cell_type": "code",
   "execution_count": 1,
   "metadata": {
    "scrolled": false
   },
   "outputs": [],
   "source": [
    "import numpy as np\n",
    "import pandas as pd\n",
    "pd.set_option('display.max_columns', 500, 'display.max_rows', 500, 'display.precision', 3)\n",
    "from sklearn.model_selection import train_test_split\n",
    "from sklearn.linear_model import LogisticRegressionCV, LogisticRegression\n",
    "from sklearn.preprocessing import StandardScaler\n",
    "from sklearn.ensemble import RandomForestClassifier\n",
    "from sklearn.metrics import roc_auc_score, make_scorer\n",
    "from sklearn.pipeline import Pipeline\n",
    "from sklearn.model_selection import KFold, StratifiedKFold, RepeatedStratifiedKFold, GridSearchCV\n",
    "from sklearn.model_selection import cross_validate\n",
    "import os, warnings, copy, sys, shutil\n",
    "import matplotlib.pyplot as plt\n",
    "import pickle\n",
    "from time import strftime, localtime\n",
    "from pyirr import intraclass_correlation\n",
    "from scipy.stats import skew\n",
    "import seaborn as sns\n",
    "from scipy.stats import mannwhitneyu\n",
    "\n",
    "rootFolder = os.path.join(os.path.expanduser(\"~\"), 'Dicom Files/RADSARC_R')\n",
    "\n",
    "# this module should be in the same folder as this notebook\n",
    "from fit_LR_groupSelection_correlationThresholds import fit_LR_groupSelection_correlationThresholds, plotResultExperiments, displayOneExperiment\n",
    "\n",
    "n_splits = 10\n",
    "n_repeats = 5\n",
    "thresholds = np.round(np.arange(0.6,1.00001,0.1), 2)\n",
    "penalty = 'l1'\n",
    "\n",
    "displayAll = True"
   ]
  },
  {
   "cell_type": "markdown",
   "metadata": {},
   "source": [
    "## Create output and copy code"
   ]
  },
  {
   "cell_type": "code",
   "execution_count": 2,
   "metadata": {
    "scrolled": false
   },
   "outputs": [
    {
     "ename": "FileExistsError",
     "evalue": "[Errno 17] File exists: '/Users/adminehann/Dicom Files/RADSARC_R/XNAT/experiments/LR_GroupSelection__20221207_1301'",
     "output_type": "error",
     "traceback": [
      "\u001b[0;31m---------------------------------------------------------------------------\u001b[0m",
      "\u001b[0;31mFileExistsError\u001b[0m                           Traceback (most recent call last)",
      "\u001b[0;32m<ipython-input-2-3d73087c4074>\u001b[0m in \u001b[0;36m<module>\u001b[0;34m\u001b[0m\n\u001b[1;32m      9\u001b[0m \u001b[0;34m\u001b[0m\u001b[0m\n\u001b[1;32m     10\u001b[0m     \u001b[0moutputFolder\u001b[0m \u001b[0;34m=\u001b[0m \u001b[0mos\u001b[0m\u001b[0;34m.\u001b[0m\u001b[0mpath\u001b[0m\u001b[0;34m.\u001b[0m\u001b[0mjoin\u001b[0m\u001b[0;34m(\u001b[0m\u001b[0mrootFolder\u001b[0m\u001b[0;34m,\u001b[0m \u001b[0;34m'XNAT/experiments/LR_GroupSelection__'\u001b[0m \u001b[0;34m+\u001b[0m \u001b[0mstrftime\u001b[0m\u001b[0;34m(\u001b[0m\u001b[0;34m\"%Y%m%d_%H%M\"\u001b[0m\u001b[0;34m,\u001b[0m \u001b[0mlocaltime\u001b[0m\u001b[0;34m(\u001b[0m\u001b[0;34m)\u001b[0m\u001b[0;34m)\u001b[0m\u001b[0;34m)\u001b[0m\u001b[0;34m\u001b[0m\u001b[0;34m\u001b[0m\u001b[0m\n\u001b[0;32m---> 11\u001b[0;31m     \u001b[0mos\u001b[0m\u001b[0;34m.\u001b[0m\u001b[0mmkdir\u001b[0m\u001b[0;34m(\u001b[0m\u001b[0moutputFolder\u001b[0m\u001b[0;34m)\u001b[0m\u001b[0;34m\u001b[0m\u001b[0;34m\u001b[0m\u001b[0m\n\u001b[0m\u001b[1;32m     12\u001b[0m     \u001b[0mos\u001b[0m\u001b[0;34m.\u001b[0m\u001b[0mmkdir\u001b[0m\u001b[0;34m(\u001b[0m\u001b[0mos\u001b[0m\u001b[0;34m.\u001b[0m\u001b[0mpath\u001b[0m\u001b[0;34m.\u001b[0m\u001b[0mjoin\u001b[0m\u001b[0;34m(\u001b[0m\u001b[0moutputFolder\u001b[0m\u001b[0;34m,\u001b[0m \u001b[0;34m'code'\u001b[0m\u001b[0;34m)\u001b[0m\u001b[0;34m)\u001b[0m\u001b[0;34m\u001b[0m\u001b[0;34m\u001b[0m\u001b[0m\n\u001b[1;32m     13\u001b[0m     \u001b[0mos\u001b[0m\u001b[0;34m.\u001b[0m\u001b[0mmkdir\u001b[0m\u001b[0;34m(\u001b[0m\u001b[0mos\u001b[0m\u001b[0;34m.\u001b[0m\u001b[0mpath\u001b[0m\u001b[0;34m.\u001b[0m\u001b[0mjoin\u001b[0m\u001b[0;34m(\u001b[0m\u001b[0moutputFolder\u001b[0m\u001b[0;34m,\u001b[0m \u001b[0;34m'figures'\u001b[0m\u001b[0;34m)\u001b[0m\u001b[0;34m)\u001b[0m\u001b[0;34m\u001b[0m\u001b[0;34m\u001b[0m\u001b[0m\n",
      "\u001b[0;31mFileExistsError\u001b[0m: [Errno 17] File exists: '/Users/adminehann/Dicom Files/RADSARC_R/XNAT/experiments/LR_GroupSelection__20221207_1301'"
     ]
    }
   ],
   "source": [
    "%%capture out_stream\n",
    "\n",
    "# set output folder to None if this is a fresh run\n",
    "# set output folder to an existing location to load pre-saved results from there\n",
    "outputFolder = None #'/Users/morton/Dicom Files/RADSARC_R/XNAT/experiments/LR_GroupSelection__20220924_0958'\n",
    "\n",
    "if outputFolder is None:\n",
    "    \n",
    "    saveOutputs = True\n",
    "    \n",
    "    outputFolder = os.path.join(rootFolder, 'XNAT/experiments/LR_GroupSelection__' + strftime(\"%Y%m%d_%H%M\", localtime()))\n",
    "    os.mkdir(outputFolder)\n",
    "    os.mkdir(os.path.join(outputFolder, 'code'))\n",
    "    os.mkdir(os.path.join(outputFolder, 'figures'))\n",
    "\n",
    "    jupyterFile = 'LR_GroupSelection_withValidation_andOutcome_andClinical.ipynb'\n",
    "    jupyterPath = os.path.join(os.path.abspath(\"\"), jupyterFile)\n",
    "    jupyterDestin = os.path.join(outputFolder, 'code', jupyterFile)\n",
    "    shutil.copyfile(jupyterPath, jupyterDestin)\n",
    "\n",
    "    file1 = 'fit_LR_groupSelection_correlationThresholds.py'\n",
    "    file1path = os.path.join(os.path.abspath(\"\"), file1)\n",
    "    file1destin = os.path.join(outputFolder, 'code', file1)\n",
    "    shutil.copyfile(file1path, file1destin)\n",
    "\n",
    "    user = os.path.expanduser(\"~\")\n",
    "    file2 = os.path.join(user, 'Documents/git/git_icrpythonradiomics/machineLearning/featureSelection.py')\n",
    "    shutil.copyfile(file2, os.path.join(outputFolder, 'code', 'featureSelection.py'))\n",
    "\n",
    "else:\n",
    "    \n",
    "    saveOutputs = False"
   ]
  },
  {
   "cell_type": "markdown",
   "metadata": {},
   "source": [
    "### Utility functions"
   ]
  },
  {
   "cell_type": "code",
   "execution_count": 3,
   "metadata": {
    "scrolled": false
   },
   "outputs": [],
   "source": [
    "def groupStrsDisp(strGroups):\n",
    "    \n",
    "    def tidyGroup(strGroup):\n",
    "        if strGroup == '':\n",
    "            strGroup = 'all'\n",
    "        strGroup = strGroup.replace('glcm|gldm|glszm|glrlm|ngtdm','texture')\n",
    "        strGroup = strGroup.replace('firstorder|histogram','firstorder')\n",
    "        return strGroup\n",
    "\n",
    "    if isinstance(strGroups, str):\n",
    "        return tidyGroup(strGroups)\n",
    "    \n",
    "    if isinstance(strGroups, list):\n",
    "        return [tidyGroup(x) for x in strGroups]"
   ]
  },
  {
   "cell_type": "markdown",
   "metadata": {},
   "source": [
    "## Load data"
   ]
  },
  {
   "cell_type": "code",
   "execution_count": 4,
   "metadata": {
    "scrolled": false
   },
   "outputs": [],
   "source": [
    "# TRAINING DATA\n",
    "\n",
    "# open clinical spreadsheet\n",
    "clinicalSpreadsheet = os.path.join(rootFolder, 'ClinicalData', 'Clinical data for analysis.xlsx')\n",
    "dfClinical = pd.read_excel(clinicalSpreadsheet, sheet_name='220818_Completed segs', header = 2, skiprows=[3], nrows=170, engine='openpyxl')\n",
    "dfClinical.sort_values('Anon Code', inplace=True, ignore_index=True)\n",
    "\n",
    "# simplify grade\n",
    "dfClinical['Grade_1_234'] = dfClinical['Grade']==1\n",
    "dfClinical['Grade_12_34'] = dfClinical['Grade']<=2\n",
    "\n",
    "# binarised outcome data\n",
    "cutoffYears = 1.5\n",
    "cutoffDays = cutoffYears*365\n",
    "\n",
    "# Recurrence data are for local (arfs) and distant (dmfs) metastases\n",
    "# Combine these into an overall recurrence status, i.e. if either arfs==1 or dmfs==1 then rfs==1, and then the \n",
    "# recurrence time is the shorter of the two\n",
    "dfClinical.drop(['rfs', 't_rfs'], inplace=True, axis=1)\n",
    "dfClinical['rfs'] = np.logical_or(dfClinical['arfs']==1, dfClinical['dmfs']==1).astype(int)\n",
    "dfClinical['t_rfs'] = dfClinical[['t_arfs', 't_dmfs']].min(axis=1)\n",
    "\n",
    "def binarizeOutcome(df, new_val1, new_val2, old_val2, feat_time, feat_event, new_feat_name):\n",
    "\n",
    "    df[new_feat_name] = new_val1\n",
    "    df.loc[df[feat_time] >= cutoffDays, new_feat_name] = new_val2\n",
    "    df.loc[np.logical_and(df[feat_time] < cutoffDays, df[feat_event] == old_val2), new_feat_name] = 'Unknown'\n",
    "\n",
    "binarizeOutcome(dfClinical, 'Event', 'No event', 'Alive', 't_os', 'os', 'overall_survival')\n",
    "binarizeOutcome(dfClinical, 'Event', 'No event', 0, 't_dmfs', 'dmfs', 'distant_recurrence')\n",
    "binarizeOutcome(dfClinical, 'Event', 'No event', 0, 't_arfs', 'arfs', 'local_recurrence')\n",
    "binarizeOutcome(dfClinical, 'Event', 'No event', 0, 't_rfs', 'rfs', 'any_recurrence')\n",
    "\n",
    "# rename some clinical features that will be used in the outcome models\n",
    "# can use sub-string \"clinical\" to remove these features for models of tumour type and grade\n",
    "dfClinical['clinical_Age'] = dfClinical['Age']\n",
    "dfClinical['clinical_ECOG'] = dfClinical['ECOG at Diagnosis']\n",
    "sexMap = {'Female':0, 'Male':1}\n",
    "dfClinical['clinical_Sex'] = dfClinical.Sex.map(sexMap)\n",
    "dfClinical['clinical_Grade'] = dfClinical['Grade']    # don't binarize when using as input feature\n",
    "dfClinical['clinical_Size'] = dfClinical['Size ']\n",
    "subtypeMap = {'LMS':0, 'LPS':1}\n",
    "dfClinical['clinical_Subtype'] = dfClinical.subtype.map(subtypeMap)\n",
    "\n",
    "# Radiation_neoadj needed to exclude patients that had radiotherapy (3 patients)\n",
    "cols = ['Anon Code', \n",
    "        'Grade_1_234', \n",
    "        'Grade_12_34', \n",
    "        'subtype', \n",
    "        'overall_survival', \n",
    "        'distant_recurrence',\n",
    "        'local_recurrence',\n",
    "        'any_recurrence',\n",
    "        'Radiation_neoadj',\n",
    "        'clinical_Sex',\n",
    "        'clinical_Grade',\n",
    "        'clinical_Size',\n",
    "        'clinical_Subtype',\n",
    "        'clinical_ECOG']\n",
    "#         'clinical_Age',   # is in dicom header for 66/89 EORTC patients\n",
    "\n",
    "dfClinical = dfClinical[cols]\n",
    "\n",
    "\n",
    "# TEST DATA\n",
    "\n",
    "# open clinical spreadsheet\n",
    "clinicalSpreadsheetTest = os.path.join(rootFolder, 'ClinicalData', 'EORTC_Radsarc_Clindata.xlsx')\n",
    "dfClinicalTest = pd.read_excel(clinicalSpreadsheetTest, sheet_name='Completed segs_for analysis', engine='openpyxl')\n",
    "dfClinicalTest['Anon Code'] = ['EORTCRSRC_' + str(int(x)).zfill(3) for x in dfClinicalTest['PATID']]\n",
    "\n",
    "# simplify grade\n",
    "dfClinicalTest['Grade_1_234'] = dfClinicalTest['grade']==1\n",
    "dfClinicalTest['Grade_12_34'] = dfClinicalTest['grade']<=2\n",
    "\n",
    "# make rfs data\n",
    "\n",
    "dfClinicalTest['rfs'] = np.logical_or(dfClinicalTest['arfs2']==1, dfClinicalTest['dmfs']==1).astype(int)\n",
    "dfClinicalTest['t_rfs'] = dfClinicalTest[['t_arfs2', 't_dmfs']].min(axis=1)\n",
    "\n",
    "# binarised outcome data\n",
    "binarizeOutcome(dfClinicalTest, 'Event', 'No event', 1, 't_ss', 'ss', 'overall_survival')\n",
    "binarizeOutcome(dfClinicalTest, 'Event', 'No event', 1, 't_dmfs', 'dmfs', 'distant_recurrence')\n",
    "binarizeOutcome(dfClinicalTest, 'Event', 'No event', 1, 't_arfs2', 'arfs2', 'local_recurrence')\n",
    "binarizeOutcome(dfClinicalTest, 'Event', 'No event', 1, 't_rfs', 'rfs', 'any_recurrence')\n",
    "\n",
    "# add this column to match training data\n",
    "dfClinicalTest['Radiation_neoadj'] = 0\n",
    "\n",
    "dfClinicalTest['clinical_Sex'] = dfClinicalTest.Sex.map(sexMap)\n",
    "dfClinicalTest['clinical_Grade'] = dfClinicalTest['grade']\n",
    "dfClinicalTest['clinical_Size'] = dfClinicalTest['rpmeasim']\n",
    "dfClinicalTest['clinical_Subtype'] = dfClinicalTest.subtype.map(subtypeMap)\n",
    "dfClinicalTest['clinical_ECOG'] = dfClinicalTest['whoel']\n",
    "dfClinicalTest = dfClinicalTest[cols]\n"
   ]
  },
  {
   "cell_type": "code",
   "execution_count": 5,
   "metadata": {
    "scrolled": false
   },
   "outputs": [],
   "source": [
    "def readRadData(folder):\n",
    "    df = pd.read_csv(os.path.join(rootFolder, 'XNAT', 'extractions', folder, 'radiomicFeatures', 'radiomicFeatures.csv'))\n",
    "    df.drop(list(df.filter(regex = 'source')), axis = 1, inplace = True)\n",
    "    df.drop(list(df.filter(regex = 'diagnostic')), axis = 1, inplace = True)\n",
    "    df.drop(list(df.filter(regex = 'histogram')), axis = 1, inplace = True)\n",
    "    return df\n",
    "\n",
    "# training\n",
    "dfRad = readRadData('extractions__20221122_1628_allRegions_volFracApprox')\n",
    "\n",
    "# reproducibility\n",
    "dfRadRep = readRadData('extractions__20221122_2037_repro_volFracApprox')\n",
    "\n",
    "# open test data\n",
    "dfRadTest = readRadData('extractions__20221125_0939_eortcTestData')"
   ]
  },
  {
   "cell_type": "markdown",
   "metadata": {},
   "source": [
    "## Compute ICCs and remove unreproducible features"
   ]
  },
  {
   "cell_type": "code",
   "execution_count": 6,
   "metadata": {
    "scrolled": false
   },
   "outputs": [],
   "source": [
    "dfRadOri = dfRad.copy()\n",
    "\n",
    "subjectIDs = dfRadOri.merge(dfRadRep, on='StudyPatientName').StudyPatientName\n",
    "\n",
    "# select rows and make sure they are both sorted on SubjectID\n",
    "dfRadOri = dfRadOri.loc[dfRadOri['StudyPatientName'].isin(subjectIDs)]\n",
    "dfRadOri.sort_values('StudyPatientName', axis=0, inplace=True)\n",
    "\n",
    "dfRadRep = dfRadRep.loc[dfRadRep['StudyPatientName'].isin(subjectIDs)]\n",
    "dfRadRep.sort_values('StudyPatientName', axis=0, inplace=True)\n",
    "\n",
    "# remove high/mid/low_enhancing features\n",
    "dfRadOri.drop(list(dfRadOri.filter(regex = 'low_enhancing_original')), axis = 1, inplace = True)\n",
    "dfRadRep.drop(list(dfRadRep.filter(regex = 'low_enhancing_original')), axis = 1, inplace = True)\n",
    "dfRadOri.drop(list(dfRadOri.filter(regex = 'mid_enhancing_original')), axis = 1, inplace = True)\n",
    "dfRadRep.drop(list(dfRadRep.filter(regex = 'mid_enhancing_original')), axis = 1, inplace = True)\n",
    "dfRadOri.drop(list(dfRadOri.filter(regex = 'high_enhancing_original')), axis = 1, inplace = True)\n",
    "dfRadRep.drop(list(dfRadRep.filter(regex = 'high_enhancing_original')), axis = 1, inplace = True)\n",
    "\n",
    "# remove these features\n",
    "dfRadOri.drop(list(dfRadOri.filter(regex = 'calcificationDeleted')), axis = 1, inplace = True)\n",
    "dfRadRep.drop(list(dfRadRep.filter(regex = 'calcificationDeleted')), axis = 1, inplace = True)\n",
    "\n",
    "dfRadOri.reset_index(inplace=True)\n",
    "dfRadRep.reset_index(inplace=True)\n",
    "\n",
    "iccValues = []\n",
    "featNames = []\n",
    "for col in dfRadOri.columns:\n",
    "    if col == 'StudyPatientName' or col=='index':\n",
    "        continue\n",
    "    data = np.stack((dfRadOri[col], dfRadRep[col]), axis=1)\n",
    "    featNames.append(col)\n",
    "    iccValues.append(intraclass_correlation(data, \"twoway\", \"agreement\").value)\n",
    "iccDf = pd.DataFrame({'Feature':featNames, 'ICC':iccValues})\n",
    "\n",
    "iccThreshold = 0.75\n",
    "\n",
    "reproducibleFeatures = list(iccDf.Feature[iccDf.ICC>iccThreshold])\n",
    "reproducibleFeatures.append('StudyPatientName')\n",
    "\n",
    "dfRad = dfRad.filter(reproducibleFeatures)\n",
    "dfRadTest = dfRadTest.filter(reproducibleFeatures)"
   ]
  },
  {
   "cell_type": "markdown",
   "metadata": {},
   "source": [
    "## Log transform positive skewed parameters"
   ]
  },
  {
   "cell_type": "code",
   "execution_count": 7,
   "metadata": {
    "scrolled": false
   },
   "outputs": [],
   "source": [
    "def makeLog(df, feat, offset=0):\n",
    "    df[feat+'_log'] = np.log(df[feat]+offset)\n",
    "    df.drop(feat, axis=1, inplace=True)\n",
    "    return df\n",
    "\n",
    "for feat in dfRad.filter(regex='lesion_original', axis=1).columns:\n",
    "    if skew(dfRad[feat])>3 and np.all(dfRad[feat]>0):\n",
    "        dfRad = makeLog(dfRad, feat)\n",
    "        dfRadTest = makeLog(dfRadTest, feat)\n",
    "\n",
    "# this is heavily skewed, but has minimum value -87\n",
    "dfRad = makeLog(dfRad, 'lesion_original_glcm_ClusterShade', offset=90)\n",
    "dfRadTest = makeLog(dfRadTest, 'lesion_original_glcm_ClusterShade', offset=90)"
   ]
  },
  {
   "cell_type": "code",
   "execution_count": 8,
   "metadata": {
    "scrolled": true
   },
   "outputs": [],
   "source": [
    "def featureClassDensities(df_Train, df_Test, featureClass, spSize):\n",
    "    f,a = plt.subplots(spSize[0], spSize[1], figsize=(20,12))\n",
    "    a = a.ravel()\n",
    "    for n, feat in enumerate(df_Train.filter(regex = featureClass, axis = 1).columns):\n",
    "        df1 = pd.DataFrame(df_Train[feat].copy())\n",
    "        df1['Data'] = 'train'\n",
    "        df2 = pd.DataFrame(df_Test[feat].copy())\n",
    "        df2['Data'] = 'test'\n",
    "        dfPlot = pd.concat([df1, df2])\n",
    "        dfPlot.reset_index(drop=True, inplace=True)\n",
    "        featPlot = feat.replace('lesion_original_' + featureClass + '_','')\n",
    "        dfPlot.rename(columns={feat:featPlot}, inplace=True)\n",
    "        sns.kdeplot(data=dfPlot, x=featPlot, hue='Data', ax = a[n], common_grid=True, common_norm=False)\n",
    "\n",
    "if False:\n",
    "    featureClassDensities(dfRad.filter(regex='lesion_original'), dfRadTest.filter(regex='lesion_original'), 'shape', (3, 5))\n",
    "    featureClassDensities(dfRad.filter(regex='lesion_original'), dfRadTest.filter(regex='lesion_original'), 'firstorder', (3,6))\n",
    "    featureClassDensities(dfRad.filter(regex='lesion_original'), dfRadTest.filter(regex='lesion_original'), 'glcm', (4,6))\n",
    "    featureClassDensities(dfRad.filter(regex='lesion_original'), dfRadTest.filter(regex='lesion_original'), 'glrlm', (4,4))\n",
    "    featureClassDensities(dfRad.filter(regex='lesion_original'), dfRadTest.filter(regex='lesion_original'), 'glszm', (4,4))\n",
    "    featureClassDensities(dfRad.filter(regex='lesion_original'), dfRadTest.filter(regex='lesion_original'), 'gldm', (3,5))\n",
    "    featureClassDensities(dfRad.filter(regex='lesion_original'), dfRadTest.filter(regex='lesion_original'), 'ngtdm', (2,3))\n"
   ]
  },
  {
   "cell_type": "markdown",
   "metadata": {},
   "source": [
    "## Useful functions"
   ]
  },
  {
   "cell_type": "code",
   "execution_count": 9,
   "metadata": {
    "scrolled": false
   },
   "outputs": [],
   "source": [
    "def prepData(dfC, dfR, target, featureSet, removeTargetUnknown=True, replaceTargetUnknown=None, removeRxPatients=False):\n",
    "    \n",
    "    df = dfC.merge(dfR, left_on='Anon Code', right_on='StudyPatientName')\n",
    "    df.drop('Anon Code', axis=1, inplace=True)\n",
    "    df.drop('StudyPatientName', axis=1, inplace=True)\n",
    "    \n",
    "    # remove any patients that had radiotherapy\n",
    "    if removeRxPatients:\n",
    "        df = df.loc[df['Radiation_neoadj']!=1,:]\n",
    "    \n",
    "    df = df.filter(regex=featureSet + '|' + target)\n",
    "\n",
    "    # replace any instances where target = 'Unknown' by replaceTargetUnknown\n",
    "    if replaceTargetUnknown is not None:\n",
    "        df.loc[df[target] == 'Unknown',target] = replaceTargetUnknown\n",
    "        \n",
    "    if removeTargetUnknown:\n",
    "        df = df.loc[df[target] != 'Unknown',:]\n",
    "        \n",
    "        \n",
    "    \n",
    "    return df\n",
    "\n",
    "def fitModelOrLoadSaved(df, target, settings, qlf):\n",
    "    \n",
    "    if os.path.exists(qlf):\n",
    "        with open(qlf, 'rb') as handle:\n",
    "            result = pickle.load(handle)\n",
    "    else:\n",
    "        result = fit_LR_groupSelection_correlationThresholds(df, target, settings)\n",
    "\n",
    "        if saveOutputs:\n",
    "            with open(qlf, 'wb') as handle:\n",
    "                pickle.dump(result, handle)\n",
    "\n",
    "    return copy.deepcopy(result)\n",
    "\n",
    "def getTrainTestResults(result):\n",
    "    \n",
    "    # find best model i.e. across all thresholds\n",
    "    AUROC_cv = np.array([np.mean(x['cv_result']['test_score']) for x in result['experiments']])\n",
    "    idx = np.argmax(AUROC_cv)\n",
    "    bestExperiment = result['experiments'][idx]\n",
    "\n",
    "    trainScore = bestExperiment['model'].predict_proba(df.drop(target, axis=1))\n",
    "    testScore = bestExperiment['model'].predict_proba(dfTest.drop(target, axis=1))\n",
    "    \n",
    "    aucTest = roc_auc_score(dfTest[target], testScore[:,1])\n",
    "    classLabels = list(set(dfTest[target]))\n",
    " \n",
    "    if aucTest>0.6:\n",
    "        # get p-value on test data\n",
    "        testScores0 = testScore[dfTest[target]==classLabels[0],1]\n",
    "        testScores1 = testScore[dfTest[target]==classLabels[1],1]\n",
    "        _, pValue = mannwhitneyu(testScores0, testScores1, alternative='two-sided')\n",
    "        pValueStr = str(pValue)\n",
    "    else:\n",
    "        pValue = ''\n",
    "        pValueStr = 'not computed'\n",
    "        \n",
    "    nC0 = np.sum(df[target]==classLabels[0])\n",
    "    nC1 = np.sum(df[target]==classLabels[1])\n",
    "    nC0t = np.sum(dfTest[target]==classLabels[0])\n",
    "    nC1t = np.sum(dfTest[target]==classLabels[1])\n",
    "    aucTrainResub = roc_auc_score(df[target], trainScore[:,1])\n",
    "    aucTrainCV = np.mean(bestExperiment['cv_result']['test_score'])\n",
    "    \n",
    "    \n",
    "    print('train #      = ' + str(nC0 + nC1) + ' = ' + str(nC0) + ' : ' + str(nC1) + ' (' + str(np.round(100*nC0/(nC0+nC1),1)) + '%)')\n",
    "    print('train resub  = ' + str(np.round(aucTrainResub,3)))\n",
    "    print('train CV     = ' + str(np.round(aucTrainCV,3)))\n",
    "    print('test #       = ' + str(nC0t + nC1t) + ' = ' + str(nC0t) + ' : ' + str(nC1t) + ' (' + str(np.round(100*nC0t/(nC0t+nC1t),1)) + '%)')\n",
    "    print('test         = ' + str(np.round(aucTest,3)))\n",
    "    print('test p-value = ' + pValueStr)\n",
    "    print('\\n')\n",
    "\n",
    "    return {'nTrainA':nC0,\n",
    "            'nTrainB':nC1,\n",
    "            'nTestA':nC0t,\n",
    "            'nTestB':nC1t,\n",
    "            'AUC train resub':aucTrainResub,\n",
    "            'AUC train CV':aucTrainCV,\n",
    "            'AUC test':aucTest,\n",
    "            'p-value test':pValue}\n"
   ]
  },
  {
   "cell_type": "markdown",
   "metadata": {},
   "source": [
    "## Settings for different feature sets"
   ]
  },
  {
   "cell_type": "code",
   "execution_count": 10,
   "metadata": {},
   "outputs": [],
   "source": [
    "textureStr = 'glcm|gldm|glszm|glrlm|ngtdm'\n",
    "\n",
    "# variables are defined at the top of this notebook\n",
    "defaultSettings = {'n_splits':n_splits, \n",
    "                   'n_repeats':n_repeats,\n",
    "                   'thresholds':thresholds,\n",
    "                   'penalty':penalty\n",
    "                   }\n",
    "\n",
    "settingsDict = {}\n",
    "\n",
    "# standard features\n",
    "fs = 'lesion_original'\n",
    "settingsDict[fs] = defaultSettings.copy()\n",
    "settingsDict[fs]['name'] = 'Standard radiomics features'\n",
    "settingsDict[fs]['ID'] = 'standard'\n",
    "settingsDict[fs]['groupHierarchy'] = ['shape',\n",
    "                                      'firstorder',\n",
    "                                      textureStr,\n",
    "                                      'shape|firstorder',\n",
    "                                      'shape|' + textureStr,\n",
    "                                      'firstorder|' + textureStr,\n",
    "                                      '']\n",
    "settingsDict[fs]['correlationHierarchy'] = ['shape', 'firstorder']\n",
    "\n",
    "\n",
    "# volume fraction + standard features\n",
    "fs = 'lesion_original|VolumeFraction'\n",
    "settingsDict[fs] = defaultSettings.copy()\n",
    "settingsDict[fs]['name'] = 'Standard radiomics features + volume fraction'\n",
    "settingsDict[fs]['ID'] = 'volFrac'\n",
    "settingsDict[fs]['groupHierarchy'] = ['VolumeFraction',\n",
    "                                      'shape',\n",
    "                                      'firstorder',\n",
    "                                      textureStr,\n",
    "                                      'VolumeFraction|shape',\n",
    "                                      'VolumeFraction|firstorder',\n",
    "                                      'VolumeFraction|' + textureStr,\n",
    "                                      'shape|firstorder',\n",
    "                                      'shape|' + textureStr,\n",
    "                                      'firstorder|' + textureStr,\n",
    "                                      '']\n",
    "settingsDict[fs]['correlationHierarchy'] = ['VolumeFraction', 'shape', 'firstorder']\n",
    "\n",
    "\n",
    "# approximate volume fraction + standard features\n",
    "fs = 'lesion_original|ApproxVolFraction'\n",
    "settingsDict[fs] = defaultSettings.copy()\n",
    "settingsDict[fs]['name'] = 'Standard radiomics features + approximate volume fraction'\n",
    "settingsDict[fs]['ID'] = 'approxVolFrac'\n",
    "settingsDict[fs]['groupHierarchy'] = ['ApproxVolFraction',\n",
    "                                      'shape',\n",
    "                                      'firstorder',\n",
    "                                      textureStr,\n",
    "                                      'ApproxVolFraction|shape',\n",
    "                                      'ApproxVolFraction|firstorder',\n",
    "                                      'ApproxVolFraction|' + textureStr,\n",
    "                                      'shape|firstorder',\n",
    "                                      'shape|' + textureStr,\n",
    "                                      'firstorder|' + textureStr,\n",
    "                                      '']\n",
    "settingsDict[fs]['correlationHierarchy'] = ['ApproxVolFraction', 'shape', 'firstorder']\n",
    "\n",
    "# clinical features\n",
    "fs = 'clinical'\n",
    "settingsDict[fs] = defaultSettings.copy()\n",
    "settingsDict[fs]['name'] = 'Clinical features'\n",
    "settingsDict[fs]['ID'] = 'clinical'\n",
    "settingsDict[fs]['groupHierarchy'] = ['']\n",
    "settingsDict[fs]['correlationHierarchy'] = []\n",
    "\n",
    "# clinical + standard features\n",
    "fs = 'clinical|lesion_original'\n",
    "settingsDict[fs] = defaultSettings.copy()\n",
    "settingsDict[fs]['name'] = 'Clinical + standard radiomics features'\n",
    "settingsDict[fs]['ID'] = 'clinicalStandard'\n",
    "settingsDict[fs]['groupHierarchy'] = ['clinical',\n",
    "                                      'clinical|shape',\n",
    "                                      'clinical|firstorder',\n",
    "                                      'clinical|' + textureStr,\n",
    "                                      'clinical|shape|firstorder',\n",
    "                                      'clinical|shape|' + textureStr,\n",
    "                                      'clinical|firstorder|' + textureStr,\n",
    "                                      '']\n",
    "settingsDict[fs]['correlationHierarchy'] = ['clinical', 'shape', 'firstorder']\n",
    "\n",
    "# clinical + volume fraction + standard features\n",
    "fs = 'clinical|lesion_original|VolumeFraction'\n",
    "settingsDict[fs] = defaultSettings.copy()\n",
    "settingsDict[fs]['name'] = 'Clinical + standard radiomics features + volume fraction'\n",
    "settingsDict[fs]['ID'] = 'clinicalVolFrac'\n",
    "settingsDict[fs]['groupHierarchy'] = ['clinical',\n",
    "                                      'clinical|VolumeFraction',\n",
    "                                      'clinical|shape',\n",
    "                                      'clinical|firstorder',\n",
    "                                      'clinical|' + textureStr,\n",
    "                                      'clinical|VolumeFraction|shape',\n",
    "                                      'clinical|VolumeFraction|firstorder',\n",
    "                                      'clinical|VolumeFraction|' + textureStr,\n",
    "                                      'clinical|shape|firstorder',\n",
    "                                      'clinical|shape|' + textureStr,\n",
    "                                      'clinical|firstorder|' + textureStr,\n",
    "                                      '']\n",
    "settingsDict[fs]['correlationHierarchy'] = ['clinical', 'VolumeFraction', 'shape', 'firstorder']\n",
    "\n",
    "\n",
    "# clinical + approximate volume fraction + standard features\n",
    "fs = 'lesion_original|ApproxVolFraction'\n",
    "settingsDict[fs] = defaultSettings.copy()\n",
    "settingsDict[fs]['name'] = 'Clinical + standard radiomics features + approximate volume fraction'\n",
    "settingsDict[fs]['ID'] = 'clinicalApproxVolFrac'\n",
    "settingsDict[fs]['groupHierarchy'] = ['clinical|ApproxVolFraction',\n",
    "                                      'clinical|shape',\n",
    "                                      'clinical|firstorder',\n",
    "                                      'clinical|' + textureStr,\n",
    "                                      'clinical|ApproxVolFraction|shape',\n",
    "                                      'clinical|ApproxVolFraction|firstorder',\n",
    "                                      'clinical|ApproxVolFraction|' + textureStr,\n",
    "                                      'clinical|shape|firstorder',\n",
    "                                      'clinical|shape|' + textureStr,\n",
    "                                      'clinical|firstorder|' + textureStr,\n",
    "                                      '']\n",
    "settingsDict[fs]['correlationHierarchy'] = ['clinical', 'ApproxVolFraction', 'shape', 'firstorder']"
   ]
  },
  {
   "cell_type": "markdown",
   "metadata": {},
   "source": [
    "## Further settings for each target/feature set combination "
   ]
  },
  {
   "cell_type": "code",
   "execution_count": 11,
   "metadata": {},
   "outputs": [],
   "source": [
    "# featureSets = list(settingsDict.keys())\n",
    "# featureSets = ['clinical']\n",
    "# featureSets = ['clinical|lesion_original']\n",
    "featureSets = ['clinical|lesion_original|VolumeFraction', 'lesion_original|ApproxVolFraction']\n",
    "\n",
    "experiments = []\n",
    "\n",
    "# for target in ['subtype', 'Grade_1_234', 'Grade_12_34']:\n",
    "#     for featureSet in featureSets:\n",
    "#         experiments.append({'target':target,\n",
    "#                             'featureSet':featureSet,\n",
    "#                             'removeTargetUnknown':False,\n",
    "#                             'replaceTargetUnknown':None,\n",
    "#                             'removeRxPatients':False})\n",
    "\n",
    "for target in ['overall_survival', 'distant_recurrence', 'local_recurrence', 'any_recurrence']:\n",
    "    for featureSet in featureSets:\n",
    "        experiments.append({'target':target,\n",
    "                            'featureSet':featureSet,\n",
    "                            'removeTargetUnknown':True,\n",
    "                            'replaceTargetUnknown':None,\n",
    "                            'removeRxPatients':True})\n",
    "        experiments.append({'target':target,\n",
    "                            'featureSet':featureSet,\n",
    "                            'removeTargetUnknown':False,\n",
    "                            'replaceTargetUnknown':'No event',\n",
    "                            'removeRxPatients':True})\n"
   ]
  },
  {
   "cell_type": "markdown",
   "metadata": {},
   "source": [
    "### Run all experiments"
   ]
  },
  {
   "cell_type": "code",
   "execution_count": 12,
   "metadata": {
    "scrolled": false
   },
   "outputs": [
    {
     "name": "stdout",
     "output_type": "stream",
     "text": [
      "Experiment number 0\n",
      "Target      overall_survival\n",
      "Features    Clinical features\n",
      "Remove TU   True\n",
      "Replace TU  None\n",
      "Remove RX   True\n",
      "_\n",
      ".\n"
     ]
    },
    {
     "data": {
      "image/png": "[encoded data removed]",
      "text/plain": [
       "<Figure size 864x864 with 3 Axes>"
      ]
     },
     "metadata": {
      "needs_background": "light"
     },
     "output_type": "display_data"
    },
    {
     "name": "stdout",
     "output_type": "stream",
     "text": [
      "Threshold = 1\n",
      "AUROC (CV) = 0.8061\n",
      "\n",
      "Feature group = all\n",
      "\n"
     ]
    },
    {
     "data": {
      "text/html": [
       "<style  type=\"text/css\" >\n",
       "</style><table id=\"T_50e227f4_762f_11ed_9101_aa665a01691c\" ><thead>    <tr>        <th class=\"col_heading level0 col0\" >Feature</th>        <th class=\"col_heading level0 col1\" >Frequency</th>        <th class=\"col_heading level0 col2\" >Coef</th>    </tr></thead><tbody>\n",
       "                <tr>\n",
       "                                <td id=\"T_50e227f4_762f_11ed_9101_aa665a01691crow0_col0\" class=\"data row0 col0\" >clinical_Grade</td>\n",
       "                        <td id=\"T_50e227f4_762f_11ed_9101_aa665a01691crow0_col1\" class=\"data row0 col1\" >100.000</td>\n",
       "                        <td id=\"T_50e227f4_762f_11ed_9101_aa665a01691crow0_col2\" class=\"data row0 col2\" >-1.231</td>\n",
       "            </tr>\n",
       "            <tr>\n",
       "                                <td id=\"T_50e227f4_762f_11ed_9101_aa665a01691crow1_col0\" class=\"data row1 col0\" >clinical_ECOG</td>\n",
       "                        <td id=\"T_50e227f4_762f_11ed_9101_aa665a01691crow1_col1\" class=\"data row1 col1\" >100.000</td>\n",
       "                        <td id=\"T_50e227f4_762f_11ed_9101_aa665a01691crow1_col2\" class=\"data row1 col2\" >-0.343</td>\n",
       "            </tr>\n",
       "            <tr>\n",
       "                                <td id=\"T_50e227f4_762f_11ed_9101_aa665a01691crow2_col0\" class=\"data row2 col0\" >clinical_Sex</td>\n",
       "                        <td id=\"T_50e227f4_762f_11ed_9101_aa665a01691crow2_col1\" class=\"data row2 col1\" >98.000</td>\n",
       "                        <td id=\"T_50e227f4_762f_11ed_9101_aa665a01691crow2_col2\" class=\"data row2 col2\" >-0.277</td>\n",
       "            </tr>\n",
       "            <tr>\n",
       "                                <td id=\"T_50e227f4_762f_11ed_9101_aa665a01691crow3_col0\" class=\"data row3 col0\" >clinical_Size</td>\n",
       "                        <td id=\"T_50e227f4_762f_11ed_9101_aa665a01691crow3_col1\" class=\"data row3 col1\" >87.000</td>\n",
       "                        <td id=\"T_50e227f4_762f_11ed_9101_aa665a01691crow3_col2\" class=\"data row3 col2\" >0.198</td>\n",
       "            </tr>\n",
       "    </tbody></table>"
      ],
      "text/plain": [
       "<pandas.io.formats.style.Styler at 0x7f99697ae0b8>"
      ]
     },
     "metadata": {},
     "output_type": "display_data"
    },
    {
     "name": "stdout",
     "output_type": "stream",
     "text": [
      "train #      = 145 = 21 : 124 (14.5%)\n",
      "train resub  = 0.836\n",
      "train CV     = 0.806\n",
      "test #       = 87 = 5 : 82 (5.7%)\n",
      "test         = 0.779\n",
      "test p-value = 0.03760872993686764\n",
      "\n",
      "\n",
      "____________________\n",
      "Experiment number 1\n",
      "Target      distant_recurrence\n",
      "Features    Clinical features\n",
      "Remove TU   True\n",
      "Replace TU  None\n",
      "Remove RX   True\n",
      "_\n",
      ".\n"
     ]
    },
    {
     "data": {
      "image/png": "[encoded data removed]",
      "text/plain": [
       "<Figure size 864x864 with 3 Axes>"
      ]
     },
     "metadata": {
      "needs_background": "light"
     },
     "output_type": "display_data"
    },
    {
     "name": "stdout",
     "output_type": "stream",
     "text": [
      "Threshold = 1\n",
      "AUROC (CV) = 0.82892\n",
      "\n",
      "Feature group = all\n",
      "\n"
     ]
    },
    {
     "data": {
      "text/html": [
       "<style  type=\"text/css\" >\n",
       "</style><table id=\"T_53b97e26_762f_11ed_9d28_aa665a01691c\" ><thead>    <tr>        <th class=\"col_heading level0 col0\" >Feature</th>        <th class=\"col_heading level0 col1\" >Frequency</th>        <th class=\"col_heading level0 col2\" >Coef</th>    </tr></thead><tbody>\n",
       "                <tr>\n",
       "                                <td id=\"T_53b97e26_762f_11ed_9d28_aa665a01691crow0_col0\" class=\"data row0 col0\" >clinical_Grade</td>\n",
       "                        <td id=\"T_53b97e26_762f_11ed_9d28_aa665a01691crow0_col1\" class=\"data row0 col1\" >100.000</td>\n",
       "                        <td id=\"T_53b97e26_762f_11ed_9d28_aa665a01691crow0_col2\" class=\"data row0 col2\" >-1.247</td>\n",
       "            </tr>\n",
       "            <tr>\n",
       "                                <td id=\"T_53b97e26_762f_11ed_9d28_aa665a01691crow1_col0\" class=\"data row1 col0\" >clinical_Subtype</td>\n",
       "                        <td id=\"T_53b97e26_762f_11ed_9d28_aa665a01691crow1_col1\" class=\"data row1 col1\" >99.000</td>\n",
       "                        <td id=\"T_53b97e26_762f_11ed_9d28_aa665a01691crow1_col2\" class=\"data row1 col2\" >0.221</td>\n",
       "            </tr>\n",
       "            <tr>\n",
       "                                <td id=\"T_53b97e26_762f_11ed_9d28_aa665a01691crow2_col0\" class=\"data row2 col0\" >clinical_Sex</td>\n",
       "                        <td id=\"T_53b97e26_762f_11ed_9d28_aa665a01691crow2_col1\" class=\"data row2 col1\" >91.000</td>\n",
       "                        <td id=\"T_53b97e26_762f_11ed_9d28_aa665a01691crow2_col2\" class=\"data row2 col2\" >0.111</td>\n",
       "            </tr>\n",
       "            <tr>\n",
       "                                <td id=\"T_53b97e26_762f_11ed_9d28_aa665a01691crow3_col0\" class=\"data row3 col0\" >clinical_ECOG</td>\n",
       "                        <td id=\"T_53b97e26_762f_11ed_9d28_aa665a01691crow3_col1\" class=\"data row3 col1\" >79.000</td>\n",
       "                        <td id=\"T_53b97e26_762f_11ed_9d28_aa665a01691crow3_col2\" class=\"data row3 col2\" >-0.076</td>\n",
       "            </tr>\n",
       "    </tbody></table>"
      ],
      "text/plain": [
       "<pandas.io.formats.style.Styler at 0x7f996aa02470>"
      ]
     },
     "metadata": {},
     "output_type": "display_data"
    },
    {
     "name": "stdout",
     "output_type": "stream",
     "text": [
      "train #      = 139 = 28 : 111 (20.1%)\n",
      "train resub  = 0.845\n",
      "train CV     = 0.829\n",
      "test #       = 87 = 12 : 75 (13.8%)\n",
      "test         = 0.654\n",
      "test p-value = 0.08725023793150634\n",
      "\n",
      "\n",
      "____________________\n",
      "Experiment number 2\n",
      "Target      local_recurrence\n",
      "Features    Clinical features\n",
      "Remove TU   True\n",
      "Replace TU  None\n",
      "Remove RX   True\n",
      "_\n",
      ".\n"
     ]
    },
    {
     "data": {
      "image/png": "[encoded data removed]",
      "text/plain": [
       "<Figure size 864x864 with 3 Axes>"
      ]
     },
     "metadata": {
      "needs_background": "light"
     },
     "output_type": "display_data"
    },
    {
     "name": "stdout",
     "output_type": "stream",
     "text": [
      "Threshold = 1\n",
      "AUROC (CV) = 0.6189\n",
      "\n",
      "Feature group = all\n",
      "\n"
     ]
    },
    {
     "data": {
      "text/html": [
       "<style  type=\"text/css\" >\n",
       "</style><table id=\"T_56839d94_762f_11ed_84a6_aa665a01691c\" ><thead>    <tr>        <th class=\"col_heading level0 col0\" >Feature</th>        <th class=\"col_heading level0 col1\" >Frequency</th>        <th class=\"col_heading level0 col2\" >Coef</th>    </tr></thead><tbody>\n",
       "                <tr>\n",
       "                                <td id=\"T_56839d94_762f_11ed_84a6_aa665a01691crow0_col0\" class=\"data row0 col0\" >clinical_Grade</td>\n",
       "                        <td id=\"T_56839d94_762f_11ed_84a6_aa665a01691crow0_col1\" class=\"data row0 col1\" >100.000</td>\n",
       "                        <td id=\"T_56839d94_762f_11ed_84a6_aa665a01691crow0_col2\" class=\"data row0 col2\" >-0.290</td>\n",
       "            </tr>\n",
       "    </tbody></table>"
      ],
      "text/plain": [
       "<pandas.io.formats.style.Styler at 0x7f996aa3be80>"
      ]
     },
     "metadata": {},
     "output_type": "display_data"
    },
    {
     "name": "stdout",
     "output_type": "stream",
     "text": [
      "train #      = 130 = 16 : 114 (12.3%)\n",
      "train resub  = 0.679\n",
      "train CV     = 0.619\n",
      "test #       = 87 = 12 : 75 (13.8%)\n",
      "test         = 0.562\n",
      "test p-value = not computed\n",
      "\n",
      "\n",
      "____________________\n",
      "Experiment number 3\n",
      "Target      any_recurrence\n",
      "Features    Clinical features\n",
      "Remove TU   True\n",
      "Replace TU  None\n",
      "Remove RX   True\n",
      "_\n",
      ".\n"
     ]
    },
    {
     "data": {
      "image/png": "[encoded data removed]",
      "text/plain": [
       "<Figure size 864x864 with 3 Axes>"
      ]
     },
     "metadata": {
      "needs_background": "light"
     },
     "output_type": "display_data"
    },
    {
     "name": "stdout",
     "output_type": "stream",
     "text": [
      "Threshold = 1\n",
      "AUROC (CV) = 0.74399\n",
      "\n",
      "Feature group = all\n",
      "\n"
     ]
    },
    {
     "data": {
      "text/html": [
       "<style  type=\"text/css\" >\n",
       "</style><table id=\"T_595cc5e2_762f_11ed_8947_aa665a01691c\" ><thead>    <tr>        <th class=\"col_heading level0 col0\" >Feature</th>        <th class=\"col_heading level0 col1\" >Frequency</th>        <th class=\"col_heading level0 col2\" >Coef</th>    </tr></thead><tbody>\n",
       "                <tr>\n",
       "                                <td id=\"T_595cc5e2_762f_11ed_8947_aa665a01691crow0_col0\" class=\"data row0 col0\" >clinical_Grade</td>\n",
       "                        <td id=\"T_595cc5e2_762f_11ed_8947_aa665a01691crow0_col1\" class=\"data row0 col1\" >100.000</td>\n",
       "                        <td id=\"T_595cc5e2_762f_11ed_8947_aa665a01691crow0_col2\" class=\"data row0 col2\" >-0.932</td>\n",
       "            </tr>\n",
       "    </tbody></table>"
      ],
      "text/plain": [
       "<pandas.io.formats.style.Styler at 0x7f996a8d05c0>"
      ]
     },
     "metadata": {},
     "output_type": "display_data"
    },
    {
     "name": "stdout",
     "output_type": "stream",
     "text": [
      "train #      = 142 = 40 : 102 (28.2%)\n",
      "train resub  = 0.774\n",
      "train CV     = 0.744\n",
      "test #       = 79 = 10 : 69 (12.7%)\n",
      "test         = 0.604\n",
      "test p-value = 0.26565136637812525\n",
      "\n",
      "\n",
      "____________________\n",
      "Failed experiments = \n",
      "[]\n"
     ]
    }
   ],
   "source": [
    "dfResults = None\n",
    "\n",
    "failedExpID = []\n",
    "\n",
    "for nExp, experiment in enumerate(experiments):\n",
    "\n",
    "    # experiment settings\n",
    "    target = experiment['target']\n",
    "    featureSet = experiment['featureSet']\n",
    "    rmTU = experiment['removeTargetUnknown']\n",
    "    rpTU = experiment['replaceTargetUnknown']\n",
    "    rmRX = experiment['removeRxPatients']\n",
    "    \n",
    "    print('Experiment number ' + str(nExp))\n",
    "    zf = 12\n",
    "    print('Target'.ljust(zf) + target)\n",
    "    print('Features'.ljust(zf) + settingsDict[featureSet]['name'])\n",
    "    print('Remove TU'.ljust(zf) + str(rmTU))\n",
    "    print('Replace TU'.ljust(zf) + str(rpTU))\n",
    "    print('Remove RX'.ljust(zf) + str(rmRX))\n",
    "\n",
    "    try:\n",
    "                \n",
    "        df = prepData(dfClinical, dfRad, target, featureSet, removeTargetUnknown=rmTU, replaceTargetUnknown=rpTU, removeRxPatients=rmRX)\n",
    "        dfTest = prepData(dfClinicalTest, dfRadTest, target, featureSet, removeTargetUnknown=rmTU, replaceTargetUnknown=rpTU, removeRxPatients=rmRX)\n",
    "\n",
    "        fileName = '_'.join(['result', \n",
    "                             target,  \n",
    "                             settingsDict[featureSet]['ID'],\n",
    "                             str(rmTU),\n",
    "                             str(rpTU),\n",
    "                             str(rmRX)])\n",
    "        quickLoadFile = os.path.join(outputFolder, fileName + '.pickle')\n",
    "\n",
    "        modelFit = fitModelOrLoadSaved(df, target, settingsDict[featureSet], quickLoadFile)\n",
    "\n",
    "        if displayAll:\n",
    "            plotResultExperiments(modelFit, \n",
    "                                  titleStr=fileName.replace('result','').replace('_',' '),\n",
    "                                  outputFile=os.path.join(outputFolder, 'figures', fileName + '.pdf'))\n",
    "\n",
    "        bestCoef, pdFreq, bestThreshold, bestFeatureGroup = displayOneExperiment(modelFit)\n",
    "        pdFreq = pdFreq.loc[pdFreq.Coef!='',:] # trim off any coeff that aren't in the best model\n",
    "        display(pdFreq.style.hide_index())\n",
    "\n",
    "        result = getTrainTestResults(modelFit)\n",
    "\n",
    "        resultDict = experiment.copy()\n",
    "        resultDict = dict(resultDict, **result)\n",
    "        resultDict['threshold'] = bestThreshold\n",
    "        resultDict['feature group'] = bestFeatureGroup\n",
    "        resultDict['file name'] = fileName\n",
    "\n",
    "        if dfResults is None:\n",
    "            dfResults = pd.DataFrame([resultDict])\n",
    "        else:\n",
    "             dfResults = dfResults.append(resultDict, ignore_index=True)   \n",
    "\n",
    "        dfResults.to_excel(os.path.join(outputFolder, 'results.xlsx'), index=False)\n",
    "        \n",
    "    except:\n",
    "        print('FAILED')\n",
    "        failedExpID.append(nExp)\n",
    "        \n",
    "    \n",
    "    print('_'*20)\n",
    "\n",
    "print('Failed experiments = ')\n",
    "print(failedExpID)"
   ]
  },
  {
   "cell_type": "markdown",
   "metadata": {},
   "source": [
    "## Re-save the copy of this notebook once it is completed"
   ]
  },
  {
   "cell_type": "code",
   "execution_count": 13,
   "metadata": {
    "scrolled": false
   },
   "outputs": [
    {
     "data": {
      "application/javascript": [
       "IPython.notebook.save_checkpoint();"
      ],
      "text/plain": [
       "<IPython.core.display.Javascript object>"
      ]
     },
     "metadata": {},
     "output_type": "display_data"
    }
   ],
   "source": [
    "from IPython.display import display, Javascript\n",
    "import time\n",
    "\n",
    "# save current state of notebook and wait a bit as the actual save happens with a short delay\n",
    "display(Javascript('IPython.notebook.save_checkpoint();'))\n",
    "time.sleep(10)\n",
    "\n",
    "# copy notebook to output folder\n",
    "if saveOutputs:\n",
    "    jupyterFile = os.path.join(os.path.abspath(\"\"), 'LR_GroupSelection_withValidation_andOutcome.ipynb')\n",
    "    shutil.copyfile(jupyterFile, os.path.join(outputFolder, 'code', 'LR_GroupSelection_withValidation_andOutcome.ipynb'))"
   ]
  }
 ],
 "metadata": {
  "kernelspec": {
   "display_name": "pythonMatt",
   "language": "python",
   "name": "pythonmatt"
  },
  "language_info": {
   "codemirror_mode": {
    "name": "ipython",
    "version": 3
   },
   "file_extension": ".py",
   "mimetype": "text/x-python",
   "name": "python",
   "nbconvert_exporter": "python",
   "pygments_lexer": "ipython3",
   "version": "3.6.8"
  }
 },
 "nbformat": 4,
 "nbformat_minor": 2
}
